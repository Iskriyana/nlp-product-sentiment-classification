{
 "cells": [
  {
   "cell_type": "code",
   "execution_count": 1,
   "metadata": {},
   "outputs": [],
   "source": [
    "import keras\n",
    "import matplotlib.pyplot as plt\n",
    "import numpy as np\n",
    "import os\n",
    "import pandas as pd\n",
    "import pickle\n",
    "import sys\n",
    "import tensorflow as tf\n",
    "\n",
    "from keras import layers\n",
    "from keras import models\n",
    "from keras import utils\n",
    "from keras.utils import to_categorical\n",
    "from tensorflow import keras\n",
    "\n",
    "# This tokenizer is nice, but could cause problems.\n",
    "try:\n",
    "    from nltk.tokenize.moses import MosesDetokenizer\n",
    "    detokenizer = MosesDetokenizer()\n",
    "    use_moses_detokenizer = True\n",
    "except:\n",
    "    use_moses_detokenizer = False\n",
    "\n",
    "%matplotlib inline"
   ]
  },
  {
   "cell_type": "markdown",
   "metadata": {},
   "source": [
    "# Parameters"
   ]
  },
  {
   "cell_type": "code",
   "execution_count": 2,
   "metadata": {},
   "outputs": [],
   "source": [
    "# folders\n",
    "home = os.getenv(\"HOME\")\n",
    "nlp_repo = os.path.join(home, 'git/nlp-product-sentiment-classification')\n",
    "\n",
    "# Data\n",
    "train_csv_path = os.path.join(nlp_repo, 'data/03_processed/Train.csv')\n",
    "train_descr = pd.read_csv(train_csv_path)\n",
    "\n",
    "test_csv_path = os.path.join(nlp_repo, 'data/03_processed/Test.csv')\n",
    "test_descr = pd.read_csv(test_csv_path)\n",
    "\n",
    "# Encoded Tokens\n",
    "preprocessed_corpus_path = os.path.join(\n",
    "    nlp_repo, 'data/03_processed/product_descr_preprocessed.p')\n",
    "\n",
    "indices_test_path = os.path.join(\n",
    "    nlp_repo, 'data/03_processed/indices_test_path.p')\n",
    "\n",
    "# Training parameters\n",
    "train_anyway = False\n",
    "model_path = \"product_descr.h5\"\n",
    "#dataset_size = 500\n",
    "epochs = 10\n",
    "batch_size = 128\n",
    "hidden_size = 1000"
   ]
  },
  {
   "cell_type": "markdown",
   "metadata": {},
   "source": [
    "# Turning the Encoded Sequences into a Tensorflow Dataset"
   ]
  },
  {
   "cell_type": "code",
   "execution_count": 3,
   "metadata": {},
   "outputs": [
    {
     "data": {
      "text/html": [
       "<div>\n",
       "<style scoped>\n",
       "    .dataframe tbody tr th:only-of-type {\n",
       "        vertical-align: middle;\n",
       "    }\n",
       "\n",
       "    .dataframe tbody tr th {\n",
       "        vertical-align: top;\n",
       "    }\n",
       "\n",
       "    .dataframe thead th {\n",
       "        text-align: right;\n",
       "    }\n",
       "</style>\n",
       "<table border=\"1\" class=\"dataframe\">\n",
       "  <thead>\n",
       "    <tr style=\"text-align: right;\">\n",
       "      <th></th>\n",
       "      <th>Text_ID</th>\n",
       "      <th>Product_Description</th>\n",
       "      <th>Product_Type</th>\n",
       "    </tr>\n",
       "  </thead>\n",
       "  <tbody>\n",
       "    <tr>\n",
       "      <th>0</th>\n",
       "      <td>5786</td>\n",
       "      <td>RT @mention Going to #SXSW? The new iPhone gui...</td>\n",
       "      <td>7</td>\n",
       "    </tr>\n",
       "    <tr>\n",
       "      <th>1</th>\n",
       "      <td>5363</td>\n",
       "      <td>RT @mention 95% of iPhone and Droid apps have ...</td>\n",
       "      <td>9</td>\n",
       "    </tr>\n",
       "    <tr>\n",
       "      <th>2</th>\n",
       "      <td>6716</td>\n",
       "      <td>RT @mention Thank you to @mention for letting ...</td>\n",
       "      <td>9</td>\n",
       "    </tr>\n",
       "    <tr>\n",
       "      <th>3</th>\n",
       "      <td>4339</td>\n",
       "      <td>#Thanks @mention we're lovin' the @mention app...</td>\n",
       "      <td>7</td>\n",
       "    </tr>\n",
       "    <tr>\n",
       "      <th>4</th>\n",
       "      <td>66</td>\n",
       "      <td>At #sxsw? @mention / @mention wanna buy you a ...</td>\n",
       "      <td>9</td>\n",
       "    </tr>\n",
       "  </tbody>\n",
       "</table>\n",
       "</div>"
      ],
      "text/plain": [
       "   Text_ID                                Product_Description  Product_Type\n",
       "0     5786  RT @mention Going to #SXSW? The new iPhone gui...             7\n",
       "1     5363  RT @mention 95% of iPhone and Droid apps have ...             9\n",
       "2     6716  RT @mention Thank you to @mention for letting ...             9\n",
       "3     4339  #Thanks @mention we're lovin' the @mention app...             7\n",
       "4       66  At #sxsw? @mention / @mention wanna buy you a ...             9"
      ]
     },
     "execution_count": 3,
     "metadata": {},
     "output_type": "execute_result"
    }
   ],
   "source": [
    "test_descr.head()"
   ]
  },
  {
   "cell_type": "code",
   "execution_count": 4,
   "metadata": {},
   "outputs": [],
   "source": [
    "indices_train, vocabulary = pd.read_pickle(preprocessed_corpus_path)"
   ]
  },
  {
   "cell_type": "code",
   "execution_count": 5,
   "metadata": {},
   "outputs": [],
   "source": [
    "indices_test, _ = pd.read_pickle(indices_test_path)"
   ]
  },
  {
   "cell_type": "markdown",
   "metadata": {},
   "source": [
    "Sources:\n",
    "* TF dataset: https://stackoverflow.com/questions/58362316/how-do-i-go-from-pandas-dataframe-to-tensorflow-batchdataset-for-nlp"
   ]
  },
  {
   "cell_type": "code",
   "execution_count": 6,
   "metadata": {},
   "outputs": [],
   "source": [
    "train_descr_original = tf.keras.preprocessing.sequence.pad_sequences(\n",
    "    indices_train, padding='post', value=len(vocabulary))\n",
    "train_labels_original = train_descr['Sentiment'].to_numpy().flatten()"
   ]
  },
  {
   "cell_type": "code",
   "execution_count": 7,
   "metadata": {},
   "outputs": [],
   "source": [
    "test_descr_original = tf.keras.preprocessing.sequence.pad_sequences(\n",
    "    indices_test, padding='post', value=len(vocabulary))\n",
    "# test_labels_original = test_descr['Sentiment'].to_numpy().flatten() #not given in the Test.csv"
   ]
  },
  {
   "cell_type": "code",
   "execution_count": 8,
   "metadata": {},
   "outputs": [
    {
     "name": "stdout",
     "output_type": "stream",
     "text": [
      "[[ 154 3719  294 ... 7119 7119 7119]\n",
      " [   4    1   24 ... 7119 7119 7119]\n",
      " [ 451    6   22 ... 7119 7119 7119]\n",
      " ...\n",
      " [   4    1    4 ... 7119 7119 7119]\n",
      " [ 204  256   16 ... 7119 7119 7119]\n",
      " [   5   13 7118 ... 7119 7119 7119]]\n",
      "(6364, 25)\n",
      "[2 2 2 ... 2 2 2]\n",
      "[[   4    1   21 ... 7119 7119 7119]\n",
      " [   4    1    7 ... 7119 7119 7119]\n",
      " [   4    1   73 ... 7119 7119 7119]\n",
      " ...\n",
      " [  64    5  184 ... 7119 7119 7119]\n",
      " [   4    1    0 ... 7119 7119 7119]\n",
      " [ 190    5   92 ... 7119 7119 7119]]\n"
     ]
    }
   ],
   "source": [
    "print(train_descr_original)\n",
    "print(train_descr_original.shape)\n",
    "print(train_labels_original)\n",
    "print(test_descr_original)"
   ]
  },
  {
   "cell_type": "code",
   "execution_count": 9,
   "metadata": {},
   "outputs": [],
   "source": [
    "dimensions_descr = len(vocabulary)\n",
    "dimensions_labels = len(set(train_descr['Sentiment']))"
   ]
  },
  {
   "cell_type": "markdown",
   "metadata": {},
   "source": [
    "#### Train & Validation Split"
   ]
  },
  {
   "cell_type": "code",
   "execution_count": 10,
   "metadata": {},
   "outputs": [],
   "source": [
    "split_index = int(0.8 * len(train_descr_original))"
   ]
  },
  {
   "cell_type": "code",
   "execution_count": 11,
   "metadata": {},
   "outputs": [],
   "source": [
    "train_ds_original = tf.data.Dataset.from_tensor_slices(\n",
    "    (train_descr_original[:split_index], train_labels_original[:split_index])).cache()\n",
    "\n",
    "train_ds_emb = tf.data.Dataset.from_tensor_slices(\n",
    "    (train_descr_original[:split_index], tf.one_hot(indices=train_labels_original[:split_index], depth=dimensions_labels))).cache()"
   ]
  },
  {
   "cell_type": "code",
   "execution_count": 12,
   "metadata": {},
   "outputs": [],
   "source": [
    "validation_ds_original = tf.data.Dataset.from_tensor_slices(\n",
    "    (train_descr_original[split_index:], train_labels_original[split_index:])).cache()\n",
    "\n",
    "validation_ds_emb = tf.data.Dataset.from_tensor_slices(\n",
    "    (train_descr_original[split_index:], tf.one_hot(indices=train_labels_original[split_index:], depth=dimensions_labels))).cache()"
   ]
  },
  {
   "cell_type": "code",
   "execution_count": 13,
   "metadata": {},
   "outputs": [],
   "source": [
    "# test_ds_original = tf.data.Dataset.from_tensor_slices(\n",
    "#    (test_descr_original[split_index:], test_labels_original[split_index:])).cache()"
   ]
  },
  {
   "cell_type": "markdown",
   "metadata": {},
   "source": [
    "#### Transformation"
   ]
  },
  {
   "cell_type": "markdown",
   "metadata": {},
   "source": [
    "#### Check, if transformation went ok"
   ]
  },
  {
   "cell_type": "code",
   "execution_count": 14,
   "metadata": {},
   "outputs": [],
   "source": [
    "train_test_descr, train_test_label = list(train_ds_original.take(1))[0]"
   ]
  },
  {
   "cell_type": "code",
   "execution_count": 15,
   "metadata": {},
   "outputs": [
    {
     "data": {
      "text/plain": [
       "array([ 154, 3719,  294,  450,   17,   11,   18,    1,    2,    0, 7119,\n",
       "       7119, 7119, 7119, 7119, 7119, 7119, 7119, 7119, 7119, 7119, 7119,\n",
       "       7119, 7119, 7119], dtype=int32)"
      ]
     },
     "execution_count": 15,
     "metadata": {},
     "output_type": "execute_result"
    }
   ],
   "source": [
    "train_test_descr.numpy()"
   ]
  },
  {
   "cell_type": "code",
   "execution_count": 16,
   "metadata": {},
   "outputs": [
    {
     "data": {
      "text/plain": [
       "2"
      ]
     },
     "execution_count": 16,
     "metadata": {},
     "output_type": "execute_result"
    }
   ],
   "source": [
    "train_test_label.numpy()  # .reshape(-1,).shape"
   ]
  },
  {
   "cell_type": "code",
   "execution_count": 17,
   "metadata": {},
   "outputs": [],
   "source": [
    "train_test_descr_emb, train_test_label_emb = list(train_ds_emb.take(1))[0]"
   ]
  },
  {
   "cell_type": "code",
   "execution_count": 18,
   "metadata": {},
   "outputs": [
    {
     "data": {
      "text/plain": [
       "array([0., 0., 1., 0.], dtype=float32)"
      ]
     },
     "execution_count": 18,
     "metadata": {},
     "output_type": "execute_result"
    }
   ],
   "source": [
    "train_test_label_emb.numpy()"
   ]
  },
  {
   "cell_type": "code",
   "execution_count": 19,
   "metadata": {},
   "outputs": [],
   "source": [
    "# ToDo: import from utils"
   ]
  },
  {
   "cell_type": "code",
   "execution_count": 20,
   "metadata": {},
   "outputs": [],
   "source": [
    "def decode_indices(indices, vocabulary):\n",
    "    \"\"\" Decodes a sequence of indices and returns a string. \"\"\"\n",
    "    # adding an extra item for padding in order to keep the decoding correct after padding\n",
    "    # if we use the default value 0 for padding, it would be translated to one of our tokens\n",
    "    vocabulary.append('padding')\n",
    "    decoded_tokens = [vocabulary[index] for index in indices]\n",
    "    if use_moses_detokenizer == True:\n",
    "        return detokenizer.detokenize(decoded_tokens, return_str=True)\n",
    "    else:\n",
    "        return \" \".join(decoded_tokens)"
   ]
  },
  {
   "cell_type": "code",
   "execution_count": 21,
   "metadata": {},
   "outputs": [
    {
     "data": {
      "text/plain": [
       "'web designeruas guide ios android app today mention link sxsw padding padding padding padding padding padding padding padding padding padding padding padding padding padding padding'"
      ]
     },
     "execution_count": 21,
     "metadata": {},
     "output_type": "execute_result"
    }
   ],
   "source": [
    "decoded_train_test_descr = decode_indices(train_test_descr, vocabulary)\n",
    "decoded_train_test_descr"
   ]
  },
  {
   "cell_type": "code",
   "execution_count": 22,
   "metadata": {},
   "outputs": [],
   "source": [
    "#test_test_descr = list(test_ds_original.take(1))[0]\n",
    "#decoded_test_test_descr = decode_indices(test_test_descr, vocabulary)\n",
    "# decoded_test_test_descr"
   ]
  },
  {
   "cell_type": "markdown",
   "metadata": {},
   "source": [
    "# Bag-of-Words"
   ]
  },
  {
   "cell_type": "markdown",
   "metadata": {},
   "source": [
    "* Bag-of-words will be used as a baseline model. \n",
    "* Its advantages are that it is fairly easy and quick to build. \n",
    "* The downside is that bag-of-words does not perserve the order of the sentence. As a result the structure of a sentence is lost. \n",
    "* RNNs & 1D ConvNets will be tried later in order to remedy this."
   ]
  },
  {
   "cell_type": "markdown",
   "metadata": {},
   "source": [
    "### One Hot Encoding"
   ]
  },
  {
   "cell_type": "code",
   "execution_count": 23,
   "metadata": {},
   "outputs": [],
   "source": [
    "def one_hot_encode(indices, labels):\n",
    "    indices = tf.dtypes.cast(indices, tf.int32)\n",
    "    descr_encoded = tf.one_hot(indices=indices, depth=dimensions_descr)\n",
    "    # takes the maximum in order to create one element\n",
    "    descr_encoded = tf.reduce_max(descr_encoded, 0)\n",
    "\n",
    "    label_encoded = tf.one_hot(indices=labels, depth=dimensions_labels)\n",
    "    return descr_encoded, label_encoded"
   ]
  },
  {
   "cell_type": "markdown",
   "metadata": {},
   "source": [
    "Compare before and after one-hot-encoding"
   ]
  },
  {
   "cell_type": "code",
   "execution_count": 24,
   "metadata": {},
   "outputs": [
    {
     "name": "stdout",
     "output_type": "stream",
     "text": [
      "(25,)\n",
      "[ 154 3719  294  450   17   11   18    1    2    0 7119 7119 7119 7119\n",
      " 7119 7119 7119 7119 7119 7119 7119 7119 7119 7119 7119]\n",
      "111451\n",
      "2\n"
     ]
    }
   ],
   "source": [
    "random_descr_orig, random_label_orig = list(train_ds_original.take(1))[0]\n",
    "print(random_descr_orig.shape)\n",
    "print(random_descr_orig.numpy())\n",
    "print(np.sum(random_descr_orig))\n",
    "print(random_label_orig.numpy())"
   ]
  },
  {
   "cell_type": "code",
   "execution_count": 25,
   "metadata": {},
   "outputs": [],
   "source": [
    "train_ds = train_ds_original.map(\n",
    "    lambda descr, label: one_hot_encode(descr, label)).cache()\n",
    "\n",
    "validation_ds = validation_ds_original.map(\n",
    "    lambda descr, label: one_hot_encode(descr, label)).cache()\n",
    "\n",
    "# test_ds = test_ds_original.map(\n",
    "#    lambda descr, label: one_hot_encode(descr, label)).cache()"
   ]
  },
  {
   "cell_type": "code",
   "execution_count": 26,
   "metadata": {},
   "outputs": [
    {
     "name": "stdout",
     "output_type": "stream",
     "text": [
      "(7119,)\n",
      "[1. 1. 1. ... 0. 0. 0.]\n",
      "10.0\n",
      "tf.Tensor([0. 0. 1. 0.], shape=(4,), dtype=float32)\n",
      "(4,)\n"
     ]
    }
   ],
   "source": [
    "random_descr, random_label = list(train_ds.take(1))[0]\n",
    "print(random_descr.shape)\n",
    "print(random_descr.numpy())\n",
    "print(np.sum(random_descr))\n",
    "print(random_label)\n",
    "print(random_label.shape)"
   ]
  },
  {
   "cell_type": "code",
   "execution_count": 27,
   "metadata": {},
   "outputs": [
    {
     "name": "stdout",
     "output_type": "stream",
     "text": [
      "(7119,)\n",
      "[1. 1. 0. ... 0. 0. 0.]\n",
      "15.0\n",
      "tf.Tensor([0. 0. 1. 0.], shape=(4,), dtype=float32)\n"
     ]
    }
   ],
   "source": [
    "random_descr_val, random_label_val = list(validation_ds.take(1))[0]\n",
    "print(random_descr_val.shape)\n",
    "print(random_descr_val.numpy())\n",
    "print(np.sum(random_descr_val))\n",
    "print(random_label_val)"
   ]
  },
  {
   "cell_type": "markdown",
   "metadata": {},
   "source": [
    "# Fully Connected NN & Bag of Words"
   ]
  },
  {
   "cell_type": "code",
   "execution_count": 28,
   "metadata": {},
   "outputs": [
    {
     "name": "stdout",
     "output_type": "stream",
     "text": [
      "Model: \"sequential\"\n",
      "_________________________________________________________________\n",
      "Layer (type)                 Output Shape              Param #   \n",
      "=================================================================\n",
      "dense (Dense)                (None, 16)                113920    \n",
      "_________________________________________________________________\n",
      "dropout (Dropout)            (None, 16)                0         \n",
      "_________________________________________________________________\n",
      "dense_1 (Dense)              (None, 16)                272       \n",
      "_________________________________________________________________\n",
      "dropout_1 (Dropout)          (None, 16)                0         \n",
      "_________________________________________________________________\n",
      "dense_2 (Dense)              (None, 4)                 68        \n",
      "=================================================================\n",
      "Total params: 114,260\n",
      "Trainable params: 114,260\n",
      "Non-trainable params: 0\n",
      "_________________________________________________________________\n"
     ]
    }
   ],
   "source": [
    "model = models.Sequential()\n",
    "\n",
    "model.add(layers.Dense(16, activation='relu',\n",
    "                       input_shape=(dimensions_descr, )))\n",
    "model.add(layers.Dropout(0.75))\n",
    "model.add(layers.Dense(16, activation='relu'))\n",
    "model.add(layers.Dropout(0.75))\n",
    "model.add(layers.Dense(4, activation='softmax'))\n",
    "\n",
    "model.summary()\n",
    "\n",
    "model.compile(\n",
    "    optimizer='adam',\n",
    "    loss='categorical_crossentropy',\n",
    "    metrics=['accuracy']\n",
    ")"
   ]
  },
  {
   "cell_type": "code",
   "execution_count": 29,
   "metadata": {},
   "outputs": [
    {
     "name": "stdout",
     "output_type": "stream",
     "text": [
      "Epoch 1/20\n",
      "160/160 [==============================] - 1s 7ms/step - loss: 1.2231 - accuracy: 0.5180 - val_loss: 1.0200 - val_accuracy: 0.5766\n",
      "Epoch 2/20\n",
      "160/160 [==============================] - 0s 2ms/step - loss: 1.0556 - accuracy: 0.5822 - val_loss: 0.9431 - val_accuracy: 0.5766\n",
      "Epoch 3/20\n",
      "160/160 [==============================] - 0s 2ms/step - loss: 0.9944 - accuracy: 0.5887 - val_loss: 0.9210 - val_accuracy: 0.5766\n",
      "Epoch 4/20\n",
      "160/160 [==============================] - 0s 2ms/step - loss: 0.9620 - accuracy: 0.5926 - val_loss: 0.9063 - val_accuracy: 0.5766\n",
      "Epoch 5/20\n",
      "160/160 [==============================] - 0s 2ms/step - loss: 0.9257 - accuracy: 0.5965 - val_loss: 0.8975 - val_accuracy: 0.5766\n",
      "Epoch 6/20\n",
      "160/160 [==============================] - 0s 1ms/step - loss: 0.9135 - accuracy: 0.5962 - val_loss: 0.8923 - val_accuracy: 0.5766\n",
      "Epoch 7/20\n",
      "160/160 [==============================] - 0s 2ms/step - loss: 0.8972 - accuracy: 0.5985 - val_loss: 0.8877 - val_accuracy: 0.5766\n",
      "Epoch 8/20\n",
      "160/160 [==============================] - 0s 2ms/step - loss: 0.8782 - accuracy: 0.5997 - val_loss: 0.8817 - val_accuracy: 0.5766\n",
      "Epoch 9/20\n",
      "160/160 [==============================] - 0s 1ms/step - loss: 0.8690 - accuracy: 0.5987 - val_loss: 0.8778 - val_accuracy: 0.5766\n",
      "Epoch 10/20\n",
      "160/160 [==============================] - 0s 2ms/step - loss: 0.8601 - accuracy: 0.6018 - val_loss: 0.8745 - val_accuracy: 0.5766\n",
      "Epoch 11/20\n",
      "160/160 [==============================] - 0s 2ms/step - loss: 0.8485 - accuracy: 0.6111 - val_loss: 0.8692 - val_accuracy: 0.5774\n",
      "Epoch 12/20\n",
      "160/160 [==============================] - 0s 1ms/step - loss: 0.8268 - accuracy: 0.6119 - val_loss: 0.8682 - val_accuracy: 0.5782\n",
      "Epoch 13/20\n",
      "160/160 [==============================] - 0s 1ms/step - loss: 0.8165 - accuracy: 0.6246 - val_loss: 0.8619 - val_accuracy: 0.5907\n",
      "Epoch 14/20\n",
      "160/160 [==============================] - 0s 1ms/step - loss: 0.8049 - accuracy: 0.6244 - val_loss: 0.8602 - val_accuracy: 0.5962\n",
      "Epoch 15/20\n",
      "160/160 [==============================] - 0s 2ms/step - loss: 0.7920 - accuracy: 0.6303 - val_loss: 0.8665 - val_accuracy: 0.6112\n",
      "Epoch 16/20\n",
      "160/160 [==============================] - 0s 2ms/step - loss: 0.7814 - accuracy: 0.6282 - val_loss: 0.8646 - val_accuracy: 0.6206\n",
      "Epoch 17/20\n",
      "160/160 [==============================] - 0s 2ms/step - loss: 0.7693 - accuracy: 0.6447 - val_loss: 0.8618 - val_accuracy: 0.6284\n",
      "Epoch 18/20\n",
      "160/160 [==============================] - 0s 2ms/step - loss: 0.7625 - accuracy: 0.6435 - val_loss: 0.8722 - val_accuracy: 0.6308\n",
      "Epoch 19/20\n",
      "160/160 [==============================] - 0s 2ms/step - loss: 0.7343 - accuracy: 0.6449 - val_loss: 0.8742 - val_accuracy: 0.6308\n",
      "Epoch 20/20\n",
      "160/160 [==============================] - 0s 2ms/step - loss: 0.7347 - accuracy: 0.6553 - val_loss: 0.8865 - val_accuracy: 0.6347\n"
     ]
    }
   ],
   "source": [
    "history = model.fit(\n",
    "    train_ds.batch(32),\n",
    "    epochs=20,\n",
    "    validation_data=validation_ds.batch(32)\n",
    ")"
   ]
  },
  {
   "cell_type": "code",
   "execution_count": 30,
   "metadata": {},
   "outputs": [
    {
     "data": {
      "image/png": "[encoded data removed]",
      "text/plain": [
       "<Figure size 432x288 with 1 Axes>"
      ]
     },
     "metadata": {
      "needs_background": "light"
     },
     "output_type": "display_data"
    },
    {
     "data": {
      "image/png": "[encoded data removed]",
      "text/plain": [
       "<Figure size 432x288 with 1 Axes>"
      ]
     },
     "metadata": {
      "needs_background": "light"
     },
     "output_type": "display_data"
    }
   ],
   "source": [
    "loss = history.history['loss']\n",
    "val_loss = history.history['val_loss']\n",
    "acc = history.history['accuracy']\n",
    "val_acc = history.history['val_accuracy']\n",
    "\n",
    "\n",
    "epochs = range(1, len(acc) + 1)\n",
    "\n",
    "plt.plot(epochs, loss, 'bo', label='Training loss')\n",
    "plt.plot(epochs, val_loss, 'b', label='Validation loss')\n",
    "plt.title('Training and validation loss')\n",
    "plt.legend()\n",
    "\n",
    "plt.figure()\n",
    "\n",
    "plt.plot(epochs, acc, 'bo', label='Training acc')\n",
    "plt.plot(epochs, val_acc, 'b', label='Validation acc')\n",
    "plt.title('Training and validation accuracy')\n",
    "plt.legend()\n",
    "\n",
    "plt.show()"
   ]
  },
  {
   "cell_type": "markdown",
   "metadata": {},
   "source": [
    "# Fully Conneceted NN & Embeddings Layer"
   ]
  },
  {
   "cell_type": "code",
   "execution_count": 31,
   "metadata": {},
   "outputs": [],
   "source": [
    "vocabulary_size = len(vocabulary)\n",
    "embedding_size = 8\n",
    "sequence_length = np.max([len(x) for x in indices_train])"
   ]
  },
  {
   "cell_type": "code",
   "execution_count": 32,
   "metadata": {},
   "outputs": [
    {
     "name": "stdout",
     "output_type": "stream",
     "text": [
      "Model: \"sequential_1\"\n",
      "_________________________________________________________________\n",
      "Layer (type)                 Output Shape              Param #   \n",
      "=================================================================\n",
      "embedding (Embedding)        (None, 25, 8)             56960     \n",
      "_________________________________________________________________\n",
      "flatten (Flatten)            (None, 200)               0         \n",
      "_________________________________________________________________\n",
      "dense_3 (Dense)              (None, 16)                3216      \n",
      "_________________________________________________________________\n",
      "dropout_2 (Dropout)          (None, 16)                0         \n",
      "_________________________________________________________________\n",
      "dense_4 (Dense)              (None, 16)                272       \n",
      "_________________________________________________________________\n",
      "dropout_3 (Dropout)          (None, 16)                0         \n",
      "_________________________________________________________________\n",
      "dense_5 (Dense)              (None, 4)                 68        \n",
      "=================================================================\n",
      "Total params: 60,516\n",
      "Trainable params: 60,516\n",
      "Non-trainable params: 0\n",
      "_________________________________________________________________\n"
     ]
    }
   ],
   "source": [
    "model_emb = models.Sequential()\n",
    "\n",
    "model_emb.add(layers.Embedding(vocabulary_size,\n",
    "                               embedding_size, input_length=sequence_length))\n",
    "model_emb.add(layers.Flatten())\n",
    "model_emb.add(layers.Dense(16, activation='relu'))\n",
    "model_emb.add(layers.Dropout(0.75))\n",
    "model_emb.add(layers.Dense(16, activation='relu'))\n",
    "model_emb.add(layers.Dropout(0.75))\n",
    "model_emb.add(layers.Dense(4, activation='softmax'))\n",
    "\n",
    "model_emb.summary()\n",
    "\n",
    "model_emb.compile(\n",
    "    optimizer='adam',\n",
    "    loss='categorical_crossentropy',\n",
    "    metrics=['accuracy']\n",
    ")"
   ]
  },
  {
   "cell_type": "code",
   "execution_count": 33,
   "metadata": {},
   "outputs": [
    {
     "name": "stdout",
     "output_type": "stream",
     "text": [
      "Epoch 1/20\n",
      "160/160 [==============================] - 0s 2ms/step - loss: 1.2303 - accuracy: 0.5250 - val_loss: 1.0419 - val_accuracy: 0.5766\n",
      "Epoch 2/20\n",
      "160/160 [==============================] - 0s 2ms/step - loss: 1.0755 - accuracy: 0.5763 - val_loss: 0.9815 - val_accuracy: 0.5766\n",
      "Epoch 3/20\n",
      "160/160 [==============================] - 0s 1ms/step - loss: 0.9970 - accuracy: 0.5867 - val_loss: 0.9455 - val_accuracy: 0.5766\n",
      "Epoch 4/20\n",
      "160/160 [==============================] - 0s 1ms/step - loss: 0.9574 - accuracy: 0.5885 - val_loss: 0.9202 - val_accuracy: 0.5766\n",
      "Epoch 5/20\n",
      "160/160 [==============================] - 0s 2ms/step - loss: 0.9273 - accuracy: 0.5903 - val_loss: 0.9044 - val_accuracy: 0.5766\n",
      "Epoch 6/20\n",
      "160/160 [==============================] - 0s 2ms/step - loss: 0.8796 - accuracy: 0.5922 - val_loss: 0.8873 - val_accuracy: 0.5766\n",
      "Epoch 7/20\n",
      "160/160 [==============================] - 0s 2ms/step - loss: 0.8363 - accuracy: 0.5987 - val_loss: 0.8847 - val_accuracy: 0.5766\n",
      "Epoch 8/20\n",
      "160/160 [==============================] - 0s 1ms/step - loss: 0.7664 - accuracy: 0.6303 - val_loss: 0.8958 - val_accuracy: 0.6096\n",
      "Epoch 9/20\n",
      "160/160 [==============================] - 0s 1ms/step - loss: 0.7029 - accuracy: 0.7132 - val_loss: 0.9579 - val_accuracy: 0.6143\n",
      "Epoch 10/20\n",
      "160/160 [==============================] - 0s 1ms/step - loss: 0.6445 - accuracy: 0.7812 - val_loss: 1.0697 - val_accuracy: 0.6159\n",
      "Epoch 11/20\n",
      "160/160 [==============================] - 0s 1ms/step - loss: 0.5972 - accuracy: 0.8032 - val_loss: 1.1602 - val_accuracy: 0.5978\n",
      "Epoch 12/20\n",
      "160/160 [==============================] - 0s 1ms/step - loss: 0.5372 - accuracy: 0.8330 - val_loss: 1.2652 - val_accuracy: 0.5884\n",
      "Epoch 13/20\n",
      "160/160 [==============================] - 0s 1ms/step - loss: 0.5156 - accuracy: 0.8391 - val_loss: 1.3953 - val_accuracy: 0.5939\n",
      "Epoch 14/20\n",
      "160/160 [==============================] - 0s 1ms/step - loss: 0.4954 - accuracy: 0.8440 - val_loss: 1.6415 - val_accuracy: 0.5931\n",
      "Epoch 15/20\n",
      "160/160 [==============================] - 0s 1ms/step - loss: 0.4592 - accuracy: 0.8596 - val_loss: 1.6721 - val_accuracy: 0.5805\n",
      "Epoch 16/20\n",
      "160/160 [==============================] - 0s 1ms/step - loss: 0.4545 - accuracy: 0.8578 - val_loss: 1.8525 - val_accuracy: 0.5892\n",
      "Epoch 17/20\n",
      "160/160 [==============================] - 0s 1ms/step - loss: 0.4413 - accuracy: 0.8607 - val_loss: 2.0166 - val_accuracy: 0.5805\n",
      "Epoch 18/20\n",
      "160/160 [==============================] - 0s 1ms/step - loss: 0.4324 - accuracy: 0.8643 - val_loss: 2.1113 - val_accuracy: 0.5876\n",
      "Epoch 19/20\n",
      "160/160 [==============================] - 0s 1ms/step - loss: 0.4248 - accuracy: 0.8651 - val_loss: 2.2938 - val_accuracy: 0.5852\n",
      "Epoch 20/20\n",
      "160/160 [==============================] - 0s 2ms/step - loss: 0.4201 - accuracy: 0.8664 - val_loss: 2.4115 - val_accuracy: 0.5876\n"
     ]
    }
   ],
   "source": [
    "history_emb = model_emb.fit(\n",
    "    train_ds_emb.shuffle(100).batch(32),\n",
    "    epochs=20,\n",
    "    validation_data=validation_ds_emb.batch(32)\n",
    ")"
   ]
  },
  {
   "cell_type": "code",
   "execution_count": 34,
   "metadata": {},
   "outputs": [
    {
     "data": {
      "image/png": "[encoded data removed]",
      "text/plain": [
       "<Figure size 432x288 with 1 Axes>"
      ]
     },
     "metadata": {
      "needs_background": "light"
     },
     "output_type": "display_data"
    },
    {
     "data": {
      "image/png": "[encoded data removed]",
      "text/plain": [
       "<Figure size 432x288 with 1 Axes>"
      ]
     },
     "metadata": {
      "needs_background": "light"
     },
     "output_type": "display_data"
    }
   ],
   "source": [
    "loss_emb = history_emb.history['loss']\n",
    "val_loss_emb = history_emb.history['val_loss']\n",
    "acc_emb = history_emb.history['accuracy']\n",
    "val_acc_emb = history_emb.history['val_accuracy']\n",
    "\n",
    "\n",
    "epochs = range(1, len(acc_emb) + 1)\n",
    "\n",
    "plt.plot(epochs, loss_emb, 'bo', label='Training loss')\n",
    "plt.plot(epochs, val_loss_emb, 'b', label='Validation loss')\n",
    "plt.title('Training and validation loss')\n",
    "plt.legend()\n",
    "\n",
    "plt.figure()\n",
    "\n",
    "plt.plot(epochs, acc_emb, 'bo', label='Training acc')\n",
    "plt.plot(epochs, val_acc_emb, 'b', label='Validation acc')\n",
    "plt.title('Training and validation accuracy')\n",
    "plt.legend()\n",
    "\n",
    "plt.show()"
   ]
  },
  {
   "cell_type": "markdown",
   "metadata": {},
   "source": [
    "# Fully Conneceted NN & Pre-Trained Embeddings Layer"
   ]
  },
  {
   "cell_type": "code",
   "execution_count": 35,
   "metadata": {},
   "outputs": [],
   "source": [
    "glove_dir = './glove.6B'"
   ]
  },
  {
   "cell_type": "code",
   "execution_count": 36,
   "metadata": {},
   "outputs": [
    {
     "name": "stdout",
     "output_type": "stream",
     "text": [
      "Found 400000 word vectors.\n"
     ]
    }
   ],
   "source": [
    "embeddings_index = {}\n",
    "\n",
    "f = open(os.path.join(glove_dir, 'glove.6B.100d.txt'))\n",
    "for line in f:\n",
    "    values = line.split()\n",
    "    word = values[0]\n",
    "    coefs = np.asarray(values[1:], dtype='float32')\n",
    "    embeddings_index[word] = coefs\n",
    "f.close()\n",
    "\n",
    "print('Found %s word vectors.' % len(embeddings_index))"
   ]
  },
  {
   "cell_type": "code",
   "execution_count": 37,
   "metadata": {},
   "outputs": [],
   "source": [
    "embedding_dim = 100"
   ]
  },
  {
   "cell_type": "code",
   "execution_count": 38,
   "metadata": {},
   "outputs": [],
   "source": [
    "# note that index 0 is reserved, never assigned to an existing word\n",
    "word_index = dict(zip(vocabulary, list(range(1, vocabulary_size + 1))))\n",
    "# word_index"
   ]
  },
  {
   "cell_type": "code",
   "execution_count": 39,
   "metadata": {},
   "outputs": [
    {
     "name": "stdout",
     "output_type": "stream",
     "text": [
      "(7120, 100)\n"
     ]
    }
   ],
   "source": [
    "embedding_matrix = np.zeros((vocabulary_size, embedding_dim))\n",
    "\n",
    "for word, i in word_index.items():\n",
    "    if i < len(vocabulary):\n",
    "        embedding_vector = embeddings_index.get(word)\n",
    "        if embedding_vector is not None:\n",
    "            embedding_matrix[i] = embedding_vector\n",
    "print(embedding_matrix.shape)"
   ]
  },
  {
   "cell_type": "code",
   "execution_count": 40,
   "metadata": {},
   "outputs": [
    {
     "name": "stdout",
     "output_type": "stream",
     "text": [
      "Model: \"sequential_2\"\n",
      "_________________________________________________________________\n",
      "Layer (type)                 Output Shape              Param #   \n",
      "=================================================================\n",
      "embedding_1 (Embedding)      (None, 25, 100)           712000    \n",
      "_________________________________________________________________\n",
      "flatten_1 (Flatten)          (None, 2500)              0         \n",
      "_________________________________________________________________\n",
      "dense_6 (Dense)              (None, 16)                40016     \n",
      "_________________________________________________________________\n",
      "dropout_4 (Dropout)          (None, 16)                0         \n",
      "_________________________________________________________________\n",
      "dense_7 (Dense)              (None, 16)                272       \n",
      "_________________________________________________________________\n",
      "dropout_5 (Dropout)          (None, 16)                0         \n",
      "_________________________________________________________________\n",
      "dense_8 (Dense)              (None, 4)                 68        \n",
      "=================================================================\n",
      "Total params: 752,356\n",
      "Trainable params: 40,356\n",
      "Non-trainable params: 712,000\n",
      "_________________________________________________________________\n"
     ]
    }
   ],
   "source": [
    "model_transf = models.Sequential()\n",
    "\n",
    "model_transf.add(layers.Embedding(vocabulary_size,\n",
    "                                  embedding_dim, input_length=sequence_length))\n",
    "\n",
    "model_transf.add(layers.Flatten())\n",
    "model_transf.add(layers.Dense(16, activation='relu'))\n",
    "model_transf.add(layers.Dropout(0.75))\n",
    "model_transf.add(layers.Dense(16, activation='relu'))\n",
    "model_transf.add(layers.Dropout(0.75))\n",
    "model_transf.add(layers.Dense(4, activation='softmax'))\n",
    "\n",
    "model_transf.layers[0].set_weights([embedding_matrix])  # !!!! important !!!!\n",
    "model_transf.layers[0].trainable = False\n",
    "\n",
    "model_transf.summary()\n",
    "\n",
    "model_transf.compile(\n",
    "    optimizer='adam',\n",
    "    loss='categorical_crossentropy',\n",
    "    metrics=['accuracy']\n",
    ")"
   ]
  },
  {
   "cell_type": "code",
   "execution_count": 41,
   "metadata": {},
   "outputs": [
    {
     "name": "stdout",
     "output_type": "stream",
     "text": [
      "Epoch 1/20\n",
      "160/160 [==============================] - 0s 2ms/step - loss: 1.3146 - accuracy: 0.5639 - val_loss: 1.1695 - val_accuracy: 0.5766\n",
      "Epoch 2/20\n",
      "160/160 [==============================] - 0s 2ms/step - loss: 1.0970 - accuracy: 0.5908 - val_loss: 1.0151 - val_accuracy: 0.5766\n",
      "Epoch 3/20\n",
      "160/160 [==============================] - 0s 1ms/step - loss: 1.0218 - accuracy: 0.5938 - val_loss: 0.9693 - val_accuracy: 0.5766\n",
      "Epoch 4/20\n",
      "160/160 [==============================] - 0s 1ms/step - loss: 0.9979 - accuracy: 0.5952 - val_loss: 0.9546 - val_accuracy: 0.5766\n",
      "Epoch 5/20\n",
      "160/160 [==============================] - 0s 1ms/step - loss: 0.9752 - accuracy: 0.5948 - val_loss: 0.9475 - val_accuracy: 0.5766\n",
      "Epoch 6/20\n",
      "160/160 [==============================] - 0s 1ms/step - loss: 0.9648 - accuracy: 0.5954 - val_loss: 0.9436 - val_accuracy: 0.5766\n",
      "Epoch 7/20\n",
      "160/160 [==============================] - 0s 2ms/step - loss: 0.9627 - accuracy: 0.5958 - val_loss: 0.9426 - val_accuracy: 0.5766\n",
      "Epoch 8/20\n",
      "160/160 [==============================] - 0s 2ms/step - loss: 0.9546 - accuracy: 0.5954 - val_loss: 0.9417 - val_accuracy: 0.5766\n",
      "Epoch 9/20\n",
      "160/160 [==============================] - 0s 2ms/step - loss: 0.9536 - accuracy: 0.5948 - val_loss: 0.9414 - val_accuracy: 0.5766\n",
      "Epoch 10/20\n",
      "160/160 [==============================] - 0s 1ms/step - loss: 0.9420 - accuracy: 0.5950 - val_loss: 0.9408 - val_accuracy: 0.5766\n",
      "Epoch 11/20\n",
      "160/160 [==============================] - 0s 2ms/step - loss: 0.9434 - accuracy: 0.5956 - val_loss: 0.9407 - val_accuracy: 0.5766\n",
      "Epoch 12/20\n",
      "160/160 [==============================] - 0s 2ms/step - loss: 0.9423 - accuracy: 0.5952 - val_loss: 0.9407 - val_accuracy: 0.5766\n",
      "Epoch 13/20\n",
      "160/160 [==============================] - 0s 2ms/step - loss: 0.9381 - accuracy: 0.5952 - val_loss: 0.9407 - val_accuracy: 0.5766\n",
      "Epoch 14/20\n",
      "160/160 [==============================] - 0s 1ms/step - loss: 0.9335 - accuracy: 0.5954 - val_loss: 0.9406 - val_accuracy: 0.5766\n",
      "Epoch 15/20\n",
      "160/160 [==============================] - 0s 1ms/step - loss: 0.9279 - accuracy: 0.5956 - val_loss: 0.9404 - val_accuracy: 0.5766\n",
      "Epoch 16/20\n",
      "160/160 [==============================] - 0s 1ms/step - loss: 0.9325 - accuracy: 0.5954 - val_loss: 0.9404 - val_accuracy: 0.5766\n",
      "Epoch 17/20\n",
      "160/160 [==============================] - 0s 2ms/step - loss: 0.9291 - accuracy: 0.5950 - val_loss: 0.9405 - val_accuracy: 0.5766\n",
      "Epoch 18/20\n",
      "160/160 [==============================] - 0s 1ms/step - loss: 0.9245 - accuracy: 0.5954 - val_loss: 0.9404 - val_accuracy: 0.5766\n",
      "Epoch 19/20\n",
      "160/160 [==============================] - 0s 1ms/step - loss: 0.9236 - accuracy: 0.5950 - val_loss: 0.9403 - val_accuracy: 0.5766\n",
      "Epoch 20/20\n",
      "160/160 [==============================] - 0s 1ms/step - loss: 0.9234 - accuracy: 0.5954 - val_loss: 0.9402 - val_accuracy: 0.5766\n"
     ]
    }
   ],
   "source": [
    "history_transf = model_transf.fit(\n",
    "    train_ds_emb.shuffle(100).batch(32),\n",
    "    epochs=20,\n",
    "    validation_data=validation_ds_emb.batch(32)\n",
    ")"
   ]
  },
  {
   "cell_type": "code",
   "execution_count": 42,
   "metadata": {},
   "outputs": [
    {
     "data": {
      "image/png": "[encoded data removed]",
      "text/plain": [
       "<Figure size 432x288 with 1 Axes>"
      ]
     },
     "metadata": {
      "needs_background": "light"
     },
     "output_type": "display_data"
    },
    {
     "data": {
      "image/png": "[encoded data removed]",
      "text/plain": [
       "<Figure size 432x288 with 1 Axes>"
      ]
     },
     "metadata": {
      "needs_background": "light"
     },
     "output_type": "display_data"
    }
   ],
   "source": [
    "loss_transf = history_transf.history['loss']\n",
    "val_loss_transf = history_transf.history['val_loss']\n",
    "acc_transf = history_transf.history['accuracy']\n",
    "val_acc_transf = history_transf.history['val_accuracy']\n",
    "\n",
    "\n",
    "epochs = range(1, len(acc_emb) + 1)\n",
    "\n",
    "plt.plot(epochs, loss_transf, 'bo', label='Training loss')\n",
    "plt.plot(epochs, val_loss_transf, 'b', label='Validation loss')\n",
    "plt.title('Training and validation loss')\n",
    "plt.legend()\n",
    "\n",
    "plt.figure()\n",
    "\n",
    "plt.plot(epochs, acc_transf, 'bo', label='Training acc')\n",
    "plt.plot(epochs, val_acc_transf, 'b', label='Validation acc')\n",
    "plt.title('Training and validation accuracy')\n",
    "plt.legend()\n",
    "\n",
    "plt.show()"
   ]
  },
  {
   "cell_type": "markdown",
   "metadata": {},
   "source": [
    "# LSTM"
   ]
  },
  {
   "cell_type": "code",
   "execution_count": 43,
   "metadata": {},
   "outputs": [
    {
     "name": "stdout",
     "output_type": "stream",
     "text": [
      "Model: \"sequential_3\"\n",
      "_________________________________________________________________\n",
      "Layer (type)                 Output Shape              Param #   \n",
      "=================================================================\n",
      "embedding_2 (Embedding)      (None, 25, 100)           712000    \n",
      "_________________________________________________________________\n",
      "lstm (LSTM)                  (None, 32)                17024     \n",
      "_________________________________________________________________\n",
      "dense_9 (Dense)              (None, 16)                528       \n",
      "_________________________________________________________________\n",
      "dropout_6 (Dropout)          (None, 16)                0         \n",
      "_________________________________________________________________\n",
      "dense_10 (Dense)             (None, 16)                272       \n",
      "_________________________________________________________________\n",
      "dropout_7 (Dropout)          (None, 16)                0         \n",
      "_________________________________________________________________\n",
      "dense_11 (Dense)             (None, 4)                 68        \n",
      "=================================================================\n",
      "Total params: 729,892\n",
      "Trainable params: 17,892\n",
      "Non-trainable params: 712,000\n",
      "_________________________________________________________________\n"
     ]
    }
   ],
   "source": [
    "model_lstm = models.Sequential()\n",
    "\n",
    "model_lstm.add(layers.Embedding(vocabulary_size,\n",
    "                                embedding_dim, input_length=sequence_length))\n",
    "\n",
    "# model_lstm.add(layers.Flatten())\n",
    "# Option 1\n",
    "model_lstm.add(layers.LSTM(32))\n",
    "\n",
    "# Option 2\n",
    "# model.add(layers.LSTM(32, return_sequences=True)) # stacking of LSTMs\n",
    "# model.add(layers.LSTM(32)) # the size of the hidden state, randomly defined\n",
    "model_lstm.add(layers.Dense(16, activation='relu'))\n",
    "model_lstm.add(layers.Dropout(0.5))\n",
    "model_lstm.add(layers.Dense(16, activation='relu'))\n",
    "model_lstm.add(layers.Dropout(0.5))\n",
    "model_lstm.add(layers.Dense(4, activation='softmax'))\n",
    "\n",
    "model_lstm.layers[0].set_weights([embedding_matrix])  # !!!! important !!!!\n",
    "model_lstm.layers[0].trainable = False\n",
    "\n",
    "model_lstm.summary()\n",
    "\n",
    "model_lstm.compile(\n",
    "    optimizer='adam',\n",
    "    loss='categorical_crossentropy',\n",
    "    metrics=['accuracy']\n",
    ")"
   ]
  },
  {
   "cell_type": "code",
   "execution_count": 44,
   "metadata": {},
   "outputs": [
    {
     "name": "stdout",
     "output_type": "stream",
     "text": [
      "Epoch 1/20\n",
      "160/160 [==============================] - 2s 10ms/step - loss: 1.0935 - accuracy: 0.5302 - val_loss: 0.9628 - val_accuracy: 0.5766\n",
      "Epoch 2/20\n",
      "160/160 [==============================] - 1s 8ms/step - loss: 0.9856 - accuracy: 0.5789 - val_loss: 0.9274 - val_accuracy: 0.5766\n",
      "Epoch 3/20\n",
      "160/160 [==============================] - 1s 9ms/step - loss: 0.9361 - accuracy: 0.5893 - val_loss: 0.9128 - val_accuracy: 0.5766\n",
      "Epoch 4/20\n",
      "160/160 [==============================] - 1s 8ms/step - loss: 0.9179 - accuracy: 0.5942 - val_loss: 0.9047 - val_accuracy: 0.5766\n",
      "Epoch 5/20\n",
      "160/160 [==============================] - 1s 8ms/step - loss: 0.9194 - accuracy: 0.5944 - val_loss: 0.9010 - val_accuracy: 0.5766\n",
      "Epoch 6/20\n",
      "160/160 [==============================] - 1s 7ms/step - loss: 0.8916 - accuracy: 0.5958 - val_loss: 0.8974 - val_accuracy: 0.5766\n",
      "Epoch 7/20\n",
      "160/160 [==============================] - 1s 8ms/step - loss: 0.8801 - accuracy: 0.5956 - val_loss: 0.9082 - val_accuracy: 0.5766\n",
      "Epoch 8/20\n",
      "160/160 [==============================] - 1s 8ms/step - loss: 0.8718 - accuracy: 0.5944 - val_loss: 0.9017 - val_accuracy: 0.5766\n",
      "Epoch 9/20\n",
      "160/160 [==============================] - 1s 8ms/step - loss: 0.8556 - accuracy: 0.5956 - val_loss: 0.9199 - val_accuracy: 0.5766\n",
      "Epoch 10/20\n",
      "160/160 [==============================] - 1s 8ms/step - loss: 0.8457 - accuracy: 0.5946 - val_loss: 0.8902 - val_accuracy: 0.5766\n",
      "Epoch 11/20\n",
      "160/160 [==============================] - 1s 8ms/step - loss: 0.8385 - accuracy: 0.5985 - val_loss: 0.9289 - val_accuracy: 0.5766\n",
      "Epoch 12/20\n",
      "160/160 [==============================] - 1s 8ms/step - loss: 0.8267 - accuracy: 0.6087 - val_loss: 0.9070 - val_accuracy: 0.5734\n",
      "Epoch 13/20\n",
      "160/160 [==============================] - 1s 8ms/step - loss: 0.8052 - accuracy: 0.6119 - val_loss: 0.9404 - val_accuracy: 0.5711\n",
      "Epoch 14/20\n",
      "160/160 [==============================] - 1s 8ms/step - loss: 0.7921 - accuracy: 0.6235 - val_loss: 1.0051 - val_accuracy: 0.5742\n",
      "Epoch 15/20\n",
      "160/160 [==============================] - 1s 8ms/step - loss: 0.7812 - accuracy: 0.6280 - val_loss: 0.9472 - val_accuracy: 0.5766\n",
      "Epoch 16/20\n",
      "160/160 [==============================] - 1s 8ms/step - loss: 0.7756 - accuracy: 0.6354 - val_loss: 1.0381 - val_accuracy: 0.5742\n",
      "Epoch 17/20\n",
      "160/160 [==============================] - 1s 9ms/step - loss: 0.7772 - accuracy: 0.6435 - val_loss: 1.0097 - val_accuracy: 0.5821\n",
      "Epoch 18/20\n",
      "160/160 [==============================] - 1s 7ms/step - loss: 0.7457 - accuracy: 0.6588 - val_loss: 1.0086 - val_accuracy: 0.5774\n",
      "Epoch 19/20\n",
      "160/160 [==============================] - 1s 8ms/step - loss: 0.7427 - accuracy: 0.6515 - val_loss: 1.0380 - val_accuracy: 0.5719\n",
      "Epoch 20/20\n",
      "160/160 [==============================] - 1s 7ms/step - loss: 0.7290 - accuracy: 0.6610 - val_loss: 1.1492 - val_accuracy: 0.5695\n"
     ]
    }
   ],
   "source": [
    "history_lstm = model_lstm.fit(\n",
    "    train_ds_emb.shuffle(100).batch(32),\n",
    "    epochs=20,\n",
    "    validation_data=validation_ds_emb.batch(32)\n",
    ")"
   ]
  },
  {
   "cell_type": "code",
   "execution_count": 45,
   "metadata": {},
   "outputs": [
    {
     "data": {
      "image/png": "[encoded data removed]",
      "text/plain": [
       "<Figure size 432x288 with 1 Axes>"
      ]
     },
     "metadata": {
      "needs_background": "light"
     },
     "output_type": "display_data"
    },
    {
     "data": {
      "image/png": "[encoded data removed]",
      "text/plain": [
       "<Figure size 432x288 with 1 Axes>"
      ]
     },
     "metadata": {
      "needs_background": "light"
     },
     "output_type": "display_data"
    }
   ],
   "source": [
    "loss_lstm = history_lstm.history['loss']\n",
    "val_loss_lstm = history_lstm.history['val_loss']\n",
    "acc_lstm = history_lstm.history['accuracy']\n",
    "val_acc_lstm = history_lstm.history['val_accuracy']\n",
    "\n",
    "\n",
    "epochs = range(1, len(acc_lstm) + 1)\n",
    "\n",
    "plt.plot(epochs, loss_lstm, 'bo', label='Training loss')\n",
    "plt.plot(epochs, val_loss_lstm, 'b', label='Validation loss')\n",
    "plt.title('Training and validation loss')\n",
    "plt.legend()\n",
    "\n",
    "plt.figure()\n",
    "\n",
    "plt.plot(epochs, acc_lstm, 'bo', label='Training acc')\n",
    "plt.plot(epochs, val_acc_lstm, 'b', label='Validation acc')\n",
    "plt.title('Training and validation accuracy')\n",
    "plt.legend()\n",
    "\n",
    "plt.show()"
   ]
  },
  {
   "cell_type": "markdown",
   "metadata": {},
   "source": [
    "# 1D Convolutional NN"
   ]
  },
  {
   "cell_type": "code",
   "execution_count": 46,
   "metadata": {},
   "outputs": [
    {
     "name": "stdout",
     "output_type": "stream",
     "text": [
      "Model: \"sequential_4\"\n",
      "_________________________________________________________________\n",
      "Layer (type)                 Output Shape              Param #   \n",
      "=================================================================\n",
      "embedding_3 (Embedding)      (None, 25, 100)           712000    \n",
      "_________________________________________________________________\n",
      "conv1d (Conv1D)              (None, 21, 32)            16032     \n",
      "_________________________________________________________________\n",
      "max_pooling1d (MaxPooling1D) (None, 7, 32)             0         \n",
      "_________________________________________________________________\n",
      "conv1d_1 (Conv1D)            (None, 3, 32)             5152      \n",
      "_________________________________________________________________\n",
      "global_max_pooling1d (Global (None, 32)                0         \n",
      "_________________________________________________________________\n",
      "dense_12 (Dense)             (None, 4)                 132       \n",
      "=================================================================\n",
      "Total params: 733,316\n",
      "Trainable params: 21,316\n",
      "Non-trainable params: 712,000\n",
      "_________________________________________________________________\n"
     ]
    }
   ],
   "source": [
    "model_conv1d = models.Sequential()\n",
    "\n",
    "model_conv1d.add(layers.Embedding(vocabulary_size,\n",
    "                                  embedding_dim, input_length=sequence_length))\n",
    "\n",
    "model_conv1d.add(layers.Conv1D(\n",
    "    32,  # features to be extracted\n",
    "    5,  # convolutional window size\n",
    "    activation='relu',\n",
    "))\n",
    "model_conv1d.add(layers.MaxPooling1D(3))\n",
    "model_conv1d.add(layers.Conv1D(32, 5, activation='relu'))\n",
    "model_conv1d.add(layers.GlobalMaxPooling1D())\n",
    "model_conv1d.add(layers.Dense(4, activation='softmax'))\n",
    "\n",
    "model_conv1d.layers[0].set_weights([embedding_matrix])  # !!!! important !!!!\n",
    "model_conv1d.layers[0].trainable = False\n",
    "\n",
    "model_conv1d.summary()\n",
    "\n",
    "model_conv1d.compile(\n",
    "    optimizer='adam',\n",
    "    loss='categorical_crossentropy',\n",
    "    metrics=['accuracy']\n",
    ")"
   ]
  },
  {
   "cell_type": "code",
   "execution_count": 47,
   "metadata": {},
   "outputs": [
    {
     "name": "stdout",
     "output_type": "stream",
     "text": [
      "Epoch 1/20\n",
      "160/160 [==============================] - 0s 3ms/step - loss: 0.9526 - accuracy: 0.5761 - val_loss: 0.9206 - val_accuracy: 0.5758\n",
      "Epoch 2/20\n",
      "160/160 [==============================] - 0s 2ms/step - loss: 0.8575 - accuracy: 0.6246 - val_loss: 0.9143 - val_accuracy: 0.5695\n",
      "Epoch 3/20\n",
      "160/160 [==============================] - 0s 2ms/step - loss: 0.8044 - accuracy: 0.6568 - val_loss: 0.9130 - val_accuracy: 0.5734\n",
      "Epoch 4/20\n",
      "160/160 [==============================] - 0s 2ms/step - loss: 0.7330 - accuracy: 0.7061 - val_loss: 0.9131 - val_accuracy: 0.5994\n",
      "Epoch 5/20\n",
      "160/160 [==============================] - 0s 3ms/step - loss: 0.6608 - accuracy: 0.7399 - val_loss: 0.9558 - val_accuracy: 0.5899\n",
      "Epoch 6/20\n",
      "160/160 [==============================] - 0s 2ms/step - loss: 0.5769 - accuracy: 0.7841 - val_loss: 1.0307 - val_accuracy: 0.5876\n",
      "Epoch 7/20\n",
      "160/160 [==============================] - 0s 2ms/step - loss: 0.5038 - accuracy: 0.8248 - val_loss: 1.0752 - val_accuracy: 0.5837\n",
      "Epoch 8/20\n",
      "160/160 [==============================] - 0s 2ms/step - loss: 0.4353 - accuracy: 0.8491 - val_loss: 1.2136 - val_accuracy: 0.5860\n",
      "Epoch 9/20\n",
      "160/160 [==============================] - 0s 2ms/step - loss: 0.3780 - accuracy: 0.8743 - val_loss: 1.1945 - val_accuracy: 0.5687\n",
      "Epoch 10/20\n",
      "160/160 [==============================] - 0s 2ms/step - loss: 0.3309 - accuracy: 0.8965 - val_loss: 1.3514 - val_accuracy: 0.5734\n",
      "Epoch 11/20\n",
      "160/160 [==============================] - 0s 2ms/step - loss: 0.2734 - accuracy: 0.9232 - val_loss: 1.3992 - val_accuracy: 0.5640\n",
      "Epoch 12/20\n",
      "160/160 [==============================] - 0s 2ms/step - loss: 0.2340 - accuracy: 0.9313 - val_loss: 1.4081 - val_accuracy: 0.5625\n",
      "Epoch 13/20\n",
      "160/160 [==============================] - 0s 2ms/step - loss: 0.1996 - accuracy: 0.9454 - val_loss: 1.5060 - val_accuracy: 0.5632\n",
      "Epoch 14/20\n",
      "160/160 [==============================] - 0s 2ms/step - loss: 0.1722 - accuracy: 0.9554 - val_loss: 1.6218 - val_accuracy: 0.5585\n",
      "Epoch 15/20\n",
      "160/160 [==============================] - 0s 2ms/step - loss: 0.1584 - accuracy: 0.9582 - val_loss: 1.6152 - val_accuracy: 0.5585\n",
      "Epoch 16/20\n",
      "160/160 [==============================] - 0s 2ms/step - loss: 0.1393 - accuracy: 0.9648 - val_loss: 1.6980 - val_accuracy: 0.5625\n",
      "Epoch 17/20\n",
      "160/160 [==============================] - 0s 2ms/step - loss: 0.1189 - accuracy: 0.9699 - val_loss: 1.7218 - val_accuracy: 0.5656\n",
      "Epoch 18/20\n",
      "160/160 [==============================] - 0s 2ms/step - loss: 0.0997 - accuracy: 0.9788 - val_loss: 1.8388 - val_accuracy: 0.5593\n",
      "Epoch 19/20\n",
      "160/160 [==============================] - 0s 2ms/step - loss: 0.0957 - accuracy: 0.9768 - val_loss: 1.8921 - val_accuracy: 0.5562\n",
      "Epoch 20/20\n",
      "160/160 [==============================] - 0s 2ms/step - loss: 0.0877 - accuracy: 0.9794 - val_loss: 2.0083 - val_accuracy: 0.5687\n"
     ]
    }
   ],
   "source": [
    "history_conv1d = model_conv1d.fit(\n",
    "    train_ds_emb.shuffle(100).batch(32),\n",
    "    epochs=20,\n",
    "    validation_data=validation_ds_emb.batch(32)\n",
    ")"
   ]
  },
  {
   "cell_type": "code",
   "execution_count": 48,
   "metadata": {},
   "outputs": [
    {
     "data": {
      "image/png": "[encoded data removed]",
      "text/plain": [
       "<Figure size 432x288 with 1 Axes>"
      ]
     },
     "metadata": {
      "needs_background": "light"
     },
     "output_type": "display_data"
    },
    {
     "data": {
      "image/png": "[encoded data removed]",
      "text/plain": [
       "<Figure size 432x288 with 1 Axes>"
      ]
     },
     "metadata": {
      "needs_background": "light"
     },
     "output_type": "display_data"
    }
   ],
   "source": [
    "loss_conv1d= history_conv1d.history['loss']\n",
    "val_loss_conv1d = history_conv1d.history['val_loss']\n",
    "acc_conv1d = history_conv1d.history['accuracy']\n",
    "val_acc_conv1d = history_conv1d.history['val_accuracy']\n",
    "\n",
    "\n",
    "epochs = range(1, len(acc_conv1d) + 1)\n",
    "\n",
    "plt.plot(epochs, loss_conv1d, 'bo', label='Training loss')\n",
    "plt.plot(epochs, val_loss_conv1d, 'b', label='Validation loss')\n",
    "plt.title('Training and validation loss')\n",
    "plt.legend()\n",
    "\n",
    "plt.figure()\n",
    "\n",
    "plt.plot(epochs, acc_conv1d, 'bo', label='Training acc')\n",
    "plt.plot(epochs, val_acc_conv1d, 'b', label='Validation acc')\n",
    "plt.title('Training and validation accuracy')\n",
    "plt.legend()\n",
    "\n",
    "plt.show()"
   ]
  },
  {
   "cell_type": "code",
   "execution_count": null,
   "metadata": {},
   "outputs": [],
   "source": []
  },
  {
   "cell_type": "code",
   "execution_count": null,
   "metadata": {},
   "outputs": [],
   "source": []
  }
 ],
 "metadata": {
  "kernelspec": {
   "display_name": "nlp-sent",
   "language": "python",
   "name": "nlp-sent"
  },
  "language_info": {
   "codemirror_mode": {
    "name": "ipython",
    "version": 3
   },
   "file_extension": ".py",
   "mimetype": "text/x-python",
   "name": "python",
   "nbconvert_exporter": "python",
   "pygments_lexer": "ipython3",
   "version": "3.6.12"
  }
 },
 "nbformat": 4,
 "nbformat_minor": 4
}
