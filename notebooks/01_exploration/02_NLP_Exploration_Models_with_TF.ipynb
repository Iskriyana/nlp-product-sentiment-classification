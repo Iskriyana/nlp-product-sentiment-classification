{
 "cells": [
  {
   "cell_type": "markdown",
   "metadata": {},
   "source": [
    "The goal of this notebooks is to test the performance of several models. \n",
    "I will use a sklearn's DummyClassifier with strategy='most_frequent' as a baseline. \n",
    "Then I will use Keras' Embedding Layer, GloVe for pre-trained word embeddings, an LSTM and a 1D ConvNet.\n",
    "\n",
    "Performance metrics are accuracy, precision and recall."
   ]
  },
  {
   "cell_type": "code",
   "execution_count": 1,
   "metadata": {},
   "outputs": [],
   "source": [
    "import keras\n",
    "import matplotlib.pyplot as plt\n",
    "import numpy as np\n",
    "import os\n",
    "import pandas as pd\n",
    "import pickle\n",
    "import sys\n",
    "import tensorflow as tf\n",
    "\n",
    "from collections import Counter\n",
    "from imblearn.over_sampling import SMOTE\n",
    "from keras import layers\n",
    "from keras import models\n",
    "from keras import regularizers\n",
    "from keras import utils\n",
    "from keras.utils import to_categorical\n",
    "from tensorflow import keras\n",
    "\n",
    "%matplotlib inline"
   ]
  },
  {
   "cell_type": "markdown",
   "metadata": {},
   "source": [
    "# Preparation Steps"
   ]
  },
  {
   "cell_type": "code",
   "execution_count": 2,
   "metadata": {},
   "outputs": [],
   "source": [
    "# folders\n",
    "home = os.getenv(\"HOME\")\n",
    "nlp_repo = os.path.join(home, 'git/nlp-product-sentiment-classification')\n",
    "\n",
    "# data\n",
    "train_csv_path = os.path.join(nlp_repo, 'data/03_processed/Train.csv')\n",
    "train_descr = pd.read_csv(train_csv_path)\n",
    "\n",
    "test_csv_path = os.path.join(nlp_repo, 'data/03_processed/Test.csv')\n",
    "test_descr = pd.read_csv(test_csv_path)\n",
    "\n",
    "# encoded tokens\n",
    "preprocessed_corpus_path_TF = os.path.join(\n",
    "    nlp_repo, 'data/03_processed/product_descr_preprocessed_TF.p')\n",
    "\n",
    "preprocessed_corpus_path_TF_oh = os.path.join(\n",
    "    nlp_repo, 'data/03_processed/product_descr_preprocessed_TF_oh.p')"
   ]
  },
  {
   "cell_type": "code",
   "execution_count": 3,
   "metadata": {},
   "outputs": [],
   "source": [
    "# read-in the list of tokens and the vocabulary\n",
    "sequences, word_index = pd.read_pickle(preprocessed_corpus_path_TF)"
   ]
  },
  {
   "cell_type": "markdown",
   "metadata": {},
   "source": [
    "# Parameters"
   ]
  },
  {
   "cell_type": "code",
   "execution_count": 4,
   "metadata": {},
   "outputs": [],
   "source": [
    "# Embedding Tokens\n",
    "\n",
    "# max_words = vocabulary size = our samples - number of most frequent words.\n",
    "# I set it to 10.000, although in this case there are less.\n",
    "# I do this to parametise the code.\n",
    "# Aleternatively, I can set it to the length of our vocabulary = word_index\n",
    "max_words = 10000\n",
    "\n",
    "# embedding_size = embedding dimensionality\n",
    "embedding_size = 10\n",
    "\n",
    "# max_len = sequence length - the text is cut off after this number of words\n",
    "# in this case I define it as the maximum sequence length in our list of tokenised sequences\n",
    "max_len = np.max([len(x) for x in sequences])\n",
    "\n",
    "\n",
    "# Training parameters\n",
    "model_path = \"product_descr_TF.h5\"\n",
    "epochs = 15\n",
    "batch_size = 28\n",
    "\n",
    "# For GloVe word-embeddings matrix (pre-trained model)\n",
    "embedding_dim = 100"
   ]
  },
  {
   "cell_type": "code",
   "execution_count": 5,
   "metadata": {},
   "outputs": [],
   "source": [
    "data = tf.keras.preprocessing.sequence.pad_sequences(\n",
    "    sequences, maxlen=max_len)"
   ]
  },
  {
   "cell_type": "code",
   "execution_count": 6,
   "metadata": {},
   "outputs": [],
   "source": [
    "labels = train_descr.loc[:, 'Sentiment'].to_list()"
   ]
  },
  {
   "cell_type": "code",
   "execution_count": 7,
   "metadata": {},
   "outputs": [
    {
     "data": {
      "text/plain": [
       "(6364, 25)"
      ]
     },
     "execution_count": 7,
     "metadata": {},
     "output_type": "execute_result"
    }
   ],
   "source": [
    "data.shape"
   ]
  },
  {
   "cell_type": "markdown",
   "metadata": {},
   "source": [
    "### Oversampling the Minortiy Classes"
   ]
  },
  {
   "cell_type": "code",
   "execution_count": 8,
   "metadata": {},
   "outputs": [],
   "source": [
    "def oversample_smote(data, labels):\n",
    "    oversample = SMOTE()\n",
    "    data, labels =  oversample.fit_resample(data, labels)\n",
    "    \n",
    "    counter = Counter(labels)\n",
    "    for k,v in counter.items():\n",
    "        per = v / len(labels) * 100\n",
    "        print('Class=%d, n=%d (%.3f%%)' % (k, v, per))\n",
    "    # plot the distribution\n",
    "    plt.bar(counter.keys(), counter.values())\n",
    "    plt.show()\n",
    "    \n",
    "    return data, labels"
   ]
  },
  {
   "cell_type": "code",
   "execution_count": 9,
   "metadata": {},
   "outputs": [
    {
     "name": "stdout",
     "output_type": "stream",
     "text": [
      "Class=2, n=3765 (25.000%)\n",
      "Class=1, n=3765 (25.000%)\n",
      "Class=3, n=3765 (25.000%)\n",
      "Class=0, n=3765 (25.000%)\n"
     ]
    },
    {
     "data": {
      "image/png": "[encoded data removed]",
      "text/plain": [
       "<Figure size 432x288 with 1 Axes>"
      ]
     },
     "metadata": {
      "needs_background": "light"
     },
     "output_type": "display_data"
    }
   ],
   "source": [
    "data_ovs, labels_ovs = oversample_smote(data, labels)"
   ]
  },
  {
   "cell_type": "code",
   "execution_count": 10,
   "metadata": {},
   "outputs": [],
   "source": [
    "dimensions_labels = len(np.unique(labels_ovs))"
   ]
  },
  {
   "cell_type": "code",
   "execution_count": 11,
   "metadata": {},
   "outputs": [],
   "source": [
    "labels_encoded = tf.one_hot(indices=labels_ovs, depth=dimensions_labels)"
   ]
  },
  {
   "cell_type": "code",
   "execution_count": 12,
   "metadata": {},
   "outputs": [],
   "source": [
    "labels_encoded = np.asarray(labels_encoded)"
   ]
  },
  {
   "cell_type": "code",
   "execution_count": 13,
   "metadata": {},
   "outputs": [
    {
     "name": "stdout",
     "output_type": "stream",
     "text": [
      "Shape of data_ovs tensor: (15060, 25)\n",
      "Shape of label_ovs tensor (15060, 4)\n"
     ]
    }
   ],
   "source": [
    "print('Shape of data_ovs tensor:', data_ovs.shape)\n",
    "print('Shape of label_ovs tensor', labels_encoded.shape)"
   ]
  },
  {
   "cell_type": "code",
   "execution_count": 14,
   "metadata": {},
   "outputs": [],
   "source": [
    "indices = np.arange(data_ovs.shape[0])\n",
    "np.random.shuffle(indices)"
   ]
  },
  {
   "cell_type": "code",
   "execution_count": 15,
   "metadata": {},
   "outputs": [],
   "source": [
    "data_ovs = data_ovs[indices]\n",
    "labels_encoded = labels_encoded[indices]"
   ]
  },
  {
   "cell_type": "code",
   "execution_count": 16,
   "metadata": {},
   "outputs": [],
   "source": [
    "training_samples = int(0.8 * len(data_ovs))"
   ]
  },
  {
   "cell_type": "code",
   "execution_count": 17,
   "metadata": {},
   "outputs": [],
   "source": [
    "x_train = data_ovs[:training_samples]\n",
    "y_train = labels_encoded[:training_samples]\n",
    "\n",
    "x_val = data_ovs[training_samples:]\n",
    "y_val = labels_encoded[training_samples:]"
   ]
  },
  {
   "cell_type": "code",
   "execution_count": 18,
   "metadata": {},
   "outputs": [],
   "source": [
    "def get_key(my_dict, val):\n",
    "    for key, value in my_dict.items():\n",
    "        if val == value:\n",
    "            return key\n",
    "\n",
    "    return \"key doesn't exist\""
   ]
  },
  {
   "cell_type": "code",
   "execution_count": 19,
   "metadata": {},
   "outputs": [
    {
     "data": {
      "text/plain": [
       "'sxsw'"
      ]
     },
     "execution_count": 19,
     "metadata": {},
     "output_type": "execute_result"
    }
   ],
   "source": [
    "get_key(word_index, 2)"
   ]
  },
  {
   "cell_type": "markdown",
   "metadata": {},
   "source": [
    "# Baseline Model"
   ]
  },
  {
   "cell_type": "markdown",
   "metadata": {},
   "source": [
    "Source: https://machinelearningmastery.com/imbalanced-multiclass-classification-with-the-glass-identification-dataset/"
   ]
  },
  {
   "cell_type": "code",
   "execution_count": 20,
   "metadata": {},
   "outputs": [],
   "source": [
    "from sklearn.model_selection import cross_val_score\n",
    "from sklearn.model_selection import RepeatedStratifiedKFold\n",
    "from sklearn.model_selection import KFold\n",
    "from sklearn.dummy import DummyClassifier"
   ]
  },
  {
   "cell_type": "code",
   "execution_count": 21,
   "metadata": {},
   "outputs": [],
   "source": [
    "model = DummyClassifier(strategy='most_frequent')"
   ]
  },
  {
   "cell_type": "code",
   "execution_count": 22,
   "metadata": {},
   "outputs": [
    {
     "name": "stdout",
     "output_type": "stream",
     "text": [
      "Mean Accuracy: 0.592 (0.005)\n"
     ]
    }
   ],
   "source": [
    "cv_test = KFold(n_splits=4, shuffle=True, random_state=1)\n",
    "scores_test = cross_val_score(model, data, labels, scoring='accuracy', cv=cv_test, n_jobs=-1)\n",
    "print('Mean Accuracy: %.3f (%.3f)' % (np.mean(scores_test), np.std(scores_test)))"
   ]
  },
  {
   "cell_type": "markdown",
   "metadata": {},
   "source": [
    "# Bag-of-Words"
   ]
  },
  {
   "cell_type": "markdown",
   "metadata": {},
   "source": [
    "* Its advantages are that it is fairly easy and quick to build. \n",
    "* The downside is that bag-of-words does not perserve the order of the sentence. As a result the structure of a sentence is lost. \n",
    "* RNNs & 1D ConvNets will be tried later in order to remedy this."
   ]
  },
  {
   "cell_type": "code",
   "execution_count": 23,
   "metadata": {},
   "outputs": [],
   "source": [
    "sequences_oh, word_index_oh = pd.read_pickle(preprocessed_corpus_path_TF_oh)"
   ]
  },
  {
   "cell_type": "code",
   "execution_count": 24,
   "metadata": {},
   "outputs": [
    {
     "data": {
      "text/plain": [
       "(6364, 10000)"
      ]
     },
     "execution_count": 24,
     "metadata": {},
     "output_type": "execute_result"
    }
   ],
   "source": [
    "sequences_oh.shape"
   ]
  },
  {
   "cell_type": "code",
   "execution_count": 25,
   "metadata": {},
   "outputs": [
    {
     "name": "stdout",
     "output_type": "stream",
     "text": [
      "Class=2, n=3765 (25.000%)\n",
      "Class=1, n=3765 (25.000%)\n",
      "Class=3, n=3765 (25.000%)\n",
      "Class=0, n=3765 (25.000%)\n"
     ]
    },
    {
     "data": {
      "image/png": "[encoded data removed]",
      "text/plain": [
       "<Figure size 432x288 with 1 Axes>"
      ]
     },
     "metadata": {
      "needs_background": "light"
     },
     "output_type": "display_data"
    }
   ],
   "source": [
    "sequences_oh, labels_oh = oversample_smote(sequences_oh, labels)"
   ]
  },
  {
   "cell_type": "code",
   "execution_count": 26,
   "metadata": {},
   "outputs": [
    {
     "data": {
      "text/plain": [
       "(15060, 10000)"
      ]
     },
     "execution_count": 26,
     "metadata": {},
     "output_type": "execute_result"
    }
   ],
   "source": [
    "sequences_oh.shape"
   ]
  },
  {
   "cell_type": "code",
   "execution_count": 27,
   "metadata": {},
   "outputs": [],
   "source": [
    "labels_encoded_oh = tf.one_hot(indices=labels_oh, depth=dimensions_labels)"
   ]
  },
  {
   "cell_type": "code",
   "execution_count": 28,
   "metadata": {},
   "outputs": [],
   "source": [
    "data_oh = sequences_oh[indices]"
   ]
  },
  {
   "cell_type": "code",
   "execution_count": 29,
   "metadata": {},
   "outputs": [],
   "source": [
    "training_samples_oh = int(0.8 * len(data_oh))"
   ]
  },
  {
   "cell_type": "code",
   "execution_count": 30,
   "metadata": {},
   "outputs": [],
   "source": [
    "x_train_oh = data_oh[:training_samples_oh]\n",
    "y_train_oh = labels_encoded_oh[:training_samples_oh]\n",
    "\n",
    "x_val_oh = data_oh[training_samples_oh:]\n",
    "y_val_oh = labels_encoded_oh[training_samples_oh:]"
   ]
  },
  {
   "cell_type": "code",
   "execution_count": 31,
   "metadata": {},
   "outputs": [],
   "source": [
    "metrics = [\n",
    "    keras.metrics.CategoricalAccuracy(name='accuracy'),\n",
    "    keras.metrics.Precision(name='precision'),\n",
    "    keras.metrics.Recall(name='recall')]"
   ]
  },
  {
   "cell_type": "markdown",
   "metadata": {},
   "source": [
    "# Fully Connected NN & Bag-of-Words"
   ]
  },
  {
   "cell_type": "code",
   "execution_count": 32,
   "metadata": {},
   "outputs": [
    {
     "name": "stdout",
     "output_type": "stream",
     "text": [
      "Model: \"sequential\"\n",
      "_________________________________________________________________\n",
      "Layer (type)                 Output Shape              Param #   \n",
      "=================================================================\n",
      "dense (Dense)                (None, 32)                320032    \n",
      "_________________________________________________________________\n",
      "dense_1 (Dense)              (None, 32)                1056      \n",
      "_________________________________________________________________\n",
      "dense_2 (Dense)              (None, 4)                 132       \n",
      "=================================================================\n",
      "Total params: 321,220\n",
      "Trainable params: 321,220\n",
      "Non-trainable params: 0\n",
      "_________________________________________________________________\n"
     ]
    }
   ],
   "source": [
    "model_bow = models.Sequential()\n",
    "\n",
    "model_bow.add(layers.Dense(32, activation='relu',\n",
    "                           input_shape=(max_words, )))\n",
    "#model_bow.add(layers.Dropout(0.5))\n",
    "model_bow.add(layers.Dense(32, activation='relu'))\n",
    "#model_bow.add(layers.Dropout(0.5))\n",
    "model_bow.add(layers.Dense(dimensions_labels, activation='softmax'))\n",
    "\n",
    "model_bow.summary()\n",
    "\n",
    "model_bow.compile(\n",
    "    optimizer='adam',\n",
    "    loss='categorical_crossentropy',\n",
    "    metrics=metrics\n",
    ")"
   ]
  },
  {
   "cell_type": "code",
   "execution_count": 33,
   "metadata": {},
   "outputs": [
    {
     "name": "stdout",
     "output_type": "stream",
     "text": [
      "Epoch 1/15\n",
      "431/431 [==============================] - 1s 3ms/step - loss: 1.3578 - accuracy: 0.3110 - precision: 0.0000e+00 - recall: 0.0000e+00 - val_loss: 1.6657 - val_accuracy: 0.0000e+00 - val_precision: 0.0000e+00 - val_recall: 0.0000e+00\n",
      "Epoch 2/15\n",
      "431/431 [==============================] - 1s 2ms/step - loss: 1.3197 - accuracy: 0.3676 - precision: 0.5632 - recall: 0.0089 - val_loss: 1.7020 - val_accuracy: 0.0222 - val_precision: 0.0000e+00 - val_recall: 0.0000e+00\n",
      "Epoch 3/15\n",
      "431/431 [==============================] - 1s 2ms/step - loss: 1.2436 - accuracy: 0.4259 - precision: 0.6315 - recall: 0.0983 - val_loss: 1.8583 - val_accuracy: 0.0724 - val_precision: 0.0212 - val_recall: 0.0033\n",
      "Epoch 4/15\n",
      "431/431 [==============================] - 1s 2ms/step - loss: 1.1520 - accuracy: 0.4805 - precision: 0.6708 - recall: 0.2057 - val_loss: 1.9460 - val_accuracy: 0.1023 - val_precision: 0.0965 - val_recall: 0.0256\n",
      "Epoch 5/15\n",
      "431/431 [==============================] - 1s 2ms/step - loss: 1.0785 - accuracy: 0.5082 - precision: 0.7008 - recall: 0.2778 - val_loss: 1.9690 - val_accuracy: 0.1272 - val_precision: 0.1407 - val_recall: 0.0435\n",
      "Epoch 6/15\n",
      "431/431 [==============================] - 1s 2ms/step - loss: 1.0207 - accuracy: 0.5351 - precision: 0.7162 - recall: 0.3239 - val_loss: 2.2180 - val_accuracy: 0.1023 - val_precision: 0.1165 - val_recall: 0.0461\n",
      "Epoch 7/15\n",
      "431/431 [==============================] - 1s 2ms/step - loss: 0.9757 - accuracy: 0.5505 - precision: 0.7271 - recall: 0.3552 - val_loss: 2.3020 - val_accuracy: 0.1152 - val_precision: 0.1366 - val_recall: 0.0584\n",
      "Epoch 8/15\n",
      "431/431 [==============================] - 1s 2ms/step - loss: 0.9388 - accuracy: 0.5730 - precision: 0.7447 - recall: 0.3821 - val_loss: 2.2362 - val_accuracy: 0.1640 - val_precision: 0.1831 - val_recall: 0.0847\n",
      "Epoch 9/15\n",
      "431/431 [==============================] - 1s 2ms/step - loss: 0.9091 - accuracy: 0.5824 - precision: 0.7453 - recall: 0.4061 - val_loss: 2.3566 - val_accuracy: 0.1524 - val_precision: 0.1747 - val_recall: 0.0833\n",
      "Epoch 10/15\n",
      "431/431 [==============================] - 1s 2ms/step - loss: 0.8831 - accuracy: 0.5974 - precision: 0.7543 - recall: 0.4231 - val_loss: 2.7023 - val_accuracy: 0.1142 - val_precision: 0.1183 - val_recall: 0.0644\n",
      "Epoch 11/15\n",
      "431/431 [==============================] - 1s 2ms/step - loss: 0.8581 - accuracy: 0.6112 - precision: 0.7588 - recall: 0.4436 - val_loss: 2.6333 - val_accuracy: 0.1365 - val_precision: 0.1453 - val_recall: 0.0777\n",
      "Epoch 12/15\n",
      "431/431 [==============================] - 1s 2ms/step - loss: 0.8348 - accuracy: 0.6219 - precision: 0.7702 - recall: 0.4590 - val_loss: 2.7257 - val_accuracy: 0.1368 - val_precision: 0.1526 - val_recall: 0.0853\n",
      "Epoch 13/15\n",
      "431/431 [==============================] - 1s 2ms/step - loss: 0.8164 - accuracy: 0.6299 - precision: 0.7758 - recall: 0.4763 - val_loss: 2.8116 - val_accuracy: 0.1454 - val_precision: 0.1589 - val_recall: 0.0923\n",
      "Epoch 14/15\n",
      "431/431 [==============================] - 1s 2ms/step - loss: 0.7974 - accuracy: 0.6394 - precision: 0.7824 - recall: 0.4875 - val_loss: 2.8769 - val_accuracy: 0.1550 - val_precision: 0.1568 - val_recall: 0.0950\n",
      "Epoch 15/15\n",
      "431/431 [==============================] - 1s 2ms/step - loss: 0.7838 - accuracy: 0.6443 - precision: 0.7771 - recall: 0.4991 - val_loss: 2.9551 - val_accuracy: 0.1550 - val_precision: 0.1639 - val_recall: 0.1003\n"
     ]
    }
   ],
   "source": [
    "history_bow = model_bow.fit(\n",
    "    x_train_oh, y_train_oh,\n",
    "    epochs=epochs,\n",
    "    batch_size=batch_size,\n",
    "    validation_data=(x_val_oh, y_val_oh)\n",
    ")"
   ]
  },
  {
   "cell_type": "code",
   "execution_count": 34,
   "metadata": {},
   "outputs": [
    {
     "data": {
      "image/png": "[encoded data removed]",
      "text/plain": [
       "<Figure size 432x288 with 1 Axes>"
      ]
     },
     "metadata": {
      "needs_background": "light"
     },
     "output_type": "display_data"
    },
    {
     "data": {
      "image/png": "[encoded data removed]",
      "text/plain": [
       "<Figure size 432x288 with 1 Axes>"
      ]
     },
     "metadata": {
      "needs_background": "light"
     },
     "output_type": "display_data"
    }
   ],
   "source": [
    "loss_bow = history_bow.history['loss']\n",
    "val_loss_bow = history_bow.history['val_loss']\n",
    "acc_bow = history_bow.history['accuracy']\n",
    "val_acc_bow = history_bow.history['val_accuracy']\n",
    "\n",
    "\n",
    "epochs_graph = range(1, len(acc_bow) + 1)\n",
    "\n",
    "plt.plot(epochs_graph, loss_bow, 'bo', label='Training loss')\n",
    "plt.plot(epochs_graph, val_loss_bow, 'b', label='Validation loss')\n",
    "plt.title('Training and validation loss')\n",
    "plt.legend()\n",
    "\n",
    "plt.figure()\n",
    "\n",
    "plt.plot(epochs_graph, acc_bow, 'bo', label='Training acc')\n",
    "plt.plot(epochs_graph, val_acc_bow, 'b', label='Validation acc')\n",
    "plt.title('Training and validation accuracy')\n",
    "plt.legend()\n",
    "\n",
    "plt.show()"
   ]
  },
  {
   "cell_type": "markdown",
   "metadata": {},
   "source": [
    "# Fully Conneceted NN & Embeddings Layer"
   ]
  },
  {
   "cell_type": "code",
   "execution_count": 35,
   "metadata": {},
   "outputs": [
    {
     "name": "stdout",
     "output_type": "stream",
     "text": [
      "Model: \"sequential_1\"\n",
      "_________________________________________________________________\n",
      "Layer (type)                 Output Shape              Param #   \n",
      "=================================================================\n",
      "embedding (Embedding)        (None, 25, 10)            100010    \n",
      "_________________________________________________________________\n",
      "flatten (Flatten)            (None, 250)               0         \n",
      "_________________________________________________________________\n",
      "dense_3 (Dense)              (None, 32)                8032      \n",
      "_________________________________________________________________\n",
      "dense_4 (Dense)              (None, 32)                1056      \n",
      "_________________________________________________________________\n",
      "dense_5 (Dense)              (None, 4)                 132       \n",
      "=================================================================\n",
      "Total params: 109,230\n",
      "Trainable params: 109,230\n",
      "Non-trainable params: 0\n",
      "_________________________________________________________________\n"
     ]
    }
   ],
   "source": [
    "model_emb = models.Sequential()\n",
    "\n",
    "model_emb.add(layers.Embedding(max_words+1,\n",
    "                               embedding_size, input_length=max_len))\n",
    "model_emb.add(layers.Flatten())\n",
    "model_emb.add(layers.Dense(32, activation='relu'))\n",
    "#model_emb.add(layers.Dropout(0.75))\n",
    "model_emb.add(layers.Dense(32, activation='relu'))\n",
    "#model_emb.add(layers.Dropout(0.75))\n",
    "model_emb.add(layers.Dense(dimensions_labels, activation='softmax'))\n",
    "\n",
    "model_emb.summary()\n",
    "\n",
    "model_emb.compile(\n",
    "    optimizer='adam',\n",
    "    loss='categorical_crossentropy',\n",
    "    metrics=metrics\n",
    ")"
   ]
  },
  {
   "cell_type": "code",
   "execution_count": 36,
   "metadata": {},
   "outputs": [
    {
     "name": "stdout",
     "output_type": "stream",
     "text": [
      "Epoch 1/15\n",
      "431/431 [==============================] - 1s 2ms/step - loss: 1.2501 - accuracy: 0.3441 - precision: 0.3510 - recall: 0.0735 - val_loss: 1.1706 - val_accuracy: 0.4548 - val_precision: 0.5744 - val_recall: 0.1922\n",
      "Epoch 2/15\n",
      "431/431 [==============================] - 1s 1ms/step - loss: 0.9881 - accuracy: 0.5614 - precision: 0.6673 - recall: 0.3421 - val_loss: 1.1671 - val_accuracy: 0.4738 - val_precision: 0.5496 - val_recall: 0.3127\n",
      "Epoch 3/15\n",
      "431/431 [==============================] - 1s 1ms/step - loss: 0.7354 - accuracy: 0.7032 - precision: 0.7558 - recall: 0.6043 - val_loss: 1.3058 - val_accuracy: 0.4708 - val_precision: 0.5059 - val_recall: 0.3961\n",
      "Epoch 4/15\n",
      "431/431 [==============================] - 1s 1ms/step - loss: 0.4923 - accuracy: 0.8195 - precision: 0.8449 - recall: 0.7815 - val_loss: 1.5445 - val_accuracy: 0.4651 - val_precision: 0.4820 - val_recall: 0.4190\n",
      "Epoch 5/15\n",
      "431/431 [==============================] - 1s 1ms/step - loss: 0.3274 - accuracy: 0.8894 - precision: 0.9030 - recall: 0.8720 - val_loss: 1.8737 - val_accuracy: 0.4582 - val_precision: 0.4713 - val_recall: 0.4369\n",
      "Epoch 6/15\n",
      "431/431 [==============================] - 1s 1ms/step - loss: 0.2276 - accuracy: 0.9259 - precision: 0.9321 - recall: 0.9184 - val_loss: 2.1638 - val_accuracy: 0.4492 - val_precision: 0.4592 - val_recall: 0.4376\n",
      "Epoch 7/15\n",
      "431/431 [==============================] - 1s 1ms/step - loss: 0.1649 - accuracy: 0.9484 - precision: 0.9519 - recall: 0.9437 - val_loss: 2.4722 - val_accuracy: 0.4622 - val_precision: 0.4679 - val_recall: 0.4472\n",
      "Epoch 8/15\n",
      "431/431 [==============================] - 1s 1ms/step - loss: 0.1286 - accuracy: 0.9605 - precision: 0.9626 - recall: 0.9582 - val_loss: 2.7186 - val_accuracy: 0.4509 - val_precision: 0.4560 - val_recall: 0.4426\n",
      "Epoch 9/15\n",
      "431/431 [==============================] - 1s 2ms/step - loss: 0.1074 - accuracy: 0.9669 - precision: 0.9683 - recall: 0.9656 - val_loss: 2.9833 - val_accuracy: 0.4495 - val_precision: 0.4544 - val_recall: 0.4419\n",
      "Epoch 10/15\n",
      "431/431 [==============================] - 1s 1ms/step - loss: 0.0935 - accuracy: 0.9711 - precision: 0.9715 - recall: 0.9707 - val_loss: 3.1187 - val_accuracy: 0.4479 - val_precision: 0.4519 - val_recall: 0.4402\n",
      "Epoch 11/15\n",
      "431/431 [==============================] - 1s 1ms/step - loss: 0.0820 - accuracy: 0.9740 - precision: 0.9743 - recall: 0.9735 - val_loss: 3.2453 - val_accuracy: 0.4489 - val_precision: 0.4516 - val_recall: 0.4412\n",
      "Epoch 12/15\n",
      "431/431 [==============================] - 1s 1ms/step - loss: 0.0721 - accuracy: 0.9760 - precision: 0.9763 - recall: 0.9756 - val_loss: 3.3781 - val_accuracy: 0.4485 - val_precision: 0.4489 - val_recall: 0.4389\n",
      "Epoch 13/15\n",
      "431/431 [==============================] - 1s 1ms/step - loss: 0.0647 - accuracy: 0.9776 - precision: 0.9780 - recall: 0.9774 - val_loss: 3.6567 - val_accuracy: 0.4389 - val_precision: 0.4410 - val_recall: 0.4329\n",
      "Epoch 14/15\n",
      "431/431 [==============================] - 1s 1ms/step - loss: 0.0587 - accuracy: 0.9794 - precision: 0.9794 - recall: 0.9792 - val_loss: 3.7771 - val_accuracy: 0.4426 - val_precision: 0.4432 - val_recall: 0.4363\n",
      "Epoch 15/15\n",
      "431/431 [==============================] - 1s 1ms/step - loss: 0.0526 - accuracy: 0.9805 - precision: 0.9806 - recall: 0.9803 - val_loss: 3.9096 - val_accuracy: 0.4426 - val_precision: 0.4443 - val_recall: 0.4356\n"
     ]
    }
   ],
   "source": [
    "history_emb = model_emb.fit(\n",
    "    x_train, y_train,\n",
    "    epochs=epochs,\n",
    "    batch_size=batch_size,\n",
    "    validation_data=(x_val, y_val)\n",
    ")"
   ]
  },
  {
   "cell_type": "code",
   "execution_count": 37,
   "metadata": {},
   "outputs": [
    {
     "data": {
      "image/png": "[encoded data removed]",
      "text/plain": [
       "<Figure size 432x288 with 1 Axes>"
      ]
     },
     "metadata": {
      "needs_background": "light"
     },
     "output_type": "display_data"
    },
    {
     "data": {
      "image/png": "[encoded data removed]",
      "text/plain": [
       "<Figure size 432x288 with 1 Axes>"
      ]
     },
     "metadata": {
      "needs_background": "light"
     },
     "output_type": "display_data"
    }
   ],
   "source": [
    "loss_emb = history_emb.history['loss']\n",
    "val_loss_emb = history_emb.history['val_loss']\n",
    "acc_emb = history_emb.history['accuracy']\n",
    "val_acc_emb = history_emb.history['val_accuracy']\n",
    "\n",
    "\n",
    "epochs_graph = range(1, len(acc_emb) + 1)\n",
    "\n",
    "plt.plot(epochs_graph, loss_emb, 'bo', label='Training loss')\n",
    "plt.plot(epochs_graph, val_loss_emb, 'b', label='Validation loss')\n",
    "plt.title('Training and validation loss')\n",
    "plt.legend()\n",
    "\n",
    "plt.figure()\n",
    "\n",
    "plt.plot(epochs_graph, acc_emb, 'bo', label='Training acc')\n",
    "plt.plot(epochs_graph, val_acc_emb, 'b', label='Validation acc')\n",
    "plt.title('Training and validation accuracy')\n",
    "plt.legend()\n",
    "\n",
    "plt.show()"
   ]
  },
  {
   "cell_type": "markdown",
   "metadata": {},
   "source": [
    "# Fully Conneceted NN & Pre-Trained Embeddings Layer"
   ]
  },
  {
   "cell_type": "code",
   "execution_count": 38,
   "metadata": {},
   "outputs": [],
   "source": [
    "glove_dir = './glove.6B'"
   ]
  },
  {
   "cell_type": "code",
   "execution_count": 39,
   "metadata": {},
   "outputs": [
    {
     "name": "stdout",
     "output_type": "stream",
     "text": [
      "Found 400000 word vectors.\n"
     ]
    }
   ],
   "source": [
    "embeddings_index = {}\n",
    "\n",
    "f = open(os.path.join(glove_dir, 'glove.6B.100d.txt'))\n",
    "for line in f:\n",
    "    values = line.split()\n",
    "    word = values[0]\n",
    "    coefs = np.asarray(values[1:], dtype='float32')\n",
    "    embeddings_index[word] = coefs\n",
    "f.close()\n",
    "\n",
    "print('Found %s word vectors.' % len(embeddings_index))"
   ]
  },
  {
   "cell_type": "code",
   "execution_count": 40,
   "metadata": {},
   "outputs": [
    {
     "name": "stdout",
     "output_type": "stream",
     "text": [
      "(10001, 100)\n"
     ]
    }
   ],
   "source": [
    "embedding_matrix = np.zeros((max_words+1, embedding_dim))\n",
    "\n",
    "for word, i in word_index.items():\n",
    "    if i < max_words:\n",
    "        embedding_vector = embeddings_index.get(word)\n",
    "        if embedding_vector is not None:\n",
    "            embedding_matrix[i] = embedding_vector\n",
    "print(embedding_matrix.shape)"
   ]
  },
  {
   "cell_type": "code",
   "execution_count": 41,
   "metadata": {},
   "outputs": [
    {
     "name": "stdout",
     "output_type": "stream",
     "text": [
      "Model: \"sequential_2\"\n",
      "_________________________________________________________________\n",
      "Layer (type)                 Output Shape              Param #   \n",
      "=================================================================\n",
      "embedding_1 (Embedding)      (None, 25, 100)           1000100   \n",
      "_________________________________________________________________\n",
      "flatten_1 (Flatten)          (None, 2500)              0         \n",
      "_________________________________________________________________\n",
      "dense_6 (Dense)              (None, 32)                80032     \n",
      "_________________________________________________________________\n",
      "dense_7 (Dense)              (None, 32)                1056      \n",
      "_________________________________________________________________\n",
      "dense_8 (Dense)              (None, 4)                 132       \n",
      "=================================================================\n",
      "Total params: 1,081,320\n",
      "Trainable params: 81,220\n",
      "Non-trainable params: 1,000,100\n",
      "_________________________________________________________________\n"
     ]
    }
   ],
   "source": [
    "model_transf = models.Sequential()\n",
    "\n",
    "model_transf.add(layers.Embedding(max_words+1,\n",
    "                                  embedding_dim, input_length=max_len))\n",
    "\n",
    "model_transf.add(layers.Flatten())\n",
    "model_transf.add(layers.Dense(32, activation='relu'))\n",
    "#model_transf.add(layers.Dropout(0.75))\n",
    "model_transf.add(layers.Dense(32, activation='relu'))\n",
    "#model_transf.add(layers.Dropout(0.75))\n",
    "model_transf.add(layers.Dense(dimensions_labels, activation='softmax'))\n",
    "\n",
    "model_transf.layers[0].set_weights([embedding_matrix])  # !!!! important !!!!\n",
    "model_transf.layers[0].trainable = False\n",
    "\n",
    "\n",
    "# needed in order to save the weights: https://stackoverflow.com/questions/55908188/this-model-has-not-yet-been-built-error-on-model-summary\n",
    "model_transf.build((max_len,))\n",
    "\n",
    "model_transf.summary()\n",
    "\n",
    "\n",
    "model_transf.compile(\n",
    "    optimizer='adam',\n",
    "    loss='categorical_crossentropy',\n",
    "    metrics=metrics\n",
    ")"
   ]
  },
  {
   "cell_type": "code",
   "execution_count": 42,
   "metadata": {},
   "outputs": [
    {
     "name": "stdout",
     "output_type": "stream",
     "text": [
      "Epoch 1/15\n",
      "431/431 [==============================] - 1s 2ms/step - loss: 1.2343 - accuracy: 0.4224 - precision: 0.5152 - recall: 0.1940 - val_loss: 1.2231 - val_accuracy: 0.4303 - val_precision: 0.5238 - val_recall: 0.2115\n",
      "Epoch 2/15\n",
      "431/431 [==============================] - 1s 1ms/step - loss: 1.0471 - accuracy: 0.5441 - precision: 0.6667 - recall: 0.3292 - val_loss: 1.1611 - val_accuracy: 0.4764 - val_precision: 0.5755 - val_recall: 0.2719\n",
      "Epoch 3/15\n",
      "431/431 [==============================] - 1s 1ms/step - loss: 0.8976 - accuracy: 0.6271 - precision: 0.7269 - recall: 0.4732 - val_loss: 1.1809 - val_accuracy: 0.4837 - val_precision: 0.5617 - val_recall: 0.3293\n",
      "Epoch 4/15\n",
      "431/431 [==============================] - 1s 1ms/step - loss: 0.7542 - accuracy: 0.6968 - precision: 0.7732 - recall: 0.5867 - val_loss: 1.2473 - val_accuracy: 0.4934 - val_precision: 0.5332 - val_recall: 0.3921\n",
      "Epoch 5/15\n",
      "431/431 [==============================] - 1s 1ms/step - loss: 0.6294 - accuracy: 0.7561 - precision: 0.8122 - recall: 0.6819 - val_loss: 1.3376 - val_accuracy: 0.4944 - val_precision: 0.5290 - val_recall: 0.4273\n",
      "Epoch 6/15\n",
      "431/431 [==============================] - 1s 1ms/step - loss: 0.5113 - accuracy: 0.8057 - precision: 0.8480 - recall: 0.7530 - val_loss: 1.5080 - val_accuracy: 0.4738 - val_precision: 0.5016 - val_recall: 0.4180\n",
      "Epoch 7/15\n",
      "431/431 [==============================] - 1s 1ms/step - loss: 0.4163 - accuracy: 0.8469 - precision: 0.8760 - recall: 0.8129 - val_loss: 1.7373 - val_accuracy: 0.4648 - val_precision: 0.4845 - val_recall: 0.4306\n",
      "Epoch 8/15\n",
      "431/431 [==============================] - 1s 1ms/step - loss: 0.3356 - accuracy: 0.8806 - precision: 0.9016 - recall: 0.8562 - val_loss: 1.9244 - val_accuracy: 0.4695 - val_precision: 0.4821 - val_recall: 0.4419\n",
      "Epoch 9/15\n",
      "431/431 [==============================] - 1s 1ms/step - loss: 0.2692 - accuracy: 0.9044 - precision: 0.9204 - recall: 0.8874 - val_loss: 2.0821 - val_accuracy: 0.4814 - val_precision: 0.4924 - val_recall: 0.4628\n",
      "Epoch 10/15\n",
      "431/431 [==============================] - 1s 1ms/step - loss: 0.2286 - accuracy: 0.9227 - precision: 0.9337 - recall: 0.9102 - val_loss: 2.3050 - val_accuracy: 0.4645 - val_precision: 0.4782 - val_recall: 0.4515\n",
      "Epoch 11/15\n",
      "431/431 [==============================] - 1s 1ms/step - loss: 0.1817 - accuracy: 0.9412 - precision: 0.9490 - recall: 0.9319 - val_loss: 2.4925 - val_accuracy: 0.4698 - val_precision: 0.4775 - val_recall: 0.4545\n",
      "Epoch 12/15\n",
      "431/431 [==============================] - 1s 1ms/step - loss: 0.1584 - accuracy: 0.9504 - precision: 0.9551 - recall: 0.9436 - val_loss: 2.7371 - val_accuracy: 0.4705 - val_precision: 0.4770 - val_recall: 0.4582\n",
      "Epoch 13/15\n",
      "431/431 [==============================] - 1s 1ms/step - loss: 0.1399 - accuracy: 0.9552 - precision: 0.9601 - recall: 0.9514 - val_loss: 2.9553 - val_accuracy: 0.4661 - val_precision: 0.4698 - val_recall: 0.4545\n",
      "Epoch 14/15\n",
      "431/431 [==============================] - 1s 1ms/step - loss: 0.1190 - accuracy: 0.9622 - precision: 0.9651 - recall: 0.9597 - val_loss: 3.0188 - val_accuracy: 0.4648 - val_precision: 0.4700 - val_recall: 0.4545\n",
      "Epoch 15/15\n",
      "431/431 [==============================] - 1s 1ms/step - loss: 0.1020 - accuracy: 0.9675 - precision: 0.9706 - recall: 0.9641 - val_loss: 3.2160 - val_accuracy: 0.4721 - val_precision: 0.4763 - val_recall: 0.4641\n"
     ]
    }
   ],
   "source": [
    "history_transf = model_transf.fit(\n",
    "    x_train, y_train,\n",
    "    epochs=epochs,\n",
    "    batch_size=batch_size,\n",
    "    validation_data=(x_val, y_val)\n",
    ")\n",
    "\n",
    "model_transf.save_weights(f'{model_path}_transf')"
   ]
  },
  {
   "cell_type": "code",
   "execution_count": 43,
   "metadata": {},
   "outputs": [
    {
     "data": {
      "image/png": "[encoded data removed]",
      "text/plain": [
       "<Figure size 432x288 with 1 Axes>"
      ]
     },
     "metadata": {
      "needs_background": "light"
     },
     "output_type": "display_data"
    },
    {
     "data": {
      "image/png": "[encoded data removed]",
      "text/plain": [
       "<Figure size 432x288 with 1 Axes>"
      ]
     },
     "metadata": {
      "needs_background": "light"
     },
     "output_type": "display_data"
    }
   ],
   "source": [
    "loss_transf = history_transf.history['loss']\n",
    "val_loss_transf = history_transf.history['val_loss']\n",
    "acc_transf = history_transf.history['accuracy']\n",
    "val_acc_transf = history_transf.history['val_accuracy']\n",
    "\n",
    "\n",
    "epochs_graph = range(1, len(acc_transf) + 1)\n",
    "\n",
    "plt.plot(epochs_graph, loss_transf, 'bo', label='Training loss')\n",
    "plt.plot(epochs_graph, val_loss_transf, 'b', label='Validation loss')\n",
    "plt.title('Training and validation loss')\n",
    "plt.legend()\n",
    "\n",
    "plt.figure()\n",
    "\n",
    "plt.plot(epochs_graph, acc_transf, 'bo', label='Training acc')\n",
    "plt.plot(epochs_graph, val_acc_transf, 'b', label='Validation acc')\n",
    "plt.title('Training and validation accuracy')\n",
    "plt.legend()\n",
    "\n",
    "plt.show()"
   ]
  },
  {
   "cell_type": "markdown",
   "metadata": {},
   "source": [
    "# LSTM"
   ]
  },
  {
   "cell_type": "code",
   "execution_count": 44,
   "metadata": {},
   "outputs": [
    {
     "name": "stdout",
     "output_type": "stream",
     "text": [
      "Model: \"sequential_3\"\n",
      "_________________________________________________________________\n",
      "Layer (type)                 Output Shape              Param #   \n",
      "=================================================================\n",
      "embedding_2 (Embedding)      (None, 25, 100)           1000100   \n",
      "_________________________________________________________________\n",
      "lstm (LSTM)                  (None, 32)                17024     \n",
      "_________________________________________________________________\n",
      "dense_9 (Dense)              (None, 32)                1056      \n",
      "_________________________________________________________________\n",
      "dense_10 (Dense)             (None, 32)                1056      \n",
      "_________________________________________________________________\n",
      "dense_11 (Dense)             (None, 4)                 132       \n",
      "=================================================================\n",
      "Total params: 1,019,368\n",
      "Trainable params: 19,268\n",
      "Non-trainable params: 1,000,100\n",
      "_________________________________________________________________\n"
     ]
    }
   ],
   "source": [
    "model_lstm = models.Sequential()\n",
    "\n",
    "model_lstm.add(layers.Embedding(max_words+1,\n",
    "                                embedding_dim, input_length=max_len))\n",
    "\n",
    "# model_lstm.add(layers.Flatten())\n",
    "# Option 1\n",
    "model_lstm.add(layers.LSTM(32))\n",
    "\n",
    "# Option 2\n",
    "# model.add(layers.LSTM(32, return_sequences=True)) # stacking of LSTMs\n",
    "# model.add(layers.LSTM(32)) # the size of the hidden state, randomly defined\n",
    "model_lstm.add(layers.Dense(32, activation='relu'))\n",
    "#model_lstm.add(layers.Dropout(0.5))\n",
    "model_lstm.add(layers.Dense(32, activation='relu'))\n",
    "#model_lstm.add(layers.Dropout(0.5))\n",
    "model_lstm.add(layers.Dense(dimensions_labels, activation='softmax'))\n",
    "\n",
    "model_lstm.layers[0].set_weights([embedding_matrix])  # !!!! important !!!!\n",
    "model_lstm.layers[0].trainable = False\n",
    "\n",
    "model_lstm.summary()\n",
    "\n",
    "model_lstm.compile(\n",
    "    optimizer='adam',\n",
    "    loss='categorical_crossentropy',\n",
    "    metrics=metrics\n",
    ")"
   ]
  },
  {
   "cell_type": "code",
   "execution_count": 45,
   "metadata": {},
   "outputs": [
    {
     "name": "stdout",
     "output_type": "stream",
     "text": [
      "Epoch 1/15\n",
      "431/431 [==============================] - 4s 9ms/step - loss: 1.2365 - accuracy: 0.4149 - precision: 0.5172 - recall: 0.1690 - val_loss: 1.1862 - val_accuracy: 0.4426 - val_precision: 0.6964 - val_recall: 0.0701\n",
      "Epoch 2/15\n",
      "431/431 [==============================] - 3s 8ms/step - loss: 1.1151 - accuracy: 0.4646 - precision: 0.6073 - recall: 0.1710 - val_loss: 1.1364 - val_accuracy: 0.4565 - val_precision: 0.5783 - val_recall: 0.2244\n",
      "Epoch 3/15\n",
      "431/431 [==============================] - 3s 7ms/step - loss: 1.0659 - accuracy: 0.4949 - precision: 0.6195 - recall: 0.2263 - val_loss: 1.1171 - val_accuracy: 0.4711 - val_precision: 0.5878 - val_recall: 0.2400\n",
      "Epoch 4/15\n",
      "431/431 [==============================] - 3s 7ms/step - loss: 1.0277 - accuracy: 0.5186 - precision: 0.6322 - recall: 0.2825 - val_loss: 1.1152 - val_accuracy: 0.4734 - val_precision: 0.5598 - val_recall: 0.2952\n",
      "Epoch 5/15\n",
      "431/431 [==============================] - 3s 8ms/step - loss: 0.9913 - accuracy: 0.5387 - precision: 0.6356 - recall: 0.3330 - val_loss: 1.0972 - val_accuracy: 0.4847 - val_precision: 0.5780 - val_recall: 0.3147\n",
      "Epoch 6/15\n",
      "431/431 [==============================] - 3s 8ms/step - loss: 0.9576 - accuracy: 0.5597 - precision: 0.6519 - recall: 0.3729 - val_loss: 1.0942 - val_accuracy: 0.4904 - val_precision: 0.5627 - val_recall: 0.3234\n",
      "Epoch 7/15\n",
      "431/431 [==============================] - 3s 7ms/step - loss: 0.9268 - accuracy: 0.5771 - precision: 0.6608 - recall: 0.4143 - val_loss: 1.1085 - val_accuracy: 0.4897 - val_precision: 0.5573 - val_recall: 0.3393\n",
      "Epoch 8/15\n",
      "431/431 [==============================] - 3s 7ms/step - loss: 0.8974 - accuracy: 0.5933 - precision: 0.6703 - recall: 0.4451 - val_loss: 1.1133 - val_accuracy: 0.4897 - val_precision: 0.5728 - val_recall: 0.3423\n",
      "Epoch 9/15\n",
      "431/431 [==============================] - 3s 7ms/step - loss: 0.8678 - accuracy: 0.6098 - precision: 0.6856 - recall: 0.4757 - val_loss: 1.1348 - val_accuracy: 0.5060 - val_precision: 0.5573 - val_recall: 0.3991\n",
      "Epoch 10/15\n",
      "431/431 [==============================] - 3s 7ms/step - loss: 0.8413 - accuracy: 0.6267 - precision: 0.6888 - recall: 0.5064 - val_loss: 1.1218 - val_accuracy: 0.4904 - val_precision: 0.5504 - val_recall: 0.3645\n",
      "Epoch 11/15\n",
      "431/431 [==============================] - 3s 7ms/step - loss: 0.8189 - accuracy: 0.6387 - precision: 0.7011 - recall: 0.5262 - val_loss: 1.1464 - val_accuracy: 0.4934 - val_precision: 0.5317 - val_recall: 0.3958\n",
      "Epoch 12/15\n",
      "431/431 [==============================] - 3s 7ms/step - loss: 0.7947 - accuracy: 0.6500 - precision: 0.7069 - recall: 0.5474 - val_loss: 1.1949 - val_accuracy: 0.4934 - val_precision: 0.5312 - val_recall: 0.4100\n",
      "Epoch 13/15\n",
      "431/431 [==============================] - 3s 7ms/step - loss: 0.7682 - accuracy: 0.6648 - precision: 0.7191 - recall: 0.5710 - val_loss: 1.1905 - val_accuracy: 0.4940 - val_precision: 0.5346 - val_recall: 0.4130\n",
      "Epoch 14/15\n",
      "431/431 [==============================] - 3s 7ms/step - loss: 0.7440 - accuracy: 0.6748 - precision: 0.7284 - recall: 0.5915 - val_loss: 1.2320 - val_accuracy: 0.4867 - val_precision: 0.5267 - val_recall: 0.4157\n",
      "Epoch 15/15\n",
      "431/431 [==============================] - 3s 7ms/step - loss: 0.7199 - accuracy: 0.6902 - precision: 0.7401 - recall: 0.6108 - val_loss: 1.2483 - val_accuracy: 0.5027 - val_precision: 0.5320 - val_recall: 0.4137\n"
     ]
    }
   ],
   "source": [
    "history_lstm = model_lstm.fit(\n",
    "    x_train, y_train,\n",
    "    epochs=epochs,\n",
    "    batch_size=batch_size,\n",
    "    validation_data=(x_val, y_val)\n",
    ")"
   ]
  },
  {
   "cell_type": "code",
   "execution_count": 46,
   "metadata": {},
   "outputs": [
    {
     "data": {
      "image/png": "[encoded data removed]",
      "text/plain": [
       "<Figure size 432x288 with 1 Axes>"
      ]
     },
     "metadata": {
      "needs_background": "light"
     },
     "output_type": "display_data"
    },
    {
     "data": {
      "image/png": "[encoded data removed]",
      "text/plain": [
       "<Figure size 432x288 with 1 Axes>"
      ]
     },
     "metadata": {
      "needs_background": "light"
     },
     "output_type": "display_data"
    }
   ],
   "source": [
    "loss_lstm = history_lstm.history['loss']\n",
    "val_loss_lstm = history_lstm.history['val_loss']\n",
    "acc_lstm = history_lstm.history['accuracy']\n",
    "val_acc_lstm = history_lstm.history['val_accuracy']\n",
    "\n",
    "\n",
    "epochs_graph = range(1, len(acc_lstm) + 1)\n",
    "\n",
    "plt.plot(epochs_graph, loss_lstm, 'bo', label='Training loss')\n",
    "plt.plot(epochs_graph, val_loss_lstm, 'b', label='Validation loss')\n",
    "plt.title('Training and validation loss')\n",
    "plt.legend()\n",
    "\n",
    "plt.figure()\n",
    "\n",
    "plt.plot(epochs_graph, acc_lstm, 'bo', label='Training acc')\n",
    "plt.plot(epochs_graph, val_acc_lstm, 'b', label='Validation acc')\n",
    "plt.title('Training and validation accuracy')\n",
    "plt.legend()\n",
    "\n",
    "plt.show()"
   ]
  },
  {
   "cell_type": "markdown",
   "metadata": {},
   "source": [
    "# 1D Convolutional NN"
   ]
  },
  {
   "cell_type": "code",
   "execution_count": 47,
   "metadata": {},
   "outputs": [
    {
     "name": "stdout",
     "output_type": "stream",
     "text": [
      "Model: \"sequential_4\"\n",
      "_________________________________________________________________\n",
      "Layer (type)                 Output Shape              Param #   \n",
      "=================================================================\n",
      "embedding_3 (Embedding)      (None, 25, 100)           1000100   \n",
      "_________________________________________________________________\n",
      "conv1d (Conv1D)              (None, 21, 32)            16032     \n",
      "_________________________________________________________________\n",
      "conv1d_1 (Conv1D)            (None, 17, 32)            5152      \n",
      "_________________________________________________________________\n",
      "global_max_pooling1d (Global (None, 32)                0         \n",
      "_________________________________________________________________\n",
      "dense_12 (Dense)             (None, 4)                 132       \n",
      "=================================================================\n",
      "Total params: 1,021,416\n",
      "Trainable params: 21,316\n",
      "Non-trainable params: 1,000,100\n",
      "_________________________________________________________________\n"
     ]
    }
   ],
   "source": [
    "model_conv1d = models.Sequential()\n",
    "\n",
    "model_conv1d.add(layers.Embedding(max_words+1,\n",
    "                                  embedding_dim, input_length=max_len))\n",
    "\n",
    "model_conv1d.add(layers.Conv1D(\n",
    "    32,  # features to be extracted\n",
    "    5,  # convolutional window size\n",
    "    activation='relu',\n",
    "))\n",
    "#model_conv1d.add(layers.MaxPooling1D(3))\n",
    "model_conv1d.add(layers.Conv1D(32, 5, activation='relu'))\n",
    "model_conv1d.add(layers.GlobalMaxPooling1D())\n",
    "model_conv1d.add(layers.Dense(dimensions_labels, activation='softmax'))\n",
    "\n",
    "model_conv1d.layers[0].set_weights([embedding_matrix])  # !!!! important !!!!\n",
    "model_conv1d.layers[0].trainable = False\n",
    "\n",
    "model_conv1d.summary()\n",
    "\n",
    "model_conv1d.compile(\n",
    "    optimizer='adam',\n",
    "    loss='categorical_crossentropy',\n",
    "    metrics=metrics\n",
    ")"
   ]
  },
  {
   "cell_type": "code",
   "execution_count": 48,
   "metadata": {},
   "outputs": [
    {
     "name": "stdout",
     "output_type": "stream",
     "text": [
      "Epoch 1/15\n",
      "431/431 [==============================] - 1s 3ms/step - loss: 1.2544 - accuracy: 0.4112 - precision: 0.5405 - recall: 0.1505 - val_loss: 1.1971 - val_accuracy: 0.4216 - val_precision: 0.5770 - val_recall: 0.1232\n",
      "Epoch 2/15\n",
      "431/431 [==============================] - 1s 2ms/step - loss: 1.1099 - accuracy: 0.4958 - precision: 0.6258 - recall: 0.2321 - val_loss: 1.1664 - val_accuracy: 0.4495 - val_precision: 0.5477 - val_recall: 0.2191\n",
      "Epoch 3/15\n",
      "431/431 [==============================] - 1s 2ms/step - loss: 1.0207 - accuracy: 0.5473 - precision: 0.6632 - recall: 0.3269 - val_loss: 1.1878 - val_accuracy: 0.4346 - val_precision: 0.5041 - val_recall: 0.2473\n",
      "Epoch 4/15\n",
      "431/431 [==============================] - 1s 2ms/step - loss: 0.9567 - accuracy: 0.5901 - precision: 0.6919 - recall: 0.4071 - val_loss: 1.1476 - val_accuracy: 0.4811 - val_precision: 0.5542 - val_recall: 0.3088\n",
      "Epoch 5/15\n",
      "431/431 [==============================] - 1s 2ms/step - loss: 0.8795 - accuracy: 0.6333 - precision: 0.7264 - recall: 0.4751 - val_loss: 1.1840 - val_accuracy: 0.4678 - val_precision: 0.5373 - val_recall: 0.3300\n",
      "Epoch 6/15\n",
      "431/431 [==============================] - 1s 2ms/step - loss: 0.8061 - accuracy: 0.6705 - precision: 0.7532 - recall: 0.5407 - val_loss: 1.2128 - val_accuracy: 0.4718 - val_precision: 0.5185 - val_recall: 0.3536\n",
      "Epoch 7/15\n",
      "431/431 [==============================] - 1s 2ms/step - loss: 0.7429 - accuracy: 0.7040 - precision: 0.7741 - recall: 0.5992 - val_loss: 1.2647 - val_accuracy: 0.4469 - val_precision: 0.4875 - val_recall: 0.3569\n",
      "Epoch 8/15\n",
      "431/431 [==============================] - 1s 2ms/step - loss: 0.6828 - accuracy: 0.7333 - precision: 0.7946 - recall: 0.6447 - val_loss: 1.3179 - val_accuracy: 0.4728 - val_precision: 0.5060 - val_recall: 0.4034\n",
      "Epoch 9/15\n",
      "431/431 [==============================] - 1s 2ms/step - loss: 0.6243 - accuracy: 0.7588 - precision: 0.8147 - recall: 0.6819 - val_loss: 1.3404 - val_accuracy: 0.4701 - val_precision: 0.5012 - val_recall: 0.4044\n",
      "Epoch 10/15\n",
      "431/431 [==============================] - 1s 2ms/step - loss: 0.5656 - accuracy: 0.7856 - precision: 0.8340 - recall: 0.7247 - val_loss: 1.4553 - val_accuracy: 0.4638 - val_precision: 0.4861 - val_recall: 0.4064\n",
      "Epoch 11/15\n",
      "431/431 [==============================] - 1s 2ms/step - loss: 0.5185 - accuracy: 0.8093 - precision: 0.8471 - recall: 0.7571 - val_loss: 1.4840 - val_accuracy: 0.4558 - val_precision: 0.4797 - val_recall: 0.4110\n",
      "Epoch 12/15\n",
      "431/431 [==============================] - 1s 2ms/step - loss: 0.4702 - accuracy: 0.8284 - precision: 0.8636 - recall: 0.7796 - val_loss: 1.5549 - val_accuracy: 0.4615 - val_precision: 0.4789 - val_recall: 0.4213\n",
      "Epoch 13/15\n",
      "431/431 [==============================] - 1s 2ms/step - loss: 0.4234 - accuracy: 0.8507 - precision: 0.8796 - recall: 0.8147 - val_loss: 1.6222 - val_accuracy: 0.4539 - val_precision: 0.4732 - val_recall: 0.4220\n",
      "Epoch 14/15\n",
      "431/431 [==============================] - 1s 2ms/step - loss: 0.3881 - accuracy: 0.8649 - precision: 0.8916 - recall: 0.8327 - val_loss: 1.6981 - val_accuracy: 0.4532 - val_precision: 0.4679 - val_recall: 0.4167\n",
      "Epoch 15/15\n",
      "431/431 [==============================] - 1s 2ms/step - loss: 0.3421 - accuracy: 0.8860 - precision: 0.9097 - recall: 0.8564 - val_loss: 1.8003 - val_accuracy: 0.4562 - val_precision: 0.4726 - val_recall: 0.4299\n"
     ]
    }
   ],
   "source": [
    "history_conv1d = model_conv1d.fit(\n",
    "    x_train, y_train,\n",
    "    epochs=epochs,\n",
    "    batch_size=batch_size,\n",
    "    validation_data=(x_val, y_val)\n",
    ")"
   ]
  },
  {
   "cell_type": "code",
   "execution_count": 49,
   "metadata": {},
   "outputs": [
    {
     "data": {
      "image/png": "[encoded data removed]",
      "text/plain": [
       "<Figure size 432x288 with 1 Axes>"
      ]
     },
     "metadata": {
      "needs_background": "light"
     },
     "output_type": "display_data"
    },
    {
     "data": {
      "image/png": "[encoded data removed]",
      "text/plain": [
       "<Figure size 432x288 with 1 Axes>"
      ]
     },
     "metadata": {
      "needs_background": "light"
     },
     "output_type": "display_data"
    }
   ],
   "source": [
    "loss_conv1d = history_conv1d.history['loss']\n",
    "val_loss_conv1d = history_conv1d.history['val_loss']\n",
    "acc_conv1d = history_conv1d.history['accuracy']\n",
    "val_acc_conv1d = history_conv1d.history['val_accuracy']\n",
    "\n",
    "\n",
    "epochs_graph = range(1, len(acc_conv1d) + 1)\n",
    "\n",
    "plt.plot(epochs_graph, loss_conv1d, 'bo', label='Training loss')\n",
    "plt.plot(epochs_graph, val_loss_conv1d, 'b', label='Validation loss')\n",
    "plt.title('Training and validation loss')\n",
    "plt.legend()\n",
    "\n",
    "plt.figure()\n",
    "\n",
    "plt.plot(epochs_graph, acc_conv1d, 'bo', label='Training acc')\n",
    "plt.plot(epochs_graph, val_acc_conv1d, 'b', label='Validation acc')\n",
    "plt.title('Training and validation accuracy')\n",
    "plt.legend()\n",
    "\n",
    "plt.show()"
   ]
  },
  {
   "cell_type": "markdown",
   "metadata": {},
   "source": [
    "With a hold-out validation and wihtout any regularisation a full connected NN with an Embedding layer seems to have the best performance on the training set. \n",
    "However, it is highly overfitting. This is the better case, as with regularization we can try to fix the issue. \n",
    "\n",
    "Before that, though, I am going to evaluate the models with cross-validation due to the low volume of data we have."
   ]
  },
  {
   "cell_type": "code",
   "execution_count": 50,
   "metadata": {},
   "outputs": [],
   "source": [
    "def with_cross_val(k, model, train_data, train_targets, epochs, batch_size):\n",
    "    \"\"\"\n",
    "    This function applies a k-fold cross-validation.\n",
    "    Args: \n",
    "        - k - number of folds\n",
    "        - model - which model is to be used\n",
    "        - train_data - the tokenised, padded and shuffled sequences\n",
    "        - train_targets - labels \n",
    "        - epochs - number of epochs\n",
    "        - batch_size - batch size\n",
    "\n",
    "    Returns:\n",
    "        - all_histories_acc - accuracy for all epochs and folds\n",
    "        - all_histories_prec - precision for all epochs and folds\n",
    "        - all_histories_rec - recall for all epochs and folds\n",
    "\n",
    "    \"\"\"\n",
    "    num_val_samples = len(train_data) // k\n",
    "    all_histories_acc = []\n",
    "    all_histories_prec = []\n",
    "    all_histories_rec = []\n",
    "\n",
    "    for i in range(k):\n",
    "        print('processing fold #', i)\n",
    "        val_data = train_data[i * num_val_samples:(i + 1) * num_val_samples]\n",
    "        val_targets = train_targets[i *\n",
    "                                    num_val_samples:(i + 1) * num_val_samples]\n",
    "\n",
    "        partial_train_data = np.concatenate(\n",
    "            [train_data[:i * num_val_samples],\n",
    "             train_data[(i + 1) * num_val_samples:]],\n",
    "            axis=0)\n",
    "\n",
    "        partial_train_targets = np.concatenate(\n",
    "            [train_targets[:i * num_val_samples],\n",
    "             train_targets[(i + 1) * num_val_samples:]],\n",
    "            axis=0\n",
    "        )\n",
    "\n",
    "        #model = build_model()\n",
    "        history = model.fit(\n",
    "            partial_train_data, partial_train_targets,\n",
    "            epochs=epochs,\n",
    "            batch_size=batch_size,\n",
    "            verbose=0,\n",
    "            validation_data=(val_data, val_targets)\n",
    "        )\n",
    "\n",
    "        metric_history_acc = history.history['val_accuracy']\n",
    "        all_histories_acc.append(metric_history_acc)\n",
    "\n",
    "        metric_history_prec = history.history['val_precision']\n",
    "        all_histories_prec.append(metric_history_prec)\n",
    "\n",
    "        metric_history_rec = history.history['val_recall']\n",
    "        all_histories_rec.append(metric_history_rec)\n",
    "\n",
    "    return all_histories_acc, all_histories_prec, all_histories_rec"
   ]
  },
  {
   "cell_type": "code",
   "execution_count": 51,
   "metadata": {},
   "outputs": [
    {
     "name": "stdout",
     "output_type": "stream",
     "text": [
      "processing fold # 0\n",
      "processing fold # 1\n",
      "processing fold # 2\n",
      "processing fold # 3\n"
     ]
    }
   ],
   "source": [
    "all_histories_acc_bow, all_histories_prec_bow, all_histories_rec_bow = with_cross_val(\n",
    "    k=4,\n",
    "    model=model_bow,\n",
    "    train_data=data_oh,\n",
    "    train_targets=labels_encoded_oh,\n",
    "    epochs=epochs,\n",
    "    batch_size=batch_size)"
   ]
  },
  {
   "cell_type": "code",
   "execution_count": 52,
   "metadata": {},
   "outputs": [
    {
     "data": {
      "text/plain": [
       "0.4472111612558365"
      ]
     },
     "execution_count": 52,
     "metadata": {},
     "output_type": "execute_result"
    }
   ],
   "source": [
    "average_acc_history_bow = [\n",
    "    np.mean([x[i] for x in all_histories_acc_bow]) for i in range(epochs)]\n",
    "average_acc_history_bow[-1]"
   ]
  },
  {
   "cell_type": "code",
   "execution_count": 53,
   "metadata": {},
   "outputs": [
    {
     "data": {
      "image/png": "[encoded data removed]",
      "text/plain": [
       "<Figure size 432x288 with 1 Axes>"
      ]
     },
     "metadata": {
      "needs_background": "light"
     },
     "output_type": "display_data"
    }
   ],
   "source": [
    "plt.plot(range(1, len(average_acc_history_bow) + 1), average_acc_history_bow)\n",
    "plt.xlabel('Epochs')\n",
    "plt.ylabel('Validation Acc')\n",
    "plt.show()"
   ]
  },
  {
   "cell_type": "code",
   "execution_count": 54,
   "metadata": {},
   "outputs": [
    {
     "name": "stdout",
     "output_type": "stream",
     "text": [
      "processing fold # 0\n",
      "processing fold # 1\n",
      "processing fold # 2\n",
      "processing fold # 3\n"
     ]
    }
   ],
   "source": [
    "all_histories_acc_emb, all_histories_prec_emb, all_histories_rec_emb = with_cross_val(\n",
    "    k=4,\n",
    "    model=model_emb,\n",
    "    train_data=data_ovs,\n",
    "    train_targets=labels_encoded,\n",
    "    epochs=epochs,\n",
    "    batch_size=batch_size)"
   ]
  },
  {
   "cell_type": "code",
   "execution_count": 55,
   "metadata": {},
   "outputs": [
    {
     "data": {
      "text/plain": [
       "0.8856573849916458"
      ]
     },
     "execution_count": 55,
     "metadata": {},
     "output_type": "execute_result"
    }
   ],
   "source": [
    "average_acc_history_emb = [\n",
    "    np.mean([x[i] for x in all_histories_acc_emb]) for i in range(epochs)]\n",
    "average_acc_history_emb[-1]"
   ]
  },
  {
   "cell_type": "code",
   "execution_count": 56,
   "metadata": {},
   "outputs": [
    {
     "data": {
      "image/png": "[encoded data removed]",
      "text/plain": [
       "<Figure size 432x288 with 1 Axes>"
      ]
     },
     "metadata": {
      "needs_background": "light"
     },
     "output_type": "display_data"
    }
   ],
   "source": [
    "plt.plot(range(1, len(average_acc_history_emb) + 1), average_acc_history_emb)\n",
    "plt.xlabel('Epochs')\n",
    "plt.ylabel('Validation Acc')\n",
    "plt.show()"
   ]
  },
  {
   "cell_type": "code",
   "execution_count": 57,
   "metadata": {},
   "outputs": [
    {
     "name": "stdout",
     "output_type": "stream",
     "text": [
      "processing fold # 0\n",
      "processing fold # 1\n",
      "processing fold # 2\n",
      "processing fold # 3\n"
     ]
    }
   ],
   "source": [
    "all_histories_acc_transf, all_histories_prec_transf, all_histories_rec_transf = with_cross_val(\n",
    "    k=4,\n",
    "    model=model_transf,\n",
    "    train_data=data_ovs,\n",
    "    train_targets=labels_encoded,\n",
    "    epochs=epochs,\n",
    "    batch_size=batch_size)"
   ]
  },
  {
   "cell_type": "code",
   "execution_count": 58,
   "metadata": {},
   "outputs": [
    {
     "data": {
      "text/plain": [
       "0.8488711714744568"
      ]
     },
     "execution_count": 58,
     "metadata": {},
     "output_type": "execute_result"
    }
   ],
   "source": [
    "average_acc_history_transf = [\n",
    "    np.mean([x[i] for x in all_histories_acc_transf]) for i in range(epochs)]\n",
    "average_acc_history_transf[-1]"
   ]
  },
  {
   "cell_type": "code",
   "execution_count": 59,
   "metadata": {},
   "outputs": [
    {
     "data": {
      "image/png": "[encoded data removed]",
      "text/plain": [
       "<Figure size 432x288 with 1 Axes>"
      ]
     },
     "metadata": {
      "needs_background": "light"
     },
     "output_type": "display_data"
    }
   ],
   "source": [
    "plt.plot(range(1, len(average_acc_history_transf) + 1),\n",
    "         average_acc_history_transf)\n",
    "plt.xlabel('Epochs')\n",
    "plt.ylabel('Validation Acc')\n",
    "plt.show()"
   ]
  },
  {
   "cell_type": "code",
   "execution_count": 60,
   "metadata": {},
   "outputs": [
    {
     "name": "stdout",
     "output_type": "stream",
     "text": [
      "processing fold # 0\n",
      "processing fold # 1\n",
      "processing fold # 2\n",
      "processing fold # 3\n"
     ]
    }
   ],
   "source": [
    "all_histories_acc_lstm, all_histories_prec_lstm, all_histories_rec_lstm = with_cross_val(\n",
    "    k=4,\n",
    "    model=model_lstm,\n",
    "    train_data=data_ovs,\n",
    "    train_targets=labels_encoded,\n",
    "    epochs=epochs,\n",
    "    batch_size=batch_size)"
   ]
  },
  {
   "cell_type": "code",
   "execution_count": 61,
   "metadata": {},
   "outputs": [
    {
     "data": {
      "text/plain": [
       "0.7120185941457748"
      ]
     },
     "execution_count": 61,
     "metadata": {},
     "output_type": "execute_result"
    }
   ],
   "source": [
    "average_acc_history_lstm = [\n",
    "    np.mean([x[i] for x in all_histories_acc_lstm]) for i in range(epochs)]\n",
    "average_acc_history_lstm[-1]"
   ]
  },
  {
   "cell_type": "code",
   "execution_count": 62,
   "metadata": {},
   "outputs": [
    {
     "data": {
      "image/png": "[encoded data removed]",
      "text/plain": [
       "<Figure size 432x288 with 1 Axes>"
      ]
     },
     "metadata": {
      "needs_background": "light"
     },
     "output_type": "display_data"
    }
   ],
   "source": [
    "plt.plot(range(1, len(average_acc_history_lstm) + 1), average_acc_history_lstm)\n",
    "plt.xlabel('Epochs')\n",
    "plt.ylabel('Validation Acc')\n",
    "plt.show()"
   ]
  },
  {
   "cell_type": "code",
   "execution_count": 63,
   "metadata": {},
   "outputs": [
    {
     "name": "stdout",
     "output_type": "stream",
     "text": [
      "processing fold # 0\n",
      "processing fold # 1\n",
      "processing fold # 2\n",
      "processing fold # 3\n"
     ]
    }
   ],
   "source": [
    "all_histories_acc_conv1d, all_histories_prec_conv1d, all_histories_rec_conv1d = with_cross_val(\n",
    "    k=4,\n",
    "    model=model_conv1d,\n",
    "    train_data=data_ovs,\n",
    "    train_targets=labels_encoded,\n",
    "    epochs=epochs,\n",
    "    batch_size=batch_size)"
   ]
  },
  {
   "cell_type": "code",
   "execution_count": 64,
   "metadata": {},
   "outputs": [
    {
     "data": {
      "text/plain": [
       "0.7585657387971878"
      ]
     },
     "execution_count": 64,
     "metadata": {},
     "output_type": "execute_result"
    }
   ],
   "source": [
    "average_acc_history_conv1d = [\n",
    "    np.mean([x[i] for x in all_histories_acc_conv1d]) for i in range(epochs)]\n",
    "average_acc_history_conv1d[-1]"
   ]
  },
  {
   "cell_type": "code",
   "execution_count": 65,
   "metadata": {},
   "outputs": [
    {
     "data": {
      "image/png": "[encoded data removed]",
      "text/plain": [
       "<Figure size 432x288 with 1 Axes>"
      ]
     },
     "metadata": {
      "needs_background": "light"
     },
     "output_type": "display_data"
    }
   ],
   "source": [
    "plt.plot(range(1, len(average_acc_history_conv1d) + 1),\n",
    "         average_acc_history_conv1d)\n",
    "plt.xlabel('Epochs')\n",
    "plt.ylabel('Validation Acc')\n",
    "plt.show()"
   ]
  },
  {
   "cell_type": "markdown",
   "metadata": {},
   "source": [
    "This time on the validation set - the results are drammatically improved. However, the fully connected NN with Embedding Layer still has the best performance. "
   ]
  },
  {
   "cell_type": "code",
   "execution_count": null,
   "metadata": {},
   "outputs": [],
   "source": []
  }
 ],
 "metadata": {
  "kernelspec": {
   "display_name": "nlp-sent",
   "language": "python",
   "name": "nlp-sent"
  },
  "language_info": {
   "codemirror_mode": {
    "name": "ipython",
    "version": 3
   },
   "file_extension": ".py",
   "mimetype": "text/x-python",
   "name": "python",
   "nbconvert_exporter": "python",
   "pygments_lexer": "ipython3",
   "version": "3.6.12"
  }
 },
 "nbformat": 4,
 "nbformat_minor": 4
}
