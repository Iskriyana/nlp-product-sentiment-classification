{
 "cells": [
  {
   "cell_type": "markdown",
   "metadata": {},
   "source": [
    "# Goal of this notebook is: "
   ]
  },
  {
   "cell_type": "markdown",
   "metadata": {},
   "source": [
    "to test the performance of several models. \n",
    "* A sklearn's DummyClassifier with strategy='most_frequent' will be used as a baseline. \n",
    "* Keras' Embedding Layer, GloVe for pre-trained word embeddings, an LSTM and a 1D ConvNet will be used as potential main models.\n",
    "* Performance metrics are accuracy, precision and recall."
   ]
  },
  {
   "cell_type": "markdown",
   "metadata": {},
   "source": [
    "### Disclaimer: this notebook is from an early stage of the project. As a result it exhibits less structure, but it is kept to demonstrate the models before any tuning. \n",
    "\n",
    "* for final choice see Notebook 02_2_NLP_Exploration_Models_with_TF"
   ]
  },
  {
   "cell_type": "markdown",
   "metadata": {},
   "source": [
    "# Import Libraries"
   ]
  },
  {
   "cell_type": "code",
   "execution_count": 1,
   "metadata": {},
   "outputs": [],
   "source": [
    "import keras\n",
    "import matplotlib.pyplot as plt\n",
    "import numpy as np\n",
    "import os\n",
    "import pandas as pd\n",
    "import pickle\n",
    "import sys\n",
    "import tensorflow as tf\n",
    "\n",
    "from collections import Counter\n",
    "from imblearn.over_sampling import SMOTE\n",
    "from keras import layers\n",
    "from keras import models\n",
    "from keras import regularizers\n",
    "from keras import utils\n",
    "from keras.utils import to_categorical\n",
    "from tensorflow import keras\n",
    "\n",
    "%matplotlib inline"
   ]
  },
  {
   "cell_type": "markdown",
   "metadata": {},
   "source": [
    "# Preparation Steps"
   ]
  },
  {
   "cell_type": "code",
   "execution_count": 2,
   "metadata": {},
   "outputs": [],
   "source": [
    "# folders\n",
    "home = os.getenv(\"HOME\")\n",
    "nlp_repo = os.path.join(home, 'git/nlp-product-sentiment-classification')\n",
    "\n",
    "# data\n",
    "train_csv_path = os.path.join(nlp_repo, 'data/03_processed/Train.csv')\n",
    "train_descr = pd.read_csv(train_csv_path)\n",
    "\n",
    "test_csv_path = os.path.join(nlp_repo, 'data/03_processed/Test.csv')\n",
    "test_descr = pd.read_csv(test_csv_path)\n",
    "\n",
    "# encoded tokens\n",
    "preprocessed_corpus_path_TF = os.path.join(\n",
    "    nlp_repo, 'data/03_processed/product_descr_preprocessed_TF.p')\n",
    "\n",
    "preprocessed_corpus_path_TF_oh = os.path.join(\n",
    "    nlp_repo, 'data/03_processed/product_descr_preprocessed_TF_oh.p')"
   ]
  },
  {
   "cell_type": "code",
   "execution_count": 3,
   "metadata": {},
   "outputs": [],
   "source": [
    "# read-in the list of tokens and the vocabulary\n",
    "sequences, word_index = pd.read_pickle(preprocessed_corpus_path_TF)"
   ]
  },
  {
   "cell_type": "markdown",
   "metadata": {},
   "source": [
    "# Parameters"
   ]
  },
  {
   "cell_type": "code",
   "execution_count": 4,
   "metadata": {},
   "outputs": [],
   "source": [
    "# Embedding Tokens\n",
    "\n",
    "# max_words = vocabulary size = our samples - number of most frequent words.\n",
    "# For this case, it is set to 10.000, although the data set at hand has less.\n",
    "# This is done to parametise the code.\n",
    "# Aleternatively, it can be set to the length of our vocabulary = word_index\n",
    "max_words = 10000\n",
    "\n",
    "# embedding_size = embedding dimensionality\n",
    "embedding_size = 10\n",
    "\n",
    "# max_len = sequence length - the text is cut off after this number of words\n",
    "# in this case I define it as the maximum sequence length in our list of tokenised sequences\n",
    "max_len = np.max([len(x) for x in sequences])\n",
    "\n",
    "\n",
    "# Training parameters\n",
    "model_path = \"product_descr_TF.h5\"\n",
    "epochs = 15\n",
    "batch_size = 28\n",
    "\n",
    "# For GloVe word-embeddings matrix (pre-trained model)\n",
    "embedding_dim = 100"
   ]
  },
  {
   "cell_type": "code",
   "execution_count": 5,
   "metadata": {},
   "outputs": [],
   "source": [
    "data = tf.keras.preprocessing.sequence.pad_sequences(\n",
    "    sequences, maxlen=max_len)"
   ]
  },
  {
   "cell_type": "code",
   "execution_count": 6,
   "metadata": {},
   "outputs": [],
   "source": [
    "labels = train_descr.loc[:, 'Sentiment'].to_list()"
   ]
  },
  {
   "cell_type": "code",
   "execution_count": 7,
   "metadata": {},
   "outputs": [
    {
     "data": {
      "text/plain": [
       "(6364, 25)"
      ]
     },
     "execution_count": 7,
     "metadata": {},
     "output_type": "execute_result"
    }
   ],
   "source": [
    "data.shape"
   ]
  },
  {
   "cell_type": "markdown",
   "metadata": {},
   "source": [
    "### Oversampling the Minortiy Classes"
   ]
  },
  {
   "cell_type": "code",
   "execution_count": 8,
   "metadata": {},
   "outputs": [],
   "source": [
    "def oversample_smote(data, labels):\n",
    "    oversample = SMOTE()\n",
    "    data, labels = oversample.fit_resample(data, labels)\n",
    "\n",
    "    counter = Counter(labels)\n",
    "    for k, v in counter.items():\n",
    "        per = v / len(labels) * 100\n",
    "        print('Class=%d, n=%d (%.3f%%)' % (k, v, per))\n",
    "    # plot the distribution\n",
    "    plt.bar(counter.keys(), counter.values())\n",
    "    plt.show()\n",
    "\n",
    "    return data, labels"
   ]
  },
  {
   "cell_type": "code",
   "execution_count": 9,
   "metadata": {},
   "outputs": [
    {
     "name": "stdout",
     "output_type": "stream",
     "text": [
      "Class=2, n=3765 (25.000%)\n",
      "Class=1, n=3765 (25.000%)\n",
      "Class=3, n=3765 (25.000%)\n",
      "Class=0, n=3765 (25.000%)\n"
     ]
    },
    {
     "data": {
      "image/png": "[encoded data removed]",
      "text/plain": [
       "<Figure size 432x288 with 1 Axes>"
      ]
     },
     "metadata": {
      "needs_background": "light"
     },
     "output_type": "display_data"
    }
   ],
   "source": [
    "data_ovs, labels_ovs = oversample_smote(data, labels)"
   ]
  },
  {
   "cell_type": "code",
   "execution_count": 10,
   "metadata": {},
   "outputs": [],
   "source": [
    "dimensions_labels = len(np.unique(labels_ovs))"
   ]
  },
  {
   "cell_type": "code",
   "execution_count": 11,
   "metadata": {},
   "outputs": [],
   "source": [
    "labels_encoded = tf.one_hot(indices=labels_ovs, depth=dimensions_labels)"
   ]
  },
  {
   "cell_type": "code",
   "execution_count": 12,
   "metadata": {},
   "outputs": [],
   "source": [
    "labels_encoded = np.asarray(labels_encoded)"
   ]
  },
  {
   "cell_type": "code",
   "execution_count": 13,
   "metadata": {},
   "outputs": [
    {
     "name": "stdout",
     "output_type": "stream",
     "text": [
      "Shape of data_ovs tensor: (15060, 25)\n",
      "Shape of label_ovs tensor (15060, 4)\n"
     ]
    }
   ],
   "source": [
    "print('Shape of data_ovs tensor:', data_ovs.shape)\n",
    "print('Shape of label_ovs tensor', labels_encoded.shape)"
   ]
  },
  {
   "cell_type": "code",
   "execution_count": 14,
   "metadata": {},
   "outputs": [],
   "source": [
    "indices = np.arange(data_ovs.shape[0])\n",
    "np.random.shuffle(indices)"
   ]
  },
  {
   "cell_type": "code",
   "execution_count": 15,
   "metadata": {},
   "outputs": [],
   "source": [
    "data_ovs = data_ovs[indices]\n",
    "labels_encoded = labels_encoded[indices]"
   ]
  },
  {
   "cell_type": "code",
   "execution_count": 16,
   "metadata": {},
   "outputs": [],
   "source": [
    "training_samples = int(0.8 * len(data_ovs))"
   ]
  },
  {
   "cell_type": "code",
   "execution_count": 17,
   "metadata": {},
   "outputs": [],
   "source": [
    "x_train = data_ovs[:training_samples]\n",
    "y_train = labels_encoded[:training_samples]\n",
    "\n",
    "x_val = data_ovs[training_samples:]\n",
    "y_val = labels_encoded[training_samples:]"
   ]
  },
  {
   "cell_type": "code",
   "execution_count": 18,
   "metadata": {},
   "outputs": [],
   "source": [
    "def get_key(my_dict, val):\n",
    "    for key, value in my_dict.items():\n",
    "        if val == value:\n",
    "            return key\n",
    "\n",
    "    return \"key doesn't exist\""
   ]
  },
  {
   "cell_type": "code",
   "execution_count": 19,
   "metadata": {},
   "outputs": [
    {
     "data": {
      "text/plain": [
       "'sxsw'"
      ]
     },
     "execution_count": 19,
     "metadata": {},
     "output_type": "execute_result"
    }
   ],
   "source": [
    "get_key(word_index, 2)"
   ]
  },
  {
   "cell_type": "markdown",
   "metadata": {},
   "source": [
    "# Baseline Model"
   ]
  },
  {
   "cell_type": "markdown",
   "metadata": {},
   "source": [
    "Source: https://machinelearningmastery.com/imbalanced-multiclass-classification-with-the-glass-identification-dataset/"
   ]
  },
  {
   "cell_type": "code",
   "execution_count": 20,
   "metadata": {},
   "outputs": [],
   "source": [
    "from sklearn.model_selection import cross_val_score\n",
    "from sklearn.model_selection import RepeatedStratifiedKFold\n",
    "from sklearn.model_selection import KFold\n",
    "from sklearn.dummy import DummyClassifier"
   ]
  },
  {
   "cell_type": "code",
   "execution_count": 21,
   "metadata": {},
   "outputs": [],
   "source": [
    "model = DummyClassifier(strategy='most_frequent')"
   ]
  },
  {
   "cell_type": "code",
   "execution_count": 22,
   "metadata": {},
   "outputs": [
    {
     "name": "stdout",
     "output_type": "stream",
     "text": [
      "Mean Accuracy: 0.592 (0.005)\n"
     ]
    }
   ],
   "source": [
    "cv_test = KFold(n_splits=4, shuffle=True, random_state=1)\n",
    "scores_test = cross_val_score(\n",
    "    model, data, labels, scoring='accuracy', cv=cv_test, n_jobs=-1)\n",
    "print('Mean Accuracy: %.3f (%.3f)' %\n",
    "      (np.mean(scores_test), np.std(scores_test)))"
   ]
  },
  {
   "cell_type": "markdown",
   "metadata": {},
   "source": [
    "# Bag-of-Words"
   ]
  },
  {
   "cell_type": "markdown",
   "metadata": {},
   "source": [
    "* Its advantages are that it is fairly easy and quick to build. \n",
    "* The downside is that bag-of-words does not perserve the order of the sentence. As a result the structure of a sentence is lost. \n",
    "* RNNs & 1D ConvNets will be tried later in order to remedy this."
   ]
  },
  {
   "cell_type": "code",
   "execution_count": 23,
   "metadata": {},
   "outputs": [],
   "source": [
    "sequences_oh, word_index_oh = pd.read_pickle(preprocessed_corpus_path_TF_oh)"
   ]
  },
  {
   "cell_type": "code",
   "execution_count": 24,
   "metadata": {},
   "outputs": [
    {
     "data": {
      "text/plain": [
       "(6364, 10000)"
      ]
     },
     "execution_count": 24,
     "metadata": {},
     "output_type": "execute_result"
    }
   ],
   "source": [
    "sequences_oh.shape"
   ]
  },
  {
   "cell_type": "code",
   "execution_count": 25,
   "metadata": {},
   "outputs": [
    {
     "name": "stdout",
     "output_type": "stream",
     "text": [
      "Class=2, n=3765 (25.000%)\n",
      "Class=1, n=3765 (25.000%)\n",
      "Class=3, n=3765 (25.000%)\n",
      "Class=0, n=3765 (25.000%)\n"
     ]
    },
    {
     "data": {
      "image/png": "[encoded data removed]",
      "text/plain": [
       "<Figure size 432x288 with 1 Axes>"
      ]
     },
     "metadata": {
      "needs_background": "light"
     },
     "output_type": "display_data"
    }
   ],
   "source": [
    "sequences_oh, labels_oh = oversample_smote(sequences_oh, labels)"
   ]
  },
  {
   "cell_type": "code",
   "execution_count": 26,
   "metadata": {},
   "outputs": [
    {
     "data": {
      "text/plain": [
       "(15060, 10000)"
      ]
     },
     "execution_count": 26,
     "metadata": {},
     "output_type": "execute_result"
    }
   ],
   "source": [
    "sequences_oh.shape"
   ]
  },
  {
   "cell_type": "code",
   "execution_count": 27,
   "metadata": {},
   "outputs": [],
   "source": [
    "labels_encoded_oh = tf.one_hot(indices=labels_oh, depth=dimensions_labels)"
   ]
  },
  {
   "cell_type": "code",
   "execution_count": 28,
   "metadata": {},
   "outputs": [],
   "source": [
    "data_oh = sequences_oh[indices]"
   ]
  },
  {
   "cell_type": "code",
   "execution_count": 29,
   "metadata": {},
   "outputs": [],
   "source": [
    "training_samples_oh = int(0.8 * len(data_oh))"
   ]
  },
  {
   "cell_type": "code",
   "execution_count": 30,
   "metadata": {},
   "outputs": [],
   "source": [
    "x_train_oh = data_oh[:training_samples_oh]\n",
    "y_train_oh = labels_encoded_oh[:training_samples_oh]\n",
    "\n",
    "x_val_oh = data_oh[training_samples_oh:]\n",
    "y_val_oh = labels_encoded_oh[training_samples_oh:]"
   ]
  },
  {
   "cell_type": "code",
   "execution_count": 31,
   "metadata": {},
   "outputs": [],
   "source": [
    "metrics = [\n",
    "    keras.metrics.CategoricalAccuracy(name='accuracy'),\n",
    "    keras.metrics.Precision(name='precision'),\n",
    "    keras.metrics.Recall(name='recall')]"
   ]
  },
  {
   "cell_type": "markdown",
   "metadata": {},
   "source": [
    "# Fully Connected NN & Bag-of-Words"
   ]
  },
  {
   "cell_type": "code",
   "execution_count": 32,
   "metadata": {},
   "outputs": [
    {
     "name": "stdout",
     "output_type": "stream",
     "text": [
      "Model: \"sequential\"\n",
      "_________________________________________________________________\n",
      "Layer (type)                 Output Shape              Param #   \n",
      "=================================================================\n",
      "dense (Dense)                (None, 32)                320032    \n",
      "_________________________________________________________________\n",
      "dense_1 (Dense)              (None, 32)                1056      \n",
      "_________________________________________________________________\n",
      "dense_2 (Dense)              (None, 4)                 132       \n",
      "=================================================================\n",
      "Total params: 321,220\n",
      "Trainable params: 321,220\n",
      "Non-trainable params: 0\n",
      "_________________________________________________________________\n"
     ]
    }
   ],
   "source": [
    "model_bow = models.Sequential()\n",
    "\n",
    "model_bow.add(layers.Dense(32, activation='relu',\n",
    "                           input_shape=(max_words, )))\n",
    "# model_bow.add(layers.Dropout(0.5))\n",
    "model_bow.add(layers.Dense(32, activation='relu'))\n",
    "# model_bow.add(layers.Dropout(0.5))\n",
    "model_bow.add(layers.Dense(dimensions_labels, activation='softmax'))\n",
    "\n",
    "model_bow.summary()\n",
    "\n",
    "model_bow.compile(\n",
    "    optimizer='adam',\n",
    "    loss='categorical_crossentropy',\n",
    "    metrics=metrics\n",
    ")"
   ]
  },
  {
   "cell_type": "code",
   "execution_count": 33,
   "metadata": {},
   "outputs": [
    {
     "name": "stdout",
     "output_type": "stream",
     "text": [
      "Epoch 1/15\n",
      "431/431 [==============================] - 1s 3ms/step - loss: 1.3588 - accuracy: 0.3067 - precision: 0.6667 - recall: 1.6600e-04 - val_loss: 1.6689 - val_accuracy: 0.0000e+00 - val_precision: 0.0000e+00 - val_recall: 0.0000e+00\n",
      "Epoch 2/15\n",
      "431/431 [==============================] - 1s 2ms/step - loss: 1.3256 - accuracy: 0.3625 - precision: 0.4528 - recall: 0.0060 - val_loss: 1.7142 - val_accuracy: 0.0256 - val_precision: 0.0000e+00 - val_recall: 0.0000e+00\n",
      "Epoch 3/15\n",
      "431/431 [==============================] - 1s 2ms/step - loss: 1.2543 - accuracy: 0.4248 - precision: 0.6048 - recall: 0.0843 - val_loss: 1.8218 - val_accuracy: 0.0837 - val_precision: 0.0564 - val_recall: 0.0073\n",
      "Epoch 4/15\n",
      "431/431 [==============================] - 1s 2ms/step - loss: 1.1624 - accuracy: 0.4732 - precision: 0.6771 - recall: 0.1942 - val_loss: 1.9481 - val_accuracy: 0.0890 - val_precision: 0.0834 - val_recall: 0.0226\n",
      "Epoch 5/15\n",
      "431/431 [==============================] - 1s 2ms/step - loss: 1.0829 - accuracy: 0.5142 - precision: 0.7033 - recall: 0.2729 - val_loss: 1.9760 - val_accuracy: 0.1218 - val_precision: 0.1433 - val_recall: 0.0458\n",
      "Epoch 6/15\n",
      "431/431 [==============================] - 1s 3ms/step - loss: 1.0235 - accuracy: 0.5375 - precision: 0.7157 - recall: 0.3206 - val_loss: 2.1949 - val_accuracy: 0.0950 - val_precision: 0.1086 - val_recall: 0.0438\n",
      "Epoch 7/15\n",
      "431/431 [==============================] - 1s 2ms/step - loss: 0.9770 - accuracy: 0.5569 - precision: 0.7257 - recall: 0.3553 - val_loss: 2.1800 - val_accuracy: 0.1225 - val_precision: 0.1304 - val_recall: 0.0548\n",
      "Epoch 8/15\n",
      "431/431 [==============================] - 1s 2ms/step - loss: 0.9396 - accuracy: 0.5708 - precision: 0.7372 - recall: 0.3811 - val_loss: 2.3444 - val_accuracy: 0.1135 - val_precision: 0.1205 - val_recall: 0.0584\n",
      "Epoch 9/15\n",
      "431/431 [==============================] - 1s 3ms/step - loss: 0.9050 - accuracy: 0.5891 - precision: 0.7514 - recall: 0.4084 - val_loss: 2.2302 - val_accuracy: 0.1587 - val_precision: 0.1737 - val_recall: 0.0803\n",
      "Epoch 10/15\n",
      "431/431 [==============================] - 1s 2ms/step - loss: 0.8765 - accuracy: 0.6019 - precision: 0.7578 - recall: 0.4268 - val_loss: 2.3867 - val_accuracy: 0.1464 - val_precision: 0.1599 - val_recall: 0.0790\n",
      "Epoch 11/15\n",
      "431/431 [==============================] - 1s 3ms/step - loss: 0.8522 - accuracy: 0.6170 - precision: 0.7650 - recall: 0.4434 - val_loss: 2.3738 - val_accuracy: 0.1793 - val_precision: 0.1862 - val_recall: 0.0969\n",
      "Epoch 12/15\n",
      "431/431 [==============================] - 1s 2ms/step - loss: 0.8283 - accuracy: 0.6270 - precision: 0.7732 - recall: 0.4623 - val_loss: 2.6282 - val_accuracy: 0.1401 - val_precision: 0.1542 - val_recall: 0.0827\n",
      "Epoch 13/15\n",
      "431/431 [==============================] - 1s 2ms/step - loss: 0.8070 - accuracy: 0.6372 - precision: 0.7773 - recall: 0.4783 - val_loss: 2.7119 - val_accuracy: 0.1471 - val_precision: 0.1518 - val_recall: 0.0850\n",
      "Epoch 14/15\n",
      "431/431 [==============================] - 1s 2ms/step - loss: 0.7908 - accuracy: 0.6420 - precision: 0.7810 - recall: 0.4952 - val_loss: 2.6299 - val_accuracy: 0.1776 - val_precision: 0.1835 - val_recall: 0.1046\n",
      "Epoch 15/15\n",
      "431/431 [==============================] - 1s 2ms/step - loss: 0.7719 - accuracy: 0.6548 - precision: 0.7890 - recall: 0.5110 - val_loss: 2.8609 - val_accuracy: 0.1594 - val_precision: 0.1643 - val_recall: 0.0999\n"
     ]
    }
   ],
   "source": [
    "history_bow = model_bow.fit(\n",
    "    x_train_oh, y_train_oh,\n",
    "    epochs=epochs,\n",
    "    batch_size=batch_size,\n",
    "    validation_data=(x_val_oh, y_val_oh)\n",
    ")"
   ]
  },
  {
   "cell_type": "code",
   "execution_count": 34,
   "metadata": {},
   "outputs": [
    {
     "data": {
      "image/png": "[encoded data removed]",
      "text/plain": [
       "<Figure size 432x288 with 1 Axes>"
      ]
     },
     "metadata": {
      "needs_background": "light"
     },
     "output_type": "display_data"
    },
    {
     "data": {
      "image/png": "[encoded data removed]",
      "text/plain": [
       "<Figure size 432x288 with 1 Axes>"
      ]
     },
     "metadata": {
      "needs_background": "light"
     },
     "output_type": "display_data"
    }
   ],
   "source": [
    "loss_bow = history_bow.history['loss']\n",
    "val_loss_bow = history_bow.history['val_loss']\n",
    "acc_bow = history_bow.history['accuracy']\n",
    "val_acc_bow = history_bow.history['val_accuracy']\n",
    "\n",
    "\n",
    "epochs_graph = range(1, len(acc_bow) + 1)\n",
    "\n",
    "plt.plot(epochs_graph, loss_bow, 'bo', label='Training loss')\n",
    "plt.plot(epochs_graph, val_loss_bow, 'b', label='Validation loss')\n",
    "plt.title('Training and validation loss')\n",
    "plt.legend()\n",
    "\n",
    "plt.figure()\n",
    "\n",
    "plt.plot(epochs_graph, acc_bow, 'bo', label='Training acc')\n",
    "plt.plot(epochs_graph, val_acc_bow, 'b', label='Validation acc')\n",
    "plt.title('Training and validation accuracy')\n",
    "plt.legend()\n",
    "\n",
    "plt.show()"
   ]
  },
  {
   "cell_type": "markdown",
   "metadata": {},
   "source": [
    "# Fully Conneceted NN & Embeddings Layer"
   ]
  },
  {
   "cell_type": "code",
   "execution_count": 35,
   "metadata": {},
   "outputs": [
    {
     "name": "stdout",
     "output_type": "stream",
     "text": [
      "Model: \"sequential_1\"\n",
      "_________________________________________________________________\n",
      "Layer (type)                 Output Shape              Param #   \n",
      "=================================================================\n",
      "embedding (Embedding)        (None, 25, 10)            100010    \n",
      "_________________________________________________________________\n",
      "flatten (Flatten)            (None, 250)               0         \n",
      "_________________________________________________________________\n",
      "dense_3 (Dense)              (None, 32)                8032      \n",
      "_________________________________________________________________\n",
      "dense_4 (Dense)              (None, 32)                1056      \n",
      "_________________________________________________________________\n",
      "dense_5 (Dense)              (None, 4)                 132       \n",
      "=================================================================\n",
      "Total params: 109,230\n",
      "Trainable params: 109,230\n",
      "Non-trainable params: 0\n",
      "_________________________________________________________________\n"
     ]
    }
   ],
   "source": [
    "model_emb = models.Sequential()\n",
    "\n",
    "model_emb.add(layers.Embedding(max_words+1,\n",
    "                               embedding_size, input_length=max_len))\n",
    "model_emb.add(layers.Flatten())\n",
    "model_emb.add(layers.Dense(32, activation='relu'))\n",
    "# model_emb.add(layers.Dropout(0.75))\n",
    "model_emb.add(layers.Dense(32, activation='relu'))\n",
    "# model_emb.add(layers.Dropout(0.75))\n",
    "model_emb.add(layers.Dense(dimensions_labels, activation='softmax'))\n",
    "\n",
    "model_emb.summary()\n",
    "\n",
    "model_emb.compile(\n",
    "    optimizer='adam',\n",
    "    loss='categorical_crossentropy',\n",
    "    metrics=metrics\n",
    ")"
   ]
  },
  {
   "cell_type": "code",
   "execution_count": 36,
   "metadata": {},
   "outputs": [
    {
     "name": "stdout",
     "output_type": "stream",
     "text": [
      "Epoch 1/15\n",
      "431/431 [==============================] - 1s 3ms/step - loss: 1.2491 - accuracy: 0.3458 - precision: 0.3540 - recall: 0.0739 - val_loss: 1.1587 - val_accuracy: 0.4602 - val_precision: 0.6094 - val_recall: 0.1424\n",
      "Epoch 2/15\n",
      "431/431 [==============================] - 1s 2ms/step - loss: 1.0173 - accuracy: 0.5366 - precision: 0.6510 - recall: 0.2983 - val_loss: 1.1200 - val_accuracy: 0.4904 - val_precision: 0.6073 - val_recall: 0.3137\n",
      "Epoch 3/15\n",
      "431/431 [==============================] - 1s 2ms/step - loss: 0.7720 - accuracy: 0.6823 - precision: 0.7438 - recall: 0.5774 - val_loss: 1.2850 - val_accuracy: 0.4724 - val_precision: 0.5243 - val_recall: 0.4007\n",
      "Epoch 4/15\n",
      "431/431 [==============================] - 1s 2ms/step - loss: 0.5266 - accuracy: 0.8044 - precision: 0.8346 - recall: 0.7596 - val_loss: 1.4625 - val_accuracy: 0.4721 - val_precision: 0.4963 - val_recall: 0.4270\n",
      "Epoch 5/15\n",
      "431/431 [==============================] - 1s 2ms/step - loss: 0.3554 - accuracy: 0.8787 - precision: 0.8963 - recall: 0.8600 - val_loss: 1.7426 - val_accuracy: 0.4658 - val_precision: 0.4814 - val_recall: 0.4436\n",
      "Epoch 6/15\n",
      "431/431 [==============================] - 1s 2ms/step - loss: 0.2475 - accuracy: 0.9172 - precision: 0.9252 - recall: 0.9090 - val_loss: 2.1064 - val_accuracy: 0.4685 - val_precision: 0.4761 - val_recall: 0.4495\n",
      "Epoch 7/15\n",
      "431/431 [==============================] - 1s 2ms/step - loss: 0.1814 - accuracy: 0.9431 - precision: 0.9464 - recall: 0.9388 - val_loss: 2.3564 - val_accuracy: 0.4618 - val_precision: 0.4688 - val_recall: 0.4482\n",
      "Epoch 8/15\n",
      "431/431 [==============================] - 1s 2ms/step - loss: 0.1448 - accuracy: 0.9553 - precision: 0.9576 - recall: 0.9535 - val_loss: 2.6385 - val_accuracy: 0.4608 - val_precision: 0.4649 - val_recall: 0.4502\n",
      "Epoch 9/15\n",
      "431/431 [==============================] - 1s 2ms/step - loss: 0.1183 - accuracy: 0.9634 - precision: 0.9644 - recall: 0.9617 - val_loss: 2.8180 - val_accuracy: 0.4525 - val_precision: 0.4596 - val_recall: 0.4472\n",
      "Epoch 10/15\n",
      "431/431 [==============================] - 1s 2ms/step - loss: 0.1052 - accuracy: 0.9659 - precision: 0.9671 - recall: 0.9650 - val_loss: 2.9683 - val_accuracy: 0.4588 - val_precision: 0.4625 - val_recall: 0.4499\n",
      "Epoch 11/15\n",
      "431/431 [==============================] - 1s 2ms/step - loss: 0.0904 - accuracy: 0.9721 - precision: 0.9726 - recall: 0.9716 - val_loss: 3.2009 - val_accuracy: 0.4495 - val_precision: 0.4528 - val_recall: 0.4442\n",
      "Epoch 12/15\n",
      "431/431 [==============================] - 1s 2ms/step - loss: 0.0791 - accuracy: 0.9743 - precision: 0.9746 - recall: 0.9735 - val_loss: 3.4267 - val_accuracy: 0.4532 - val_precision: 0.4569 - val_recall: 0.4475\n",
      "Epoch 13/15\n",
      "431/431 [==============================] - 1s 2ms/step - loss: 0.0741 - accuracy: 0.9736 - precision: 0.9739 - recall: 0.9734 - val_loss: 3.5325 - val_accuracy: 0.4522 - val_precision: 0.4545 - val_recall: 0.4479\n",
      "Epoch 14/15\n",
      "431/431 [==============================] - 1s 2ms/step - loss: 0.0693 - accuracy: 0.9765 - precision: 0.9766 - recall: 0.9760 - val_loss: 3.6267 - val_accuracy: 0.4519 - val_precision: 0.4555 - val_recall: 0.4472\n",
      "Epoch 15/15\n",
      "431/431 [==============================] - 1s 2ms/step - loss: 0.0617 - accuracy: 0.9789 - precision: 0.9790 - recall: 0.9786 - val_loss: 3.8383 - val_accuracy: 0.4575 - val_precision: 0.4589 - val_recall: 0.4525\n"
     ]
    }
   ],
   "source": [
    "history_emb = model_emb.fit(\n",
    "    x_train, y_train,\n",
    "    epochs=epochs,\n",
    "    batch_size=batch_size,\n",
    "    validation_data=(x_val, y_val)\n",
    ")"
   ]
  },
  {
   "cell_type": "code",
   "execution_count": 37,
   "metadata": {},
   "outputs": [
    {
     "data": {
      "image/png": "[encoded data removed]",
      "text/plain": [
       "<Figure size 432x288 with 1 Axes>"
      ]
     },
     "metadata": {
      "needs_background": "light"
     },
     "output_type": "display_data"
    },
    {
     "data": {
      "image/png": "[encoded data removed]",
      "text/plain": [
       "<Figure size 432x288 with 1 Axes>"
      ]
     },
     "metadata": {
      "needs_background": "light"
     },
     "output_type": "display_data"
    }
   ],
   "source": [
    "loss_emb = history_emb.history['loss']\n",
    "val_loss_emb = history_emb.history['val_loss']\n",
    "acc_emb = history_emb.history['accuracy']\n",
    "val_acc_emb = history_emb.history['val_accuracy']\n",
    "\n",
    "\n",
    "epochs_graph = range(1, len(acc_emb) + 1)\n",
    "\n",
    "plt.plot(epochs_graph, loss_emb, 'bo', label='Training loss')\n",
    "plt.plot(epochs_graph, val_loss_emb, 'b', label='Validation loss')\n",
    "plt.title('Training and validation loss')\n",
    "plt.legend()\n",
    "\n",
    "plt.figure()\n",
    "\n",
    "plt.plot(epochs_graph, acc_emb, 'bo', label='Training acc')\n",
    "plt.plot(epochs_graph, val_acc_emb, 'b', label='Validation acc')\n",
    "plt.title('Training and validation accuracy')\n",
    "plt.legend()\n",
    "\n",
    "plt.show()"
   ]
  },
  {
   "cell_type": "markdown",
   "metadata": {},
   "source": [
    "# Fully Conneceted NN & Pre-Trained Embeddings Layer"
   ]
  },
  {
   "cell_type": "code",
   "execution_count": 38,
   "metadata": {},
   "outputs": [],
   "source": [
    "glove_dir = os.path.join(home, nlp_repo, 'notebooks/02_processing/glove.6B')"
   ]
  },
  {
   "cell_type": "code",
   "execution_count": 39,
   "metadata": {},
   "outputs": [
    {
     "name": "stdout",
     "output_type": "stream",
     "text": [
      "Found 400000 word vectors.\n"
     ]
    }
   ],
   "source": [
    "embeddings_index = {}\n",
    "\n",
    "f = open(os.path.join(glove_dir, 'glove.6B.100d.txt'))\n",
    "for line in f:\n",
    "    values = line.split()\n",
    "    word = values[0]\n",
    "    coefs = np.asarray(values[1:], dtype='float32')\n",
    "    embeddings_index[word] = coefs\n",
    "f.close()\n",
    "\n",
    "print('Found %s word vectors.' % len(embeddings_index))"
   ]
  },
  {
   "cell_type": "code",
   "execution_count": 40,
   "metadata": {},
   "outputs": [
    {
     "name": "stdout",
     "output_type": "stream",
     "text": [
      "(10001, 100)\n"
     ]
    }
   ],
   "source": [
    "embedding_matrix = np.zeros((max_words+1, embedding_dim))\n",
    "\n",
    "for word, i in word_index.items():\n",
    "    if i < max_words:\n",
    "        embedding_vector = embeddings_index.get(word)\n",
    "        if embedding_vector is not None:\n",
    "            embedding_matrix[i] = embedding_vector\n",
    "print(embedding_matrix.shape)"
   ]
  },
  {
   "cell_type": "code",
   "execution_count": 41,
   "metadata": {},
   "outputs": [
    {
     "name": "stdout",
     "output_type": "stream",
     "text": [
      "Model: \"sequential_2\"\n",
      "_________________________________________________________________\n",
      "Layer (type)                 Output Shape              Param #   \n",
      "=================================================================\n",
      "embedding_1 (Embedding)      (None, 25, 100)           1000100   \n",
      "_________________________________________________________________\n",
      "flatten_1 (Flatten)          (None, 2500)              0         \n",
      "_________________________________________________________________\n",
      "dense_6 (Dense)              (None, 32)                80032     \n",
      "_________________________________________________________________\n",
      "dense_7 (Dense)              (None, 32)                1056      \n",
      "_________________________________________________________________\n",
      "dense_8 (Dense)              (None, 4)                 132       \n",
      "=================================================================\n",
      "Total params: 1,081,320\n",
      "Trainable params: 81,220\n",
      "Non-trainable params: 1,000,100\n",
      "_________________________________________________________________\n"
     ]
    }
   ],
   "source": [
    "model_transf = models.Sequential()\n",
    "\n",
    "model_transf.add(layers.Embedding(max_words+1,\n",
    "                                  embedding_dim, input_length=max_len))\n",
    "\n",
    "model_transf.add(layers.Flatten())\n",
    "model_transf.add(layers.Dense(32, activation='relu'))\n",
    "# model_transf.add(layers.Dropout(0.75))\n",
    "model_transf.add(layers.Dense(32, activation='relu'))\n",
    "# model_transf.add(layers.Dropout(0.75))\n",
    "model_transf.add(layers.Dense(dimensions_labels, activation='softmax'))\n",
    "\n",
    "model_transf.layers[0].set_weights([embedding_matrix])  # !!!! important !!!!\n",
    "model_transf.layers[0].trainable = False\n",
    "\n",
    "\n",
    "# needed in order to save the weights: https://stackoverflow.com/questions/55908188/this-model-has-not-yet-been-built-error-on-model-summary\n",
    "model_transf.build((max_len,))\n",
    "\n",
    "model_transf.summary()\n",
    "\n",
    "\n",
    "model_transf.compile(\n",
    "    optimizer='adam',\n",
    "    loss='categorical_crossentropy',\n",
    "    metrics=metrics\n",
    ")"
   ]
  },
  {
   "cell_type": "code",
   "execution_count": 42,
   "metadata": {},
   "outputs": [
    {
     "name": "stdout",
     "output_type": "stream",
     "text": [
      "Epoch 1/15\n",
      "431/431 [==============================] - 2s 4ms/step - loss: 1.2299 - accuracy: 0.4254 - precision: 0.5173 - recall: 0.1881 - val_loss: 1.1949 - val_accuracy: 0.4389 - val_precision: 0.5993 - val_recall: 0.1753\n",
      "Epoch 2/15\n",
      "431/431 [==============================] - 1s 2ms/step - loss: 1.0553 - accuracy: 0.5375 - precision: 0.6650 - recall: 0.3156 - val_loss: 1.1630 - val_accuracy: 0.4665 - val_precision: 0.5641 - val_recall: 0.2935\n",
      "Epoch 3/15\n",
      "431/431 [==============================] - 1s 2ms/step - loss: 0.9112 - accuracy: 0.6047 - precision: 0.7164 - recall: 0.4534 - val_loss: 1.1828 - val_accuracy: 0.4874 - val_precision: 0.5693 - val_recall: 0.3708\n",
      "Epoch 4/15\n",
      "431/431 [==============================] - 1s 2ms/step - loss: 0.7685 - accuracy: 0.6816 - precision: 0.7627 - recall: 0.5750 - val_loss: 1.2451 - val_accuracy: 0.4970 - val_precision: 0.5464 - val_recall: 0.3987\n",
      "Epoch 5/15\n",
      "431/431 [==============================] - 1s 2ms/step - loss: 0.6348 - accuracy: 0.7501 - precision: 0.8059 - recall: 0.6735 - val_loss: 1.3451 - val_accuracy: 0.4847 - val_precision: 0.5155 - val_recall: 0.4200\n",
      "Epoch 6/15\n",
      "431/431 [==============================] - 1s 2ms/step - loss: 0.5135 - accuracy: 0.8044 - precision: 0.8493 - recall: 0.7551 - val_loss: 1.5581 - val_accuracy: 0.4801 - val_precision: 0.5035 - val_recall: 0.4359\n",
      "Epoch 7/15\n",
      "431/431 [==============================] - 1s 2ms/step - loss: 0.4146 - accuracy: 0.8468 - precision: 0.8775 - recall: 0.8120 - val_loss: 1.6839 - val_accuracy: 0.4781 - val_precision: 0.5000 - val_recall: 0.4456\n",
      "Epoch 8/15\n",
      "431/431 [==============================] - 1s 2ms/step - loss: 0.3339 - accuracy: 0.8795 - precision: 0.9030 - recall: 0.8533 - val_loss: 1.8845 - val_accuracy: 0.4701 - val_precision: 0.4878 - val_recall: 0.4499\n",
      "Epoch 9/15\n",
      "431/431 [==============================] - 1s 2ms/step - loss: 0.2728 - accuracy: 0.9031 - precision: 0.9183 - recall: 0.8866 - val_loss: 2.1640 - val_accuracy: 0.4635 - val_precision: 0.4725 - val_recall: 0.4419\n",
      "Epoch 10/15\n",
      "431/431 [==============================] - 1s 2ms/step - loss: 0.2319 - accuracy: 0.9186 - precision: 0.9324 - recall: 0.9072 - val_loss: 2.2561 - val_accuracy: 0.4718 - val_precision: 0.4785 - val_recall: 0.4535\n",
      "Epoch 11/15\n",
      "431/431 [==============================] - 1s 2ms/step - loss: 0.1801 - accuracy: 0.9419 - precision: 0.9502 - recall: 0.9338 - val_loss: 2.4277 - val_accuracy: 0.4688 - val_precision: 0.4749 - val_recall: 0.4519\n",
      "Epoch 12/15\n",
      "431/431 [==============================] - 1s 2ms/step - loss: 0.1542 - accuracy: 0.9507 - precision: 0.9565 - recall: 0.9445 - val_loss: 2.6050 - val_accuracy: 0.4811 - val_precision: 0.4877 - val_recall: 0.4681\n",
      "Epoch 13/15\n",
      "431/431 [==============================] - 1s 2ms/step - loss: 0.1365 - accuracy: 0.9577 - precision: 0.9626 - recall: 0.9520 - val_loss: 2.9592 - val_accuracy: 0.4691 - val_precision: 0.4731 - val_recall: 0.4592\n",
      "Epoch 14/15\n",
      "431/431 [==============================] - 1s 3ms/step - loss: 0.1341 - accuracy: 0.9568 - precision: 0.9616 - recall: 0.9528 - val_loss: 2.9728 - val_accuracy: 0.4724 - val_precision: 0.4782 - val_recall: 0.4628\n",
      "Epoch 15/15\n",
      "431/431 [==============================] - 1s 2ms/step - loss: 0.1205 - accuracy: 0.9614 - precision: 0.9646 - recall: 0.9586 - val_loss: 3.1249 - val_accuracy: 0.4655 - val_precision: 0.4708 - val_recall: 0.4578\n"
     ]
    }
   ],
   "source": [
    "history_transf = model_transf.fit(\n",
    "    x_train, y_train,\n",
    "    epochs=epochs,\n",
    "    batch_size=batch_size,\n",
    "    validation_data=(x_val, y_val)\n",
    ")\n",
    "\n",
    "model_transf.save_weights(f'{model_path}_transf')"
   ]
  },
  {
   "cell_type": "code",
   "execution_count": 43,
   "metadata": {},
   "outputs": [
    {
     "data": {
      "image/png": "[encoded data removed]",
      "text/plain": [
       "<Figure size 432x288 with 1 Axes>"
      ]
     },
     "metadata": {
      "needs_background": "light"
     },
     "output_type": "display_data"
    },
    {
     "data": {
      "image/png": "[encoded data removed]",
      "text/plain": [
       "<Figure size 432x288 with 1 Axes>"
      ]
     },
     "metadata": {
      "needs_background": "light"
     },
     "output_type": "display_data"
    }
   ],
   "source": [
    "loss_transf = history_transf.history['loss']\n",
    "val_loss_transf = history_transf.history['val_loss']\n",
    "acc_transf = history_transf.history['accuracy']\n",
    "val_acc_transf = history_transf.history['val_accuracy']\n",
    "\n",
    "\n",
    "epochs_graph = range(1, len(acc_transf) + 1)\n",
    "\n",
    "plt.plot(epochs_graph, loss_transf, 'bo', label='Training loss')\n",
    "plt.plot(epochs_graph, val_loss_transf, 'b', label='Validation loss')\n",
    "plt.title('Training and validation loss')\n",
    "plt.legend()\n",
    "\n",
    "plt.figure()\n",
    "\n",
    "plt.plot(epochs_graph, acc_transf, 'bo', label='Training acc')\n",
    "plt.plot(epochs_graph, val_acc_transf, 'b', label='Validation acc')\n",
    "plt.title('Training and validation accuracy')\n",
    "plt.legend()\n",
    "\n",
    "plt.show()"
   ]
  },
  {
   "cell_type": "markdown",
   "metadata": {},
   "source": [
    "# LSTM"
   ]
  },
  {
   "cell_type": "code",
   "execution_count": 44,
   "metadata": {},
   "outputs": [
    {
     "name": "stdout",
     "output_type": "stream",
     "text": [
      "Model: \"sequential_3\"\n",
      "_________________________________________________________________\n",
      "Layer (type)                 Output Shape              Param #   \n",
      "=================================================================\n",
      "embedding_2 (Embedding)      (None, 25, 100)           1000100   \n",
      "_________________________________________________________________\n",
      "lstm (LSTM)                  (None, 32)                17024     \n",
      "_________________________________________________________________\n",
      "dense_9 (Dense)              (None, 32)                1056      \n",
      "_________________________________________________________________\n",
      "dense_10 (Dense)             (None, 32)                1056      \n",
      "_________________________________________________________________\n",
      "dense_11 (Dense)             (None, 4)                 132       \n",
      "=================================================================\n",
      "Total params: 1,019,368\n",
      "Trainable params: 19,268\n",
      "Non-trainable params: 1,000,100\n",
      "_________________________________________________________________\n"
     ]
    }
   ],
   "source": [
    "model_lstm = models.Sequential()\n",
    "\n",
    "model_lstm.add(layers.Embedding(max_words+1,\n",
    "                                embedding_dim, input_length=max_len))\n",
    "\n",
    "# model_lstm.add(layers.Flatten())\n",
    "# Option 1\n",
    "model_lstm.add(layers.LSTM(32))\n",
    "\n",
    "# Option 2\n",
    "# model.add(layers.LSTM(32, return_sequences=True)) # stacking of LSTMs\n",
    "# model.add(layers.LSTM(32)) # the size of the hidden state, randomly defined\n",
    "model_lstm.add(layers.Dense(32, activation='relu'))\n",
    "# model_lstm.add(layers.Dropout(0.5))\n",
    "model_lstm.add(layers.Dense(32, activation='relu'))\n",
    "# model_lstm.add(layers.Dropout(0.5))\n",
    "model_lstm.add(layers.Dense(dimensions_labels, activation='softmax'))\n",
    "\n",
    "model_lstm.layers[0].set_weights([embedding_matrix])  # !!!! important !!!!\n",
    "model_lstm.layers[0].trainable = False\n",
    "\n",
    "model_lstm.summary()\n",
    "\n",
    "model_lstm.compile(\n",
    "    optimizer='adam',\n",
    "    loss='categorical_crossentropy',\n",
    "    metrics=metrics\n",
    ")"
   ]
  },
  {
   "cell_type": "code",
   "execution_count": 45,
   "metadata": {},
   "outputs": [
    {
     "name": "stdout",
     "output_type": "stream",
     "text": [
      "Epoch 1/15\n",
      "431/431 [==============================] - 5s 11ms/step - loss: 1.2423 - accuracy: 0.4197 - precision: 0.5155 - recall: 0.1627 - val_loss: 1.1665 - val_accuracy: 0.4502 - val_precision: 0.5573 - val_recall: 0.1567\n",
      "Epoch 2/15\n",
      "431/431 [==============================] - 4s 9ms/step - loss: 1.1302 - accuracy: 0.4617 - precision: 0.6108 - recall: 0.1713 - val_loss: 1.1140 - val_accuracy: 0.4615 - val_precision: 0.5514 - val_recall: 0.2334\n",
      "Epoch 3/15\n",
      "431/431 [==============================] - 3s 8ms/step - loss: 1.0759 - accuracy: 0.4892 - precision: 0.6098 - recall: 0.2355 - val_loss: 1.0902 - val_accuracy: 0.4874 - val_precision: 0.5961 - val_recall: 0.2327\n",
      "Epoch 4/15\n",
      "431/431 [==============================] - 3s 8ms/step - loss: 1.0381 - accuracy: 0.5127 - precision: 0.6222 - recall: 0.2703 - val_loss: 1.0799 - val_accuracy: 0.4871 - val_precision: 0.6112 - val_recall: 0.2563\n",
      "Epoch 5/15\n",
      "431/431 [==============================] - 4s 9ms/step - loss: 0.9993 - accuracy: 0.5361 - precision: 0.6441 - recall: 0.3260 - val_loss: 1.0859 - val_accuracy: 0.4954 - val_precision: 0.5761 - val_recall: 0.3041\n",
      "Epoch 6/15\n",
      "431/431 [==============================] - 3s 8ms/step - loss: 0.9691 - accuracy: 0.5485 - precision: 0.6529 - recall: 0.3556 - val_loss: 1.0594 - val_accuracy: 0.5123 - val_precision: 0.5990 - val_recall: 0.3194\n",
      "Epoch 7/15\n",
      "431/431 [==============================] - 4s 8ms/step - loss: 0.9369 - accuracy: 0.5687 - precision: 0.6592 - recall: 0.3965 - val_loss: 1.0761 - val_accuracy: 0.5116 - val_precision: 0.5835 - val_recall: 0.3410\n",
      "Epoch 8/15\n",
      "431/431 [==============================] - 3s 8ms/step - loss: 0.9112 - accuracy: 0.5808 - precision: 0.6683 - recall: 0.4200 - val_loss: 1.0758 - val_accuracy: 0.5076 - val_precision: 0.5740 - val_recall: 0.3682\n",
      "Epoch 9/15\n",
      "431/431 [==============================] - 3s 8ms/step - loss: 0.8820 - accuracy: 0.5984 - precision: 0.6788 - recall: 0.4519 - val_loss: 1.0917 - val_accuracy: 0.5033 - val_precision: 0.5726 - val_recall: 0.3602\n",
      "Epoch 10/15\n",
      "431/431 [==============================] - 3s 8ms/step - loss: 0.8566 - accuracy: 0.6081 - precision: 0.6881 - recall: 0.4779 - val_loss: 1.1181 - val_accuracy: 0.5050 - val_precision: 0.5670 - val_recall: 0.3808\n",
      "Epoch 11/15\n",
      "431/431 [==============================] - 3s 8ms/step - loss: 0.8318 - accuracy: 0.6284 - precision: 0.6939 - recall: 0.4994 - val_loss: 1.1194 - val_accuracy: 0.4980 - val_precision: 0.5433 - val_recall: 0.3811\n",
      "Epoch 12/15\n",
      "431/431 [==============================] - 3s 8ms/step - loss: 0.8018 - accuracy: 0.6449 - precision: 0.7057 - recall: 0.5300 - val_loss: 1.1381 - val_accuracy: 0.4894 - val_precision: 0.5433 - val_recall: 0.3871\n",
      "Epoch 13/15\n",
      "431/431 [==============================] - 4s 8ms/step - loss: 0.7830 - accuracy: 0.6570 - precision: 0.7170 - recall: 0.5506 - val_loss: 1.1495 - val_accuracy: 0.5070 - val_precision: 0.5551 - val_recall: 0.4183\n",
      "Epoch 14/15\n",
      "431/431 [==============================] - 4s 8ms/step - loss: 0.7560 - accuracy: 0.6675 - precision: 0.7253 - recall: 0.5699 - val_loss: 1.2038 - val_accuracy: 0.5030 - val_precision: 0.5351 - val_recall: 0.4273\n",
      "Epoch 15/15\n",
      "431/431 [==============================] - 4s 9ms/step - loss: 0.7363 - accuracy: 0.6764 - precision: 0.7329 - recall: 0.5927 - val_loss: 1.2320 - val_accuracy: 0.4960 - val_precision: 0.5234 - val_recall: 0.4346\n"
     ]
    }
   ],
   "source": [
    "history_lstm = model_lstm.fit(\n",
    "    x_train, y_train,\n",
    "    epochs=epochs,\n",
    "    batch_size=batch_size,\n",
    "    validation_data=(x_val, y_val)\n",
    ")"
   ]
  },
  {
   "cell_type": "code",
   "execution_count": 46,
   "metadata": {},
   "outputs": [
    {
     "data": {
      "image/png": "[encoded data removed]",
      "text/plain": [
       "<Figure size 432x288 with 1 Axes>"
      ]
     },
     "metadata": {
      "needs_background": "light"
     },
     "output_type": "display_data"
    },
    {
     "data": {
      "image/png": "[encoded data removed]",
      "text/plain": [
       "<Figure size 432x288 with 1 Axes>"
      ]
     },
     "metadata": {
      "needs_background": "light"
     },
     "output_type": "display_data"
    }
   ],
   "source": [
    "loss_lstm = history_lstm.history['loss']\n",
    "val_loss_lstm = history_lstm.history['val_loss']\n",
    "acc_lstm = history_lstm.history['accuracy']\n",
    "val_acc_lstm = history_lstm.history['val_accuracy']\n",
    "\n",
    "\n",
    "epochs_graph = range(1, len(acc_lstm) + 1)\n",
    "\n",
    "plt.plot(epochs_graph, loss_lstm, 'bo', label='Training loss')\n",
    "plt.plot(epochs_graph, val_loss_lstm, 'b', label='Validation loss')\n",
    "plt.title('Training and validation loss')\n",
    "plt.legend()\n",
    "\n",
    "plt.figure()\n",
    "\n",
    "plt.plot(epochs_graph, acc_lstm, 'bo', label='Training acc')\n",
    "plt.plot(epochs_graph, val_acc_lstm, 'b', label='Validation acc')\n",
    "plt.title('Training and validation accuracy')\n",
    "plt.legend()\n",
    "\n",
    "plt.show()"
   ]
  },
  {
   "cell_type": "markdown",
   "metadata": {},
   "source": [
    "# 1D Convolutional NN"
   ]
  },
  {
   "cell_type": "code",
   "execution_count": 47,
   "metadata": {},
   "outputs": [
    {
     "name": "stdout",
     "output_type": "stream",
     "text": [
      "Model: \"sequential_4\"\n",
      "_________________________________________________________________\n",
      "Layer (type)                 Output Shape              Param #   \n",
      "=================================================================\n",
      "embedding_3 (Embedding)      (None, 25, 100)           1000100   \n",
      "_________________________________________________________________\n",
      "conv1d (Conv1D)              (None, 21, 32)            16032     \n",
      "_________________________________________________________________\n",
      "conv1d_1 (Conv1D)            (None, 17, 32)            5152      \n",
      "_________________________________________________________________\n",
      "global_max_pooling1d (Global (None, 32)                0         \n",
      "_________________________________________________________________\n",
      "dense_12 (Dense)             (None, 4)                 132       \n",
      "=================================================================\n",
      "Total params: 1,021,416\n",
      "Trainable params: 21,316\n",
      "Non-trainable params: 1,000,100\n",
      "_________________________________________________________________\n"
     ]
    }
   ],
   "source": [
    "model_conv1d = models.Sequential()\n",
    "\n",
    "model_conv1d.add(layers.Embedding(max_words+1,\n",
    "                                  embedding_dim, input_length=max_len))\n",
    "\n",
    "model_conv1d.add(layers.Conv1D(\n",
    "    32,  # features to be extracted\n",
    "    5,  # convolutional window size\n",
    "    activation='relu',\n",
    "))\n",
    "# model_conv1d.add(layers.MaxPooling1D(3))\n",
    "model_conv1d.add(layers.Conv1D(32, 5, activation='relu'))\n",
    "model_conv1d.add(layers.GlobalMaxPooling1D())\n",
    "model_conv1d.add(layers.Dense(dimensions_labels, activation='softmax'))\n",
    "\n",
    "model_conv1d.layers[0].set_weights([embedding_matrix])  # !!!! important !!!!\n",
    "model_conv1d.layers[0].trainable = False\n",
    "\n",
    "model_conv1d.summary()\n",
    "\n",
    "model_conv1d.compile(\n",
    "    optimizer='adam',\n",
    "    loss='categorical_crossentropy',\n",
    "    metrics=metrics\n",
    ")"
   ]
  },
  {
   "cell_type": "code",
   "execution_count": 48,
   "metadata": {},
   "outputs": [
    {
     "name": "stdout",
     "output_type": "stream",
     "text": [
      "Epoch 1/15\n",
      "431/431 [==============================] - 1s 3ms/step - loss: 1.2587 - accuracy: 0.4151 - precision: 0.5507 - recall: 0.1604 - val_loss: 1.1924 - val_accuracy: 0.4326 - val_precision: 0.5983 - val_recall: 0.1444\n",
      "Epoch 2/15\n",
      "431/431 [==============================] - 1s 3ms/step - loss: 1.1121 - accuracy: 0.4927 - precision: 0.6344 - recall: 0.2362 - val_loss: 1.1666 - val_accuracy: 0.4376 - val_precision: 0.5645 - val_recall: 0.2151\n",
      "Epoch 3/15\n",
      "431/431 [==============================] - 1s 3ms/step - loss: 1.0258 - accuracy: 0.5476 - precision: 0.6770 - recall: 0.3268 - val_loss: 1.1905 - val_accuracy: 0.4412 - val_precision: 0.5499 - val_recall: 0.2669\n",
      "Epoch 4/15\n",
      "431/431 [==============================] - 1s 3ms/step - loss: 0.9389 - accuracy: 0.6018 - precision: 0.7082 - recall: 0.4145 - val_loss: 1.1578 - val_accuracy: 0.4631 - val_precision: 0.5308 - val_recall: 0.3118\n",
      "Epoch 5/15\n",
      "431/431 [==============================] - 1s 3ms/step - loss: 0.8663 - accuracy: 0.6385 - precision: 0.7324 - recall: 0.4864 - val_loss: 1.2004 - val_accuracy: 0.4651 - val_precision: 0.5287 - val_recall: 0.3400\n",
      "Epoch 6/15\n",
      "431/431 [==============================] - 1s 3ms/step - loss: 0.7894 - accuracy: 0.6796 - precision: 0.7647 - recall: 0.5511 - val_loss: 1.2080 - val_accuracy: 0.4446 - val_precision: 0.4995 - val_recall: 0.3469\n",
      "Epoch 7/15\n",
      "431/431 [==============================] - 1s 3ms/step - loss: 0.7199 - accuracy: 0.7157 - precision: 0.7867 - recall: 0.6091 - val_loss: 1.2289 - val_accuracy: 0.4482 - val_precision: 0.5014 - val_recall: 0.3599\n",
      "Epoch 8/15\n",
      "431/431 [==============================] - 1s 2ms/step - loss: 0.6536 - accuracy: 0.7471 - precision: 0.8079 - recall: 0.6604 - val_loss: 1.2830 - val_accuracy: 0.4675 - val_precision: 0.5040 - val_recall: 0.3977\n",
      "Epoch 9/15\n",
      "431/431 [==============================] - 1s 2ms/step - loss: 0.5918 - accuracy: 0.7795 - precision: 0.8302 - recall: 0.7050 - val_loss: 1.3585 - val_accuracy: 0.4734 - val_precision: 0.5049 - val_recall: 0.4127\n",
      "Epoch 10/15\n",
      "431/431 [==============================] - 1s 3ms/step - loss: 0.5373 - accuracy: 0.8020 - precision: 0.8485 - recall: 0.7405 - val_loss: 1.4164 - val_accuracy: 0.4615 - val_precision: 0.4872 - val_recall: 0.4094\n",
      "Epoch 11/15\n",
      "431/431 [==============================] - 1s 2ms/step - loss: 0.4873 - accuracy: 0.8264 - precision: 0.8638 - recall: 0.7741 - val_loss: 1.4870 - val_accuracy: 0.4612 - val_precision: 0.4821 - val_recall: 0.4160\n",
      "Epoch 12/15\n",
      "431/431 [==============================] - 1s 3ms/step - loss: 0.4351 - accuracy: 0.8468 - precision: 0.8787 - recall: 0.8049 - val_loss: 1.5371 - val_accuracy: 0.4542 - val_precision: 0.4697 - val_recall: 0.4117\n",
      "Epoch 13/15\n",
      "431/431 [==============================] - 1s 3ms/step - loss: 0.3967 - accuracy: 0.8589 - precision: 0.8903 - recall: 0.8238 - val_loss: 1.6789 - val_accuracy: 0.4273 - val_precision: 0.4445 - val_recall: 0.3961\n",
      "Epoch 14/15\n",
      "431/431 [==============================] - 1s 3ms/step - loss: 0.3618 - accuracy: 0.8787 - precision: 0.9015 - recall: 0.8451 - val_loss: 1.7263 - val_accuracy: 0.4575 - val_precision: 0.4693 - val_recall: 0.4243\n",
      "Epoch 15/15\n",
      "431/431 [==============================] - 1s 2ms/step - loss: 0.3278 - accuracy: 0.8903 - precision: 0.9110 - recall: 0.8672 - val_loss: 1.8757 - val_accuracy: 0.4270 - val_precision: 0.4383 - val_recall: 0.4011\n"
     ]
    }
   ],
   "source": [
    "history_conv1d = model_conv1d.fit(\n",
    "    x_train, y_train,\n",
    "    epochs=epochs,\n",
    "    batch_size=batch_size,\n",
    "    validation_data=(x_val, y_val)\n",
    ")"
   ]
  },
  {
   "cell_type": "code",
   "execution_count": 49,
   "metadata": {},
   "outputs": [
    {
     "data": {
      "image/png": "[encoded data removed]",
      "text/plain": [
       "<Figure size 432x288 with 1 Axes>"
      ]
     },
     "metadata": {
      "needs_background": "light"
     },
     "output_type": "display_data"
    },
    {
     "data": {
      "image/png": "[encoded data removed]",
      "text/plain": [
       "<Figure size 432x288 with 1 Axes>"
      ]
     },
     "metadata": {
      "needs_background": "light"
     },
     "output_type": "display_data"
    }
   ],
   "source": [
    "loss_conv1d = history_conv1d.history['loss']\n",
    "val_loss_conv1d = history_conv1d.history['val_loss']\n",
    "acc_conv1d = history_conv1d.history['accuracy']\n",
    "val_acc_conv1d = history_conv1d.history['val_accuracy']\n",
    "\n",
    "\n",
    "epochs_graph = range(1, len(acc_conv1d) + 1)\n",
    "\n",
    "plt.plot(epochs_graph, loss_conv1d, 'bo', label='Training loss')\n",
    "plt.plot(epochs_graph, val_loss_conv1d, 'b', label='Validation loss')\n",
    "plt.title('Training and validation loss')\n",
    "plt.legend()\n",
    "\n",
    "plt.figure()\n",
    "\n",
    "plt.plot(epochs_graph, acc_conv1d, 'bo', label='Training acc')\n",
    "plt.plot(epochs_graph, val_acc_conv1d, 'b', label='Validation acc')\n",
    "plt.title('Training and validation accuracy')\n",
    "plt.legend()\n",
    "\n",
    "plt.show()"
   ]
  },
  {
   "cell_type": "markdown",
   "metadata": {},
   "source": [
    "With a hold-out validation and wihtout any regularisation a full connected NN with an Embedding layer seems to have the best performance on the training set. \n",
    "However, it is highly overfitting. This is the better case, as with regularization we can try to fix the issue. \n",
    "\n",
    "Before that, though, I am going to evaluate the models with cross-validation due to the low volume of data we have."
   ]
  },
  {
   "cell_type": "code",
   "execution_count": 50,
   "metadata": {},
   "outputs": [],
   "source": [
    "def with_cross_val(k, model, train_data, train_targets, epochs, batch_size):\n",
    "    \"\"\"\n",
    "    This function applies a k-fold cross-validation.\n",
    "    Args: \n",
    "        - k - number of folds\n",
    "        - model - which model is to be used\n",
    "        - train_data - the tokenised, padded and shuffled sequences\n",
    "        - train_targets - labels \n",
    "        - epochs - number of epochs\n",
    "        - batch_size - batch size\n",
    "\n",
    "    Returns:\n",
    "        - all_histories_acc - accuracy for all epochs and folds\n",
    "        - all_histories_prec - precision for all epochs and folds\n",
    "        - all_histories_rec - recall for all epochs and folds\n",
    "\n",
    "    \"\"\"\n",
    "    num_val_samples = len(train_data) // k\n",
    "    all_histories_acc = []\n",
    "    all_histories_prec = []\n",
    "    all_histories_rec = []\n",
    "\n",
    "    for i in range(k):\n",
    "        print('processing fold #', i)\n",
    "        val_data = train_data[i * num_val_samples:(i + 1) * num_val_samples]\n",
    "        val_targets = train_targets[i *\n",
    "                                    num_val_samples:(i + 1) * num_val_samples]\n",
    "\n",
    "        partial_train_data = np.concatenate(\n",
    "            [train_data[:i * num_val_samples],\n",
    "             train_data[(i + 1) * num_val_samples:]],\n",
    "            axis=0)\n",
    "\n",
    "        partial_train_targets = np.concatenate(\n",
    "            [train_targets[:i * num_val_samples],\n",
    "             train_targets[(i + 1) * num_val_samples:]],\n",
    "            axis=0\n",
    "        )\n",
    "\n",
    "        #model = build_model()\n",
    "        history = model.fit(\n",
    "            partial_train_data, partial_train_targets,\n",
    "            epochs=epochs,\n",
    "            batch_size=batch_size,\n",
    "            verbose=0,\n",
    "            validation_data=(val_data, val_targets)\n",
    "        )\n",
    "\n",
    "        metric_history_acc = history.history['val_accuracy']\n",
    "        all_histories_acc.append(metric_history_acc)\n",
    "\n",
    "        metric_history_prec = history.history['val_precision']\n",
    "        all_histories_prec.append(metric_history_prec)\n",
    "\n",
    "        metric_history_rec = history.history['val_recall']\n",
    "        all_histories_rec.append(metric_history_rec)\n",
    "\n",
    "    return all_histories_acc, all_histories_prec, all_histories_rec"
   ]
  },
  {
   "cell_type": "code",
   "execution_count": 51,
   "metadata": {},
   "outputs": [
    {
     "name": "stdout",
     "output_type": "stream",
     "text": [
      "processing fold # 0\n",
      "processing fold # 1\n",
      "processing fold # 2\n",
      "processing fold # 3\n"
     ]
    }
   ],
   "source": [
    "all_histories_acc_bow, all_histories_prec_bow, all_histories_rec_bow = with_cross_val(\n",
    "    k=4,\n",
    "    model=model_bow,\n",
    "    train_data=data_oh,\n",
    "    train_targets=labels_encoded_oh,\n",
    "    epochs=epochs,\n",
    "    batch_size=batch_size)"
   ]
  },
  {
   "cell_type": "code",
   "execution_count": 52,
   "metadata": {},
   "outputs": [
    {
     "data": {
      "text/plain": [
       "0.44442231208086014"
      ]
     },
     "execution_count": 52,
     "metadata": {},
     "output_type": "execute_result"
    }
   ],
   "source": [
    "average_acc_history_bow = [\n",
    "    np.mean([x[i] for x in all_histories_acc_bow]) for i in range(epochs)]\n",
    "average_acc_history_bow[-1]"
   ]
  },
  {
   "cell_type": "code",
   "execution_count": 53,
   "metadata": {},
   "outputs": [
    {
     "data": {
      "image/png": "[encoded data removed]",
      "text/plain": [
       "<Figure size 432x288 with 1 Axes>"
      ]
     },
     "metadata": {
      "needs_background": "light"
     },
     "output_type": "display_data"
    }
   ],
   "source": [
    "plt.plot(range(1, len(average_acc_history_bow) + 1), average_acc_history_bow)\n",
    "plt.xlabel('Epochs')\n",
    "plt.ylabel('Validation Acc')\n",
    "plt.show()"
   ]
  },
  {
   "cell_type": "code",
   "execution_count": 54,
   "metadata": {},
   "outputs": [
    {
     "name": "stdout",
     "output_type": "stream",
     "text": [
      "processing fold # 0\n",
      "processing fold # 1\n",
      "processing fold # 2\n",
      "processing fold # 3\n"
     ]
    }
   ],
   "source": [
    "all_histories_acc_emb, all_histories_prec_emb, all_histories_rec_emb = with_cross_val(\n",
    "    k=4,\n",
    "    model=model_emb,\n",
    "    train_data=data_ovs,\n",
    "    train_targets=labels_encoded,\n",
    "    epochs=epochs,\n",
    "    batch_size=batch_size)"
   ]
  },
  {
   "cell_type": "code",
   "execution_count": 55,
   "metadata": {},
   "outputs": [
    {
     "data": {
      "text/plain": [
       "0.8845285475254059"
      ]
     },
     "execution_count": 55,
     "metadata": {},
     "output_type": "execute_result"
    }
   ],
   "source": [
    "average_acc_history_emb = [\n",
    "    np.mean([x[i] for x in all_histories_acc_emb]) for i in range(epochs)]\n",
    "average_acc_history_emb[-1]"
   ]
  },
  {
   "cell_type": "code",
   "execution_count": 56,
   "metadata": {},
   "outputs": [
    {
     "data": {
      "image/png": "[encoded data removed]",
      "text/plain": [
       "<Figure size 432x288 with 1 Axes>"
      ]
     },
     "metadata": {
      "needs_background": "light"
     },
     "output_type": "display_data"
    }
   ],
   "source": [
    "plt.plot(range(1, len(average_acc_history_emb) + 1), average_acc_history_emb)\n",
    "plt.xlabel('Epochs')\n",
    "plt.ylabel('Validation Acc')\n",
    "plt.show()"
   ]
  },
  {
   "cell_type": "code",
   "execution_count": 57,
   "metadata": {},
   "outputs": [
    {
     "name": "stdout",
     "output_type": "stream",
     "text": [
      "processing fold # 0\n",
      "processing fold # 1\n",
      "processing fold # 2\n",
      "processing fold # 3\n"
     ]
    }
   ],
   "source": [
    "all_histories_acc_transf, all_histories_prec_transf, all_histories_rec_transf = with_cross_val(\n",
    "    k=4,\n",
    "    model=model_transf,\n",
    "    train_data=data_ovs,\n",
    "    train_targets=labels_encoded,\n",
    "    epochs=epochs,\n",
    "    batch_size=batch_size)"
   ]
  },
  {
   "cell_type": "code",
   "execution_count": 58,
   "metadata": {},
   "outputs": [
    {
     "data": {
      "text/plain": [
       "0.8604913651943207"
      ]
     },
     "execution_count": 58,
     "metadata": {},
     "output_type": "execute_result"
    }
   ],
   "source": [
    "average_acc_history_transf = [\n",
    "    np.mean([x[i] for x in all_histories_acc_transf]) for i in range(epochs)]\n",
    "average_acc_history_transf[-1]"
   ]
  },
  {
   "cell_type": "code",
   "execution_count": 59,
   "metadata": {},
   "outputs": [
    {
     "data": {
      "image/png": "[encoded data removed]",
      "text/plain": [
       "<Figure size 432x288 with 1 Axes>"
      ]
     },
     "metadata": {
      "needs_background": "light"
     },
     "output_type": "display_data"
    }
   ],
   "source": [
    "plt.plot(range(1, len(average_acc_history_transf) + 1),\n",
    "         average_acc_history_transf)\n",
    "plt.xlabel('Epochs')\n",
    "plt.ylabel('Validation Acc')\n",
    "plt.show()"
   ]
  },
  {
   "cell_type": "code",
   "execution_count": 60,
   "metadata": {},
   "outputs": [
    {
     "name": "stdout",
     "output_type": "stream",
     "text": [
      "processing fold # 0\n",
      "processing fold # 1\n",
      "processing fold # 2\n",
      "processing fold # 3\n"
     ]
    }
   ],
   "source": [
    "all_histories_acc_lstm, all_histories_prec_lstm, all_histories_rec_lstm = with_cross_val(\n",
    "    k=4,\n",
    "    model=model_lstm,\n",
    "    train_data=data_ovs,\n",
    "    train_targets=labels_encoded,\n",
    "    epochs=epochs,\n",
    "    batch_size=batch_size)"
   ]
  },
  {
   "cell_type": "code",
   "execution_count": 61,
   "metadata": {},
   "outputs": [
    {
     "data": {
      "text/plain": [
       "0.7008632272481918"
      ]
     },
     "execution_count": 61,
     "metadata": {},
     "output_type": "execute_result"
    }
   ],
   "source": [
    "average_acc_history_lstm = [\n",
    "    np.mean([x[i] for x in all_histories_acc_lstm]) for i in range(epochs)]\n",
    "average_acc_history_lstm[-1]"
   ]
  },
  {
   "cell_type": "code",
   "execution_count": 62,
   "metadata": {},
   "outputs": [
    {
     "data": {
      "image/png": "[encoded data removed]",
      "text/plain": [
       "<Figure size 432x288 with 1 Axes>"
      ]
     },
     "metadata": {
      "needs_background": "light"
     },
     "output_type": "display_data"
    }
   ],
   "source": [
    "plt.plot(range(1, len(average_acc_history_lstm) + 1), average_acc_history_lstm)\n",
    "plt.xlabel('Epochs')\n",
    "plt.ylabel('Validation Acc')\n",
    "plt.show()"
   ]
  },
  {
   "cell_type": "code",
   "execution_count": 63,
   "metadata": {},
   "outputs": [
    {
     "name": "stdout",
     "output_type": "stream",
     "text": [
      "processing fold # 0\n",
      "processing fold # 1\n",
      "processing fold # 2\n",
      "processing fold # 3\n"
     ]
    }
   ],
   "source": [
    "all_histories_acc_conv1d, all_histories_prec_conv1d, all_histories_rec_conv1d = with_cross_val(\n",
    "    k=4,\n",
    "    model=model_conv1d,\n",
    "    train_data=data_ovs,\n",
    "    train_targets=labels_encoded,\n",
    "    epochs=epochs,\n",
    "    batch_size=batch_size)"
   ]
  },
  {
   "cell_type": "code",
   "execution_count": 64,
   "metadata": {},
   "outputs": [
    {
     "data": {
      "text/plain": [
       "0.7660026550292969"
      ]
     },
     "execution_count": 64,
     "metadata": {},
     "output_type": "execute_result"
    }
   ],
   "source": [
    "average_acc_history_conv1d = [\n",
    "    np.mean([x[i] for x in all_histories_acc_conv1d]) for i in range(epochs)]\n",
    "average_acc_history_conv1d[-1]"
   ]
  },
  {
   "cell_type": "code",
   "execution_count": 65,
   "metadata": {},
   "outputs": [
    {
     "data": {
      "image/png": "[encoded data removed]",
      "text/plain": [
       "<Figure size 432x288 with 1 Axes>"
      ]
     },
     "metadata": {
      "needs_background": "light"
     },
     "output_type": "display_data"
    }
   ],
   "source": [
    "plt.plot(range(1, len(average_acc_history_conv1d) + 1),\n",
    "         average_acc_history_conv1d)\n",
    "plt.xlabel('Epochs')\n",
    "plt.ylabel('Validation Acc')\n",
    "plt.show()"
   ]
  },
  {
   "cell_type": "markdown",
   "metadata": {},
   "source": [
    "This time on the validation set - the results are drammatically improved. However, the fully connected NN with Embedding Layer still has the best performance. "
   ]
  },
  {
   "cell_type": "code",
   "execution_count": null,
   "metadata": {},
   "outputs": [],
   "source": []
  }
 ],
 "metadata": {
  "kernelspec": {
   "display_name": "nlp-sent",
   "language": "python",
   "name": "nlp-sent"
  },
  "language_info": {
   "codemirror_mode": {
    "name": "ipython",
    "version": 3
   },
   "file_extension": ".py",
   "mimetype": "text/x-python",
   "name": "python",
   "nbconvert_exporter": "python",
   "pygments_lexer": "ipython3",
   "version": "3.6.12"
  }
 },
 "nbformat": 4,
 "nbformat_minor": 4
}
