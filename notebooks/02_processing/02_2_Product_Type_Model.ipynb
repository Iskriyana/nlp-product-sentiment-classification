{
 "cells": [
  {
   "cell_type": "markdown",
   "metadata": {},
   "source": [
    "# Goals of this notebook are: "
   ]
  },
  {
   "cell_type": "markdown",
   "metadata": {},
   "source": [
    "* to identify the best model in terms of F1 score on the training and validation data for the **product type** part of the data. \n",
    "* F1 was chosen, as the dataset at hand is imbalanced. "
   ]
  },
  {
   "cell_type": "markdown",
   "metadata": {},
   "source": [
    "# Import Libraries"
   ]
  },
  {
   "cell_type": "code",
   "execution_count": 1,
   "metadata": {},
   "outputs": [],
   "source": [
    "import datetime\n",
    "import json\n",
    "import keras\n",
    "import matplotlib.pyplot as plt\n",
    "import numpy as np\n",
    "import os\n",
    "import pandas as pd\n",
    "import pickle\n",
    "import seaborn as sns\n",
    "import sys\n",
    "import tensorflow as tf\n",
    "\n",
    "from collections import Counter\n",
    "from imblearn.over_sampling import SMOTE\n",
    "from keras import layers\n",
    "from keras import models\n",
    "from keras import regularizers\n",
    "from keras import utils\n",
    "from keras.utils import to_categorical\n",
    "from sklearn.dummy import DummyClassifier\n",
    "from sklearn.model_selection import cross_validate\n",
    "from sklearn.model_selection import KFold\n",
    "from tensorflow import keras\n",
    "from tensorflow.keras.models import save_model\n",
    "\n",
    "\n",
    "%matplotlib inline"
   ]
  },
  {
   "cell_type": "markdown",
   "metadata": {},
   "source": [
    "# Preparation Steps"
   ]
  },
  {
   "cell_type": "code",
   "execution_count": 2,
   "metadata": {},
   "outputs": [],
   "source": [
    "# folders\n",
    "home = os.getenv(\"HOME\")\n",
    "nlp_repo = os.path.join(home, 'git/nlp-product-sentiment-classification')\n",
    "\n",
    "# data\n",
    "train_csv_path = os.path.join(nlp_repo, 'data/03_processed/Train.csv')\n",
    "train_descr = pd.read_csv(train_csv_path)\n",
    "\n",
    "test_csv_path = os.path.join(nlp_repo, 'data/03_processed/Test.csv')\n",
    "test_descr = pd.read_csv(test_csv_path)"
   ]
  },
  {
   "cell_type": "markdown",
   "metadata": {},
   "source": [
    "# Define Parameter Dictionary"
   ]
  },
  {
   "cell_type": "code",
   "execution_count": 3,
   "metadata": {},
   "outputs": [
    {
     "name": "stdout",
     "output_type": "stream",
     "text": [
      "Log results to logs/experiments/product_type_model_tunning_2020_12_20-16:46\n"
     ]
    }
   ],
   "source": [
    "logging = True\n",
    "\n",
    "saving = True\n",
    "\n",
    "PARAMS = {\n",
    "\n",
    "    # Define experiment name:\n",
    "    'experiment_name': 'product_type_model_tunning',\n",
    "\n",
    "    # Parameters general:\n",
    "    'number_of_classes': len(np.unique(train_descr['Sentiment'])),\n",
    "    'n_splits': 4,\n",
    "    'seed': 42,\n",
    "    'batch_size': 64,\n",
    "    'epochs': 50,\n",
    "    'hidden_units': 64,\n",
    "    # Cross-fold validation:\n",
    "    'k': 4,\n",
    "}\n",
    "\n",
    "logdir = f'logs/experiments/{PARAMS[\"experiment_name\"]}_' + \\\n",
    "    datetime.datetime.now().strftime(\"%Y_%m_%d-%H:%M\")\n",
    "logdir_tb = f'logs/tensorboard/experiments/{PARAMS[\"experiment_name\"]}_' + \\\n",
    "    datetime.datetime.now().strftime(\"%Y_%m_%d-%H:%M\")\n",
    "\n",
    "# create logging folder and tensorboard callback function\n",
    "if logging:\n",
    "    print(f'Log results to {logdir}')\n",
    "    if not os.path.exists(logdir):\n",
    "        os.makedirs(logdir)\n",
    "\n",
    "    tensorboard_callbacks = [tf.keras.callbacks.TensorBoard(log_dir=logdir_tb)]\n",
    "\n",
    "else:\n",
    "    logdir = ''\n",
    "    logdir_tb = ''\n",
    "    tensorboard_callbacks = []"
   ]
  },
  {
   "cell_type": "markdown",
   "metadata": {},
   "source": [
    "# Train-Test Split"
   ]
  },
  {
   "cell_type": "code",
   "execution_count": 4,
   "metadata": {},
   "outputs": [],
   "source": [
    "def train_test_split(data, labels):\n",
    "    \"\"\"\n",
    "    Splits the data into train and test data sets.\n",
    "    One-hot encodes the labels.\n",
    "\n",
    "    Args: \n",
    "        - data - preprocessed text_data\n",
    "        - labels - sentiments\n",
    "\n",
    "    Returns: \n",
    "        - x_train, y_train_oh - training text data & the corresponding one-hot encoded labels\n",
    "        - x_test, y_test_oh - test text data & the corresponding one-hot encoded labels\n",
    "    \"\"\"\n",
    "    dimensions_labels = PARAMS['number_of_classes']\n",
    "\n",
    "    indices = np.arange(data.shape[0])\n",
    "    np.random.shuffle(indices)\n",
    "\n",
    "    data = data[indices]\n",
    "    labels = np.asarray(labels)\n",
    "    labels = labels[indices]\n",
    "\n",
    "    training_samples = int(0.8 * len(data))\n",
    "\n",
    "    x_train = data[:training_samples]\n",
    "    y_train = labels[:training_samples]\n",
    "\n",
    "    x_test = data[training_samples:]\n",
    "    y_test = labels[training_samples:]\n",
    "\n",
    "    y_train_oh = tf.one_hot(indices=y_train, depth=dimensions_labels)\n",
    "    y_train_oh = np.asarray(y_train_oh)\n",
    "\n",
    "    y_test_oh = tf.one_hot(indices=y_test, depth=dimensions_labels)\n",
    "    y_test_oh = np.asarray(y_test_oh)\n",
    "\n",
    "    return x_train, y_train_oh, x_test, y_test_oh"
   ]
  },
  {
   "cell_type": "code",
   "execution_count": 5,
   "metadata": {},
   "outputs": [],
   "source": [
    "data = train_descr.loc[:, 'Product_Type']\n",
    "labels = train_descr.loc[:, 'Sentiment']"
   ]
  },
  {
   "cell_type": "code",
   "execution_count": 6,
   "metadata": {},
   "outputs": [],
   "source": [
    "x_train, y_train, x_test, y_test = train_test_split(data, labels)"
   ]
  },
  {
   "cell_type": "markdown",
   "metadata": {},
   "source": [
    "# Preparation for Model Generation & Training"
   ]
  },
  {
   "cell_type": "markdown",
   "metadata": {},
   "source": [
    "### Function for Oversampling the Minority Classes"
   ]
  },
  {
   "cell_type": "markdown",
   "metadata": {},
   "source": [
    "SMOTE = Synthetic Minority Oversampling Technique. It was chosen, because the data set is small and oversampling will, even if synthetically, increase it."
   ]
  },
  {
   "cell_type": "code",
   "execution_count": 7,
   "metadata": {},
   "outputs": [],
   "source": [
    "def oversample_smote(x_train, y_train):\n",
    "    \"\"\"\n",
    "    This function produces an oversampled set of train data using SMOTE\n",
    "\n",
    "    Args: \n",
    "        - x_train - imbalanced train features (= text descriptions)\n",
    "        - y_train - imbalanced train labels (= sentiments)\n",
    "\n",
    "    Returns: \n",
    "        - x_train - oversampled train features (= text descriptions)\n",
    "        - y_train - oversampled train labels (= sentiments)\n",
    "\n",
    "    \"\"\"\n",
    "    oversample = SMOTE()\n",
    "    x_train, y_train = oversample.fit_resample(x_train, y_train)\n",
    "\n",
    "    return x_train, y_train"
   ]
  },
  {
   "cell_type": "markdown",
   "metadata": {},
   "source": [
    "### Function to Generate the Models"
   ]
  },
  {
   "cell_type": "code",
   "execution_count": 8,
   "metadata": {},
   "outputs": [],
   "source": [
    "metrics = [\n",
    "    keras.metrics.CategoricalAccuracy(name='accuracy'),\n",
    "    keras.metrics.Precision(name='precision'),\n",
    "    keras.metrics.Recall(name='recall')]"
   ]
  },
  {
   "cell_type": "code",
   "execution_count": 9,
   "metadata": {},
   "outputs": [],
   "source": [
    "def generate_model(params_dict):\n",
    "    \"\"\"\n",
    "    This function compiles a model\n",
    "    Args: \n",
    "        - params_dict - dictionary with parameters for the model\n",
    "\n",
    "    Returns: \n",
    "        - a compiled model\n",
    "    \"\"\"\n",
    "\n",
    "    # set parameters\n",
    "    hidden_units = params_dict['hidden_units']\n",
    "    dimensions_labels = params_dict['number_of_classes']\n",
    "\n",
    "    model = models.Sequential()\n",
    "    model.add(layers.Dense(hidden_units, activation='relu',\n",
    "                           input_shape=(1, )))\n",
    "    model.add(layers.Dense(hidden_units, activation='relu'))\n",
    "    model.add(layers.Dense(hidden_units, activation='relu'))\n",
    "    model.add(layers.Dense(dimensions_labels, activation='softmax'))\n",
    "\n",
    "    model.summary()\n",
    "\n",
    "    model.compile(\n",
    "        optimizer='adam',\n",
    "        loss='categorical_crossentropy',\n",
    "        metrics=metrics\n",
    "    )\n",
    "\n",
    "    return model"
   ]
  },
  {
   "cell_type": "markdown",
   "metadata": {},
   "source": [
    "### Function for Training with Cross-Validation (incl. Upsampling)"
   ]
  },
  {
   "cell_type": "markdown",
   "metadata": {},
   "source": [
    "* Due to the small data quantity, cross-validation will be used to train the models.\n",
    "* Furthermore, as the classes are imbalanced, an oversampling will be introduced. ! It is important to generate the training and validation sets BEFORE the upsampling. Otherwise the exact same observations could be present in both the train and validation sets, i.e. data leakage would occur. This can allow the model to simply memorize specific data points and cause overfitting and poor generalization on unseen data. \n",
    "* The oversampling will be applied only on the train set in order to ensure that the model generalises well on unseen data (validation set and ultimately test set)"
   ]
  },
  {
   "cell_type": "code",
   "execution_count": 10,
   "metadata": {},
   "outputs": [],
   "source": [
    "def train_with_cross_val(k, model, train_data, train_labels, epochs, batch_size):\n",
    "    \"\"\"\n",
    "    This function applies a k-fold cross-validation and saves the model history per fold & epoch.\n",
    "    Args: \n",
    "        - k - number of folds\n",
    "        - model - compiled model\n",
    "        - train_data - the tokenised, padded and shuffled sequences\n",
    "        - train_labels - labels \n",
    "        - epochs - number of epochs\n",
    "        - batch_size - batch size\n",
    "    \"\"\"\n",
    "    num_val_samples = len(train_data) // k\n",
    "\n",
    "    for i in range(k):\n",
    "        print('processing fold #', i)\n",
    "        val_data = train_data[i * num_val_samples:(i + 1) * num_val_samples]\n",
    "        val_labels = train_labels[i *\n",
    "                                  num_val_samples:(i + 1) * num_val_samples]\n",
    "\n",
    "        partial_train_data = np.concatenate(\n",
    "            [train_data[:i * num_val_samples],\n",
    "             train_data[(i + 1) * num_val_samples:]],\n",
    "            axis=0)\n",
    "\n",
    "        partial_train_labels = np.concatenate(\n",
    "            [train_labels[:i * num_val_samples],\n",
    "             train_labels[(i + 1) * num_val_samples:]],\n",
    "            axis=0\n",
    "        )\n",
    "\n",
    "        partial_train_data = partial_train_data.reshape(-1, 1)\n",
    "\n",
    "        partial_train_data_ovs, partial_train_labels_ovs = oversample_smote(\n",
    "            partial_train_data, partial_train_labels)\n",
    "\n",
    "        history = model.fit(\n",
    "            partial_train_data_ovs, partial_train_labels_ovs,\n",
    "            epochs=epochs,\n",
    "            batch_size=batch_size,\n",
    "            verbose=0,\n",
    "            validation_data=(val_data, val_labels),\n",
    "            # callbacks=tensorboard_callbacks\n",
    "        )\n",
    "\n",
    "        np.save(f'history_pr_type_fc_fold_{i}.npy', history.history)\n",
    "\n",
    "    if saving:\n",
    "        path = os.path.join(logdir, 'pr_type_fc_fold')\n",
    "        model.save(path)"
   ]
  },
  {
   "cell_type": "markdown",
   "metadata": {},
   "source": [
    "### Create the Baseline Model for Comparison"
   ]
  },
  {
   "cell_type": "markdown",
   "metadata": {},
   "source": [
    "Idea Model: https://machinelearningmastery.com/imbalanced-multiclass-classification-with-the-glass-identification-dataset/\n",
    "\n",
    "Metrics: https://scikit-learn.org/stable/modules/model_evaluation.html\n",
    "\n",
    "\n",
    "* As the Fully Connected NN model's the precision, recall and f1 are calculcated unweighted, precision, recall & f1 are chosen to be macro\n",
    "* According to the sklearn-documentation this method calculates the metrics for each label, and finds their unweighted mean and does not take label imbalance into account.\n",
    "* Example documentation for precision: https://scikit-learn.org/stable/modules/generated/sklearn.metrics.precision_score.html\n",
    "\n",
    "Note: test_[metric] is validation and therefore comparable to the val_[metric] of the model."
   ]
  },
  {
   "cell_type": "code",
   "execution_count": 11,
   "metadata": {},
   "outputs": [],
   "source": [
    "scoring = ['accuracy', 'precision_macro', 'recall_macro', 'f1_macro']"
   ]
  },
  {
   "cell_type": "code",
   "execution_count": 12,
   "metadata": {},
   "outputs": [],
   "source": [
    "model_base = DummyClassifier(strategy='most_frequent')"
   ]
  },
  {
   "cell_type": "code",
   "execution_count": 13,
   "metadata": {},
   "outputs": [
    {
     "name": "stderr",
     "output_type": "stream",
     "text": [
      "/Users/iskriyanavasileva/opt/anaconda3/envs/nlp-sent/lib/python3.6/site-packages/sklearn/model_selection/_split.py:297: FutureWarning: Setting a random_state has no effect since shuffle is False. This will raise an error in 0.24. You should leave random_state to its default (None), or set shuffle=True.\n",
      "  FutureWarning\n"
     ]
    }
   ],
   "source": [
    "cv = KFold(n_splits=PARAMS['k'], random_state=PARAMS['seed'])\n",
    "\n",
    "scores = cross_validate(\n",
    "    model_base, x_train, y_train, scoring=scoring, cv=cv, n_jobs=-1)"
   ]
  },
  {
   "cell_type": "code",
   "execution_count": 14,
   "metadata": {},
   "outputs": [
    {
     "name": "stdout",
     "output_type": "stream",
     "text": [
      "Mean fit_time: 0.003 (0.001)\n",
      "Mean score_time: 0.020 (0.000)\n",
      "Mean test_accuracy: 0.598 (0.014)\n",
      "Mean test_precision_macro: 0.150 (0.003)\n",
      "Mean test_recall_macro: 0.250 (0.000)\n",
      "Mean test_f1_macro: 0.187 (0.003)\n"
     ]
    }
   ],
   "source": [
    "for metric, score in scores.items():\n",
    "    print(f'Mean {metric}: %.3f (%.3f)' %\n",
    "          (np.mean(score), np.std(score)))"
   ]
  },
  {
   "cell_type": "markdown",
   "metadata": {},
   "source": [
    "# Train the Model"
   ]
  },
  {
   "cell_type": "code",
   "execution_count": 15,
   "metadata": {},
   "outputs": [
    {
     "name": "stdout",
     "output_type": "stream",
     "text": [
      "Model: \"sequential\"\n",
      "_________________________________________________________________\n",
      "Layer (type)                 Output Shape              Param #   \n",
      "=================================================================\n",
      "dense (Dense)                (None, 64)                128       \n",
      "_________________________________________________________________\n",
      "dense_1 (Dense)              (None, 64)                4160      \n",
      "_________________________________________________________________\n",
      "dense_2 (Dense)              (None, 64)                4160      \n",
      "_________________________________________________________________\n",
      "dense_3 (Dense)              (None, 4)                 260       \n",
      "=================================================================\n",
      "Total params: 8,708\n",
      "Trainable params: 8,708\n",
      "Non-trainable params: 0\n",
      "_________________________________________________________________\n",
      "processing fold # 0\n"
     ]
    },
    {
     "name": "stderr",
     "output_type": "stream",
     "text": [
      "/Users/iskriyanavasileva/opt/anaconda3/envs/nlp-sent/lib/python3.6/site-packages/sklearn/utils/validation.py:70: FutureWarning: Pass classes=[0 1 2 3] as keyword args. From version 0.25 passing these as positional arguments will result in an error\n",
      "  FutureWarning)\n"
     ]
    },
    {
     "name": "stdout",
     "output_type": "stream",
     "text": [
      "processing fold # 1\n"
     ]
    },
    {
     "name": "stderr",
     "output_type": "stream",
     "text": [
      "/Users/iskriyanavasileva/opt/anaconda3/envs/nlp-sent/lib/python3.6/site-packages/sklearn/utils/validation.py:70: FutureWarning: Pass classes=[0 1 2 3] as keyword args. From version 0.25 passing these as positional arguments will result in an error\n",
      "  FutureWarning)\n"
     ]
    },
    {
     "name": "stdout",
     "output_type": "stream",
     "text": [
      "processing fold # 2\n"
     ]
    },
    {
     "name": "stderr",
     "output_type": "stream",
     "text": [
      "/Users/iskriyanavasileva/opt/anaconda3/envs/nlp-sent/lib/python3.6/site-packages/sklearn/utils/validation.py:70: FutureWarning: Pass classes=[0 1 2 3] as keyword args. From version 0.25 passing these as positional arguments will result in an error\n",
      "  FutureWarning)\n"
     ]
    },
    {
     "name": "stdout",
     "output_type": "stream",
     "text": [
      "processing fold # 3\n"
     ]
    },
    {
     "name": "stderr",
     "output_type": "stream",
     "text": [
      "/Users/iskriyanavasileva/opt/anaconda3/envs/nlp-sent/lib/python3.6/site-packages/sklearn/utils/validation.py:70: FutureWarning: Pass classes=[0 1 2 3] as keyword args. From version 0.25 passing these as positional arguments will result in an error\n",
      "  FutureWarning)\n"
     ]
    },
    {
     "name": "stdout",
     "output_type": "stream",
     "text": [
      "INFO:tensorflow:Assets written to: logs/experiments/product_type_model_tunning_2020_12_20-16:46/pr_type_fc_fold/assets\n"
     ]
    }
   ],
   "source": [
    "model = generate_model(PARAMS)\n",
    "train_with_cross_val(\n",
    "    PARAMS['k'], model, x_train, y_train, PARAMS['epochs'], PARAMS['batch_size'])"
   ]
  },
  {
   "cell_type": "markdown",
   "metadata": {},
   "source": [
    "# Evaluate the Model"
   ]
  },
  {
   "cell_type": "markdown",
   "metadata": {},
   "source": [
    "* The Model is very simple and does not deliver amazing results\n",
    "* This is most probably due to the fact that there is only one feature and little data\n",
    "* However, it is still better than the baseline model in terms of val_accuracy and val_f1\n",
    "* Therefore, it will be used in the multi-input model"
   ]
  },
  {
   "cell_type": "code",
   "execution_count": 16,
   "metadata": {},
   "outputs": [
    {
     "data": {
      "text/html": [
       "<div>\n",
       "<style scoped>\n",
       "    .dataframe tbody tr th:only-of-type {\n",
       "        vertical-align: middle;\n",
       "    }\n",
       "\n",
       "    .dataframe tbody tr th {\n",
       "        vertical-align: top;\n",
       "    }\n",
       "\n",
       "    .dataframe thead th {\n",
       "        text-align: right;\n",
       "    }\n",
       "</style>\n",
       "<table border=\"1\" class=\"dataframe\">\n",
       "  <thead>\n",
       "    <tr style=\"text-align: right;\">\n",
       "      <th></th>\n",
       "      <th>loss</th>\n",
       "      <th>accuracy</th>\n",
       "      <th>precision</th>\n",
       "      <th>recall</th>\n",
       "      <th>val_loss</th>\n",
       "      <th>val_accuracy</th>\n",
       "      <th>val_precision</th>\n",
       "      <th>val_recall</th>\n",
       "      <th>f1</th>\n",
       "      <th>val_f1</th>\n",
       "    </tr>\n",
       "  </thead>\n",
       "  <tbody>\n",
       "    <tr>\n",
       "      <th>0</th>\n",
       "      <td>1.324240</td>\n",
       "      <td>0.311871</td>\n",
       "      <td>0.000000</td>\n",
       "      <td>0.000000</td>\n",
       "      <td>1.099004</td>\n",
       "      <td>0.849057</td>\n",
       "      <td>0.000000</td>\n",
       "      <td>0.000000</td>\n",
       "      <td>0.000000</td>\n",
       "      <td>0.000000</td>\n",
       "    </tr>\n",
       "    <tr>\n",
       "      <th>1</th>\n",
       "      <td>1.115477</td>\n",
       "      <td>0.437691</td>\n",
       "      <td>0.500000</td>\n",
       "      <td>0.066681</td>\n",
       "      <td>1.101508</td>\n",
       "      <td>0.132075</td>\n",
       "      <td>0.526316</td>\n",
       "      <td>0.094340</td>\n",
       "      <td>0.117670</td>\n",
       "      <td>0.160000</td>\n",
       "    </tr>\n",
       "    <tr>\n",
       "      <th>2</th>\n",
       "      <td>1.059569</td>\n",
       "      <td>0.445453</td>\n",
       "      <td>0.479361</td>\n",
       "      <td>0.134565</td>\n",
       "      <td>0.900382</td>\n",
       "      <td>0.817610</td>\n",
       "      <td>0.771930</td>\n",
       "      <td>0.138365</td>\n",
       "      <td>0.210140</td>\n",
       "      <td>0.234667</td>\n",
       "    </tr>\n",
       "    <tr>\n",
       "      <th>3</th>\n",
       "      <td>1.038635</td>\n",
       "      <td>0.448623</td>\n",
       "      <td>0.485679</td>\n",
       "      <td>0.127897</td>\n",
       "      <td>0.909041</td>\n",
       "      <td>0.735849</td>\n",
       "      <td>0.789189</td>\n",
       "      <td>0.114780</td>\n",
       "      <td>0.202475</td>\n",
       "      <td>0.200412</td>\n",
       "    </tr>\n",
       "    <tr>\n",
       "      <th>4</th>\n",
       "      <td>1.039399</td>\n",
       "      <td>0.453214</td>\n",
       "      <td>0.488815</td>\n",
       "      <td>0.160035</td>\n",
       "      <td>0.902918</td>\n",
       "      <td>0.817610</td>\n",
       "      <td>0.898185</td>\n",
       "      <td>0.700472</td>\n",
       "      <td>0.241127</td>\n",
       "      <td>0.787102</td>\n",
       "    </tr>\n",
       "  </tbody>\n",
       "</table>\n",
       "</div>"
      ],
      "text/plain": [
       "       loss  accuracy  precision    recall  val_loss  val_accuracy  \\\n",
       "0  1.324240  0.311871   0.000000  0.000000  1.099004      0.849057   \n",
       "1  1.115477  0.437691   0.500000  0.066681  1.101508      0.132075   \n",
       "2  1.059569  0.445453   0.479361  0.134565  0.900382      0.817610   \n",
       "3  1.038635  0.448623   0.485679  0.127897  0.909041      0.735849   \n",
       "4  1.039399  0.453214   0.488815  0.160035  0.902918      0.817610   \n",
       "\n",
       "   val_precision  val_recall        f1    val_f1  \n",
       "0       0.000000    0.000000  0.000000  0.000000  \n",
       "1       0.526316    0.094340  0.117670  0.160000  \n",
       "2       0.771930    0.138365  0.210140  0.234667  \n",
       "3       0.789189    0.114780  0.202475  0.200412  \n",
       "4       0.898185    0.700472  0.241127  0.787102  "
      ]
     },
     "execution_count": 16,
     "metadata": {},
     "output_type": "execute_result"
    }
   ],
   "source": [
    "history_all_df = pd.DataFrame()\n",
    "\n",
    "for i in range(PARAMS['k']):\n",
    "    history = np.load(\n",
    "        f'history_pr_type_fc_fold_{i}.npy', allow_pickle='TRUE').item()\n",
    "\n",
    "    history_df = pd.DataFrame(history)\n",
    "\n",
    "    history_df['f1'] = 2 * history_df.precision * \\\n",
    "        history_df.recall/(history_df.precision + history_df.recall)\n",
    "    history_df['f1'] = history_df['f1'].fillna(0)\n",
    "    history_df['val_f1'] = 2 * history_df.val_precision * \\\n",
    "        history_df.val_recall / \\\n",
    "        (history_df.val_precision + history_df.val_recall)\n",
    "    history_df['val_f1'] = history_df['val_f1'].fillna(0)\n",
    "\n",
    "    history_all_df = history_all_df.append(history_df)\n",
    "\n",
    "history_all_df.head()"
   ]
  },
  {
   "cell_type": "code",
   "execution_count": 17,
   "metadata": {},
   "outputs": [
    {
     "data": {
      "text/plain": [
       "loss             0.949475\n",
       "accuracy         0.490661\n",
       "precision        0.541779\n",
       "recall           0.186528\n",
       "val_loss         0.895709\n",
       "val_accuracy     0.696160\n",
       "val_precision    0.651079\n",
       "val_recall       0.188365\n",
       "f1               0.276686\n",
       "val_f1           0.278364\n",
       "dtype: float64"
      ]
     },
     "execution_count": 17,
     "metadata": {},
     "output_type": "execute_result"
    }
   ],
   "source": [
    "history_all_df.mean()"
   ]
  },
  {
   "cell_type": "markdown",
   "metadata": {},
   "source": [
    "### Plot Train vs. Validation Metrics"
   ]
  },
  {
   "cell_type": "code",
   "execution_count": 18,
   "metadata": {},
   "outputs": [
    {
     "data": {
      "image/png": "[encoded data removed]",
      "text/plain": [
       "<Figure size 1080x360 with 3 Axes>"
      ]
     },
     "metadata": {
      "needs_background": "light"
     },
     "output_type": "display_data"
    }
   ],
   "source": [
    "fig = plt.figure(figsize=(15, 5))\n",
    "ax = plt.subplot(131)\n",
    "\n",
    "epochs = PARAMS['epochs']\n",
    "epochs_graph = range(1, PARAMS['epochs'] + 1)\n",
    "folds = PARAMS['k']\n",
    "\n",
    "loss_all = history_all_df.loc[:, 'loss'].to_list()\n",
    "loss_prep = [loss_all[i * epochs:(i + 1) * epochs] for i in range(folds)]\n",
    "loss = [np.mean([x[i] for x in loss_prep]) for i in range(epochs)]\n",
    "\n",
    "val_loss_all = history_all_df.loc[:, 'val_loss'].to_list()\n",
    "val_loss_prep = [\n",
    "    val_loss_all[i * epochs:(i + 1) * epochs] for i in range(folds)]\n",
    "val_loss = [np.mean([x[i] for x in val_loss_prep]) for i in range(epochs)]\n",
    "\n",
    "accuracy_all = history_all_df.loc[:, 'accuracy'].to_list()\n",
    "accuracy_prep = [\n",
    "    accuracy_all[i * epochs:(i + 1) * epochs] for i in range(folds)]\n",
    "accuracy = [np.mean([x[i] for x in accuracy_prep]) for i in range(epochs)]\n",
    "\n",
    "val_accuracy_all = history_all_df.loc[:, 'val_accuracy'].to_list()\n",
    "val_accuracy_prep = [val_accuracy_all[i *\n",
    "                                      epochs:(i + 1) * epochs] for i in range(folds)]\n",
    "val_accuracy = [np.mean([x[i] for x in val_accuracy_prep])\n",
    "                for i in range(epochs)]\n",
    "\n",
    "f1_all = history_all_df.loc[:, 'f1'].to_list()\n",
    "f1_prep = [f1_all[i * epochs:(i + 1) * epochs] for i in range(folds)]\n",
    "f1 = [np.mean([x[i] for x in f1_prep]) for i in range(epochs)]\n",
    "\n",
    "val_f1_all = history_all_df.loc[:, 'val_f1'].to_list()\n",
    "val_f1_prep = [val_f1_all[i * epochs:(i + 1) * epochs]\n",
    "               for i in range(folds)]\n",
    "val_f1 = [np.mean([x[i] for x in val_f1_prep]) for i in range(epochs)]\n",
    "\n",
    "plt.plot(epochs_graph, loss, 'b')\n",
    "plt.plot(epochs_graph, val_loss, 'r')\n",
    "#plt.ylim([0, 1])\n",
    "ax.set_ylabel('loss')\n",
    "ax.set_xlabel('epochs')\n",
    "ax.legend(['train', 'validation'])\n",
    "plt.title(f'Train vs. Validation Loss')\n",
    "\n",
    "ax = plt.subplot(132)\n",
    "plt.plot(epochs_graph, accuracy, 'b')\n",
    "plt.plot(epochs_graph, val_accuracy, 'r')\n",
    "plt.ylim([0, 1])\n",
    "ax.set_ylabel('accuracy')\n",
    "ax.set_xlabel('epochs')\n",
    "ax.legend(['train', 'validation'])\n",
    "plt.title(f'Train vs. Validation Accuracy')\n",
    "\n",
    "ax = plt.subplot(133)\n",
    "plt.plot(epochs_graph, f1, 'b')\n",
    "plt.plot(epochs_graph, val_f1, 'r')\n",
    "plt.ylim([0, 1])\n",
    "ax.set_ylabel('f1')\n",
    "ax.set_xlabel('epochs')\n",
    "ax.legend(['train', 'validation'])\n",
    "plt.title(f'Train vs. Validation F1-Score')\n",
    "\n",
    "if logging:\n",
    "    if not os.path.exists(os.path.join(logdir, 'figures')):\n",
    "        os.makedirs(os.path.join(logdir, 'figures'))\n",
    "    fig.savefig(os.path.join(\n",
    "        logdir, f'figures/loss_accuracy_training_pr_type.png'), bbox_inches='tight')"
   ]
  },
  {
   "cell_type": "code",
   "execution_count": 19,
   "metadata": {},
   "outputs": [],
   "source": [
    "def test_model(x_test, y_test):\n",
    "    \"\"\"\n",
    "    Function that loads the saved trained models and evaluates on the test data\n",
    "\n",
    "    Args: \n",
    "        - x_test - test features (= descriptions)\n",
    "        - y_test - test labels (= sentiments)\n",
    "\n",
    "    Returns: \n",
    "        - results - loss, accuracy, recall, precision\n",
    "        - f1_score  \n",
    "    \"\"\"\n",
    "\n",
    "    model_path = os.path.join(logdir, 'pr_type_fc_fold')\n",
    "    model = tf.keras.models.load_model(model_path)\n",
    "    results = model.evaluate(x_test, y_test)\n",
    "    precision = results[1]\n",
    "    recall = results[2]\n",
    "    f1_score = 2 * precision * recall / (precision + recall)\n",
    "    print()\n",
    "    print(f'Test f1-score for multi-input model: {f1_score}')\n",
    "    return results, f1_score"
   ]
  },
  {
   "cell_type": "code",
   "execution_count": 20,
   "metadata": {},
   "outputs": [
    {
     "name": "stdout",
     "output_type": "stream",
     "text": [
      "40/40 [==============================] - 0s 1ms/step - loss: 0.8926 - accuracy: 0.7761 - precision: 0.6758 - recall: 0.1752\n",
      "\n",
      "Test f1-score for multi-input model: 0.7224697148626581\n"
     ]
    }
   ],
   "source": [
    "results, f1_score = test_model(x_test, y_test)"
   ]
  },
  {
   "cell_type": "code",
   "execution_count": null,
   "metadata": {},
   "outputs": [],
   "source": []
  }
 ],
 "metadata": {
  "kernelspec": {
   "display_name": "nlp-sent",
   "language": "python",
   "name": "nlp-sent"
  },
  "language_info": {
   "codemirror_mode": {
    "name": "ipython",
    "version": 3
   },
   "file_extension": ".py",
   "mimetype": "text/x-python",
   "name": "python",
   "nbconvert_exporter": "python",
   "pygments_lexer": "ipython3",
   "version": "3.6.12"
  }
 },
 "nbformat": 4,
 "nbformat_minor": 4
}
