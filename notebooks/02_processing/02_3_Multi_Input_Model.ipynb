{
 "cells": [
  {
   "cell_type": "markdown",
   "metadata": {},
   "source": [
    "# Goal of this notebook is: "
   ]
  },
  {
   "cell_type": "markdown",
   "metadata": {},
   "source": [
    "to create the final multi-input model based on the models for the text part and the product type part"
   ]
  },
  {
   "cell_type": "markdown",
   "metadata": {},
   "source": [
    "# Import Libraries"
   ]
  },
  {
   "cell_type": "code",
   "execution_count": 1,
   "metadata": {},
   "outputs": [],
   "source": [
    "import datetime\n",
    "import itertools\n",
    "import json\n",
    "import keras\n",
    "import matplotlib.pyplot as plt\n",
    "import numpy as np\n",
    "import os\n",
    "import pandas as pd\n",
    "import pickle\n",
    "import seaborn as sns\n",
    "import sys\n",
    "import tensorflow as tf\n",
    "\n",
    "from collections import Counter\n",
    "from imblearn.over_sampling import SMOTE\n",
    "from keras import Input\n",
    "from keras import layers\n",
    "from keras import models\n",
    "from keras import regularizers\n",
    "from keras import utils\n",
    "from keras.models import Model\n",
    "from keras.utils import to_categorical\n",
    "from sklearn.dummy import DummyClassifier\n",
    "from sklearn.metrics import confusion_matrix\n",
    "from sklearn.model_selection import cross_validate\n",
    "from sklearn.model_selection import KFold\n",
    "from tensorflow import keras\n",
    "from tensorflow.keras.models import save_model\n",
    "\n",
    "\n",
    "%matplotlib inline"
   ]
  },
  {
   "cell_type": "markdown",
   "metadata": {},
   "source": [
    "# Preparation Steps"
   ]
  },
  {
   "cell_type": "code",
   "execution_count": 2,
   "metadata": {},
   "outputs": [],
   "source": [
    "# folders\n",
    "home = os.getenv(\"HOME\")\n",
    "nlp_repo = os.path.join(home, 'git/nlp-product-sentiment-classification')\n",
    "\n",
    "# data\n",
    "train_csv_path = os.path.join(nlp_repo, 'data/03_processed/Train.csv')\n",
    "train_descr = pd.read_csv(train_csv_path)\n",
    "\n",
    "test_csv_path = os.path.join(nlp_repo, 'data/03_processed/Test.csv')\n",
    "test_descr = pd.read_csv(test_csv_path)\n",
    "\n",
    "# encoded tokens\n",
    "preprocessed_corpus_path_TF = os.path.join(\n",
    "    nlp_repo, 'data/03_processed/product_descr_preprocessed_TF.p')\n",
    "\n",
    "preprocessed_corpus_path_TF_oh = os.path.join(\n",
    "    nlp_repo, 'data/03_processed/product_descr_preprocessed_TF_oh.p')"
   ]
  },
  {
   "cell_type": "markdown",
   "metadata": {},
   "source": [
    "# Parameters"
   ]
  },
  {
   "cell_type": "code",
   "execution_count": 3,
   "metadata": {},
   "outputs": [
    {
     "name": "stdout",
     "output_type": "stream",
     "text": [
      "Log results to logs/experiments/final_multi_input_model_2020_12_21-15:14\n"
     ]
    }
   ],
   "source": [
    "logging = True\n",
    "\n",
    "saving = True\n",
    "\n",
    "PARAMS = {\n",
    "\n",
    "    # Define experiment name:\n",
    "    'experiment_name': 'final_multi_input_model',\n",
    "\n",
    "    # Parameters general:\n",
    "    'number_of_classes': len(np.unique(train_descr['Sentiment'])),\n",
    "    'n_splits': 4,\n",
    "    'seed': 42,\n",
    "    'batch_size': 32,\n",
    "    'epochs': 50,\n",
    "    'hidden_units_text': 32,\n",
    "    'hidden_units_product': 64,\n",
    "\n",
    "    # NLP Parameters\n",
    "    # max_words = vocabulary size = our samples - number of most frequent words.\n",
    "    # I set it to 10.000, although in this case there are less.\n",
    "    # I do this to parametise the code.\n",
    "    # Aleternatively, I can set it to the length of our vocabulary = word_index\n",
    "    'max_words': 10000,\n",
    "\n",
    "    # embedding_size = embedding dimensionality\n",
    "    'embedding_size': 30,  # [10, 20, 30, 100],\n",
    "\n",
    "    # Cross-fold validation:\n",
    "    'k': 4,\n",
    "}\n",
    "\n",
    "logdir = f'logs/experiments/{PARAMS[\"experiment_name\"]}_' + \\\n",
    "    datetime.datetime.now().strftime(\"%Y_%m_%d-%H:%M\")\n",
    "logdir_tb = f'logs/tensorboard/experiments/{PARAMS[\"experiment_name\"]}_' + \\\n",
    "    datetime.datetime.now().strftime(\"%Y_%m_%d-%H:%M\")\n",
    "\n",
    "# create logging folder and tensorboard callback function\n",
    "if logging:\n",
    "    print(f'Log results to {logdir}')\n",
    "    if not os.path.exists(logdir):\n",
    "        os.makedirs(logdir)\n",
    "\n",
    "    tensorboard_callbacks = [tf.keras.callbacks.TensorBoard(log_dir=logdir_tb)]\n",
    "\n",
    "else:\n",
    "    logdir = ''\n",
    "    logdir_tb = ''\n",
    "    tensorboard_callbacks = []"
   ]
  },
  {
   "cell_type": "markdown",
   "metadata": {},
   "source": [
    "# Load Tokens and Vocabulary"
   ]
  },
  {
   "cell_type": "code",
   "execution_count": 4,
   "metadata": {},
   "outputs": [],
   "source": [
    "def load_data(path_to_corpus, one_hot=False):\n",
    "    \"\"\"\n",
    "    Loads the tokenised text and produces the labels. \n",
    "    If one-hot encoded is not needed, the data is also padded. \n",
    "\n",
    "    Args: \n",
    "        - path_to_corpus - path to tokenised text\n",
    "        - one_hot - if the model is bag-of-words, one-hot-encoded data is used. The default is False\n",
    "\n",
    "    Returns:\n",
    "        - sequences - tokenised text\n",
    "        - word_index - a dictionary having as key the word and as value its index\n",
    "        - data - in case of one_hot=False the padded sequences\n",
    "        - labels - the sentiments \n",
    "    \"\"\"\n",
    "\n",
    "    sequences, word_index = pd.read_pickle(path_to_corpus)\n",
    "\n",
    "    if not one_hot:\n",
    "        # max_len = sequence length - the text is cut off after this number of words\n",
    "        # in this case it is defined as the maximum sequence length in our list of tokenised sequences\n",
    "        max_len = np.max([len(x) for x in sequences])\n",
    "        data = tf.keras.preprocessing.sequence.pad_sequences(\n",
    "            sequences, maxlen=max_len)\n",
    "    else:\n",
    "        data = sequences\n",
    "\n",
    "    labels = train_descr.loc[:, 'Sentiment'].to_list()\n",
    "\n",
    "    return sequences, word_index, data, labels"
   ]
  },
  {
   "cell_type": "markdown",
   "metadata": {},
   "source": [
    "#### Load Text Data"
   ]
  },
  {
   "cell_type": "code",
   "execution_count": 5,
   "metadata": {},
   "outputs": [
    {
     "data": {
      "text/plain": [
       "(6364, 10000)"
      ]
     },
     "execution_count": 5,
     "metadata": {},
     "output_type": "execute_result"
    }
   ],
   "source": [
    "sequences_oh, word_index_oh, text_oh, labels = load_data(\n",
    "    preprocessed_corpus_path_TF_oh, one_hot=True)\n",
    "sequences_oh.shape\n",
    "\n",
    "# if text model was with embedding layer\n",
    "#sequences, word_index, text, labels = load_data(preprocessed_corpus_path_TF)\n",
    "#print(f'Shape of sequences after padding is {text.shape}')"
   ]
  },
  {
   "cell_type": "markdown",
   "metadata": {},
   "source": [
    "Add max_len to parameters dictionary"
   ]
  },
  {
   "cell_type": "code",
   "execution_count": 6,
   "metadata": {},
   "outputs": [],
   "source": [
    "# if text model was with embedding layer\n",
    "#max_len = np.max([len(x) for x in sequences])\n",
    "#PARAMS['max_len'] = max_len"
   ]
  },
  {
   "cell_type": "markdown",
   "metadata": {},
   "source": [
    "#### Load Product_Type Data"
   ]
  },
  {
   "cell_type": "code",
   "execution_count": 7,
   "metadata": {},
   "outputs": [],
   "source": [
    "product_type = train_descr.loc[:, 'Product_Type']"
   ]
  },
  {
   "cell_type": "markdown",
   "metadata": {},
   "source": [
    "# Train-Test Split"
   ]
  },
  {
   "cell_type": "code",
   "execution_count": 8,
   "metadata": {},
   "outputs": [],
   "source": [
    "def train_test_split(data, labels):\n",
    "    \"\"\"\n",
    "    Splits the data into train and test data sets.\n",
    "    One-hot encodes the labels.\n",
    "\n",
    "    Args: \n",
    "        - data - preprocessed text_data\n",
    "        - labels - sentiments\n",
    "\n",
    "    Returns: \n",
    "        - x_train, y_train_oh - training text data & the corresponding one-hot encoded labels\n",
    "        - x_test, y_test_oh - test text data & the corresponding one-hot encoded labels\n",
    "    \"\"\"\n",
    "    dimensions_labels = PARAMS['number_of_classes']\n",
    "\n",
    "    indices = np.arange(data.shape[0])\n",
    "    np.random.shuffle(indices)\n",
    "\n",
    "    data = data[indices]\n",
    "    labels = np.asarray(labels)\n",
    "    labels = labels[indices]\n",
    "\n",
    "    training_samples = int(0.8 * len(data))\n",
    "\n",
    "    x_train = data[:training_samples]\n",
    "    y_train = labels[:training_samples]\n",
    "\n",
    "    x_test = data[training_samples:]\n",
    "    y_test = labels[training_samples:]\n",
    "\n",
    "    y_train_oh = tf.one_hot(indices=y_train, depth=dimensions_labels)\n",
    "    y_train_oh = np.asarray(y_train_oh)\n",
    "\n",
    "    y_test_oh = tf.one_hot(indices=y_test, depth=dimensions_labels)\n",
    "    y_test_oh = np.asarray(y_test_oh)\n",
    "\n",
    "    return x_train, y_train_oh, x_test, y_test_oh"
   ]
  },
  {
   "cell_type": "code",
   "execution_count": 9,
   "metadata": {},
   "outputs": [],
   "source": [
    "x_train_text, y_train, x_test_text, y_test = train_test_split(\n",
    "    text_oh, labels)\n",
    "\n",
    "x_train_product_type, _, x_test_product_type, _ = train_test_split(\n",
    "    product_type, labels)"
   ]
  },
  {
   "cell_type": "markdown",
   "metadata": {},
   "source": [
    "# Preparation for Model Generation & Training"
   ]
  },
  {
   "cell_type": "markdown",
   "metadata": {},
   "source": [
    "### Function for Oversampling the Minority Classes"
   ]
  },
  {
   "cell_type": "markdown",
   "metadata": {},
   "source": [
    "SMOTE = Synthetic Minority Oversampling Technique. It was chosen, because the data set is small and oversampling will, even if synthetically, increase it."
   ]
  },
  {
   "cell_type": "code",
   "execution_count": 10,
   "metadata": {},
   "outputs": [],
   "source": [
    "def oversample_smote(x_train, y_train):\n",
    "    \"\"\"\n",
    "    This function produces an oversampled set of train data using SMOTE\n",
    "\n",
    "    Args: \n",
    "        - x_train - imbalanced train features (= text descriptions)\n",
    "        - y_train - imbalanced train labels (= sentiments)\n",
    "\n",
    "    Returns: \n",
    "        - x_train - oversampled train features (= text descriptions)\n",
    "        - y_train - oversampled train labels (= sentiments)\n",
    "\n",
    "    \"\"\"\n",
    "    oversample = SMOTE()\n",
    "    x_train, y_train = oversample.fit_resample(x_train, y_train)\n",
    "\n",
    "    return x_train, y_train"
   ]
  },
  {
   "cell_type": "markdown",
   "metadata": {},
   "source": [
    "# Generate the multi-input model"
   ]
  },
  {
   "cell_type": "code",
   "execution_count": 11,
   "metadata": {},
   "outputs": [],
   "source": [
    "hidden_units_text = PARAMS['hidden_units_text']\n",
    "hidden_units_product = PARAMS['hidden_units_product']\n",
    "dimensions_labels = PARAMS['number_of_classes']\n",
    "max_words = PARAMS['max_words']\n",
    "#max_len = PARAMS['max_len']\n",
    "embedding_size = PARAMS['embedding_size']"
   ]
  },
  {
   "cell_type": "markdown",
   "metadata": {},
   "source": [
    "### 1. Text part"
   ]
  },
  {
   "cell_type": "markdown",
   "metadata": {},
   "source": [
    "The model will be built based on the optimal model defined in Notebook 02_NLP_Model_Choice_Optimisation: bag-of-words with dropout"
   ]
  },
  {
   "cell_type": "code",
   "execution_count": 12,
   "metadata": {},
   "outputs": [
    {
     "name": "stdout",
     "output_type": "stream",
     "text": [
      "(None, None)\n",
      "(None, 10000)\n"
     ]
    }
   ],
   "source": [
    "# input\n",
    "text_input = Input(shape=(None,), dtype='int32', name='text')\n",
    "print(text_input.shape)\n",
    "\n",
    "# preparation for the FC layer\n",
    "fc_prep_text = layers.Reshape((max_words,))(text_input)\n",
    "print(fc_prep_text.shape)\n",
    "\n",
    "# 2 fully connected layers with regularisation\n",
    "text_1 = layers.Dense(hidden_units_text, activation='relu')(fc_prep_text)\n",
    "text_2 = layers.Dropout(0.5)(text_1)\n",
    "text_3 = layers.Dense(hidden_units_text, activation='relu')(text_2)\n",
    "text_4 = layers.Dropout(0.5)(text_3)"
   ]
  },
  {
   "cell_type": "markdown",
   "metadata": {},
   "source": [
    "### 2. Product_Type part"
   ]
  },
  {
   "cell_type": "code",
   "execution_count": 13,
   "metadata": {},
   "outputs": [
    {
     "name": "stdout",
     "output_type": "stream",
     "text": [
      "(None, None)\n",
      "(None, 1)\n"
     ]
    }
   ],
   "source": [
    "# input\n",
    "product_input = Input(shape=(None,), dtype='int32', name='product_type')\n",
    "print(product_input.shape)\n",
    "\n",
    "# preparation for the FC layer\n",
    "fc_prep_product = layers.Reshape((1,))(product_input)\n",
    "print(fc_prep_product.shape)\n",
    "\n",
    "# 2 fully connected layers\n",
    "product_1 = layers.Dense(hidden_units_product,\n",
    "                         activation='relu')(fc_prep_product)\n",
    "product_2 = layers.Dense(hidden_units_product, activation='relu')(product_1)"
   ]
  },
  {
   "cell_type": "markdown",
   "metadata": {},
   "source": [
    "#### 3. Concatenate"
   ]
  },
  {
   "cell_type": "code",
   "execution_count": 14,
   "metadata": {},
   "outputs": [],
   "source": [
    "concatenated = layers.concatenate([text_4, product_2], axis=-1)"
   ]
  },
  {
   "cell_type": "code",
   "execution_count": 15,
   "metadata": {},
   "outputs": [],
   "source": [
    "sentiment = layers.Dense(dimensions_labels, activation='softmax')(concatenated)"
   ]
  },
  {
   "cell_type": "markdown",
   "metadata": {},
   "source": [
    "#### 4. Model Initiation"
   ]
  },
  {
   "cell_type": "code",
   "execution_count": 16,
   "metadata": {},
   "outputs": [
    {
     "name": "stdout",
     "output_type": "stream",
     "text": [
      "Model: \"model\"\n",
      "__________________________________________________________________________________________________\n",
      "Layer (type)                    Output Shape         Param #     Connected to                     \n",
      "==================================================================================================\n",
      "text (InputLayer)               [(None, None)]       0                                            \n",
      "__________________________________________________________________________________________________\n",
      "reshape (Reshape)               (None, 10000)        0           text[0][0]                       \n",
      "__________________________________________________________________________________________________\n",
      "dense (Dense)                   (None, 32)           320032      reshape[0][0]                    \n",
      "__________________________________________________________________________________________________\n",
      "product_type (InputLayer)       [(None, None)]       0                                            \n",
      "__________________________________________________________________________________________________\n",
      "dropout (Dropout)               (None, 32)           0           dense[0][0]                      \n",
      "__________________________________________________________________________________________________\n",
      "reshape_1 (Reshape)             (None, 1)            0           product_type[0][0]               \n",
      "__________________________________________________________________________________________________\n",
      "dense_1 (Dense)                 (None, 32)           1056        dropout[0][0]                    \n",
      "__________________________________________________________________________________________________\n",
      "dense_2 (Dense)                 (None, 64)           128         reshape_1[0][0]                  \n",
      "__________________________________________________________________________________________________\n",
      "dropout_1 (Dropout)             (None, 32)           0           dense_1[0][0]                    \n",
      "__________________________________________________________________________________________________\n",
      "dense_3 (Dense)                 (None, 64)           4160        dense_2[0][0]                    \n",
      "__________________________________________________________________________________________________\n",
      "concatenate (Concatenate)       (None, 96)           0           dropout_1[0][0]                  \n",
      "                                                                 dense_3[0][0]                    \n",
      "__________________________________________________________________________________________________\n",
      "dense_4 (Dense)                 (None, 4)            388         concatenate[0][0]                \n",
      "==================================================================================================\n",
      "Total params: 325,764\n",
      "Trainable params: 325,764\n",
      "Non-trainable params: 0\n",
      "__________________________________________________________________________________________________\n"
     ]
    }
   ],
   "source": [
    "model = Model([text_input, product_input], sentiment)\n",
    "model.summary()"
   ]
  },
  {
   "cell_type": "code",
   "execution_count": 17,
   "metadata": {},
   "outputs": [],
   "source": [
    "metrics = [\n",
    "    keras.metrics.CategoricalAccuracy(name='accuracy'),\n",
    "    keras.metrics.Precision(name='precision'),\n",
    "    keras.metrics.Recall(name='recall')]"
   ]
  },
  {
   "cell_type": "code",
   "execution_count": 18,
   "metadata": {},
   "outputs": [],
   "source": [
    "model.compile(\n",
    "    optimizer='adam',\n",
    "    loss='categorical_crossentropy',\n",
    "    metrics=metrics\n",
    ")"
   ]
  },
  {
   "cell_type": "markdown",
   "metadata": {},
   "source": [
    "# Training with Cross-Validation (incl. Upsampling)"
   ]
  },
  {
   "cell_type": "markdown",
   "metadata": {},
   "source": [
    "* Due to the small data quantity, cross-validation will be used to train the models.\n",
    "* Furthermore, as the classes are imbalanced, an oversampling will be introduced. ! It is important to generate the training and validation sets BEFORE the upsampling. Otherwise the exact same observations could be present in both the train and validation sets, i.e. data leakage would occur. This can allow the model to simply memorize specific data points and cause overfitting and poor generalization on unseen data. \n",
    "* The oversampling will be applied only on the train set in order to ensure that the model generalises well on unseen data (validation set and ultimately test set)"
   ]
  },
  {
   "cell_type": "code",
   "execution_count": 19,
   "metadata": {},
   "outputs": [],
   "source": [
    "def train_with_cross_val(k, model, train_text, train_product, train_labels, epochs, batch_size):\n",
    "    \"\"\"\n",
    "    This function applies a k-fold cross-validation and saves the model history per fold & epoch.\n",
    "    Args: \n",
    "        - k - number of folds\n",
    "        - model - compiled model\n",
    "        - train_text - the tokenised, padded and shuffled sequences\n",
    "        - train_product - the product_type data\n",
    "        - train_labels - labels \n",
    "        - epochs - number of epochs\n",
    "        - batch_size - batch size\n",
    "    \"\"\"\n",
    "    num_val_samples = len(train_text) // k\n",
    "\n",
    "    for i in range(k):\n",
    "        print('processing fold #', i)\n",
    "        val_text = train_text[i * num_val_samples:(i + 1) * num_val_samples]\n",
    "        val_product = train_product[i *\n",
    "                                    num_val_samples:(i + 1) * num_val_samples]\n",
    "        val_labels = train_labels[i *\n",
    "                                  num_val_samples:(i + 1) * num_val_samples]\n",
    "\n",
    "        partial_train_text = np.concatenate(\n",
    "            [train_text[:i * num_val_samples],\n",
    "             train_text[(i + 1) * num_val_samples:]],\n",
    "            axis=0)\n",
    "\n",
    "        partial_train_product = np.concatenate(\n",
    "            [train_product[:i * num_val_samples],\n",
    "             train_product[(i + 1) * num_val_samples:]],\n",
    "            axis=0)\n",
    "\n",
    "        partial_train_labels = np.concatenate(\n",
    "            [train_labels[:i * num_val_samples],\n",
    "             train_labels[(i + 1) * num_val_samples:]],\n",
    "            axis=0\n",
    "        )\n",
    "\n",
    "        partial_train_product = partial_train_product.reshape(-1, 1)\n",
    "\n",
    "        partial_train_text_ovs, partial_train_labels_ovs = oversample_smote(\n",
    "            partial_train_text, partial_train_labels)\n",
    "\n",
    "        partial_train_product_ovs, _ = oversample_smote(\n",
    "            partial_train_product, partial_train_labels)\n",
    "\n",
    "        history = model.fit(\n",
    "            [partial_train_text_ovs, partial_train_product_ovs],  # multiple inputs\n",
    "            partial_train_labels_ovs,\n",
    "            epochs=epochs,\n",
    "            batch_size=batch_size,\n",
    "            verbose=0,\n",
    "            validation_data=([val_text, val_product],\n",
    "                             val_labels),  # multiple inputs\n",
    "            # callbacks=tensorboard_callbacks\n",
    "        )\n",
    "\n",
    "        np.save(f'history_multi_input_fold_{i}.npy', history.history)\n",
    "\n",
    "    if saving:\n",
    "        path = os.path.join(logdir, 'multi_input_fold')\n",
    "        model.save(path)"
   ]
  },
  {
   "cell_type": "markdown",
   "metadata": {},
   "source": [
    "# Baseline Model"
   ]
  },
  {
   "cell_type": "markdown",
   "metadata": {},
   "source": [
    "Idea Model: https://machinelearningmastery.com/imbalanced-multiclass-classification-with-the-glass-identification-dataset/\n",
    "\n",
    "Metrics: https://scikit-learn.org/stable/modules/model_evaluation.html\n",
    "\n",
    "\n",
    "* As the Fully Connected NN model's the precision, recall and f1 are calculcated unweighted, precision, recall & f1 are chosen to be macro\n",
    "* According to the sklearn-documentation this method calculates the metrics for each label, and finds their unweighted mean and does not take label imbalance into account.\n",
    "* Example documentation for precision: https://scikit-learn.org/stable/modules/generated/sklearn.metrics.precision_score.html\n",
    "\n",
    "Note: test_[metric] is validation and therefore comparable to the val_[metric] of the model."
   ]
  },
  {
   "cell_type": "code",
   "execution_count": 20,
   "metadata": {},
   "outputs": [],
   "source": [
    "scoring = ['accuracy', 'precision_macro', 'recall_macro', 'f1_macro']"
   ]
  },
  {
   "cell_type": "code",
   "execution_count": 21,
   "metadata": {},
   "outputs": [],
   "source": [
    "model_base = DummyClassifier(strategy='most_frequent')"
   ]
  },
  {
   "cell_type": "code",
   "execution_count": 22,
   "metadata": {},
   "outputs": [],
   "source": [
    "x_train_base = np.concatenate(\n",
    "    (x_train_text, x_train_product_type.to_numpy().reshape(-1, 1)), axis=1)\n",
    "y_train_base = y_train"
   ]
  },
  {
   "cell_type": "code",
   "execution_count": 23,
   "metadata": {},
   "outputs": [
    {
     "name": "stderr",
     "output_type": "stream",
     "text": [
      "/Users/iskriyanavasileva/opt/anaconda3/envs/nlp-sent/lib/python3.6/site-packages/sklearn/model_selection/_split.py:297: FutureWarning: Setting a random_state has no effect since shuffle is False. This will raise an error in 0.24. You should leave random_state to its default (None), or set shuffle=True.\n",
      "  FutureWarning\n"
     ]
    }
   ],
   "source": [
    "cv = KFold(n_splits=PARAMS['k'], random_state=PARAMS['seed'])\n",
    "\n",
    "scores = cross_validate(\n",
    "    model_base, x_train_base, y_train_base, scoring=scoring, cv=cv, n_jobs=-1)"
   ]
  },
  {
   "cell_type": "code",
   "execution_count": 24,
   "metadata": {},
   "outputs": [
    {
     "name": "stdout",
     "output_type": "stream",
     "text": [
      "Mean fit_time: 0.407 (0.013)\n",
      "Mean score_time: 0.012 (0.001)\n",
      "Mean test_accuracy: 0.596 (0.011)\n",
      "Mean test_precision_macro: 0.149 (0.003)\n",
      "Mean test_recall_macro: 0.250 (0.000)\n",
      "Mean test_f1_macro: 0.187 (0.002)\n"
     ]
    }
   ],
   "source": [
    "for metric, score in scores.items():\n",
    "    print(f'Mean {metric}: %.3f (%.3f)' %\n",
    "          (np.mean(score), np.std(score)))"
   ]
  },
  {
   "cell_type": "markdown",
   "metadata": {},
   "source": [
    "# Train the Model"
   ]
  },
  {
   "cell_type": "code",
   "execution_count": 25,
   "metadata": {},
   "outputs": [
    {
     "name": "stdout",
     "output_type": "stream",
     "text": [
      "processing fold # 0\n"
     ]
    },
    {
     "name": "stderr",
     "output_type": "stream",
     "text": [
      "/Users/iskriyanavasileva/opt/anaconda3/envs/nlp-sent/lib/python3.6/site-packages/sklearn/utils/validation.py:70: FutureWarning: Pass classes=[0 1 2 3] as keyword args. From version 0.25 passing these as positional arguments will result in an error\n",
      "  FutureWarning)\n",
      "/Users/iskriyanavasileva/opt/anaconda3/envs/nlp-sent/lib/python3.6/site-packages/sklearn/utils/validation.py:70: FutureWarning: Pass classes=[0 1 2 3] as keyword args. From version 0.25 passing these as positional arguments will result in an error\n",
      "  FutureWarning)\n"
     ]
    },
    {
     "name": "stdout",
     "output_type": "stream",
     "text": [
      "processing fold # 1\n"
     ]
    },
    {
     "name": "stderr",
     "output_type": "stream",
     "text": [
      "/Users/iskriyanavasileva/opt/anaconda3/envs/nlp-sent/lib/python3.6/site-packages/sklearn/utils/validation.py:70: FutureWarning: Pass classes=[0 1 2 3] as keyword args. From version 0.25 passing these as positional arguments will result in an error\n",
      "  FutureWarning)\n",
      "/Users/iskriyanavasileva/opt/anaconda3/envs/nlp-sent/lib/python3.6/site-packages/sklearn/utils/validation.py:70: FutureWarning: Pass classes=[0 1 2 3] as keyword args. From version 0.25 passing these as positional arguments will result in an error\n",
      "  FutureWarning)\n"
     ]
    },
    {
     "name": "stdout",
     "output_type": "stream",
     "text": [
      "processing fold # 2\n"
     ]
    },
    {
     "name": "stderr",
     "output_type": "stream",
     "text": [
      "/Users/iskriyanavasileva/opt/anaconda3/envs/nlp-sent/lib/python3.6/site-packages/sklearn/utils/validation.py:70: FutureWarning: Pass classes=[0 1 2 3] as keyword args. From version 0.25 passing these as positional arguments will result in an error\n",
      "  FutureWarning)\n",
      "/Users/iskriyanavasileva/opt/anaconda3/envs/nlp-sent/lib/python3.6/site-packages/sklearn/utils/validation.py:70: FutureWarning: Pass classes=[0 1 2 3] as keyword args. From version 0.25 passing these as positional arguments will result in an error\n",
      "  FutureWarning)\n"
     ]
    },
    {
     "name": "stdout",
     "output_type": "stream",
     "text": [
      "processing fold # 3\n"
     ]
    },
    {
     "name": "stderr",
     "output_type": "stream",
     "text": [
      "/Users/iskriyanavasileva/opt/anaconda3/envs/nlp-sent/lib/python3.6/site-packages/sklearn/utils/validation.py:70: FutureWarning: Pass classes=[0 1 2 3] as keyword args. From version 0.25 passing these as positional arguments will result in an error\n",
      "  FutureWarning)\n",
      "/Users/iskriyanavasileva/opt/anaconda3/envs/nlp-sent/lib/python3.6/site-packages/sklearn/utils/validation.py:70: FutureWarning: Pass classes=[0 1 2 3] as keyword args. From version 0.25 passing these as positional arguments will result in an error\n",
      "  FutureWarning)\n"
     ]
    },
    {
     "name": "stdout",
     "output_type": "stream",
     "text": [
      "INFO:tensorflow:Assets written to: logs/experiments/final_multi_input_model_2020_12_21-15:14/multi_input_fold/assets\n"
     ]
    }
   ],
   "source": [
    "model = model\n",
    "train_with_cross_val(\n",
    "    PARAMS['k'], model, x_train_text, x_train_product_type, y_train, PARAMS['epochs'], PARAMS['batch_size'])"
   ]
  },
  {
   "cell_type": "markdown",
   "metadata": {},
   "source": [
    "# Evaluate the Model"
   ]
  },
  {
   "cell_type": "markdown",
   "metadata": {},
   "source": [
    "* The model performs better than the baseline model\n",
    "* The results on the final test set show definietely room for improvement. \n",
    "* They could be optimised by:\n",
    "    * adding more data\n",
    "    * test more hyperparameters\n",
    "    * work with optimal epochs, i.e. stop training at the epoch, where the loss is at its minimum)"
   ]
  },
  {
   "cell_type": "markdown",
   "metadata": {},
   "source": [
    "### Generate a Metrics Dataframe"
   ]
  },
  {
   "cell_type": "code",
   "execution_count": 26,
   "metadata": {},
   "outputs": [
    {
     "data": {
      "text/html": [
       "<div>\n",
       "<style scoped>\n",
       "    .dataframe tbody tr th:only-of-type {\n",
       "        vertical-align: middle;\n",
       "    }\n",
       "\n",
       "    .dataframe tbody tr th {\n",
       "        vertical-align: top;\n",
       "    }\n",
       "\n",
       "    .dataframe thead th {\n",
       "        text-align: right;\n",
       "    }\n",
       "</style>\n",
       "<table border=\"1\" class=\"dataframe\">\n",
       "  <thead>\n",
       "    <tr style=\"text-align: right;\">\n",
       "      <th></th>\n",
       "      <th>loss</th>\n",
       "      <th>accuracy</th>\n",
       "      <th>precision</th>\n",
       "      <th>recall</th>\n",
       "      <th>val_loss</th>\n",
       "      <th>val_accuracy</th>\n",
       "      <th>val_precision</th>\n",
       "      <th>val_recall</th>\n",
       "      <th>f1</th>\n",
       "      <th>val_f1</th>\n",
       "    </tr>\n",
       "  </thead>\n",
       "  <tbody>\n",
       "    <tr>\n",
       "      <th>0</th>\n",
       "      <td>1.229445</td>\n",
       "      <td>0.409517</td>\n",
       "      <td>0.560554</td>\n",
       "      <td>0.070557</td>\n",
       "      <td>0.967051</td>\n",
       "      <td>0.540094</td>\n",
       "      <td>0.590331</td>\n",
       "      <td>0.364780</td>\n",
       "      <td>0.125338</td>\n",
       "      <td>0.450923</td>\n",
       "    </tr>\n",
       "    <tr>\n",
       "      <th>1</th>\n",
       "      <td>0.992313</td>\n",
       "      <td>0.551503</td>\n",
       "      <td>0.623584</td>\n",
       "      <td>0.323606</td>\n",
       "      <td>0.942209</td>\n",
       "      <td>0.565252</td>\n",
       "      <td>0.632606</td>\n",
       "      <td>0.433176</td>\n",
       "      <td>0.426093</td>\n",
       "      <td>0.514232</td>\n",
       "    </tr>\n",
       "    <tr>\n",
       "      <th>2</th>\n",
       "      <td>0.884380</td>\n",
       "      <td>0.621516</td>\n",
       "      <td>0.677560</td>\n",
       "      <td>0.458297</td>\n",
       "      <td>1.002719</td>\n",
       "      <td>0.534591</td>\n",
       "      <td>0.566636</td>\n",
       "      <td>0.491352</td>\n",
       "      <td>0.546765</td>\n",
       "      <td>0.526316</td>\n",
       "    </tr>\n",
       "    <tr>\n",
       "      <th>3</th>\n",
       "      <td>0.818452</td>\n",
       "      <td>0.655814</td>\n",
       "      <td>0.706473</td>\n",
       "      <td>0.535932</td>\n",
       "      <td>1.010008</td>\n",
       "      <td>0.558962</td>\n",
       "      <td>0.585492</td>\n",
       "      <td>0.533019</td>\n",
       "      <td>0.609498</td>\n",
       "      <td>0.558025</td>\n",
       "    </tr>\n",
       "    <tr>\n",
       "      <th>4</th>\n",
       "      <td>0.764552</td>\n",
       "      <td>0.685105</td>\n",
       "      <td>0.733461</td>\n",
       "      <td>0.584277</td>\n",
       "      <td>1.028997</td>\n",
       "      <td>0.588050</td>\n",
       "      <td>0.613070</td>\n",
       "      <td>0.560535</td>\n",
       "      <td>0.650424</td>\n",
       "      <td>0.585626</td>\n",
       "    </tr>\n",
       "  </tbody>\n",
       "</table>\n",
       "</div>"
      ],
      "text/plain": [
       "       loss  accuracy  precision    recall  val_loss  val_accuracy  \\\n",
       "0  1.229445  0.409517   0.560554  0.070557  0.967051      0.540094   \n",
       "1  0.992313  0.551503   0.623584  0.323606  0.942209      0.565252   \n",
       "2  0.884380  0.621516   0.677560  0.458297  1.002719      0.534591   \n",
       "3  0.818452  0.655814   0.706473  0.535932  1.010008      0.558962   \n",
       "4  0.764552  0.685105   0.733461  0.584277  1.028997      0.588050   \n",
       "\n",
       "   val_precision  val_recall        f1    val_f1  \n",
       "0       0.590331    0.364780  0.125338  0.450923  \n",
       "1       0.632606    0.433176  0.426093  0.514232  \n",
       "2       0.566636    0.491352  0.546765  0.526316  \n",
       "3       0.585492    0.533019  0.609498  0.558025  \n",
       "4       0.613070    0.560535  0.650424  0.585626  "
      ]
     },
     "execution_count": 26,
     "metadata": {},
     "output_type": "execute_result"
    }
   ],
   "source": [
    "history_all_df = pd.DataFrame()\n",
    "\n",
    "for i in range(PARAMS['k']):\n",
    "    history = np.load(\n",
    "        f'history_multi_input_fold_{i}.npy', allow_pickle='TRUE').item()\n",
    "\n",
    "    history_df = pd.DataFrame(history)\n",
    "\n",
    "    history_df['f1'] = 2 * history_df.precision * \\\n",
    "        history_df.recall/(history_df.precision + history_df.recall)\n",
    "    history_df['f1'] = history_df['f1'].fillna(0)\n",
    "    history_df['val_f1'] = 2 * history_df.val_precision * \\\n",
    "        history_df.val_recall / \\\n",
    "        (history_df.val_precision + history_df.val_recall)\n",
    "    history_df['val_f1'] = history_df['val_f1'].fillna(0)\n",
    "\n",
    "    history_all_df = history_all_df.append(history_df)\n",
    "\n",
    "history_all_df.head()"
   ]
  },
  {
   "cell_type": "code",
   "execution_count": 27,
   "metadata": {},
   "outputs": [
    {
     "data": {
      "text/plain": [
       "loss             0.484821\n",
       "accuracy         0.797073\n",
       "precision        0.828996\n",
       "recall           0.752328\n",
       "val_loss         0.968088\n",
       "val_accuracy     0.827606\n",
       "val_precision    0.832140\n",
       "val_recall       0.823463\n",
       "f1               0.787499\n",
       "val_f1           0.827524\n",
       "dtype: float64"
      ]
     },
     "execution_count": 27,
     "metadata": {},
     "output_type": "execute_result"
    }
   ],
   "source": [
    "history_all_df.mean()"
   ]
  },
  {
   "cell_type": "code",
   "execution_count": 28,
   "metadata": {},
   "outputs": [
    {
     "data": {
      "image/png": "[encoded data removed]",
      "text/plain": [
       "<Figure size 1080x360 with 3 Axes>"
      ]
     },
     "metadata": {
      "needs_background": "light"
     },
     "output_type": "display_data"
    }
   ],
   "source": [
    "fig = plt.figure(figsize=(15, 5))\n",
    "ax = plt.subplot(131)\n",
    "\n",
    "epochs = PARAMS['epochs']\n",
    "epochs_graph = range(1, PARAMS['epochs'] + 1)\n",
    "folds = PARAMS['k']\n",
    "\n",
    "loss_all = history_all_df.loc[:, 'loss'].to_list()\n",
    "loss_prep = [loss_all[i * epochs:(i + 1) * epochs] for i in range(folds)]\n",
    "loss = [np.mean([x[i] for x in loss_prep]) for i in range(epochs)]\n",
    "\n",
    "val_loss_all = history_all_df.loc[:, 'val_loss'].to_list()\n",
    "val_loss_prep = [\n",
    "    val_loss_all[i * epochs:(i + 1) * epochs] for i in range(folds)]\n",
    "val_loss = [np.mean([x[i] for x in val_loss_prep]) for i in range(epochs)]\n",
    "\n",
    "accuracy_all = history_all_df.loc[:, 'accuracy'].to_list()\n",
    "accuracy_prep = [\n",
    "    accuracy_all[i * epochs:(i + 1) * epochs] for i in range(folds)]\n",
    "accuracy = [np.mean([x[i] for x in accuracy_prep]) for i in range(epochs)]\n",
    "\n",
    "val_accuracy_all = history_all_df.loc[:, 'val_accuracy'].to_list()\n",
    "val_accuracy_prep = [val_accuracy_all[i *\n",
    "                                      epochs:(i + 1) * epochs] for i in range(folds)]\n",
    "val_accuracy = [np.mean([x[i] for x in val_accuracy_prep])\n",
    "                for i in range(epochs)]\n",
    "\n",
    "f1_all = history_all_df.loc[:, 'f1'].to_list()\n",
    "f1_prep = [f1_all[i * epochs:(i + 1) * epochs] for i in range(folds)]\n",
    "f1 = [np.mean([x[i] for x in f1_prep]) for i in range(epochs)]\n",
    "\n",
    "val_f1_all = history_all_df.loc[:, 'val_f1'].to_list()\n",
    "val_f1_prep = [val_f1_all[i * epochs:(i + 1) * epochs]\n",
    "               for i in range(folds)]\n",
    "val_f1 = [np.mean([x[i] for x in val_f1_prep]) for i in range(epochs)]\n",
    "\n",
    "plt.plot(epochs_graph, loss, 'b')\n",
    "plt.plot(epochs_graph, val_loss, 'r')\n",
    "plt.ylim([0, 2])\n",
    "ax.set_ylabel('loss')\n",
    "ax.set_xlabel('epochs')\n",
    "ax.legend(['train', 'validation'])\n",
    "plt.title(f'Train vs. Validation Loss')\n",
    "\n",
    "ax = plt.subplot(132)\n",
    "plt.plot(epochs_graph, accuracy, 'b')\n",
    "plt.plot(epochs_graph, val_accuracy, 'r')\n",
    "plt.ylim([0, 1])\n",
    "ax.set_ylabel('accuracy')\n",
    "ax.set_xlabel('epochs')\n",
    "ax.legend(['train', 'validation'])\n",
    "plt.title(f'Train vs. Validation Accuracy')\n",
    "\n",
    "ax = plt.subplot(133)\n",
    "plt.plot(epochs_graph, f1, 'b')\n",
    "plt.plot(epochs_graph, val_f1, 'r')\n",
    "plt.ylim([0, 1])\n",
    "ax.set_ylabel('f1')\n",
    "ax.set_xlabel('epochs')\n",
    "ax.legend(['train', 'validation'])\n",
    "plt.title(f'Train vs. Validation F1-Score')\n",
    "\n",
    "if logging:\n",
    "    if not os.path.exists(os.path.join(logdir, 'figures')):\n",
    "        os.makedirs(os.path.join(logdir, 'figures'))\n",
    "    fig.savefig(os.path.join(\n",
    "        logdir, f'figures/loss_accuracy_training_multi_input.png'), bbox_inches='tight')"
   ]
  },
  {
   "cell_type": "markdown",
   "metadata": {},
   "source": [
    "### Final Evaluation of The Model on The Test Data"
   ]
  },
  {
   "cell_type": "code",
   "execution_count": 29,
   "metadata": {},
   "outputs": [],
   "source": [
    "def test_model(model_final, x_train_text, x_train_product_type, y_train, x_test_text, x_test_product_type, y_test, params):\n",
    "    \"\"\"\n",
    "    Function that loads the saved trained models and evaluates on the test data\n",
    "\n",
    "    Args: \n",
    "        - model_final - final compiled model to be trained on the whole training data set\n",
    "        - x_train - whole set of training features\n",
    "        - y_train - whole set of training labels\n",
    "        - x_test - test features (= descriptions)\n",
    "        - y_test - test labels (= sentiments)\n",
    "\n",
    "    Returns: \n",
    "        - results - loss, accuracy, recall, precision\n",
    "        - f1_score  \n",
    "    \"\"\"\n",
    "\n",
    "    epochs = params['epochs']\n",
    "    batch_size = params['batch_size']\n",
    "\n",
    "    model_final.fit([x_train_text, x_train_product_type],  # multiple inputs,\n",
    "                    y_train,\n",
    "                    epochs=epochs,\n",
    "                    batch_size=batch_size,\n",
    "                    verbose=0)\n",
    "\n",
    "    path = os.path.join(logdir, 'model_multi_input')\n",
    "    model_final.save(path)\n",
    "\n",
    "    results = model_final.evaluate([x_test_text, x_test_product_type], y_test)\n",
    "    precision = results[1]\n",
    "    recall = results[2]\n",
    "    f1_score = 2 * precision * recall / (precision + recall)\n",
    "    print()\n",
    "    print(f'Test f1-score for multi input model: {f1_score}')\n",
    "    return results, f1_score"
   ]
  },
  {
   "cell_type": "markdown",
   "metadata": {},
   "source": [
    "### Training on The Whole Train Data Set (Without Cross-Validation)"
   ]
  },
  {
   "cell_type": "code",
   "execution_count": 30,
   "metadata": {},
   "outputs": [
    {
     "name": "stderr",
     "output_type": "stream",
     "text": [
      "/Users/iskriyanavasileva/opt/anaconda3/envs/nlp-sent/lib/python3.6/site-packages/sklearn/utils/validation.py:70: FutureWarning: Pass classes=[0 1 2 3] as keyword args. From version 0.25 passing these as positional arguments will result in an error\n",
      "  FutureWarning)\n",
      "/Users/iskriyanavasileva/opt/anaconda3/envs/nlp-sent/lib/python3.6/site-packages/sklearn/utils/validation.py:70: FutureWarning: Pass classes=[0 1 2 3] as keyword args. From version 0.25 passing these as positional arguments will result in an error\n",
      "  FutureWarning)\n"
     ]
    }
   ],
   "source": [
    "x_train_text_all, y_train_all = oversample_smote(x_train_text, y_train)\n",
    "\n",
    "x_train_product_type_all_prep = x_train_product_type.to_numpy().reshape(-1, 1)\n",
    "x_train_product_type_all, y_train_all = oversample_smote(\n",
    "    x_train_product_type_all_prep, y_train)"
   ]
  },
  {
   "cell_type": "code",
   "execution_count": 31,
   "metadata": {},
   "outputs": [],
   "source": [
    "model_final_multi_input = model"
   ]
  },
  {
   "cell_type": "code",
   "execution_count": 32,
   "metadata": {},
   "outputs": [
    {
     "name": "stdout",
     "output_type": "stream",
     "text": [
      "Model: \"model\"\n",
      "__________________________________________________________________________________________________\n",
      "Layer (type)                    Output Shape         Param #     Connected to                     \n",
      "==================================================================================================\n",
      "text (InputLayer)               [(None, None)]       0                                            \n",
      "__________________________________________________________________________________________________\n",
      "reshape (Reshape)               (None, 10000)        0           text[0][0]                       \n",
      "__________________________________________________________________________________________________\n",
      "dense (Dense)                   (None, 32)           320032      reshape[0][0]                    \n",
      "__________________________________________________________________________________________________\n",
      "product_type (InputLayer)       [(None, None)]       0                                            \n",
      "__________________________________________________________________________________________________\n",
      "dropout (Dropout)               (None, 32)           0           dense[0][0]                      \n",
      "__________________________________________________________________________________________________\n",
      "reshape_1 (Reshape)             (None, 1)            0           product_type[0][0]               \n",
      "__________________________________________________________________________________________________\n",
      "dense_1 (Dense)                 (None, 32)           1056        dropout[0][0]                    \n",
      "__________________________________________________________________________________________________\n",
      "dense_2 (Dense)                 (None, 64)           128         reshape_1[0][0]                  \n",
      "__________________________________________________________________________________________________\n",
      "dropout_1 (Dropout)             (None, 32)           0           dense_1[0][0]                    \n",
      "__________________________________________________________________________________________________\n",
      "dense_3 (Dense)                 (None, 64)           4160        dense_2[0][0]                    \n",
      "__________________________________________________________________________________________________\n",
      "concatenate (Concatenate)       (None, 96)           0           dropout_1[0][0]                  \n",
      "                                                                 dense_3[0][0]                    \n",
      "__________________________________________________________________________________________________\n",
      "dense_4 (Dense)                 (None, 4)            388         concatenate[0][0]                \n",
      "==================================================================================================\n",
      "Total params: 325,764\n",
      "Trainable params: 325,764\n",
      "Non-trainable params: 0\n",
      "__________________________________________________________________________________________________\n"
     ]
    }
   ],
   "source": [
    "model_final_multi_input.summary()"
   ]
  },
  {
   "cell_type": "code",
   "execution_count": 33,
   "metadata": {},
   "outputs": [
    {
     "name": "stdout",
     "output_type": "stream",
     "text": [
      "INFO:tensorflow:Assets written to: logs/experiments/final_multi_input_model_2020_12_21-15:14/model_multi_input/assets\n",
      "40/40 [==============================] - 0s 2ms/step - loss: 9.8895 - accuracy: 0.6174 - precision: 0.6179 - recall: 0.6174\n",
      "\n",
      "Test f1-score for multi input model: 0.6176817059493072\n"
     ]
    }
   ],
   "source": [
    "results, f1_score = test_model(\n",
    "    model_final_multi_input, x_train_text_all, x_train_product_type_all, y_train_all, x_test_text, x_test_product_type, y_test, PARAMS)"
   ]
  },
  {
   "cell_type": "markdown",
   "metadata": {},
   "source": [
    "### Confusion Matrix"
   ]
  },
  {
   "cell_type": "markdown",
   "metadata": {},
   "source": [
    "Let's also take a look at the confusion matrix in order to see how the model performs on the different classes.  \n",
    "\n",
    "Source: https://github.com/javaidnabi31/Multi-class-with-imbalanced-dataset-classification/blob/master/20-news-group-classification.ipynb"
   ]
  },
  {
   "cell_type": "code",
   "execution_count": 34,
   "metadata": {},
   "outputs": [],
   "source": [
    "def plot_confusion_matrix(cm, classes, params,\n",
    "                          normalise=False,\n",
    "                          title='Confusion matrix',\n",
    "                          cmap=plt.cm.Blues):\n",
    "    \"\"\"\n",
    "    This function prints and plots the confusion matrix.\n",
    "    Args: \n",
    "        - cm - confusion matrix as generated by sklearns confusion_matrix\n",
    "        - classes - labels (=sentiments)\n",
    "        - normalise - normalisation can be applied by setting `normalise=True`\n",
    "        - title of the plot\n",
    "        - cmap - colors of the label squares\n",
    "    \"\"\"\n",
    "    if normalise:\n",
    "        cm = cm.astype('float') / cm.sum(axis=1)[:, np.newaxis]\n",
    "        print(\"Normalised confusion matrix\")\n",
    "    else:\n",
    "        print('Confusion matrix, without normalisation')\n",
    "\n",
    "    number_of_classes = params['number_of_classes']\n",
    "\n",
    "    plt.imshow(cm, interpolation='nearest', cmap=cmap)\n",
    "    plt.title(title)\n",
    "    plt.colorbar()\n",
    "    tick_marks = np.arange(number_of_classes)\n",
    "    plt.xticks(tick_marks, classes, rotation=90)\n",
    "    plt.yticks(tick_marks, classes)\n",
    "\n",
    "    fmt = '.2f' if normalise else 'd'\n",
    "    thresh = cm.max() / 2.\n",
    "    for i, j in itertools.product(range(cm.shape[0]), range(cm.shape[1])):\n",
    "        plt.text(j, i, format(cm[i, j], fmt),\n",
    "                 horizontalalignment=\"center\",\n",
    "                 color=\"white\" if cm[i, j] > thresh else \"black\")\n",
    "\n",
    "    plt.tight_layout()\n",
    "    plt.ylabel('True label')\n",
    "    plt.xlabel('Predicted label')"
   ]
  },
  {
   "cell_type": "code",
   "execution_count": 35,
   "metadata": {},
   "outputs": [
    {
     "name": "stdout",
     "output_type": "stream",
     "text": [
      "Normalised confusion matrix\n"
     ]
    },
    {
     "data": {
      "image/png": "[encoded data removed]",
      "text/plain": [
       "<Figure size 504x432 with 2 Axes>"
      ]
     },
     "metadata": {
      "needs_background": "light"
     },
     "output_type": "display_data"
    }
   ],
   "source": [
    "classes = train_descr.loc[:, 'Sentiment'].unique()\n",
    "classes = classes.sort()\n",
    "\n",
    "model_path = os.path.join(logdir, 'model_multi_input')\n",
    "model = tf.keras.models.load_model(model_path)\n",
    "\n",
    "y_pred = model.predict([x_test_text, x_test_product_type])\n",
    "cnf_matrix = confusion_matrix(\n",
    "    np.argmax(y_test, axis=1), np.argmax(y_pred, axis=1))\n",
    "\n",
    "# Plot normalised confusion matrix\n",
    "fig = plt.figure()\n",
    "fig.set_size_inches(7, 6, forward=True)\n",
    "\n",
    "plot_confusion_matrix(cnf_matrix, classes, PARAMS, normalise=True,\n",
    "                      title='Normalised confusion matrix of multi-input model')"
   ]
  },
  {
   "cell_type": "code",
   "execution_count": 36,
   "metadata": {},
   "outputs": [
    {
     "name": "stdout",
     "output_type": "stream",
     "text": [
      "Confusion matrix, without normalisation\n"
     ]
    },
    {
     "data": {
      "image/png": "[encoded data removed]",
      "text/plain": [
       "<Figure size 504x432 with 2 Axes>"
      ]
     },
     "metadata": {
      "needs_background": "light"
     },
     "output_type": "display_data"
    }
   ],
   "source": [
    "model_path = os.path.join(logdir, 'model_multi_input')\n",
    "model = tf.keras.models.load_model(model_path)\n",
    "\n",
    "y_pred = model.predict([x_test_text, x_test_product_type])\n",
    "cnf_matrix = confusion_matrix(\n",
    "    np.argmax(y_test, axis=1), np.argmax(y_pred, axis=1))\n",
    "\n",
    "# Plot normalised confusion matrix\n",
    "fig = plt.figure()\n",
    "fig.set_size_inches(7, 6, forward=True)\n",
    "\n",
    "plot_confusion_matrix(cnf_matrix, classes, PARAMS, normalise=False,\n",
    "                      title='Confusion matrix without normalisation of multi-input model')"
   ]
  },
  {
   "cell_type": "markdown",
   "metadata": {},
   "source": [
    "# On the Side: Create the Text Part, if a model with an Embedding Layer Was Chosen"
   ]
  },
  {
   "cell_type": "code",
   "execution_count": 37,
   "metadata": {},
   "outputs": [
    {
     "name": "stdout",
     "output_type": "stream",
     "text": [
      "Shape of sequences after padding is (6364, 25)\n"
     ]
    }
   ],
   "source": [
    "sequences, word_index, text, labels = load_data(preprocessed_corpus_path_TF)\n",
    "print(f'Shape of sequences after padding is {text.shape}')"
   ]
  },
  {
   "cell_type": "code",
   "execution_count": 38,
   "metadata": {},
   "outputs": [],
   "source": [
    "max_len = np.max([len(x) for x in sequences])\n",
    "#PARAMS['max_len'] = max_len"
   ]
  },
  {
   "cell_type": "code",
   "execution_count": 39,
   "metadata": {},
   "outputs": [
    {
     "name": "stdout",
     "output_type": "stream",
     "text": [
      "(None, None)\n",
      "(None, None, 30)\n",
      "(None, 750)\n"
     ]
    }
   ],
   "source": [
    "# input\n",
    "text_input = Input(shape=(None,), dtype='int32', name='text')\n",
    "print(text_input.shape)\n",
    "\n",
    "# embedding layer\n",
    "embedded_text = layers.Embedding(\n",
    "    max_words+1, embedding_size, input_length=max_len)(text_input)\n",
    "print(embedded_text.shape)\n",
    "\n",
    "# flatten_text = layers.Flatten()(embedded_text) - for some reason it does not function.\n",
    "# Therefore, Reshape is used to Flatten the 3D tensor of embeddings\n",
    "flatten_text = layers.Reshape((max_len * embedding_size,))(embedded_text)\n",
    "print(flatten_text.shape)\n",
    "\n",
    "# 2 fully connected layers\n",
    "encoded_text_1 = layers.Dense(\n",
    "    hidden_units_text, kernel_regularizer=regularizers.l2(), activation='relu')(flatten_text)\n",
    "encoded_text_2 = layers.Dropout(0.5)(encoded_text_1)\n",
    "encoded_text_3 = layers.Dense(hidden_units_text, kernel_regularizer=regularizers.l2(\n",
    "), activation='relu')(encoded_text_2)\n",
    "encoded_text_4 = layers.Dropout(0.5)(encoded_text_3)"
   ]
  },
  {
   "cell_type": "code",
   "execution_count": null,
   "metadata": {},
   "outputs": [],
   "source": []
  },
  {
   "cell_type": "code",
   "execution_count": null,
   "metadata": {},
   "outputs": [],
   "source": []
  }
 ],
 "metadata": {
  "kernelspec": {
   "display_name": "nlp-sent",
   "language": "python",
   "name": "nlp-sent"
  },
  "language_info": {
   "codemirror_mode": {
    "name": "ipython",
    "version": 3
   },
   "file_extension": ".py",
   "mimetype": "text/x-python",
   "name": "python",
   "nbconvert_exporter": "python",
   "pygments_lexer": "ipython3",
   "version": "3.6.12"
  }
 },
 "nbformat": 4,
 "nbformat_minor": 4
}
