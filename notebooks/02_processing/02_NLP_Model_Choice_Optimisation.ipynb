{
 "cells": [
  {
   "cell_type": "code",
   "execution_count": 1,
   "metadata": {},
   "outputs": [],
   "source": [
    "import datetime\n",
    "import json\n",
    "import keras\n",
    "import matplotlib.pyplot as plt\n",
    "import numpy as np\n",
    "import os\n",
    "import pandas as pd\n",
    "import pickle\n",
    "import seaborn as sns\n",
    "import sys\n",
    "import tensorflow as tf\n",
    "\n",
    "from collections import Counter\n",
    "from imblearn.over_sampling import SMOTE\n",
    "from keras import layers\n",
    "from keras import models\n",
    "from keras import regularizers\n",
    "from keras import utils\n",
    "from keras.utils import to_categorical\n",
    "from sklearn.dummy import DummyClassifier\n",
    "# to run validation on multiple metrics\n",
    "from sklearn.model_selection import cross_validate\n",
    "from sklearn.model_selection import KFold\n",
    "from tensorflow import keras\n",
    "from tensorflow.keras.models import save_model\n",
    "\n",
    "\n",
    "%matplotlib inline"
   ]
  },
  {
   "cell_type": "markdown",
   "metadata": {},
   "source": [
    "# Preparation Steps"
   ]
  },
  {
   "cell_type": "code",
   "execution_count": 2,
   "metadata": {},
   "outputs": [],
   "source": [
    "# folders\n",
    "home = os.getenv(\"HOME\")\n",
    "nlp_repo = os.path.join(home, 'git/nlp-product-sentiment-classification')\n",
    "\n",
    "# data\n",
    "train_csv_path = os.path.join(nlp_repo, 'data/03_processed/Train.csv')\n",
    "train_descr = pd.read_csv(train_csv_path)\n",
    "\n",
    "test_csv_path = os.path.join(nlp_repo, 'data/03_processed/Test.csv')\n",
    "test_descr = pd.read_csv(test_csv_path)\n",
    "\n",
    "# encoded tokens\n",
    "preprocessed_corpus_path_TF = os.path.join(\n",
    "    nlp_repo, 'data/03_processed/product_descr_preprocessed_TF.p')\n",
    "\n",
    "preprocessed_corpus_path_TF_oh = os.path.join(\n",
    "    nlp_repo, 'data/03_processed/product_descr_preprocessed_TF_oh.p')"
   ]
  },
  {
   "cell_type": "markdown",
   "metadata": {},
   "source": [
    "# Define Parameter Dictionary\n",
    "\n",
    "This dictionary contains all the parameters necessary for the model training. It is going to be saved with the trained model in order to log it. \n",
    "\n",
    "\n",
    "Inputs before running a new experiment: \n",
    "1. Define experiment name\n",
    "2. Define model architecture and hyperparameters"
   ]
  },
  {
   "cell_type": "code",
   "execution_count": 3,
   "metadata": {},
   "outputs": [
    {
     "name": "stdout",
     "output_type": "stream",
     "text": [
      "Log results to logs/experiments/all_models_no_counter_overfitting_2020_12_11-12:52\n"
     ]
    }
   ],
   "source": [
    "logging = True\n",
    "\n",
    "saving = True\n",
    "\n",
    "PARAMS = {\n",
    "\n",
    "    # Define experiment name:\n",
    "    'experiment_name': 'all_models_no_counter_overfitting',\n",
    "\n",
    "    # List of models\n",
    "    'model_type': ['bow', 'fc_emb', 'fc_transf', 'lstm', 'lstm_transf', 'conv1d', 'conv1d_transf'],\n",
    "\n",
    "    # Parameters general:\n",
    "    'number_of_classes': len(np.unique(train_descr['Sentiment'])),\n",
    "    'n_splits': 4,\n",
    "    'seed': 42,\n",
    "    'batch_size': 32,  # [16, 32, 64],\n",
    "    'epochs': 15,\n",
    "    'hidden_units': 32,  # [16, 32, 64],\n",
    "\n",
    "    # NLP Parameters\n",
    "    # max_words = vocabulary size = our samples - number of most frequent words.\n",
    "    # I set it to 10.000, although in this case there are less.\n",
    "    # I do this to parametise the code.\n",
    "    # Aleternatively, I can set it to the length of our vocabulary = word_index\n",
    "    'max_words': 10000,\n",
    "\n",
    "    # embedding_size = embedding dimensionality\n",
    "    'embedding_size': 30,  # [10, 20, 30, 100],\n",
    "\n",
    "    # Parameters for pre-trained word embeddings:\n",
    "    'embedding_dim': 100,\n",
    "\n",
    "    # Parameters for the Conv1D:\n",
    "    'conv_window': 5,  # [3, 5, 7],\n",
    "\n",
    "    # Cross-fold validation:\n",
    "    'k': 4,\n",
    "\n",
    "    # Regularisation types\n",
    "    'reg_mode': ['l2', 'dropout', 'combi']\n",
    "}\n",
    "\n",
    "logdir = f'logs/experiments/{PARAMS[\"experiment_name\"]}_' + \\\n",
    "    datetime.datetime.now().strftime(\"%Y_%m_%d-%H:%M\")\n",
    "logdir_tb = f'logs/tensorboard/experiments/{PARAMS[\"experiment_name\"]}_' + \\\n",
    "    datetime.datetime.now().strftime(\"%Y_%m_%d-%H:%M\")\n",
    "\n",
    "# create logging folder and tensorboard callback function\n",
    "if logging:\n",
    "    print(f'Log results to {logdir}')\n",
    "    if not os.path.exists(logdir):\n",
    "        os.makedirs(logdir)\n",
    "\n",
    "    tensorboard_callbacks = [tf.keras.callbacks.TensorBoard(log_dir=logdir_tb)]\n",
    "\n",
    "else:\n",
    "    logdir = ''\n",
    "    logdir_tb = ''\n",
    "    tensorboard_callbacks = []"
   ]
  },
  {
   "cell_type": "markdown",
   "metadata": {},
   "source": [
    "# Load Tokens and Vocabulary"
   ]
  },
  {
   "cell_type": "code",
   "execution_count": 4,
   "metadata": {},
   "outputs": [],
   "source": [
    "def load_data(path_to_corpus, one_hot=False):\n",
    "    if not one_hot:\n",
    "        sequences, word_index = pd.read_pickle(path_to_corpus)\n",
    "\n",
    "        # max_len = sequence length - the text is cut off after this number of words\n",
    "        # in this case it is defined as the maximum sequence length in our list of tokenised sequences\n",
    "        max_len = np.max([len(x) for x in sequences])\n",
    "        data = tf.keras.preprocessing.sequence.pad_sequences(\n",
    "            sequences, maxlen=max_len)\n",
    "    else:\n",
    "        sequences, word_index = pd.read_pickle(path_to_corpus)\n",
    "        data = sequences\n",
    "\n",
    "    labels = train_descr.loc[:, 'Sentiment'].to_list()\n",
    "\n",
    "    return sequences, word_index, data, labels"
   ]
  },
  {
   "cell_type": "markdown",
   "metadata": {},
   "source": [
    "for bag-of-words with one-hot encoded tokens"
   ]
  },
  {
   "cell_type": "code",
   "execution_count": 5,
   "metadata": {},
   "outputs": [
    {
     "data": {
      "text/plain": [
       "(6364, 10000)"
      ]
     },
     "execution_count": 5,
     "metadata": {},
     "output_type": "execute_result"
    }
   ],
   "source": [
    "sequences_oh, word_index_oh, data_oh, labels_oh = load_data(\n",
    "    preprocessed_corpus_path_TF_oh, one_hot=True)\n",
    "sequences_oh.shape"
   ]
  },
  {
   "cell_type": "markdown",
   "metadata": {},
   "source": [
    "for the models with embedding layer"
   ]
  },
  {
   "cell_type": "code",
   "execution_count": 6,
   "metadata": {},
   "outputs": [
    {
     "name": "stdout",
     "output_type": "stream",
     "text": [
      "Shape of sequences after padding is (6364, 25)\n"
     ]
    }
   ],
   "source": [
    "sequences, word_index, data, labels = load_data(preprocessed_corpus_path_TF)\n",
    "print(f'Shape of sequences after padding is {data.shape}')"
   ]
  },
  {
   "cell_type": "markdown",
   "metadata": {},
   "source": [
    "Add max_len to parameters dictionary"
   ]
  },
  {
   "cell_type": "code",
   "execution_count": 7,
   "metadata": {},
   "outputs": [],
   "source": [
    "max_len = np.max([len(x) for x in sequences])\n",
    "PARAMS['max_len'] = max_len"
   ]
  },
  {
   "cell_type": "markdown",
   "metadata": {},
   "source": [
    "# Preparation for the Pre-Trained Embeddings"
   ]
  },
  {
   "cell_type": "code",
   "execution_count": 8,
   "metadata": {},
   "outputs": [],
   "source": [
    "glove_dir = './glove.6B'"
   ]
  },
  {
   "cell_type": "code",
   "execution_count": 9,
   "metadata": {},
   "outputs": [
    {
     "name": "stdout",
     "output_type": "stream",
     "text": [
      "Found 400000 word vectors.\n"
     ]
    }
   ],
   "source": [
    "embeddings_index = {}\n",
    "\n",
    "f = open(os.path.join(glove_dir, 'glove.6B.100d.txt'))\n",
    "for line in f:\n",
    "    values = line.split()\n",
    "    word = values[0]\n",
    "    coefs = np.asarray(values[1:], dtype='float32')\n",
    "    embeddings_index[word] = coefs\n",
    "f.close()\n",
    "\n",
    "print('Found %s word vectors.' % len(embeddings_index))"
   ]
  },
  {
   "cell_type": "code",
   "execution_count": 10,
   "metadata": {},
   "outputs": [
    {
     "name": "stdout",
     "output_type": "stream",
     "text": [
      "(10001, 100)\n"
     ]
    }
   ],
   "source": [
    "embedding_matrix = np.zeros((PARAMS['max_words']+1, PARAMS['embedding_dim']))\n",
    "\n",
    "for word, i in word_index.items():\n",
    "    if i < PARAMS['max_words']:\n",
    "        embedding_vector = embeddings_index.get(word)\n",
    "        if embedding_vector is not None:\n",
    "            embedding_matrix[i] = embedding_vector\n",
    "print(embedding_matrix.shape)"
   ]
  },
  {
   "cell_type": "markdown",
   "metadata": {},
   "source": [
    "# Train-Test Split"
   ]
  },
  {
   "cell_type": "code",
   "execution_count": 11,
   "metadata": {},
   "outputs": [],
   "source": [
    "def train_test_split(data, labels):\n",
    "    dimensions_labels = PARAMS['number_of_classes']\n",
    "\n",
    "    indices = np.arange(data.shape[0])\n",
    "    np.random.shuffle(indices)\n",
    "\n",
    "    data = data[indices]\n",
    "    labels = np.asarray(labels)\n",
    "    labels = labels[indices]\n",
    "\n",
    "    training_samples = int(0.8 * len(data))\n",
    "\n",
    "    x_train = data[:training_samples]\n",
    "    y_train = labels[:training_samples]\n",
    "\n",
    "    x_test = data[training_samples:]\n",
    "    y_test = labels[training_samples:]\n",
    "\n",
    "    y_train_oh = tf.one_hot(indices=y_train, depth=dimensions_labels)\n",
    "    y_train_oh = np.asarray(y_train_oh)\n",
    "\n",
    "    y_test_oh = tf.one_hot(indices=y_test, depth=dimensions_labels)\n",
    "    y_test_oh = np.asarray(y_test_oh)\n",
    "\n",
    "    return x_train, y_train_oh, x_test, y_test_oh"
   ]
  },
  {
   "cell_type": "code",
   "execution_count": 12,
   "metadata": {},
   "outputs": [],
   "source": [
    "x_train, y_train, x_test, y_test = train_test_split(data, labels)\n",
    "\n",
    "x_train_oh, y_train_oh, x_test_oh, y_test_oh = train_test_split(\n",
    "    data_oh, labels_oh)"
   ]
  },
  {
   "cell_type": "markdown",
   "metadata": {},
   "source": [
    "# Oversample the Minority Classes"
   ]
  },
  {
   "cell_type": "code",
   "execution_count": 13,
   "metadata": {},
   "outputs": [],
   "source": [
    "def oversample_smote(x_train, y_train):\n",
    "    oversample = SMOTE()\n",
    "    x_train, y_train = oversample.fit_resample(x_train, y_train)\n",
    "\n",
    "    return x_train, y_train\n",
    "\n",
    "\n",
    "def plot_classes(y_train):\n",
    "    counter = Counter(y_train)\n",
    "    for k, v in counter.items():\n",
    "        per = v / len(y_train) * 100\n",
    "        print('Class=%d, n=%d (%.3f%%)' % (k, v, per))\n",
    "    # plot the distribution\n",
    "    plt.bar(counter.keys(), counter.values())\n",
    "    plt.show()"
   ]
  },
  {
   "cell_type": "markdown",
   "metadata": {},
   "source": [
    "# Generate a Model"
   ]
  },
  {
   "cell_type": "code",
   "execution_count": 14,
   "metadata": {},
   "outputs": [],
   "source": [
    "metrics = [\n",
    "    keras.metrics.CategoricalAccuracy(name='accuracy'),\n",
    "    keras.metrics.Precision(name='precision'),\n",
    "    keras.metrics.Recall(name='recall')]"
   ]
  },
  {
   "cell_type": "code",
   "execution_count": 15,
   "metadata": {},
   "outputs": [],
   "source": [
    "def generate_model(model_type, params_dict):\n",
    "    \"\"\"\n",
    "    This function compiles a model according to the chosen model_type\n",
    "    Args: \n",
    "        - model_type - which model type is to be used\n",
    "        - params_dict - dictionary with parameters for the model\n",
    "\n",
    "    Returns: \n",
    "        - a compiled model\n",
    "    \"\"\"\n",
    "\n",
    "    # set parameters\n",
    "    hidden_units = params_dict['hidden_units']\n",
    "    dimensions_labels = params_dict['number_of_classes']\n",
    "    max_words = params_dict['max_words']\n",
    "    max_len = params_dict['max_len']\n",
    "    embedding_size = params_dict['embedding_size']\n",
    "    embedding_dim = params_dict['embedding_dim']\n",
    "    conv_window = params_dict['conv_window']\n",
    "\n",
    "    # fully connected bag-of-words\n",
    "    if model_type == params_dict['model_type'][0]:\n",
    "        model = models.Sequential()\n",
    "        model.add(layers.Dense(hidden_units, activation='relu',\n",
    "                               input_shape=(max_words, )))\n",
    "        model.add(layers.Dense(hidden_units, activation='relu'))\n",
    "        model.add(layers.Dense(dimensions_labels, activation='softmax'))\n",
    "\n",
    "    # fully connected & \"homegrown\" embeddings layer\n",
    "    elif model_type == params_dict['model_type'][1]:\n",
    "        model = models.Sequential()\n",
    "        model.add(layers.Embedding(max_words+1,\n",
    "                                   embedding_size, input_length=max_len))\n",
    "        model.add(layers.Flatten())\n",
    "        model.add(layers.Dense(hidden_units, activation='relu'))\n",
    "        model.add(layers.Dense(hidden_units, activation='relu'))\n",
    "        model.add(layers.Dense(dimensions_labels, activation='softmax'))\n",
    "\n",
    "    # fully connected & a pre-trained embeddings layer\n",
    "    elif model_type == params_dict['model_type'][2]:\n",
    "        model = models.Sequential()\n",
    "        model.add(layers.Embedding(max_words+1,\n",
    "                                   embedding_dim, input_length=max_len))\n",
    "        model.add(layers.Flatten())\n",
    "        model.add(layers.Dense(hidden_units, activation='relu'))\n",
    "        model.add(layers.Dense(hidden_units, activation='relu'))\n",
    "        model.add(layers.Dense(dimensions_labels, activation='softmax'))\n",
    "\n",
    "        model.layers[0].set_weights([embedding_matrix])  # !!!! important !!!!\n",
    "        model.layers[0].trainable = False\n",
    "\n",
    "    # lstm with \"homegrowm\" embeddings layer\n",
    "    elif model_type == params_dict['model_type'][3]:\n",
    "        model = models.Sequential()\n",
    "        model.add(layers.Embedding(max_words+1,\n",
    "                                   embedding_dim, input_length=max_len))\n",
    "        model.add(layers.LSTM(hidden_units))\n",
    "        model.add(layers.Dense(hidden_units, activation='relu'))\n",
    "        model.add(layers.Dense(hidden_units, activation='relu'))\n",
    "        model.add(layers.Dense(dimensions_labels, activation='softmax'))\n",
    "\n",
    "    # lstm with pre-trained embeddings layer\n",
    "    elif model_type == params_dict['model_type'][4]:\n",
    "        model = models.Sequential()\n",
    "        model.add(layers.Embedding(max_words+1,\n",
    "                                   embedding_dim, input_length=max_len))\n",
    "        model.add(layers.LSTM(hidden_units))\n",
    "        model.add(layers.Dense(hidden_units, activation='relu'))\n",
    "        model.add(layers.Dense(hidden_units, activation='relu'))\n",
    "        model.add(layers.Dense(dimensions_labels, activation='softmax'))\n",
    "\n",
    "        model.layers[0].set_weights(\n",
    "            [embedding_matrix])  # !!!! important !!!!\n",
    "        model.layers[0].trainable = False\n",
    "\n",
    "    # conv1D with \"homegrown\" embeddings layer\n",
    "    elif model_type == params_dict['model_type'][5]:\n",
    "        model = models.Sequential()\n",
    "        model.add(layers.Embedding(max_words+1,\n",
    "                                   embedding_size, input_length=max_len))\n",
    "\n",
    "        model.add(layers.Conv1D(\n",
    "            hidden_units,  # features to be extracted\n",
    "            conv_window,  # convolutional window size\n",
    "            activation='relu',\n",
    "        ))\n",
    "        model.add(layers.Conv1D(hidden_units, conv_window, activation='relu'))\n",
    "        model.add(layers.GlobalMaxPooling1D())\n",
    "        model.add(layers.Dense(dimensions_labels, activation='softmax'))\n",
    "\n",
    "    # conv1D with pre-trained embeddings layer\n",
    "    elif model_type == params_dict['model_type'][6]:\n",
    "        model = models.Sequential()\n",
    "        model.add(layers.Embedding(max_words+1,\n",
    "                                   embedding_dim, input_length=max_len))\n",
    "\n",
    "        model.add(layers.Conv1D(hidden_units, conv_window, activation='relu',))\n",
    "        model.add(layers.Conv1D(hidden_units, conv_window, activation='relu'))\n",
    "        model.add(layers.GlobalMaxPooling1D())\n",
    "        model.add(layers.Dense(dimensions_labels, activation='softmax'))\n",
    "\n",
    "        model.layers[0].set_weights([embedding_matrix])  # !!!! important !!!!\n",
    "        model.layers[0].trainable = False\n",
    "\n",
    "    model.summary()\n",
    "\n",
    "    model.compile(\n",
    "        optimizer='adam',\n",
    "        loss='categorical_crossentropy',\n",
    "        metrics=metrics\n",
    "    )\n",
    "\n",
    "    return model"
   ]
  },
  {
   "cell_type": "markdown",
   "metadata": {},
   "source": [
    "# Training with Cross-Validation (incl. Upsampling)"
   ]
  },
  {
   "cell_type": "markdown",
   "metadata": {},
   "source": [
    "* Due to the small data quantity, cross-validation will be used to train the models.\n",
    "* Furthermore, as the classes are imbalanced, an oversampling will be introduced. ! It is important to generate the training and validation sets BEFORE the upsampling. Otherwise the exact same observations could be present in both the train and validation sets, i.e. data leakage would occur. This can allow the model to simply memorize specific data points and cause overfitting and poor generalization on unseen data. \n",
    "* The oversampling will be applied only on the train set in order to ensure that the model generalises well on unseen data (validation set and ultimately test set)"
   ]
  },
  {
   "cell_type": "code",
   "execution_count": 16,
   "metadata": {},
   "outputs": [],
   "source": [
    "def train_with_cross_val(k, model, model_type, train_data, train_labels, epochs, batch_size, reg_mode=None, reg=False):\n",
    "    \"\"\"\n",
    "    This function applies a k-fold cross-validation and saves the model history per fold & epoch.\n",
    "    Args: \n",
    "        - k - number of folds\n",
    "        - model - compiled model\n",
    "        - model_type - which model type is to be used\n",
    "        - train_data - the tokenised, padded and shuffled sequences\n",
    "        - train_labels - labels \n",
    "        - epochs - number of epochs\n",
    "        - batch_size - batch size\n",
    "    \"\"\"\n",
    "    num_val_samples = len(train_data) // k\n",
    "\n",
    "    for i in range(k):\n",
    "        print('processing fold #', i)\n",
    "        val_data = train_data[i * num_val_samples:(i + 1) * num_val_samples]\n",
    "        val_labels = train_labels[i *\n",
    "                                  num_val_samples:(i + 1) * num_val_samples]\n",
    "\n",
    "        partial_train_data = np.concatenate(\n",
    "            [train_data[:i * num_val_samples],\n",
    "             train_data[(i + 1) * num_val_samples:]],\n",
    "            axis=0)\n",
    "\n",
    "        partial_train_labels = np.concatenate(\n",
    "            [train_labels[:i * num_val_samples],\n",
    "             train_labels[(i + 1) * num_val_samples:]],\n",
    "            axis=0\n",
    "        )\n",
    "\n",
    "        partial_train_data_ovs, partial_train_labels_ovs = oversample_smote(\n",
    "            partial_train_data, partial_train_labels)\n",
    "\n",
    "        history = model.fit(\n",
    "            partial_train_data_ovs, partial_train_labels_ovs,\n",
    "            epochs=epochs,\n",
    "            batch_size=batch_size,\n",
    "            verbose=0,\n",
    "            validation_data=(val_data, val_labels),\n",
    "            # callbacks=tensorboard_callbacks\n",
    "        )\n",
    "\n",
    "        if reg == False:\n",
    "            np.save(f'history_{model_type}_fold_{i}.npy', history.history)\n",
    "\n",
    "        else:\n",
    "            np.save(\n",
    "                f'history_{model_type}_{reg_mode}_fold_{i}.npy', history.history)\n",
    "\n",
    "    if saving:\n",
    "        if reg:\n",
    "            path = os.path.join(logdir, f'{model_type}')\n",
    "            model.save(path)\n",
    "        else:\n",
    "            path = os.path.join(logdir, f'{model_type}_{reg_mode}')\n",
    "            model.save(path)"
   ]
  },
  {
   "cell_type": "markdown",
   "metadata": {},
   "source": [
    "# Baseline Model"
   ]
  },
  {
   "cell_type": "markdown",
   "metadata": {},
   "source": [
    "Idea Model: https://machinelearningmastery.com/imbalanced-multiclass-classification-with-the-glass-identification-dataset/\n",
    "\n",
    "Metrics: https://scikit-learn.org/stable/modules/model_evaluation.html\n",
    "\n",
    "\n",
    "* As the Fully Connected NN model's the precision, recall and f1 are calculcated unweighted, precision, recall & f1 are chosen to be macro\n",
    "* According to the sklearn-documentation this method calculates the metrics for each label, and finds their unweighted mean and does not take label imbalance into account.\n",
    "* Example documentation for precision: https://scikit-learn.org/stable/modules/generated/sklearn.metrics.precision_score.html\n",
    "\n",
    "Note: test_[metric] is validation and therefore comparable to the val_[metric] of the model."
   ]
  },
  {
   "cell_type": "code",
   "execution_count": 17,
   "metadata": {},
   "outputs": [],
   "source": [
    "scoring = ['accuracy', 'precision_macro', 'recall_macro', 'f1_macro']"
   ]
  },
  {
   "cell_type": "code",
   "execution_count": 18,
   "metadata": {},
   "outputs": [],
   "source": [
    "model_base = DummyClassifier(strategy='most_frequent')"
   ]
  },
  {
   "cell_type": "code",
   "execution_count": 19,
   "metadata": {},
   "outputs": [
    {
     "name": "stderr",
     "output_type": "stream",
     "text": [
      "/Users/iskriyanavasileva/opt/anaconda3/envs/nlp-sent/lib/python3.6/site-packages/sklearn/model_selection/_split.py:297: FutureWarning: Setting a random_state has no effect since shuffle is False. This will raise an error in 0.24. You should leave random_state to its default (None), or set shuffle=True.\n",
      "  FutureWarning\n"
     ]
    }
   ],
   "source": [
    "cv = KFold(n_splits=PARAMS['k'], random_state=PARAMS['seed'])\n",
    "\n",
    "scores = cross_validate(\n",
    "    model_base, x_train, y_train, scoring=scoring, cv=cv, n_jobs=-1)"
   ]
  },
  {
   "cell_type": "code",
   "execution_count": 20,
   "metadata": {},
   "outputs": [
    {
     "name": "stdout",
     "output_type": "stream",
     "text": [
      "Mean fit_time: 0.002 (0.001)\n",
      "Mean score_time: 0.016 (0.005)\n",
      "Mean test_accuracy: 0.589 (0.014)\n",
      "Mean test_precision_macro: 0.147 (0.003)\n",
      "Mean test_recall_macro: 0.250 (0.000)\n",
      "Mean test_f1_macro: 0.185 (0.003)\n"
     ]
    }
   ],
   "source": [
    "for metric, score in scores.items():\n",
    "    print(f'Mean {metric}: %.3f (%.3f)' %\n",
    "          (np.mean(score), np.std(score)))"
   ]
  },
  {
   "cell_type": "markdown",
   "metadata": {},
   "source": [
    "# Train the Model per Type"
   ]
  },
  {
   "cell_type": "code",
   "execution_count": 21,
   "metadata": {},
   "outputs": [
    {
     "name": "stdout",
     "output_type": "stream",
     "text": [
      "Model: \"sequential\"\n",
      "_________________________________________________________________\n",
      "Layer (type)                 Output Shape              Param #   \n",
      "=================================================================\n",
      "dense (Dense)                (None, 32)                320032    \n",
      "_________________________________________________________________\n",
      "dense_1 (Dense)              (None, 32)                1056      \n",
      "_________________________________________________________________\n",
      "dense_2 (Dense)              (None, 4)                 132       \n",
      "=================================================================\n",
      "Total params: 321,220\n",
      "Trainable params: 321,220\n",
      "Non-trainable params: 0\n",
      "_________________________________________________________________\n",
      "processing fold # 0\n"
     ]
    },
    {
     "name": "stderr",
     "output_type": "stream",
     "text": [
      "/Users/iskriyanavasileva/opt/anaconda3/envs/nlp-sent/lib/python3.6/site-packages/sklearn/utils/validation.py:70: FutureWarning: Pass classes=[0 1 2 3] as keyword args. From version 0.25 passing these as positional arguments will result in an error\n",
      "  FutureWarning)\n"
     ]
    },
    {
     "name": "stdout",
     "output_type": "stream",
     "text": [
      "processing fold # 1\n"
     ]
    },
    {
     "name": "stderr",
     "output_type": "stream",
     "text": [
      "/Users/iskriyanavasileva/opt/anaconda3/envs/nlp-sent/lib/python3.6/site-packages/sklearn/utils/validation.py:70: FutureWarning: Pass classes=[0 1 2 3] as keyword args. From version 0.25 passing these as positional arguments will result in an error\n",
      "  FutureWarning)\n"
     ]
    },
    {
     "name": "stdout",
     "output_type": "stream",
     "text": [
      "processing fold # 2\n"
     ]
    },
    {
     "name": "stderr",
     "output_type": "stream",
     "text": [
      "/Users/iskriyanavasileva/opt/anaconda3/envs/nlp-sent/lib/python3.6/site-packages/sklearn/utils/validation.py:70: FutureWarning: Pass classes=[0 1 2 3] as keyword args. From version 0.25 passing these as positional arguments will result in an error\n",
      "  FutureWarning)\n"
     ]
    },
    {
     "name": "stdout",
     "output_type": "stream",
     "text": [
      "processing fold # 3\n"
     ]
    },
    {
     "name": "stderr",
     "output_type": "stream",
     "text": [
      "/Users/iskriyanavasileva/opt/anaconda3/envs/nlp-sent/lib/python3.6/site-packages/sklearn/utils/validation.py:70: FutureWarning: Pass classes=[0 1 2 3] as keyword args. From version 0.25 passing these as positional arguments will result in an error\n",
      "  FutureWarning)\n"
     ]
    },
    {
     "name": "stdout",
     "output_type": "stream",
     "text": [
      "WARNING:tensorflow:From /Users/iskriyanavasileva/opt/anaconda3/envs/nlp-sent/lib/python3.6/site-packages/tensorflow/python/training/tracking/tracking.py:111: Model.state_updates (from tensorflow.python.keras.engine.training) is deprecated and will be removed in a future version.\n",
      "Instructions for updating:\n",
      "This property should not be used in TensorFlow 2.0, as updates are applied automatically.\n",
      "WARNING:tensorflow:From /Users/iskriyanavasileva/opt/anaconda3/envs/nlp-sent/lib/python3.6/site-packages/tensorflow/python/training/tracking/tracking.py:111: Layer.updates (from tensorflow.python.keras.engine.base_layer) is deprecated and will be removed in a future version.\n",
      "Instructions for updating:\n",
      "This property should not be used in TensorFlow 2.0, as updates are applied automatically.\n",
      "INFO:tensorflow:Assets written to: logs/experiments/all_models_no_counter_overfitting_2020_12_11-12:52/bow_None/assets\n",
      "Model: \"sequential_1\"\n",
      "_________________________________________________________________\n",
      "Layer (type)                 Output Shape              Param #   \n",
      "=================================================================\n",
      "embedding (Embedding)        (None, 25, 30)            300030    \n",
      "_________________________________________________________________\n",
      "flatten (Flatten)            (None, 750)               0         \n",
      "_________________________________________________________________\n",
      "dense_3 (Dense)              (None, 32)                24032     \n",
      "_________________________________________________________________\n",
      "dense_4 (Dense)              (None, 32)                1056      \n",
      "_________________________________________________________________\n",
      "dense_5 (Dense)              (None, 4)                 132       \n",
      "=================================================================\n",
      "Total params: 325,250\n",
      "Trainable params: 325,250\n",
      "Non-trainable params: 0\n",
      "_________________________________________________________________\n",
      "processing fold # 0\n"
     ]
    },
    {
     "name": "stderr",
     "output_type": "stream",
     "text": [
      "/Users/iskriyanavasileva/opt/anaconda3/envs/nlp-sent/lib/python3.6/site-packages/sklearn/utils/validation.py:70: FutureWarning: Pass classes=[0 1 2 3] as keyword args. From version 0.25 passing these as positional arguments will result in an error\n",
      "  FutureWarning)\n"
     ]
    },
    {
     "name": "stdout",
     "output_type": "stream",
     "text": [
      "processing fold # 1\n"
     ]
    },
    {
     "name": "stderr",
     "output_type": "stream",
     "text": [
      "/Users/iskriyanavasileva/opt/anaconda3/envs/nlp-sent/lib/python3.6/site-packages/sklearn/utils/validation.py:70: FutureWarning: Pass classes=[0 1 2 3] as keyword args. From version 0.25 passing these as positional arguments will result in an error\n",
      "  FutureWarning)\n"
     ]
    },
    {
     "name": "stdout",
     "output_type": "stream",
     "text": [
      "processing fold # 2\n"
     ]
    },
    {
     "name": "stderr",
     "output_type": "stream",
     "text": [
      "/Users/iskriyanavasileva/opt/anaconda3/envs/nlp-sent/lib/python3.6/site-packages/sklearn/utils/validation.py:70: FutureWarning: Pass classes=[0 1 2 3] as keyword args. From version 0.25 passing these as positional arguments will result in an error\n",
      "  FutureWarning)\n"
     ]
    },
    {
     "name": "stdout",
     "output_type": "stream",
     "text": [
      "processing fold # 3\n"
     ]
    },
    {
     "name": "stderr",
     "output_type": "stream",
     "text": [
      "/Users/iskriyanavasileva/opt/anaconda3/envs/nlp-sent/lib/python3.6/site-packages/sklearn/utils/validation.py:70: FutureWarning: Pass classes=[0 1 2 3] as keyword args. From version 0.25 passing these as positional arguments will result in an error\n",
      "  FutureWarning)\n"
     ]
    },
    {
     "name": "stdout",
     "output_type": "stream",
     "text": [
      "INFO:tensorflow:Assets written to: logs/experiments/all_models_no_counter_overfitting_2020_12_11-12:52/fc_emb_None/assets\n",
      "Model: \"sequential_2\"\n",
      "_________________________________________________________________\n",
      "Layer (type)                 Output Shape              Param #   \n",
      "=================================================================\n",
      "embedding_1 (Embedding)      (None, 25, 100)           1000100   \n",
      "_________________________________________________________________\n",
      "flatten_1 (Flatten)          (None, 2500)              0         \n",
      "_________________________________________________________________\n",
      "dense_6 (Dense)              (None, 32)                80032     \n",
      "_________________________________________________________________\n",
      "dense_7 (Dense)              (None, 32)                1056      \n",
      "_________________________________________________________________\n",
      "dense_8 (Dense)              (None, 4)                 132       \n",
      "=================================================================\n",
      "Total params: 1,081,320\n",
      "Trainable params: 81,220\n",
      "Non-trainable params: 1,000,100\n",
      "_________________________________________________________________\n",
      "processing fold # 0\n"
     ]
    },
    {
     "name": "stderr",
     "output_type": "stream",
     "text": [
      "/Users/iskriyanavasileva/opt/anaconda3/envs/nlp-sent/lib/python3.6/site-packages/sklearn/utils/validation.py:70: FutureWarning: Pass classes=[0 1 2 3] as keyword args. From version 0.25 passing these as positional arguments will result in an error\n",
      "  FutureWarning)\n"
     ]
    },
    {
     "name": "stdout",
     "output_type": "stream",
     "text": [
      "processing fold # 1\n"
     ]
    },
    {
     "name": "stderr",
     "output_type": "stream",
     "text": [
      "/Users/iskriyanavasileva/opt/anaconda3/envs/nlp-sent/lib/python3.6/site-packages/sklearn/utils/validation.py:70: FutureWarning: Pass classes=[0 1 2 3] as keyword args. From version 0.25 passing these as positional arguments will result in an error\n",
      "  FutureWarning)\n"
     ]
    },
    {
     "name": "stdout",
     "output_type": "stream",
     "text": [
      "processing fold # 2\n"
     ]
    },
    {
     "name": "stderr",
     "output_type": "stream",
     "text": [
      "/Users/iskriyanavasileva/opt/anaconda3/envs/nlp-sent/lib/python3.6/site-packages/sklearn/utils/validation.py:70: FutureWarning: Pass classes=[0 1 2 3] as keyword args. From version 0.25 passing these as positional arguments will result in an error\n",
      "  FutureWarning)\n"
     ]
    },
    {
     "name": "stdout",
     "output_type": "stream",
     "text": [
      "processing fold # 3\n"
     ]
    },
    {
     "name": "stderr",
     "output_type": "stream",
     "text": [
      "/Users/iskriyanavasileva/opt/anaconda3/envs/nlp-sent/lib/python3.6/site-packages/sklearn/utils/validation.py:70: FutureWarning: Pass classes=[0 1 2 3] as keyword args. From version 0.25 passing these as positional arguments will result in an error\n",
      "  FutureWarning)\n"
     ]
    },
    {
     "name": "stdout",
     "output_type": "stream",
     "text": [
      "INFO:tensorflow:Assets written to: logs/experiments/all_models_no_counter_overfitting_2020_12_11-12:52/fc_transf_None/assets\n",
      "Model: \"sequential_3\"\n",
      "_________________________________________________________________\n",
      "Layer (type)                 Output Shape              Param #   \n",
      "=================================================================\n",
      "embedding_2 (Embedding)      (None, 25, 100)           1000100   \n",
      "_________________________________________________________________\n",
      "lstm (LSTM)                  (None, 32)                17024     \n",
      "_________________________________________________________________\n",
      "dense_9 (Dense)              (None, 32)                1056      \n",
      "_________________________________________________________________\n",
      "dense_10 (Dense)             (None, 32)                1056      \n",
      "_________________________________________________________________\n",
      "dense_11 (Dense)             (None, 4)                 132       \n",
      "=================================================================\n",
      "Total params: 1,019,368\n",
      "Trainable params: 1,019,368\n",
      "Non-trainable params: 0\n",
      "_________________________________________________________________\n",
      "processing fold # 0\n"
     ]
    },
    {
     "name": "stderr",
     "output_type": "stream",
     "text": [
      "/Users/iskriyanavasileva/opt/anaconda3/envs/nlp-sent/lib/python3.6/site-packages/sklearn/utils/validation.py:70: FutureWarning: Pass classes=[0 1 2 3] as keyword args. From version 0.25 passing these as positional arguments will result in an error\n",
      "  FutureWarning)\n"
     ]
    },
    {
     "name": "stdout",
     "output_type": "stream",
     "text": [
      "processing fold # 1\n"
     ]
    },
    {
     "name": "stderr",
     "output_type": "stream",
     "text": [
      "/Users/iskriyanavasileva/opt/anaconda3/envs/nlp-sent/lib/python3.6/site-packages/sklearn/utils/validation.py:70: FutureWarning: Pass classes=[0 1 2 3] as keyword args. From version 0.25 passing these as positional arguments will result in an error\n",
      "  FutureWarning)\n"
     ]
    },
    {
     "name": "stdout",
     "output_type": "stream",
     "text": [
      "processing fold # 2\n"
     ]
    },
    {
     "name": "stderr",
     "output_type": "stream",
     "text": [
      "/Users/iskriyanavasileva/opt/anaconda3/envs/nlp-sent/lib/python3.6/site-packages/sklearn/utils/validation.py:70: FutureWarning: Pass classes=[0 1 2 3] as keyword args. From version 0.25 passing these as positional arguments will result in an error\n",
      "  FutureWarning)\n"
     ]
    },
    {
     "name": "stdout",
     "output_type": "stream",
     "text": [
      "processing fold # 3\n"
     ]
    },
    {
     "name": "stderr",
     "output_type": "stream",
     "text": [
      "/Users/iskriyanavasileva/opt/anaconda3/envs/nlp-sent/lib/python3.6/site-packages/sklearn/utils/validation.py:70: FutureWarning: Pass classes=[0 1 2 3] as keyword args. From version 0.25 passing these as positional arguments will result in an error\n",
      "  FutureWarning)\n"
     ]
    },
    {
     "name": "stdout",
     "output_type": "stream",
     "text": [
      "INFO:tensorflow:Assets written to: logs/experiments/all_models_no_counter_overfitting_2020_12_11-12:52/lstm_None/assets\n",
      "Model: \"sequential_4\"\n",
      "_________________________________________________________________\n",
      "Layer (type)                 Output Shape              Param #   \n",
      "=================================================================\n",
      "embedding_3 (Embedding)      (None, 25, 100)           1000100   \n",
      "_________________________________________________________________\n",
      "lstm_1 (LSTM)                (None, 32)                17024     \n",
      "_________________________________________________________________\n",
      "dense_12 (Dense)             (None, 32)                1056      \n",
      "_________________________________________________________________\n",
      "dense_13 (Dense)             (None, 32)                1056      \n",
      "_________________________________________________________________\n",
      "dense_14 (Dense)             (None, 4)                 132       \n",
      "=================================================================\n",
      "Total params: 1,019,368\n",
      "Trainable params: 19,268\n",
      "Non-trainable params: 1,000,100\n",
      "_________________________________________________________________\n",
      "processing fold # 0\n"
     ]
    },
    {
     "name": "stderr",
     "output_type": "stream",
     "text": [
      "/Users/iskriyanavasileva/opt/anaconda3/envs/nlp-sent/lib/python3.6/site-packages/sklearn/utils/validation.py:70: FutureWarning: Pass classes=[0 1 2 3] as keyword args. From version 0.25 passing these as positional arguments will result in an error\n",
      "  FutureWarning)\n"
     ]
    },
    {
     "name": "stdout",
     "output_type": "stream",
     "text": [
      "processing fold # 1\n"
     ]
    },
    {
     "name": "stderr",
     "output_type": "stream",
     "text": [
      "/Users/iskriyanavasileva/opt/anaconda3/envs/nlp-sent/lib/python3.6/site-packages/sklearn/utils/validation.py:70: FutureWarning: Pass classes=[0 1 2 3] as keyword args. From version 0.25 passing these as positional arguments will result in an error\n",
      "  FutureWarning)\n"
     ]
    },
    {
     "name": "stdout",
     "output_type": "stream",
     "text": [
      "processing fold # 2\n"
     ]
    },
    {
     "name": "stderr",
     "output_type": "stream",
     "text": [
      "/Users/iskriyanavasileva/opt/anaconda3/envs/nlp-sent/lib/python3.6/site-packages/sklearn/utils/validation.py:70: FutureWarning: Pass classes=[0 1 2 3] as keyword args. From version 0.25 passing these as positional arguments will result in an error\n",
      "  FutureWarning)\n"
     ]
    },
    {
     "name": "stdout",
     "output_type": "stream",
     "text": [
      "processing fold # 3\n"
     ]
    },
    {
     "name": "stderr",
     "output_type": "stream",
     "text": [
      "/Users/iskriyanavasileva/opt/anaconda3/envs/nlp-sent/lib/python3.6/site-packages/sklearn/utils/validation.py:70: FutureWarning: Pass classes=[0 1 2 3] as keyword args. From version 0.25 passing these as positional arguments will result in an error\n",
      "  FutureWarning)\n"
     ]
    },
    {
     "name": "stdout",
     "output_type": "stream",
     "text": [
      "INFO:tensorflow:Assets written to: logs/experiments/all_models_no_counter_overfitting_2020_12_11-12:52/lstm_transf_None/assets\n",
      "Model: \"sequential_5\"\n",
      "_________________________________________________________________\n",
      "Layer (type)                 Output Shape              Param #   \n",
      "=================================================================\n",
      "embedding_4 (Embedding)      (None, 25, 30)            300030    \n",
      "_________________________________________________________________\n",
      "conv1d (Conv1D)              (None, 21, 32)            4832      \n",
      "_________________________________________________________________\n",
      "conv1d_1 (Conv1D)            (None, 17, 32)            5152      \n",
      "_________________________________________________________________\n",
      "global_max_pooling1d (Global (None, 32)                0         \n",
      "_________________________________________________________________\n",
      "dense_15 (Dense)             (None, 4)                 132       \n",
      "=================================================================\n",
      "Total params: 310,146\n",
      "Trainable params: 310,146\n",
      "Non-trainable params: 0\n",
      "_________________________________________________________________\n",
      "processing fold # 0\n"
     ]
    },
    {
     "name": "stderr",
     "output_type": "stream",
     "text": [
      "/Users/iskriyanavasileva/opt/anaconda3/envs/nlp-sent/lib/python3.6/site-packages/sklearn/utils/validation.py:70: FutureWarning: Pass classes=[0 1 2 3] as keyword args. From version 0.25 passing these as positional arguments will result in an error\n",
      "  FutureWarning)\n"
     ]
    },
    {
     "name": "stdout",
     "output_type": "stream",
     "text": [
      "processing fold # 1\n"
     ]
    },
    {
     "name": "stderr",
     "output_type": "stream",
     "text": [
      "/Users/iskriyanavasileva/opt/anaconda3/envs/nlp-sent/lib/python3.6/site-packages/sklearn/utils/validation.py:70: FutureWarning: Pass classes=[0 1 2 3] as keyword args. From version 0.25 passing these as positional arguments will result in an error\n",
      "  FutureWarning)\n"
     ]
    },
    {
     "name": "stdout",
     "output_type": "stream",
     "text": [
      "processing fold # 2\n"
     ]
    },
    {
     "name": "stderr",
     "output_type": "stream",
     "text": [
      "/Users/iskriyanavasileva/opt/anaconda3/envs/nlp-sent/lib/python3.6/site-packages/sklearn/utils/validation.py:70: FutureWarning: Pass classes=[0 1 2 3] as keyword args. From version 0.25 passing these as positional arguments will result in an error\n",
      "  FutureWarning)\n"
     ]
    },
    {
     "name": "stdout",
     "output_type": "stream",
     "text": [
      "processing fold # 3\n"
     ]
    },
    {
     "name": "stderr",
     "output_type": "stream",
     "text": [
      "/Users/iskriyanavasileva/opt/anaconda3/envs/nlp-sent/lib/python3.6/site-packages/sklearn/utils/validation.py:70: FutureWarning: Pass classes=[0 1 2 3] as keyword args. From version 0.25 passing these as positional arguments will result in an error\n",
      "  FutureWarning)\n"
     ]
    },
    {
     "name": "stdout",
     "output_type": "stream",
     "text": [
      "INFO:tensorflow:Assets written to: logs/experiments/all_models_no_counter_overfitting_2020_12_11-12:52/conv1d_None/assets\n",
      "Model: \"sequential_6\"\n",
      "_________________________________________________________________\n",
      "Layer (type)                 Output Shape              Param #   \n",
      "=================================================================\n",
      "embedding_5 (Embedding)      (None, 25, 100)           1000100   \n",
      "_________________________________________________________________\n",
      "conv1d_2 (Conv1D)            (None, 21, 32)            16032     \n",
      "_________________________________________________________________\n",
      "conv1d_3 (Conv1D)            (None, 17, 32)            5152      \n",
      "_________________________________________________________________\n",
      "global_max_pooling1d_1 (Glob (None, 32)                0         \n",
      "_________________________________________________________________\n",
      "dense_16 (Dense)             (None, 4)                 132       \n",
      "=================================================================\n",
      "Total params: 1,021,416\n",
      "Trainable params: 21,316\n",
      "Non-trainable params: 1,000,100\n",
      "_________________________________________________________________\n",
      "processing fold # 0\n"
     ]
    },
    {
     "name": "stderr",
     "output_type": "stream",
     "text": [
      "/Users/iskriyanavasileva/opt/anaconda3/envs/nlp-sent/lib/python3.6/site-packages/sklearn/utils/validation.py:70: FutureWarning: Pass classes=[0 1 2 3] as keyword args. From version 0.25 passing these as positional arguments will result in an error\n",
      "  FutureWarning)\n"
     ]
    },
    {
     "name": "stdout",
     "output_type": "stream",
     "text": [
      "processing fold # 1\n"
     ]
    },
    {
     "name": "stderr",
     "output_type": "stream",
     "text": [
      "/Users/iskriyanavasileva/opt/anaconda3/envs/nlp-sent/lib/python3.6/site-packages/sklearn/utils/validation.py:70: FutureWarning: Pass classes=[0 1 2 3] as keyword args. From version 0.25 passing these as positional arguments will result in an error\n",
      "  FutureWarning)\n"
     ]
    },
    {
     "name": "stdout",
     "output_type": "stream",
     "text": [
      "processing fold # 2\n"
     ]
    },
    {
     "name": "stderr",
     "output_type": "stream",
     "text": [
      "/Users/iskriyanavasileva/opt/anaconda3/envs/nlp-sent/lib/python3.6/site-packages/sklearn/utils/validation.py:70: FutureWarning: Pass classes=[0 1 2 3] as keyword args. From version 0.25 passing these as positional arguments will result in an error\n",
      "  FutureWarning)\n"
     ]
    },
    {
     "name": "stdout",
     "output_type": "stream",
     "text": [
      "processing fold # 3\n"
     ]
    },
    {
     "name": "stderr",
     "output_type": "stream",
     "text": [
      "/Users/iskriyanavasileva/opt/anaconda3/envs/nlp-sent/lib/python3.6/site-packages/sklearn/utils/validation.py:70: FutureWarning: Pass classes=[0 1 2 3] as keyword args. From version 0.25 passing these as positional arguments will result in an error\n",
      "  FutureWarning)\n"
     ]
    },
    {
     "name": "stdout",
     "output_type": "stream",
     "text": [
      "INFO:tensorflow:Assets written to: logs/experiments/all_models_no_counter_overfitting_2020_12_11-12:52/conv1d_transf_None/assets\n"
     ]
    }
   ],
   "source": [
    "for model_type in PARAMS['model_type']:\n",
    "    model = generate_model(model_type, PARAMS)\n",
    "\n",
    "    if model_type == PARAMS['model_type'][0]:\n",
    "        train_with_cross_val(PARAMS['k'], model, model_type, x_train_oh,\n",
    "                             y_train_oh, PARAMS['epochs'], PARAMS['batch_size'])\n",
    "    else:\n",
    "        train_with_cross_val(\n",
    "            PARAMS['k'], model, model_type, x_train, y_train, PARAMS['epochs'], PARAMS['batch_size'])"
   ]
  },
  {
   "cell_type": "markdown",
   "metadata": {},
   "source": [
    "# Evaluate the Models"
   ]
  },
  {
   "cell_type": "markdown",
   "metadata": {},
   "source": [
    "### Generate a Metrics Dataframe"
   ]
  },
  {
   "cell_type": "code",
   "execution_count": 22,
   "metadata": {},
   "outputs": [],
   "source": [
    "history_all_df = pd.DataFrame()\n",
    "\n",
    "for model_type in PARAMS['model_type']:\n",
    "    for i in range(PARAMS['k']):\n",
    "        history = np.load(\n",
    "            f'history_{model_type}_fold_{i}.npy', allow_pickle='TRUE').item()\n",
    "        history['model_type'] = model_type\n",
    "\n",
    "        history_df = pd.DataFrame(history)\n",
    "\n",
    "        history_df['f1'] = 2 * history_df.precision * \\\n",
    "            history_df.recall/(history_df.precision + history_df.recall)\n",
    "        history_df['f1'] = history_df['f1'].fillna(0)\n",
    "        history_df['val_f1'] = 2 * history_df.val_precision * \\\n",
    "            history_df.val_recall / \\\n",
    "            (history_df.val_precision + history_df.val_recall)\n",
    "        history_df['val_f1'] = history_df['val_f1'].fillna(0)\n",
    "\n",
    "        history_all_df = history_all_df.append(history_df)\n",
    "\n",
    "history_all_df\n",
    "history_all_df_pivot = history_all_df.pivot_table(columns=['model_type'],\n",
    "                                                  values=['loss', 'val_loss', 'accuracy', 'val_accuracy', 'precision', 'val_precision', 'f1', 'val_f1'])"
   ]
  },
  {
   "cell_type": "code",
   "execution_count": 23,
   "metadata": {},
   "outputs": [
    {
     "data": {
      "text/html": [
       "<div>\n",
       "<style scoped>\n",
       "    .dataframe tbody tr th:only-of-type {\n",
       "        vertical-align: middle;\n",
       "    }\n",
       "\n",
       "    .dataframe tbody tr th {\n",
       "        vertical-align: top;\n",
       "    }\n",
       "\n",
       "    .dataframe thead th {\n",
       "        text-align: right;\n",
       "    }\n",
       "</style>\n",
       "<table border=\"1\" class=\"dataframe\">\n",
       "  <thead>\n",
       "    <tr style=\"text-align: right;\">\n",
       "      <th></th>\n",
       "      <th>loss</th>\n",
       "      <th>accuracy</th>\n",
       "      <th>precision</th>\n",
       "      <th>recall</th>\n",
       "      <th>val_loss</th>\n",
       "      <th>val_accuracy</th>\n",
       "      <th>val_precision</th>\n",
       "      <th>val_recall</th>\n",
       "      <th>model_type</th>\n",
       "      <th>f1</th>\n",
       "      <th>val_f1</th>\n",
       "    </tr>\n",
       "  </thead>\n",
       "  <tbody>\n",
       "    <tr>\n",
       "      <th>0</th>\n",
       "      <td>0.702180</td>\n",
       "      <td>0.738980</td>\n",
       "      <td>0.875577</td>\n",
       "      <td>0.506790</td>\n",
       "      <td>0.889611</td>\n",
       "      <td>0.629717</td>\n",
       "      <td>0.649603</td>\n",
       "      <td>0.578616</td>\n",
       "      <td>bow</td>\n",
       "      <td>0.641991</td>\n",
       "      <td>0.612058</td>\n",
       "    </tr>\n",
       "    <tr>\n",
       "      <th>1</th>\n",
       "      <td>0.246158</td>\n",
       "      <td>0.905499</td>\n",
       "      <td>0.910535</td>\n",
       "      <td>0.899488</td>\n",
       "      <td>0.970661</td>\n",
       "      <td>0.639151</td>\n",
       "      <td>0.652068</td>\n",
       "      <td>0.632075</td>\n",
       "      <td>bow</td>\n",
       "      <td>0.904978</td>\n",
       "      <td>0.641916</td>\n",
       "    </tr>\n",
       "    <tr>\n",
       "      <th>2</th>\n",
       "      <td>0.159991</td>\n",
       "      <td>0.939225</td>\n",
       "      <td>0.941150</td>\n",
       "      <td>0.938112</td>\n",
       "      <td>1.115557</td>\n",
       "      <td>0.629717</td>\n",
       "      <td>0.637530</td>\n",
       "      <td>0.625000</td>\n",
       "      <td>bow</td>\n",
       "      <td>0.939629</td>\n",
       "      <td>0.631203</td>\n",
       "    </tr>\n",
       "    <tr>\n",
       "      <th>3</th>\n",
       "      <td>0.121288</td>\n",
       "      <td>0.952248</td>\n",
       "      <td>0.952853</td>\n",
       "      <td>0.951581</td>\n",
       "      <td>1.265974</td>\n",
       "      <td>0.617138</td>\n",
       "      <td>0.619730</td>\n",
       "      <td>0.612421</td>\n",
       "      <td>bow</td>\n",
       "      <td>0.952217</td>\n",
       "      <td>0.616054</td>\n",
       "    </tr>\n",
       "    <tr>\n",
       "      <th>4</th>\n",
       "      <td>0.096759</td>\n",
       "      <td>0.962934</td>\n",
       "      <td>0.963140</td>\n",
       "      <td>0.962712</td>\n",
       "      <td>1.373973</td>\n",
       "      <td>0.639151</td>\n",
       "      <td>0.640985</td>\n",
       "      <td>0.634434</td>\n",
       "      <td>bow</td>\n",
       "      <td>0.962926</td>\n",
       "      <td>0.637693</td>\n",
       "    </tr>\n",
       "    <tr>\n",
       "      <th>...</th>\n",
       "      <td>...</td>\n",
       "      <td>...</td>\n",
       "      <td>...</td>\n",
       "      <td>...</td>\n",
       "      <td>...</td>\n",
       "      <td>...</td>\n",
       "      <td>...</td>\n",
       "      <td>...</td>\n",
       "      <td>...</td>\n",
       "      <td>...</td>\n",
       "      <td>...</td>\n",
       "    </tr>\n",
       "    <tr>\n",
       "      <th>10</th>\n",
       "      <td>0.256796</td>\n",
       "      <td>0.925000</td>\n",
       "      <td>0.942717</td>\n",
       "      <td>0.903683</td>\n",
       "      <td>0.854086</td>\n",
       "      <td>0.703616</td>\n",
       "      <td>0.726062</td>\n",
       "      <td>0.685535</td>\n",
       "      <td>conv1d_transf</td>\n",
       "      <td>0.922788</td>\n",
       "      <td>0.705216</td>\n",
       "    </tr>\n",
       "    <tr>\n",
       "      <th>11</th>\n",
       "      <td>0.226447</td>\n",
       "      <td>0.938504</td>\n",
       "      <td>0.951886</td>\n",
       "      <td>0.920759</td>\n",
       "      <td>0.891479</td>\n",
       "      <td>0.702830</td>\n",
       "      <td>0.725539</td>\n",
       "      <td>0.687893</td>\n",
       "      <td>conv1d_transf</td>\n",
       "      <td>0.936064</td>\n",
       "      <td>0.706215</td>\n",
       "    </tr>\n",
       "    <tr>\n",
       "      <th>12</th>\n",
       "      <td>0.200047</td>\n",
       "      <td>0.945871</td>\n",
       "      <td>0.959546</td>\n",
       "      <td>0.934487</td>\n",
       "      <td>0.917029</td>\n",
       "      <td>0.705975</td>\n",
       "      <td>0.727727</td>\n",
       "      <td>0.687107</td>\n",
       "      <td>conv1d_transf</td>\n",
       "      <td>0.946851</td>\n",
       "      <td>0.706834</td>\n",
       "    </tr>\n",
       "    <tr>\n",
       "      <th>13</th>\n",
       "      <td>0.179608</td>\n",
       "      <td>0.954687</td>\n",
       "      <td>0.965490</td>\n",
       "      <td>0.942969</td>\n",
       "      <td>0.907116</td>\n",
       "      <td>0.718553</td>\n",
       "      <td>0.736020</td>\n",
       "      <td>0.703616</td>\n",
       "      <td>conv1d_transf</td>\n",
       "      <td>0.954096</td>\n",
       "      <td>0.719453</td>\n",
       "    </tr>\n",
       "    <tr>\n",
       "      <th>14</th>\n",
       "      <td>0.161171</td>\n",
       "      <td>0.963170</td>\n",
       "      <td>0.971897</td>\n",
       "      <td>0.953348</td>\n",
       "      <td>1.110637</td>\n",
       "      <td>0.667453</td>\n",
       "      <td>0.680728</td>\n",
       "      <td>0.647013</td>\n",
       "      <td>conv1d_transf</td>\n",
       "      <td>0.962533</td>\n",
       "      <td>0.663442</td>\n",
       "    </tr>\n",
       "  </tbody>\n",
       "</table>\n",
       "<p>420 rows × 11 columns</p>\n",
       "</div>"
      ],
      "text/plain": [
       "        loss  accuracy  precision    recall  val_loss  val_accuracy  \\\n",
       "0   0.702180  0.738980   0.875577  0.506790  0.889611      0.629717   \n",
       "1   0.246158  0.905499   0.910535  0.899488  0.970661      0.639151   \n",
       "2   0.159991  0.939225   0.941150  0.938112  1.115557      0.629717   \n",
       "3   0.121288  0.952248   0.952853  0.951581  1.265974      0.617138   \n",
       "4   0.096759  0.962934   0.963140  0.962712  1.373973      0.639151   \n",
       "..       ...       ...        ...       ...       ...           ...   \n",
       "10  0.256796  0.925000   0.942717  0.903683  0.854086      0.703616   \n",
       "11  0.226447  0.938504   0.951886  0.920759  0.891479      0.702830   \n",
       "12  0.200047  0.945871   0.959546  0.934487  0.917029      0.705975   \n",
       "13  0.179608  0.954687   0.965490  0.942969  0.907116      0.718553   \n",
       "14  0.161171  0.963170   0.971897  0.953348  1.110637      0.667453   \n",
       "\n",
       "    val_precision  val_recall     model_type        f1    val_f1  \n",
       "0        0.649603    0.578616            bow  0.641991  0.612058  \n",
       "1        0.652068    0.632075            bow  0.904978  0.641916  \n",
       "2        0.637530    0.625000            bow  0.939629  0.631203  \n",
       "3        0.619730    0.612421            bow  0.952217  0.616054  \n",
       "4        0.640985    0.634434            bow  0.962926  0.637693  \n",
       "..            ...         ...            ...       ...       ...  \n",
       "10       0.726062    0.685535  conv1d_transf  0.922788  0.705216  \n",
       "11       0.725539    0.687893  conv1d_transf  0.936064  0.706215  \n",
       "12       0.727727    0.687107  conv1d_transf  0.946851  0.706834  \n",
       "13       0.736020    0.703616  conv1d_transf  0.954096  0.719453  \n",
       "14       0.680728    0.647013  conv1d_transf  0.962533  0.663442  \n",
       "\n",
       "[420 rows x 11 columns]"
      ]
     },
     "execution_count": 23,
     "metadata": {},
     "output_type": "execute_result"
    }
   ],
   "source": [
    "history_all_df"
   ]
  },
  {
   "cell_type": "code",
   "execution_count": 24,
   "metadata": {},
   "outputs": [
    {
     "data": {
      "text/html": [
       "<div>\n",
       "<style scoped>\n",
       "    .dataframe tbody tr th:only-of-type {\n",
       "        vertical-align: middle;\n",
       "    }\n",
       "\n",
       "    .dataframe tbody tr th {\n",
       "        vertical-align: top;\n",
       "    }\n",
       "\n",
       "    .dataframe thead th {\n",
       "        text-align: right;\n",
       "    }\n",
       "</style>\n",
       "<table border=\"1\" class=\"dataframe\">\n",
       "  <thead>\n",
       "    <tr style=\"text-align: right;\">\n",
       "      <th>model_type</th>\n",
       "      <th>bow</th>\n",
       "      <th>conv1d</th>\n",
       "      <th>conv1d_transf</th>\n",
       "      <th>fc_emb</th>\n",
       "      <th>fc_transf</th>\n",
       "      <th>lstm</th>\n",
       "      <th>lstm_transf</th>\n",
       "    </tr>\n",
       "  </thead>\n",
       "  <tbody>\n",
       "    <tr>\n",
       "      <th>accuracy</th>\n",
       "      <td>0.978634</td>\n",
       "      <td>0.923544</td>\n",
       "      <td>0.801535</td>\n",
       "      <td>0.941980</td>\n",
       "      <td>0.822101</td>\n",
       "      <td>0.899644</td>\n",
       "      <td>0.669725</td>\n",
       "    </tr>\n",
       "    <tr>\n",
       "      <th>f1</th>\n",
       "      <td>0.977022</td>\n",
       "      <td>0.915225</td>\n",
       "      <td>0.783190</td>\n",
       "      <td>0.935727</td>\n",
       "      <td>0.807084</td>\n",
       "      <td>0.889157</td>\n",
       "      <td>0.630150</td>\n",
       "    </tr>\n",
       "    <tr>\n",
       "      <th>loss</th>\n",
       "      <td>0.056043</td>\n",
       "      <td>0.219138</td>\n",
       "      <td>0.531709</td>\n",
       "      <td>0.147622</td>\n",
       "      <td>0.436340</td>\n",
       "      <td>0.249598</td>\n",
       "      <td>0.742521</td>\n",
       "    </tr>\n",
       "    <tr>\n",
       "      <th>precision</th>\n",
       "      <td>0.981114</td>\n",
       "      <td>0.940612</td>\n",
       "      <td>0.847665</td>\n",
       "      <td>0.957639</td>\n",
       "      <td>0.877677</td>\n",
       "      <td>0.923801</td>\n",
       "      <td>0.743615</td>\n",
       "    </tr>\n",
       "    <tr>\n",
       "      <th>val_accuracy</th>\n",
       "      <td>0.856407</td>\n",
       "      <td>0.784211</td>\n",
       "      <td>0.662893</td>\n",
       "      <td>0.818003</td>\n",
       "      <td>0.669785</td>\n",
       "      <td>0.756591</td>\n",
       "      <td>0.714112</td>\n",
       "    </tr>\n",
       "    <tr>\n",
       "      <th>val_f1</th>\n",
       "      <td>0.855984</td>\n",
       "      <td>0.779017</td>\n",
       "      <td>0.653388</td>\n",
       "      <td>0.814580</td>\n",
       "      <td>0.665783</td>\n",
       "      <td>0.752414</td>\n",
       "      <td>0.703015</td>\n",
       "    </tr>\n",
       "    <tr>\n",
       "      <th>val_loss</th>\n",
       "      <td>0.548852</td>\n",
       "      <td>0.851144</td>\n",
       "      <td>0.932344</td>\n",
       "      <td>0.699801</td>\n",
       "      <td>1.165412</td>\n",
       "      <td>1.214381</td>\n",
       "      <td>0.751077</td>\n",
       "    </tr>\n",
       "    <tr>\n",
       "      <th>val_precision</th>\n",
       "      <td>0.857659</td>\n",
       "      <td>0.799473</td>\n",
       "      <td>0.701183</td>\n",
       "      <td>0.827654</td>\n",
       "      <td>0.707492</td>\n",
       "      <td>0.770252</td>\n",
       "      <td>0.755922</td>\n",
       "    </tr>\n",
       "  </tbody>\n",
       "</table>\n",
       "</div>"
      ],
      "text/plain": [
       "model_type          bow    conv1d  conv1d_transf    fc_emb  fc_transf  \\\n",
       "accuracy       0.978634  0.923544       0.801535  0.941980   0.822101   \n",
       "f1             0.977022  0.915225       0.783190  0.935727   0.807084   \n",
       "loss           0.056043  0.219138       0.531709  0.147622   0.436340   \n",
       "precision      0.981114  0.940612       0.847665  0.957639   0.877677   \n",
       "val_accuracy   0.856407  0.784211       0.662893  0.818003   0.669785   \n",
       "val_f1         0.855984  0.779017       0.653388  0.814580   0.665783   \n",
       "val_loss       0.548852  0.851144       0.932344  0.699801   1.165412   \n",
       "val_precision  0.857659  0.799473       0.701183  0.827654   0.707492   \n",
       "\n",
       "model_type         lstm  lstm_transf  \n",
       "accuracy       0.899644     0.669725  \n",
       "f1             0.889157     0.630150  \n",
       "loss           0.249598     0.742521  \n",
       "precision      0.923801     0.743615  \n",
       "val_accuracy   0.756591     0.714112  \n",
       "val_f1         0.752414     0.703015  \n",
       "val_loss       1.214381     0.751077  \n",
       "val_precision  0.770252     0.755922  "
      ]
     },
     "execution_count": 24,
     "metadata": {},
     "output_type": "execute_result"
    }
   ],
   "source": [
    "history_all_df_pivot"
   ]
  },
  {
   "cell_type": "markdown",
   "metadata": {},
   "source": [
    "### Pick the 2 models with the highest F1-score"
   ]
  },
  {
   "cell_type": "markdown",
   "metadata": {},
   "source": [
    "* All of the models outperform the baseline model in all the metrics\n",
    "* The models before regularisation with the best F1-score are the bag-of-words and the \"homegrown\" embeddings\n",
    "* These two models will be optimised further and used for the final multi-input model"
   ]
  },
  {
   "cell_type": "code",
   "execution_count": 25,
   "metadata": {},
   "outputs": [
    {
     "data": {
      "text/plain": [
       "accuracy                 bow\n",
       "f1                       bow\n",
       "loss             lstm_transf\n",
       "precision                bow\n",
       "val_accuracy             bow\n",
       "val_f1                   bow\n",
       "val_loss                lstm\n",
       "val_precision            bow\n",
       "dtype: object"
      ]
     },
     "execution_count": 25,
     "metadata": {},
     "output_type": "execute_result"
    }
   ],
   "source": [
    "history_all_df_pivot.idxmax(axis=1)"
   ]
  },
  {
   "cell_type": "code",
   "execution_count": 26,
   "metadata": {},
   "outputs": [
    {
     "data": {
      "text/plain": [
       "0.8559842149536"
      ]
     },
     "execution_count": 26,
     "metadata": {},
     "output_type": "execute_result"
    }
   ],
   "source": [
    "history_all_df_pivot.loc['val_f1', ].max()"
   ]
  },
  {
   "cell_type": "markdown",
   "metadata": {},
   "source": [
    "### Generate Summary Figures"
   ]
  },
  {
   "cell_type": "code",
   "execution_count": 27,
   "metadata": {},
   "outputs": [
    {
     "data": {
      "text/html": [
       "<div>\n",
       "<style scoped>\n",
       "    .dataframe tbody tr th:only-of-type {\n",
       "        vertical-align: middle;\n",
       "    }\n",
       "\n",
       "    .dataframe tbody tr th {\n",
       "        vertical-align: top;\n",
       "    }\n",
       "\n",
       "    .dataframe thead th {\n",
       "        text-align: right;\n",
       "    }\n",
       "</style>\n",
       "<table border=\"1\" class=\"dataframe\">\n",
       "  <thead>\n",
       "    <tr style=\"text-align: right;\">\n",
       "      <th></th>\n",
       "      <th>model_type</th>\n",
       "      <th>loss</th>\n",
       "      <th>accuracy</th>\n",
       "      <th>precision</th>\n",
       "      <th>recall</th>\n",
       "      <th>val_loss</th>\n",
       "      <th>val_accuracy</th>\n",
       "      <th>val_precision</th>\n",
       "      <th>val_recall</th>\n",
       "      <th>f1</th>\n",
       "      <th>val_f1</th>\n",
       "    </tr>\n",
       "  </thead>\n",
       "  <tbody>\n",
       "    <tr>\n",
       "      <th>0</th>\n",
       "      <td>bow</td>\n",
       "      <td>0.056043</td>\n",
       "      <td>0.978634</td>\n",
       "      <td>0.981114</td>\n",
       "      <td>0.974570</td>\n",
       "      <td>0.548852</td>\n",
       "      <td>0.856407</td>\n",
       "      <td>0.857659</td>\n",
       "      <td>0.854389</td>\n",
       "      <td>0.977022</td>\n",
       "      <td>0.855984</td>\n",
       "    </tr>\n",
       "    <tr>\n",
       "      <th>1</th>\n",
       "      <td>conv1d</td>\n",
       "      <td>0.219138</td>\n",
       "      <td>0.923544</td>\n",
       "      <td>0.940612</td>\n",
       "      <td>0.900875</td>\n",
       "      <td>0.851144</td>\n",
       "      <td>0.784211</td>\n",
       "      <td>0.799473</td>\n",
       "      <td>0.763614</td>\n",
       "      <td>0.915225</td>\n",
       "      <td>0.779017</td>\n",
       "    </tr>\n",
       "    <tr>\n",
       "      <th>2</th>\n",
       "      <td>conv1d_transf</td>\n",
       "      <td>0.531709</td>\n",
       "      <td>0.801535</td>\n",
       "      <td>0.847665</td>\n",
       "      <td>0.738740</td>\n",
       "      <td>0.932344</td>\n",
       "      <td>0.662893</td>\n",
       "      <td>0.701183</td>\n",
       "      <td>0.616313</td>\n",
       "      <td>0.783190</td>\n",
       "      <td>0.653388</td>\n",
       "    </tr>\n",
       "    <tr>\n",
       "      <th>3</th>\n",
       "      <td>fc_emb</td>\n",
       "      <td>0.147622</td>\n",
       "      <td>0.941980</td>\n",
       "      <td>0.957639</td>\n",
       "      <td>0.923857</td>\n",
       "      <td>0.699801</td>\n",
       "      <td>0.818003</td>\n",
       "      <td>0.827654</td>\n",
       "      <td>0.806184</td>\n",
       "      <td>0.935727</td>\n",
       "      <td>0.814580</td>\n",
       "    </tr>\n",
       "    <tr>\n",
       "      <th>4</th>\n",
       "      <td>fc_transf</td>\n",
       "      <td>0.436340</td>\n",
       "      <td>0.822101</td>\n",
       "      <td>0.877677</td>\n",
       "      <td>0.758666</td>\n",
       "      <td>1.165412</td>\n",
       "      <td>0.669785</td>\n",
       "      <td>0.707492</td>\n",
       "      <td>0.633582</td>\n",
       "      <td>0.807084</td>\n",
       "      <td>0.665783</td>\n",
       "    </tr>\n",
       "    <tr>\n",
       "      <th>5</th>\n",
       "      <td>lstm</td>\n",
       "      <td>0.249598</td>\n",
       "      <td>0.899644</td>\n",
       "      <td>0.923801</td>\n",
       "      <td>0.867944</td>\n",
       "      <td>1.214381</td>\n",
       "      <td>0.756591</td>\n",
       "      <td>0.770252</td>\n",
       "      <td>0.738221</td>\n",
       "      <td>0.889157</td>\n",
       "      <td>0.752414</td>\n",
       "    </tr>\n",
       "    <tr>\n",
       "      <th>6</th>\n",
       "      <td>lstm_transf</td>\n",
       "      <td>0.742521</td>\n",
       "      <td>0.669725</td>\n",
       "      <td>0.743615</td>\n",
       "      <td>0.555976</td>\n",
       "      <td>0.751077</td>\n",
       "      <td>0.714112</td>\n",
       "      <td>0.755922</td>\n",
       "      <td>0.662277</td>\n",
       "      <td>0.630150</td>\n",
       "      <td>0.703015</td>\n",
       "    </tr>\n",
       "  </tbody>\n",
       "</table>\n",
       "</div>"
      ],
      "text/plain": [
       "      model_type      loss  accuracy  precision    recall  val_loss  \\\n",
       "0            bow  0.056043  0.978634   0.981114  0.974570  0.548852   \n",
       "1         conv1d  0.219138  0.923544   0.940612  0.900875  0.851144   \n",
       "2  conv1d_transf  0.531709  0.801535   0.847665  0.738740  0.932344   \n",
       "3         fc_emb  0.147622  0.941980   0.957639  0.923857  0.699801   \n",
       "4      fc_transf  0.436340  0.822101   0.877677  0.758666  1.165412   \n",
       "5           lstm  0.249598  0.899644   0.923801  0.867944  1.214381   \n",
       "6    lstm_transf  0.742521  0.669725   0.743615  0.555976  0.751077   \n",
       "\n",
       "   val_accuracy  val_precision  val_recall        f1    val_f1  \n",
       "0      0.856407       0.857659    0.854389  0.977022  0.855984  \n",
       "1      0.784211       0.799473    0.763614  0.915225  0.779017  \n",
       "2      0.662893       0.701183    0.616313  0.783190  0.653388  \n",
       "3      0.818003       0.827654    0.806184  0.935727  0.814580  \n",
       "4      0.669785       0.707492    0.633582  0.807084  0.665783  \n",
       "5      0.756591       0.770252    0.738221  0.889157  0.752414  \n",
       "6      0.714112       0.755922    0.662277  0.630150  0.703015  "
      ]
     },
     "execution_count": 27,
     "metadata": {},
     "output_type": "execute_result"
    }
   ],
   "source": [
    "history_all_grouped = history_all_df.groupby('model_type').mean()\n",
    "history_all_grouped = history_all_grouped.reset_index()\n",
    "history_all_grouped"
   ]
  },
  {
   "cell_type": "code",
   "execution_count": 28,
   "metadata": {},
   "outputs": [
    {
     "data": {
      "image/png": "[encoded data removed]",
      "text/plain": [
       "<Figure size 1080x360 with 3 Axes>"
      ]
     },
     "metadata": {
      "needs_background": "light"
     },
     "output_type": "display_data"
    },
    {
     "data": {
      "image/png": "[encoded data removed]",
      "text/plain": [
       "<Figure size 1080x360 with 3 Axes>"
      ]
     },
     "metadata": {
      "needs_background": "light"
     },
     "output_type": "display_data"
    },
    {
     "data": {
      "image/png": "[encoded data removed]",
      "text/plain": [
       "<Figure size 1080x360 with 3 Axes>"
      ]
     },
     "metadata": {
      "needs_background": "light"
     },
     "output_type": "display_data"
    },
    {
     "data": {
      "image/png": "[encoded data removed]",
      "text/plain": [
       "<Figure size 1080x360 with 3 Axes>"
      ]
     },
     "metadata": {
      "needs_background": "light"
     },
     "output_type": "display_data"
    },
    {
     "data": {
      "image/png": "[encoded data removed]",
      "text/plain": [
       "<Figure size 1080x360 with 3 Axes>"
      ]
     },
     "metadata": {
      "needs_background": "light"
     },
     "output_type": "display_data"
    },
    {
     "data": {
      "image/png": "[encoded data removed]",
      "text/plain": [
       "<Figure size 1080x360 with 3 Axes>"
      ]
     },
     "metadata": {
      "needs_background": "light"
     },
     "output_type": "display_data"
    },
    {
     "data": {
      "image/png": "[encoded data removed]",
      "text/plain": [
       "<Figure size 1080x360 with 3 Axes>"
      ]
     },
     "metadata": {
      "needs_background": "light"
     },
     "output_type": "display_data"
    }
   ],
   "source": [
    "for model_type in PARAMS['model_type']:\n",
    "    fig = plt.figure(figsize=(15, 5))\n",
    "    ax = plt.subplot(131)\n",
    "\n",
    "    epochs = PARAMS['epochs']\n",
    "    epochs_graph = range(1, PARAMS['epochs'] + 1)\n",
    "    folds = PARAMS['k']\n",
    "\n",
    "    mask = history_all_df.loc[:, 'model_type'] == model_type\n",
    "\n",
    "    loss_all = history_all_df.loc[mask, 'loss'].to_list()\n",
    "    loss_prep = [loss_all[i * epochs:(i + 1) * epochs] for i in range(folds)]\n",
    "    loss = [np.mean([x[i] for x in loss_prep]) for i in range(epochs)]\n",
    "\n",
    "    val_loss_all = history_all_df.loc[mask, 'val_loss'].to_list()\n",
    "    val_loss_prep = [\n",
    "        val_loss_all[i * epochs:(i + 1) * epochs] for i in range(folds)]\n",
    "    val_loss = [np.mean([x[i] for x in val_loss_prep]) for i in range(epochs)]\n",
    "\n",
    "    accuracy_all = history_all_df.loc[mask, 'accuracy'].to_list()\n",
    "    accuracy_prep = [\n",
    "        accuracy_all[i * epochs:(i + 1) * epochs] for i in range(folds)]\n",
    "    accuracy = [np.mean([x[i] for x in accuracy_prep]) for i in range(epochs)]\n",
    "\n",
    "    val_accuracy_all = history_all_df.loc[mask, 'val_accuracy'].to_list()\n",
    "    val_accuracy_prep = [val_accuracy_all[i *\n",
    "                                          epochs:(i + 1) * epochs] for i in range(folds)]\n",
    "    val_accuracy = [np.mean([x[i] for x in val_accuracy_prep])\n",
    "                    for i in range(epochs)]\n",
    "\n",
    "    f1_all = history_all_df.loc[mask, 'f1'].to_list()\n",
    "    f1_prep = [f1_all[i * epochs:(i + 1) * epochs] for i in range(folds)]\n",
    "    f1 = [np.mean([x[i] for x in f1_prep]) for i in range(epochs)]\n",
    "\n",
    "    val_f1_all = history_all_df.loc[mask, 'val_f1'].to_list()\n",
    "    val_f1_prep = [val_f1_all[i * epochs:(i + 1) * epochs]\n",
    "                   for i in range(folds)]\n",
    "    val_f1 = [np.mean([x[i] for x in val_f1_prep]) for i in range(epochs)]\n",
    "\n",
    "    plt.plot(epochs_graph, loss, 'b')\n",
    "    plt.plot(epochs_graph, val_loss, 'r')\n",
    "    plt.ylim([0, 2])\n",
    "    ax.set_ylabel('loss')\n",
    "    ax.set_xlabel('epochs')\n",
    "    ax.legend(['train', 'validation'])\n",
    "    plt.title(f'Train vs. Validation Loss {model_type}')\n",
    "\n",
    "    ax = plt.subplot(132)\n",
    "    plt.plot(epochs_graph, accuracy, 'b')\n",
    "    plt.plot(epochs_graph, val_accuracy, 'r')\n",
    "    plt.ylim([0, 1])\n",
    "    ax.set_ylabel('accuracy')\n",
    "    ax.set_xlabel('epochs')\n",
    "    ax.legend(['train', 'validation'])\n",
    "    plt.title(f'Train vs. Validation Accuracy {model_type}')\n",
    "\n",
    "    ax = plt.subplot(133)\n",
    "    plt.plot(epochs_graph, f1, 'b')\n",
    "    plt.plot(epochs_graph, val_f1, 'r')\n",
    "    plt.ylim([0, 1])\n",
    "    ax.set_ylabel('f1')\n",
    "    ax.set_xlabel('epochs')\n",
    "    ax.legend(['train', 'validation'])\n",
    "    plt.title(f'Train vs. Validation F1-Score {model_type}')\n",
    "\n",
    "    if logging:\n",
    "        if not os.path.exists(os.path.join(logdir, 'figures')):\n",
    "            os.makedirs(os.path.join(logdir, 'figures'))\n",
    "        fig.savefig(os.path.join(\n",
    "            logdir, f'figures/loss_accuracy_training_{model_type}.png'), bbox_inches='tight')"
   ]
  },
  {
   "cell_type": "markdown",
   "metadata": {},
   "source": [
    "# Regularization"
   ]
  },
  {
   "cell_type": "markdown",
   "metadata": {},
   "source": [
    "* Two models were found, which have very good performance on the training data, i.e. they are very well optimised. \n",
    "* With this the goal to find the best performance on the training data was achieved. \n",
    "* However, as a result they overfit, i.e. they do not perform well on data they have never seen before. The wide gap between loss vs. validation loss on the graphs above is an indicator of this. \n",
    "* Now, the models should be adjusted to perform well also on unseen data, i.e. to generalise better. \n",
    "* Several possibilites to do that - more data and / or modulate the quantity of information that the model is allowed to store or to add constraints on what information it’s allowed to store. If a network can only afford to memorize a small number of patterns, the optimization process will force it to focus on the most prominent patterns, which have a better chance of generalizing well.\n",
    "* The latter is called regularisation and this is what will be applied, as there is no additional data available. \n",
    "* Regularisation can be achieved by reducing the capacity of the model, adding weight regularisation or introducing dropout\n",
    "* As both models are not that complex, their capacity will not be reduced\n",
    "* Weights regularisation, Dropout & their combination will be tested"
   ]
  },
  {
   "cell_type": "code",
   "execution_count": 47,
   "metadata": {},
   "outputs": [],
   "source": [
    "def generate_model_reg(model_type, params_dict, reg_mode):\n",
    "    \"\"\"\n",
    "    This function compiles a model according to the chosen model_type\n",
    "    Args: \n",
    "        - model_type - which model type is to be used\n",
    "        - params_dict - dictionary with parameters for the model\n",
    "\n",
    "    Returns: \n",
    "        - a compiled model\n",
    "    \"\"\"\n",
    "\n",
    "    # set parameters\n",
    "    hidden_units = params_dict['hidden_units']\n",
    "    dimensions_labels = params_dict['number_of_classes']\n",
    "    max_words = params_dict['max_words']\n",
    "    max_len = params_dict['max_len']\n",
    "    embedding_size = params_dict['embedding_size']\n",
    "    embedding_dim = params_dict['embedding_dim']\n",
    "    conv_window = params_dict['conv_window']\n",
    "\n",
    "    if reg_mode == 'l2':\n",
    "        # every coefficient in the weight matrix of the layer will add regularisation factor * weight_coefficient_value\n",
    "        # to the total loss of the network\n",
    "        # the default value for the regularisation factor is 0.01\n",
    "        # Keras documentation: https://keras.io/api/layers/regularizers/\n",
    "\n",
    "        # fully connected bag-of-words\n",
    "        if model_type == params_dict['model_type'][0]:\n",
    "            model = models.Sequential()\n",
    "            model.add(layers.Dense(hidden_units,\n",
    "                                   kernel_regularizer=regularizers.l2(),\n",
    "                                   activation='relu',\n",
    "                                   input_shape=(max_words, )))\n",
    "            model.add(layers.Dense(hidden_units,\n",
    "                                   kernel_regularizer=regularizers.l2(),\n",
    "                                   activation='relu'))\n",
    "            model.add(layers.Dense(dimensions_labels, activation='softmax'))\n",
    "\n",
    "        # fully connected & \"homegrown\" embeddings layer\n",
    "        elif model_type == params_dict['model_type'][1]:\n",
    "            model = models.Sequential()\n",
    "            model.add(layers.Embedding(max_words+1,\n",
    "                                       embedding_size, input_length=max_len))\n",
    "            model.add(layers.Flatten())\n",
    "            model.add(layers.Dense(hidden_units,\n",
    "                                   kernel_regularizer=regularizers.l2(),\n",
    "                                   activation='relu'))\n",
    "            model.add(layers.Dense(hidden_units,\n",
    "                                   kernel_regularizer=regularizers.l2(),\n",
    "                                   activation='relu'))\n",
    "            model.add(layers.Dense(dimensions_labels, activation='softmax'))\n",
    "\n",
    "    elif reg_mode == 'dropout':\n",
    "        # rate: what percentage of the input units to drop\n",
    "        # Keras documentation: https://keras.io/api/layers/regularization_layers/dropout/\n",
    "\n",
    "        # fully connected bag-of-words\n",
    "        if model_type == params_dict['model_type'][0]:\n",
    "            model = models.Sequential()\n",
    "            model.add(layers.Dense(hidden_units, activation='relu',\n",
    "                                   input_shape=(max_words, )))\n",
    "            model.add(layers.Dropout(0.5))\n",
    "            model.add(layers.Dense(hidden_units, activation='relu'))\n",
    "            model.add(layers.Dropout(0.5))\n",
    "            model.add(layers.Dense(dimensions_labels, activation='softmax'))\n",
    "\n",
    "        # fully connected & \"homegrown\" embeddings layer\n",
    "        elif model_type == params_dict['model_type'][1]:\n",
    "            model = models.Sequential()\n",
    "            model.add(layers.Embedding(max_words+1,\n",
    "                                       embedding_size, input_length=max_len))\n",
    "            model.add(layers.Flatten())\n",
    "            model.add(layers.Dense(hidden_units, activation='relu'))\n",
    "            model.add(layers.Dropout(0.5))\n",
    "            model.add(layers.Dense(hidden_units, activation='relu'))\n",
    "            model.add(layers.Dropout(0.5))\n",
    "            model.add(layers.Dense(dimensions_labels, activation='softmax'))\n",
    "\n",
    "    elif reg_mode == 'combi':\n",
    "        # fully connected bag-of-words\n",
    "        if model_type == params_dict['model_type'][0]:\n",
    "            model = models.Sequential()\n",
    "            model.add(layers.Dense(hidden_units,\n",
    "                                   kernel_regularizer=regularizers.l2(),\n",
    "                                   activation='relu',\n",
    "                                   input_shape=(max_words, )))\n",
    "            model.add(layers.Dropout(0.5))\n",
    "            model.add(layers.Dense(hidden_units,\n",
    "                                   kernel_regularizer=regularizers.l2(),\n",
    "                                   activation='relu'))\n",
    "            model.add(layers.Dropout(0.5))\n",
    "            model.add(layers.Dense(dimensions_labels, activation='softmax'))\n",
    "\n",
    "        # fully connected & \"homegrown\" embeddings layer\n",
    "        elif model_type == params_dict['model_type'][1]:\n",
    "            model = models.Sequential()\n",
    "            model.add(layers.Embedding(max_words+1,\n",
    "                                       embedding_size, input_length=max_len))\n",
    "            model.add(layers.Flatten())\n",
    "            model.add(layers.Dense(hidden_units,\n",
    "                                   kernel_regularizer=regularizers.l2(),\n",
    "                                   activation='relu'))\n",
    "            model.add(layers.Dropout(0.5))\n",
    "            model.add(layers.Dense(hidden_units,\n",
    "                                   kernel_regularizer=regularizers.l2(),\n",
    "                                   activation='relu'))\n",
    "            model.add(layers.Dropout(0.5))\n",
    "            model.add(layers.Dense(dimensions_labels, activation='softmax'))\n",
    "\n",
    "    model.summary()\n",
    "\n",
    "    model.compile(\n",
    "        optimizer='adam',\n",
    "        loss='categorical_crossentropy',\n",
    "        metrics=metrics\n",
    "    )\n",
    "\n",
    "    return model"
   ]
  },
  {
   "cell_type": "markdown",
   "metadata": {},
   "source": [
    "### Weight Regularisation"
   ]
  },
  {
   "cell_type": "markdown",
   "metadata": {},
   "source": [
    "**Explanation of regularisation as given in \"Deep Learning with Python\" by Chollet:** \"You may be familiar with the principle of Occam’s razor: given two explanations for something, the explanation most likely to be correct is the simplest one - the one that makes fewer assumptions. This idea also applies to the models learned by neural net- works: given some training data and a network architecture, multiple sets of weight values (multiple models) could explain the data. Simpler models are less likely to overfit than complex ones.\n",
    "A simple model in this context is a model where the distribution of parameter values has less entropy (or a model with fewer parameters, as you saw in the previous section). Thus a common way to mitigate overfitting is to put constraints on the complexity of a network by forcing its weights to take only small values, which makes the distribution of weight values more regular. This is called weight regularization, and it’s done by adding to the loss function of the network a cost associated with having large weights. \""
   ]
  },
  {
   "cell_type": "markdown",
   "metadata": {},
   "source": [
    "### Dropout"
   ]
  },
  {
   "cell_type": "markdown",
   "metadata": {},
   "source": [
    "**Explanation of dropout as given in \"Deep Learning with Python\" by Chollet:** \"...Dropout, applied to a layer, consists of randomly dropping out (setting to zero) a number of output features of the layer during training. Let’s say a given layer would normally return a vector [0.2, 0.5, 1.3, 0.8, 1.1] for a given input sample during training. After applying dropout, this vector will have a few zero entries distributed at random: for example, [0, 0.5, 1.3, 0, 1.1]. The dropout rate is the fraction of the features that are zeroed out; it’s usually set between 0.2 and 0.5. At test time, no units are dropped out; instead, the layer’s output values are scaled down by a factor equal to the dropout rate, to balance for the fact that more units are active than at training time. \n",
    "\n",
    "...was inspired by, among other things, a fraud-prevention mecha- nism used by banks. In his own words, “I went to my bank. The tellers kept changing and I asked one of them why. He said he didn’t know but they got moved around a lot. I figured it must be because it would require cooperation between employees to successfully defraud the bank. This made me realize that randomly removing a different subset of neurons on each example would prevent conspiracies and thus reduce overfitting.” The core idea is that introducing noise in the output values of a layer can break up happenstance patterns that aren’t significant (what Hinton refers to as conspiracies), which the network will start memorizing if no noise is present.\n",
    "\""
   ]
  },
  {
   "cell_type": "code",
   "execution_count": 48,
   "metadata": {},
   "outputs": [
    {
     "name": "stdout",
     "output_type": "stream",
     "text": [
      "Model: \"sequential_13\"\n",
      "_________________________________________________________________\n",
      "Layer (type)                 Output Shape              Param #   \n",
      "=================================================================\n",
      "dense_35 (Dense)             (None, 32)                320032    \n",
      "_________________________________________________________________\n",
      "dense_36 (Dense)             (None, 32)                1056      \n",
      "_________________________________________________________________\n",
      "dense_37 (Dense)             (None, 4)                 132       \n",
      "=================================================================\n",
      "Total params: 321,220\n",
      "Trainable params: 321,220\n",
      "Non-trainable params: 0\n",
      "_________________________________________________________________\n",
      "processing fold # 0\n"
     ]
    },
    {
     "name": "stderr",
     "output_type": "stream",
     "text": [
      "/Users/iskriyanavasileva/opt/anaconda3/envs/nlp-sent/lib/python3.6/site-packages/sklearn/utils/validation.py:70: FutureWarning: Pass classes=[0 1 2 3] as keyword args. From version 0.25 passing these as positional arguments will result in an error\n",
      "  FutureWarning)\n"
     ]
    },
    {
     "name": "stdout",
     "output_type": "stream",
     "text": [
      "processing fold # 1\n"
     ]
    },
    {
     "name": "stderr",
     "output_type": "stream",
     "text": [
      "/Users/iskriyanavasileva/opt/anaconda3/envs/nlp-sent/lib/python3.6/site-packages/sklearn/utils/validation.py:70: FutureWarning: Pass classes=[0 1 2 3] as keyword args. From version 0.25 passing these as positional arguments will result in an error\n",
      "  FutureWarning)\n"
     ]
    },
    {
     "name": "stdout",
     "output_type": "stream",
     "text": [
      "processing fold # 2\n"
     ]
    },
    {
     "name": "stderr",
     "output_type": "stream",
     "text": [
      "/Users/iskriyanavasileva/opt/anaconda3/envs/nlp-sent/lib/python3.6/site-packages/sklearn/utils/validation.py:70: FutureWarning: Pass classes=[0 1 2 3] as keyword args. From version 0.25 passing these as positional arguments will result in an error\n",
      "  FutureWarning)\n"
     ]
    },
    {
     "name": "stdout",
     "output_type": "stream",
     "text": [
      "processing fold # 3\n"
     ]
    },
    {
     "name": "stderr",
     "output_type": "stream",
     "text": [
      "/Users/iskriyanavasileva/opt/anaconda3/envs/nlp-sent/lib/python3.6/site-packages/sklearn/utils/validation.py:70: FutureWarning: Pass classes=[0 1 2 3] as keyword args. From version 0.25 passing these as positional arguments will result in an error\n",
      "  FutureWarning)\n"
     ]
    },
    {
     "name": "stdout",
     "output_type": "stream",
     "text": [
      "INFO:tensorflow:Assets written to: logs/experiments/all_models_no_counter_overfitting_2020_12_11-12:52/bow/assets\n",
      "Model: \"sequential_14\"\n",
      "_________________________________________________________________\n",
      "Layer (type)                 Output Shape              Param #   \n",
      "=================================================================\n",
      "dense_38 (Dense)             (None, 32)                320032    \n",
      "_________________________________________________________________\n",
      "dropout_8 (Dropout)          (None, 32)                0         \n",
      "_________________________________________________________________\n",
      "dense_39 (Dense)             (None, 32)                1056      \n",
      "_________________________________________________________________\n",
      "dropout_9 (Dropout)          (None, 32)                0         \n",
      "_________________________________________________________________\n",
      "dense_40 (Dense)             (None, 4)                 132       \n",
      "=================================================================\n",
      "Total params: 321,220\n",
      "Trainable params: 321,220\n",
      "Non-trainable params: 0\n",
      "_________________________________________________________________\n",
      "processing fold # 0\n"
     ]
    },
    {
     "name": "stderr",
     "output_type": "stream",
     "text": [
      "/Users/iskriyanavasileva/opt/anaconda3/envs/nlp-sent/lib/python3.6/site-packages/sklearn/utils/validation.py:70: FutureWarning: Pass classes=[0 1 2 3] as keyword args. From version 0.25 passing these as positional arguments will result in an error\n",
      "  FutureWarning)\n"
     ]
    },
    {
     "name": "stdout",
     "output_type": "stream",
     "text": [
      "processing fold # 1\n"
     ]
    },
    {
     "name": "stderr",
     "output_type": "stream",
     "text": [
      "/Users/iskriyanavasileva/opt/anaconda3/envs/nlp-sent/lib/python3.6/site-packages/sklearn/utils/validation.py:70: FutureWarning: Pass classes=[0 1 2 3] as keyword args. From version 0.25 passing these as positional arguments will result in an error\n",
      "  FutureWarning)\n"
     ]
    },
    {
     "name": "stdout",
     "output_type": "stream",
     "text": [
      "processing fold # 2\n"
     ]
    },
    {
     "name": "stderr",
     "output_type": "stream",
     "text": [
      "/Users/iskriyanavasileva/opt/anaconda3/envs/nlp-sent/lib/python3.6/site-packages/sklearn/utils/validation.py:70: FutureWarning: Pass classes=[0 1 2 3] as keyword args. From version 0.25 passing these as positional arguments will result in an error\n",
      "  FutureWarning)\n"
     ]
    },
    {
     "name": "stdout",
     "output_type": "stream",
     "text": [
      "processing fold # 3\n"
     ]
    },
    {
     "name": "stderr",
     "output_type": "stream",
     "text": [
      "/Users/iskriyanavasileva/opt/anaconda3/envs/nlp-sent/lib/python3.6/site-packages/sklearn/utils/validation.py:70: FutureWarning: Pass classes=[0 1 2 3] as keyword args. From version 0.25 passing these as positional arguments will result in an error\n",
      "  FutureWarning)\n"
     ]
    },
    {
     "name": "stdout",
     "output_type": "stream",
     "text": [
      "INFO:tensorflow:Assets written to: logs/experiments/all_models_no_counter_overfitting_2020_12_11-12:52/bow/assets\n",
      "Model: \"sequential_15\"\n",
      "_________________________________________________________________\n",
      "Layer (type)                 Output Shape              Param #   \n",
      "=================================================================\n",
      "dense_41 (Dense)             (None, 32)                320032    \n",
      "_________________________________________________________________\n",
      "dropout_10 (Dropout)         (None, 32)                0         \n",
      "_________________________________________________________________\n",
      "dense_42 (Dense)             (None, 32)                1056      \n",
      "_________________________________________________________________\n",
      "dropout_11 (Dropout)         (None, 32)                0         \n",
      "_________________________________________________________________\n",
      "dense_43 (Dense)             (None, 4)                 132       \n",
      "=================================================================\n",
      "Total params: 321,220\n",
      "Trainable params: 321,220\n",
      "Non-trainable params: 0\n",
      "_________________________________________________________________\n",
      "processing fold # 0\n"
     ]
    },
    {
     "name": "stderr",
     "output_type": "stream",
     "text": [
      "/Users/iskriyanavasileva/opt/anaconda3/envs/nlp-sent/lib/python3.6/site-packages/sklearn/utils/validation.py:70: FutureWarning: Pass classes=[0 1 2 3] as keyword args. From version 0.25 passing these as positional arguments will result in an error\n",
      "  FutureWarning)\n"
     ]
    },
    {
     "name": "stdout",
     "output_type": "stream",
     "text": [
      "processing fold # 1\n"
     ]
    },
    {
     "name": "stderr",
     "output_type": "stream",
     "text": [
      "/Users/iskriyanavasileva/opt/anaconda3/envs/nlp-sent/lib/python3.6/site-packages/sklearn/utils/validation.py:70: FutureWarning: Pass classes=[0 1 2 3] as keyword args. From version 0.25 passing these as positional arguments will result in an error\n",
      "  FutureWarning)\n"
     ]
    },
    {
     "name": "stdout",
     "output_type": "stream",
     "text": [
      "processing fold # 2\n"
     ]
    },
    {
     "name": "stderr",
     "output_type": "stream",
     "text": [
      "/Users/iskriyanavasileva/opt/anaconda3/envs/nlp-sent/lib/python3.6/site-packages/sklearn/utils/validation.py:70: FutureWarning: Pass classes=[0 1 2 3] as keyword args. From version 0.25 passing these as positional arguments will result in an error\n",
      "  FutureWarning)\n"
     ]
    },
    {
     "name": "stdout",
     "output_type": "stream",
     "text": [
      "processing fold # 3\n"
     ]
    },
    {
     "name": "stderr",
     "output_type": "stream",
     "text": [
      "/Users/iskriyanavasileva/opt/anaconda3/envs/nlp-sent/lib/python3.6/site-packages/sklearn/utils/validation.py:70: FutureWarning: Pass classes=[0 1 2 3] as keyword args. From version 0.25 passing these as positional arguments will result in an error\n",
      "  FutureWarning)\n"
     ]
    },
    {
     "name": "stdout",
     "output_type": "stream",
     "text": [
      "INFO:tensorflow:Assets written to: logs/experiments/all_models_no_counter_overfitting_2020_12_11-12:52/bow/assets\n",
      "Model: \"sequential_16\"\n",
      "_________________________________________________________________\n",
      "Layer (type)                 Output Shape              Param #   \n",
      "=================================================================\n",
      "embedding_9 (Embedding)      (None, 25, 30)            300030    \n",
      "_________________________________________________________________\n",
      "flatten_5 (Flatten)          (None, 750)               0         \n",
      "_________________________________________________________________\n",
      "dense_44 (Dense)             (None, 32)                24032     \n",
      "_________________________________________________________________\n",
      "dense_45 (Dense)             (None, 32)                1056      \n",
      "_________________________________________________________________\n",
      "dense_46 (Dense)             (None, 4)                 132       \n",
      "=================================================================\n",
      "Total params: 325,250\n",
      "Trainable params: 325,250\n",
      "Non-trainable params: 0\n",
      "_________________________________________________________________\n",
      "processing fold # 0\n"
     ]
    },
    {
     "name": "stderr",
     "output_type": "stream",
     "text": [
      "/Users/iskriyanavasileva/opt/anaconda3/envs/nlp-sent/lib/python3.6/site-packages/sklearn/utils/validation.py:70: FutureWarning: Pass classes=[0 1 2 3] as keyword args. From version 0.25 passing these as positional arguments will result in an error\n",
      "  FutureWarning)\n"
     ]
    },
    {
     "name": "stdout",
     "output_type": "stream",
     "text": [
      "processing fold # 1\n"
     ]
    },
    {
     "name": "stderr",
     "output_type": "stream",
     "text": [
      "/Users/iskriyanavasileva/opt/anaconda3/envs/nlp-sent/lib/python3.6/site-packages/sklearn/utils/validation.py:70: FutureWarning: Pass classes=[0 1 2 3] as keyword args. From version 0.25 passing these as positional arguments will result in an error\n",
      "  FutureWarning)\n"
     ]
    },
    {
     "name": "stdout",
     "output_type": "stream",
     "text": [
      "processing fold # 2\n"
     ]
    },
    {
     "name": "stderr",
     "output_type": "stream",
     "text": [
      "/Users/iskriyanavasileva/opt/anaconda3/envs/nlp-sent/lib/python3.6/site-packages/sklearn/utils/validation.py:70: FutureWarning: Pass classes=[0 1 2 3] as keyword args. From version 0.25 passing these as positional arguments will result in an error\n",
      "  FutureWarning)\n"
     ]
    },
    {
     "name": "stdout",
     "output_type": "stream",
     "text": [
      "processing fold # 3\n"
     ]
    },
    {
     "name": "stderr",
     "output_type": "stream",
     "text": [
      "/Users/iskriyanavasileva/opt/anaconda3/envs/nlp-sent/lib/python3.6/site-packages/sklearn/utils/validation.py:70: FutureWarning: Pass classes=[0 1 2 3] as keyword args. From version 0.25 passing these as positional arguments will result in an error\n",
      "  FutureWarning)\n"
     ]
    },
    {
     "name": "stdout",
     "output_type": "stream",
     "text": [
      "INFO:tensorflow:Assets written to: logs/experiments/all_models_no_counter_overfitting_2020_12_11-12:52/fc_emb/assets\n",
      "Model: \"sequential_17\"\n",
      "_________________________________________________________________\n",
      "Layer (type)                 Output Shape              Param #   \n",
      "=================================================================\n",
      "embedding_10 (Embedding)     (None, 25, 30)            300030    \n",
      "_________________________________________________________________\n",
      "flatten_6 (Flatten)          (None, 750)               0         \n",
      "_________________________________________________________________\n",
      "dense_47 (Dense)             (None, 32)                24032     \n",
      "_________________________________________________________________\n",
      "dropout_12 (Dropout)         (None, 32)                0         \n",
      "_________________________________________________________________\n",
      "dense_48 (Dense)             (None, 32)                1056      \n",
      "_________________________________________________________________\n",
      "dropout_13 (Dropout)         (None, 32)                0         \n",
      "_________________________________________________________________\n",
      "dense_49 (Dense)             (None, 4)                 132       \n",
      "=================================================================\n",
      "Total params: 325,250\n",
      "Trainable params: 325,250\n",
      "Non-trainable params: 0\n",
      "_________________________________________________________________\n",
      "processing fold # 0\n"
     ]
    },
    {
     "name": "stderr",
     "output_type": "stream",
     "text": [
      "/Users/iskriyanavasileva/opt/anaconda3/envs/nlp-sent/lib/python3.6/site-packages/sklearn/utils/validation.py:70: FutureWarning: Pass classes=[0 1 2 3] as keyword args. From version 0.25 passing these as positional arguments will result in an error\n",
      "  FutureWarning)\n"
     ]
    },
    {
     "name": "stdout",
     "output_type": "stream",
     "text": [
      "processing fold # 1\n"
     ]
    },
    {
     "name": "stderr",
     "output_type": "stream",
     "text": [
      "/Users/iskriyanavasileva/opt/anaconda3/envs/nlp-sent/lib/python3.6/site-packages/sklearn/utils/validation.py:70: FutureWarning: Pass classes=[0 1 2 3] as keyword args. From version 0.25 passing these as positional arguments will result in an error\n",
      "  FutureWarning)\n"
     ]
    },
    {
     "name": "stdout",
     "output_type": "stream",
     "text": [
      "processing fold # 2\n"
     ]
    },
    {
     "name": "stderr",
     "output_type": "stream",
     "text": [
      "/Users/iskriyanavasileva/opt/anaconda3/envs/nlp-sent/lib/python3.6/site-packages/sklearn/utils/validation.py:70: FutureWarning: Pass classes=[0 1 2 3] as keyword args. From version 0.25 passing these as positional arguments will result in an error\n",
      "  FutureWarning)\n"
     ]
    },
    {
     "name": "stdout",
     "output_type": "stream",
     "text": [
      "processing fold # 3\n"
     ]
    },
    {
     "name": "stderr",
     "output_type": "stream",
     "text": [
      "/Users/iskriyanavasileva/opt/anaconda3/envs/nlp-sent/lib/python3.6/site-packages/sklearn/utils/validation.py:70: FutureWarning: Pass classes=[0 1 2 3] as keyword args. From version 0.25 passing these as positional arguments will result in an error\n",
      "  FutureWarning)\n"
     ]
    },
    {
     "name": "stdout",
     "output_type": "stream",
     "text": [
      "INFO:tensorflow:Assets written to: logs/experiments/all_models_no_counter_overfitting_2020_12_11-12:52/fc_emb/assets\n",
      "Model: \"sequential_18\"\n",
      "_________________________________________________________________\n",
      "Layer (type)                 Output Shape              Param #   \n",
      "=================================================================\n",
      "embedding_11 (Embedding)     (None, 25, 30)            300030    \n",
      "_________________________________________________________________\n",
      "flatten_7 (Flatten)          (None, 750)               0         \n",
      "_________________________________________________________________\n",
      "dense_50 (Dense)             (None, 32)                24032     \n",
      "_________________________________________________________________\n",
      "dropout_14 (Dropout)         (None, 32)                0         \n",
      "_________________________________________________________________\n",
      "dense_51 (Dense)             (None, 32)                1056      \n",
      "_________________________________________________________________\n",
      "dropout_15 (Dropout)         (None, 32)                0         \n",
      "_________________________________________________________________\n",
      "dense_52 (Dense)             (None, 4)                 132       \n",
      "=================================================================\n",
      "Total params: 325,250\n",
      "Trainable params: 325,250\n",
      "Non-trainable params: 0\n",
      "_________________________________________________________________\n",
      "processing fold # 0\n"
     ]
    },
    {
     "name": "stderr",
     "output_type": "stream",
     "text": [
      "/Users/iskriyanavasileva/opt/anaconda3/envs/nlp-sent/lib/python3.6/site-packages/sklearn/utils/validation.py:70: FutureWarning: Pass classes=[0 1 2 3] as keyword args. From version 0.25 passing these as positional arguments will result in an error\n",
      "  FutureWarning)\n"
     ]
    },
    {
     "name": "stdout",
     "output_type": "stream",
     "text": [
      "processing fold # 1\n"
     ]
    },
    {
     "name": "stderr",
     "output_type": "stream",
     "text": [
      "/Users/iskriyanavasileva/opt/anaconda3/envs/nlp-sent/lib/python3.6/site-packages/sklearn/utils/validation.py:70: FutureWarning: Pass classes=[0 1 2 3] as keyword args. From version 0.25 passing these as positional arguments will result in an error\n",
      "  FutureWarning)\n"
     ]
    },
    {
     "name": "stdout",
     "output_type": "stream",
     "text": [
      "processing fold # 2\n"
     ]
    },
    {
     "name": "stderr",
     "output_type": "stream",
     "text": [
      "/Users/iskriyanavasileva/opt/anaconda3/envs/nlp-sent/lib/python3.6/site-packages/sklearn/utils/validation.py:70: FutureWarning: Pass classes=[0 1 2 3] as keyword args. From version 0.25 passing these as positional arguments will result in an error\n",
      "  FutureWarning)\n"
     ]
    },
    {
     "name": "stdout",
     "output_type": "stream",
     "text": [
      "processing fold # 3\n"
     ]
    },
    {
     "name": "stderr",
     "output_type": "stream",
     "text": [
      "/Users/iskriyanavasileva/opt/anaconda3/envs/nlp-sent/lib/python3.6/site-packages/sklearn/utils/validation.py:70: FutureWarning: Pass classes=[0 1 2 3] as keyword args. From version 0.25 passing these as positional arguments will result in an error\n",
      "  FutureWarning)\n"
     ]
    },
    {
     "name": "stdout",
     "output_type": "stream",
     "text": [
      "INFO:tensorflow:Assets written to: logs/experiments/all_models_no_counter_overfitting_2020_12_11-12:52/fc_emb/assets\n"
     ]
    }
   ],
   "source": [
    "for model_type in ['bow', 'fc_emb']:\n",
    "    for reg_mode in PARAMS['reg_mode']:\n",
    "        model = generate_model_reg(model_type, PARAMS, reg_mode)\n",
    "\n",
    "        if model_type == PARAMS['model_type'][0]:\n",
    "            train_with_cross_val(PARAMS['k'], model, model_type, x_train_oh,\n",
    "                                 y_train_oh, PARAMS['epochs'], PARAMS['batch_size'], reg_mode, reg=True)\n",
    "        else:\n",
    "            train_with_cross_val(\n",
    "                PARAMS['k'], model, model_type, x_train, y_train, PARAMS['epochs'], PARAMS['batch_size'], reg_mode, reg=True)"
   ]
  },
  {
   "cell_type": "code",
   "execution_count": 49,
   "metadata": {},
   "outputs": [],
   "source": [
    "history_all_df_reg = pd.DataFrame()\n",
    "\n",
    "for model_type in ['bow', 'fc_emb']:\n",
    "    for reg_mode in PARAMS['reg_mode']:\n",
    "        for i in range(PARAMS['k']):\n",
    "            history = np.load(\n",
    "                f'history_{model_type}_{reg_mode}_fold_{i}.npy', allow_pickle='TRUE').item()\n",
    "            history['model_type'] = model_type\n",
    "            history['reg_mode'] = reg_mode\n",
    "\n",
    "            history_df_reg = pd.DataFrame(history)\n",
    "\n",
    "            history_df_reg['f1'] = 2 * history_df.precision * \\\n",
    "                history_df.recall / \\\n",
    "                (history_df_reg.precision + history_df_reg.recall)\n",
    "            history_df_reg['f1'] = history_df_reg['f1'].fillna(0)\n",
    "            history_df_reg['val_f1'] = 2 * history_df_reg.val_precision * \\\n",
    "                history_df_reg.val_recall / \\\n",
    "                (history_df_reg.val_precision + history_df_reg.val_recall)\n",
    "            history_df_reg['val_f1'] = history_df_reg['val_f1'].fillna(0)\n",
    "\n",
    "            history_all_df_reg = history_all_df_reg.append(history_df_reg)\n",
    "\n",
    "history_all_df_reg\n",
    "history_all_df_pivot_reg = history_all_df_reg.pivot_table(columns=['model_type', 'reg_mode'],\n",
    "                                                          values=['loss', 'val_loss', 'accuracy', 'val_accuracy', 'precision', 'val_precision', 'f1', 'val_f1'])"
   ]
  },
  {
   "cell_type": "code",
   "execution_count": 50,
   "metadata": {},
   "outputs": [
    {
     "data": {
      "text/html": [
       "<div>\n",
       "<style scoped>\n",
       "    .dataframe tbody tr th:only-of-type {\n",
       "        vertical-align: middle;\n",
       "    }\n",
       "\n",
       "    .dataframe tbody tr th {\n",
       "        vertical-align: top;\n",
       "    }\n",
       "\n",
       "    .dataframe thead tr th {\n",
       "        text-align: left;\n",
       "    }\n",
       "</style>\n",
       "<table border=\"1\" class=\"dataframe\">\n",
       "  <thead>\n",
       "    <tr>\n",
       "      <th>model_type</th>\n",
       "      <th colspan=\"3\" halign=\"left\">bow</th>\n",
       "      <th colspan=\"3\" halign=\"left\">fc_emb</th>\n",
       "    </tr>\n",
       "    <tr>\n",
       "      <th>reg_mode</th>\n",
       "      <th>combi</th>\n",
       "      <th>dropout</th>\n",
       "      <th>l2</th>\n",
       "      <th>combi</th>\n",
       "      <th>dropout</th>\n",
       "      <th>l2</th>\n",
       "    </tr>\n",
       "  </thead>\n",
       "  <tbody>\n",
       "    <tr>\n",
       "      <th>accuracy</th>\n",
       "      <td>0.807410</td>\n",
       "      <td>0.941266</td>\n",
       "      <td>0.913661</td>\n",
       "      <td>0.672141</td>\n",
       "      <td>0.836051</td>\n",
       "      <td>0.897745</td>\n",
       "    </tr>\n",
       "    <tr>\n",
       "      <th>f1</th>\n",
       "      <td>0.885185</td>\n",
       "      <td>0.749577</td>\n",
       "      <td>0.774238</td>\n",
       "      <td>1.102669</td>\n",
       "      <td>0.839385</td>\n",
       "      <td>0.789870</td>\n",
       "    </tr>\n",
       "    <tr>\n",
       "      <th>loss</th>\n",
       "      <td>0.709179</td>\n",
       "      <td>0.160262</td>\n",
       "      <td>0.441382</td>\n",
       "      <td>0.812690</td>\n",
       "      <td>0.391865</td>\n",
       "      <td>0.402679</td>\n",
       "    </tr>\n",
       "    <tr>\n",
       "      <th>precision</th>\n",
       "      <td>0.849205</td>\n",
       "      <td>0.949987</td>\n",
       "      <td>0.927206</td>\n",
       "      <td>0.768609</td>\n",
       "      <td>0.894125</td>\n",
       "      <td>0.918896</td>\n",
       "    </tr>\n",
       "    <tr>\n",
       "      <th>val_accuracy</th>\n",
       "      <td>0.585653</td>\n",
       "      <td>0.851520</td>\n",
       "      <td>0.641431</td>\n",
       "      <td>0.738378</td>\n",
       "      <td>0.797235</td>\n",
       "      <td>0.762592</td>\n",
       "    </tr>\n",
       "    <tr>\n",
       "      <th>val_f1</th>\n",
       "      <td>0.547760</td>\n",
       "      <td>0.849006</td>\n",
       "      <td>0.631323</td>\n",
       "      <td>0.721578</td>\n",
       "      <td>0.789622</td>\n",
       "      <td>0.754594</td>\n",
       "    </tr>\n",
       "    <tr>\n",
       "      <th>val_loss</th>\n",
       "      <td>1.172321</td>\n",
       "      <td>0.487978</td>\n",
       "      <td>1.111152</td>\n",
       "      <td>0.869550</td>\n",
       "      <td>0.824265</td>\n",
       "      <td>0.907966</td>\n",
       "    </tr>\n",
       "    <tr>\n",
       "      <th>val_precision</th>\n",
       "      <td>0.602655</td>\n",
       "      <td>0.854807</td>\n",
       "      <td>0.655966</td>\n",
       "      <td>0.782191</td>\n",
       "      <td>0.818763</td>\n",
       "      <td>0.780192</td>\n",
       "    </tr>\n",
       "  </tbody>\n",
       "</table>\n",
       "</div>"
      ],
      "text/plain": [
       "model_type          bow                        fc_emb                    \n",
       "reg_mode          combi   dropout        l2     combi   dropout        l2\n",
       "accuracy       0.807410  0.941266  0.913661  0.672141  0.836051  0.897745\n",
       "f1             0.885185  0.749577  0.774238  1.102669  0.839385  0.789870\n",
       "loss           0.709179  0.160262  0.441382  0.812690  0.391865  0.402679\n",
       "precision      0.849205  0.949987  0.927206  0.768609  0.894125  0.918896\n",
       "val_accuracy   0.585653  0.851520  0.641431  0.738378  0.797235  0.762592\n",
       "val_f1         0.547760  0.849006  0.631323  0.721578  0.789622  0.754594\n",
       "val_loss       1.172321  0.487978  1.111152  0.869550  0.824265  0.907966\n",
       "val_precision  0.602655  0.854807  0.655966  0.782191  0.818763  0.780192"
      ]
     },
     "execution_count": 50,
     "metadata": {},
     "output_type": "execute_result"
    }
   ],
   "source": [
    "history_all_df_pivot_reg"
   ]
  },
  {
   "cell_type": "code",
   "execution_count": 51,
   "metadata": {},
   "outputs": [
    {
     "data": {
      "image/png": "[encoded data removed]",
      "text/plain": [
       "<Figure size 1080x360 with 3 Axes>"
      ]
     },
     "metadata": {
      "needs_background": "light"
     },
     "output_type": "display_data"
    },
    {
     "data": {
      "image/png": "[encoded data removed]",
      "text/plain": [
       "<Figure size 1080x360 with 3 Axes>"
      ]
     },
     "metadata": {
      "needs_background": "light"
     },
     "output_type": "display_data"
    },
    {
     "data": {
      "image/png": "[encoded data removed]",
      "text/plain": [
       "<Figure size 1080x360 with 3 Axes>"
      ]
     },
     "metadata": {
      "needs_background": "light"
     },
     "output_type": "display_data"
    },
    {
     "data": {
      "image/png": "[encoded data removed]",
      "text/plain": [
       "<Figure size 1080x360 with 3 Axes>"
      ]
     },
     "metadata": {
      "needs_background": "light"
     },
     "output_type": "display_data"
    },
    {
     "data": {
      "image/png": "[encoded data removed]",
      "text/plain": [
       "<Figure size 1080x360 with 3 Axes>"
      ]
     },
     "metadata": {
      "needs_background": "light"
     },
     "output_type": "display_data"
    },
    {
     "data": {
      "image/png": "[encoded data removed]",
      "text/plain": [
       "<Figure size 1080x360 with 3 Axes>"
      ]
     },
     "metadata": {
      "needs_background": "light"
     },
     "output_type": "display_data"
    }
   ],
   "source": [
    "for model_type in ['bow', 'fc_emb']:\n",
    "    for reg_mode in PARAMS['reg_mode']:\n",
    "        fig = plt.figure(figsize=(15, 5))\n",
    "        ax = plt.subplot(131)\n",
    "\n",
    "        epochs = PARAMS['epochs']\n",
    "        epochs_graph = range(1, PARAMS['epochs'] + 1)\n",
    "        folds = PARAMS['k']\n",
    "\n",
    "        mask = (history_all_df_reg.loc[:, 'model_type'] == model_type) & (\n",
    "            history_all_df_reg.loc[:, 'reg_mode'] == reg_mode)\n",
    "\n",
    "        loss_all = history_all_df_reg.loc[mask, 'loss'].to_list()\n",
    "        loss_prep = [loss_all[i * epochs:(i + 1) * epochs]\n",
    "                     for i in range(folds)]\n",
    "        loss = [np.mean([x[i] for x in loss_prep]) for i in range(epochs)]\n",
    "\n",
    "        val_loss_all = history_all_df_reg.loc[mask, 'val_loss'].to_list()\n",
    "        val_loss_prep = [\n",
    "            val_loss_all[i * epochs:(i + 1) * epochs] for i in range(folds)]\n",
    "        val_loss = [np.mean([x[i] for x in val_loss_prep])\n",
    "                    for i in range(epochs)]\n",
    "\n",
    "        accuracy_all = history_all_df_reg.loc[mask, 'accuracy'].to_list()\n",
    "        accuracy_prep = [\n",
    "            accuracy_all[i * epochs:(i + 1) * epochs] for i in range(folds)]\n",
    "        accuracy = [np.mean([x[i] for x in accuracy_prep])\n",
    "                    for i in range(epochs)]\n",
    "\n",
    "        val_accuracy_all = history_all_df_reg.loc[mask, 'val_accuracy'].to_list(\n",
    "        )\n",
    "        val_accuracy_prep = [val_accuracy_all[i *\n",
    "                                              epochs:(i + 1) * epochs] for i in range(folds)]\n",
    "        val_accuracy = [np.mean([x[i] for x in val_accuracy_prep])\n",
    "                        for i in range(epochs)]\n",
    "\n",
    "        f1_all = history_all_df_reg.loc[mask, 'f1'].to_list()\n",
    "        f1_prep = [f1_all[i * epochs:(i + 1) * epochs] for i in range(folds)]\n",
    "        f1 = [np.mean([x[i] for x in f1_prep]) for i in range(epochs)]\n",
    "\n",
    "        val_f1_all = history_all_df_reg.loc[mask, 'val_f1'].to_list()\n",
    "        val_f1_prep = [val_f1_all[i * epochs:(i + 1) * epochs]\n",
    "                       for i in range(folds)]\n",
    "        val_f1 = [np.mean([x[i] for x in val_f1_prep]) for i in range(epochs)]\n",
    "\n",
    "        plt.plot(epochs_graph, loss, 'b')\n",
    "        plt.plot(epochs_graph, val_loss, 'r')\n",
    "        plt.ylim([0, 2])\n",
    "        ax.set_ylabel('loss')\n",
    "        ax.set_xlabel('epochs')\n",
    "        ax.legend(['train', 'validation'])\n",
    "        plt.title(f'Train vs. Validation Loss {model_type} {reg_mode}')\n",
    "\n",
    "        ax = plt.subplot(132)\n",
    "        plt.plot(epochs_graph, accuracy, 'b')\n",
    "        plt.plot(epochs_graph, val_accuracy, 'r')\n",
    "        plt.ylim([0, 1])\n",
    "        ax.set_ylabel('accuracy')\n",
    "        ax.set_xlabel('epochs')\n",
    "        ax.legend(['train', 'validation'])\n",
    "        plt.title(f'Train vs. Validation Accuracy {model_type} {reg_mode}')\n",
    "\n",
    "        ax = plt.subplot(133)\n",
    "        plt.plot(epochs_graph, f1, 'b')\n",
    "        plt.plot(epochs_graph, val_f1, 'r')\n",
    "        plt.ylim([0, 1])\n",
    "        ax.set_ylabel('f1')\n",
    "        ax.set_xlabel('epochs')\n",
    "        ax.legend(['train', 'validation'])\n",
    "        plt.title(f'Train vs. Validation F1-Score {model_type} {reg_mode}')\n",
    "\n",
    "        if logging:\n",
    "            if not os.path.exists(os.path.join(logdir, 'figures')):\n",
    "                os.makedirs(os.path.join(logdir, 'figures'))\n",
    "            fig.savefig(os.path.join(\n",
    "                logdir, f'figures/loss_accuracy_training_{model_type}_{reg_mode}.png'), bbox_inches='tight')"
   ]
  },
  {
   "cell_type": "code",
   "execution_count": 66,
   "metadata": {},
   "outputs": [],
   "source": [
    "def compare_models_by_metric(model_type, reg_mode, history_all_df, history_all_df_reg, metric, params):\n",
    "    '''\n",
    "    Function to compare a metric between two models \n",
    "\n",
    "    Args:\n",
    "        model_type - model used\n",
    "        reg_mode - regularisation mode used - l2, dropout, combination of the two\n",
    "        history_all_df - dataframe with results from models without regularisation\n",
    "        history_all_df_reg - dataframe with results from models with regularisation\n",
    "        metric - metric to compare\n",
    "        params - parameters dictionary\n",
    "\n",
    "    Returns:\n",
    "        plot of metrics of models\n",
    "    '''\n",
    "\n",
    "    epochs = PARAMS['epochs']\n",
    "    epochs_graph = range(1, PARAMS['epochs'] + 1)\n",
    "    folds = PARAMS['k']\n",
    "\n",
    "    mask_base = (history_all_df.loc[:, 'model_type'] == model_type)\n",
    "    mask_reg = (history_all_df_reg.loc[:, 'model_type'] == model_type) & (\n",
    "        history_all_df_reg.loc[:, 'reg_mode'] == reg_mode)\n",
    "\n",
    "    metric_all_base = history_all_df.loc[mask_base, metric].to_list()\n",
    "    metric_prep_base = [\n",
    "        metric_all_base[i * epochs:(i + 1) * epochs] for i in range(folds)]\n",
    "    metric_base = [np.mean([x[i] for x in metric_prep_base])\n",
    "                   for i in range(epochs)]\n",
    "\n",
    "    metric_all_reg = history_all_df_reg.loc[mask_reg, metric].to_list()\n",
    "    metric_prep_reg = [\n",
    "        metric_all_reg[i * epochs:(i + 1) * epochs] for i in range(folds)]\n",
    "    metric_reg = [np.mean([x[i] for x in metric_prep_reg]) for i in range(epochs)]\n",
    "\n",
    "    metrics_dict = {\n",
    "        'loss': 'Training Loss',\n",
    "        'acc': 'Training Accuracy',\n",
    "        'precision': 'Training Precision',\n",
    "        'recall': 'Training Recall',\n",
    "        'f1': 'Training F1',\n",
    "        'val_loss': 'Validation Loss',\n",
    "        'val_acc': 'Validation Accuracy',\n",
    "        'val_precision': 'Validation Precision',\n",
    "        'val_recall': 'Validation Recall',\n",
    "        'val_f1': 'Validation F1'\n",
    "    }\n",
    "\n",
    "    metric_label = metrics_dict[metric]\n",
    "    plt.plot(epochs_graph, metric_base, 'bo', label=f'{model_type} No Regularisation')\n",
    "    plt.plot(epochs_graph, metric_reg, 'b',\n",
    "             label=f'{model_type} {reg_mode} Regularisation')\n",
    "    plt.xlabel('Epoch number')\n",
    "    plt.ylabel(metric_label)\n",
    "    plt.title('Comparing ' + metric_label + ' between models')\n",
    "    plt.legend()\n",
    "    plt.show()\n",
    "\n",
    "    if logging:\n",
    "        if not os.path.exists(os.path.join(logdir, 'figures')):\n",
    "            os.makedirs(os.path.join(logdir, 'figures'))\n",
    "            fig.savefig(os.path.join(\n",
    "                logdir, f'figures/compare_base_vs_regularised_model_{model_type}_{reg_mode}.png'), bbox_inches='tight')"
   ]
  },
  {
   "cell_type": "code",
   "execution_count": 67,
   "metadata": {},
   "outputs": [
    {
     "data": {
      "image/png": "[encoded data removed]",
      "text/plain": [
       "<Figure size 432x288 with 1 Axes>"
      ]
     },
     "metadata": {
      "needs_background": "light"
     },
     "output_type": "display_data"
    },
    {
     "data": {
      "image/png": "[encoded data removed]",
      "text/plain": [
       "<Figure size 432x288 with 1 Axes>"
      ]
     },
     "metadata": {
      "needs_background": "light"
     },
     "output_type": "display_data"
    },
    {
     "data": {
      "image/png": "[encoded data removed]",
      "text/plain": [
       "<Figure size 432x288 with 1 Axes>"
      ]
     },
     "metadata": {
      "needs_background": "light"
     },
     "output_type": "display_data"
    },
    {
     "data": {
      "image/png": "[encoded data removed]",
      "text/plain": [
       "<Figure size 432x288 with 1 Axes>"
      ]
     },
     "metadata": {
      "needs_background": "light"
     },
     "output_type": "display_data"
    },
    {
     "data": {
      "image/png": "[encoded data removed]",
      "text/plain": [
       "<Figure size 432x288 with 1 Axes>"
      ]
     },
     "metadata": {
      "needs_background": "light"
     },
     "output_type": "display_data"
    },
    {
     "data": {
      "image/png": "[encoded data removed]",
      "text/plain": [
       "<Figure size 432x288 with 1 Axes>"
      ]
     },
     "metadata": {
      "needs_background": "light"
     },
     "output_type": "display_data"
    }
   ],
   "source": [
    "for model_type in ['bow', 'fc_emb']:\n",
    "    for reg_mode in PARAMS['reg_mode']:\n",
    "        compare_models_by_metric(model_type, reg_mode, history_all_df, history_all_df_reg, 'val_loss', PARAMS)"
   ]
  },
  {
   "cell_type": "code",
   "execution_count": 71,
   "metadata": {},
   "outputs": [],
   "source": [
    "def optimal_epoch(history_df, model_type):\n",
    "    \"\"\"\n",
    "    Function to return the epoch number where the validation loss is\n",
    "    at its minimum\n",
    "\n",
    "    Args:\n",
    "        history_df - dataframe with training & validation history of model\n",
    "    Returns:\n",
    "        epoch number with minimum validation loss\n",
    "    \"\"\"\n",
    "    mask = history_df.loc[:, 'model_type'] == model_type\n",
    "    min_epoch = np.argmin(history_df.loc[mask, 'val_loss']) + 1\n",
    "    print(f'Minimum validation loss for {model_type} reached in epoch {min_epoch}')\n",
    "    \n",
    "    return min_epoch"
   ]
  },
  {
   "cell_type": "code",
   "execution_count": 72,
   "metadata": {},
   "outputs": [
    {
     "name": "stdout",
     "output_type": "stream",
     "text": [
      "Minimum validation loss for bow reached in epoch 46\n",
      "Minimum validation loss for fc_emb reached in epoch 48\n",
      "Minimum validation loss for fc_transf reached in epoch 50\n",
      "Minimum validation loss for lstm reached in epoch 47\n",
      "Minimum validation loss for lstm_transf reached in epoch 49\n",
      "Minimum validation loss for conv1d reached in epoch 32\n",
      "Minimum validation loss for conv1d_transf reached in epoch 47\n"
     ]
    }
   ],
   "source": [
    "for model_type in PARAMS['model_type']:\n",
    "    optimal_epoch(history_all_df, model_type)"
   ]
  },
  {
   "cell_type": "code",
   "execution_count": 74,
   "metadata": {},
   "outputs": [
    {
     "data": {
      "text/html": [
       "<div>\n",
       "<style scoped>\n",
       "    .dataframe tbody tr th:only-of-type {\n",
       "        vertical-align: middle;\n",
       "    }\n",
       "\n",
       "    .dataframe tbody tr th {\n",
       "        vertical-align: top;\n",
       "    }\n",
       "\n",
       "    .dataframe thead th {\n",
       "        text-align: right;\n",
       "    }\n",
       "</style>\n",
       "<table border=\"1\" class=\"dataframe\">\n",
       "  <thead>\n",
       "    <tr style=\"text-align: right;\">\n",
       "      <th></th>\n",
       "      <th>loss</th>\n",
       "      <th>accuracy</th>\n",
       "      <th>precision</th>\n",
       "      <th>recall</th>\n",
       "      <th>val_loss</th>\n",
       "      <th>val_accuracy</th>\n",
       "      <th>val_precision</th>\n",
       "      <th>val_recall</th>\n",
       "      <th>model_type</th>\n",
       "      <th>f1</th>\n",
       "      <th>val_f1</th>\n",
       "    </tr>\n",
       "  </thead>\n",
       "  <tbody>\n",
       "    <tr>\n",
       "      <th>0</th>\n",
       "      <td>0.702180</td>\n",
       "      <td>0.738980</td>\n",
       "      <td>0.875577</td>\n",
       "      <td>0.506790</td>\n",
       "      <td>0.889611</td>\n",
       "      <td>0.629717</td>\n",
       "      <td>0.649603</td>\n",
       "      <td>0.578616</td>\n",
       "      <td>bow</td>\n",
       "      <td>0.641991</td>\n",
       "      <td>0.612058</td>\n",
       "    </tr>\n",
       "    <tr>\n",
       "      <th>1</th>\n",
       "      <td>0.246158</td>\n",
       "      <td>0.905499</td>\n",
       "      <td>0.910535</td>\n",
       "      <td>0.899488</td>\n",
       "      <td>0.970661</td>\n",
       "      <td>0.639151</td>\n",
       "      <td>0.652068</td>\n",
       "      <td>0.632075</td>\n",
       "      <td>bow</td>\n",
       "      <td>0.904978</td>\n",
       "      <td>0.641916</td>\n",
       "    </tr>\n",
       "    <tr>\n",
       "      <th>2</th>\n",
       "      <td>0.159991</td>\n",
       "      <td>0.939225</td>\n",
       "      <td>0.941150</td>\n",
       "      <td>0.938112</td>\n",
       "      <td>1.115557</td>\n",
       "      <td>0.629717</td>\n",
       "      <td>0.637530</td>\n",
       "      <td>0.625000</td>\n",
       "      <td>bow</td>\n",
       "      <td>0.939629</td>\n",
       "      <td>0.631203</td>\n",
       "    </tr>\n",
       "    <tr>\n",
       "      <th>3</th>\n",
       "      <td>0.121288</td>\n",
       "      <td>0.952248</td>\n",
       "      <td>0.952853</td>\n",
       "      <td>0.951581</td>\n",
       "      <td>1.265974</td>\n",
       "      <td>0.617138</td>\n",
       "      <td>0.619730</td>\n",
       "      <td>0.612421</td>\n",
       "      <td>bow</td>\n",
       "      <td>0.952217</td>\n",
       "      <td>0.616054</td>\n",
       "    </tr>\n",
       "    <tr>\n",
       "      <th>4</th>\n",
       "      <td>0.096759</td>\n",
       "      <td>0.962934</td>\n",
       "      <td>0.963140</td>\n",
       "      <td>0.962712</td>\n",
       "      <td>1.373973</td>\n",
       "      <td>0.639151</td>\n",
       "      <td>0.640985</td>\n",
       "      <td>0.634434</td>\n",
       "      <td>bow</td>\n",
       "      <td>0.962926</td>\n",
       "      <td>0.637693</td>\n",
       "    </tr>\n",
       "    <tr>\n",
       "      <th>5</th>\n",
       "      <td>0.086124</td>\n",
       "      <td>0.967164</td>\n",
       "      <td>0.967376</td>\n",
       "      <td>0.967053</td>\n",
       "      <td>1.451703</td>\n",
       "      <td>0.625000</td>\n",
       "      <td>0.628165</td>\n",
       "      <td>0.624214</td>\n",
       "      <td>bow</td>\n",
       "      <td>0.967214</td>\n",
       "      <td>0.626183</td>\n",
       "    </tr>\n",
       "    <tr>\n",
       "      <th>6</th>\n",
       "      <td>0.077659</td>\n",
       "      <td>0.969501</td>\n",
       "      <td>0.969812</td>\n",
       "      <td>0.969056</td>\n",
       "      <td>1.543741</td>\n",
       "      <td>0.636792</td>\n",
       "      <td>0.639331</td>\n",
       "      <td>0.631289</td>\n",
       "      <td>bow</td>\n",
       "      <td>0.969434</td>\n",
       "      <td>0.635285</td>\n",
       "    </tr>\n",
       "    <tr>\n",
       "      <th>7</th>\n",
       "      <td>0.072149</td>\n",
       "      <td>0.971505</td>\n",
       "      <td>0.971505</td>\n",
       "      <td>0.971505</td>\n",
       "      <td>1.658373</td>\n",
       "      <td>0.628145</td>\n",
       "      <td>0.629249</td>\n",
       "      <td>0.625786</td>\n",
       "      <td>bow</td>\n",
       "      <td>0.971505</td>\n",
       "      <td>0.627513</td>\n",
       "    </tr>\n",
       "    <tr>\n",
       "      <th>8</th>\n",
       "      <td>0.065267</td>\n",
       "      <td>0.973063</td>\n",
       "      <td>0.973172</td>\n",
       "      <td>0.973063</td>\n",
       "      <td>1.713950</td>\n",
       "      <td>0.635220</td>\n",
       "      <td>0.635499</td>\n",
       "      <td>0.630503</td>\n",
       "      <td>bow</td>\n",
       "      <td>0.973117</td>\n",
       "      <td>0.632991</td>\n",
       "    </tr>\n",
       "    <tr>\n",
       "      <th>9</th>\n",
       "      <td>0.058467</td>\n",
       "      <td>0.976180</td>\n",
       "      <td>0.976180</td>\n",
       "      <td>0.976180</td>\n",
       "      <td>1.766139</td>\n",
       "      <td>0.625786</td>\n",
       "      <td>0.626877</td>\n",
       "      <td>0.623428</td>\n",
       "      <td>bow</td>\n",
       "      <td>0.976180</td>\n",
       "      <td>0.625148</td>\n",
       "    </tr>\n",
       "    <tr>\n",
       "      <th>10</th>\n",
       "      <td>0.055732</td>\n",
       "      <td>0.977182</td>\n",
       "      <td>0.977290</td>\n",
       "      <td>0.977182</td>\n",
       "      <td>1.825230</td>\n",
       "      <td>0.615566</td>\n",
       "      <td>0.616719</td>\n",
       "      <td>0.614780</td>\n",
       "      <td>bow</td>\n",
       "      <td>0.977236</td>\n",
       "      <td>0.615748</td>\n",
       "    </tr>\n",
       "    <tr>\n",
       "      <th>11</th>\n",
       "      <td>0.051427</td>\n",
       "      <td>0.977849</td>\n",
       "      <td>0.977849</td>\n",
       "      <td>0.977849</td>\n",
       "      <td>1.924891</td>\n",
       "      <td>0.618711</td>\n",
       "      <td>0.618483</td>\n",
       "      <td>0.615566</td>\n",
       "      <td>bow</td>\n",
       "      <td>0.977849</td>\n",
       "      <td>0.617021</td>\n",
       "    </tr>\n",
       "    <tr>\n",
       "      <th>12</th>\n",
       "      <td>0.049233</td>\n",
       "      <td>0.979630</td>\n",
       "      <td>0.979630</td>\n",
       "      <td>0.979630</td>\n",
       "      <td>1.972275</td>\n",
       "      <td>0.605346</td>\n",
       "      <td>0.606467</td>\n",
       "      <td>0.604560</td>\n",
       "      <td>bow</td>\n",
       "      <td>0.979630</td>\n",
       "      <td>0.605512</td>\n",
       "    </tr>\n",
       "    <tr>\n",
       "      <th>13</th>\n",
       "      <td>0.045240</td>\n",
       "      <td>0.981523</td>\n",
       "      <td>0.981632</td>\n",
       "      <td>0.981523</td>\n",
       "      <td>2.031660</td>\n",
       "      <td>0.613208</td>\n",
       "      <td>0.614534</td>\n",
       "      <td>0.611635</td>\n",
       "      <td>bow</td>\n",
       "      <td>0.981577</td>\n",
       "      <td>0.613081</td>\n",
       "    </tr>\n",
       "    <tr>\n",
       "      <th>14</th>\n",
       "      <td>0.043943</td>\n",
       "      <td>0.981634</td>\n",
       "      <td>0.981743</td>\n",
       "      <td>0.981634</td>\n",
       "      <td>2.075841</td>\n",
       "      <td>0.612421</td>\n",
       "      <td>0.612342</td>\n",
       "      <td>0.608491</td>\n",
       "      <td>bow</td>\n",
       "      <td>0.981689</td>\n",
       "      <td>0.610410</td>\n",
       "    </tr>\n",
       "    <tr>\n",
       "      <th>0</th>\n",
       "      <td>0.259487</td>\n",
       "      <td>0.920570</td>\n",
       "      <td>0.922548</td>\n",
       "      <td>0.918471</td>\n",
       "      <td>0.222677</td>\n",
       "      <td>0.919811</td>\n",
       "      <td>0.921136</td>\n",
       "      <td>0.918239</td>\n",
       "      <td>bow</td>\n",
       "      <td>0.920505</td>\n",
       "      <td>0.919685</td>\n",
       "    </tr>\n",
       "    <tr>\n",
       "      <th>1</th>\n",
       "      <td>0.095536</td>\n",
       "      <td>0.965753</td>\n",
       "      <td>0.966387</td>\n",
       "      <td>0.965532</td>\n",
       "      <td>0.233157</td>\n",
       "      <td>0.911950</td>\n",
       "      <td>0.913834</td>\n",
       "      <td>0.908805</td>\n",
       "      <td>bow</td>\n",
       "      <td>0.965959</td>\n",
       "      <td>0.911313</td>\n",
       "    </tr>\n",
       "    <tr>\n",
       "      <th>2</th>\n",
       "      <td>0.062720</td>\n",
       "      <td>0.978126</td>\n",
       "      <td>0.978338</td>\n",
       "      <td>0.977905</td>\n",
       "      <td>0.257742</td>\n",
       "      <td>0.903302</td>\n",
       "      <td>0.902997</td>\n",
       "      <td>0.900157</td>\n",
       "      <td>bow</td>\n",
       "      <td>0.978122</td>\n",
       "      <td>0.901575</td>\n",
       "    </tr>\n",
       "    <tr>\n",
       "      <th>3</th>\n",
       "      <td>0.048198</td>\n",
       "      <td>0.983098</td>\n",
       "      <td>0.983206</td>\n",
       "      <td>0.983098</td>\n",
       "      <td>0.282017</td>\n",
       "      <td>0.894654</td>\n",
       "      <td>0.896524</td>\n",
       "      <td>0.892296</td>\n",
       "      <td>bow</td>\n",
       "      <td>0.983152</td>\n",
       "      <td>0.894405</td>\n",
       "    </tr>\n",
       "    <tr>\n",
       "      <th>4</th>\n",
       "      <td>0.040010</td>\n",
       "      <td>0.986633</td>\n",
       "      <td>0.986631</td>\n",
       "      <td>0.986522</td>\n",
       "      <td>0.327676</td>\n",
       "      <td>0.884434</td>\n",
       "      <td>0.885556</td>\n",
       "      <td>0.882075</td>\n",
       "      <td>bow</td>\n",
       "      <td>0.986577</td>\n",
       "      <td>0.883813</td>\n",
       "    </tr>\n",
       "    <tr>\n",
       "      <th>5</th>\n",
       "      <td>0.033394</td>\n",
       "      <td>0.988400</td>\n",
       "      <td>0.988400</td>\n",
       "      <td>0.988400</td>\n",
       "      <td>0.356389</td>\n",
       "      <td>0.878931</td>\n",
       "      <td>0.880221</td>\n",
       "      <td>0.878145</td>\n",
       "      <td>bow</td>\n",
       "      <td>0.988400</td>\n",
       "      <td>0.879181</td>\n",
       "    </tr>\n",
       "    <tr>\n",
       "      <th>6</th>\n",
       "      <td>0.031285</td>\n",
       "      <td>0.988400</td>\n",
       "      <td>0.988400</td>\n",
       "      <td>0.988400</td>\n",
       "      <td>0.375625</td>\n",
       "      <td>0.881289</td>\n",
       "      <td>0.882677</td>\n",
       "      <td>0.881289</td>\n",
       "      <td>bow</td>\n",
       "      <td>0.988400</td>\n",
       "      <td>0.881983</td>\n",
       "    </tr>\n",
       "    <tr>\n",
       "      <th>7</th>\n",
       "      <td>0.029745</td>\n",
       "      <td>0.989174</td>\n",
       "      <td>0.989174</td>\n",
       "      <td>0.989174</td>\n",
       "      <td>0.399572</td>\n",
       "      <td>0.879717</td>\n",
       "      <td>0.880315</td>\n",
       "      <td>0.878931</td>\n",
       "      <td>bow</td>\n",
       "      <td>0.989174</td>\n",
       "      <td>0.879622</td>\n",
       "    </tr>\n",
       "    <tr>\n",
       "      <th>8</th>\n",
       "      <td>0.026409</td>\n",
       "      <td>0.990499</td>\n",
       "      <td>0.990499</td>\n",
       "      <td>0.990499</td>\n",
       "      <td>0.417637</td>\n",
       "      <td>0.875786</td>\n",
       "      <td>0.875493</td>\n",
       "      <td>0.873428</td>\n",
       "      <td>bow</td>\n",
       "      <td>0.990499</td>\n",
       "      <td>0.874459</td>\n",
       "    </tr>\n",
       "    <tr>\n",
       "      <th>9</th>\n",
       "      <td>0.025703</td>\n",
       "      <td>0.991162</td>\n",
       "      <td>0.991162</td>\n",
       "      <td>0.991162</td>\n",
       "      <td>0.448494</td>\n",
       "      <td>0.867925</td>\n",
       "      <td>0.868400</td>\n",
       "      <td>0.866352</td>\n",
       "      <td>bow</td>\n",
       "      <td>0.991162</td>\n",
       "      <td>0.867375</td>\n",
       "    </tr>\n",
       "    <tr>\n",
       "      <th>10</th>\n",
       "      <td>0.023118</td>\n",
       "      <td>0.991604</td>\n",
       "      <td>0.991604</td>\n",
       "      <td>0.991604</td>\n",
       "      <td>0.469533</td>\n",
       "      <td>0.868711</td>\n",
       "      <td>0.869976</td>\n",
       "      <td>0.867925</td>\n",
       "      <td>bow</td>\n",
       "      <td>0.991604</td>\n",
       "      <td>0.868949</td>\n",
       "    </tr>\n",
       "    <tr>\n",
       "      <th>11</th>\n",
       "      <td>0.021635</td>\n",
       "      <td>0.992377</td>\n",
       "      <td>0.992377</td>\n",
       "      <td>0.992377</td>\n",
       "      <td>0.495519</td>\n",
       "      <td>0.864780</td>\n",
       "      <td>0.866719</td>\n",
       "      <td>0.863994</td>\n",
       "      <td>bow</td>\n",
       "      <td>0.992377</td>\n",
       "      <td>0.865354</td>\n",
       "    </tr>\n",
       "    <tr>\n",
       "      <th>12</th>\n",
       "      <td>0.020060</td>\n",
       "      <td>0.991715</td>\n",
       "      <td>0.991715</td>\n",
       "      <td>0.991715</td>\n",
       "      <td>0.531855</td>\n",
       "      <td>0.863208</td>\n",
       "      <td>0.864460</td>\n",
       "      <td>0.862421</td>\n",
       "      <td>bow</td>\n",
       "      <td>0.991715</td>\n",
       "      <td>0.863440</td>\n",
       "    </tr>\n",
       "    <tr>\n",
       "      <th>13</th>\n",
       "      <td>0.021663</td>\n",
       "      <td>0.991715</td>\n",
       "      <td>0.991715</td>\n",
       "      <td>0.991715</td>\n",
       "      <td>0.547897</td>\n",
       "      <td>0.857704</td>\n",
       "      <td>0.858156</td>\n",
       "      <td>0.856132</td>\n",
       "      <td>bow</td>\n",
       "      <td>0.991715</td>\n",
       "      <td>0.857143</td>\n",
       "    </tr>\n",
       "    <tr>\n",
       "      <th>14</th>\n",
       "      <td>0.019854</td>\n",
       "      <td>0.992156</td>\n",
       "      <td>0.992156</td>\n",
       "      <td>0.992156</td>\n",
       "      <td>0.566908</td>\n",
       "      <td>0.855346</td>\n",
       "      <td>0.855906</td>\n",
       "      <td>0.854560</td>\n",
       "      <td>bow</td>\n",
       "      <td>0.992156</td>\n",
       "      <td>0.855232</td>\n",
       "    </tr>\n",
       "    <tr>\n",
       "      <th>0</th>\n",
       "      <td>0.091756</td>\n",
       "      <td>0.969778</td>\n",
       "      <td>0.969778</td>\n",
       "      <td>0.969778</td>\n",
       "      <td>0.067993</td>\n",
       "      <td>0.977201</td>\n",
       "      <td>0.977201</td>\n",
       "      <td>0.977201</td>\n",
       "      <td>bow</td>\n",
       "      <td>0.969778</td>\n",
       "      <td>0.977201</td>\n",
       "    </tr>\n",
       "    <tr>\n",
       "      <th>1</th>\n",
       "      <td>0.037618</td>\n",
       "      <td>0.986111</td>\n",
       "      <td>0.986221</td>\n",
       "      <td>0.986111</td>\n",
       "      <td>0.078811</td>\n",
       "      <td>0.970126</td>\n",
       "      <td>0.970126</td>\n",
       "      <td>0.970126</td>\n",
       "      <td>bow</td>\n",
       "      <td>0.986166</td>\n",
       "      <td>0.970126</td>\n",
       "    </tr>\n",
       "    <tr>\n",
       "      <th>2</th>\n",
       "      <td>0.031173</td>\n",
       "      <td>0.987667</td>\n",
       "      <td>0.987776</td>\n",
       "      <td>0.987667</td>\n",
       "      <td>0.085381</td>\n",
       "      <td>0.967767</td>\n",
       "      <td>0.967767</td>\n",
       "      <td>0.967767</td>\n",
       "      <td>bow</td>\n",
       "      <td>0.987722</td>\n",
       "      <td>0.967767</td>\n",
       "    </tr>\n",
       "    <tr>\n",
       "      <th>3</th>\n",
       "      <td>0.025322</td>\n",
       "      <td>0.990111</td>\n",
       "      <td>0.990110</td>\n",
       "      <td>0.990000</td>\n",
       "      <td>0.095227</td>\n",
       "      <td>0.962264</td>\n",
       "      <td>0.962264</td>\n",
       "      <td>0.962264</td>\n",
       "      <td>bow</td>\n",
       "      <td>0.990055</td>\n",
       "      <td>0.962264</td>\n",
       "    </tr>\n",
       "    <tr>\n",
       "      <th>4</th>\n",
       "      <td>0.025321</td>\n",
       "      <td>0.989889</td>\n",
       "      <td>0.989999</td>\n",
       "      <td>0.989889</td>\n",
       "      <td>0.100518</td>\n",
       "      <td>0.962264</td>\n",
       "      <td>0.962264</td>\n",
       "      <td>0.962264</td>\n",
       "      <td>bow</td>\n",
       "      <td>0.989944</td>\n",
       "      <td>0.962264</td>\n",
       "    </tr>\n",
       "    <tr>\n",
       "      <th>5</th>\n",
       "      <td>0.022797</td>\n",
       "      <td>0.990778</td>\n",
       "      <td>0.990778</td>\n",
       "      <td>0.990778</td>\n",
       "      <td>0.118686</td>\n",
       "      <td>0.959119</td>\n",
       "      <td>0.959874</td>\n",
       "      <td>0.959119</td>\n",
       "      <td>bow</td>\n",
       "      <td>0.990778</td>\n",
       "      <td>0.959497</td>\n",
       "    </tr>\n",
       "    <tr>\n",
       "      <th>6</th>\n",
       "      <td>0.022889</td>\n",
       "      <td>0.990444</td>\n",
       "      <td>0.990444</td>\n",
       "      <td>0.990444</td>\n",
       "      <td>0.117338</td>\n",
       "      <td>0.959119</td>\n",
       "      <td>0.959119</td>\n",
       "      <td>0.959119</td>\n",
       "      <td>bow</td>\n",
       "      <td>0.990444</td>\n",
       "      <td>0.959119</td>\n",
       "    </tr>\n",
       "    <tr>\n",
       "      <th>7</th>\n",
       "      <td>0.020599</td>\n",
       "      <td>0.990778</td>\n",
       "      <td>0.990778</td>\n",
       "      <td>0.990778</td>\n",
       "      <td>0.131597</td>\n",
       "      <td>0.952830</td>\n",
       "      <td>0.952830</td>\n",
       "      <td>0.952830</td>\n",
       "      <td>bow</td>\n",
       "      <td>0.990778</td>\n",
       "      <td>0.952830</td>\n",
       "    </tr>\n",
       "    <tr>\n",
       "      <th>8</th>\n",
       "      <td>0.020401</td>\n",
       "      <td>0.991333</td>\n",
       "      <td>0.991333</td>\n",
       "      <td>0.991333</td>\n",
       "      <td>0.140724</td>\n",
       "      <td>0.955189</td>\n",
       "      <td>0.955189</td>\n",
       "      <td>0.955189</td>\n",
       "      <td>bow</td>\n",
       "      <td>0.991333</td>\n",
       "      <td>0.955189</td>\n",
       "    </tr>\n",
       "    <tr>\n",
       "      <th>9</th>\n",
       "      <td>0.020090</td>\n",
       "      <td>0.991333</td>\n",
       "      <td>0.991333</td>\n",
       "      <td>0.991333</td>\n",
       "      <td>0.160250</td>\n",
       "      <td>0.946541</td>\n",
       "      <td>0.946541</td>\n",
       "      <td>0.946541</td>\n",
       "      <td>bow</td>\n",
       "      <td>0.991333</td>\n",
       "      <td>0.946541</td>\n",
       "    </tr>\n",
       "    <tr>\n",
       "      <th>10</th>\n",
       "      <td>0.020683</td>\n",
       "      <td>0.990556</td>\n",
       "      <td>0.990556</td>\n",
       "      <td>0.990556</td>\n",
       "      <td>0.160963</td>\n",
       "      <td>0.948113</td>\n",
       "      <td>0.948113</td>\n",
       "      <td>0.948113</td>\n",
       "      <td>bow</td>\n",
       "      <td>0.990556</td>\n",
       "      <td>0.948113</td>\n",
       "    </tr>\n",
       "    <tr>\n",
       "      <th>11</th>\n",
       "      <td>0.018133</td>\n",
       "      <td>0.991778</td>\n",
       "      <td>0.991778</td>\n",
       "      <td>0.991778</td>\n",
       "      <td>0.168295</td>\n",
       "      <td>0.941824</td>\n",
       "      <td>0.941824</td>\n",
       "      <td>0.941824</td>\n",
       "      <td>bow</td>\n",
       "      <td>0.991778</td>\n",
       "      <td>0.941824</td>\n",
       "    </tr>\n",
       "    <tr>\n",
       "      <th>12</th>\n",
       "      <td>0.018385</td>\n",
       "      <td>0.991889</td>\n",
       "      <td>0.991889</td>\n",
       "      <td>0.991889</td>\n",
       "      <td>0.189437</td>\n",
       "      <td>0.943396</td>\n",
       "      <td>0.943396</td>\n",
       "      <td>0.943396</td>\n",
       "      <td>bow</td>\n",
       "      <td>0.991889</td>\n",
       "      <td>0.943396</td>\n",
       "    </tr>\n",
       "    <tr>\n",
       "      <th>13</th>\n",
       "      <td>0.020102</td>\n",
       "      <td>0.991444</td>\n",
       "      <td>0.991444</td>\n",
       "      <td>0.991444</td>\n",
       "      <td>0.203245</td>\n",
       "      <td>0.940252</td>\n",
       "      <td>0.940252</td>\n",
       "      <td>0.940252</td>\n",
       "      <td>bow</td>\n",
       "      <td>0.991444</td>\n",
       "      <td>0.940252</td>\n",
       "    </tr>\n",
       "    <tr>\n",
       "      <th>14</th>\n",
       "      <td>0.017566</td>\n",
       "      <td>0.991889</td>\n",
       "      <td>0.991889</td>\n",
       "      <td>0.991889</td>\n",
       "      <td>0.198144</td>\n",
       "      <td>0.942610</td>\n",
       "      <td>0.942610</td>\n",
       "      <td>0.942610</td>\n",
       "      <td>bow</td>\n",
       "      <td>0.991889</td>\n",
       "      <td>0.942610</td>\n",
       "    </tr>\n",
       "    <tr>\n",
       "      <th>0</th>\n",
       "      <td>0.042651</td>\n",
       "      <td>0.985188</td>\n",
       "      <td>0.985294</td>\n",
       "      <td>0.984852</td>\n",
       "      <td>0.049623</td>\n",
       "      <td>0.979560</td>\n",
       "      <td>0.979560</td>\n",
       "      <td>0.979560</td>\n",
       "      <td>bow</td>\n",
       "      <td>0.985073</td>\n",
       "      <td>0.979560</td>\n",
       "    </tr>\n",
       "    <tr>\n",
       "      <th>1</th>\n",
       "      <td>0.022756</td>\n",
       "      <td>0.991023</td>\n",
       "      <td>0.991023</td>\n",
       "      <td>0.991023</td>\n",
       "      <td>0.053780</td>\n",
       "      <td>0.977987</td>\n",
       "      <td>0.977987</td>\n",
       "      <td>0.977987</td>\n",
       "      <td>bow</td>\n",
       "      <td>0.991023</td>\n",
       "      <td>0.977987</td>\n",
       "    </tr>\n",
       "    <tr>\n",
       "      <th>2</th>\n",
       "      <td>0.019108</td>\n",
       "      <td>0.991136</td>\n",
       "      <td>0.991136</td>\n",
       "      <td>0.991136</td>\n",
       "      <td>0.071184</td>\n",
       "      <td>0.966195</td>\n",
       "      <td>0.966955</td>\n",
       "      <td>0.966195</td>\n",
       "      <td>bow</td>\n",
       "      <td>0.991136</td>\n",
       "      <td>0.966575</td>\n",
       "    </tr>\n",
       "    <tr>\n",
       "      <th>3</th>\n",
       "      <td>0.016483</td>\n",
       "      <td>0.993155</td>\n",
       "      <td>0.993155</td>\n",
       "      <td>0.993155</td>\n",
       "      <td>0.066165</td>\n",
       "      <td>0.973270</td>\n",
       "      <td>0.973270</td>\n",
       "      <td>0.973270</td>\n",
       "      <td>bow</td>\n",
       "      <td>0.993155</td>\n",
       "      <td>0.973270</td>\n",
       "    </tr>\n",
       "    <tr>\n",
       "      <th>4</th>\n",
       "      <td>0.016130</td>\n",
       "      <td>0.992819</td>\n",
       "      <td>0.992819</td>\n",
       "      <td>0.992819</td>\n",
       "      <td>0.081904</td>\n",
       "      <td>0.966981</td>\n",
       "      <td>0.966981</td>\n",
       "      <td>0.966981</td>\n",
       "      <td>bow</td>\n",
       "      <td>0.992819</td>\n",
       "      <td>0.966981</td>\n",
       "    </tr>\n",
       "    <tr>\n",
       "      <th>5</th>\n",
       "      <td>0.015548</td>\n",
       "      <td>0.993380</td>\n",
       "      <td>0.993491</td>\n",
       "      <td>0.993380</td>\n",
       "      <td>0.089474</td>\n",
       "      <td>0.964623</td>\n",
       "      <td>0.964623</td>\n",
       "      <td>0.964623</td>\n",
       "      <td>bow</td>\n",
       "      <td>0.993435</td>\n",
       "      <td>0.964623</td>\n",
       "    </tr>\n",
       "    <tr>\n",
       "      <th>6</th>\n",
       "      <td>0.014767</td>\n",
       "      <td>0.993155</td>\n",
       "      <td>0.993155</td>\n",
       "      <td>0.993155</td>\n",
       "      <td>0.098347</td>\n",
       "      <td>0.956761</td>\n",
       "      <td>0.957514</td>\n",
       "      <td>0.956761</td>\n",
       "      <td>bow</td>\n",
       "      <td>0.993155</td>\n",
       "      <td>0.957137</td>\n",
       "    </tr>\n",
       "    <tr>\n",
       "      <th>7</th>\n",
       "      <td>0.015584</td>\n",
       "      <td>0.992370</td>\n",
       "      <td>0.992370</td>\n",
       "      <td>0.992370</td>\n",
       "      <td>0.109493</td>\n",
       "      <td>0.955975</td>\n",
       "      <td>0.955975</td>\n",
       "      <td>0.955975</td>\n",
       "      <td>bow</td>\n",
       "      <td>0.992370</td>\n",
       "      <td>0.955975</td>\n",
       "    </tr>\n",
       "    <tr>\n",
       "      <th>8</th>\n",
       "      <td>0.014991</td>\n",
       "      <td>0.993492</td>\n",
       "      <td>0.993492</td>\n",
       "      <td>0.993492</td>\n",
       "      <td>0.087380</td>\n",
       "      <td>0.964623</td>\n",
       "      <td>0.965382</td>\n",
       "      <td>0.964623</td>\n",
       "      <td>bow</td>\n",
       "      <td>0.993492</td>\n",
       "      <td>0.965002</td>\n",
       "    </tr>\n",
       "    <tr>\n",
       "      <th>9</th>\n",
       "      <td>0.014117</td>\n",
       "      <td>0.993492</td>\n",
       "      <td>0.993492</td>\n",
       "      <td>0.993492</td>\n",
       "      <td>0.102536</td>\n",
       "      <td>0.962264</td>\n",
       "      <td>0.963021</td>\n",
       "      <td>0.962264</td>\n",
       "      <td>bow</td>\n",
       "      <td>0.993492</td>\n",
       "      <td>0.962643</td>\n",
       "    </tr>\n",
       "    <tr>\n",
       "      <th>10</th>\n",
       "      <td>0.013560</td>\n",
       "      <td>0.993492</td>\n",
       "      <td>0.993492</td>\n",
       "      <td>0.993492</td>\n",
       "      <td>0.109843</td>\n",
       "      <td>0.961478</td>\n",
       "      <td>0.961478</td>\n",
       "      <td>0.961478</td>\n",
       "      <td>bow</td>\n",
       "      <td>0.993492</td>\n",
       "      <td>0.961478</td>\n",
       "    </tr>\n",
       "    <tr>\n",
       "      <th>11</th>\n",
       "      <td>0.013643</td>\n",
       "      <td>0.993043</td>\n",
       "      <td>0.993043</td>\n",
       "      <td>0.993043</td>\n",
       "      <td>0.125393</td>\n",
       "      <td>0.960692</td>\n",
       "      <td>0.960692</td>\n",
       "      <td>0.960692</td>\n",
       "      <td>bow</td>\n",
       "      <td>0.993043</td>\n",
       "      <td>0.960692</td>\n",
       "    </tr>\n",
       "    <tr>\n",
       "      <th>12</th>\n",
       "      <td>0.014266</td>\n",
       "      <td>0.993155</td>\n",
       "      <td>0.993155</td>\n",
       "      <td>0.993155</td>\n",
       "      <td>0.108422</td>\n",
       "      <td>0.963836</td>\n",
       "      <td>0.963836</td>\n",
       "      <td>0.963836</td>\n",
       "      <td>bow</td>\n",
       "      <td>0.993155</td>\n",
       "      <td>0.963836</td>\n",
       "    </tr>\n",
       "    <tr>\n",
       "      <th>13</th>\n",
       "      <td>0.013013</td>\n",
       "      <td>0.994277</td>\n",
       "      <td>0.994277</td>\n",
       "      <td>0.994277</td>\n",
       "      <td>0.122118</td>\n",
       "      <td>0.963050</td>\n",
       "      <td>0.963050</td>\n",
       "      <td>0.963050</td>\n",
       "      <td>bow</td>\n",
       "      <td>0.994277</td>\n",
       "      <td>0.963050</td>\n",
       "    </tr>\n",
       "    <tr>\n",
       "      <th>14</th>\n",
       "      <td>0.012694</td>\n",
       "      <td>0.993604</td>\n",
       "      <td>0.993604</td>\n",
       "      <td>0.993604</td>\n",
       "      <td>0.126567</td>\n",
       "      <td>0.959906</td>\n",
       "      <td>0.959906</td>\n",
       "      <td>0.959906</td>\n",
       "      <td>bow</td>\n",
       "      <td>0.993604</td>\n",
       "      <td>0.959906</td>\n",
       "    </tr>\n",
       "  </tbody>\n",
       "</table>\n",
       "</div>"
      ],
      "text/plain": [
       "        loss  accuracy  precision    recall  val_loss  val_accuracy  \\\n",
       "0   0.702180  0.738980   0.875577  0.506790  0.889611      0.629717   \n",
       "1   0.246158  0.905499   0.910535  0.899488  0.970661      0.639151   \n",
       "2   0.159991  0.939225   0.941150  0.938112  1.115557      0.629717   \n",
       "3   0.121288  0.952248   0.952853  0.951581  1.265974      0.617138   \n",
       "4   0.096759  0.962934   0.963140  0.962712  1.373973      0.639151   \n",
       "5   0.086124  0.967164   0.967376  0.967053  1.451703      0.625000   \n",
       "6   0.077659  0.969501   0.969812  0.969056  1.543741      0.636792   \n",
       "7   0.072149  0.971505   0.971505  0.971505  1.658373      0.628145   \n",
       "8   0.065267  0.973063   0.973172  0.973063  1.713950      0.635220   \n",
       "9   0.058467  0.976180   0.976180  0.976180  1.766139      0.625786   \n",
       "10  0.055732  0.977182   0.977290  0.977182  1.825230      0.615566   \n",
       "11  0.051427  0.977849   0.977849  0.977849  1.924891      0.618711   \n",
       "12  0.049233  0.979630   0.979630  0.979630  1.972275      0.605346   \n",
       "13  0.045240  0.981523   0.981632  0.981523  2.031660      0.613208   \n",
       "14  0.043943  0.981634   0.981743  0.981634  2.075841      0.612421   \n",
       "0   0.259487  0.920570   0.922548  0.918471  0.222677      0.919811   \n",
       "1   0.095536  0.965753   0.966387  0.965532  0.233157      0.911950   \n",
       "2   0.062720  0.978126   0.978338  0.977905  0.257742      0.903302   \n",
       "3   0.048198  0.983098   0.983206  0.983098  0.282017      0.894654   \n",
       "4   0.040010  0.986633   0.986631  0.986522  0.327676      0.884434   \n",
       "5   0.033394  0.988400   0.988400  0.988400  0.356389      0.878931   \n",
       "6   0.031285  0.988400   0.988400  0.988400  0.375625      0.881289   \n",
       "7   0.029745  0.989174   0.989174  0.989174  0.399572      0.879717   \n",
       "8   0.026409  0.990499   0.990499  0.990499  0.417637      0.875786   \n",
       "9   0.025703  0.991162   0.991162  0.991162  0.448494      0.867925   \n",
       "10  0.023118  0.991604   0.991604  0.991604  0.469533      0.868711   \n",
       "11  0.021635  0.992377   0.992377  0.992377  0.495519      0.864780   \n",
       "12  0.020060  0.991715   0.991715  0.991715  0.531855      0.863208   \n",
       "13  0.021663  0.991715   0.991715  0.991715  0.547897      0.857704   \n",
       "14  0.019854  0.992156   0.992156  0.992156  0.566908      0.855346   \n",
       "0   0.091756  0.969778   0.969778  0.969778  0.067993      0.977201   \n",
       "1   0.037618  0.986111   0.986221  0.986111  0.078811      0.970126   \n",
       "2   0.031173  0.987667   0.987776  0.987667  0.085381      0.967767   \n",
       "3   0.025322  0.990111   0.990110  0.990000  0.095227      0.962264   \n",
       "4   0.025321  0.989889   0.989999  0.989889  0.100518      0.962264   \n",
       "5   0.022797  0.990778   0.990778  0.990778  0.118686      0.959119   \n",
       "6   0.022889  0.990444   0.990444  0.990444  0.117338      0.959119   \n",
       "7   0.020599  0.990778   0.990778  0.990778  0.131597      0.952830   \n",
       "8   0.020401  0.991333   0.991333  0.991333  0.140724      0.955189   \n",
       "9   0.020090  0.991333   0.991333  0.991333  0.160250      0.946541   \n",
       "10  0.020683  0.990556   0.990556  0.990556  0.160963      0.948113   \n",
       "11  0.018133  0.991778   0.991778  0.991778  0.168295      0.941824   \n",
       "12  0.018385  0.991889   0.991889  0.991889  0.189437      0.943396   \n",
       "13  0.020102  0.991444   0.991444  0.991444  0.203245      0.940252   \n",
       "14  0.017566  0.991889   0.991889  0.991889  0.198144      0.942610   \n",
       "0   0.042651  0.985188   0.985294  0.984852  0.049623      0.979560   \n",
       "1   0.022756  0.991023   0.991023  0.991023  0.053780      0.977987   \n",
       "2   0.019108  0.991136   0.991136  0.991136  0.071184      0.966195   \n",
       "3   0.016483  0.993155   0.993155  0.993155  0.066165      0.973270   \n",
       "4   0.016130  0.992819   0.992819  0.992819  0.081904      0.966981   \n",
       "5   0.015548  0.993380   0.993491  0.993380  0.089474      0.964623   \n",
       "6   0.014767  0.993155   0.993155  0.993155  0.098347      0.956761   \n",
       "7   0.015584  0.992370   0.992370  0.992370  0.109493      0.955975   \n",
       "8   0.014991  0.993492   0.993492  0.993492  0.087380      0.964623   \n",
       "9   0.014117  0.993492   0.993492  0.993492  0.102536      0.962264   \n",
       "10  0.013560  0.993492   0.993492  0.993492  0.109843      0.961478   \n",
       "11  0.013643  0.993043   0.993043  0.993043  0.125393      0.960692   \n",
       "12  0.014266  0.993155   0.993155  0.993155  0.108422      0.963836   \n",
       "13  0.013013  0.994277   0.994277  0.994277  0.122118      0.963050   \n",
       "14  0.012694  0.993604   0.993604  0.993604  0.126567      0.959906   \n",
       "\n",
       "    val_precision  val_recall model_type        f1    val_f1  \n",
       "0        0.649603    0.578616        bow  0.641991  0.612058  \n",
       "1        0.652068    0.632075        bow  0.904978  0.641916  \n",
       "2        0.637530    0.625000        bow  0.939629  0.631203  \n",
       "3        0.619730    0.612421        bow  0.952217  0.616054  \n",
       "4        0.640985    0.634434        bow  0.962926  0.637693  \n",
       "5        0.628165    0.624214        bow  0.967214  0.626183  \n",
       "6        0.639331    0.631289        bow  0.969434  0.635285  \n",
       "7        0.629249    0.625786        bow  0.971505  0.627513  \n",
       "8        0.635499    0.630503        bow  0.973117  0.632991  \n",
       "9        0.626877    0.623428        bow  0.976180  0.625148  \n",
       "10       0.616719    0.614780        bow  0.977236  0.615748  \n",
       "11       0.618483    0.615566        bow  0.977849  0.617021  \n",
       "12       0.606467    0.604560        bow  0.979630  0.605512  \n",
       "13       0.614534    0.611635        bow  0.981577  0.613081  \n",
       "14       0.612342    0.608491        bow  0.981689  0.610410  \n",
       "0        0.921136    0.918239        bow  0.920505  0.919685  \n",
       "1        0.913834    0.908805        bow  0.965959  0.911313  \n",
       "2        0.902997    0.900157        bow  0.978122  0.901575  \n",
       "3        0.896524    0.892296        bow  0.983152  0.894405  \n",
       "4        0.885556    0.882075        bow  0.986577  0.883813  \n",
       "5        0.880221    0.878145        bow  0.988400  0.879181  \n",
       "6        0.882677    0.881289        bow  0.988400  0.881983  \n",
       "7        0.880315    0.878931        bow  0.989174  0.879622  \n",
       "8        0.875493    0.873428        bow  0.990499  0.874459  \n",
       "9        0.868400    0.866352        bow  0.991162  0.867375  \n",
       "10       0.869976    0.867925        bow  0.991604  0.868949  \n",
       "11       0.866719    0.863994        bow  0.992377  0.865354  \n",
       "12       0.864460    0.862421        bow  0.991715  0.863440  \n",
       "13       0.858156    0.856132        bow  0.991715  0.857143  \n",
       "14       0.855906    0.854560        bow  0.992156  0.855232  \n",
       "0        0.977201    0.977201        bow  0.969778  0.977201  \n",
       "1        0.970126    0.970126        bow  0.986166  0.970126  \n",
       "2        0.967767    0.967767        bow  0.987722  0.967767  \n",
       "3        0.962264    0.962264        bow  0.990055  0.962264  \n",
       "4        0.962264    0.962264        bow  0.989944  0.962264  \n",
       "5        0.959874    0.959119        bow  0.990778  0.959497  \n",
       "6        0.959119    0.959119        bow  0.990444  0.959119  \n",
       "7        0.952830    0.952830        bow  0.990778  0.952830  \n",
       "8        0.955189    0.955189        bow  0.991333  0.955189  \n",
       "9        0.946541    0.946541        bow  0.991333  0.946541  \n",
       "10       0.948113    0.948113        bow  0.990556  0.948113  \n",
       "11       0.941824    0.941824        bow  0.991778  0.941824  \n",
       "12       0.943396    0.943396        bow  0.991889  0.943396  \n",
       "13       0.940252    0.940252        bow  0.991444  0.940252  \n",
       "14       0.942610    0.942610        bow  0.991889  0.942610  \n",
       "0        0.979560    0.979560        bow  0.985073  0.979560  \n",
       "1        0.977987    0.977987        bow  0.991023  0.977987  \n",
       "2        0.966955    0.966195        bow  0.991136  0.966575  \n",
       "3        0.973270    0.973270        bow  0.993155  0.973270  \n",
       "4        0.966981    0.966981        bow  0.992819  0.966981  \n",
       "5        0.964623    0.964623        bow  0.993435  0.964623  \n",
       "6        0.957514    0.956761        bow  0.993155  0.957137  \n",
       "7        0.955975    0.955975        bow  0.992370  0.955975  \n",
       "8        0.965382    0.964623        bow  0.993492  0.965002  \n",
       "9        0.963021    0.962264        bow  0.993492  0.962643  \n",
       "10       0.961478    0.961478        bow  0.993492  0.961478  \n",
       "11       0.960692    0.960692        bow  0.993043  0.960692  \n",
       "12       0.963836    0.963836        bow  0.993155  0.963836  \n",
       "13       0.963050    0.963050        bow  0.994277  0.963050  \n",
       "14       0.959906    0.959906        bow  0.993604  0.959906  "
      ]
     },
     "execution_count": 74,
     "metadata": {},
     "output_type": "execute_result"
    }
   ],
   "source": [
    "history_all_df[history_all_df['model_type']=='bow']"
   ]
  },
  {
   "cell_type": "code",
   "execution_count": null,
   "metadata": {},
   "outputs": [],
   "source": []
  },
  {
   "cell_type": "code",
   "execution_count": null,
   "metadata": {},
   "outputs": [],
   "source": []
  },
  {
   "cell_type": "code",
   "execution_count": null,
   "metadata": {},
   "outputs": [],
   "source": []
  },
  {
   "cell_type": "code",
   "execution_count": null,
   "metadata": {},
   "outputs": [],
   "source": []
  }
 ],
 "metadata": {
  "kernelspec": {
   "display_name": "nlp-sent",
   "language": "python",
   "name": "nlp-sent"
  },
  "language_info": {
   "codemirror_mode": {
    "name": "ipython",
    "version": 3
   },
   "file_extension": ".py",
   "mimetype": "text/x-python",
   "name": "python",
   "nbconvert_exporter": "python",
   "pygments_lexer": "ipython3",
   "version": "3.6.12"
  }
 },
 "nbformat": 4,
 "nbformat_minor": 4
}
