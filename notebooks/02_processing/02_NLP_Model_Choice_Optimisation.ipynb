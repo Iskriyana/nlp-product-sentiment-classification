{
 "cells": [
  {
   "cell_type": "code",
   "execution_count": 1,
   "metadata": {},
   "outputs": [],
   "source": [
    "import datetime\n",
    "import json\n",
    "import keras\n",
    "import matplotlib.pyplot as plt\n",
    "import numpy as np\n",
    "import os\n",
    "import pandas as pd\n",
    "import pickle\n",
    "import seaborn as sns\n",
    "import sys\n",
    "import tensorflow as tf\n",
    "\n",
    "from collections import Counter\n",
    "from imblearn.over_sampling import SMOTE\n",
    "from keras import layers\n",
    "from keras import models\n",
    "from keras import regularizers\n",
    "from keras import utils\n",
    "from keras.utils import to_categorical\n",
    "from sklearn.dummy import DummyClassifier\n",
    "# to run validation on multiple metrics\n",
    "from sklearn.model_selection import cross_validate\n",
    "from sklearn.model_selection import KFold\n",
    "from tensorflow import keras\n",
    "from tensorflow.keras.models import save_model\n",
    "\n",
    "\n",
    "%matplotlib inline"
   ]
  },
  {
   "cell_type": "markdown",
   "metadata": {},
   "source": [
    "# Preparation Steps"
   ]
  },
  {
   "cell_type": "code",
   "execution_count": 2,
   "metadata": {},
   "outputs": [],
   "source": [
    "# folders\n",
    "home = os.getenv(\"HOME\")\n",
    "nlp_repo = os.path.join(home, 'git/nlp-product-sentiment-classification')\n",
    "\n",
    "# data\n",
    "train_csv_path = os.path.join(nlp_repo, 'data/03_processed/Train.csv')\n",
    "train_descr = pd.read_csv(train_csv_path)\n",
    "\n",
    "test_csv_path = os.path.join(nlp_repo, 'data/03_processed/Test.csv')\n",
    "test_descr = pd.read_csv(test_csv_path)\n",
    "\n",
    "# encoded tokens\n",
    "preprocessed_corpus_path_TF = os.path.join(\n",
    "    nlp_repo, 'data/03_processed/product_descr_preprocessed_TF.p')\n",
    "\n",
    "preprocessed_corpus_path_TF_oh = os.path.join(\n",
    "    nlp_repo, 'data/03_processed/product_descr_preprocessed_TF_oh.p')"
   ]
  },
  {
   "cell_type": "markdown",
   "metadata": {},
   "source": [
    "# Define Parameter Dictionary\n",
    "\n",
    "This dictionary contains all the parameters necessary for the model training. It is going to be saved with the trained model in order to log it. \n",
    "\n",
    "\n",
    "Inputs before running a new experiment: \n",
    "1. Define experiment name\n",
    "2. Define model architecture and hyperparameters"
   ]
  },
  {
   "cell_type": "code",
   "execution_count": 3,
   "metadata": {},
   "outputs": [
    {
     "name": "stdout",
     "output_type": "stream",
     "text": [
      "Log results to logs/experiments/all_models_no_counter_overfitting_2020_12_10-19:35\n"
     ]
    }
   ],
   "source": [
    "logging = True\n",
    "\n",
    "saving = True\n",
    "\n",
    "PARAMS = {\n",
    "\n",
    "    # Define experiment name:\n",
    "    'experiment_name': 'all_models_no_counter_overfitting',\n",
    "\n",
    "    # List of models\n",
    "    'model_type': ['bow', 'fc_emb', 'fc_transf', 'lstm', 'lstm_transf', 'conv1d', 'conv1d_transf'],\n",
    "\n",
    "    # Parameters general:\n",
    "    'number_of_classes': len(np.unique(train_descr['Sentiment'])),\n",
    "    'n_splits': 4,\n",
    "    'seed': 42,\n",
    "    'batch_size': 32,  # [16, 32, 64],\n",
    "    'epochs': 15,\n",
    "    'hidden_units': 32,  # [16, 32, 64],\n",
    "\n",
    "    # NLP Parameters\n",
    "    # max_words = vocabulary size = our samples - number of most frequent words.\n",
    "    # I set it to 10.000, although in this case there are less.\n",
    "    # I do this to parametise the code.\n",
    "    # Aleternatively, I can set it to the length of our vocabulary = word_index\n",
    "    'max_words': 10000,\n",
    "\n",
    "    # embedding_size = embedding dimensionality\n",
    "    'embedding_size': 30,  # [10, 20, 30, 100],\n",
    "\n",
    "    # Parameters for pre-trained word embeddings:\n",
    "    'embedding_dim': 100,\n",
    "\n",
    "    # Parameters for the Conv1D:\n",
    "    'conv_window': 5,  # [3, 5, 7],\n",
    "\n",
    "    # Cross-fold validation:\n",
    "    'k': 4,\n",
    "}\n",
    "\n",
    "logdir = f'logs/experiments/{PARAMS[\"experiment_name\"]}_' + \\\n",
    "    datetime.datetime.now().strftime(\"%Y_%m_%d-%H:%M\")\n",
    "logdir_tb = f'logs/tensorboard/experiments/{PARAMS[\"experiment_name\"]}_' + \\\n",
    "    datetime.datetime.now().strftime(\"%Y_%m_%d-%H:%M\")\n",
    "\n",
    "# create logging folder and tensorboard callback function\n",
    "if logging:\n",
    "    print(f'Log results to {logdir}')\n",
    "    if not os.path.exists(logdir):\n",
    "        os.makedirs(logdir)\n",
    "\n",
    "    tensorboard_callbacks = [tf.keras.callbacks.TensorBoard(log_dir=logdir_tb)]\n",
    "\n",
    "else:\n",
    "    logdir = ''\n",
    "    logdir_tb = ''\n",
    "    tensorboard_callbacks = []"
   ]
  },
  {
   "cell_type": "markdown",
   "metadata": {},
   "source": [
    "# Load Tokens and Vocabulary"
   ]
  },
  {
   "cell_type": "code",
   "execution_count": 4,
   "metadata": {},
   "outputs": [],
   "source": [
    "def load_data(path_to_corpus, one_hot=False):\n",
    "    if not one_hot:\n",
    "        sequences, word_index = pd.read_pickle(path_to_corpus)\n",
    "\n",
    "        # max_len = sequence length - the text is cut off after this number of words\n",
    "        # in this case it is defined as the maximum sequence length in our list of tokenised sequences\n",
    "        max_len = np.max([len(x) for x in sequences])\n",
    "        data = tf.keras.preprocessing.sequence.pad_sequences(\n",
    "            sequences, maxlen=max_len)\n",
    "    else:\n",
    "        sequences, word_index = pd.read_pickle(path_to_corpus)\n",
    "        data = sequences\n",
    "\n",
    "    labels = train_descr.loc[:, 'Sentiment'].to_list()\n",
    "\n",
    "    return sequences, word_index, data, labels"
   ]
  },
  {
   "cell_type": "markdown",
   "metadata": {},
   "source": [
    "for bag-of-words with one-hot encoded tokens"
   ]
  },
  {
   "cell_type": "code",
   "execution_count": 5,
   "metadata": {},
   "outputs": [
    {
     "data": {
      "text/plain": [
       "(6364, 10000)"
      ]
     },
     "execution_count": 5,
     "metadata": {},
     "output_type": "execute_result"
    }
   ],
   "source": [
    "sequences_oh, word_index_oh, data_oh, labels_oh = load_data(\n",
    "    preprocessed_corpus_path_TF_oh, one_hot=True)\n",
    "sequences_oh.shape"
   ]
  },
  {
   "cell_type": "markdown",
   "metadata": {},
   "source": [
    "for the models with embedding layer"
   ]
  },
  {
   "cell_type": "code",
   "execution_count": 6,
   "metadata": {},
   "outputs": [
    {
     "name": "stdout",
     "output_type": "stream",
     "text": [
      "Shape of sequences after padding is (6364, 25)\n"
     ]
    }
   ],
   "source": [
    "sequences, word_index, data, labels = load_data(preprocessed_corpus_path_TF)\n",
    "print(f'Shape of sequences after padding is {data.shape}')"
   ]
  },
  {
   "cell_type": "markdown",
   "metadata": {},
   "source": [
    "Add max_len to parameters dictionary"
   ]
  },
  {
   "cell_type": "code",
   "execution_count": 7,
   "metadata": {},
   "outputs": [],
   "source": [
    "max_len = np.max([len(x) for x in sequences])\n",
    "PARAMS['max_len'] = max_len"
   ]
  },
  {
   "cell_type": "markdown",
   "metadata": {},
   "source": [
    "# Preparation for the Pre-Trained Embeddings"
   ]
  },
  {
   "cell_type": "code",
   "execution_count": 8,
   "metadata": {},
   "outputs": [],
   "source": [
    "glove_dir = './glove.6B'"
   ]
  },
  {
   "cell_type": "code",
   "execution_count": 9,
   "metadata": {},
   "outputs": [
    {
     "name": "stdout",
     "output_type": "stream",
     "text": [
      "Found 400000 word vectors.\n"
     ]
    }
   ],
   "source": [
    "embeddings_index = {}\n",
    "\n",
    "f = open(os.path.join(glove_dir, 'glove.6B.100d.txt'))\n",
    "for line in f:\n",
    "    values = line.split()\n",
    "    word = values[0]\n",
    "    coefs = np.asarray(values[1:], dtype='float32')\n",
    "    embeddings_index[word] = coefs\n",
    "f.close()\n",
    "\n",
    "print('Found %s word vectors.' % len(embeddings_index))"
   ]
  },
  {
   "cell_type": "code",
   "execution_count": 10,
   "metadata": {},
   "outputs": [
    {
     "name": "stdout",
     "output_type": "stream",
     "text": [
      "(10001, 100)\n"
     ]
    }
   ],
   "source": [
    "embedding_matrix = np.zeros((PARAMS['max_words']+1, PARAMS['embedding_dim']))\n",
    "\n",
    "for word, i in word_index.items():\n",
    "    if i < PARAMS['max_words']:\n",
    "        embedding_vector = embeddings_index.get(word)\n",
    "        if embedding_vector is not None:\n",
    "            embedding_matrix[i] = embedding_vector\n",
    "print(embedding_matrix.shape)"
   ]
  },
  {
   "cell_type": "markdown",
   "metadata": {},
   "source": [
    "# Train-Test Split"
   ]
  },
  {
   "cell_type": "code",
   "execution_count": 11,
   "metadata": {},
   "outputs": [],
   "source": [
    "def train_test_split(data, labels):\n",
    "    dimensions_labels = PARAMS['number_of_classes']\n",
    "\n",
    "    indices = np.arange(data.shape[0])\n",
    "    np.random.shuffle(indices)\n",
    "\n",
    "    data = data[indices]\n",
    "    labels = np.asarray(labels)\n",
    "    labels = labels[indices]\n",
    "\n",
    "    training_samples = int(0.8 * len(data))\n",
    "\n",
    "    x_train = data[:training_samples]\n",
    "    y_train = labels[:training_samples]\n",
    "\n",
    "    x_test = data[training_samples:]\n",
    "    y_test = labels[training_samples:]\n",
    "\n",
    "    y_train_oh = tf.one_hot(indices=y_train, depth=dimensions_labels)\n",
    "    y_train_oh = np.asarray(y_train_oh)\n",
    "\n",
    "    y_test_oh = tf.one_hot(indices=y_test, depth=dimensions_labels)\n",
    "    y_test_oh = np.asarray(y_test_oh)\n",
    "\n",
    "    return x_train, y_train_oh, x_test, y_test_oh"
   ]
  },
  {
   "cell_type": "code",
   "execution_count": 12,
   "metadata": {},
   "outputs": [],
   "source": [
    "x_train, y_train, x_test, y_test = train_test_split(data, labels)\n",
    "\n",
    "x_train_oh, y_train_oh, x_test_oh, y_test_oh = train_test_split(\n",
    "    data_oh, labels_oh)"
   ]
  },
  {
   "cell_type": "markdown",
   "metadata": {},
   "source": [
    "# Oversample the Minority Classes"
   ]
  },
  {
   "cell_type": "code",
   "execution_count": 13,
   "metadata": {},
   "outputs": [],
   "source": [
    "def oversample_smote(x_train, y_train):\n",
    "    oversample = SMOTE()\n",
    "    x_train, y_train = oversample.fit_resample(x_train, y_train)\n",
    "\n",
    "    return x_train, y_train\n",
    "\n",
    "\n",
    "def plot_classes(y_train):\n",
    "    counter = Counter(y_train)\n",
    "    for k, v in counter.items():\n",
    "        per = v / len(y_train) * 100\n",
    "        print('Class=%d, n=%d (%.3f%%)' % (k, v, per))\n",
    "    # plot the distribution\n",
    "    plt.bar(counter.keys(), counter.values())\n",
    "    plt.show()"
   ]
  },
  {
   "cell_type": "markdown",
   "metadata": {},
   "source": [
    "# Generate a Model"
   ]
  },
  {
   "cell_type": "code",
   "execution_count": 14,
   "metadata": {},
   "outputs": [],
   "source": [
    "metrics = [\n",
    "    keras.metrics.CategoricalAccuracy(name='accuracy'),\n",
    "    keras.metrics.Precision(name='precision'),\n",
    "    keras.metrics.Recall(name='recall')]"
   ]
  },
  {
   "cell_type": "code",
   "execution_count": 15,
   "metadata": {},
   "outputs": [],
   "source": [
    "def generate_model(model_type, params_dict):\n",
    "    \"\"\"\n",
    "    This function compiles a model according to the chosen model_type\n",
    "    Args: \n",
    "        - model_type - which model type is to be used\n",
    "        - params_dict - dictionary with parameters for the model\n",
    "\n",
    "    Returns: \n",
    "        - a compiled model\n",
    "    \"\"\"\n",
    "\n",
    "    # set parameters\n",
    "    hidden_units = params_dict['hidden_units']\n",
    "    dimensions_labels = params_dict['number_of_classes']\n",
    "    max_words = params_dict['max_words']\n",
    "    max_len = params_dict['max_len']\n",
    "    embedding_size = params_dict['embedding_size']\n",
    "    embedding_dim = params_dict['embedding_dim']\n",
    "    conv_window = params_dict['conv_window']\n",
    "\n",
    "    # fully connected bag-of-words\n",
    "    if model_type == PARAMS['model_type'][0]:\n",
    "        model = models.Sequential()\n",
    "        model.add(layers.Dense(hidden_units, activation='relu',\n",
    "                               input_shape=(max_words, )))\n",
    "        model.add(layers.Dense(hidden_units, activation='relu'))\n",
    "        model.add(layers.Dense(dimensions_labels, activation='softmax'))\n",
    "\n",
    "    # fully connected & \"homegrown\" embeddings layer\n",
    "    elif model_type == PARAMS['model_type'][1]:\n",
    "        model = models.Sequential()\n",
    "        model.add(layers.Embedding(max_words+1,\n",
    "                                   embedding_size, input_length=max_len))\n",
    "        model.add(layers.Flatten())\n",
    "        model.add(layers.Dense(hidden_units, activation='relu'))\n",
    "        model.add(layers.Dense(hidden_units, activation='relu'))\n",
    "        model.add(layers.Dense(dimensions_labels, activation='softmax'))\n",
    "\n",
    "    # fully connected & a pre-trained embeddings layer\n",
    "    elif model_type == PARAMS['model_type'][2]:\n",
    "        model = models.Sequential()\n",
    "        model.add(layers.Embedding(max_words+1,\n",
    "                                   embedding_dim, input_length=max_len))\n",
    "        model.add(layers.Flatten())\n",
    "        model.add(layers.Dense(hidden_units, activation='relu'))\n",
    "        model.add(layers.Dense(hidden_units, activation='relu'))\n",
    "        model.add(layers.Dense(dimensions_labels, activation='softmax'))\n",
    "\n",
    "        model.layers[0].set_weights([embedding_matrix])  # !!!! important !!!!\n",
    "        model.layers[0].trainable = False\n",
    "\n",
    "    # lstm with \"homegrowm\" embeddings layer\n",
    "    elif model_type == PARAMS['model_type'][3]:\n",
    "        model = models.Sequential()\n",
    "        model.add(layers.Embedding(max_words+1,\n",
    "                                   embedding_dim, input_length=max_len))\n",
    "        model.add(layers.LSTM(hidden_units))\n",
    "        model.add(layers.Dense(hidden_units, activation='relu'))\n",
    "        model.add(layers.Dense(hidden_units, activation='relu'))\n",
    "        model.add(layers.Dense(dimensions_labels, activation='softmax'))\n",
    "\n",
    "    # lstm with pre-trained embeddings layer\n",
    "    elif model_type == PARAMS['model_type'][4]:\n",
    "        model = models.Sequential()\n",
    "        model.add(layers.Embedding(max_words+1,\n",
    "                                   embedding_dim, input_length=max_len))\n",
    "        model.add(layers.LSTM(hidden_units))\n",
    "        model.add(layers.Dense(hidden_units, activation='relu'))\n",
    "        model.add(layers.Dense(hidden_units, activation='relu'))\n",
    "        model.add(layers.Dense(dimensions_labels, activation='softmax'))\n",
    "\n",
    "        model.layers[0].set_weights(\n",
    "            [embedding_matrix])  # !!!! important !!!!\n",
    "        model.layers[0].trainable = False\n",
    "\n",
    "    # conv1D with \"homegrown\" embeddings layer\n",
    "    elif model_type == PARAMS['model_type'][5]:\n",
    "        model = models.Sequential()\n",
    "        model.add(layers.Embedding(max_words+1,\n",
    "                                   embedding_size, input_length=max_len))\n",
    "\n",
    "        model.add(layers.Conv1D(\n",
    "            hidden_units,  # features to be extracted\n",
    "            conv_window,  # convolutional window size\n",
    "            activation='relu',\n",
    "        ))\n",
    "        model.add(layers.Conv1D(hidden_units, conv_window, activation='relu'))\n",
    "        model.add(layers.GlobalMaxPooling1D())\n",
    "        model.add(layers.Dense(dimensions_labels, activation='softmax'))\n",
    "\n",
    "    # conv1D with pre-trained embeddings layer\n",
    "    elif model_type == PARAMS['model_type'][6]:\n",
    "        model = models.Sequential()\n",
    "        model.add(layers.Embedding(max_words+1,\n",
    "                                   embedding_dim, input_length=max_len))\n",
    "\n",
    "        model.add(layers.Conv1D(hidden_units, conv_window, activation='relu',))\n",
    "        model.add(layers.Conv1D(hidden_units, conv_window, activation='relu'))\n",
    "        model.add(layers.GlobalMaxPooling1D())\n",
    "        model.add(layers.Dense(dimensions_labels, activation='softmax'))\n",
    "\n",
    "        model.layers[0].set_weights([embedding_matrix])  # !!!! important !!!!\n",
    "        model.layers[0].trainable = False\n",
    "\n",
    "    model.summary()\n",
    "\n",
    "    model.compile(\n",
    "        optimizer='adam',\n",
    "        loss='categorical_crossentropy',\n",
    "        metrics=metrics\n",
    "    )\n",
    "\n",
    "    return model"
   ]
  },
  {
   "cell_type": "markdown",
   "metadata": {},
   "source": [
    "# Training with Cross-Validation (incl. Upsampling)"
   ]
  },
  {
   "cell_type": "markdown",
   "metadata": {},
   "source": [
    "* Due to the small data quantity, cross-validation will be used to train the models.\n",
    "* Furthermore, as the classes are imbalanced, an oversampling will be introduced. ! It is important to generate the training and validation sets BEFORE the upsampling. Otherwise the exact same observations could be present in both the train and validation sets, i.e. data leakage would occur. This can allow the model to simply memorize specific data points and cause overfitting and poor generalization on unseen data. \n",
    "* The oversampling will be applied only on the train set in order to ensure that the model generalises well on unseen data (validation set and ultimately test set)"
   ]
  },
  {
   "cell_type": "code",
   "execution_count": 16,
   "metadata": {},
   "outputs": [],
   "source": [
    "def train_with_cross_val(k, model, model_type, train_data, train_labels, epochs, batch_size, reg_mode=None, reg=False):\n",
    "    \"\"\"\n",
    "    This function applies a k-fold cross-validation and saves the model history per fold & epoch.\n",
    "    Args: \n",
    "        - k - number of folds\n",
    "        - model - compiled model\n",
    "        - model_type - which model type is to be used\n",
    "        - train_data - the tokenised, padded and shuffled sequences\n",
    "        - train_labels - labels \n",
    "        - epochs - number of epochs\n",
    "        - batch_size - batch size\n",
    "    \"\"\"\n",
    "    num_val_samples = len(train_data) // k\n",
    "\n",
    "    for i in range(k):\n",
    "        print('processing fold #', i)\n",
    "        val_data = train_data[i * num_val_samples:(i + 1) * num_val_samples]\n",
    "        val_labels = train_labels[i *\n",
    "                                  num_val_samples:(i + 1) * num_val_samples]\n",
    "\n",
    "        partial_train_data = np.concatenate(\n",
    "            [train_data[:i * num_val_samples],\n",
    "             train_data[(i + 1) * num_val_samples:]],\n",
    "            axis=0)\n",
    "\n",
    "        partial_train_labels = np.concatenate(\n",
    "            [train_labels[:i * num_val_samples],\n",
    "             train_labels[(i + 1) * num_val_samples:]],\n",
    "            axis=0\n",
    "        )\n",
    "\n",
    "        partial_train_data_ovs, partial_train_labels_ovs = oversample_smote(\n",
    "            partial_train_data, partial_train_labels)\n",
    "\n",
    "        history = model.fit(\n",
    "            partial_train_data_ovs, partial_train_labels_ovs,\n",
    "            epochs=epochs,\n",
    "            batch_size=batch_size,\n",
    "            verbose=0,\n",
    "            validation_data=(val_data, val_labels),\n",
    "            # callbacks=tensorboard_callbacks\n",
    "        )\n",
    "\n",
    "        if reg == False:\n",
    "            np.save(f'history_{model_type}_fold_{i}.npy', history.history)\n",
    "\n",
    "        else: \n",
    "            np.save(f'history_{model_type}_{reg_mode}_fold_{i}.npy', history.history)\n",
    "\n",
    "    if saving: \n",
    "        if reg:\n",
    "            path = os.path.join(logdir, f'{model_type}')\n",
    "            model.save(path)\n",
    "        else: \n",
    "            path = os.path.join(logdir, f'{model_type}_{reg_mode}')\n",
    "            model.save(path)"
   ]
  },
  {
   "cell_type": "markdown",
   "metadata": {},
   "source": [
    "# Baseline Model"
   ]
  },
  {
   "cell_type": "markdown",
   "metadata": {},
   "source": [
    "Idea Model: https://machinelearningmastery.com/imbalanced-multiclass-classification-with-the-glass-identification-dataset/\n",
    "\n",
    "Metrics: https://scikit-learn.org/stable/modules/model_evaluation.html\n",
    "\n",
    "\n",
    "* As the Fully Connected NN model's the precision, recall and f1 are calculcated unweighted, precision, recall & f1 are chosen to be macro\n",
    "* According to the sklearn-documentation this method calculates the metrics for each label, and finds their unweighted mean and does not take label imbalance into account.\n",
    "* Example documentation for precision: https://scikit-learn.org/stable/modules/generated/sklearn.metrics.precision_score.html\n",
    "\n",
    "Note: test_[metric] is validation and therefore comparable to the val_[metric] of the model."
   ]
  },
  {
   "cell_type": "code",
   "execution_count": 17,
   "metadata": {},
   "outputs": [],
   "source": [
    "scoring = ['accuracy', 'precision_macro', 'recall_macro', 'f1_macro']"
   ]
  },
  {
   "cell_type": "code",
   "execution_count": 18,
   "metadata": {},
   "outputs": [],
   "source": [
    "model_base = DummyClassifier(strategy='most_frequent')"
   ]
  },
  {
   "cell_type": "code",
   "execution_count": 19,
   "metadata": {},
   "outputs": [
    {
     "name": "stderr",
     "output_type": "stream",
     "text": [
      "/Users/iskriyanavasileva/opt/anaconda3/envs/nlp-sent/lib/python3.6/site-packages/sklearn/model_selection/_split.py:297: FutureWarning: Setting a random_state has no effect since shuffle is False. This will raise an error in 0.24. You should leave random_state to its default (None), or set shuffle=True.\n",
      "  FutureWarning\n"
     ]
    }
   ],
   "source": [
    "cv = KFold(n_splits=PARAMS['k'], random_state=PARAMS['seed'])\n",
    "\n",
    "scores = cross_validate(\n",
    "    model_base, x_train, y_train, scoring=scoring, cv=cv, n_jobs=-1)"
   ]
  },
  {
   "cell_type": "code",
   "execution_count": 20,
   "metadata": {},
   "outputs": [
    {
     "name": "stdout",
     "output_type": "stream",
     "text": [
      "Mean fit_time: 0.001 (0.000)\n",
      "Mean score_time: 0.013 (0.002)\n",
      "Mean test_accuracy: 0.596 (0.017)\n",
      "Mean test_precision_macro: 0.149 (0.004)\n",
      "Mean test_recall_macro: 0.250 (0.000)\n",
      "Mean test_f1_macro: 0.187 (0.003)\n"
     ]
    }
   ],
   "source": [
    "for metric, score in scores.items():\n",
    "    print(f'Mean {metric}: %.3f (%.3f)' %\n",
    "          (np.mean(score), np.std(score)))"
   ]
  },
  {
   "cell_type": "markdown",
   "metadata": {},
   "source": [
    "# Train the Model per Type"
   ]
  },
  {
   "cell_type": "code",
   "execution_count": 21,
   "metadata": {},
   "outputs": [
    {
     "name": "stdout",
     "output_type": "stream",
     "text": [
      "Model: \"sequential\"\n",
      "_________________________________________________________________\n",
      "Layer (type)                 Output Shape              Param #   \n",
      "=================================================================\n",
      "dense (Dense)                (None, 32)                320032    \n",
      "_________________________________________________________________\n",
      "dense_1 (Dense)              (None, 32)                1056      \n",
      "_________________________________________________________________\n",
      "dense_2 (Dense)              (None, 4)                 132       \n",
      "=================================================================\n",
      "Total params: 321,220\n",
      "Trainable params: 321,220\n",
      "Non-trainable params: 0\n",
      "_________________________________________________________________\n",
      "processing fold # 0\n"
     ]
    },
    {
     "name": "stderr",
     "output_type": "stream",
     "text": [
      "/Users/iskriyanavasileva/opt/anaconda3/envs/nlp-sent/lib/python3.6/site-packages/sklearn/utils/validation.py:70: FutureWarning: Pass classes=[0 1 2 3] as keyword args. From version 0.25 passing these as positional arguments will result in an error\n",
      "  FutureWarning)\n"
     ]
    },
    {
     "name": "stdout",
     "output_type": "stream",
     "text": [
      "processing fold # 1\n"
     ]
    },
    {
     "name": "stderr",
     "output_type": "stream",
     "text": [
      "/Users/iskriyanavasileva/opt/anaconda3/envs/nlp-sent/lib/python3.6/site-packages/sklearn/utils/validation.py:70: FutureWarning: Pass classes=[0 1 2 3] as keyword args. From version 0.25 passing these as positional arguments will result in an error\n",
      "  FutureWarning)\n"
     ]
    },
    {
     "name": "stdout",
     "output_type": "stream",
     "text": [
      "processing fold # 2\n"
     ]
    },
    {
     "name": "stderr",
     "output_type": "stream",
     "text": [
      "/Users/iskriyanavasileva/opt/anaconda3/envs/nlp-sent/lib/python3.6/site-packages/sklearn/utils/validation.py:70: FutureWarning: Pass classes=[0 1 2 3] as keyword args. From version 0.25 passing these as positional arguments will result in an error\n",
      "  FutureWarning)\n"
     ]
    },
    {
     "name": "stdout",
     "output_type": "stream",
     "text": [
      "processing fold # 3\n"
     ]
    },
    {
     "name": "stderr",
     "output_type": "stream",
     "text": [
      "/Users/iskriyanavasileva/opt/anaconda3/envs/nlp-sent/lib/python3.6/site-packages/sklearn/utils/validation.py:70: FutureWarning: Pass classes=[0 1 2 3] as keyword args. From version 0.25 passing these as positional arguments will result in an error\n",
      "  FutureWarning)\n"
     ]
    },
    {
     "name": "stdout",
     "output_type": "stream",
     "text": [
      "WARNING:tensorflow:From /Users/iskriyanavasileva/opt/anaconda3/envs/nlp-sent/lib/python3.6/site-packages/tensorflow/python/training/tracking/tracking.py:111: Model.state_updates (from tensorflow.python.keras.engine.training) is deprecated and will be removed in a future version.\n",
      "Instructions for updating:\n",
      "This property should not be used in TensorFlow 2.0, as updates are applied automatically.\n",
      "WARNING:tensorflow:From /Users/iskriyanavasileva/opt/anaconda3/envs/nlp-sent/lib/python3.6/site-packages/tensorflow/python/training/tracking/tracking.py:111: Layer.updates (from tensorflow.python.keras.engine.base_layer) is deprecated and will be removed in a future version.\n",
      "Instructions for updating:\n",
      "This property should not be used in TensorFlow 2.0, as updates are applied automatically.\n",
      "INFO:tensorflow:Assets written to: logs/experiments/all_models_no_counter_overfitting_2020_12_10-19:35/bow_None/assets\n",
      "Model: \"sequential_1\"\n",
      "_________________________________________________________________\n",
      "Layer (type)                 Output Shape              Param #   \n",
      "=================================================================\n",
      "embedding (Embedding)        (None, 25, 30)            300030    \n",
      "_________________________________________________________________\n",
      "flatten (Flatten)            (None, 750)               0         \n",
      "_________________________________________________________________\n",
      "dense_3 (Dense)              (None, 32)                24032     \n",
      "_________________________________________________________________\n",
      "dense_4 (Dense)              (None, 32)                1056      \n",
      "_________________________________________________________________\n",
      "dense_5 (Dense)              (None, 4)                 132       \n",
      "=================================================================\n",
      "Total params: 325,250\n",
      "Trainable params: 325,250\n",
      "Non-trainable params: 0\n",
      "_________________________________________________________________\n",
      "processing fold # 0\n"
     ]
    },
    {
     "name": "stderr",
     "output_type": "stream",
     "text": [
      "/Users/iskriyanavasileva/opt/anaconda3/envs/nlp-sent/lib/python3.6/site-packages/sklearn/utils/validation.py:70: FutureWarning: Pass classes=[0 1 2 3] as keyword args. From version 0.25 passing these as positional arguments will result in an error\n",
      "  FutureWarning)\n"
     ]
    },
    {
     "name": "stdout",
     "output_type": "stream",
     "text": [
      "processing fold # 1\n"
     ]
    },
    {
     "name": "stderr",
     "output_type": "stream",
     "text": [
      "/Users/iskriyanavasileva/opt/anaconda3/envs/nlp-sent/lib/python3.6/site-packages/sklearn/utils/validation.py:70: FutureWarning: Pass classes=[0 1 2 3] as keyword args. From version 0.25 passing these as positional arguments will result in an error\n",
      "  FutureWarning)\n"
     ]
    },
    {
     "name": "stdout",
     "output_type": "stream",
     "text": [
      "processing fold # 2\n"
     ]
    },
    {
     "name": "stderr",
     "output_type": "stream",
     "text": [
      "/Users/iskriyanavasileva/opt/anaconda3/envs/nlp-sent/lib/python3.6/site-packages/sklearn/utils/validation.py:70: FutureWarning: Pass classes=[0 1 2 3] as keyword args. From version 0.25 passing these as positional arguments will result in an error\n",
      "  FutureWarning)\n"
     ]
    },
    {
     "name": "stdout",
     "output_type": "stream",
     "text": [
      "processing fold # 3\n"
     ]
    },
    {
     "name": "stderr",
     "output_type": "stream",
     "text": [
      "/Users/iskriyanavasileva/opt/anaconda3/envs/nlp-sent/lib/python3.6/site-packages/sklearn/utils/validation.py:70: FutureWarning: Pass classes=[0 1 2 3] as keyword args. From version 0.25 passing these as positional arguments will result in an error\n",
      "  FutureWarning)\n"
     ]
    },
    {
     "name": "stdout",
     "output_type": "stream",
     "text": [
      "INFO:tensorflow:Assets written to: logs/experiments/all_models_no_counter_overfitting_2020_12_10-19:35/fc_emb_None/assets\n",
      "Model: \"sequential_2\"\n",
      "_________________________________________________________________\n",
      "Layer (type)                 Output Shape              Param #   \n",
      "=================================================================\n",
      "embedding_1 (Embedding)      (None, 25, 100)           1000100   \n",
      "_________________________________________________________________\n",
      "flatten_1 (Flatten)          (None, 2500)              0         \n",
      "_________________________________________________________________\n",
      "dense_6 (Dense)              (None, 32)                80032     \n",
      "_________________________________________________________________\n",
      "dense_7 (Dense)              (None, 32)                1056      \n",
      "_________________________________________________________________\n",
      "dense_8 (Dense)              (None, 4)                 132       \n",
      "=================================================================\n",
      "Total params: 1,081,320\n",
      "Trainable params: 81,220\n",
      "Non-trainable params: 1,000,100\n",
      "_________________________________________________________________\n",
      "processing fold # 0\n"
     ]
    },
    {
     "name": "stderr",
     "output_type": "stream",
     "text": [
      "/Users/iskriyanavasileva/opt/anaconda3/envs/nlp-sent/lib/python3.6/site-packages/sklearn/utils/validation.py:70: FutureWarning: Pass classes=[0 1 2 3] as keyword args. From version 0.25 passing these as positional arguments will result in an error\n",
      "  FutureWarning)\n"
     ]
    },
    {
     "name": "stdout",
     "output_type": "stream",
     "text": [
      "processing fold # 1\n"
     ]
    },
    {
     "name": "stderr",
     "output_type": "stream",
     "text": [
      "/Users/iskriyanavasileva/opt/anaconda3/envs/nlp-sent/lib/python3.6/site-packages/sklearn/utils/validation.py:70: FutureWarning: Pass classes=[0 1 2 3] as keyword args. From version 0.25 passing these as positional arguments will result in an error\n",
      "  FutureWarning)\n"
     ]
    },
    {
     "name": "stdout",
     "output_type": "stream",
     "text": [
      "processing fold # 2\n"
     ]
    },
    {
     "name": "stderr",
     "output_type": "stream",
     "text": [
      "/Users/iskriyanavasileva/opt/anaconda3/envs/nlp-sent/lib/python3.6/site-packages/sklearn/utils/validation.py:70: FutureWarning: Pass classes=[0 1 2 3] as keyword args. From version 0.25 passing these as positional arguments will result in an error\n",
      "  FutureWarning)\n"
     ]
    },
    {
     "name": "stdout",
     "output_type": "stream",
     "text": [
      "processing fold # 3\n"
     ]
    },
    {
     "name": "stderr",
     "output_type": "stream",
     "text": [
      "/Users/iskriyanavasileva/opt/anaconda3/envs/nlp-sent/lib/python3.6/site-packages/sklearn/utils/validation.py:70: FutureWarning: Pass classes=[0 1 2 3] as keyword args. From version 0.25 passing these as positional arguments will result in an error\n",
      "  FutureWarning)\n"
     ]
    },
    {
     "name": "stdout",
     "output_type": "stream",
     "text": [
      "INFO:tensorflow:Assets written to: logs/experiments/all_models_no_counter_overfitting_2020_12_10-19:35/fc_transf_None/assets\n",
      "Model: \"sequential_3\"\n",
      "_________________________________________________________________\n",
      "Layer (type)                 Output Shape              Param #   \n",
      "=================================================================\n",
      "embedding_2 (Embedding)      (None, 25, 100)           1000100   \n",
      "_________________________________________________________________\n",
      "lstm (LSTM)                  (None, 32)                17024     \n",
      "_________________________________________________________________\n",
      "dense_9 (Dense)              (None, 32)                1056      \n",
      "_________________________________________________________________\n",
      "dense_10 (Dense)             (None, 32)                1056      \n",
      "_________________________________________________________________\n",
      "dense_11 (Dense)             (None, 4)                 132       \n",
      "=================================================================\n",
      "Total params: 1,019,368\n",
      "Trainable params: 1,019,368\n",
      "Non-trainable params: 0\n",
      "_________________________________________________________________\n",
      "processing fold # 0\n"
     ]
    },
    {
     "name": "stderr",
     "output_type": "stream",
     "text": [
      "/Users/iskriyanavasileva/opt/anaconda3/envs/nlp-sent/lib/python3.6/site-packages/sklearn/utils/validation.py:70: FutureWarning: Pass classes=[0 1 2 3] as keyword args. From version 0.25 passing these as positional arguments will result in an error\n",
      "  FutureWarning)\n"
     ]
    },
    {
     "name": "stdout",
     "output_type": "stream",
     "text": [
      "processing fold # 1\n"
     ]
    },
    {
     "name": "stderr",
     "output_type": "stream",
     "text": [
      "/Users/iskriyanavasileva/opt/anaconda3/envs/nlp-sent/lib/python3.6/site-packages/sklearn/utils/validation.py:70: FutureWarning: Pass classes=[0 1 2 3] as keyword args. From version 0.25 passing these as positional arguments will result in an error\n",
      "  FutureWarning)\n"
     ]
    },
    {
     "name": "stdout",
     "output_type": "stream",
     "text": [
      "processing fold # 2\n"
     ]
    },
    {
     "name": "stderr",
     "output_type": "stream",
     "text": [
      "/Users/iskriyanavasileva/opt/anaconda3/envs/nlp-sent/lib/python3.6/site-packages/sklearn/utils/validation.py:70: FutureWarning: Pass classes=[0 1 2 3] as keyword args. From version 0.25 passing these as positional arguments will result in an error\n",
      "  FutureWarning)\n"
     ]
    },
    {
     "name": "stdout",
     "output_type": "stream",
     "text": [
      "processing fold # 3\n"
     ]
    },
    {
     "name": "stderr",
     "output_type": "stream",
     "text": [
      "/Users/iskriyanavasileva/opt/anaconda3/envs/nlp-sent/lib/python3.6/site-packages/sklearn/utils/validation.py:70: FutureWarning: Pass classes=[0 1 2 3] as keyword args. From version 0.25 passing these as positional arguments will result in an error\n",
      "  FutureWarning)\n"
     ]
    },
    {
     "name": "stdout",
     "output_type": "stream",
     "text": [
      "INFO:tensorflow:Assets written to: logs/experiments/all_models_no_counter_overfitting_2020_12_10-19:35/lstm_None/assets\n",
      "Model: \"sequential_4\"\n",
      "_________________________________________________________________\n",
      "Layer (type)                 Output Shape              Param #   \n",
      "=================================================================\n",
      "embedding_3 (Embedding)      (None, 25, 100)           1000100   \n",
      "_________________________________________________________________\n",
      "lstm_1 (LSTM)                (None, 32)                17024     \n",
      "_________________________________________________________________\n",
      "dense_12 (Dense)             (None, 32)                1056      \n",
      "_________________________________________________________________\n",
      "dense_13 (Dense)             (None, 32)                1056      \n",
      "_________________________________________________________________\n",
      "dense_14 (Dense)             (None, 4)                 132       \n",
      "=================================================================\n",
      "Total params: 1,019,368\n",
      "Trainable params: 19,268\n",
      "Non-trainable params: 1,000,100\n",
      "_________________________________________________________________\n",
      "processing fold # 0\n"
     ]
    },
    {
     "name": "stderr",
     "output_type": "stream",
     "text": [
      "/Users/iskriyanavasileva/opt/anaconda3/envs/nlp-sent/lib/python3.6/site-packages/sklearn/utils/validation.py:70: FutureWarning: Pass classes=[0 1 2 3] as keyword args. From version 0.25 passing these as positional arguments will result in an error\n",
      "  FutureWarning)\n"
     ]
    },
    {
     "name": "stdout",
     "output_type": "stream",
     "text": [
      "processing fold # 1\n"
     ]
    },
    {
     "name": "stderr",
     "output_type": "stream",
     "text": [
      "/Users/iskriyanavasileva/opt/anaconda3/envs/nlp-sent/lib/python3.6/site-packages/sklearn/utils/validation.py:70: FutureWarning: Pass classes=[0 1 2 3] as keyword args. From version 0.25 passing these as positional arguments will result in an error\n",
      "  FutureWarning)\n"
     ]
    },
    {
     "name": "stdout",
     "output_type": "stream",
     "text": [
      "processing fold # 2\n"
     ]
    },
    {
     "name": "stderr",
     "output_type": "stream",
     "text": [
      "/Users/iskriyanavasileva/opt/anaconda3/envs/nlp-sent/lib/python3.6/site-packages/sklearn/utils/validation.py:70: FutureWarning: Pass classes=[0 1 2 3] as keyword args. From version 0.25 passing these as positional arguments will result in an error\n",
      "  FutureWarning)\n"
     ]
    },
    {
     "name": "stdout",
     "output_type": "stream",
     "text": [
      "processing fold # 3\n"
     ]
    },
    {
     "name": "stderr",
     "output_type": "stream",
     "text": [
      "/Users/iskriyanavasileva/opt/anaconda3/envs/nlp-sent/lib/python3.6/site-packages/sklearn/utils/validation.py:70: FutureWarning: Pass classes=[0 1 2 3] as keyword args. From version 0.25 passing these as positional arguments will result in an error\n",
      "  FutureWarning)\n"
     ]
    },
    {
     "name": "stdout",
     "output_type": "stream",
     "text": [
      "INFO:tensorflow:Assets written to: logs/experiments/all_models_no_counter_overfitting_2020_12_10-19:35/lstm_transf_None/assets\n",
      "Model: \"sequential_5\"\n",
      "_________________________________________________________________\n",
      "Layer (type)                 Output Shape              Param #   \n",
      "=================================================================\n",
      "embedding_4 (Embedding)      (None, 25, 30)            300030    \n",
      "_________________________________________________________________\n",
      "conv1d (Conv1D)              (None, 21, 32)            4832      \n",
      "_________________________________________________________________\n",
      "conv1d_1 (Conv1D)            (None, 17, 32)            5152      \n",
      "_________________________________________________________________\n",
      "global_max_pooling1d (Global (None, 32)                0         \n",
      "_________________________________________________________________\n",
      "dense_15 (Dense)             (None, 4)                 132       \n",
      "=================================================================\n",
      "Total params: 310,146\n",
      "Trainable params: 310,146\n",
      "Non-trainable params: 0\n",
      "_________________________________________________________________\n",
      "processing fold # 0\n"
     ]
    },
    {
     "name": "stderr",
     "output_type": "stream",
     "text": [
      "/Users/iskriyanavasileva/opt/anaconda3/envs/nlp-sent/lib/python3.6/site-packages/sklearn/utils/validation.py:70: FutureWarning: Pass classes=[0 1 2 3] as keyword args. From version 0.25 passing these as positional arguments will result in an error\n",
      "  FutureWarning)\n"
     ]
    },
    {
     "name": "stdout",
     "output_type": "stream",
     "text": [
      "processing fold # 1\n"
     ]
    },
    {
     "name": "stderr",
     "output_type": "stream",
     "text": [
      "/Users/iskriyanavasileva/opt/anaconda3/envs/nlp-sent/lib/python3.6/site-packages/sklearn/utils/validation.py:70: FutureWarning: Pass classes=[0 1 2 3] as keyword args. From version 0.25 passing these as positional arguments will result in an error\n",
      "  FutureWarning)\n"
     ]
    },
    {
     "name": "stdout",
     "output_type": "stream",
     "text": [
      "processing fold # 2\n"
     ]
    },
    {
     "name": "stderr",
     "output_type": "stream",
     "text": [
      "/Users/iskriyanavasileva/opt/anaconda3/envs/nlp-sent/lib/python3.6/site-packages/sklearn/utils/validation.py:70: FutureWarning: Pass classes=[0 1 2 3] as keyword args. From version 0.25 passing these as positional arguments will result in an error\n",
      "  FutureWarning)\n"
     ]
    },
    {
     "name": "stdout",
     "output_type": "stream",
     "text": [
      "processing fold # 3\n"
     ]
    },
    {
     "name": "stderr",
     "output_type": "stream",
     "text": [
      "/Users/iskriyanavasileva/opt/anaconda3/envs/nlp-sent/lib/python3.6/site-packages/sklearn/utils/validation.py:70: FutureWarning: Pass classes=[0 1 2 3] as keyword args. From version 0.25 passing these as positional arguments will result in an error\n",
      "  FutureWarning)\n"
     ]
    },
    {
     "name": "stdout",
     "output_type": "stream",
     "text": [
      "INFO:tensorflow:Assets written to: logs/experiments/all_models_no_counter_overfitting_2020_12_10-19:35/conv1d_None/assets\n",
      "Model: \"sequential_6\"\n",
      "_________________________________________________________________\n",
      "Layer (type)                 Output Shape              Param #   \n",
      "=================================================================\n",
      "embedding_5 (Embedding)      (None, 25, 100)           1000100   \n",
      "_________________________________________________________________\n",
      "conv1d_2 (Conv1D)            (None, 21, 32)            16032     \n",
      "_________________________________________________________________\n",
      "conv1d_3 (Conv1D)            (None, 17, 32)            5152      \n",
      "_________________________________________________________________\n",
      "global_max_pooling1d_1 (Glob (None, 32)                0         \n",
      "_________________________________________________________________\n",
      "dense_16 (Dense)             (None, 4)                 132       \n",
      "=================================================================\n",
      "Total params: 1,021,416\n",
      "Trainable params: 21,316\n",
      "Non-trainable params: 1,000,100\n",
      "_________________________________________________________________\n",
      "processing fold # 0\n"
     ]
    },
    {
     "name": "stderr",
     "output_type": "stream",
     "text": [
      "/Users/iskriyanavasileva/opt/anaconda3/envs/nlp-sent/lib/python3.6/site-packages/sklearn/utils/validation.py:70: FutureWarning: Pass classes=[0 1 2 3] as keyword args. From version 0.25 passing these as positional arguments will result in an error\n",
      "  FutureWarning)\n"
     ]
    },
    {
     "name": "stdout",
     "output_type": "stream",
     "text": [
      "processing fold # 1\n"
     ]
    },
    {
     "name": "stderr",
     "output_type": "stream",
     "text": [
      "/Users/iskriyanavasileva/opt/anaconda3/envs/nlp-sent/lib/python3.6/site-packages/sklearn/utils/validation.py:70: FutureWarning: Pass classes=[0 1 2 3] as keyword args. From version 0.25 passing these as positional arguments will result in an error\n",
      "  FutureWarning)\n"
     ]
    },
    {
     "name": "stdout",
     "output_type": "stream",
     "text": [
      "processing fold # 2\n"
     ]
    },
    {
     "name": "stderr",
     "output_type": "stream",
     "text": [
      "/Users/iskriyanavasileva/opt/anaconda3/envs/nlp-sent/lib/python3.6/site-packages/sklearn/utils/validation.py:70: FutureWarning: Pass classes=[0 1 2 3] as keyword args. From version 0.25 passing these as positional arguments will result in an error\n",
      "  FutureWarning)\n"
     ]
    },
    {
     "name": "stdout",
     "output_type": "stream",
     "text": [
      "processing fold # 3\n"
     ]
    },
    {
     "name": "stderr",
     "output_type": "stream",
     "text": [
      "/Users/iskriyanavasileva/opt/anaconda3/envs/nlp-sent/lib/python3.6/site-packages/sklearn/utils/validation.py:70: FutureWarning: Pass classes=[0 1 2 3] as keyword args. From version 0.25 passing these as positional arguments will result in an error\n",
      "  FutureWarning)\n"
     ]
    },
    {
     "name": "stdout",
     "output_type": "stream",
     "text": [
      "INFO:tensorflow:Assets written to: logs/experiments/all_models_no_counter_overfitting_2020_12_10-19:35/conv1d_transf_None/assets\n"
     ]
    }
   ],
   "source": [
    "for model_type in PARAMS['model_type']:\n",
    "    model = generate_model(model_type, PARAMS)\n",
    "\n",
    "    if model_type == PARAMS['model_type'][0]:\n",
    "        train_with_cross_val(PARAMS['k'], model, model_type, x_train_oh,\n",
    "                             y_train_oh, PARAMS['epochs'], PARAMS['batch_size'])\n",
    "    else:\n",
    "        train_with_cross_val(\n",
    "            PARAMS['k'], model, model_type, x_train, y_train, PARAMS['epochs'], PARAMS['batch_size'])"
   ]
  },
  {
   "cell_type": "markdown",
   "metadata": {},
   "source": [
    "# Evaluate the Models"
   ]
  },
  {
   "cell_type": "markdown",
   "metadata": {},
   "source": [
    "### Generate a Metrics Dataframe"
   ]
  },
  {
   "cell_type": "code",
   "execution_count": 22,
   "metadata": {},
   "outputs": [],
   "source": [
    "history_all_df = pd.DataFrame()\n",
    "\n",
    "for model_type in PARAMS['model_type']:\n",
    "    for i in range(PARAMS['k']):\n",
    "        history = np.load(\n",
    "            f'history_{model_type}_fold_{i}.npy', allow_pickle='TRUE').item()\n",
    "        history['model_type'] = model_type\n",
    "\n",
    "        history_df = pd.DataFrame(history)\n",
    "\n",
    "        history_df['f1'] = 2 * history_df.precision * \\\n",
    "            history_df.recall/(history_df.precision + history_df.recall)\n",
    "        history_df['f1'] = history_df['f1'].fillna(0)\n",
    "        history_df['val_f1'] = 2 * history_df.val_precision * \\\n",
    "            history_df.val_recall / \\\n",
    "            (history_df.val_precision + history_df.val_recall)\n",
    "        history_df['val_f1'] = history_df['val_f1'].fillna(0)\n",
    "\n",
    "        history_all_df = history_all_df.append(history_df)\n",
    "\n",
    "history_all_df\n",
    "history_all_df_pivot = history_all_df.pivot_table(columns=['model_type'],\n",
    "                                                  values=['loss', 'val_loss', 'accuracy', 'val_accuracy', 'precision', 'val_precision', 'f1', 'val_f1'])"
   ]
  },
  {
   "cell_type": "code",
   "execution_count": 23,
   "metadata": {},
   "outputs": [
    {
     "data": {
      "text/html": [
       "<div>\n",
       "<style scoped>\n",
       "    .dataframe tbody tr th:only-of-type {\n",
       "        vertical-align: middle;\n",
       "    }\n",
       "\n",
       "    .dataframe tbody tr th {\n",
       "        vertical-align: top;\n",
       "    }\n",
       "\n",
       "    .dataframe thead th {\n",
       "        text-align: right;\n",
       "    }\n",
       "</style>\n",
       "<table border=\"1\" class=\"dataframe\">\n",
       "  <thead>\n",
       "    <tr style=\"text-align: right;\">\n",
       "      <th></th>\n",
       "      <th>loss</th>\n",
       "      <th>accuracy</th>\n",
       "      <th>precision</th>\n",
       "      <th>recall</th>\n",
       "      <th>val_loss</th>\n",
       "      <th>val_accuracy</th>\n",
       "      <th>val_precision</th>\n",
       "      <th>val_recall</th>\n",
       "      <th>model_type</th>\n",
       "      <th>f1</th>\n",
       "      <th>val_f1</th>\n",
       "    </tr>\n",
       "  </thead>\n",
       "  <tbody>\n",
       "    <tr>\n",
       "      <th>0</th>\n",
       "      <td>0.692325</td>\n",
       "      <td>0.750987</td>\n",
       "      <td>0.881567</td>\n",
       "      <td>0.513377</td>\n",
       "      <td>0.896139</td>\n",
       "      <td>0.636792</td>\n",
       "      <td>0.653716</td>\n",
       "      <td>0.608491</td>\n",
       "      <td>bow</td>\n",
       "      <td>0.648881</td>\n",
       "      <td>0.630293</td>\n",
       "    </tr>\n",
       "    <tr>\n",
       "      <th>1</th>\n",
       "      <td>0.239782</td>\n",
       "      <td>0.906140</td>\n",
       "      <td>0.911079</td>\n",
       "      <td>0.899890</td>\n",
       "      <td>1.046753</td>\n",
       "      <td>0.629717</td>\n",
       "      <td>0.638934</td>\n",
       "      <td>0.621855</td>\n",
       "      <td>bow</td>\n",
       "      <td>0.905450</td>\n",
       "      <td>0.630279</td>\n",
       "    </tr>\n",
       "    <tr>\n",
       "      <th>2</th>\n",
       "      <td>0.151948</td>\n",
       "      <td>0.942982</td>\n",
       "      <td>0.943944</td>\n",
       "      <td>0.941667</td>\n",
       "      <td>1.202263</td>\n",
       "      <td>0.621855</td>\n",
       "      <td>0.626710</td>\n",
       "      <td>0.612421</td>\n",
       "      <td>bow</td>\n",
       "      <td>0.942804</td>\n",
       "      <td>0.619483</td>\n",
       "    </tr>\n",
       "    <tr>\n",
       "      <th>3</th>\n",
       "      <td>0.116313</td>\n",
       "      <td>0.956360</td>\n",
       "      <td>0.956741</td>\n",
       "      <td>0.955482</td>\n",
       "      <td>1.340715</td>\n",
       "      <td>0.618711</td>\n",
       "      <td>0.621188</td>\n",
       "      <td>0.608491</td>\n",
       "      <td>bow</td>\n",
       "      <td>0.956111</td>\n",
       "      <td>0.614774</td>\n",
       "    </tr>\n",
       "    <tr>\n",
       "      <th>4</th>\n",
       "      <td>0.093521</td>\n",
       "      <td>0.964145</td>\n",
       "      <td>0.964333</td>\n",
       "      <td>0.963487</td>\n",
       "      <td>1.487245</td>\n",
       "      <td>0.610063</td>\n",
       "      <td>0.617977</td>\n",
       "      <td>0.605346</td>\n",
       "      <td>bow</td>\n",
       "      <td>0.963910</td>\n",
       "      <td>0.611596</td>\n",
       "    </tr>\n",
       "    <tr>\n",
       "      <th>...</th>\n",
       "      <td>...</td>\n",
       "      <td>...</td>\n",
       "      <td>...</td>\n",
       "      <td>...</td>\n",
       "      <td>...</td>\n",
       "      <td>...</td>\n",
       "      <td>...</td>\n",
       "      <td>...</td>\n",
       "      <td>...</td>\n",
       "      <td>...</td>\n",
       "      <td>...</td>\n",
       "    </tr>\n",
       "    <tr>\n",
       "      <th>10</th>\n",
       "      <td>0.267531</td>\n",
       "      <td>0.922624</td>\n",
       "      <td>0.943630</td>\n",
       "      <td>0.897559</td>\n",
       "      <td>0.840585</td>\n",
       "      <td>0.708333</td>\n",
       "      <td>0.727806</td>\n",
       "      <td>0.683176</td>\n",
       "      <td>conv1d_transf</td>\n",
       "      <td>0.920018</td>\n",
       "      <td>0.704785</td>\n",
       "    </tr>\n",
       "    <tr>\n",
       "      <th>11</th>\n",
       "      <td>0.235591</td>\n",
       "      <td>0.937881</td>\n",
       "      <td>0.954463</td>\n",
       "      <td>0.915976</td>\n",
       "      <td>0.875801</td>\n",
       "      <td>0.706761</td>\n",
       "      <td>0.713576</td>\n",
       "      <td>0.677673</td>\n",
       "      <td>conv1d_transf</td>\n",
       "      <td>0.934824</td>\n",
       "      <td>0.695161</td>\n",
       "    </tr>\n",
       "    <tr>\n",
       "      <th>12</th>\n",
       "      <td>0.211444</td>\n",
       "      <td>0.945292</td>\n",
       "      <td>0.958034</td>\n",
       "      <td>0.930471</td>\n",
       "      <td>0.950890</td>\n",
       "      <td>0.695755</td>\n",
       "      <td>0.713813</td>\n",
       "      <td>0.678459</td>\n",
       "      <td>conv1d_transf</td>\n",
       "      <td>0.944051</td>\n",
       "      <td>0.695687</td>\n",
       "    </tr>\n",
       "    <tr>\n",
       "      <th>13</th>\n",
       "      <td>0.184393</td>\n",
       "      <td>0.957062</td>\n",
       "      <td>0.967962</td>\n",
       "      <td>0.944965</td>\n",
       "      <td>1.005600</td>\n",
       "      <td>0.694969</td>\n",
       "      <td>0.708333</td>\n",
       "      <td>0.668239</td>\n",
       "      <td>conv1d_transf</td>\n",
       "      <td>0.956325</td>\n",
       "      <td>0.687702</td>\n",
       "    </tr>\n",
       "    <tr>\n",
       "      <th>14</th>\n",
       "      <td>0.162641</td>\n",
       "      <td>0.964037</td>\n",
       "      <td>0.973096</td>\n",
       "      <td>0.953901</td>\n",
       "      <td>1.076177</td>\n",
       "      <td>0.673742</td>\n",
       "      <td>0.690969</td>\n",
       "      <td>0.655660</td>\n",
       "      <td>conv1d_transf</td>\n",
       "      <td>0.963403</td>\n",
       "      <td>0.672852</td>\n",
       "    </tr>\n",
       "  </tbody>\n",
       "</table>\n",
       "<p>420 rows × 11 columns</p>\n",
       "</div>"
      ],
      "text/plain": [
       "        loss  accuracy  precision    recall  val_loss  val_accuracy  \\\n",
       "0   0.692325  0.750987   0.881567  0.513377  0.896139      0.636792   \n",
       "1   0.239782  0.906140   0.911079  0.899890  1.046753      0.629717   \n",
       "2   0.151948  0.942982   0.943944  0.941667  1.202263      0.621855   \n",
       "3   0.116313  0.956360   0.956741  0.955482  1.340715      0.618711   \n",
       "4   0.093521  0.964145   0.964333  0.963487  1.487245      0.610063   \n",
       "..       ...       ...        ...       ...       ...           ...   \n",
       "10  0.267531  0.922624   0.943630  0.897559  0.840585      0.708333   \n",
       "11  0.235591  0.937881   0.954463  0.915976  0.875801      0.706761   \n",
       "12  0.211444  0.945292   0.958034  0.930471  0.950890      0.695755   \n",
       "13  0.184393  0.957062   0.967962  0.944965  1.005600      0.694969   \n",
       "14  0.162641  0.964037   0.973096  0.953901  1.076177      0.673742   \n",
       "\n",
       "    val_precision  val_recall     model_type        f1    val_f1  \n",
       "0        0.653716    0.608491            bow  0.648881  0.630293  \n",
       "1        0.638934    0.621855            bow  0.905450  0.630279  \n",
       "2        0.626710    0.612421            bow  0.942804  0.619483  \n",
       "3        0.621188    0.608491            bow  0.956111  0.614774  \n",
       "4        0.617977    0.605346            bow  0.963910  0.611596  \n",
       "..            ...         ...            ...       ...       ...  \n",
       "10       0.727806    0.683176  conv1d_transf  0.920018  0.704785  \n",
       "11       0.713576    0.677673  conv1d_transf  0.934824  0.695161  \n",
       "12       0.713813    0.678459  conv1d_transf  0.944051  0.695687  \n",
       "13       0.708333    0.668239  conv1d_transf  0.956325  0.687702  \n",
       "14       0.690969    0.655660  conv1d_transf  0.963403  0.672852  \n",
       "\n",
       "[420 rows x 11 columns]"
      ]
     },
     "execution_count": 23,
     "metadata": {},
     "output_type": "execute_result"
    }
   ],
   "source": [
    "history_all_df"
   ]
  },
  {
   "cell_type": "code",
   "execution_count": 24,
   "metadata": {},
   "outputs": [
    {
     "data": {
      "text/html": [
       "<div>\n",
       "<style scoped>\n",
       "    .dataframe tbody tr th:only-of-type {\n",
       "        vertical-align: middle;\n",
       "    }\n",
       "\n",
       "    .dataframe tbody tr th {\n",
       "        vertical-align: top;\n",
       "    }\n",
       "\n",
       "    .dataframe thead th {\n",
       "        text-align: right;\n",
       "    }\n",
       "</style>\n",
       "<table border=\"1\" class=\"dataframe\">\n",
       "  <thead>\n",
       "    <tr style=\"text-align: right;\">\n",
       "      <th>model_type</th>\n",
       "      <th>bow</th>\n",
       "      <th>conv1d</th>\n",
       "      <th>conv1d_transf</th>\n",
       "      <th>fc_emb</th>\n",
       "      <th>fc_transf</th>\n",
       "      <th>lstm</th>\n",
       "      <th>lstm_transf</th>\n",
       "    </tr>\n",
       "  </thead>\n",
       "  <tbody>\n",
       "    <tr>\n",
       "      <th>accuracy</th>\n",
       "      <td>0.979164</td>\n",
       "      <td>0.920842</td>\n",
       "      <td>0.802191</td>\n",
       "      <td>0.940983</td>\n",
       "      <td>0.813003</td>\n",
       "      <td>0.896024</td>\n",
       "      <td>0.657149</td>\n",
       "    </tr>\n",
       "    <tr>\n",
       "      <th>f1</th>\n",
       "      <td>0.977444</td>\n",
       "      <td>0.911271</td>\n",
       "      <td>0.782324</td>\n",
       "      <td>0.934193</td>\n",
       "      <td>0.796249</td>\n",
       "      <td>0.885212</td>\n",
       "      <td>0.609696</td>\n",
       "    </tr>\n",
       "    <tr>\n",
       "      <th>loss</th>\n",
       "      <td>0.054970</td>\n",
       "      <td>0.225209</td>\n",
       "      <td>0.540143</td>\n",
       "      <td>0.150030</td>\n",
       "      <td>0.448712</td>\n",
       "      <td>0.257552</td>\n",
       "      <td>0.763271</td>\n",
       "    </tr>\n",
       "    <tr>\n",
       "      <th>precision</th>\n",
       "      <td>0.981552</td>\n",
       "      <td>0.938168</td>\n",
       "      <td>0.848759</td>\n",
       "      <td>0.957131</td>\n",
       "      <td>0.871357</td>\n",
       "      <td>0.922268</td>\n",
       "      <td>0.737335</td>\n",
       "    </tr>\n",
       "    <tr>\n",
       "      <th>val_accuracy</th>\n",
       "      <td>0.856198</td>\n",
       "      <td>0.786478</td>\n",
       "      <td>0.650865</td>\n",
       "      <td>0.808923</td>\n",
       "      <td>0.672262</td>\n",
       "      <td>0.764963</td>\n",
       "      <td>0.703852</td>\n",
       "    </tr>\n",
       "    <tr>\n",
       "      <th>val_f1</th>\n",
       "      <td>0.855930</td>\n",
       "      <td>0.782475</td>\n",
       "      <td>0.637965</td>\n",
       "      <td>0.806020</td>\n",
       "      <td>0.665042</td>\n",
       "      <td>0.761976</td>\n",
       "      <td>0.690564</td>\n",
       "    </tr>\n",
       "    <tr>\n",
       "      <th>val_loss</th>\n",
       "      <td>0.571285</td>\n",
       "      <td>0.872456</td>\n",
       "      <td>0.948236</td>\n",
       "      <td>0.712713</td>\n",
       "      <td>1.178585</td>\n",
       "      <td>1.085152</td>\n",
       "      <td>0.783851</td>\n",
       "    </tr>\n",
       "    <tr>\n",
       "      <th>val_precision</th>\n",
       "      <td>0.857685</td>\n",
       "      <td>0.804448</td>\n",
       "      <td>0.693138</td>\n",
       "      <td>0.819080</td>\n",
       "      <td>0.712370</td>\n",
       "      <td>0.780300</td>\n",
       "      <td>0.753092</td>\n",
       "    </tr>\n",
       "  </tbody>\n",
       "</table>\n",
       "</div>"
      ],
      "text/plain": [
       "model_type          bow    conv1d  conv1d_transf    fc_emb  fc_transf  \\\n",
       "accuracy       0.979164  0.920842       0.802191  0.940983   0.813003   \n",
       "f1             0.977444  0.911271       0.782324  0.934193   0.796249   \n",
       "loss           0.054970  0.225209       0.540143  0.150030   0.448712   \n",
       "precision      0.981552  0.938168       0.848759  0.957131   0.871357   \n",
       "val_accuracy   0.856198  0.786478       0.650865  0.808923   0.672262   \n",
       "val_f1         0.855930  0.782475       0.637965  0.806020   0.665042   \n",
       "val_loss       0.571285  0.872456       0.948236  0.712713   1.178585   \n",
       "val_precision  0.857685  0.804448       0.693138  0.819080   0.712370   \n",
       "\n",
       "model_type         lstm  lstm_transf  \n",
       "accuracy       0.896024     0.657149  \n",
       "f1             0.885212     0.609696  \n",
       "loss           0.257552     0.763271  \n",
       "precision      0.922268     0.737335  \n",
       "val_accuracy   0.764963     0.703852  \n",
       "val_f1         0.761976     0.690564  \n",
       "val_loss       1.085152     0.783851  \n",
       "val_precision  0.780300     0.753092  "
      ]
     },
     "execution_count": 24,
     "metadata": {},
     "output_type": "execute_result"
    }
   ],
   "source": [
    "history_all_df_pivot"
   ]
  },
  {
   "cell_type": "markdown",
   "metadata": {},
   "source": [
    "### Pick the 2 models with the highest F1-score"
   ]
  },
  {
   "cell_type": "markdown",
   "metadata": {},
   "source": [
    "* All of the models outperform the baseline model in all the metrics\n",
    "* The models before regularisation with the best F1-score are the bag-of-words and the \"homegrown\" embeddings\n",
    "* These two models will be optimised further and used for the final multi-input model"
   ]
  },
  {
   "cell_type": "code",
   "execution_count": 25,
   "metadata": {},
   "outputs": [
    {
     "data": {
      "text/plain": [
       "accuracy                 bow\n",
       "f1                       bow\n",
       "loss             lstm_transf\n",
       "precision                bow\n",
       "val_accuracy             bow\n",
       "val_f1                   bow\n",
       "val_loss           fc_transf\n",
       "val_precision            bow\n",
       "dtype: object"
      ]
     },
     "execution_count": 25,
     "metadata": {},
     "output_type": "execute_result"
    }
   ],
   "source": [
    "history_all_df_pivot.idxmax(axis=1)"
   ]
  },
  {
   "cell_type": "code",
   "execution_count": 26,
   "metadata": {},
   "outputs": [
    {
     "data": {
      "text/plain": [
       "0.8559298939896404"
      ]
     },
     "execution_count": 26,
     "metadata": {},
     "output_type": "execute_result"
    }
   ],
   "source": [
    "history_all_df_pivot.loc['val_f1', ].max()"
   ]
  },
  {
   "cell_type": "markdown",
   "metadata": {},
   "source": [
    "### Generate Summary Figures"
   ]
  },
  {
   "cell_type": "code",
   "execution_count": 27,
   "metadata": {},
   "outputs": [
    {
     "data": {
      "text/html": [
       "<div>\n",
       "<style scoped>\n",
       "    .dataframe tbody tr th:only-of-type {\n",
       "        vertical-align: middle;\n",
       "    }\n",
       "\n",
       "    .dataframe tbody tr th {\n",
       "        vertical-align: top;\n",
       "    }\n",
       "\n",
       "    .dataframe thead th {\n",
       "        text-align: right;\n",
       "    }\n",
       "</style>\n",
       "<table border=\"1\" class=\"dataframe\">\n",
       "  <thead>\n",
       "    <tr style=\"text-align: right;\">\n",
       "      <th></th>\n",
       "      <th>model_type</th>\n",
       "      <th>loss</th>\n",
       "      <th>accuracy</th>\n",
       "      <th>precision</th>\n",
       "      <th>recall</th>\n",
       "      <th>val_loss</th>\n",
       "      <th>val_accuracy</th>\n",
       "      <th>val_precision</th>\n",
       "      <th>val_recall</th>\n",
       "      <th>f1</th>\n",
       "      <th>val_f1</th>\n",
       "    </tr>\n",
       "  </thead>\n",
       "  <tbody>\n",
       "    <tr>\n",
       "      <th>0</th>\n",
       "      <td>bow</td>\n",
       "      <td>0.054970</td>\n",
       "      <td>0.979164</td>\n",
       "      <td>0.981552</td>\n",
       "      <td>0.974958</td>\n",
       "      <td>0.571285</td>\n",
       "      <td>0.856198</td>\n",
       "      <td>0.857685</td>\n",
       "      <td>0.854219</td>\n",
       "      <td>0.977444</td>\n",
       "      <td>0.855930</td>\n",
       "    </tr>\n",
       "    <tr>\n",
       "      <th>1</th>\n",
       "      <td>conv1d</td>\n",
       "      <td>0.225209</td>\n",
       "      <td>0.920842</td>\n",
       "      <td>0.938168</td>\n",
       "      <td>0.896968</td>\n",
       "      <td>0.872456</td>\n",
       "      <td>0.786478</td>\n",
       "      <td>0.804448</td>\n",
       "      <td>0.767322</td>\n",
       "      <td>0.911271</td>\n",
       "      <td>0.782475</td>\n",
       "    </tr>\n",
       "    <tr>\n",
       "      <th>2</th>\n",
       "      <td>conv1d_transf</td>\n",
       "      <td>0.540143</td>\n",
       "      <td>0.802191</td>\n",
       "      <td>0.848759</td>\n",
       "      <td>0.737852</td>\n",
       "      <td>0.948236</td>\n",
       "      <td>0.650865</td>\n",
       "      <td>0.693138</td>\n",
       "      <td>0.598192</td>\n",
       "      <td>0.782324</td>\n",
       "      <td>0.637965</td>\n",
       "    </tr>\n",
       "    <tr>\n",
       "      <th>3</th>\n",
       "      <td>fc_emb</td>\n",
       "      <td>0.150030</td>\n",
       "      <td>0.940983</td>\n",
       "      <td>0.957131</td>\n",
       "      <td>0.921031</td>\n",
       "      <td>0.712713</td>\n",
       "      <td>0.808923</td>\n",
       "      <td>0.819080</td>\n",
       "      <td>0.796161</td>\n",
       "      <td>0.934193</td>\n",
       "      <td>0.806020</td>\n",
       "    </tr>\n",
       "    <tr>\n",
       "      <th>4</th>\n",
       "      <td>fc_transf</td>\n",
       "      <td>0.448712</td>\n",
       "      <td>0.813003</td>\n",
       "      <td>0.871357</td>\n",
       "      <td>0.745761</td>\n",
       "      <td>1.178585</td>\n",
       "      <td>0.672262</td>\n",
       "      <td>0.712370</td>\n",
       "      <td>0.630595</td>\n",
       "      <td>0.796249</td>\n",
       "      <td>0.665042</td>\n",
       "    </tr>\n",
       "    <tr>\n",
       "      <th>5</th>\n",
       "      <td>lstm</td>\n",
       "      <td>0.257552</td>\n",
       "      <td>0.896024</td>\n",
       "      <td>0.922268</td>\n",
       "      <td>0.862243</td>\n",
       "      <td>1.085152</td>\n",
       "      <td>0.764963</td>\n",
       "      <td>0.780300</td>\n",
       "      <td>0.747681</td>\n",
       "      <td>0.885212</td>\n",
       "      <td>0.761976</td>\n",
       "    </tr>\n",
       "    <tr>\n",
       "      <th>6</th>\n",
       "      <td>lstm_transf</td>\n",
       "      <td>0.763271</td>\n",
       "      <td>0.657149</td>\n",
       "      <td>0.737335</td>\n",
       "      <td>0.528535</td>\n",
       "      <td>0.783851</td>\n",
       "      <td>0.703852</td>\n",
       "      <td>0.753092</td>\n",
       "      <td>0.647563</td>\n",
       "      <td>0.609696</td>\n",
       "      <td>0.690564</td>\n",
       "    </tr>\n",
       "  </tbody>\n",
       "</table>\n",
       "</div>"
      ],
      "text/plain": [
       "      model_type      loss  accuracy  precision    recall  val_loss  \\\n",
       "0            bow  0.054970  0.979164   0.981552  0.974958  0.571285   \n",
       "1         conv1d  0.225209  0.920842   0.938168  0.896968  0.872456   \n",
       "2  conv1d_transf  0.540143  0.802191   0.848759  0.737852  0.948236   \n",
       "3         fc_emb  0.150030  0.940983   0.957131  0.921031  0.712713   \n",
       "4      fc_transf  0.448712  0.813003   0.871357  0.745761  1.178585   \n",
       "5           lstm  0.257552  0.896024   0.922268  0.862243  1.085152   \n",
       "6    lstm_transf  0.763271  0.657149   0.737335  0.528535  0.783851   \n",
       "\n",
       "   val_accuracy  val_precision  val_recall        f1    val_f1  \n",
       "0      0.856198       0.857685    0.854219  0.977444  0.855930  \n",
       "1      0.786478       0.804448    0.767322  0.911271  0.782475  \n",
       "2      0.650865       0.693138    0.598192  0.782324  0.637965  \n",
       "3      0.808923       0.819080    0.796161  0.934193  0.806020  \n",
       "4      0.672262       0.712370    0.630595  0.796249  0.665042  \n",
       "5      0.764963       0.780300    0.747681  0.885212  0.761976  \n",
       "6      0.703852       0.753092    0.647563  0.609696  0.690564  "
      ]
     },
     "execution_count": 27,
     "metadata": {},
     "output_type": "execute_result"
    }
   ],
   "source": [
    "history_all_grouped = history_all_df.groupby('model_type').mean()\n",
    "history_all_grouped = history_all_grouped.reset_index()\n",
    "history_all_grouped"
   ]
  },
  {
   "cell_type": "code",
   "execution_count": 28,
   "metadata": {},
   "outputs": [
    {
     "data": {
      "image/png": "[encoded data removed]",
      "text/plain": [
       "<Figure size 1080x360 with 3 Axes>"
      ]
     },
     "metadata": {
      "needs_background": "light"
     },
     "output_type": "display_data"
    },
    {
     "data": {
      "image/png": "[encoded data removed]",
      "text/plain": [
       "<Figure size 1080x360 with 3 Axes>"
      ]
     },
     "metadata": {
      "needs_background": "light"
     },
     "output_type": "display_data"
    },
    {
     "data": {
      "image/png": "[encoded data removed]",
      "text/plain": [
       "<Figure size 1080x360 with 3 Axes>"
      ]
     },
     "metadata": {
      "needs_background": "light"
     },
     "output_type": "display_data"
    },
    {
     "data": {
      "image/png": "[encoded data removed]",
      "text/plain": [
       "<Figure size 1080x360 with 3 Axes>"
      ]
     },
     "metadata": {
      "needs_background": "light"
     },
     "output_type": "display_data"
    },
    {
     "data": {
      "image/png": "[encoded data removed]",
      "text/plain": [
       "<Figure size 1080x360 with 3 Axes>"
      ]
     },
     "metadata": {
      "needs_background": "light"
     },
     "output_type": "display_data"
    },
    {
     "data": {
      "image/png": "[encoded data removed]",
      "text/plain": [
       "<Figure size 1080x360 with 3 Axes>"
      ]
     },
     "metadata": {
      "needs_background": "light"
     },
     "output_type": "display_data"
    },
    {
     "data": {
      "image/png": "[encoded data removed]",
      "text/plain": [
       "<Figure size 1080x360 with 3 Axes>"
      ]
     },
     "metadata": {
      "needs_background": "light"
     },
     "output_type": "display_data"
    }
   ],
   "source": [
    "for model_type in PARAMS['model_type']:\n",
    "    fig = plt.figure(figsize=(15, 5))\n",
    "    ax = plt.subplot(131)\n",
    "\n",
    "    epochs = PARAMS['epochs']\n",
    "    epochs_graph = range(1, PARAMS['epochs'] + 1)\n",
    "    folds = PARAMS['k']\n",
    "\n",
    "    mask = history_all_df.loc[:, 'model_type'] == model_type\n",
    "\n",
    "    loss_all = history_all_df.loc[mask, 'loss'].to_list()\n",
    "    loss_prep = [loss_all[i * epochs:(i + 1) * epochs] for i in range(folds)]\n",
    "    loss = [np.mean([x[i] for x in loss_prep]) for i in range(epochs)]\n",
    "\n",
    "    val_loss_all = history_all_df.loc[mask, 'val_loss'].to_list()\n",
    "    val_loss_prep = [\n",
    "        val_loss_all[i * epochs:(i + 1) * epochs] for i in range(folds)]\n",
    "    val_loss = [np.mean([x[i] for x in val_loss_prep]) for i in range(epochs)]\n",
    "\n",
    "    accuracy_all = history_all_df.loc[mask, 'accuracy'].to_list()\n",
    "    accuracy_prep = [\n",
    "        accuracy_all[i * epochs:(i + 1) * epochs] for i in range(folds)]\n",
    "    accuracy = [np.mean([x[i] for x in accuracy_prep]) for i in range(epochs)]\n",
    "\n",
    "    val_accuracy_all = history_all_df.loc[mask, 'val_accuracy'].to_list()\n",
    "    val_accuracy_prep = [val_accuracy_all[i *\n",
    "                                          epochs:(i + 1) * epochs] for i in range(folds)]\n",
    "    val_accuracy = [np.mean([x[i] for x in val_accuracy_prep])\n",
    "                    for i in range(epochs)]\n",
    "\n",
    "    f1_all = history_all_df.loc[mask, 'f1'].to_list()\n",
    "    f1_prep = [f1_all[i * epochs:(i + 1) * epochs] for i in range(folds)]\n",
    "    f1 = [np.mean([x[i] for x in f1_prep]) for i in range(epochs)]\n",
    "\n",
    "    val_f1_all = history_all_df.loc[mask, 'val_f1'].to_list()\n",
    "    val_f1_prep = [val_f1_all[i * epochs:(i + 1) * epochs]\n",
    "                   for i in range(folds)]\n",
    "    val_f1 = [np.mean([x[i] for x in val_f1_prep]) for i in range(epochs)]\n",
    "\n",
    "    plt.plot(epochs_graph, loss, 'b')\n",
    "    plt.plot(epochs_graph, val_loss, 'r')\n",
    "    #plt.ylim([0, 1])\n",
    "    ax.set_ylabel('loss')\n",
    "    ax.set_xlabel('epochs')\n",
    "    ax.legend(['train', 'validation'])\n",
    "    plt.title(f'Train vs. Validation Loss {model_type}')\n",
    "\n",
    "    ax = plt.subplot(132)\n",
    "    plt.plot(epochs_graph, accuracy, 'b')\n",
    "    plt.plot(epochs_graph, val_accuracy, 'r')\n",
    "    plt.ylim([0, 1])\n",
    "    ax.set_ylabel('accuracy')\n",
    "    ax.set_xlabel('epochs')\n",
    "    ax.legend(['train', 'validation'])\n",
    "    plt.title(f'Train vs. Validation Accuracy {model_type}')\n",
    "\n",
    "    ax = plt.subplot(133)\n",
    "    plt.plot(epochs_graph, f1, 'b')\n",
    "    plt.plot(epochs_graph, val_f1, 'r')\n",
    "    plt.ylim([0, 1])\n",
    "    ax.set_ylabel('f1')\n",
    "    ax.set_xlabel('epochs')\n",
    "    ax.legend(['train', 'validation'])\n",
    "    plt.title(f'Train vs. Validation F1-Score {model_type}')\n",
    "\n",
    "    if logging:\n",
    "        if not os.path.exists(os.path.join(logdir, 'figures')):\n",
    "            os.makedirs(os.path.join(logdir, 'figures'))\n",
    "        fig.savefig(os.path.join(\n",
    "            logdir, f'figures/loss_accuracy_training_{model_type}.png'), bbox_inches='tight')"
   ]
  },
  {
   "cell_type": "markdown",
   "metadata": {},
   "source": [
    "# Regularization"
   ]
  },
  {
   "cell_type": "markdown",
   "metadata": {},
   "source": [
    "* Two models were found, which have very good performance on the training data, i.e. they are very well optimised. \n",
    "* With this the goal to find the best performance on the training data was achieved. \n",
    "* However, as a result they overfit, i.e. they do not perform well on data they have never seen before. The wide gap between loss vs. validation loss on the graphs above is an indicator of this. \n",
    "* Now, the models should be adjusted to perform well also on unseen data, i.e. to generalise better. \n",
    "* Several possibilites to do that - more data and / or modulate the quantity of information that the model is allowed to store or to add constraints on what information it’s allowed to store. If a network can only afford to memorize a small number of patterns, the optimization process will force it to focus on the most prominent patterns, which have a better chance of generalizing well.\n",
    "* The latter is called regularisation and this is what will be applied, as there is no additional data available. \n",
    "* Regularisation can be achieved by reducing the capacity of the model, adding weight regularisation or introducing dropout\n",
    "* As both models are not that complex, their capacity will not be reduced\n",
    "* Weights regularisation, Dropout & their combination will be tested"
   ]
  },
  {
   "cell_type": "code",
   "execution_count": 91,
   "metadata": {},
   "outputs": [],
   "source": [
    "def generate_model_reg(model_type, params_dict, reg_mode):\n",
    "    \"\"\"\n",
    "    This function compiles a model according to the chosen model_type\n",
    "    Args: \n",
    "        - model_type - which model type is to be used\n",
    "        - params_dict - dictionary with parameters for the model\n",
    "\n",
    "    Returns: \n",
    "        - a compiled model\n",
    "    \"\"\"\n",
    "\n",
    "    # set parameters\n",
    "    hidden_units = params_dict['hidden_units']\n",
    "    dimensions_labels = params_dict['number_of_classes']\n",
    "    max_words = params_dict['max_words']\n",
    "    max_len = params_dict['max_len']\n",
    "    embedding_size = params_dict['embedding_size']\n",
    "    embedding_dim = params_dict['embedding_dim']\n",
    "    conv_window = params_dict['conv_window']\n",
    "\n",
    "    if reg_mode == 'l2':\n",
    "        # every coefficient in the weight matrix of the layer will add regularisation factor * weight_coefficient_value\n",
    "        # to the total loss of the network\n",
    "        # the default value for the regularisation factor is 0.01\n",
    "        # Keras documentation: https://keras.io/api/layers/regularizers/\n",
    "\n",
    "        # fully connected bag-of-words\n",
    "        if model_type == PARAMS['model_type'][0]:\n",
    "            model = models.Sequential()\n",
    "            model.add(layers.Dense(hidden_units,\n",
    "                                   kernel_regularizer=regularizers.l2(l2=0.05),\n",
    "                                   activation='relu',\n",
    "                                   input_shape=(max_words, )))\n",
    "            model.add(layers.Dense(hidden_units,\n",
    "                                   kernel_regularizer=regularizers.l2(l2=0.05),\n",
    "                                   activation='relu'))\n",
    "            model.add(layers.Dense(dimensions_labels, activation='softmax'))\n",
    "\n",
    "        # fully connected & \"homegrown\" embeddings layer\n",
    "        elif model_type == PARAMS['model_type'][1]:\n",
    "            model = models.Sequential()\n",
    "            model.add(layers.Embedding(max_words+1,\n",
    "                                       embedding_size, input_length=max_len))\n",
    "            model.add(layers.Flatten())\n",
    "            model.add(layers.Dense(hidden_units,\n",
    "                                   kernel_regularizer=regularizers.l2(l2=0.05),\n",
    "                                   activation='relu'))\n",
    "            model.add(layers.Dense(hidden_units,\n",
    "                                   kernel_regularizer=regularizers.l2(l2=0.05),\n",
    "                                   activation='relu'))\n",
    "            model.add(layers.Dense(dimensions_labels, activation='softmax'))\n",
    "\n",
    "    elif reg_mode == 'dropout':\n",
    "        # rate: what percentage of the input units to drop\n",
    "        # Keras documentation: https://keras.io/api/layers/regularization_layers/dropout/\n",
    "\n",
    "        # fully connected bag-of-words\n",
    "        if model_type == PARAMS['model_type'][0]:\n",
    "            model = models.Sequential()\n",
    "            model.add(layers.Dense(hidden_units, activation='relu',\n",
    "                                   input_shape=(max_words, )))\n",
    "            model.add(layers.Dropout(0.6))\n",
    "            model.add(layers.Dense(hidden_units, activation='relu'))\n",
    "            model.add(layers.Dropout(0.6))\n",
    "            model.add(layers.Dense(dimensions_labels, activation='softmax'))\n",
    "\n",
    "        # fully connected & \"homegrown\" embeddings layer\n",
    "        elif model_type == PARAMS['model_type'][1]:\n",
    "            model = models.Sequential()\n",
    "            model.add(layers.Embedding(max_words+1,\n",
    "                                       embedding_size, input_length=max_len))\n",
    "            model.add(layers.Flatten())\n",
    "            model.add(layers.Dense(hidden_units, activation='relu'))\n",
    "            model.add(layers.Dropout(0.6))\n",
    "            model.add(layers.Dense(hidden_units, activation='relu'))\n",
    "            model.add(layers.Dropout(0.6))\n",
    "            model.add(layers.Dense(dimensions_labels, activation='softmax'))\n",
    "\n",
    "    elif reg_mode == 'combi':\n",
    "        # fully connected bag-of-words\n",
    "        if model_type == PARAMS['model_type'][0]:\n",
    "            model = models.Sequential()\n",
    "            model.add(layers.Dense(hidden_units, \n",
    "                                   kernel_regularizer=regularizers.l2(l2=0.05),\n",
    "                                   activation='relu',\n",
    "                                   input_shape=(max_words, )))\n",
    "            model.add(layers.Dropout(0.6))\n",
    "            model.add(layers.Dense(hidden_units, \n",
    "                                   kernel_regularizer=regularizers.l2(l2=0.05),\n",
    "                                   activation='relu'))\n",
    "            model.add(layers.Dropout(0.6))\n",
    "            model.add(layers.Dense(dimensions_labels, activation='softmax'))\n",
    "\n",
    "        # fully connected & \"homegrown\" embeddings layer\n",
    "        elif model_type == PARAMS['model_type'][1]:\n",
    "            model = models.Sequential()\n",
    "            model.add(layers.Embedding(max_words+1,\n",
    "                                       embedding_size, input_length=max_len))\n",
    "            model.add(layers.Flatten())\n",
    "            model.add(layers.Dense(hidden_units, \n",
    "                                   kernel_regularizer=regularizers.l2(l2=0.05),\n",
    "                                   activation='relu'))\n",
    "            model.add(layers.Dropout(0.6))\n",
    "            model.add(layers.Dense(hidden_units, \n",
    "                                   kernel_regularizer=regularizers.l2(l2=0.05),\n",
    "                                   activation='relu'))\n",
    "            model.add(layers.Dropout(0.6))\n",
    "            model.add(layers.Dense(dimensions_labels, activation='softmax'))\n",
    "\n",
    "    model.summary()\n",
    "\n",
    "    model.compile(\n",
    "        optimizer='adam',\n",
    "        loss='categorical_crossentropy',\n",
    "        metrics=metrics\n",
    "    )\n",
    "\n",
    "    return model"
   ]
  },
  {
   "cell_type": "markdown",
   "metadata": {},
   "source": [
    "### Weight Regularisation"
   ]
  },
  {
   "cell_type": "markdown",
   "metadata": {
    "jupyter": {
     "source_hidden": true
    }
   },
   "source": [
    "**Explanation of regularisation as given in \"Deep Learning with Python\" by Chollet:** \"You may be familiar with the principle of Occam’s razor: given two explanations for something, the explanation most likely to be correct is the simplest one - the one that makes fewer assumptions. This idea also applies to the models learned by neural net- works: given some training data and a network architecture, multiple sets of weight values (multiple models) could explain the data. Simpler models are less likely to overfit than complex ones.\n",
    "A simple model in this context is a model where the distribution of parameter values has less entropy (or a model with fewer parameters, as you saw in the previous section). Thus a common way to mitigate overfitting is to put constraints on the complexity of a network by forcing its weights to take only small values, which makes the distribution of weight values more regular. This is called weight regularization, and it’s done by adding to the loss function of the network a cost associated with having large weights. \""
   ]
  },
  {
   "cell_type": "markdown",
   "metadata": {},
   "source": [
    "### Dropout"
   ]
  },
  {
   "cell_type": "markdown",
   "metadata": {
    "jupyter": {
     "source_hidden": true
    }
   },
   "source": [
    "**Explanation of dropout as given in \"Deep Learning with Python\" by Chollet:** \"...Dropout, applied to a layer, consists of randomly dropping out (setting to zero) a number of output features of the layer during training. Let’s say a given layer would normally return a vector [0.2, 0.5, 1.3, 0.8, 1.1] for a given input sample during training. After applying dropout, this vector will have a few zero entries distributed at random: for example, [0, 0.5, 1.3, 0, 1.1]. The dropout rate is the fraction of the features that are zeroed out; it’s usually set between 0.2 and 0.5. At test time, no units are dropped out; instead, the layer’s output values are scaled down by a factor equal to the dropout rate, to balance for the fact that more units are active than at training time. \n",
    "\n",
    "...was inspired by, among other things, a fraud-prevention mecha- nism used by banks. In his own words, “I went to my bank. The tellers kept changing and I asked one of them why. He said he didn’t know but they got moved around a lot. I figured it must be because it would require cooperation between employees to successfully defraud the bank. This made me realize that randomly removing a different subset of neurons on each example would prevent conspiracies and thus reduce overfitting.” The core idea is that introducing noise in the output values of a layer can break up happenstance patterns that aren’t significant (what Hinton refers to as conspiracies), which the network will start memorizing if no noise is present.\n",
    "\""
   ]
  },
  {
   "cell_type": "code",
   "execution_count": 92,
   "metadata": {},
   "outputs": [
    {
     "name": "stdout",
     "output_type": "stream",
     "text": [
      "Model: \"sequential_25\"\n",
      "_________________________________________________________________\n",
      "Layer (type)                 Output Shape              Param #   \n",
      "=================================================================\n",
      "dense_71 (Dense)             (None, 32)                320032    \n",
      "_________________________________________________________________\n",
      "dense_72 (Dense)             (None, 32)                1056      \n",
      "_________________________________________________________________\n",
      "dense_73 (Dense)             (None, 4)                 132       \n",
      "=================================================================\n",
      "Total params: 321,220\n",
      "Trainable params: 321,220\n",
      "Non-trainable params: 0\n",
      "_________________________________________________________________\n",
      "processing fold # 0\n"
     ]
    },
    {
     "name": "stderr",
     "output_type": "stream",
     "text": [
      "/Users/iskriyanavasileva/opt/anaconda3/envs/nlp-sent/lib/python3.6/site-packages/sklearn/utils/validation.py:70: FutureWarning: Pass classes=[0 1 2 3] as keyword args. From version 0.25 passing these as positional arguments will result in an error\n",
      "  FutureWarning)\n"
     ]
    },
    {
     "name": "stdout",
     "output_type": "stream",
     "text": [
      "processing fold # 1\n"
     ]
    },
    {
     "name": "stderr",
     "output_type": "stream",
     "text": [
      "/Users/iskriyanavasileva/opt/anaconda3/envs/nlp-sent/lib/python3.6/site-packages/sklearn/utils/validation.py:70: FutureWarning: Pass classes=[0 1 2 3] as keyword args. From version 0.25 passing these as positional arguments will result in an error\n",
      "  FutureWarning)\n"
     ]
    },
    {
     "name": "stdout",
     "output_type": "stream",
     "text": [
      "processing fold # 2\n"
     ]
    },
    {
     "name": "stderr",
     "output_type": "stream",
     "text": [
      "/Users/iskriyanavasileva/opt/anaconda3/envs/nlp-sent/lib/python3.6/site-packages/sklearn/utils/validation.py:70: FutureWarning: Pass classes=[0 1 2 3] as keyword args. From version 0.25 passing these as positional arguments will result in an error\n",
      "  FutureWarning)\n"
     ]
    },
    {
     "name": "stdout",
     "output_type": "stream",
     "text": [
      "processing fold # 3\n"
     ]
    },
    {
     "name": "stderr",
     "output_type": "stream",
     "text": [
      "/Users/iskriyanavasileva/opt/anaconda3/envs/nlp-sent/lib/python3.6/site-packages/sklearn/utils/validation.py:70: FutureWarning: Pass classes=[0 1 2 3] as keyword args. From version 0.25 passing these as positional arguments will result in an error\n",
      "  FutureWarning)\n"
     ]
    },
    {
     "name": "stdout",
     "output_type": "stream",
     "text": [
      "INFO:tensorflow:Assets written to: logs/experiments/all_models_no_counter_overfitting_2020_12_10-19:35/bow/assets\n",
      "Model: \"sequential_26\"\n",
      "_________________________________________________________________\n",
      "Layer (type)                 Output Shape              Param #   \n",
      "=================================================================\n",
      "dense_74 (Dense)             (None, 32)                320032    \n",
      "_________________________________________________________________\n",
      "dropout_24 (Dropout)         (None, 32)                0         \n",
      "_________________________________________________________________\n",
      "dense_75 (Dense)             (None, 32)                1056      \n",
      "_________________________________________________________________\n",
      "dropout_25 (Dropout)         (None, 32)                0         \n",
      "_________________________________________________________________\n",
      "dense_76 (Dense)             (None, 4)                 132       \n",
      "=================================================================\n",
      "Total params: 321,220\n",
      "Trainable params: 321,220\n",
      "Non-trainable params: 0\n",
      "_________________________________________________________________\n",
      "processing fold # 0\n"
     ]
    },
    {
     "name": "stderr",
     "output_type": "stream",
     "text": [
      "/Users/iskriyanavasileva/opt/anaconda3/envs/nlp-sent/lib/python3.6/site-packages/sklearn/utils/validation.py:70: FutureWarning: Pass classes=[0 1 2 3] as keyword args. From version 0.25 passing these as positional arguments will result in an error\n",
      "  FutureWarning)\n"
     ]
    },
    {
     "name": "stdout",
     "output_type": "stream",
     "text": [
      "processing fold # 1\n"
     ]
    },
    {
     "name": "stderr",
     "output_type": "stream",
     "text": [
      "/Users/iskriyanavasileva/opt/anaconda3/envs/nlp-sent/lib/python3.6/site-packages/sklearn/utils/validation.py:70: FutureWarning: Pass classes=[0 1 2 3] as keyword args. From version 0.25 passing these as positional arguments will result in an error\n",
      "  FutureWarning)\n"
     ]
    },
    {
     "name": "stdout",
     "output_type": "stream",
     "text": [
      "processing fold # 2\n"
     ]
    },
    {
     "name": "stderr",
     "output_type": "stream",
     "text": [
      "/Users/iskriyanavasileva/opt/anaconda3/envs/nlp-sent/lib/python3.6/site-packages/sklearn/utils/validation.py:70: FutureWarning: Pass classes=[0 1 2 3] as keyword args. From version 0.25 passing these as positional arguments will result in an error\n",
      "  FutureWarning)\n"
     ]
    },
    {
     "name": "stdout",
     "output_type": "stream",
     "text": [
      "processing fold # 3\n"
     ]
    },
    {
     "name": "stderr",
     "output_type": "stream",
     "text": [
      "/Users/iskriyanavasileva/opt/anaconda3/envs/nlp-sent/lib/python3.6/site-packages/sklearn/utils/validation.py:70: FutureWarning: Pass classes=[0 1 2 3] as keyword args. From version 0.25 passing these as positional arguments will result in an error\n",
      "  FutureWarning)\n"
     ]
    },
    {
     "name": "stdout",
     "output_type": "stream",
     "text": [
      "INFO:tensorflow:Assets written to: logs/experiments/all_models_no_counter_overfitting_2020_12_10-19:35/bow/assets\n",
      "Model: \"sequential_27\"\n",
      "_________________________________________________________________\n",
      "Layer (type)                 Output Shape              Param #   \n",
      "=================================================================\n",
      "dense_77 (Dense)             (None, 32)                320032    \n",
      "_________________________________________________________________\n",
      "dropout_26 (Dropout)         (None, 32)                0         \n",
      "_________________________________________________________________\n",
      "dense_78 (Dense)             (None, 32)                1056      \n",
      "_________________________________________________________________\n",
      "dropout_27 (Dropout)         (None, 32)                0         \n",
      "_________________________________________________________________\n",
      "dense_79 (Dense)             (None, 4)                 132       \n",
      "=================================================================\n",
      "Total params: 321,220\n",
      "Trainable params: 321,220\n",
      "Non-trainable params: 0\n",
      "_________________________________________________________________\n",
      "processing fold # 0\n"
     ]
    },
    {
     "name": "stderr",
     "output_type": "stream",
     "text": [
      "/Users/iskriyanavasileva/opt/anaconda3/envs/nlp-sent/lib/python3.6/site-packages/sklearn/utils/validation.py:70: FutureWarning: Pass classes=[0 1 2 3] as keyword args. From version 0.25 passing these as positional arguments will result in an error\n",
      "  FutureWarning)\n"
     ]
    },
    {
     "name": "stdout",
     "output_type": "stream",
     "text": [
      "processing fold # 1\n"
     ]
    },
    {
     "name": "stderr",
     "output_type": "stream",
     "text": [
      "/Users/iskriyanavasileva/opt/anaconda3/envs/nlp-sent/lib/python3.6/site-packages/sklearn/utils/validation.py:70: FutureWarning: Pass classes=[0 1 2 3] as keyword args. From version 0.25 passing these as positional arguments will result in an error\n",
      "  FutureWarning)\n"
     ]
    },
    {
     "name": "stdout",
     "output_type": "stream",
     "text": [
      "processing fold # 2\n"
     ]
    },
    {
     "name": "stderr",
     "output_type": "stream",
     "text": [
      "/Users/iskriyanavasileva/opt/anaconda3/envs/nlp-sent/lib/python3.6/site-packages/sklearn/utils/validation.py:70: FutureWarning: Pass classes=[0 1 2 3] as keyword args. From version 0.25 passing these as positional arguments will result in an error\n",
      "  FutureWarning)\n"
     ]
    },
    {
     "name": "stdout",
     "output_type": "stream",
     "text": [
      "processing fold # 3\n"
     ]
    },
    {
     "name": "stderr",
     "output_type": "stream",
     "text": [
      "/Users/iskriyanavasileva/opt/anaconda3/envs/nlp-sent/lib/python3.6/site-packages/sklearn/utils/validation.py:70: FutureWarning: Pass classes=[0 1 2 3] as keyword args. From version 0.25 passing these as positional arguments will result in an error\n",
      "  FutureWarning)\n"
     ]
    },
    {
     "name": "stdout",
     "output_type": "stream",
     "text": [
      "INFO:tensorflow:Assets written to: logs/experiments/all_models_no_counter_overfitting_2020_12_10-19:35/bow/assets\n",
      "Model: \"sequential_28\"\n",
      "_________________________________________________________________\n",
      "Layer (type)                 Output Shape              Param #   \n",
      "=================================================================\n",
      "embedding_15 (Embedding)     (None, 25, 30)            300030    \n",
      "_________________________________________________________________\n",
      "flatten_11 (Flatten)         (None, 750)               0         \n",
      "_________________________________________________________________\n",
      "dense_80 (Dense)             (None, 32)                24032     \n",
      "_________________________________________________________________\n",
      "dense_81 (Dense)             (None, 32)                1056      \n",
      "_________________________________________________________________\n",
      "dense_82 (Dense)             (None, 4)                 132       \n",
      "=================================================================\n",
      "Total params: 325,250\n",
      "Trainable params: 325,250\n",
      "Non-trainable params: 0\n",
      "_________________________________________________________________\n",
      "processing fold # 0\n"
     ]
    },
    {
     "name": "stderr",
     "output_type": "stream",
     "text": [
      "/Users/iskriyanavasileva/opt/anaconda3/envs/nlp-sent/lib/python3.6/site-packages/sklearn/utils/validation.py:70: FutureWarning: Pass classes=[0 1 2 3] as keyword args. From version 0.25 passing these as positional arguments will result in an error\n",
      "  FutureWarning)\n"
     ]
    },
    {
     "name": "stdout",
     "output_type": "stream",
     "text": [
      "processing fold # 1\n"
     ]
    },
    {
     "name": "stderr",
     "output_type": "stream",
     "text": [
      "/Users/iskriyanavasileva/opt/anaconda3/envs/nlp-sent/lib/python3.6/site-packages/sklearn/utils/validation.py:70: FutureWarning: Pass classes=[0 1 2 3] as keyword args. From version 0.25 passing these as positional arguments will result in an error\n",
      "  FutureWarning)\n"
     ]
    },
    {
     "name": "stdout",
     "output_type": "stream",
     "text": [
      "processing fold # 2\n"
     ]
    },
    {
     "name": "stderr",
     "output_type": "stream",
     "text": [
      "/Users/iskriyanavasileva/opt/anaconda3/envs/nlp-sent/lib/python3.6/site-packages/sklearn/utils/validation.py:70: FutureWarning: Pass classes=[0 1 2 3] as keyword args. From version 0.25 passing these as positional arguments will result in an error\n",
      "  FutureWarning)\n"
     ]
    },
    {
     "name": "stdout",
     "output_type": "stream",
     "text": [
      "processing fold # 3\n"
     ]
    },
    {
     "name": "stderr",
     "output_type": "stream",
     "text": [
      "/Users/iskriyanavasileva/opt/anaconda3/envs/nlp-sent/lib/python3.6/site-packages/sklearn/utils/validation.py:70: FutureWarning: Pass classes=[0 1 2 3] as keyword args. From version 0.25 passing these as positional arguments will result in an error\n",
      "  FutureWarning)\n"
     ]
    },
    {
     "name": "stdout",
     "output_type": "stream",
     "text": [
      "INFO:tensorflow:Assets written to: logs/experiments/all_models_no_counter_overfitting_2020_12_10-19:35/fc_emb/assets\n",
      "Model: \"sequential_29\"\n",
      "_________________________________________________________________\n",
      "Layer (type)                 Output Shape              Param #   \n",
      "=================================================================\n",
      "embedding_16 (Embedding)     (None, 25, 30)            300030    \n",
      "_________________________________________________________________\n",
      "flatten_12 (Flatten)         (None, 750)               0         \n",
      "_________________________________________________________________\n",
      "dense_83 (Dense)             (None, 32)                24032     \n",
      "_________________________________________________________________\n",
      "dropout_28 (Dropout)         (None, 32)                0         \n",
      "_________________________________________________________________\n",
      "dense_84 (Dense)             (None, 32)                1056      \n",
      "_________________________________________________________________\n",
      "dropout_29 (Dropout)         (None, 32)                0         \n",
      "_________________________________________________________________\n",
      "dense_85 (Dense)             (None, 4)                 132       \n",
      "=================================================================\n",
      "Total params: 325,250\n",
      "Trainable params: 325,250\n",
      "Non-trainable params: 0\n",
      "_________________________________________________________________\n",
      "processing fold # 0\n"
     ]
    },
    {
     "name": "stderr",
     "output_type": "stream",
     "text": [
      "/Users/iskriyanavasileva/opt/anaconda3/envs/nlp-sent/lib/python3.6/site-packages/sklearn/utils/validation.py:70: FutureWarning: Pass classes=[0 1 2 3] as keyword args. From version 0.25 passing these as positional arguments will result in an error\n",
      "  FutureWarning)\n"
     ]
    },
    {
     "name": "stdout",
     "output_type": "stream",
     "text": [
      "processing fold # 1\n"
     ]
    },
    {
     "name": "stderr",
     "output_type": "stream",
     "text": [
      "/Users/iskriyanavasileva/opt/anaconda3/envs/nlp-sent/lib/python3.6/site-packages/sklearn/utils/validation.py:70: FutureWarning: Pass classes=[0 1 2 3] as keyword args. From version 0.25 passing these as positional arguments will result in an error\n",
      "  FutureWarning)\n"
     ]
    },
    {
     "name": "stdout",
     "output_type": "stream",
     "text": [
      "processing fold # 2\n"
     ]
    },
    {
     "name": "stderr",
     "output_type": "stream",
     "text": [
      "/Users/iskriyanavasileva/opt/anaconda3/envs/nlp-sent/lib/python3.6/site-packages/sklearn/utils/validation.py:70: FutureWarning: Pass classes=[0 1 2 3] as keyword args. From version 0.25 passing these as positional arguments will result in an error\n",
      "  FutureWarning)\n"
     ]
    },
    {
     "name": "stdout",
     "output_type": "stream",
     "text": [
      "processing fold # 3\n"
     ]
    },
    {
     "name": "stderr",
     "output_type": "stream",
     "text": [
      "/Users/iskriyanavasileva/opt/anaconda3/envs/nlp-sent/lib/python3.6/site-packages/sklearn/utils/validation.py:70: FutureWarning: Pass classes=[0 1 2 3] as keyword args. From version 0.25 passing these as positional arguments will result in an error\n",
      "  FutureWarning)\n"
     ]
    },
    {
     "name": "stdout",
     "output_type": "stream",
     "text": [
      "INFO:tensorflow:Assets written to: logs/experiments/all_models_no_counter_overfitting_2020_12_10-19:35/fc_emb/assets\n",
      "Model: \"sequential_30\"\n",
      "_________________________________________________________________\n",
      "Layer (type)                 Output Shape              Param #   \n",
      "=================================================================\n",
      "embedding_17 (Embedding)     (None, 25, 30)            300030    \n",
      "_________________________________________________________________\n",
      "flatten_13 (Flatten)         (None, 750)               0         \n",
      "_________________________________________________________________\n",
      "dense_86 (Dense)             (None, 32)                24032     \n",
      "_________________________________________________________________\n",
      "dropout_30 (Dropout)         (None, 32)                0         \n",
      "_________________________________________________________________\n",
      "dense_87 (Dense)             (None, 32)                1056      \n",
      "_________________________________________________________________\n",
      "dropout_31 (Dropout)         (None, 32)                0         \n",
      "_________________________________________________________________\n",
      "dense_88 (Dense)             (None, 4)                 132       \n",
      "=================================================================\n",
      "Total params: 325,250\n",
      "Trainable params: 325,250\n",
      "Non-trainable params: 0\n",
      "_________________________________________________________________\n",
      "processing fold # 0\n"
     ]
    },
    {
     "name": "stderr",
     "output_type": "stream",
     "text": [
      "/Users/iskriyanavasileva/opt/anaconda3/envs/nlp-sent/lib/python3.6/site-packages/sklearn/utils/validation.py:70: FutureWarning: Pass classes=[0 1 2 3] as keyword args. From version 0.25 passing these as positional arguments will result in an error\n",
      "  FutureWarning)\n"
     ]
    },
    {
     "name": "stdout",
     "output_type": "stream",
     "text": [
      "processing fold # 1\n"
     ]
    },
    {
     "name": "stderr",
     "output_type": "stream",
     "text": [
      "/Users/iskriyanavasileva/opt/anaconda3/envs/nlp-sent/lib/python3.6/site-packages/sklearn/utils/validation.py:70: FutureWarning: Pass classes=[0 1 2 3] as keyword args. From version 0.25 passing these as positional arguments will result in an error\n",
      "  FutureWarning)\n"
     ]
    },
    {
     "name": "stdout",
     "output_type": "stream",
     "text": [
      "processing fold # 2\n"
     ]
    },
    {
     "name": "stderr",
     "output_type": "stream",
     "text": [
      "/Users/iskriyanavasileva/opt/anaconda3/envs/nlp-sent/lib/python3.6/site-packages/sklearn/utils/validation.py:70: FutureWarning: Pass classes=[0 1 2 3] as keyword args. From version 0.25 passing these as positional arguments will result in an error\n",
      "  FutureWarning)\n"
     ]
    },
    {
     "name": "stdout",
     "output_type": "stream",
     "text": [
      "processing fold # 3\n"
     ]
    },
    {
     "name": "stderr",
     "output_type": "stream",
     "text": [
      "/Users/iskriyanavasileva/opt/anaconda3/envs/nlp-sent/lib/python3.6/site-packages/sklearn/utils/validation.py:70: FutureWarning: Pass classes=[0 1 2 3] as keyword args. From version 0.25 passing these as positional arguments will result in an error\n",
      "  FutureWarning)\n"
     ]
    },
    {
     "name": "stdout",
     "output_type": "stream",
     "text": [
      "INFO:tensorflow:Assets written to: logs/experiments/all_models_no_counter_overfitting_2020_12_10-19:35/fc_emb/assets\n"
     ]
    }
   ],
   "source": [
    "for model_type in ['bow', 'fc_emb']:\n",
    "    for reg_mode in ['l2', 'dropout', 'combi']:\n",
    "        model = generate_model_reg(model_type, PARAMS, reg_mode)\n",
    "\n",
    "        if model_type == PARAMS['model_type'][0]:\n",
    "            train_with_cross_val(PARAMS['k'], model, model_type, x_train_oh,\n",
    "                                 y_train_oh, PARAMS['epochs'], PARAMS['batch_size'], reg_mode, reg=True)\n",
    "        else:\n",
    "            train_with_cross_val(\n",
    "                PARAMS['k'], model, model_type, x_train, y_train, PARAMS['epochs'], PARAMS['batch_size'], reg_mode, reg=True)"
   ]
  },
  {
   "cell_type": "code",
   "execution_count": 93,
   "metadata": {},
   "outputs": [],
   "source": [
    "history_all_df_reg = pd.DataFrame()\n",
    "\n",
    "for model_type in ['bow', 'fc_emb']:\n",
    "    for reg_mode in ['l2', 'dropout', 'combi']:\n",
    "        for i in range(PARAMS['k']):\n",
    "            history = np.load(\n",
    "                f'history_{model_type}_{reg_mode}_fold_{i}.npy', allow_pickle='TRUE').item()\n",
    "            history['model_type'] = model_type\n",
    "            history['reg_mode'] = reg_mode\n",
    "\n",
    "            history_df_reg = pd.DataFrame(history)\n",
    "\n",
    "            history_df_reg['f1'] = 2 * history_df.precision * \\\n",
    "                history_df.recall/(history_df_reg.precision + history_df_reg.recall)\n",
    "            history_df_reg['f1'] = history_df_reg['f1'].fillna(0)\n",
    "            history_df_reg['val_f1'] = 2 * history_df_reg.val_precision * \\\n",
    "                history_df_reg.val_recall / \\\n",
    "                (history_df_reg.val_precision + history_df_reg.val_recall)\n",
    "            history_df_reg['val_f1'] = history_df_reg['val_f1'].fillna(0)\n",
    "\n",
    "            history_all_df_reg = history_all_df.append(history_df_reg)\n",
    "\n",
    "history_all_df_reg\n",
    "history_all_df_pivot_reg = history_all_df_reg.pivot_table(columns=['model_type', 'reg_mode'],\n",
    "                                                  values=['loss', 'val_loss', 'accuracy', 'val_accuracy', 'precision', 'val_precision', 'f1', 'val_f1'])"
   ]
  },
  {
   "cell_type": "code",
   "execution_count": 96,
   "metadata": {},
   "outputs": [
    {
     "data": {
      "text/html": [
       "<div>\n",
       "<style scoped>\n",
       "    .dataframe tbody tr th:only-of-type {\n",
       "        vertical-align: middle;\n",
       "    }\n",
       "\n",
       "    .dataframe tbody tr th {\n",
       "        vertical-align: top;\n",
       "    }\n",
       "\n",
       "    .dataframe thead tr th {\n",
       "        text-align: left;\n",
       "    }\n",
       "</style>\n",
       "<table border=\"1\" class=\"dataframe\">\n",
       "  <thead>\n",
       "    <tr>\n",
       "      <th>model_type</th>\n",
       "      <th colspan=\"3\" halign=\"left\">bow</th>\n",
       "      <th colspan=\"3\" halign=\"left\">fc_emb</th>\n",
       "    </tr>\n",
       "    <tr>\n",
       "      <th>reg_mode</th>\n",
       "      <th>combi</th>\n",
       "      <th>dropout</th>\n",
       "      <th>l2</th>\n",
       "      <th>combi</th>\n",
       "      <th>dropout</th>\n",
       "      <th>l2</th>\n",
       "    </tr>\n",
       "  </thead>\n",
       "  <tbody>\n",
       "    <tr>\n",
       "      <th>accuracy</th>\n",
       "      <td>0.969553</td>\n",
       "      <td>0.966420</td>\n",
       "      <td>0.916854</td>\n",
       "      <td>0.760322</td>\n",
       "      <td>0.885841</td>\n",
       "      <td>0.901402</td>\n",
       "    </tr>\n",
       "    <tr>\n",
       "      <th>f1</th>\n",
       "      <td>0.967798</td>\n",
       "      <td>0.964423</td>\n",
       "      <td>0.911934</td>\n",
       "      <td>inf</td>\n",
       "      <td>0.871905</td>\n",
       "      <td>0.885977</td>\n",
       "    </tr>\n",
       "    <tr>\n",
       "      <th>loss</th>\n",
       "      <td>0.085936</td>\n",
       "      <td>0.089757</td>\n",
       "      <td>0.439689</td>\n",
       "      <td>0.495100</td>\n",
       "      <td>0.278822</td>\n",
       "      <td>0.402111</td>\n",
       "    </tr>\n",
       "    <tr>\n",
       "      <th>precision</th>\n",
       "      <td>0.973595</td>\n",
       "      <td>0.970219</td>\n",
       "      <td>0.928619</td>\n",
       "      <td>0.738920</td>\n",
       "      <td>0.922787</td>\n",
       "      <td>0.925142</td>\n",
       "    </tr>\n",
       "    <tr>\n",
       "      <th>val_accuracy</th>\n",
       "      <td>0.862159</td>\n",
       "      <td>0.859264</td>\n",
       "      <td>0.656158</td>\n",
       "      <td>0.681761</td>\n",
       "      <td>0.809002</td>\n",
       "      <td>0.755687</td>\n",
       "    </tr>\n",
       "    <tr>\n",
       "      <th>val_f1</th>\n",
       "      <td>0.861488</td>\n",
       "      <td>0.858464</td>\n",
       "      <td>0.645642</td>\n",
       "      <td>0.636972</td>\n",
       "      <td>0.803345</td>\n",
       "      <td>0.745080</td>\n",
       "    </tr>\n",
       "    <tr>\n",
       "      <th>val_loss</th>\n",
       "      <td>0.542402</td>\n",
       "      <td>0.558597</td>\n",
       "      <td>1.089715</td>\n",
       "      <td>0.916321</td>\n",
       "      <td>0.793052</td>\n",
       "      <td>0.885813</td>\n",
       "    </tr>\n",
       "    <tr>\n",
       "      <th>val_precision</th>\n",
       "      <td>0.863489</td>\n",
       "      <td>0.861008</td>\n",
       "      <td>0.672350</td>\n",
       "      <td>0.656960</td>\n",
       "      <td>0.823067</td>\n",
       "      <td>0.776615</td>\n",
       "    </tr>\n",
       "  </tbody>\n",
       "</table>\n",
       "</div>"
      ],
      "text/plain": [
       "model_type          bow                        fc_emb                    \n",
       "reg_mode          combi   dropout        l2     combi   dropout        l2\n",
       "accuracy       0.969553  0.966420  0.916854  0.760322  0.885841  0.901402\n",
       "f1             0.967798  0.964423  0.911934       inf  0.871905  0.885977\n",
       "loss           0.085936  0.089757  0.439689  0.495100  0.278822  0.402111\n",
       "precision      0.973595  0.970219  0.928619  0.738920  0.922787  0.925142\n",
       "val_accuracy   0.862159  0.859264  0.656158  0.681761  0.809002  0.755687\n",
       "val_f1         0.861488  0.858464  0.645642  0.636972  0.803345  0.745080\n",
       "val_loss       0.542402  0.558597  1.089715  0.916321  0.793052  0.885813\n",
       "val_precision  0.863489  0.861008  0.672350  0.656960  0.823067  0.776615"
      ]
     },
     "execution_count": 96,
     "metadata": {},
     "output_type": "execute_result"
    }
   ],
   "source": [
    "history_all_df_pivot_reg"
   ]
  },
  {
   "cell_type": "code",
   "execution_count": 97,
   "metadata": {},
   "outputs": [
    {
     "data": {
      "image/png": "[encoded data removed]",
      "text/plain": [
       "<Figure size 1080x360 with 3 Axes>"
      ]
     },
     "metadata": {
      "needs_background": "light"
     },
     "output_type": "display_data"
    },
    {
     "data": {
      "image/png": "[encoded data removed]",
      "text/plain": [
       "<Figure size 1080x360 with 3 Axes>"
      ]
     },
     "metadata": {
      "needs_background": "light"
     },
     "output_type": "display_data"
    },
    {
     "data": {
      "image/png": "[encoded data removed]",
      "text/plain": [
       "<Figure size 1080x360 with 3 Axes>"
      ]
     },
     "metadata": {
      "needs_background": "light"
     },
     "output_type": "display_data"
    },
    {
     "data": {
      "image/png": "[encoded data removed]",
      "text/plain": [
       "<Figure size 1080x360 with 3 Axes>"
      ]
     },
     "metadata": {
      "needs_background": "light"
     },
     "output_type": "display_data"
    },
    {
     "data": {
      "image/png": "[encoded data removed]",
      "text/plain": [
       "<Figure size 1080x360 with 3 Axes>"
      ]
     },
     "metadata": {
      "needs_background": "light"
     },
     "output_type": "display_data"
    },
    {
     "data": {
      "image/png": "[encoded data removed]",
      "text/plain": [
       "<Figure size 1080x360 with 3 Axes>"
      ]
     },
     "metadata": {
      "needs_background": "light"
     },
     "output_type": "display_data"
    }
   ],
   "source": [
    "for model_type in ['bow', 'fc_emb']:\n",
    "    for reg_mode in ['l2', 'dropout', 'combi']:\n",
    "        fig = plt.figure(figsize=(15, 5))\n",
    "        ax = plt.subplot(131)\n",
    "\n",
    "        epochs = PARAMS['epochs']\n",
    "        epochs_graph = range(1, PARAMS['epochs'] + 1)\n",
    "        folds = PARAMS['k']\n",
    "\n",
    "        mask = (history_all_df_reg.loc[:, 'model_type'] == model_type) & (history_all_df_reg.loc[:, 'reg_mode'] == reg_mode)\n",
    "\n",
    "        loss_all = history_all_df_reg.loc[mask, 'loss'].to_list()\n",
    "        loss_prep = [loss_all[i * epochs:(i + 1) * epochs] for i in range(folds)]\n",
    "        loss = [np.mean([x[i] for x in loss_prep]) for i in range(epochs)]\n",
    "\n",
    "        val_loss_all = history_all_df_reg.loc[mask, 'val_loss'].to_list()\n",
    "        val_loss_prep = [\n",
    "            val_loss_all[i * epochs:(i + 1) * epochs] for i in range(folds)]\n",
    "        val_loss = [np.mean([x[i] for x in val_loss_prep]) for i in range(epochs)]\n",
    "\n",
    "        accuracy_all = history_all_df_reg.loc[mask, 'accuracy'].to_list()\n",
    "        accuracy_prep = [\n",
    "            accuracy_all[i * epochs:(i + 1) * epochs] for i in range(folds)]\n",
    "        accuracy = [np.mean([x[i] for x in accuracy_prep]) for i in range(epochs)]\n",
    "\n",
    "        val_accuracy_all = history_all_df_reg.loc[mask, 'val_accuracy'].to_list()\n",
    "        val_accuracy_prep = [val_accuracy_all[i *\n",
    "                                              epochs:(i + 1) * epochs] for i in range(folds)]\n",
    "        val_accuracy = [np.mean([x[i] for x in val_accuracy_prep])\n",
    "                        for i in range(epochs)]\n",
    "\n",
    "        f1_all = history_all_df_reg.loc[mask, 'f1'].to_list()\n",
    "        f1_prep = [f1_all[i * epochs:(i + 1) * epochs] for i in range(folds)]\n",
    "        f1 = [np.mean([x[i] for x in f1_prep]) for i in range(epochs)]\n",
    "\n",
    "        val_f1_all = history_all_df_reg.loc[mask, 'val_f1'].to_list()\n",
    "        val_f1_prep = [val_f1_all[i * epochs:(i + 1) * epochs]\n",
    "                       for i in range(folds)]\n",
    "        val_f1 = [np.mean([x[i] for x in val_f1_prep]) for i in range(epochs)]\n",
    "\n",
    "        plt.plot(epochs_graph, loss, 'b')\n",
    "        plt.plot(epochs_graph, val_loss, 'r')\n",
    "        #plt.ylim([0, 1])\n",
    "        ax.set_ylabel('loss')\n",
    "        ax.set_xlabel('epochs')\n",
    "        ax.legend(['train', 'validation'])\n",
    "        plt.title(f'Train vs. Validation Loss {model_type} {reg_mode}')\n",
    "\n",
    "        ax = plt.subplot(132)\n",
    "        plt.plot(epochs_graph, accuracy, 'b')\n",
    "        plt.plot(epochs_graph, val_accuracy, 'r')\n",
    "        plt.ylim([0, 1])\n",
    "        ax.set_ylabel('accuracy')\n",
    "        ax.set_xlabel('epochs')\n",
    "        ax.legend(['train', 'validation'])\n",
    "        plt.title(f'Train vs. Validation Accuracy {model_type} {reg_mode}')\n",
    "\n",
    "        ax = plt.subplot(133)\n",
    "        plt.plot(epochs_graph, f1, 'b')\n",
    "        plt.plot(epochs_graph, val_f1, 'r')\n",
    "        plt.ylim([0, 1])\n",
    "        ax.set_ylabel('f1')\n",
    "        ax.set_xlabel('epochs')\n",
    "        ax.legend(['train', 'validation'])\n",
    "        plt.title(f'Train vs. Validation F1-Score {model_type} {reg_mode}')\n",
    "\n",
    "        if logging:\n",
    "            if not os.path.exists(os.path.join(logdir, 'figures')):\n",
    "                os.makedirs(os.path.join(logdir, 'figures'))\n",
    "            fig.savefig(os.path.join(\n",
    "                logdir, f'figures/loss_accuracy_training_{model_type}_{reg_mode}.png'), bbox_inches='tight')"
   ]
  },
  {
   "cell_type": "code",
   "execution_count": null,
   "metadata": {},
   "outputs": [],
   "source": []
  },
  {
   "cell_type": "code",
   "execution_count": null,
   "metadata": {},
   "outputs": [],
   "source": []
  },
  {
   "cell_type": "code",
   "execution_count": null,
   "metadata": {},
   "outputs": [],
   "source": []
  },
  {
   "cell_type": "code",
   "execution_count": null,
   "metadata": {},
   "outputs": [],
   "source": []
  },
  {
   "cell_type": "code",
   "execution_count": null,
   "metadata": {},
   "outputs": [],
   "source": []
  },
  {
   "cell_type": "code",
   "execution_count": null,
   "metadata": {},
   "outputs": [],
   "source": []
  },
  {
   "cell_type": "markdown",
   "metadata": {},
   "source": [
    "### Combination of Dropout & Weight Regularisation"
   ]
  },
  {
   "cell_type": "code",
   "execution_count": null,
   "metadata": {},
   "outputs": [],
   "source": []
  },
  {
   "cell_type": "code",
   "execution_count": null,
   "metadata": {},
   "outputs": [],
   "source": []
  }
 ],
 "metadata": {
  "kernelspec": {
   "display_name": "nlp-sent",
   "language": "python",
   "name": "nlp-sent"
  },
  "language_info": {
   "codemirror_mode": {
    "name": "ipython",
    "version": 3
   },
   "file_extension": ".py",
   "mimetype": "text/x-python",
   "name": "python",
   "nbconvert_exporter": "python",
   "pygments_lexer": "ipython3",
   "version": "3.6.12"
  }
 },
 "nbformat": 4,
 "nbformat_minor": 4
}
