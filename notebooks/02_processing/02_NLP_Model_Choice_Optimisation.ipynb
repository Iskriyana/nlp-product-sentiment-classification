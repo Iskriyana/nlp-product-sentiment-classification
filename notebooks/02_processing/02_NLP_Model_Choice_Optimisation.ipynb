{
 "cells": [
  {
   "cell_type": "code",
   "execution_count": 1,
   "metadata": {},
   "outputs": [],
   "source": [
    "import datetime\n",
    "import json\n",
    "import keras\n",
    "import matplotlib.pyplot as plt\n",
    "import numpy as np\n",
    "import os\n",
    "import pandas as pd\n",
    "import pickle\n",
    "import seaborn as sns\n",
    "import sys\n",
    "import tensorflow as tf\n",
    "\n",
    "from collections import Counter\n",
    "from imblearn.over_sampling import SMOTE\n",
    "from keras import layers\n",
    "from keras import models\n",
    "from keras import regularizers\n",
    "from keras import utils\n",
    "from keras.utils import to_categorical\n",
    "from sklearn.dummy import DummyClassifier\n",
    "from sklearn.model_selection import cross_validate # to run validation on multiple metrics\n",
    "from sklearn.model_selection import KFold\n",
    "from tensorflow import keras\n",
    "from tensorflow.keras.models import save_model\n",
    "\n",
    "\n",
    "%matplotlib inline"
   ]
  },
  {
   "cell_type": "markdown",
   "metadata": {},
   "source": [
    "# Preparation Steps"
   ]
  },
  {
   "cell_type": "code",
   "execution_count": 2,
   "metadata": {},
   "outputs": [],
   "source": [
    "# folders\n",
    "home = os.getenv(\"HOME\")\n",
    "nlp_repo = os.path.join(home, 'git/nlp-product-sentiment-classification')\n",
    "\n",
    "# data\n",
    "train_csv_path = os.path.join(nlp_repo, 'data/03_processed/Train.csv')\n",
    "train_descr = pd.read_csv(train_csv_path)\n",
    "\n",
    "test_csv_path = os.path.join(nlp_repo, 'data/03_processed/Test.csv')\n",
    "test_descr = pd.read_csv(test_csv_path)\n",
    "\n",
    "# encoded tokens\n",
    "preprocessed_corpus_path_TF = os.path.join(\n",
    "    nlp_repo, 'data/03_processed/product_descr_preprocessed_TF.p')\n",
    "\n",
    "preprocessed_corpus_path_TF_oh = os.path.join(\n",
    "    nlp_repo, 'data/03_processed/product_descr_preprocessed_TF_oh.p')"
   ]
  },
  {
   "cell_type": "markdown",
   "metadata": {},
   "source": [
    "# Define Parameter Dictionary\n",
    "\n",
    "This dictionary contains all the parameters necessary for the model training. It is going to be saved with the trained model in order to log it. \n",
    "\n",
    "\n",
    "Inputs before running a new experiment: \n",
    "1. Define experiment name\n",
    "2. Define model architecture and hyperparameters"
   ]
  },
  {
   "cell_type": "code",
   "execution_count": 3,
   "metadata": {},
   "outputs": [
    {
     "name": "stdout",
     "output_type": "stream",
     "text": [
      "Log results to logs/experiments/all_models_no_counter_overfitting_2020_12_09-18:43\n"
     ]
    }
   ],
   "source": [
    "logging = True\n",
    "\n",
    "saving = True\n",
    "\n",
    "PARAMS = {\n",
    "\n",
    "    # Define experiment name:\n",
    "    'experiment_name': 'all_models_no_counter_overfitting',\n",
    "\n",
    "    # List of models\n",
    "    'model_type': ['bow', 'fc_emb', 'fc_transf', 'lstm', 'lstm_transf', 'conv1d', 'conv1d_transf'],\n",
    "\n",
    "    # Parameters general:\n",
    "    'number_of_classes': len(np.unique(train_descr['Sentiment'])),\n",
    "    'n_splits': 4,\n",
    "    'seed': 42,\n",
    "    'batch_size': 32,  # [16, 32, 64],\n",
    "    'epochs': 15,\n",
    "    'hidden_units': 32,  # [16, 32, 64],\n",
    "\n",
    "    # NLP Parameters\n",
    "    # max_words = vocabulary size = our samples - number of most frequent words.\n",
    "    # I set it to 10.000, although in this case there are less.\n",
    "    # I do this to parametise the code.\n",
    "    # Aleternatively, I can set it to the length of our vocabulary = word_index\n",
    "    'max_words': 10000,\n",
    "\n",
    "    # embedding_size = embedding dimensionality\n",
    "    'embedding_size': 30,  # [10, 20, 30, 100],\n",
    "\n",
    "    # Parameters for pre-trained word embeddings:\n",
    "    'embedding_dim': 100,\n",
    "\n",
    "    # Parameters for the Conv1D:\n",
    "    'conv_window': 5,  # [3, 5, 7],\n",
    "\n",
    "    # Cross-fold validation:\n",
    "    'k': 4,\n",
    "}\n",
    "\n",
    "logdir = f'logs/experiments/{PARAMS[\"experiment_name\"]}_' + \\\n",
    "    datetime.datetime.now().strftime(\"%Y_%m_%d-%H:%M\")\n",
    "logdir_tb = f'logs/tensorboard/experiments/{PARAMS[\"experiment_name\"]}_' + \\\n",
    "    datetime.datetime.now().strftime(\"%Y_%m_%d-%H:%M\")\n",
    "\n",
    "# create logging folder and tensorboard callback function\n",
    "if logging:\n",
    "    print(f'Log results to {logdir}')\n",
    "    if not os.path.exists(logdir):\n",
    "        os.makedirs(logdir)\n",
    "\n",
    "    tensorboard_callbacks = [tf.keras.callbacks.TensorBoard(log_dir=logdir_tb)]\n",
    "\n",
    "else:\n",
    "    logdir = ''\n",
    "    logdir_tb = ''\n",
    "    tensorboard_callbacks = []"
   ]
  },
  {
   "cell_type": "markdown",
   "metadata": {},
   "source": [
    "# Load Tokens and Vocabulary"
   ]
  },
  {
   "cell_type": "code",
   "execution_count": 4,
   "metadata": {},
   "outputs": [],
   "source": [
    "def load_data(path_to_corpus, one_hot=False):\n",
    "    if not one_hot:\n",
    "        sequences, word_index = pd.read_pickle(path_to_corpus)\n",
    "\n",
    "        # max_len = sequence length - the text is cut off after this number of words\n",
    "        # in this case it is defined as the maximum sequence length in our list of tokenised sequences\n",
    "        max_len = np.max([len(x) for x in sequences])\n",
    "        data = tf.keras.preprocessing.sequence.pad_sequences(\n",
    "            sequences, maxlen=max_len)\n",
    "    else:\n",
    "        sequences, word_index = pd.read_pickle(path_to_corpus)\n",
    "        data = sequences\n",
    "\n",
    "    labels = train_descr.loc[:, 'Sentiment'].to_list()\n",
    "\n",
    "    return sequences, word_index, data, labels"
   ]
  },
  {
   "cell_type": "markdown",
   "metadata": {},
   "source": [
    "for bag-of-words with one-hot encoded tokens"
   ]
  },
  {
   "cell_type": "code",
   "execution_count": 5,
   "metadata": {},
   "outputs": [
    {
     "data": {
      "text/plain": [
       "(6364, 10000)"
      ]
     },
     "execution_count": 5,
     "metadata": {},
     "output_type": "execute_result"
    }
   ],
   "source": [
    "sequences_oh, word_index_oh, data_oh, labels_oh = load_data(\n",
    "    preprocessed_corpus_path_TF_oh, one_hot=True)\n",
    "sequences_oh.shape"
   ]
  },
  {
   "cell_type": "markdown",
   "metadata": {},
   "source": [
    "for the models with embedding layer"
   ]
  },
  {
   "cell_type": "code",
   "execution_count": 6,
   "metadata": {},
   "outputs": [
    {
     "name": "stdout",
     "output_type": "stream",
     "text": [
      "Shape of sequences after padding is (6364, 25)\n"
     ]
    }
   ],
   "source": [
    "sequences, word_index, data, labels = load_data(preprocessed_corpus_path_TF)\n",
    "print(f'Shape of sequences after padding is {data.shape}')"
   ]
  },
  {
   "cell_type": "markdown",
   "metadata": {},
   "source": [
    "Add max_len to parameters dictionary"
   ]
  },
  {
   "cell_type": "code",
   "execution_count": 7,
   "metadata": {},
   "outputs": [],
   "source": [
    "max_len = np.max([len(x) for x in sequences])\n",
    "PARAMS['max_len'] = max_len"
   ]
  },
  {
   "cell_type": "markdown",
   "metadata": {},
   "source": [
    "# Preparation for the Pre-Trained Embeddings"
   ]
  },
  {
   "cell_type": "code",
   "execution_count": 8,
   "metadata": {},
   "outputs": [],
   "source": [
    "glove_dir = './glove.6B'"
   ]
  },
  {
   "cell_type": "code",
   "execution_count": 9,
   "metadata": {},
   "outputs": [
    {
     "name": "stdout",
     "output_type": "stream",
     "text": [
      "Found 400000 word vectors.\n"
     ]
    }
   ],
   "source": [
    "embeddings_index = {}\n",
    "\n",
    "f = open(os.path.join(glove_dir, 'glove.6B.100d.txt'))\n",
    "for line in f:\n",
    "    values = line.split()\n",
    "    word = values[0]\n",
    "    coefs = np.asarray(values[1:], dtype='float32')\n",
    "    embeddings_index[word] = coefs\n",
    "f.close()\n",
    "\n",
    "print('Found %s word vectors.' % len(embeddings_index))"
   ]
  },
  {
   "cell_type": "code",
   "execution_count": 10,
   "metadata": {},
   "outputs": [
    {
     "name": "stdout",
     "output_type": "stream",
     "text": [
      "(10001, 100)\n"
     ]
    }
   ],
   "source": [
    "embedding_matrix = np.zeros((PARAMS['max_words']+1, PARAMS['embedding_dim']))\n",
    "\n",
    "for word, i in word_index.items():\n",
    "    if i < PARAMS['max_words']:\n",
    "        embedding_vector = embeddings_index.get(word)\n",
    "        if embedding_vector is not None:\n",
    "            embedding_matrix[i] = embedding_vector\n",
    "print(embedding_matrix.shape)"
   ]
  },
  {
   "cell_type": "markdown",
   "metadata": {},
   "source": [
    "# Train-Test Split"
   ]
  },
  {
   "cell_type": "code",
   "execution_count": 11,
   "metadata": {},
   "outputs": [],
   "source": [
    "def train_test_split(data, labels):\n",
    "    dimensions_labels = PARAMS['number_of_classes']\n",
    "\n",
    "    indices = np.arange(data.shape[0])\n",
    "    np.random.shuffle(indices)\n",
    "\n",
    "    data = data[indices]\n",
    "    labels = np.asarray(labels)\n",
    "    labels = labels[indices]\n",
    "\n",
    "    training_samples = int(0.8 * len(data))\n",
    "\n",
    "    x_train = data[:training_samples]\n",
    "    y_train = labels[:training_samples]\n",
    "\n",
    "    x_test = data[training_samples:]\n",
    "    y_test = labels[training_samples:]\n",
    "\n",
    "    y_train_oh = tf.one_hot(indices=y_train, depth=dimensions_labels)\n",
    "    y_train_oh = np.asarray(y_train_oh)\n",
    "\n",
    "    y_test_oh = tf.one_hot(indices=y_test, depth=dimensions_labels)\n",
    "    y_test_oh = np.asarray(y_test_oh)\n",
    "\n",
    "    return x_train, y_train_oh, x_test, y_test_oh"
   ]
  },
  {
   "cell_type": "code",
   "execution_count": 12,
   "metadata": {},
   "outputs": [],
   "source": [
    "x_train, y_train, x_test, y_test = train_test_split(data, labels)\n",
    "\n",
    "x_train_oh, y_train_oh, x_test_oh, y_test_oh = train_test_split(\n",
    "    data_oh, labels_oh)"
   ]
  },
  {
   "cell_type": "markdown",
   "metadata": {},
   "source": [
    "# Oversample the Minority Classes"
   ]
  },
  {
   "cell_type": "code",
   "execution_count": 13,
   "metadata": {},
   "outputs": [],
   "source": [
    "def oversample_smote(x_train, y_train):\n",
    "    oversample = SMOTE()\n",
    "    x_train, y_train = oversample.fit_resample(x_train, y_train)\n",
    "\n",
    "    return x_train, y_train\n",
    "\n",
    "\n",
    "def plot_classes(y_train):\n",
    "    counter = Counter(y_train)\n",
    "    for k, v in counter.items():\n",
    "        per = v / len(y_train) * 100\n",
    "        print('Class=%d, n=%d (%.3f%%)' % (k, v, per))\n",
    "    # plot the distribution\n",
    "    plt.bar(counter.keys(), counter.values())\n",
    "    plt.show()"
   ]
  },
  {
   "cell_type": "markdown",
   "metadata": {},
   "source": [
    "# Generate a Model"
   ]
  },
  {
   "cell_type": "code",
   "execution_count": 14,
   "metadata": {},
   "outputs": [],
   "source": [
    "metrics = [\n",
    "    keras.metrics.CategoricalAccuracy(name='accuracy'),\n",
    "    keras.metrics.Precision(name='precision'),\n",
    "    keras.metrics.Recall(name='recall')]"
   ]
  },
  {
   "cell_type": "code",
   "execution_count": 15,
   "metadata": {},
   "outputs": [],
   "source": [
    "def generate_model(model_type, params_dict, ):\n",
    "    \"\"\"\n",
    "    This function compiles a model according to the chosen model_type\n",
    "    Args: \n",
    "        - model_type - which model type is to be used\n",
    "        - params_dict - dictionary with parameters for the model\n",
    "\n",
    "    Returns: \n",
    "        - a compiled model\n",
    "    \"\"\"\n",
    "\n",
    "    # set parameters\n",
    "    hidden_units = params_dict['hidden_units']\n",
    "    dimensions_labels = params_dict['number_of_classes']\n",
    "    max_words = params_dict['max_words']\n",
    "    max_len = params_dict['max_len']\n",
    "    embedding_size = params_dict['embedding_size']\n",
    "    embedding_dim = params_dict['embedding_dim']\n",
    "    conv_window = params_dict['conv_window']\n",
    "\n",
    "    # fully connected bag-of-words\n",
    "    if model_type == PARAMS['model_type'][0]:\n",
    "        model = models.Sequential()\n",
    "        model.add(layers.Dense(hidden_units, activation='relu',\n",
    "                               input_shape=(max_words, )))\n",
    "        model.add(layers.Dense(hidden_units, activation='relu'))\n",
    "        model.add(layers.Dense(dimensions_labels, activation='softmax'))\n",
    "\n",
    "    # fully connected & \"homegrown\" embeddings layer\n",
    "    elif model_type == PARAMS['model_type'][1]:\n",
    "        model = models.Sequential()\n",
    "        model.add(layers.Embedding(max_words+1,\n",
    "                                   embedding_size, input_length=max_len))\n",
    "        model.add(layers.Flatten())\n",
    "        model.add(layers.Dense(hidden_units, activation='relu'))\n",
    "        # input_shape=(max_words, )))\n",
    "        model.add(layers.Dense(hidden_units, activation='relu'))\n",
    "        model.add(layers.Dense(dimensions_labels, activation='softmax'))\n",
    "\n",
    "    # fully connected & a pre-trained embeddings layer\n",
    "    elif model_type == PARAMS['model_type'][2]:\n",
    "        model = models.Sequential()\n",
    "        model.add(layers.Embedding(max_words+1,\n",
    "                                   embedding_dim, input_length=max_len))\n",
    "        model.add(layers.Flatten())\n",
    "        model.add(layers.Dense(hidden_units, activation='relu'))\n",
    "        # input_shape=(max_words, )))\n",
    "        model.add(layers.Dense(hidden_units, activation='relu'))\n",
    "        model.add(layers.Dense(dimensions_labels, activation='softmax'))\n",
    "\n",
    "        model.layers[0].set_weights([embedding_matrix])  # !!!! important !!!!\n",
    "        model.layers[0].trainable = False\n",
    "\n",
    "    # lstm with \"homegrowm\" embeddings layer\n",
    "    elif model_type == PARAMS['model_type'][3]:\n",
    "        model = models.Sequential()\n",
    "        model.add(layers.Embedding(max_words+1,\n",
    "                                   embedding_dim, input_length=max_len))\n",
    "        model.add(layers.LSTM(hidden_units))\n",
    "        model.add(layers.Dense(hidden_units, activation='relu'))\n",
    "        model.add(layers.Dense(hidden_units, activation='relu'))\n",
    "        model.add(layers.Dense(dimensions_labels, activation='softmax'))\n",
    "\n",
    "    # lstm with pre-trained embeddings layer\n",
    "    elif model_type == PARAMS['model_type'][4]:\n",
    "        model = models.Sequential()\n",
    "        model.add(layers.Embedding(max_words+1,\n",
    "                                   embedding_dim, input_length=max_len))\n",
    "        model.add(layers.LSTM(hidden_units))\n",
    "        model.add(layers.Dense(hidden_units, activation='relu'))\n",
    "        model.add(layers.Dense(hidden_units, activation='relu'))\n",
    "        model.add(layers.Dense(dimensions_labels, activation='softmax'))\n",
    "\n",
    "        model.layers[0].set_weights(\n",
    "            [embedding_matrix])  # !!!! important !!!!\n",
    "        model.layers[0].trainable = False\n",
    "\n",
    "    # conv1D with \"homegrown\" embeddings layer\n",
    "    elif model_type == PARAMS['model_type'][5]:\n",
    "        model = models.Sequential()\n",
    "        model.add(layers.Embedding(max_words+1,\n",
    "                                   embedding_size, input_length=max_len))\n",
    "\n",
    "        model.add(layers.Conv1D(\n",
    "            hidden_units,  # features to be extracted\n",
    "            conv_window,  # convolutional window size\n",
    "            activation='relu',\n",
    "        ))\n",
    "        model.add(layers.Conv1D(hidden_units, conv_window, activation='relu'))\n",
    "        model.add(layers.GlobalMaxPooling1D())\n",
    "        model.add(layers.Dense(dimensions_labels, activation='softmax'))\n",
    "\n",
    "    # conv1D with pre-trained embeddings layer\n",
    "    elif model_type == PARAMS['model_type'][6]:\n",
    "        model = models.Sequential()\n",
    "        model.add(layers.Embedding(max_words+1,\n",
    "                                   embedding_dim, input_length=max_len))\n",
    "\n",
    "        model.add(layers.Conv1D(hidden_units, conv_window, activation='relu',))\n",
    "        model.add(layers.Conv1D(hidden_units, conv_window, activation='relu'))\n",
    "        model.add(layers.GlobalMaxPooling1D())\n",
    "        model.add(layers.Dense(dimensions_labels, activation='softmax'))\n",
    "\n",
    "        model.layers[0].set_weights([embedding_matrix])  # !!!! important !!!!\n",
    "        model.layers[0].trainable = False\n",
    "\n",
    "    model.summary()\n",
    "\n",
    "    model.compile(\n",
    "        optimizer='adam',\n",
    "        loss='categorical_crossentropy',\n",
    "        metrics=metrics\n",
    "    )\n",
    "\n",
    "    return model"
   ]
  },
  {
   "cell_type": "markdown",
   "metadata": {},
   "source": [
    "# Training with Cross-Validation (incl. Upsampling)"
   ]
  },
  {
   "cell_type": "markdown",
   "metadata": {},
   "source": [
    "* Due to the small data quantity, cross-validation will be used to train the models.\n",
    "* Furthermore, as the classes are imbalanced, an oversampling will be introduced. ! It is important to generate the training and validation sets BEFORE the upsampling. Otherwise the exact same observations could be present in both the train and validation sets, i.e. data leakage would occur. This can allow the model to simply memorize specific data points and cause overfitting and poor generalization on unseen data. \n",
    "* The oversampling will be applied only on the train set in order to ensure that the model generalises well on unseen data (validation set and ultimately test set)"
   ]
  },
  {
   "cell_type": "code",
   "execution_count": 16,
   "metadata": {},
   "outputs": [],
   "source": [
    "def train_with_cross_val(k, model, model_type, train_data, train_labels, epochs, batch_size):\n",
    "    \"\"\"\n",
    "    This function applies a k-fold cross-validation and saves the model history per fold & epoch.\n",
    "    Args: \n",
    "        - k - number of folds\n",
    "        - model - compiled model\n",
    "        - model_type - which model type is to be used\n",
    "        - train_data - the tokenised, padded and shuffled sequences\n",
    "        - train_labels - labels \n",
    "        - epochs - number of epochs\n",
    "        - batch_size - batch size\n",
    "    \"\"\"\n",
    "    num_val_samples = len(train_data) // k\n",
    "\n",
    "    for i in range(k):\n",
    "        print('processing fold #', i)\n",
    "        val_data = train_data[i * num_val_samples:(i + 1) * num_val_samples]\n",
    "        val_labels = train_labels[i *\n",
    "                                  num_val_samples:(i + 1) * num_val_samples]\n",
    "\n",
    "        partial_train_data = np.concatenate(\n",
    "            [train_data[:i * num_val_samples],\n",
    "             train_data[(i + 1) * num_val_samples:]],\n",
    "            axis=0)\n",
    "\n",
    "        partial_train_labels = np.concatenate(\n",
    "            [train_labels[:i * num_val_samples],\n",
    "             train_labels[(i + 1) * num_val_samples:]],\n",
    "            axis=0\n",
    "        )\n",
    "\n",
    "        partial_train_data_ovs, partial_train_labels_ovs = oversample_smote(\n",
    "            partial_train_data, partial_train_labels)\n",
    "\n",
    "        history = model.fit(\n",
    "            partial_train_data_ovs, partial_train_labels_ovs,\n",
    "            epochs=epochs,\n",
    "            batch_size=batch_size,\n",
    "            verbose=0,\n",
    "            validation_data=(val_data, val_labels),\n",
    "            # callbacks=tensorboard_callbacks\n",
    "        )\n",
    "\n",
    "        np.save(f'history_{model_type}_fold_{i}.npy', history.history)\n",
    "\n",
    "    if saving:\n",
    "        path = os.path.join(logdir, f'{model_type}')\n",
    "        model.save(path)"
   ]
  },
  {
   "cell_type": "markdown",
   "metadata": {},
   "source": [
    "# Baseline Model"
   ]
  },
  {
   "cell_type": "markdown",
   "metadata": {},
   "source": [
    "Idea Model: https://machinelearningmastery.com/imbalanced-multiclass-classification-with-the-glass-identification-dataset/\n",
    "\n",
    "Metrics: https://scikit-learn.org/stable/modules/model_evaluation.html\n",
    "\n",
    "\n",
    "* As the Fully Connected NN model's the precision, recall and f1 are calculcated unweighted, precision, recall & f1 are chosen to be macro\n",
    "* According to the sklearn-documentation this method calculates the metrics for each label, and finds their unweighted mean and does not take label imbalance into account.\n",
    "* Example documentation for precision: https://scikit-learn.org/stable/modules/generated/sklearn.metrics.precision_score.html\n",
    "\n",
    "Note: test_[metric] is validation and therefore comparable to the val_[metric] of the model."
   ]
  },
  {
   "cell_type": "code",
   "execution_count": 17,
   "metadata": {},
   "outputs": [],
   "source": [
    "scoring = ['accuracy', 'precision_macro', 'recall_macro', 'f1_macro']"
   ]
  },
  {
   "cell_type": "code",
   "execution_count": 18,
   "metadata": {},
   "outputs": [],
   "source": [
    "model_base = DummyClassifier(strategy='most_frequent')"
   ]
  },
  {
   "cell_type": "code",
   "execution_count": 19,
   "metadata": {},
   "outputs": [
    {
     "name": "stderr",
     "output_type": "stream",
     "text": [
      "/Users/iskriyanavasileva/opt/anaconda3/envs/nlp-sent/lib/python3.6/site-packages/sklearn/model_selection/_split.py:297: FutureWarning: Setting a random_state has no effect since shuffle is False. This will raise an error in 0.24. You should leave random_state to its default (None), or set shuffle=True.\n",
      "  FutureWarning\n"
     ]
    }
   ],
   "source": [
    "cv = KFold(n_splits=PARAMS['k'], random_state=PARAMS['seed'])\n",
    "   \n",
    "scores = cross_validate(\n",
    "        model_base, x_train, y_train, scoring=scoring, cv=cv, n_jobs=-1)"
   ]
  },
  {
   "cell_type": "code",
   "execution_count": 20,
   "metadata": {},
   "outputs": [
    {
     "name": "stdout",
     "output_type": "stream",
     "text": [
      "Mean fit_time: 0.001 (0.000)\n",
      "Mean score_time: 0.010 (0.000)\n",
      "Mean test_accuracy: 0.584 (0.006)\n",
      "Mean test_precision_macro: 0.146 (0.002)\n",
      "Mean test_recall_macro: 0.250 (0.000)\n",
      "Mean test_f1_macro: 0.184 (0.001)\n"
     ]
    }
   ],
   "source": [
    "for metric, score in scores.items():\n",
    "    print(f'Mean {metric}: %.3f (%.3f)' %\n",
    "          (np.mean(score), np.std(score)))"
   ]
  },
  {
   "cell_type": "markdown",
   "metadata": {},
   "source": [
    "# Train the Model per Type"
   ]
  },
  {
   "cell_type": "code",
   "execution_count": 21,
   "metadata": {},
   "outputs": [
    {
     "name": "stdout",
     "output_type": "stream",
     "text": [
      "Model: \"sequential\"\n",
      "_________________________________________________________________\n",
      "Layer (type)                 Output Shape              Param #   \n",
      "=================================================================\n",
      "dense (Dense)                (None, 32)                320032    \n",
      "_________________________________________________________________\n",
      "dense_1 (Dense)              (None, 32)                1056      \n",
      "_________________________________________________________________\n",
      "dense_2 (Dense)              (None, 4)                 132       \n",
      "=================================================================\n",
      "Total params: 321,220\n",
      "Trainable params: 321,220\n",
      "Non-trainable params: 0\n",
      "_________________________________________________________________\n",
      "processing fold # 0\n"
     ]
    },
    {
     "name": "stderr",
     "output_type": "stream",
     "text": [
      "/Users/iskriyanavasileva/opt/anaconda3/envs/nlp-sent/lib/python3.6/site-packages/sklearn/utils/validation.py:70: FutureWarning: Pass classes=[0 1 2 3] as keyword args. From version 0.25 passing these as positional arguments will result in an error\n",
      "  FutureWarning)\n"
     ]
    },
    {
     "name": "stdout",
     "output_type": "stream",
     "text": [
      "processing fold # 1\n"
     ]
    },
    {
     "name": "stderr",
     "output_type": "stream",
     "text": [
      "/Users/iskriyanavasileva/opt/anaconda3/envs/nlp-sent/lib/python3.6/site-packages/sklearn/utils/validation.py:70: FutureWarning: Pass classes=[0 1 2 3] as keyword args. From version 0.25 passing these as positional arguments will result in an error\n",
      "  FutureWarning)\n"
     ]
    },
    {
     "name": "stdout",
     "output_type": "stream",
     "text": [
      "processing fold # 2\n"
     ]
    },
    {
     "name": "stderr",
     "output_type": "stream",
     "text": [
      "/Users/iskriyanavasileva/opt/anaconda3/envs/nlp-sent/lib/python3.6/site-packages/sklearn/utils/validation.py:70: FutureWarning: Pass classes=[0 1 2 3] as keyword args. From version 0.25 passing these as positional arguments will result in an error\n",
      "  FutureWarning)\n"
     ]
    },
    {
     "name": "stdout",
     "output_type": "stream",
     "text": [
      "processing fold # 3\n"
     ]
    },
    {
     "name": "stderr",
     "output_type": "stream",
     "text": [
      "/Users/iskriyanavasileva/opt/anaconda3/envs/nlp-sent/lib/python3.6/site-packages/sklearn/utils/validation.py:70: FutureWarning: Pass classes=[0 1 2 3] as keyword args. From version 0.25 passing these as positional arguments will result in an error\n",
      "  FutureWarning)\n"
     ]
    },
    {
     "name": "stdout",
     "output_type": "stream",
     "text": [
      "WARNING:tensorflow:From /Users/iskriyanavasileva/opt/anaconda3/envs/nlp-sent/lib/python3.6/site-packages/tensorflow/python/training/tracking/tracking.py:111: Model.state_updates (from tensorflow.python.keras.engine.training) is deprecated and will be removed in a future version.\n",
      "Instructions for updating:\n",
      "This property should not be used in TensorFlow 2.0, as updates are applied automatically.\n",
      "WARNING:tensorflow:From /Users/iskriyanavasileva/opt/anaconda3/envs/nlp-sent/lib/python3.6/site-packages/tensorflow/python/training/tracking/tracking.py:111: Layer.updates (from tensorflow.python.keras.engine.base_layer) is deprecated and will be removed in a future version.\n",
      "Instructions for updating:\n",
      "This property should not be used in TensorFlow 2.0, as updates are applied automatically.\n",
      "INFO:tensorflow:Assets written to: logs/experiments/all_models_no_counter_overfitting_2020_12_09-18:43/bow/assets\n",
      "Model: \"sequential_1\"\n",
      "_________________________________________________________________\n",
      "Layer (type)                 Output Shape              Param #   \n",
      "=================================================================\n",
      "embedding (Embedding)        (None, 25, 30)            300030    \n",
      "_________________________________________________________________\n",
      "flatten (Flatten)            (None, 750)               0         \n",
      "_________________________________________________________________\n",
      "dense_3 (Dense)              (None, 32)                24032     \n",
      "_________________________________________________________________\n",
      "dense_4 (Dense)              (None, 32)                1056      \n",
      "_________________________________________________________________\n",
      "dense_5 (Dense)              (None, 4)                 132       \n",
      "=================================================================\n",
      "Total params: 325,250\n",
      "Trainable params: 325,250\n",
      "Non-trainable params: 0\n",
      "_________________________________________________________________\n",
      "processing fold # 0\n"
     ]
    },
    {
     "name": "stderr",
     "output_type": "stream",
     "text": [
      "/Users/iskriyanavasileva/opt/anaconda3/envs/nlp-sent/lib/python3.6/site-packages/sklearn/utils/validation.py:70: FutureWarning: Pass classes=[0 1 2 3] as keyword args. From version 0.25 passing these as positional arguments will result in an error\n",
      "  FutureWarning)\n"
     ]
    },
    {
     "name": "stdout",
     "output_type": "stream",
     "text": [
      "processing fold # 1\n"
     ]
    },
    {
     "name": "stderr",
     "output_type": "stream",
     "text": [
      "/Users/iskriyanavasileva/opt/anaconda3/envs/nlp-sent/lib/python3.6/site-packages/sklearn/utils/validation.py:70: FutureWarning: Pass classes=[0 1 2 3] as keyword args. From version 0.25 passing these as positional arguments will result in an error\n",
      "  FutureWarning)\n"
     ]
    },
    {
     "name": "stdout",
     "output_type": "stream",
     "text": [
      "processing fold # 2\n"
     ]
    },
    {
     "name": "stderr",
     "output_type": "stream",
     "text": [
      "/Users/iskriyanavasileva/opt/anaconda3/envs/nlp-sent/lib/python3.6/site-packages/sklearn/utils/validation.py:70: FutureWarning: Pass classes=[0 1 2 3] as keyword args. From version 0.25 passing these as positional arguments will result in an error\n",
      "  FutureWarning)\n"
     ]
    },
    {
     "name": "stdout",
     "output_type": "stream",
     "text": [
      "processing fold # 3\n"
     ]
    },
    {
     "name": "stderr",
     "output_type": "stream",
     "text": [
      "/Users/iskriyanavasileva/opt/anaconda3/envs/nlp-sent/lib/python3.6/site-packages/sklearn/utils/validation.py:70: FutureWarning: Pass classes=[0 1 2 3] as keyword args. From version 0.25 passing these as positional arguments will result in an error\n",
      "  FutureWarning)\n"
     ]
    },
    {
     "name": "stdout",
     "output_type": "stream",
     "text": [
      "INFO:tensorflow:Assets written to: logs/experiments/all_models_no_counter_overfitting_2020_12_09-18:43/fc_emb/assets\n",
      "Model: \"sequential_2\"\n",
      "_________________________________________________________________\n",
      "Layer (type)                 Output Shape              Param #   \n",
      "=================================================================\n",
      "embedding_1 (Embedding)      (None, 25, 100)           1000100   \n",
      "_________________________________________________________________\n",
      "flatten_1 (Flatten)          (None, 2500)              0         \n",
      "_________________________________________________________________\n",
      "dense_6 (Dense)              (None, 32)                80032     \n",
      "_________________________________________________________________\n",
      "dense_7 (Dense)              (None, 32)                1056      \n",
      "_________________________________________________________________\n",
      "dense_8 (Dense)              (None, 4)                 132       \n",
      "=================================================================\n",
      "Total params: 1,081,320\n",
      "Trainable params: 81,220\n",
      "Non-trainable params: 1,000,100\n",
      "_________________________________________________________________\n",
      "processing fold # 0\n"
     ]
    },
    {
     "name": "stderr",
     "output_type": "stream",
     "text": [
      "/Users/iskriyanavasileva/opt/anaconda3/envs/nlp-sent/lib/python3.6/site-packages/sklearn/utils/validation.py:70: FutureWarning: Pass classes=[0 1 2 3] as keyword args. From version 0.25 passing these as positional arguments will result in an error\n",
      "  FutureWarning)\n"
     ]
    },
    {
     "name": "stdout",
     "output_type": "stream",
     "text": [
      "processing fold # 1\n"
     ]
    },
    {
     "name": "stderr",
     "output_type": "stream",
     "text": [
      "/Users/iskriyanavasileva/opt/anaconda3/envs/nlp-sent/lib/python3.6/site-packages/sklearn/utils/validation.py:70: FutureWarning: Pass classes=[0 1 2 3] as keyword args. From version 0.25 passing these as positional arguments will result in an error\n",
      "  FutureWarning)\n"
     ]
    },
    {
     "name": "stdout",
     "output_type": "stream",
     "text": [
      "processing fold # 2\n"
     ]
    },
    {
     "name": "stderr",
     "output_type": "stream",
     "text": [
      "/Users/iskriyanavasileva/opt/anaconda3/envs/nlp-sent/lib/python3.6/site-packages/sklearn/utils/validation.py:70: FutureWarning: Pass classes=[0 1 2 3] as keyword args. From version 0.25 passing these as positional arguments will result in an error\n",
      "  FutureWarning)\n"
     ]
    },
    {
     "name": "stdout",
     "output_type": "stream",
     "text": [
      "processing fold # 3\n"
     ]
    },
    {
     "name": "stderr",
     "output_type": "stream",
     "text": [
      "/Users/iskriyanavasileva/opt/anaconda3/envs/nlp-sent/lib/python3.6/site-packages/sklearn/utils/validation.py:70: FutureWarning: Pass classes=[0 1 2 3] as keyword args. From version 0.25 passing these as positional arguments will result in an error\n",
      "  FutureWarning)\n"
     ]
    },
    {
     "name": "stdout",
     "output_type": "stream",
     "text": [
      "INFO:tensorflow:Assets written to: logs/experiments/all_models_no_counter_overfitting_2020_12_09-18:43/fc_transf/assets\n",
      "Model: \"sequential_3\"\n",
      "_________________________________________________________________\n",
      "Layer (type)                 Output Shape              Param #   \n",
      "=================================================================\n",
      "embedding_2 (Embedding)      (None, 25, 100)           1000100   \n",
      "_________________________________________________________________\n",
      "lstm (LSTM)                  (None, 32)                17024     \n",
      "_________________________________________________________________\n",
      "dense_9 (Dense)              (None, 32)                1056      \n",
      "_________________________________________________________________\n",
      "dense_10 (Dense)             (None, 32)                1056      \n",
      "_________________________________________________________________\n",
      "dense_11 (Dense)             (None, 4)                 132       \n",
      "=================================================================\n",
      "Total params: 1,019,368\n",
      "Trainable params: 1,019,368\n",
      "Non-trainable params: 0\n",
      "_________________________________________________________________\n",
      "processing fold # 0\n"
     ]
    },
    {
     "name": "stderr",
     "output_type": "stream",
     "text": [
      "/Users/iskriyanavasileva/opt/anaconda3/envs/nlp-sent/lib/python3.6/site-packages/sklearn/utils/validation.py:70: FutureWarning: Pass classes=[0 1 2 3] as keyword args. From version 0.25 passing these as positional arguments will result in an error\n",
      "  FutureWarning)\n"
     ]
    },
    {
     "name": "stdout",
     "output_type": "stream",
     "text": [
      "processing fold # 1\n"
     ]
    },
    {
     "name": "stderr",
     "output_type": "stream",
     "text": [
      "/Users/iskriyanavasileva/opt/anaconda3/envs/nlp-sent/lib/python3.6/site-packages/sklearn/utils/validation.py:70: FutureWarning: Pass classes=[0 1 2 3] as keyword args. From version 0.25 passing these as positional arguments will result in an error\n",
      "  FutureWarning)\n"
     ]
    },
    {
     "name": "stdout",
     "output_type": "stream",
     "text": [
      "processing fold # 2\n"
     ]
    },
    {
     "name": "stderr",
     "output_type": "stream",
     "text": [
      "/Users/iskriyanavasileva/opt/anaconda3/envs/nlp-sent/lib/python3.6/site-packages/sklearn/utils/validation.py:70: FutureWarning: Pass classes=[0 1 2 3] as keyword args. From version 0.25 passing these as positional arguments will result in an error\n",
      "  FutureWarning)\n"
     ]
    },
    {
     "name": "stdout",
     "output_type": "stream",
     "text": [
      "processing fold # 3\n"
     ]
    },
    {
     "name": "stderr",
     "output_type": "stream",
     "text": [
      "/Users/iskriyanavasileva/opt/anaconda3/envs/nlp-sent/lib/python3.6/site-packages/sklearn/utils/validation.py:70: FutureWarning: Pass classes=[0 1 2 3] as keyword args. From version 0.25 passing these as positional arguments will result in an error\n",
      "  FutureWarning)\n"
     ]
    },
    {
     "name": "stdout",
     "output_type": "stream",
     "text": [
      "INFO:tensorflow:Assets written to: logs/experiments/all_models_no_counter_overfitting_2020_12_09-18:43/lstm/assets\n",
      "Model: \"sequential_4\"\n",
      "_________________________________________________________________\n",
      "Layer (type)                 Output Shape              Param #   \n",
      "=================================================================\n",
      "embedding_3 (Embedding)      (None, 25, 100)           1000100   \n",
      "_________________________________________________________________\n",
      "lstm_1 (LSTM)                (None, 32)                17024     \n",
      "_________________________________________________________________\n",
      "dense_12 (Dense)             (None, 32)                1056      \n",
      "_________________________________________________________________\n",
      "dense_13 (Dense)             (None, 32)                1056      \n",
      "_________________________________________________________________\n",
      "dense_14 (Dense)             (None, 4)                 132       \n",
      "=================================================================\n",
      "Total params: 1,019,368\n",
      "Trainable params: 19,268\n",
      "Non-trainable params: 1,000,100\n",
      "_________________________________________________________________\n",
      "processing fold # 0\n"
     ]
    },
    {
     "name": "stderr",
     "output_type": "stream",
     "text": [
      "/Users/iskriyanavasileva/opt/anaconda3/envs/nlp-sent/lib/python3.6/site-packages/sklearn/utils/validation.py:70: FutureWarning: Pass classes=[0 1 2 3] as keyword args. From version 0.25 passing these as positional arguments will result in an error\n",
      "  FutureWarning)\n"
     ]
    },
    {
     "name": "stdout",
     "output_type": "stream",
     "text": [
      "processing fold # 1\n"
     ]
    },
    {
     "name": "stderr",
     "output_type": "stream",
     "text": [
      "/Users/iskriyanavasileva/opt/anaconda3/envs/nlp-sent/lib/python3.6/site-packages/sklearn/utils/validation.py:70: FutureWarning: Pass classes=[0 1 2 3] as keyword args. From version 0.25 passing these as positional arguments will result in an error\n",
      "  FutureWarning)\n"
     ]
    },
    {
     "name": "stdout",
     "output_type": "stream",
     "text": [
      "processing fold # 2\n"
     ]
    },
    {
     "name": "stderr",
     "output_type": "stream",
     "text": [
      "/Users/iskriyanavasileva/opt/anaconda3/envs/nlp-sent/lib/python3.6/site-packages/sklearn/utils/validation.py:70: FutureWarning: Pass classes=[0 1 2 3] as keyword args. From version 0.25 passing these as positional arguments will result in an error\n",
      "  FutureWarning)\n"
     ]
    },
    {
     "name": "stdout",
     "output_type": "stream",
     "text": [
      "processing fold # 3\n"
     ]
    },
    {
     "name": "stderr",
     "output_type": "stream",
     "text": [
      "/Users/iskriyanavasileva/opt/anaconda3/envs/nlp-sent/lib/python3.6/site-packages/sklearn/utils/validation.py:70: FutureWarning: Pass classes=[0 1 2 3] as keyword args. From version 0.25 passing these as positional arguments will result in an error\n",
      "  FutureWarning)\n"
     ]
    },
    {
     "name": "stdout",
     "output_type": "stream",
     "text": [
      "INFO:tensorflow:Assets written to: logs/experiments/all_models_no_counter_overfitting_2020_12_09-18:43/lstm_transf/assets\n",
      "Model: \"sequential_5\"\n",
      "_________________________________________________________________\n",
      "Layer (type)                 Output Shape              Param #   \n",
      "=================================================================\n",
      "embedding_4 (Embedding)      (None, 25, 30)            300030    \n",
      "_________________________________________________________________\n",
      "conv1d (Conv1D)              (None, 21, 32)            4832      \n",
      "_________________________________________________________________\n",
      "conv1d_1 (Conv1D)            (None, 17, 32)            5152      \n",
      "_________________________________________________________________\n",
      "global_max_pooling1d (Global (None, 32)                0         \n",
      "_________________________________________________________________\n",
      "dense_15 (Dense)             (None, 4)                 132       \n",
      "=================================================================\n",
      "Total params: 310,146\n",
      "Trainable params: 310,146\n",
      "Non-trainable params: 0\n",
      "_________________________________________________________________\n",
      "processing fold # 0\n"
     ]
    },
    {
     "name": "stderr",
     "output_type": "stream",
     "text": [
      "/Users/iskriyanavasileva/opt/anaconda3/envs/nlp-sent/lib/python3.6/site-packages/sklearn/utils/validation.py:70: FutureWarning: Pass classes=[0 1 2 3] as keyword args. From version 0.25 passing these as positional arguments will result in an error\n",
      "  FutureWarning)\n"
     ]
    },
    {
     "name": "stdout",
     "output_type": "stream",
     "text": [
      "processing fold # 1\n"
     ]
    },
    {
     "name": "stderr",
     "output_type": "stream",
     "text": [
      "/Users/iskriyanavasileva/opt/anaconda3/envs/nlp-sent/lib/python3.6/site-packages/sklearn/utils/validation.py:70: FutureWarning: Pass classes=[0 1 2 3] as keyword args. From version 0.25 passing these as positional arguments will result in an error\n",
      "  FutureWarning)\n"
     ]
    },
    {
     "name": "stdout",
     "output_type": "stream",
     "text": [
      "processing fold # 2\n"
     ]
    },
    {
     "name": "stderr",
     "output_type": "stream",
     "text": [
      "/Users/iskriyanavasileva/opt/anaconda3/envs/nlp-sent/lib/python3.6/site-packages/sklearn/utils/validation.py:70: FutureWarning: Pass classes=[0 1 2 3] as keyword args. From version 0.25 passing these as positional arguments will result in an error\n",
      "  FutureWarning)\n"
     ]
    },
    {
     "name": "stdout",
     "output_type": "stream",
     "text": [
      "processing fold # 3\n"
     ]
    },
    {
     "name": "stderr",
     "output_type": "stream",
     "text": [
      "/Users/iskriyanavasileva/opt/anaconda3/envs/nlp-sent/lib/python3.6/site-packages/sklearn/utils/validation.py:70: FutureWarning: Pass classes=[0 1 2 3] as keyword args. From version 0.25 passing these as positional arguments will result in an error\n",
      "  FutureWarning)\n"
     ]
    },
    {
     "name": "stdout",
     "output_type": "stream",
     "text": [
      "INFO:tensorflow:Assets written to: logs/experiments/all_models_no_counter_overfitting_2020_12_09-18:43/conv1d/assets\n",
      "Model: \"sequential_6\"\n",
      "_________________________________________________________________\n",
      "Layer (type)                 Output Shape              Param #   \n",
      "=================================================================\n",
      "embedding_5 (Embedding)      (None, 25, 100)           1000100   \n",
      "_________________________________________________________________\n",
      "conv1d_2 (Conv1D)            (None, 21, 32)            16032     \n",
      "_________________________________________________________________\n",
      "conv1d_3 (Conv1D)            (None, 17, 32)            5152      \n",
      "_________________________________________________________________\n",
      "global_max_pooling1d_1 (Glob (None, 32)                0         \n",
      "_________________________________________________________________\n",
      "dense_16 (Dense)             (None, 4)                 132       \n",
      "=================================================================\n",
      "Total params: 1,021,416\n",
      "Trainable params: 21,316\n",
      "Non-trainable params: 1,000,100\n",
      "_________________________________________________________________\n",
      "processing fold # 0\n"
     ]
    },
    {
     "name": "stderr",
     "output_type": "stream",
     "text": [
      "/Users/iskriyanavasileva/opt/anaconda3/envs/nlp-sent/lib/python3.6/site-packages/sklearn/utils/validation.py:70: FutureWarning: Pass classes=[0 1 2 3] as keyword args. From version 0.25 passing these as positional arguments will result in an error\n",
      "  FutureWarning)\n"
     ]
    },
    {
     "name": "stdout",
     "output_type": "stream",
     "text": [
      "processing fold # 1\n"
     ]
    },
    {
     "name": "stderr",
     "output_type": "stream",
     "text": [
      "/Users/iskriyanavasileva/opt/anaconda3/envs/nlp-sent/lib/python3.6/site-packages/sklearn/utils/validation.py:70: FutureWarning: Pass classes=[0 1 2 3] as keyword args. From version 0.25 passing these as positional arguments will result in an error\n",
      "  FutureWarning)\n"
     ]
    },
    {
     "name": "stdout",
     "output_type": "stream",
     "text": [
      "processing fold # 2\n"
     ]
    },
    {
     "name": "stderr",
     "output_type": "stream",
     "text": [
      "/Users/iskriyanavasileva/opt/anaconda3/envs/nlp-sent/lib/python3.6/site-packages/sklearn/utils/validation.py:70: FutureWarning: Pass classes=[0 1 2 3] as keyword args. From version 0.25 passing these as positional arguments will result in an error\n",
      "  FutureWarning)\n"
     ]
    },
    {
     "name": "stdout",
     "output_type": "stream",
     "text": [
      "processing fold # 3\n"
     ]
    },
    {
     "name": "stderr",
     "output_type": "stream",
     "text": [
      "/Users/iskriyanavasileva/opt/anaconda3/envs/nlp-sent/lib/python3.6/site-packages/sklearn/utils/validation.py:70: FutureWarning: Pass classes=[0 1 2 3] as keyword args. From version 0.25 passing these as positional arguments will result in an error\n",
      "  FutureWarning)\n"
     ]
    },
    {
     "name": "stdout",
     "output_type": "stream",
     "text": [
      "INFO:tensorflow:Assets written to: logs/experiments/all_models_no_counter_overfitting_2020_12_09-18:43/conv1d_transf/assets\n"
     ]
    }
   ],
   "source": [
    "#history_all = pd.DataFrame()\n",
    "for model_type in PARAMS['model_type']:\n",
    "    model = generate_model(model_type, PARAMS)\n",
    "\n",
    "    if model_type == PARAMS['model_type'][0]:\n",
    "        train_with_cross_val(PARAMS['k'], model, model_type, x_train_oh,\n",
    "                             y_train_oh, PARAMS['epochs'], PARAMS['batch_size'])\n",
    "    else:\n",
    "        train_with_cross_val(\n",
    "            PARAMS['k'], model, model_type, x_train, y_train, PARAMS['epochs'], PARAMS['batch_size'])"
   ]
  },
  {
   "cell_type": "markdown",
   "metadata": {},
   "source": [
    "# Evaluate the Models"
   ]
  },
  {
   "cell_type": "markdown",
   "metadata": {},
   "source": [
    "### Generate a Metrics Dataframe"
   ]
  },
  {
   "cell_type": "code",
   "execution_count": 22,
   "metadata": {},
   "outputs": [],
   "source": [
    "history_all_df = pd.DataFrame()\n",
    "\n",
    "for model_type in PARAMS['model_type']:\n",
    "    for i in range(PARAMS['k']):\n",
    "        history = np.load(\n",
    "            f'history_{model_type}_fold_{i}.npy', allow_pickle='TRUE').item()\n",
    "        history['model_type'] = model_type\n",
    "\n",
    "        history_df = pd.DataFrame(history)\n",
    "\n",
    "        history_df['f1'] = 2 * history_df.precision * \\\n",
    "            history_df.recall/(history_df.precision + history_df.recall)\n",
    "        history_df['f1'] = history_df['f1'].fillna(0)\n",
    "        history_df['val_f1'] = 2 * history_df.val_precision * \\\n",
    "            history_df.val_recall / \\\n",
    "            (history_df.val_precision + history_df.val_recall)\n",
    "        history_df['val_f1'] = history_df['val_f1'].fillna(0)\n",
    "\n",
    "        history_all_df = history_all_df.append(history_df)\n",
    "\n",
    "history_all_df\n",
    "history_all_df_pivot = history_all_df.pivot_table(columns=['model_type'],\n",
    "                                                  values=['loss', 'val_loss', 'accuracy', 'val_accuracy', 'precision', 'val_precision', 'f1', 'val_f1'])"
   ]
  },
  {
   "cell_type": "code",
   "execution_count": 23,
   "metadata": {},
   "outputs": [
    {
     "data": {
      "text/html": [
       "<div>\n",
       "<style scoped>\n",
       "    .dataframe tbody tr th:only-of-type {\n",
       "        vertical-align: middle;\n",
       "    }\n",
       "\n",
       "    .dataframe tbody tr th {\n",
       "        vertical-align: top;\n",
       "    }\n",
       "\n",
       "    .dataframe thead th {\n",
       "        text-align: right;\n",
       "    }\n",
       "</style>\n",
       "<table border=\"1\" class=\"dataframe\">\n",
       "  <thead>\n",
       "    <tr style=\"text-align: right;\">\n",
       "      <th></th>\n",
       "      <th>loss</th>\n",
       "      <th>accuracy</th>\n",
       "      <th>precision</th>\n",
       "      <th>recall</th>\n",
       "      <th>val_loss</th>\n",
       "      <th>val_accuracy</th>\n",
       "      <th>val_precision</th>\n",
       "      <th>val_recall</th>\n",
       "      <th>model_type</th>\n",
       "      <th>f1</th>\n",
       "      <th>val_f1</th>\n",
       "    </tr>\n",
       "  </thead>\n",
       "  <tbody>\n",
       "    <tr>\n",
       "      <th>0</th>\n",
       "      <td>0.687035</td>\n",
       "      <td>0.746101</td>\n",
       "      <td>0.878014</td>\n",
       "      <td>0.532496</td>\n",
       "      <td>0.928124</td>\n",
       "      <td>0.618711</td>\n",
       "      <td>0.630677</td>\n",
       "      <td>0.578616</td>\n",
       "      <td>bow</td>\n",
       "      <td>0.662936</td>\n",
       "      <td>0.603526</td>\n",
       "    </tr>\n",
       "    <tr>\n",
       "      <th>1</th>\n",
       "      <td>0.225142</td>\n",
       "      <td>0.910854</td>\n",
       "      <td>0.916566</td>\n",
       "      <td>0.906737</td>\n",
       "      <td>1.085404</td>\n",
       "      <td>0.627358</td>\n",
       "      <td>0.633575</td>\n",
       "      <td>0.617138</td>\n",
       "      <td>bow</td>\n",
       "      <td>0.911625</td>\n",
       "      <td>0.625249</td>\n",
       "    </tr>\n",
       "    <tr>\n",
       "      <th>2</th>\n",
       "      <td>0.138270</td>\n",
       "      <td>0.947682</td>\n",
       "      <td>0.948654</td>\n",
       "      <td>0.946599</td>\n",
       "      <td>1.286554</td>\n",
       "      <td>0.628931</td>\n",
       "      <td>0.630192</td>\n",
       "      <td>0.620283</td>\n",
       "      <td>bow</td>\n",
       "      <td>0.947625</td>\n",
       "      <td>0.625198</td>\n",
       "    </tr>\n",
       "    <tr>\n",
       "      <th>3</th>\n",
       "      <td>0.103617</td>\n",
       "      <td>0.962305</td>\n",
       "      <td>0.963116</td>\n",
       "      <td>0.961655</td>\n",
       "      <td>1.482527</td>\n",
       "      <td>0.632862</td>\n",
       "      <td>0.634554</td>\n",
       "      <td>0.626572</td>\n",
       "      <td>bow</td>\n",
       "      <td>0.962385</td>\n",
       "      <td>0.630538</td>\n",
       "    </tr>\n",
       "    <tr>\n",
       "      <th>4</th>\n",
       "      <td>0.083549</td>\n",
       "      <td>0.968696</td>\n",
       "      <td>0.968997</td>\n",
       "      <td>0.968263</td>\n",
       "      <td>1.621719</td>\n",
       "      <td>0.633648</td>\n",
       "      <td>0.634921</td>\n",
       "      <td>0.628931</td>\n",
       "      <td>bow</td>\n",
       "      <td>0.968630</td>\n",
       "      <td>0.631912</td>\n",
       "    </tr>\n",
       "    <tr>\n",
       "      <th>...</th>\n",
       "      <td>...</td>\n",
       "      <td>...</td>\n",
       "      <td>...</td>\n",
       "      <td>...</td>\n",
       "      <td>...</td>\n",
       "      <td>...</td>\n",
       "      <td>...</td>\n",
       "      <td>...</td>\n",
       "      <td>...</td>\n",
       "      <td>...</td>\n",
       "      <td>...</td>\n",
       "    </tr>\n",
       "    <tr>\n",
       "      <th>10</th>\n",
       "      <td>0.299587</td>\n",
       "      <td>0.899978</td>\n",
       "      <td>0.923195</td>\n",
       "      <td>0.875112</td>\n",
       "      <td>0.795208</td>\n",
       "      <td>0.729560</td>\n",
       "      <td>0.759932</td>\n",
       "      <td>0.706761</td>\n",
       "      <td>conv1d_transf</td>\n",
       "      <td>0.898511</td>\n",
       "      <td>0.732383</td>\n",
       "    </tr>\n",
       "    <tr>\n",
       "      <th>11</th>\n",
       "      <td>0.275233</td>\n",
       "      <td>0.912746</td>\n",
       "      <td>0.930598</td>\n",
       "      <td>0.889113</td>\n",
       "      <td>0.812789</td>\n",
       "      <td>0.725629</td>\n",
       "      <td>0.742251</td>\n",
       "      <td>0.715409</td>\n",
       "      <td>conv1d_transf</td>\n",
       "      <td>0.909383</td>\n",
       "      <td>0.728583</td>\n",
       "    </tr>\n",
       "    <tr>\n",
       "      <th>12</th>\n",
       "      <td>0.242709</td>\n",
       "      <td>0.929884</td>\n",
       "      <td>0.943652</td>\n",
       "      <td>0.911626</td>\n",
       "      <td>0.950432</td>\n",
       "      <td>0.693396</td>\n",
       "      <td>0.714760</td>\n",
       "      <td>0.677673</td>\n",
       "      <td>conv1d_transf</td>\n",
       "      <td>0.927363</td>\n",
       "      <td>0.695722</td>\n",
       "    </tr>\n",
       "    <tr>\n",
       "      <th>13</th>\n",
       "      <td>0.223826</td>\n",
       "      <td>0.938396</td>\n",
       "      <td>0.951425</td>\n",
       "      <td>0.923611</td>\n",
       "      <td>0.917222</td>\n",
       "      <td>0.701258</td>\n",
       "      <td>0.710893</td>\n",
       "      <td>0.682390</td>\n",
       "      <td>conv1d_transf</td>\n",
       "      <td>0.937312</td>\n",
       "      <td>0.696350</td>\n",
       "    </tr>\n",
       "    <tr>\n",
       "      <th>14</th>\n",
       "      <td>0.199830</td>\n",
       "      <td>0.947245</td>\n",
       "      <td>0.957031</td>\n",
       "      <td>0.933020</td>\n",
       "      <td>0.940388</td>\n",
       "      <td>0.707547</td>\n",
       "      <td>0.725185</td>\n",
       "      <td>0.694969</td>\n",
       "      <td>conv1d_transf</td>\n",
       "      <td>0.944873</td>\n",
       "      <td>0.709755</td>\n",
       "    </tr>\n",
       "  </tbody>\n",
       "</table>\n",
       "<p>420 rows × 11 columns</p>\n",
       "</div>"
      ],
      "text/plain": [
       "        loss  accuracy  precision    recall  val_loss  val_accuracy  \\\n",
       "0   0.687035  0.746101   0.878014  0.532496  0.928124      0.618711   \n",
       "1   0.225142  0.910854   0.916566  0.906737  1.085404      0.627358   \n",
       "2   0.138270  0.947682   0.948654  0.946599  1.286554      0.628931   \n",
       "3   0.103617  0.962305   0.963116  0.961655  1.482527      0.632862   \n",
       "4   0.083549  0.968696   0.968997  0.968263  1.621719      0.633648   \n",
       "..       ...       ...        ...       ...       ...           ...   \n",
       "10  0.299587  0.899978   0.923195  0.875112  0.795208      0.729560   \n",
       "11  0.275233  0.912746   0.930598  0.889113  0.812789      0.725629   \n",
       "12  0.242709  0.929884   0.943652  0.911626  0.950432      0.693396   \n",
       "13  0.223826  0.938396   0.951425  0.923611  0.917222      0.701258   \n",
       "14  0.199830  0.947245   0.957031  0.933020  0.940388      0.707547   \n",
       "\n",
       "    val_precision  val_recall     model_type        f1    val_f1  \n",
       "0        0.630677    0.578616            bow  0.662936  0.603526  \n",
       "1        0.633575    0.617138            bow  0.911625  0.625249  \n",
       "2        0.630192    0.620283            bow  0.947625  0.625198  \n",
       "3        0.634554    0.626572            bow  0.962385  0.630538  \n",
       "4        0.634921    0.628931            bow  0.968630  0.631912  \n",
       "..            ...         ...            ...       ...       ...  \n",
       "10       0.759932    0.706761  conv1d_transf  0.898511  0.732383  \n",
       "11       0.742251    0.715409  conv1d_transf  0.909383  0.728583  \n",
       "12       0.714760    0.677673  conv1d_transf  0.927363  0.695722  \n",
       "13       0.710893    0.682390  conv1d_transf  0.937312  0.696350  \n",
       "14       0.725185    0.694969  conv1d_transf  0.944873  0.709755  \n",
       "\n",
       "[420 rows x 11 columns]"
      ]
     },
     "execution_count": 23,
     "metadata": {},
     "output_type": "execute_result"
    }
   ],
   "source": [
    "history_all_df"
   ]
  },
  {
   "cell_type": "code",
   "execution_count": 24,
   "metadata": {},
   "outputs": [
    {
     "data": {
      "text/html": [
       "<div>\n",
       "<style scoped>\n",
       "    .dataframe tbody tr th:only-of-type {\n",
       "        vertical-align: middle;\n",
       "    }\n",
       "\n",
       "    .dataframe tbody tr th {\n",
       "        vertical-align: top;\n",
       "    }\n",
       "\n",
       "    .dataframe thead th {\n",
       "        text-align: right;\n",
       "    }\n",
       "</style>\n",
       "<table border=\"1\" class=\"dataframe\">\n",
       "  <thead>\n",
       "    <tr style=\"text-align: right;\">\n",
       "      <th>model_type</th>\n",
       "      <th>bow</th>\n",
       "      <th>conv1d</th>\n",
       "      <th>conv1d_transf</th>\n",
       "      <th>fc_emb</th>\n",
       "      <th>fc_transf</th>\n",
       "      <th>lstm</th>\n",
       "      <th>lstm_transf</th>\n",
       "    </tr>\n",
       "  </thead>\n",
       "  <tbody>\n",
       "    <tr>\n",
       "      <th>accuracy</th>\n",
       "      <td>0.980866</td>\n",
       "      <td>0.926242</td>\n",
       "      <td>0.791705</td>\n",
       "      <td>0.939137</td>\n",
       "      <td>0.809931</td>\n",
       "      <td>0.897759</td>\n",
       "      <td>0.659458</td>\n",
       "    </tr>\n",
       "    <tr>\n",
       "      <th>f1</th>\n",
       "      <td>0.979515</td>\n",
       "      <td>0.917465</td>\n",
       "      <td>0.770597</td>\n",
       "      <td>0.932533</td>\n",
       "      <td>0.795471</td>\n",
       "      <td>0.886649</td>\n",
       "      <td>0.614390</td>\n",
       "    </tr>\n",
       "    <tr>\n",
       "      <th>loss</th>\n",
       "      <td>0.051659</td>\n",
       "      <td>0.214036</td>\n",
       "      <td>0.551964</td>\n",
       "      <td>0.154996</td>\n",
       "      <td>0.450602</td>\n",
       "      <td>0.251413</td>\n",
       "      <td>0.755139</td>\n",
       "    </tr>\n",
       "    <tr>\n",
       "      <th>precision</th>\n",
       "      <td>0.983324</td>\n",
       "      <td>0.943008</td>\n",
       "      <td>0.839179</td>\n",
       "      <td>0.956290</td>\n",
       "      <td>0.877011</td>\n",
       "      <td>0.923075</td>\n",
       "      <td>0.740098</td>\n",
       "    </tr>\n",
       "    <tr>\n",
       "      <th>val_accuracy</th>\n",
       "      <td>0.860168</td>\n",
       "      <td>0.794706</td>\n",
       "      <td>0.665055</td>\n",
       "      <td>0.810469</td>\n",
       "      <td>0.673428</td>\n",
       "      <td>0.774934</td>\n",
       "      <td>0.705005</td>\n",
       "    </tr>\n",
       "    <tr>\n",
       "      <th>val_f1</th>\n",
       "      <td>0.859756</td>\n",
       "      <td>0.788862</td>\n",
       "      <td>0.652090</td>\n",
       "      <td>0.807000</td>\n",
       "      <td>0.670208</td>\n",
       "      <td>0.770474</td>\n",
       "      <td>0.691337</td>\n",
       "    </tr>\n",
       "    <tr>\n",
       "      <th>val_loss</th>\n",
       "      <td>0.596501</td>\n",
       "      <td>0.791594</td>\n",
       "      <td>0.897887</td>\n",
       "      <td>0.727199</td>\n",
       "      <td>1.117501</td>\n",
       "      <td>1.066682</td>\n",
       "      <td>0.778647</td>\n",
       "    </tr>\n",
       "    <tr>\n",
       "      <th>val_precision</th>\n",
       "      <td>0.861305</td>\n",
       "      <td>0.812233</td>\n",
       "      <td>0.707665</td>\n",
       "      <td>0.819189</td>\n",
       "      <td>0.717141</td>\n",
       "      <td>0.788877</td>\n",
       "      <td>0.752630</td>\n",
       "    </tr>\n",
       "  </tbody>\n",
       "</table>\n",
       "</div>"
      ],
      "text/plain": [
       "model_type          bow    conv1d  conv1d_transf    fc_emb  fc_transf  \\\n",
       "accuracy       0.980866  0.926242       0.791705  0.939137   0.809931   \n",
       "f1             0.979515  0.917465       0.770597  0.932533   0.795471   \n",
       "loss           0.051659  0.214036       0.551964  0.154996   0.450602   \n",
       "precision      0.983324  0.943008       0.839179  0.956290   0.877011   \n",
       "val_accuracy   0.860168  0.794706       0.665055  0.810469   0.673428   \n",
       "val_f1         0.859756  0.788862       0.652090  0.807000   0.670208   \n",
       "val_loss       0.596501  0.791594       0.897887  0.727199   1.117501   \n",
       "val_precision  0.861305  0.812233       0.707665  0.819189   0.717141   \n",
       "\n",
       "model_type         lstm  lstm_transf  \n",
       "accuracy       0.897759     0.659458  \n",
       "f1             0.886649     0.614390  \n",
       "loss           0.251413     0.755139  \n",
       "precision      0.923075     0.740098  \n",
       "val_accuracy   0.774934     0.705005  \n",
       "val_f1         0.770474     0.691337  \n",
       "val_loss       1.066682     0.778647  \n",
       "val_precision  0.788877     0.752630  "
      ]
     },
     "execution_count": 24,
     "metadata": {},
     "output_type": "execute_result"
    }
   ],
   "source": [
    "history_all_df_pivot"
   ]
  },
  {
   "cell_type": "markdown",
   "metadata": {},
   "source": [
    "### Pick the 2 models with the highest F1-score"
   ]
  },
  {
   "cell_type": "markdown",
   "metadata": {},
   "source": [
    "* All of the models outperform the baseline model in all the metrics\n",
    "* The models before regularisation with the best F1-score are the bag-of-words and the \"homegrown\" embeddings\n",
    "* These two models will be optimised further and used for the final multi-input model"
   ]
  },
  {
   "cell_type": "code",
   "execution_count": 25,
   "metadata": {},
   "outputs": [
    {
     "data": {
      "text/plain": [
       "accuracy                 bow\n",
       "f1                       bow\n",
       "loss             lstm_transf\n",
       "precision                bow\n",
       "val_accuracy             bow\n",
       "val_f1                   bow\n",
       "val_loss           fc_transf\n",
       "val_precision            bow\n",
       "dtype: object"
      ]
     },
     "execution_count": 25,
     "metadata": {},
     "output_type": "execute_result"
    }
   ],
   "source": [
    "history_all_df_pivot.idxmax(axis=1)"
   ]
  },
  {
   "cell_type": "code",
   "execution_count": 26,
   "metadata": {},
   "outputs": [
    {
     "data": {
      "text/plain": [
       "0.8597559040871734"
      ]
     },
     "execution_count": 26,
     "metadata": {},
     "output_type": "execute_result"
    }
   ],
   "source": [
    "history_all_df_pivot.loc['val_f1', ].max()"
   ]
  },
  {
   "cell_type": "markdown",
   "metadata": {},
   "source": [
    "### Generate Summary Figures"
   ]
  },
  {
   "cell_type": "code",
   "execution_count": 27,
   "metadata": {},
   "outputs": [
    {
     "data": {
      "text/html": [
       "<div>\n",
       "<style scoped>\n",
       "    .dataframe tbody tr th:only-of-type {\n",
       "        vertical-align: middle;\n",
       "    }\n",
       "\n",
       "    .dataframe tbody tr th {\n",
       "        vertical-align: top;\n",
       "    }\n",
       "\n",
       "    .dataframe thead th {\n",
       "        text-align: right;\n",
       "    }\n",
       "</style>\n",
       "<table border=\"1\" class=\"dataframe\">\n",
       "  <thead>\n",
       "    <tr style=\"text-align: right;\">\n",
       "      <th></th>\n",
       "      <th>model_type</th>\n",
       "      <th>loss</th>\n",
       "      <th>accuracy</th>\n",
       "      <th>precision</th>\n",
       "      <th>recall</th>\n",
       "      <th>val_loss</th>\n",
       "      <th>val_accuracy</th>\n",
       "      <th>val_precision</th>\n",
       "      <th>val_recall</th>\n",
       "      <th>f1</th>\n",
       "      <th>val_f1</th>\n",
       "    </tr>\n",
       "  </thead>\n",
       "  <tbody>\n",
       "    <tr>\n",
       "      <th>0</th>\n",
       "      <td>bow</td>\n",
       "      <td>0.051659</td>\n",
       "      <td>0.980866</td>\n",
       "      <td>0.983324</td>\n",
       "      <td>0.977119</td>\n",
       "      <td>0.596501</td>\n",
       "      <td>0.860168</td>\n",
       "      <td>0.861305</td>\n",
       "      <td>0.858255</td>\n",
       "      <td>0.979515</td>\n",
       "      <td>0.859756</td>\n",
       "    </tr>\n",
       "    <tr>\n",
       "      <th>1</th>\n",
       "      <td>conv1d</td>\n",
       "      <td>0.214036</td>\n",
       "      <td>0.926242</td>\n",
       "      <td>0.943008</td>\n",
       "      <td>0.904269</td>\n",
       "      <td>0.791594</td>\n",
       "      <td>0.794706</td>\n",
       "      <td>0.812233</td>\n",
       "      <td>0.774358</td>\n",
       "      <td>0.917465</td>\n",
       "      <td>0.788862</td>\n",
       "    </tr>\n",
       "    <tr>\n",
       "      <th>2</th>\n",
       "      <td>conv1d_transf</td>\n",
       "      <td>0.551964</td>\n",
       "      <td>0.791705</td>\n",
       "      <td>0.839179</td>\n",
       "      <td>0.725267</td>\n",
       "      <td>0.897887</td>\n",
       "      <td>0.665055</td>\n",
       "      <td>0.707665</td>\n",
       "      <td>0.611989</td>\n",
       "      <td>0.770597</td>\n",
       "      <td>0.652090</td>\n",
       "    </tr>\n",
       "    <tr>\n",
       "      <th>3</th>\n",
       "      <td>fc_emb</td>\n",
       "      <td>0.154996</td>\n",
       "      <td>0.939137</td>\n",
       "      <td>0.956290</td>\n",
       "      <td>0.919192</td>\n",
       "      <td>0.727199</td>\n",
       "      <td>0.810469</td>\n",
       "      <td>0.819189</td>\n",
       "      <td>0.797838</td>\n",
       "      <td>0.932533</td>\n",
       "      <td>0.807000</td>\n",
       "    </tr>\n",
       "    <tr>\n",
       "      <th>4</th>\n",
       "      <td>fc_transf</td>\n",
       "      <td>0.450602</td>\n",
       "      <td>0.809931</td>\n",
       "      <td>0.877011</td>\n",
       "      <td>0.740485</td>\n",
       "      <td>1.117501</td>\n",
       "      <td>0.673428</td>\n",
       "      <td>0.717141</td>\n",
       "      <td>0.634434</td>\n",
       "      <td>0.795471</td>\n",
       "      <td>0.670208</td>\n",
       "    </tr>\n",
       "    <tr>\n",
       "      <th>5</th>\n",
       "      <td>lstm</td>\n",
       "      <td>0.251413</td>\n",
       "      <td>0.897759</td>\n",
       "      <td>0.923075</td>\n",
       "      <td>0.864735</td>\n",
       "      <td>1.066682</td>\n",
       "      <td>0.774934</td>\n",
       "      <td>0.788877</td>\n",
       "      <td>0.756355</td>\n",
       "      <td>0.886649</td>\n",
       "      <td>0.770474</td>\n",
       "    </tr>\n",
       "    <tr>\n",
       "      <th>6</th>\n",
       "      <td>lstm_transf</td>\n",
       "      <td>0.755139</td>\n",
       "      <td>0.659458</td>\n",
       "      <td>0.740098</td>\n",
       "      <td>0.534646</td>\n",
       "      <td>0.778647</td>\n",
       "      <td>0.705005</td>\n",
       "      <td>0.752630</td>\n",
       "      <td>0.649502</td>\n",
       "      <td>0.614390</td>\n",
       "      <td>0.691337</td>\n",
       "    </tr>\n",
       "  </tbody>\n",
       "</table>\n",
       "</div>"
      ],
      "text/plain": [
       "      model_type      loss  accuracy  precision    recall  val_loss  \\\n",
       "0            bow  0.051659  0.980866   0.983324  0.977119  0.596501   \n",
       "1         conv1d  0.214036  0.926242   0.943008  0.904269  0.791594   \n",
       "2  conv1d_transf  0.551964  0.791705   0.839179  0.725267  0.897887   \n",
       "3         fc_emb  0.154996  0.939137   0.956290  0.919192  0.727199   \n",
       "4      fc_transf  0.450602  0.809931   0.877011  0.740485  1.117501   \n",
       "5           lstm  0.251413  0.897759   0.923075  0.864735  1.066682   \n",
       "6    lstm_transf  0.755139  0.659458   0.740098  0.534646  0.778647   \n",
       "\n",
       "   val_accuracy  val_precision  val_recall        f1    val_f1  \n",
       "0      0.860168       0.861305    0.858255  0.979515  0.859756  \n",
       "1      0.794706       0.812233    0.774358  0.917465  0.788862  \n",
       "2      0.665055       0.707665    0.611989  0.770597  0.652090  \n",
       "3      0.810469       0.819189    0.797838  0.932533  0.807000  \n",
       "4      0.673428       0.717141    0.634434  0.795471  0.670208  \n",
       "5      0.774934       0.788877    0.756355  0.886649  0.770474  \n",
       "6      0.705005       0.752630    0.649502  0.614390  0.691337  "
      ]
     },
     "execution_count": 27,
     "metadata": {},
     "output_type": "execute_result"
    }
   ],
   "source": [
    "history_all_grouped = history_all_df.groupby('model_type').mean()\n",
    "history_all_grouped = history_all_grouped.reset_index()\n",
    "history_all_grouped"
   ]
  },
  {
   "cell_type": "code",
   "execution_count": 28,
   "metadata": {},
   "outputs": [
    {
     "data": {
      "image/png": "[encoded data removed]",
      "text/plain": [
       "<Figure size 1080x360 with 3 Axes>"
      ]
     },
     "metadata": {
      "needs_background": "light"
     },
     "output_type": "display_data"
    },
    {
     "data": {
      "image/png": "[encoded data removed]",
      "text/plain": [
       "<Figure size 1080x360 with 3 Axes>"
      ]
     },
     "metadata": {
      "needs_background": "light"
     },
     "output_type": "display_data"
    },
    {
     "data": {
      "image/png": "[encoded data removed]",
      "text/plain": [
       "<Figure size 1080x360 with 3 Axes>"
      ]
     },
     "metadata": {
      "needs_background": "light"
     },
     "output_type": "display_data"
    },
    {
     "data": {
      "image/png": "[encoded data removed]",
      "text/plain": [
       "<Figure size 1080x360 with 3 Axes>"
      ]
     },
     "metadata": {
      "needs_background": "light"
     },
     "output_type": "display_data"
    },
    {
     "data": {
      "image/png": "[encoded data removed]",
      "text/plain": [
       "<Figure size 1080x360 with 3 Axes>"
      ]
     },
     "metadata": {
      "needs_background": "light"
     },
     "output_type": "display_data"
    },
    {
     "data": {
      "image/png": "[encoded data removed]",
      "text/plain": [
       "<Figure size 1080x360 with 3 Axes>"
      ]
     },
     "metadata": {
      "needs_background": "light"
     },
     "output_type": "display_data"
    },
    {
     "data": {
      "image/png": "[encoded data removed]",
      "text/plain": [
       "<Figure size 1080x360 with 3 Axes>"
      ]
     },
     "metadata": {
      "needs_background": "light"
     },
     "output_type": "display_data"
    }
   ],
   "source": [
    "for model_type in PARAMS['model_type']:\n",
    "    fig = plt.figure(figsize=(15, 5))\n",
    "    ax = plt.subplot(131)\n",
    "\n",
    "    epochs = PARAMS['epochs']\n",
    "    epochs_graph = range(1, PARAMS['epochs'] + 1)\n",
    "    folds = PARAMS['k']\n",
    "\n",
    "    mask = history_all_df.loc[:, 'model_type'] == model_type\n",
    "\n",
    "    loss_all = history_all_df.loc[mask, 'loss'].to_list()\n",
    "    loss_prep = [loss_all[i * epochs:(i + 1) * epochs] for i in range(folds)]\n",
    "    loss = [np.mean([x[i] for x in loss_prep]) for i in range(epochs)]\n",
    "\n",
    "    val_loss_all = history_all_df.loc[mask, 'val_loss'].to_list()\n",
    "    val_loss_prep = [\n",
    "        val_loss_all[i * epochs:(i + 1) * epochs] for i in range(folds)]\n",
    "    val_loss = [np.mean([x[i] for x in val_loss_prep]) for i in range(epochs)]\n",
    "\n",
    "    accuracy_all = history_all_df.loc[mask, 'accuracy'].to_list()\n",
    "    accuracy_prep = [\n",
    "        accuracy_all[i * epochs:(i + 1) * epochs] for i in range(folds)]\n",
    "    accuracy = [np.mean([x[i] for x in accuracy_prep]) for i in range(epochs)]\n",
    "\n",
    "    val_accuracy_all = history_all_df.loc[mask, 'val_accuracy'].to_list()\n",
    "    val_accuracy_prep = [val_accuracy_all[i *\n",
    "                                          epochs:(i + 1) * epochs] for i in range(folds)]\n",
    "    val_accuracy = [np.mean([x[i] for x in val_accuracy_prep])\n",
    "                    for i in range(epochs)]\n",
    "\n",
    "    f1_all = history_all_df.loc[mask, 'f1'].to_list()\n",
    "    f1_prep = [f1_all[i * epochs:(i + 1) * epochs] for i in range(folds)]\n",
    "    f1 = [np.mean([x[i] for x in f1_prep]) for i in range(epochs)]\n",
    "\n",
    "    val_f1_all = history_all_df.loc[mask, 'val_f1'].to_list()\n",
    "    val_f1_prep = [val_f1_all[i * epochs:(i + 1) * epochs]\n",
    "                   for i in range(folds)]\n",
    "    val_f1 = [np.mean([x[i] for x in val_f1_prep]) for i in range(epochs)]\n",
    "\n",
    "    plt.plot(epochs_graph, loss, 'b')\n",
    "    plt.plot(epochs_graph, val_loss, 'r')\n",
    "    #plt.ylim([0, 1])\n",
    "    ax.set_ylabel('loss')\n",
    "    ax.set_xlabel('epochs')\n",
    "    ax.legend(['train', 'validation'])\n",
    "    plt.title(f'Train vs. Validation Loss {model_type}')\n",
    "\n",
    "    ax = plt.subplot(132)\n",
    "    plt.plot(epochs_graph, accuracy, 'b')\n",
    "    plt.plot(epochs_graph, val_accuracy, 'r')\n",
    "    plt.ylim([0, 1])\n",
    "    ax.set_ylabel('accuracy')\n",
    "    ax.set_xlabel('epochs')\n",
    "    ax.legend(['train', 'validation'])\n",
    "    plt.title(f'Train vs. Validation Accuracy {model_type}')\n",
    "\n",
    "    ax = plt.subplot(133)\n",
    "    plt.plot(epochs_graph, f1, 'b')\n",
    "    plt.plot(epochs_graph, val_f1, 'r')\n",
    "    plt.ylim([0, 1])\n",
    "    ax.set_ylabel('f1')\n",
    "    ax.set_xlabel('epochs')\n",
    "    ax.legend(['train', 'validation'])\n",
    "    plt.title(f'Train vs. Validation F1-Score {model_type}')\n",
    "\n",
    "    if logging:\n",
    "        if not os.path.exists(os.path.join(logdir, 'figures')):\n",
    "            os.makedirs(os.path.join(logdir, 'figures'))\n",
    "        fig.savefig(os.path.join(\n",
    "            logdir, f'figures/loss_accuracy_training_{model_type}.png'), bbox_inches='tight')"
   ]
  },
  {
   "cell_type": "code",
   "execution_count": 29,
   "metadata": {},
   "outputs": [],
   "source": [
    "def precision_recall(history_all_df, logging=False, logpath=''):\n",
    "    fig = plt.figure(figsize=(5, 5))\n",
    "    ax = plt.subplot(111)\n",
    "    sns.scatterplot(data=history_all_df, x='val_recall', y='val_precision')\n",
    "    plt.xlim([0, 1.05])\n",
    "    plt.ylim([0, 1.05])\n",
    "    ax.legend(title='precision-recall',\n",
    "              bbox_to_anchor=(1.05, 1), loc='upper left')\n",
    "\n",
    "    if logging:\n",
    "        fig.savefig(logpath, bbox_inches='tight')\n",
    "\n",
    "    return fig"
   ]
  },
  {
   "cell_type": "code",
   "execution_count": 30,
   "metadata": {},
   "outputs": [
    {
     "name": "stderr",
     "output_type": "stream",
     "text": [
      "No handles with labels found to put in legend.\n"
     ]
    },
    {
     "data": {
      "image/png": "[encoded data removed]",
      "text/plain": [
       "<Figure size 360x360 with 1 Axes>"
      ]
     },
     "execution_count": 30,
     "metadata": {},
     "output_type": "execute_result"
    },
    {
     "data": {
      "image/png": "[encoded data removed]",
      "text/plain": [
       "<Figure size 360x360 with 1 Axes>"
      ]
     },
     "metadata": {
      "needs_background": "light"
     },
     "output_type": "display_data"
    }
   ],
   "source": [
    "precision_recall(history_all_df)"
   ]
  },
  {
   "cell_type": "code",
   "execution_count": null,
   "metadata": {},
   "outputs": [],
   "source": []
  },
  {
   "cell_type": "code",
   "execution_count": null,
   "metadata": {},
   "outputs": [],
   "source": []
  },
  {
   "cell_type": "code",
   "execution_count": null,
   "metadata": {},
   "outputs": [],
   "source": []
  }
 ],
 "metadata": {
  "kernelspec": {
   "display_name": "nlp-sent",
   "language": "python",
   "name": "nlp-sent"
  },
  "language_info": {
   "codemirror_mode": {
    "name": "ipython",
    "version": 3
   },
   "file_extension": ".py",
   "mimetype": "text/x-python",
   "name": "python",
   "nbconvert_exporter": "python",
   "pygments_lexer": "ipython3",
   "version": "3.6.12"
  }
 },
 "nbformat": 4,
 "nbformat_minor": 4
}
