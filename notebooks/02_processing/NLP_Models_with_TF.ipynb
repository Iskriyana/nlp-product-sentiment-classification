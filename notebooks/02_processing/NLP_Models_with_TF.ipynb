{
 "cells": [
  {
   "cell_type": "markdown",
   "metadata": {},
   "source": [
    "The goal of this notebooks is to test the performance of several models. \n",
    "I will use bag-of-words as a baseline. \n",
    "Then I will use Keras' Embedding Layer, GloVe as a pre-trained model, an LSTM and a 1D ConvNet.\n",
    "\n",
    "Performance metrics are accuracy, precision and recall."
   ]
  },
  {
   "cell_type": "code",
   "execution_count": 1,
   "metadata": {},
   "outputs": [],
   "source": [
    "import keras\n",
    "import matplotlib.pyplot as plt\n",
    "import numpy as np\n",
    "import os\n",
    "import pandas as pd\n",
    "import pickle\n",
    "import sys\n",
    "import tensorflow as tf\n",
    "\n",
    "from collections import Counter\n",
    "from imblearn.over_sampling import SMOTE\n",
    "from keras import layers\n",
    "from keras import models\n",
    "from keras import utils\n",
    "from keras.utils import to_categorical\n",
    "from tensorflow import keras\n",
    "\n",
    "%matplotlib inline"
   ]
  },
  {
   "cell_type": "markdown",
   "metadata": {},
   "source": [
    "# Preparation Steps"
   ]
  },
  {
   "cell_type": "code",
   "execution_count": 2,
   "metadata": {},
   "outputs": [],
   "source": [
    "# folders\n",
    "home = os.getenv(\"HOME\")\n",
    "nlp_repo = os.path.join(home, 'git/nlp-product-sentiment-classification')\n",
    "\n",
    "# data\n",
    "train_csv_path = os.path.join(nlp_repo, 'data/03_processed/Train.csv')\n",
    "train_descr = pd.read_csv(train_csv_path)\n",
    "\n",
    "test_csv_path = os.path.join(nlp_repo, 'data/03_processed/Test.csv')\n",
    "test_descr = pd.read_csv(test_csv_path)\n",
    "\n",
    "# encoded tokens\n",
    "preprocessed_corpus_path_TF = os.path.join(\n",
    "    nlp_repo, 'data/03_processed/product_descr_preprocessed_TF.p')\n",
    "\n",
    "preprocessed_corpus_path_TF_oh = os.path.join(\n",
    "    nlp_repo, 'data/03_processed/product_descr_preprocessed_TF_oh.p')"
   ]
  },
  {
   "cell_type": "code",
   "execution_count": 3,
   "metadata": {},
   "outputs": [],
   "source": [
    "# read-in the list of tokens and the vocabulary\n",
    "sequences, word_index = pd.read_pickle(preprocessed_corpus_path_TF)"
   ]
  },
  {
   "cell_type": "markdown",
   "metadata": {},
   "source": [
    "# Parameters"
   ]
  },
  {
   "cell_type": "code",
   "execution_count": 4,
   "metadata": {},
   "outputs": [],
   "source": [
    "# Embedding Tokens\n",
    "\n",
    "# max_words = vocabulary size = our samples - number of most frequent words.\n",
    "# I set it to 10.000, although in this case there are less.\n",
    "# I do this to parametise the code.\n",
    "# Aleternatively, I can set it to the length of our vocabulary = word_index\n",
    "max_words = 10000\n",
    "\n",
    "# embedding_size = embedding dimensionality\n",
    "embedding_size = 10\n",
    "\n",
    "# max_len = sequence length - the text is cut off after this number of words\n",
    "# in this case I define it as the maximum sequence length in our list of tokenised sequences\n",
    "max_len = np.max([len(x) for x in sequences])\n",
    "\n",
    "\n",
    "# Training parameters\n",
    "model_path = \"product_descr_TF.h5\"\n",
    "epochs = 15\n",
    "batch_size = 28\n",
    "\n",
    "# For GloVe word-embeddings matrix (pre-trained model)\n",
    "embedding_dim = 100"
   ]
  },
  {
   "cell_type": "code",
   "execution_count": 5,
   "metadata": {},
   "outputs": [],
   "source": [
    "data = tf.keras.preprocessing.sequence.pad_sequences(\n",
    "    sequences, maxlen=max_len)"
   ]
  },
  {
   "cell_type": "code",
   "execution_count": 6,
   "metadata": {},
   "outputs": [],
   "source": [
    "labels = train_descr.loc[:, 'Sentiment'].to_list()"
   ]
  },
  {
   "cell_type": "code",
   "execution_count": 7,
   "metadata": {},
   "outputs": [
    {
     "data": {
      "text/plain": [
       "(6364, 33)"
      ]
     },
     "execution_count": 7,
     "metadata": {},
     "output_type": "execute_result"
    }
   ],
   "source": [
    "data.shape"
   ]
  },
  {
   "cell_type": "markdown",
   "metadata": {},
   "source": [
    "### Oversampling the Minortiy Classes"
   ]
  },
  {
   "cell_type": "code",
   "execution_count": 8,
   "metadata": {},
   "outputs": [],
   "source": [
    "def oversample_smote(data, labels):\n",
    "    oversample = SMOTE()\n",
    "    data, labels =  oversample.fit_resample(data, labels)\n",
    "    \n",
    "    counter = Counter(labels)\n",
    "    for k,v in counter.items():\n",
    "        per = v / len(labels) * 100\n",
    "        print('Class=%d, n=%d (%.3f%%)' % (k, v, per))\n",
    "    # plot the distribution\n",
    "    plt.bar(counter.keys(), counter.values())\n",
    "    plt.show()\n",
    "    \n",
    "    return data, labels"
   ]
  },
  {
   "cell_type": "code",
   "execution_count": 9,
   "metadata": {},
   "outputs": [
    {
     "name": "stdout",
     "output_type": "stream",
     "text": [
      "Class=2, n=3765 (25.000%)\n",
      "Class=1, n=3765 (25.000%)\n",
      "Class=3, n=3765 (25.000%)\n",
      "Class=0, n=3765 (25.000%)\n"
     ]
    },
    {
     "data": {
      "image/png": "[encoded data removed]",
      "text/plain": [
       "<Figure size 432x288 with 1 Axes>"
      ]
     },
     "metadata": {
      "needs_background": "light"
     },
     "output_type": "display_data"
    }
   ],
   "source": [
    "data_ovs, labels_ovs = oversample_smote(data, labels)"
   ]
  },
  {
   "cell_type": "code",
   "execution_count": 10,
   "metadata": {},
   "outputs": [],
   "source": [
    "dimensions_labels = len(np.unique(labels_ovs))"
   ]
  },
  {
   "cell_type": "code",
   "execution_count": 11,
   "metadata": {},
   "outputs": [],
   "source": [
    "labels_encoded = tf.one_hot(indices=labels_ovs, depth=dimensions_labels)"
   ]
  },
  {
   "cell_type": "code",
   "execution_count": 12,
   "metadata": {},
   "outputs": [],
   "source": [
    "labels_encoded = np.asarray(labels_encoded)"
   ]
  },
  {
   "cell_type": "code",
   "execution_count": 24,
   "metadata": {},
   "outputs": [
    {
     "name": "stdout",
     "output_type": "stream",
     "text": [
      "Shape of data_ovs tensor: (15060, 33)\n",
      "Shape of label_ovs tensor (15060, 4)\n"
     ]
    }
   ],
   "source": [
    "print('Shape of data_ovs tensor:', data_ovs.shape)\n",
    "print('Shape of label_ovs tensor', labels_encoded.shape)"
   ]
  },
  {
   "cell_type": "code",
   "execution_count": 14,
   "metadata": {},
   "outputs": [],
   "source": [
    "indices = np.arange(data_ovs.shape[0])\n",
    "np.random.shuffle(indices)"
   ]
  },
  {
   "cell_type": "code",
   "execution_count": 15,
   "metadata": {},
   "outputs": [],
   "source": [
    "data_ovs = data_ovs[indices]\n",
    "labels_encoded = labels_encoded[indices]"
   ]
  },
  {
   "cell_type": "code",
   "execution_count": 16,
   "metadata": {},
   "outputs": [],
   "source": [
    "training_samples = int(0.8 * len(data_ovs))"
   ]
  },
  {
   "cell_type": "code",
   "execution_count": 17,
   "metadata": {},
   "outputs": [],
   "source": [
    "x_train = data_ovs[:training_samples]\n",
    "y_train = labels_encoded[:training_samples]\n",
    "\n",
    "x_val = data_ovs[training_samples:]\n",
    "y_val = labels_encoded[training_samples:]"
   ]
  },
  {
   "cell_type": "code",
   "execution_count": 18,
   "metadata": {},
   "outputs": [],
   "source": [
    "def get_key(my_dict, val):\n",
    "    for key, value in my_dict.items():\n",
    "        if val == value:\n",
    "            return key\n",
    "\n",
    "    return \"key doesn't exist\""
   ]
  },
  {
   "cell_type": "code",
   "execution_count": 19,
   "metadata": {},
   "outputs": [
    {
     "data": {
      "text/plain": [
       "'sxsw'"
      ]
     },
     "execution_count": 19,
     "metadata": {},
     "output_type": "execute_result"
    }
   ],
   "source": [
    "get_key(word_index, 2)"
   ]
  },
  {
   "cell_type": "markdown",
   "metadata": {},
   "source": [
    "# Bag-of-Words"
   ]
  },
  {
   "cell_type": "markdown",
   "metadata": {},
   "source": [
    "* Bag-of-words will be used as a baseline model. \n",
    "* Its advantages are that it is fairly easy and quick to build. \n",
    "* The downside is that bag-of-words does not perserve the order of the sentence. As a result the structure of a sentence is lost. \n",
    "* RNNs & 1D ConvNets will be tried later in order to remedy this."
   ]
  },
  {
   "cell_type": "code",
   "execution_count": 20,
   "metadata": {},
   "outputs": [],
   "source": [
    "sequences_oh, word_index_oh = pd.read_pickle(preprocessed_corpus_path_TF_oh)"
   ]
  },
  {
   "cell_type": "code",
   "execution_count": 21,
   "metadata": {},
   "outputs": [
    {
     "data": {
      "text/plain": [
       "(6364, 10000)"
      ]
     },
     "execution_count": 21,
     "metadata": {},
     "output_type": "execute_result"
    }
   ],
   "source": [
    "sequences_oh.shape"
   ]
  },
  {
   "cell_type": "code",
   "execution_count": 22,
   "metadata": {},
   "outputs": [
    {
     "name": "stdout",
     "output_type": "stream",
     "text": [
      "Class=2, n=3765 (25.000%)\n",
      "Class=1, n=3765 (25.000%)\n",
      "Class=3, n=3765 (25.000%)\n",
      "Class=0, n=3765 (25.000%)\n"
     ]
    },
    {
     "data": {
      "image/png": "[encoded data removed]",
      "text/plain": [
       "<Figure size 432x288 with 1 Axes>"
      ]
     },
     "metadata": {
      "needs_background": "light"
     },
     "output_type": "display_data"
    }
   ],
   "source": [
    "sequences_oh, labels_oh = oversample_smote(sequences_oh, labels)"
   ]
  },
  {
   "cell_type": "code",
   "execution_count": 23,
   "metadata": {},
   "outputs": [
    {
     "data": {
      "text/plain": [
       "(15060, 10000)"
      ]
     },
     "execution_count": 23,
     "metadata": {},
     "output_type": "execute_result"
    }
   ],
   "source": [
    "sequences_oh.shape"
   ]
  },
  {
   "cell_type": "code",
   "execution_count": 25,
   "metadata": {},
   "outputs": [],
   "source": [
    "labels_encoded_oh = tf.one_hot(indices=labels_oh, depth=dimensions_labels)"
   ]
  },
  {
   "cell_type": "code",
   "execution_count": 26,
   "metadata": {},
   "outputs": [],
   "source": [
    "data_oh = sequences_oh[indices]"
   ]
  },
  {
   "cell_type": "code",
   "execution_count": 27,
   "metadata": {},
   "outputs": [],
   "source": [
    "training_samples_oh = int(0.8 * len(data_oh))"
   ]
  },
  {
   "cell_type": "code",
   "execution_count": 28,
   "metadata": {},
   "outputs": [],
   "source": [
    "x_train_oh = data_oh[:training_samples_oh]\n",
    "y_train_oh = labels_encoded_oh[:training_samples_oh]\n",
    "\n",
    "x_val_oh = data_oh[training_samples_oh:]\n",
    "y_val_oh = labels_encoded_oh[training_samples_oh:]"
   ]
  },
  {
   "cell_type": "code",
   "execution_count": 29,
   "metadata": {},
   "outputs": [],
   "source": [
    "metrics = [\n",
    "    keras.metrics.CategoricalAccuracy(name='accuracy'),\n",
    "    keras.metrics.Precision(name='precision'),\n",
    "    keras.metrics.Recall(name='recall')]"
   ]
  },
  {
   "cell_type": "markdown",
   "metadata": {},
   "source": [
    "# Fully Connected NN & Bag-of-Words"
   ]
  },
  {
   "cell_type": "code",
   "execution_count": 30,
   "metadata": {},
   "outputs": [
    {
     "name": "stdout",
     "output_type": "stream",
     "text": [
      "Model: \"sequential\"\n",
      "_________________________________________________________________\n",
      "Layer (type)                 Output Shape              Param #   \n",
      "=================================================================\n",
      "dense (Dense)                (None, 16)                160016    \n",
      "_________________________________________________________________\n",
      "dense_1 (Dense)              (None, 16)                272       \n",
      "_________________________________________________________________\n",
      "dense_2 (Dense)              (None, 4)                 68        \n",
      "=================================================================\n",
      "Total params: 160,356\n",
      "Trainable params: 160,356\n",
      "Non-trainable params: 0\n",
      "_________________________________________________________________\n"
     ]
    }
   ],
   "source": [
    "model_bow = models.Sequential()\n",
    "\n",
    "model_bow.add(layers.Dense(16, activation='relu',\n",
    "                           input_shape=(max_words, )))\n",
    "# model_bow.add(layers.Dropout(0.75))\n",
    "model_bow.add(layers.Dense(16, activation='relu'))\n",
    "# model_bow.add(layers.Dropout(0.75))\n",
    "model_bow.add(layers.Dense(dimensions_labels, activation='softmax'))\n",
    "\n",
    "model_bow.summary()\n",
    "\n",
    "model_bow.compile(\n",
    "    optimizer='adam',\n",
    "    loss='categorical_crossentropy',\n",
    "    metrics=metrics\n",
    ")"
   ]
  },
  {
   "cell_type": "code",
   "execution_count": 31,
   "metadata": {},
   "outputs": [
    {
     "name": "stdout",
     "output_type": "stream",
     "text": [
      "Epoch 1/15\n",
      "431/431 [==============================] - 1s 3ms/step - loss: 1.3582 - accuracy: 0.3107 - precision: 0.0000e+00 - recall: 0.0000e+00 - val_loss: 1.6980 - val_accuracy: 0.0000e+00 - val_precision: 0.0000e+00 - val_recall: 0.0000e+00\n",
      "Epoch 2/15\n",
      "431/431 [==============================] - 1s 2ms/step - loss: 1.3299 - accuracy: 0.3518 - precision: 0.4490 - recall: 0.0018 - val_loss: 1.7347 - val_accuracy: 0.0023 - val_precision: 0.0000e+00 - val_recall: 0.0000e+00\n",
      "Epoch 3/15\n",
      "431/431 [==============================] - 1s 2ms/step - loss: 1.2729 - accuracy: 0.4024 - precision: 0.6138 - recall: 0.0459 - val_loss: 1.7992 - val_accuracy: 0.0558 - val_precision: 0.0195 - val_recall: 0.0020\n",
      "Epoch 4/15\n",
      "431/431 [==============================] - 1s 2ms/step - loss: 1.1847 - accuracy: 0.4625 - precision: 0.6758 - recall: 0.1702 - val_loss: 1.9811 - val_accuracy: 0.0833 - val_precision: 0.0710 - val_recall: 0.0183\n",
      "Epoch 5/15\n",
      "431/431 [==============================] - 1s 2ms/step - loss: 1.1058 - accuracy: 0.4989 - precision: 0.6958 - recall: 0.2566 - val_loss: 1.8970 - val_accuracy: 0.1345 - val_precision: 0.1288 - val_recall: 0.0392\n",
      "Epoch 6/15\n",
      "431/431 [==============================] - 1s 2ms/step - loss: 1.0491 - accuracy: 0.5224 - precision: 0.7187 - recall: 0.2999 - val_loss: 2.1546 - val_accuracy: 0.1099 - val_precision: 0.1081 - val_recall: 0.0438\n",
      "Epoch 7/15\n",
      "431/431 [==============================] - 1s 2ms/step - loss: 1.0037 - accuracy: 0.5381 - precision: 0.7291 - recall: 0.3409 - val_loss: 2.1842 - val_accuracy: 0.1238 - val_precision: 0.1318 - val_recall: 0.0554\n",
      "Epoch 8/15\n",
      "431/431 [==============================] - 1s 2ms/step - loss: 0.9675 - accuracy: 0.5549 - precision: 0.7406 - recall: 0.3656 - val_loss: 2.2040 - val_accuracy: 0.1391 - val_precision: 0.1432 - val_recall: 0.0654\n",
      "Epoch 9/15\n",
      "431/431 [==============================] - 1s 2ms/step - loss: 0.9407 - accuracy: 0.5689 - precision: 0.7479 - recall: 0.3852 - val_loss: 2.2831 - val_accuracy: 0.1404 - val_precision: 0.1508 - val_recall: 0.0701\n",
      "Epoch 10/15\n",
      "431/431 [==============================] - 1s 2ms/step - loss: 0.9158 - accuracy: 0.5785 - precision: 0.7537 - recall: 0.3998 - val_loss: 2.4042 - val_accuracy: 0.1365 - val_precision: 0.1359 - val_recall: 0.0684\n",
      "Epoch 11/15\n",
      "431/431 [==============================] - 1s 2ms/step - loss: 0.8949 - accuracy: 0.5857 - precision: 0.7643 - recall: 0.4160 - val_loss: 2.5836 - val_accuracy: 0.1212 - val_precision: 0.1224 - val_recall: 0.0687\n",
      "Epoch 12/15\n",
      "431/431 [==============================] - 1s 2ms/step - loss: 0.8758 - accuracy: 0.5997 - precision: 0.7626 - recall: 0.4345 - val_loss: 2.6192 - val_accuracy: 0.1235 - val_precision: 0.1217 - val_recall: 0.0667\n",
      "Epoch 13/15\n",
      "431/431 [==============================] - 1s 3ms/step - loss: 0.8591 - accuracy: 0.6030 - precision: 0.7700 - recall: 0.4469 - val_loss: 2.5695 - val_accuracy: 0.1491 - val_precision: 0.1490 - val_recall: 0.0823\n",
      "Epoch 14/15\n",
      "431/431 [==============================] - 1s 3ms/step - loss: 0.8434 - accuracy: 0.6170 - precision: 0.7698 - recall: 0.4530 - val_loss: 2.7489 - val_accuracy: 0.1401 - val_precision: 0.1472 - val_recall: 0.0867\n",
      "Epoch 15/15\n",
      "431/431 [==============================] - 1s 3ms/step - loss: 0.8306 - accuracy: 0.6172 - precision: 0.7743 - recall: 0.4640 - val_loss: 2.8284 - val_accuracy: 0.1305 - val_precision: 0.1357 - val_recall: 0.0793\n"
     ]
    }
   ],
   "source": [
    "history_bow = model_bow.fit(\n",
    "    x_train_oh, y_train_oh,\n",
    "    epochs=epochs,\n",
    "    batch_size=batch_size,\n",
    "    validation_data=(x_val_oh, y_val_oh)\n",
    ")"
   ]
  },
  {
   "cell_type": "code",
   "execution_count": 32,
   "metadata": {},
   "outputs": [
    {
     "data": {
      "image/png": "[encoded data removed]",
      "text/plain": [
       "<Figure size 432x288 with 1 Axes>"
      ]
     },
     "metadata": {
      "needs_background": "light"
     },
     "output_type": "display_data"
    },
    {
     "data": {
      "image/png": "[encoded data removed]",
      "text/plain": [
       "<Figure size 432x288 with 1 Axes>"
      ]
     },
     "metadata": {
      "needs_background": "light"
     },
     "output_type": "display_data"
    }
   ],
   "source": [
    "loss_bow = history_bow.history['loss']\n",
    "val_loss_bow = history_bow.history['val_loss']\n",
    "acc_bow = history_bow.history['accuracy']\n",
    "val_acc_bow = history_bow.history['val_accuracy']\n",
    "\n",
    "\n",
    "epochs_graph = range(1, len(acc_bow) + 1)\n",
    "\n",
    "plt.plot(epochs_graph, loss_bow, 'bo', label='Training loss')\n",
    "plt.plot(epochs_graph, val_loss_bow, 'b', label='Validation loss')\n",
    "plt.title('Training and validation loss')\n",
    "plt.legend()\n",
    "\n",
    "plt.figure()\n",
    "\n",
    "plt.plot(epochs_graph, acc_bow, 'bo', label='Training acc')\n",
    "plt.plot(epochs_graph, val_acc_bow, 'b', label='Validation acc')\n",
    "plt.title('Training and validation accuracy')\n",
    "plt.legend()\n",
    "\n",
    "plt.show()"
   ]
  },
  {
   "cell_type": "markdown",
   "metadata": {},
   "source": [
    "# Fully Conneceted NN & Embeddings Layer"
   ]
  },
  {
   "cell_type": "code",
   "execution_count": 33,
   "metadata": {},
   "outputs": [
    {
     "name": "stdout",
     "output_type": "stream",
     "text": [
      "Model: \"sequential_1\"\n",
      "_________________________________________________________________\n",
      "Layer (type)                 Output Shape              Param #   \n",
      "=================================================================\n",
      "embedding (Embedding)        (None, 33, 10)            100010    \n",
      "_________________________________________________________________\n",
      "flatten (Flatten)            (None, 330)               0         \n",
      "_________________________________________________________________\n",
      "dense_3 (Dense)              (None, 32)                10592     \n",
      "_________________________________________________________________\n",
      "dense_4 (Dense)              (None, 32)                1056      \n",
      "_________________________________________________________________\n",
      "dense_5 (Dense)              (None, 4)                 132       \n",
      "=================================================================\n",
      "Total params: 111,790\n",
      "Trainable params: 111,790\n",
      "Non-trainable params: 0\n",
      "_________________________________________________________________\n"
     ]
    }
   ],
   "source": [
    "model_emb = models.Sequential()\n",
    "\n",
    "model_emb.add(layers.Embedding(max_words+1,\n",
    "                               embedding_size, input_length=max_len))\n",
    "model_emb.add(layers.Flatten())\n",
    "model_emb.add(layers.Dense(32, activation='relu'))\n",
    "# model_emb.add(layers.Dropout(0.75))\n",
    "model_emb.add(layers.Dense(32, activation='relu'))\n",
    "# model_emb.add(layers.Dropout(0.75))\n",
    "model_emb.add(layers.Dense(dimensions_labels, activation='softmax'))\n",
    "\n",
    "model_emb.summary()\n",
    "\n",
    "model_emb.compile(\n",
    "    optimizer='adam',\n",
    "    loss='categorical_crossentropy',\n",
    "    metrics=metrics\n",
    ")"
   ]
  },
  {
   "cell_type": "code",
   "execution_count": 34,
   "metadata": {},
   "outputs": [
    {
     "name": "stdout",
     "output_type": "stream",
     "text": [
      "Epoch 1/15\n",
      "431/431 [==============================] - 2s 4ms/step - loss: 1.2438 - accuracy: 0.3382 - precision: 0.3585 - recall: 0.0756 - val_loss: 1.1327 - val_accuracy: 0.4758 - val_precision: 0.6134 - val_recall: 0.1939\n",
      "Epoch 2/15\n",
      "431/431 [==============================] - 1s 2ms/step - loss: 0.9637 - accuracy: 0.5740 - precision: 0.6673 - recall: 0.3796 - val_loss: 1.1181 - val_accuracy: 0.4957 - val_precision: 0.5755 - val_recall: 0.3529\n",
      "Epoch 3/15\n",
      "431/431 [==============================] - 1s 2ms/step - loss: 0.6893 - accuracy: 0.7265 - precision: 0.7741 - recall: 0.6483 - val_loss: 1.2463 - val_accuracy: 0.4851 - val_precision: 0.5313 - val_recall: 0.4173\n",
      "Epoch 4/15\n",
      "431/431 [==============================] - 1s 2ms/step - loss: 0.4283 - accuracy: 0.8470 - precision: 0.8702 - recall: 0.8190 - val_loss: 1.5232 - val_accuracy: 0.4874 - val_precision: 0.5002 - val_recall: 0.4499\n",
      "Epoch 5/15\n",
      "431/431 [==============================] - 1s 2ms/step - loss: 0.2597 - accuracy: 0.9120 - precision: 0.9215 - recall: 0.9026 - val_loss: 1.8466 - val_accuracy: 0.4817 - val_precision: 0.4925 - val_recall: 0.4588\n",
      "Epoch 6/15\n",
      "431/431 [==============================] - 1s 2ms/step - loss: 0.1683 - accuracy: 0.9477 - precision: 0.9511 - recall: 0.9433 - val_loss: 2.1355 - val_accuracy: 0.4827 - val_precision: 0.4885 - val_recall: 0.4668\n",
      "Epoch 7/15\n",
      "431/431 [==============================] - 1s 2ms/step - loss: 0.1224 - accuracy: 0.9631 - precision: 0.9644 - recall: 0.9617 - val_loss: 2.3834 - val_accuracy: 0.4791 - val_precision: 0.4871 - val_recall: 0.4705\n",
      "Epoch 8/15\n",
      "431/431 [==============================] - 1s 2ms/step - loss: 0.0986 - accuracy: 0.9705 - precision: 0.9712 - recall: 0.9697 - val_loss: 2.5944 - val_accuracy: 0.4761 - val_precision: 0.4816 - val_recall: 0.4705\n",
      "Epoch 9/15\n",
      "431/431 [==============================] - 1s 2ms/step - loss: 0.0876 - accuracy: 0.9745 - precision: 0.9747 - recall: 0.9740 - val_loss: 2.6627 - val_accuracy: 0.4791 - val_precision: 0.4832 - val_recall: 0.4718\n",
      "Epoch 10/15\n",
      "431/431 [==============================] - 1s 2ms/step - loss: 0.0760 - accuracy: 0.9753 - precision: 0.9757 - recall: 0.9749 - val_loss: 2.8224 - val_accuracy: 0.4754 - val_precision: 0.4791 - val_recall: 0.4681\n",
      "Epoch 11/15\n",
      "431/431 [==============================] - 1s 2ms/step - loss: 0.0710 - accuracy: 0.9764 - precision: 0.9766 - recall: 0.9764 - val_loss: 2.8877 - val_accuracy: 0.4698 - val_precision: 0.4747 - val_recall: 0.4638\n",
      "Epoch 12/15\n",
      "431/431 [==============================] - 1s 2ms/step - loss: 0.0657 - accuracy: 0.9770 - precision: 0.9773 - recall: 0.9768 - val_loss: 2.9921 - val_accuracy: 0.4718 - val_precision: 0.4753 - val_recall: 0.4661\n",
      "Epoch 13/15\n",
      "431/431 [==============================] - 1s 2ms/step - loss: 0.0600 - accuracy: 0.9783 - precision: 0.9783 - recall: 0.9783 - val_loss: 3.0847 - val_accuracy: 0.4788 - val_precision: 0.4828 - val_recall: 0.4744\n",
      "Epoch 14/15\n",
      "431/431 [==============================] - 1s 2ms/step - loss: 0.0543 - accuracy: 0.9804 - precision: 0.9806 - recall: 0.9803 - val_loss: 3.1668 - val_accuracy: 0.4761 - val_precision: 0.4799 - val_recall: 0.4708\n",
      "Epoch 15/15\n",
      "431/431 [==============================] - 1s 2ms/step - loss: 0.0511 - accuracy: 0.9799 - precision: 0.9800 - recall: 0.9799 - val_loss: 3.3090 - val_accuracy: 0.4754 - val_precision: 0.4787 - val_recall: 0.4708\n"
     ]
    }
   ],
   "source": [
    "history_emb = model_emb.fit(\n",
    "    x_train, y_train,\n",
    "    epochs=epochs,\n",
    "    batch_size=batch_size,\n",
    "    validation_data=(x_val, y_val)\n",
    ")"
   ]
  },
  {
   "cell_type": "code",
   "execution_count": 35,
   "metadata": {},
   "outputs": [
    {
     "data": {
      "image/png": "[encoded data removed]",
      "text/plain": [
       "<Figure size 432x288 with 1 Axes>"
      ]
     },
     "metadata": {
      "needs_background": "light"
     },
     "output_type": "display_data"
    },
    {
     "data": {
      "image/png": "[encoded data removed]",
      "text/plain": [
       "<Figure size 432x288 with 1 Axes>"
      ]
     },
     "metadata": {
      "needs_background": "light"
     },
     "output_type": "display_data"
    }
   ],
   "source": [
    "loss_emb = history_emb.history['loss']\n",
    "val_loss_emb = history_emb.history['val_loss']\n",
    "acc_emb = history_emb.history['accuracy']\n",
    "val_acc_emb = history_emb.history['val_accuracy']\n",
    "\n",
    "\n",
    "epochs_graph = range(1, len(acc_emb) + 1)\n",
    "\n",
    "plt.plot(epochs_graph, loss_emb, 'bo', label='Training loss')\n",
    "plt.plot(epochs_graph, val_loss_emb, 'b', label='Validation loss')\n",
    "plt.title('Training and validation loss')\n",
    "plt.legend()\n",
    "\n",
    "plt.figure()\n",
    "\n",
    "plt.plot(epochs_graph, acc_emb, 'bo', label='Training acc')\n",
    "plt.plot(epochs_graph, val_acc_emb, 'b', label='Validation acc')\n",
    "plt.title('Training and validation accuracy')\n",
    "plt.legend()\n",
    "\n",
    "plt.show()"
   ]
  },
  {
   "cell_type": "markdown",
   "metadata": {},
   "source": [
    "# Fully Conneceted NN & Pre-Trained Embeddings Layer"
   ]
  },
  {
   "cell_type": "code",
   "execution_count": 36,
   "metadata": {},
   "outputs": [],
   "source": [
    "glove_dir = './glove.6B'"
   ]
  },
  {
   "cell_type": "code",
   "execution_count": 37,
   "metadata": {},
   "outputs": [
    {
     "name": "stdout",
     "output_type": "stream",
     "text": [
      "Found 400000 word vectors.\n"
     ]
    }
   ],
   "source": [
    "embeddings_index = {}\n",
    "\n",
    "f = open(os.path.join(glove_dir, 'glove.6B.100d.txt'))\n",
    "for line in f:\n",
    "    values = line.split()\n",
    "    word = values[0]\n",
    "    coefs = np.asarray(values[1:], dtype='float32')\n",
    "    embeddings_index[word] = coefs\n",
    "f.close()\n",
    "\n",
    "print('Found %s word vectors.' % len(embeddings_index))"
   ]
  },
  {
   "cell_type": "code",
   "execution_count": 38,
   "metadata": {},
   "outputs": [
    {
     "name": "stdout",
     "output_type": "stream",
     "text": [
      "(10001, 100)\n"
     ]
    }
   ],
   "source": [
    "embedding_matrix = np.zeros((max_words+1, embedding_dim))\n",
    "\n",
    "for word, i in word_index.items():\n",
    "    if i < max_words:\n",
    "        embedding_vector = embeddings_index.get(word)\n",
    "        if embedding_vector is not None:\n",
    "            embedding_matrix[i] = embedding_vector\n",
    "print(embedding_matrix.shape)"
   ]
  },
  {
   "cell_type": "code",
   "execution_count": 39,
   "metadata": {},
   "outputs": [
    {
     "name": "stdout",
     "output_type": "stream",
     "text": [
      "Model: \"sequential_2\"\n",
      "_________________________________________________________________\n",
      "Layer (type)                 Output Shape              Param #   \n",
      "=================================================================\n",
      "embedding_1 (Embedding)      (None, 33, 100)           1000100   \n",
      "_________________________________________________________________\n",
      "flatten_1 (Flatten)          (None, 3300)              0         \n",
      "_________________________________________________________________\n",
      "dense_6 (Dense)              (None, 16)                52816     \n",
      "_________________________________________________________________\n",
      "dense_7 (Dense)              (None, 16)                272       \n",
      "_________________________________________________________________\n",
      "dense_8 (Dense)              (None, 4)                 68        \n",
      "=================================================================\n",
      "Total params: 1,053,256\n",
      "Trainable params: 53,156\n",
      "Non-trainable params: 1,000,100\n",
      "_________________________________________________________________\n"
     ]
    }
   ],
   "source": [
    "model_transf = models.Sequential()\n",
    "\n",
    "model_transf.add(layers.Embedding(max_words+1,\n",
    "                                  embedding_dim, input_length=max_len))\n",
    "\n",
    "model_transf.add(layers.Flatten())\n",
    "model_transf.add(layers.Dense(16, activation='relu'))\n",
    "# model_transf.add(layers.Dropout(0.75))\n",
    "model_transf.add(layers.Dense(16, activation='relu'))\n",
    "# model_transf.add(layers.Dropout(0.75))\n",
    "model_transf.add(layers.Dense(dimensions_labels, activation='softmax'))\n",
    "\n",
    "model_transf.layers[0].set_weights([embedding_matrix])  # !!!! important !!!!\n",
    "model_transf.layers[0].trainable = False\n",
    "\n",
    "\n",
    "# needed in order to save the weights: https://stackoverflow.com/questions/55908188/this-model-has-not-yet-been-built-error-on-model-summary\n",
    "model_transf.build((max_len,))\n",
    "\n",
    "model_transf.summary()\n",
    "\n",
    "\n",
    "model_transf.compile(\n",
    "    optimizer='adam',\n",
    "    loss='categorical_crossentropy',\n",
    "    metrics=metrics\n",
    ")"
   ]
  },
  {
   "cell_type": "code",
   "execution_count": 40,
   "metadata": {},
   "outputs": [
    {
     "name": "stdout",
     "output_type": "stream",
     "text": [
      "Epoch 1/15\n",
      "431/431 [==============================] - 1s 3ms/step - loss: 1.2622 - accuracy: 0.4027 - precision: 0.5186 - recall: 0.1620 - val_loss: 1.1786 - val_accuracy: 0.4409 - val_precision: 0.6032 - val_recall: 0.1630\n",
      "Epoch 2/15\n",
      "431/431 [==============================] - 1s 2ms/step - loss: 1.1032 - accuracy: 0.4924 - precision: 0.6590 - recall: 0.2365 - val_loss: 1.1427 - val_accuracy: 0.4758 - val_precision: 0.6121 - val_recall: 0.2447\n",
      "Epoch 3/15\n",
      "431/431 [==============================] - 1s 2ms/step - loss: 1.0058 - accuracy: 0.5474 - precision: 0.6912 - recall: 0.3295 - val_loss: 1.2093 - val_accuracy: 0.4552 - val_precision: 0.5506 - val_recall: 0.2819\n",
      "Epoch 4/15\n",
      "431/431 [==============================] - 1s 2ms/step - loss: 0.9041 - accuracy: 0.6062 - precision: 0.7196 - recall: 0.4347 - val_loss: 1.1699 - val_accuracy: 0.4847 - val_precision: 0.5641 - val_recall: 0.3416\n",
      "Epoch 5/15\n",
      "431/431 [==============================] - 1s 2ms/step - loss: 0.8080 - accuracy: 0.6536 - precision: 0.7472 - recall: 0.5213 - val_loss: 1.1972 - val_accuracy: 0.4821 - val_precision: 0.5461 - val_recall: 0.3542\n",
      "Epoch 6/15\n",
      "431/431 [==============================] - 1s 2ms/step - loss: 0.7271 - accuracy: 0.6981 - precision: 0.7713 - recall: 0.5935 - val_loss: 1.2829 - val_accuracy: 0.4871 - val_precision: 0.5235 - val_recall: 0.3851\n",
      "Epoch 7/15\n",
      "431/431 [==============================] - 1s 2ms/step - loss: 0.6485 - accuracy: 0.7334 - precision: 0.7964 - recall: 0.6533 - val_loss: 1.3756 - val_accuracy: 0.4864 - val_precision: 0.5227 - val_recall: 0.4213\n",
      "Epoch 8/15\n",
      "431/431 [==============================] - 1s 2ms/step - loss: 0.5849 - accuracy: 0.7608 - precision: 0.8163 - recall: 0.6996 - val_loss: 1.4838 - val_accuracy: 0.4724 - val_precision: 0.5020 - val_recall: 0.4067\n",
      "Epoch 9/15\n",
      "431/431 [==============================] - 1s 2ms/step - loss: 0.5217 - accuracy: 0.7950 - precision: 0.8401 - recall: 0.7426 - val_loss: 1.6351 - val_accuracy: 0.4705 - val_precision: 0.4966 - val_recall: 0.4366\n",
      "Epoch 10/15\n",
      "431/431 [==============================] - 1s 2ms/step - loss: 0.4674 - accuracy: 0.8165 - precision: 0.8540 - recall: 0.7793 - val_loss: 1.7318 - val_accuracy: 0.4758 - val_precision: 0.4979 - val_recall: 0.4339\n",
      "Epoch 11/15\n",
      "431/431 [==============================] - 1s 2ms/step - loss: 0.4299 - accuracy: 0.8302 - precision: 0.8627 - recall: 0.7958 - val_loss: 1.8604 - val_accuracy: 0.4658 - val_precision: 0.4778 - val_recall: 0.4326\n",
      "Epoch 12/15\n",
      "431/431 [==============================] - 1s 2ms/step - loss: 0.3822 - accuracy: 0.8529 - precision: 0.8809 - recall: 0.8254 - val_loss: 1.9294 - val_accuracy: 0.4754 - val_precision: 0.4966 - val_recall: 0.4412\n",
      "Epoch 13/15\n",
      "431/431 [==============================] - 1s 2ms/step - loss: 0.3486 - accuracy: 0.8686 - precision: 0.8923 - recall: 0.8462 - val_loss: 2.0899 - val_accuracy: 0.4768 - val_precision: 0.4846 - val_recall: 0.4502\n",
      "Epoch 14/15\n",
      "431/431 [==============================] - 1s 2ms/step - loss: 0.3147 - accuracy: 0.8855 - precision: 0.9055 - recall: 0.8654 - val_loss: 2.3259 - val_accuracy: 0.4831 - val_precision: 0.4887 - val_recall: 0.4592\n",
      "Epoch 15/15\n",
      "431/431 [==============================] - 1s 2ms/step - loss: 0.3055 - accuracy: 0.8879 - precision: 0.9054 - recall: 0.8710 - val_loss: 2.4995 - val_accuracy: 0.4781 - val_precision: 0.4860 - val_recall: 0.4595\n"
     ]
    }
   ],
   "source": [
    "history_transf = model_transf.fit(\n",
    "    x_train, y_train,\n",
    "    epochs=epochs,\n",
    "    batch_size=batch_size,\n",
    "    validation_data=(x_val, y_val)\n",
    ")\n",
    "\n",
    "model_transf.save_weights(f'{model_path}_transf')"
   ]
  },
  {
   "cell_type": "code",
   "execution_count": 41,
   "metadata": {},
   "outputs": [
    {
     "data": {
      "image/png": "[encoded data removed]",
      "text/plain": [
       "<Figure size 432x288 with 1 Axes>"
      ]
     },
     "metadata": {
      "needs_background": "light"
     },
     "output_type": "display_data"
    },
    {
     "data": {
      "image/png": "[encoded data removed]",
      "text/plain": [
       "<Figure size 432x288 with 1 Axes>"
      ]
     },
     "metadata": {
      "needs_background": "light"
     },
     "output_type": "display_data"
    }
   ],
   "source": [
    "loss_transf = history_transf.history['loss']\n",
    "val_loss_transf = history_transf.history['val_loss']\n",
    "acc_transf = history_transf.history['accuracy']\n",
    "val_acc_transf = history_transf.history['val_accuracy']\n",
    "\n",
    "\n",
    "epochs_graph = range(1, len(acc_transf) + 1)\n",
    "\n",
    "plt.plot(epochs_graph, loss_transf, 'bo', label='Training loss')\n",
    "plt.plot(epochs_graph, val_loss_transf, 'b', label='Validation loss')\n",
    "plt.title('Training and validation loss')\n",
    "plt.legend()\n",
    "\n",
    "plt.figure()\n",
    "\n",
    "plt.plot(epochs_graph, acc_transf, 'bo', label='Training acc')\n",
    "plt.plot(epochs_graph, val_acc_transf, 'b', label='Validation acc')\n",
    "plt.title('Training and validation accuracy')\n",
    "plt.legend()\n",
    "\n",
    "plt.show()"
   ]
  },
  {
   "cell_type": "markdown",
   "metadata": {},
   "source": [
    "# LSTM"
   ]
  },
  {
   "cell_type": "code",
   "execution_count": 42,
   "metadata": {},
   "outputs": [
    {
     "name": "stdout",
     "output_type": "stream",
     "text": [
      "Model: \"sequential_3\"\n",
      "_________________________________________________________________\n",
      "Layer (type)                 Output Shape              Param #   \n",
      "=================================================================\n",
      "embedding_2 (Embedding)      (None, 33, 100)           1000100   \n",
      "_________________________________________________________________\n",
      "lstm (LSTM)                  (None, 32)                17024     \n",
      "_________________________________________________________________\n",
      "dense_9 (Dense)              (None, 16)                528       \n",
      "_________________________________________________________________\n",
      "dense_10 (Dense)             (None, 16)                272       \n",
      "_________________________________________________________________\n",
      "dense_11 (Dense)             (None, 4)                 68        \n",
      "=================================================================\n",
      "Total params: 1,017,992\n",
      "Trainable params: 17,892\n",
      "Non-trainable params: 1,000,100\n",
      "_________________________________________________________________\n"
     ]
    }
   ],
   "source": [
    "model_lstm = models.Sequential()\n",
    "\n",
    "model_lstm.add(layers.Embedding(max_words+1,\n",
    "                                embedding_dim, input_length=max_len))\n",
    "\n",
    "# model_lstm.add(layers.Flatten())\n",
    "# Option 1\n",
    "model_lstm.add(layers.LSTM(32))\n",
    "\n",
    "# Option 2\n",
    "# model.add(layers.LSTM(32, return_sequences=True)) # stacking of LSTMs\n",
    "# model.add(layers.LSTM(32)) # the size of the hidden state, randomly defined\n",
    "model_lstm.add(layers.Dense(16, activation='relu'))\n",
    "# model_lstm.add(layers.Dropout(0.5))\n",
    "model_lstm.add(layers.Dense(16, activation='relu'))\n",
    "# model_lstm.add(layers.Dropout(0.5))\n",
    "model_lstm.add(layers.Dense(dimensions_labels, activation='softmax'))\n",
    "\n",
    "model_lstm.layers[0].set_weights([embedding_matrix])  # !!!! important !!!!\n",
    "model_lstm.layers[0].trainable = False\n",
    "\n",
    "model_lstm.summary()\n",
    "\n",
    "model_lstm.compile(\n",
    "    optimizer='adam',\n",
    "    loss='categorical_crossentropy',\n",
    "    metrics=metrics\n",
    ")"
   ]
  },
  {
   "cell_type": "code",
   "execution_count": 43,
   "metadata": {},
   "outputs": [
    {
     "name": "stdout",
     "output_type": "stream",
     "text": [
      "Epoch 1/15\n",
      "431/431 [==============================] - 6s 14ms/step - loss: 1.2529 - accuracy: 0.4082 - precision: 0.5315 - recall: 0.1637 - val_loss: 1.2133 - val_accuracy: 0.4150 - val_precision: 0.6481 - val_recall: 0.0734\n",
      "Epoch 2/15\n",
      "431/431 [==============================] - 6s 13ms/step - loss: 1.1340 - accuracy: 0.4525 - precision: 0.6178 - recall: 0.1501 - val_loss: 1.1192 - val_accuracy: 0.4751 - val_precision: 0.6243 - val_recall: 0.1550\n",
      "Epoch 3/15\n",
      "431/431 [==============================] - 5s 12ms/step - loss: 1.0817 - accuracy: 0.4754 - precision: 0.6239 - recall: 0.1845 - val_loss: 1.0858 - val_accuracy: 0.4807 - val_precision: 0.6307 - val_recall: 0.1826\n",
      "Epoch 4/15\n",
      "431/431 [==============================] - 5s 13ms/step - loss: 1.0440 - accuracy: 0.4934 - precision: 0.6322 - recall: 0.2102 - val_loss: 1.0891 - val_accuracy: 0.4638 - val_precision: 0.5681 - val_recall: 0.1633\n",
      "Epoch 5/15\n",
      "431/431 [==============================] - 5s 13ms/step - loss: 1.0108 - accuracy: 0.5119 - precision: 0.6386 - recall: 0.2477 - val_loss: 1.0573 - val_accuracy: 0.4861 - val_precision: 0.5806 - val_recall: 0.2965\n",
      "Epoch 6/15\n",
      "431/431 [==============================] - 5s 12ms/step - loss: 0.9842 - accuracy: 0.5245 - precision: 0.6432 - recall: 0.2804 - val_loss: 1.0554 - val_accuracy: 0.4894 - val_precision: 0.5970 - val_recall: 0.2503\n",
      "Epoch 7/15\n",
      "431/431 [==============================] - 5s 12ms/step - loss: 0.9590 - accuracy: 0.5376 - precision: 0.6501 - recall: 0.3086 - val_loss: 1.0579 - val_accuracy: 0.4970 - val_precision: 0.5940 - val_recall: 0.2676\n",
      "Epoch 8/15\n",
      "431/431 [==============================] - 5s 12ms/step - loss: 0.9351 - accuracy: 0.5512 - precision: 0.6509 - recall: 0.3365 - val_loss: 1.0397 - val_accuracy: 0.5126 - val_precision: 0.5911 - val_recall: 0.3187\n",
      "Epoch 9/15\n",
      "431/431 [==============================] - 5s 13ms/step - loss: 0.9146 - accuracy: 0.5598 - precision: 0.6591 - recall: 0.3685 - val_loss: 1.0573 - val_accuracy: 0.5083 - val_precision: 0.5875 - val_recall: 0.3121\n",
      "Epoch 10/15\n",
      "431/431 [==============================] - 6s 13ms/step - loss: 0.8927 - accuracy: 0.5778 - precision: 0.6642 - recall: 0.3938 - val_loss: 1.0563 - val_accuracy: 0.5136 - val_precision: 0.5801 - val_recall: 0.3572\n",
      "Epoch 11/15\n",
      "431/431 [==============================] - 5s 12ms/step - loss: 0.8754 - accuracy: 0.5915 - precision: 0.6694 - recall: 0.4268 - val_loss: 1.0654 - val_accuracy: 0.5063 - val_precision: 0.5812 - val_recall: 0.3566\n",
      "Epoch 12/15\n",
      "431/431 [==============================] - 5s 12ms/step - loss: 0.8598 - accuracy: 0.5962 - precision: 0.6736 - recall: 0.4430 - val_loss: 1.0760 - val_accuracy: 0.5173 - val_precision: 0.5672 - val_recall: 0.3894\n",
      "Epoch 13/15\n",
      "431/431 [==============================] - 5s 12ms/step - loss: 0.8424 - accuracy: 0.6100 - precision: 0.6803 - recall: 0.4656 - val_loss: 1.0950 - val_accuracy: 0.5163 - val_precision: 0.5719 - val_recall: 0.3921\n",
      "Epoch 14/15\n",
      "431/431 [==============================] - 5s 12ms/step - loss: 0.8215 - accuracy: 0.6212 - precision: 0.6889 - recall: 0.4910 - val_loss: 1.1205 - val_accuracy: 0.5103 - val_precision: 0.5628 - val_recall: 0.3868\n",
      "Epoch 15/15\n",
      "431/431 [==============================] - 5s 12ms/step - loss: 0.8033 - accuracy: 0.6309 - precision: 0.6956 - recall: 0.5106 - val_loss: 1.1129 - val_accuracy: 0.5169 - val_precision: 0.5663 - val_recall: 0.4041\n"
     ]
    }
   ],
   "source": [
    "history_lstm = model_lstm.fit(\n",
    "    x_train, y_train,\n",
    "    epochs=epochs,\n",
    "    batch_size=batch_size,\n",
    "    validation_data=(x_val, y_val)\n",
    ")"
   ]
  },
  {
   "cell_type": "code",
   "execution_count": 44,
   "metadata": {},
   "outputs": [
    {
     "data": {
      "image/png": "[encoded data removed]",
      "text/plain": [
       "<Figure size 432x288 with 1 Axes>"
      ]
     },
     "metadata": {
      "needs_background": "light"
     },
     "output_type": "display_data"
    },
    {
     "data": {
      "image/png": "[encoded data removed]",
      "text/plain": [
       "<Figure size 432x288 with 1 Axes>"
      ]
     },
     "metadata": {
      "needs_background": "light"
     },
     "output_type": "display_data"
    }
   ],
   "source": [
    "loss_lstm = history_lstm.history['loss']\n",
    "val_loss_lstm = history_lstm.history['val_loss']\n",
    "acc_lstm = history_lstm.history['accuracy']\n",
    "val_acc_lstm = history_lstm.history['val_accuracy']\n",
    "\n",
    "\n",
    "epochs_graph = range(1, len(acc_lstm) + 1)\n",
    "\n",
    "plt.plot(epochs_graph, loss_lstm, 'bo', label='Training loss')\n",
    "plt.plot(epochs_graph, val_loss_lstm, 'b', label='Validation loss')\n",
    "plt.title('Training and validation loss')\n",
    "plt.legend()\n",
    "\n",
    "plt.figure()\n",
    "\n",
    "plt.plot(epochs_graph, acc_lstm, 'bo', label='Training acc')\n",
    "plt.plot(epochs_graph, val_acc_lstm, 'b', label='Validation acc')\n",
    "plt.title('Training and validation accuracy')\n",
    "plt.legend()\n",
    "\n",
    "plt.show()"
   ]
  },
  {
   "cell_type": "markdown",
   "metadata": {},
   "source": [
    "# 1D Convolutional NN"
   ]
  },
  {
   "cell_type": "code",
   "execution_count": 45,
   "metadata": {},
   "outputs": [
    {
     "name": "stdout",
     "output_type": "stream",
     "text": [
      "Model: \"sequential_4\"\n",
      "_________________________________________________________________\n",
      "Layer (type)                 Output Shape              Param #   \n",
      "=================================================================\n",
      "embedding_3 (Embedding)      (None, 33, 100)           1000100   \n",
      "_________________________________________________________________\n",
      "conv1d (Conv1D)              (None, 29, 32)            16032     \n",
      "_________________________________________________________________\n",
      "conv1d_1 (Conv1D)            (None, 25, 32)            5152      \n",
      "_________________________________________________________________\n",
      "global_max_pooling1d (Global (None, 32)                0         \n",
      "_________________________________________________________________\n",
      "dense_12 (Dense)             (None, 4)                 132       \n",
      "=================================================================\n",
      "Total params: 1,021,416\n",
      "Trainable params: 21,316\n",
      "Non-trainable params: 1,000,100\n",
      "_________________________________________________________________\n"
     ]
    }
   ],
   "source": [
    "model_conv1d = models.Sequential()\n",
    "\n",
    "model_conv1d.add(layers.Embedding(max_words+1,\n",
    "                                  embedding_dim, input_length=max_len))\n",
    "\n",
    "model_conv1d.add(layers.Conv1D(\n",
    "    32,  # features to be extracted\n",
    "    5,  # convolutional window size\n",
    "    activation='relu',\n",
    "))\n",
    "# model_conv1d.add(layers.MaxPooling1D(3))\n",
    "model_conv1d.add(layers.Conv1D(32, 5, activation='relu'))\n",
    "model_conv1d.add(layers.GlobalMaxPooling1D())\n",
    "model_conv1d.add(layers.Dense(dimensions_labels, activation='softmax'))\n",
    "\n",
    "model_conv1d.layers[0].set_weights([embedding_matrix])  # !!!! important !!!!\n",
    "model_conv1d.layers[0].trainable = False\n",
    "\n",
    "model_conv1d.summary()\n",
    "\n",
    "model_conv1d.compile(\n",
    "    optimizer='adam',\n",
    "    loss='categorical_crossentropy',\n",
    "    metrics=metrics\n",
    ")"
   ]
  },
  {
   "cell_type": "code",
   "execution_count": 46,
   "metadata": {},
   "outputs": [
    {
     "name": "stdout",
     "output_type": "stream",
     "text": [
      "Epoch 1/15\n",
      "431/431 [==============================] - 2s 5ms/step - loss: 1.2550 - accuracy: 0.4171 - precision: 0.5765 - recall: 0.1499 - val_loss: 1.1837 - val_accuracy: 0.4363 - val_precision: 0.5923 - val_recall: 0.1577\n",
      "Epoch 2/15\n",
      "431/431 [==============================] - 2s 4ms/step - loss: 1.0886 - accuracy: 0.5001 - precision: 0.6367 - recall: 0.2409 - val_loss: 1.1102 - val_accuracy: 0.4771 - val_precision: 0.5894 - val_recall: 0.2473\n",
      "Epoch 3/15\n",
      "431/431 [==============================] - 2s 4ms/step - loss: 0.9991 - accuracy: 0.5501 - precision: 0.6659 - recall: 0.3281 - val_loss: 1.1048 - val_accuracy: 0.4705 - val_precision: 0.5493 - val_recall: 0.2646 loss: 0.9958 - accuracy: 0.5528 - precision: 0.6683 -\n",
      "Epoch 4/15\n",
      "431/431 [==============================] - 2s 4ms/step - loss: 0.9231 - accuracy: 0.5984 - precision: 0.6972 - recall: 0.4130 - val_loss: 1.1004 - val_accuracy: 0.4880 - val_precision: 0.5736 - val_recall: 0.3260\n",
      "Epoch 5/15\n",
      "431/431 [==============================] - 2s 4ms/step - loss: 0.8531 - accuracy: 0.6382 - precision: 0.7269 - recall: 0.4822 - val_loss: 1.1330 - val_accuracy: 0.4724 - val_precision: 0.5334 - val_recall: 0.3606\n",
      "Epoch 6/15\n",
      "431/431 [==============================] - 2s 4ms/step - loss: 0.7876 - accuracy: 0.6757 - precision: 0.7520 - recall: 0.5473 - val_loss: 1.1783 - val_accuracy: 0.4519 - val_precision: 0.5050 - val_recall: 0.3516\n",
      "Epoch 7/15\n",
      "431/431 [==============================] - 2s 4ms/step - loss: 0.7309 - accuracy: 0.7009 - precision: 0.7689 - recall: 0.5925 - val_loss: 1.1811 - val_accuracy: 0.4834 - val_precision: 0.5387 - val_recall: 0.3881\n",
      "Epoch 8/15\n",
      "431/431 [==============================] - 2s 4ms/step - loss: 0.6643 - accuracy: 0.7398 - precision: 0.7984 - recall: 0.6484 - val_loss: 1.2496 - val_accuracy: 0.4834 - val_precision: 0.5251 - val_recall: 0.4094\n",
      "Epoch 9/15\n",
      "431/431 [==============================] - 2s 4ms/step - loss: 0.6104 - accuracy: 0.7678 - precision: 0.8152 - recall: 0.6891 - val_loss: 1.2746 - val_accuracy: 0.4827 - val_precision: 0.5210 - val_recall: 0.4207\n",
      "Epoch 10/15\n",
      "431/431 [==============================] - 2s 4ms/step - loss: 0.5555 - accuracy: 0.7902 - precision: 0.8359 - recall: 0.7277 - val_loss: 1.3113 - val_accuracy: 0.4807 - val_precision: 0.5082 - val_recall: 0.4220\n",
      "Epoch 11/15\n",
      "431/431 [==============================] - 2s 4ms/step - loss: 0.5063 - accuracy: 0.8132 - precision: 0.8547 - recall: 0.7600 - val_loss: 1.3631 - val_accuracy: 0.4811 - val_precision: 0.5095 - val_recall: 0.4359\n",
      "Epoch 12/15\n",
      "431/431 [==============================] - 2s 4ms/step - loss: 0.4557 - accuracy: 0.8383 - precision: 0.8706 - recall: 0.7932 - val_loss: 1.4499 - val_accuracy: 0.4821 - val_precision: 0.5059 - val_recall: 0.4449\n",
      "Epoch 13/15\n",
      "431/431 [==============================] - 2s 4ms/step - loss: 0.4198 - accuracy: 0.8539 - precision: 0.8817 - recall: 0.8132 - val_loss: 1.5199 - val_accuracy: 0.4811 - val_precision: 0.5034 - val_recall: 0.4449\n",
      "Epoch 14/15\n",
      "431/431 [==============================] - 2s 4ms/step - loss: 0.3756 - accuracy: 0.8722 - precision: 0.8966 - recall: 0.8388 - val_loss: 1.6077 - val_accuracy: 0.4797 - val_precision: 0.4989 - val_recall: 0.4475\n",
      "Epoch 15/15\n",
      "431/431 [==============================] - 2s 4ms/step - loss: 0.3416 - accuracy: 0.8877 - precision: 0.9090 - recall: 0.8598 - val_loss: 1.6383 - val_accuracy: 0.4794 - val_precision: 0.4911 - val_recall: 0.4475\n"
     ]
    }
   ],
   "source": [
    "history_conv1d = model_conv1d.fit(\n",
    "    x_train, y_train,\n",
    "    epochs=epochs,\n",
    "    batch_size=batch_size,\n",
    "    validation_data=(x_val, y_val)\n",
    ")"
   ]
  },
  {
   "cell_type": "code",
   "execution_count": 47,
   "metadata": {},
   "outputs": [
    {
     "data": {
      "image/png": "[encoded data removed]",
      "text/plain": [
       "<Figure size 432x288 with 1 Axes>"
      ]
     },
     "metadata": {
      "needs_background": "light"
     },
     "output_type": "display_data"
    },
    {
     "data": {
      "image/png": "[encoded data removed]",
      "text/plain": [
       "<Figure size 432x288 with 1 Axes>"
      ]
     },
     "metadata": {
      "needs_background": "light"
     },
     "output_type": "display_data"
    }
   ],
   "source": [
    "loss_conv1d = history_conv1d.history['loss']\n",
    "val_loss_conv1d = history_conv1d.history['val_loss']\n",
    "acc_conv1d = history_conv1d.history['accuracy']\n",
    "val_acc_conv1d = history_conv1d.history['val_accuracy']\n",
    "\n",
    "\n",
    "epochs_graph = range(1, len(acc_conv1d) + 1)\n",
    "\n",
    "plt.plot(epochs_graph, loss_conv1d, 'bo', label='Training loss')\n",
    "plt.plot(epochs_graph, val_loss_conv1d, 'b', label='Validation loss')\n",
    "plt.title('Training and validation loss')\n",
    "plt.legend()\n",
    "\n",
    "plt.figure()\n",
    "\n",
    "plt.plot(epochs_graph, acc_conv1d, 'bo', label='Training acc')\n",
    "plt.plot(epochs_graph, val_acc_conv1d, 'b', label='Validation acc')\n",
    "plt.title('Training and validation accuracy')\n",
    "plt.legend()\n",
    "\n",
    "plt.show()"
   ]
  },
  {
   "cell_type": "markdown",
   "metadata": {},
   "source": [
    "With a regular validation and wihtout any regularisation LSTM seems to have the best performance on the validation set. \n",
    "However, all of them are highly overfitting. \n",
    "\n",
    "As a next step, I am going to evaluate the models with cross-validation due to the low volume of data we have."
   ]
  },
  {
   "cell_type": "code",
   "execution_count": 48,
   "metadata": {},
   "outputs": [],
   "source": [
    "def with_cross_val(k, model, train_data, train_targets, epochs, batch_size):\n",
    "    \"\"\"\n",
    "    This function applies a k-fold cross-validation.\n",
    "    Args: \n",
    "        - k - number of folds\n",
    "        - model - which model is to be used\n",
    "        - train_data - the tokenised, padded and shuffled sequences\n",
    "        - train_targets - labels \n",
    "        - epochs - number of epochs\n",
    "        - batch_size - batch size\n",
    "\n",
    "    Returns:\n",
    "        - all_histories_acc - accuracy for all epochs and folds\n",
    "        - all_histories_prec - precision for all epochs and folds\n",
    "        - all_histories_rec - recall for all epochs and folds\n",
    "\n",
    "    \"\"\"\n",
    "    num_val_samples = len(train_data) // k\n",
    "    all_histories_acc = []\n",
    "    all_histories_prec = []\n",
    "    all_histories_rec = []\n",
    "\n",
    "    for i in range(k):\n",
    "        print('processing fold #', i)\n",
    "        val_data = train_data[i * num_val_samples:(i + 1) * num_val_samples]\n",
    "        val_targets = train_targets[i *\n",
    "                                    num_val_samples:(i + 1) * num_val_samples]\n",
    "\n",
    "        partial_train_data = np.concatenate(\n",
    "            [train_data[:i * num_val_samples],\n",
    "             train_data[(i + 1) * num_val_samples:]],\n",
    "            axis=0)\n",
    "\n",
    "        partial_train_targets = np.concatenate(\n",
    "            [train_targets[:i * num_val_samples],\n",
    "             train_targets[(i + 1) * num_val_samples:]],\n",
    "            axis=0\n",
    "        )\n",
    "\n",
    "        #model = build_model()\n",
    "        history = model.fit(\n",
    "            partial_train_data, partial_train_targets,\n",
    "            epochs=epochs,\n",
    "            batch_size=batch_size,\n",
    "            verbose=0,\n",
    "            validation_data=(val_data, val_targets)\n",
    "        )\n",
    "\n",
    "        metric_history_acc = history.history['val_accuracy']\n",
    "        all_histories_acc.append(metric_history_acc)\n",
    "\n",
    "        metric_history_prec = history.history['val_precision']\n",
    "        all_histories_prec.append(metric_history_prec)\n",
    "\n",
    "        metric_history_rec = history.history['val_recall']\n",
    "        all_histories_rec.append(metric_history_rec)\n",
    "\n",
    "    return all_histories_acc, all_histories_prec, all_histories_rec"
   ]
  },
  {
   "cell_type": "code",
   "execution_count": 52,
   "metadata": {},
   "outputs": [
    {
     "name": "stdout",
     "output_type": "stream",
     "text": [
      "processing fold # 0\n",
      "processing fold # 1\n",
      "processing fold # 2\n",
      "processing fold # 3\n"
     ]
    }
   ],
   "source": [
    "all_histories_acc_bow, all_histories_prec_bow, all_histories_rec_bow = with_cross_val(\n",
    "    k=4,\n",
    "    model=model_bow,\n",
    "    train_data=data_oh,\n",
    "    train_targets=labels_encoded_oh,\n",
    "    epochs=epochs,\n",
    "    batch_size=batch_size)"
   ]
  },
  {
   "cell_type": "code",
   "execution_count": 53,
   "metadata": {},
   "outputs": [
    {
     "data": {
      "text/plain": [
       "0.299933597445488"
      ]
     },
     "execution_count": 53,
     "metadata": {},
     "output_type": "execute_result"
    }
   ],
   "source": [
    "average_acc_history_bow = [\n",
    "    np.mean([x[i] for x in all_histories_acc_bow]) for i in range(epochs)]\n",
    "average_acc_history_bow[-1]"
   ]
  },
  {
   "cell_type": "code",
   "execution_count": 54,
   "metadata": {},
   "outputs": [
    {
     "data": {
      "image/png": "[encoded data removed]",
      "text/plain": [
       "<Figure size 432x288 with 1 Axes>"
      ]
     },
     "metadata": {
      "needs_background": "light"
     },
     "output_type": "display_data"
    }
   ],
   "source": [
    "plt.plot(range(1, len(average_acc_history_bow) + 1), average_acc_history_bow)\n",
    "plt.xlabel('Epochs')\n",
    "plt.ylabel('Validation Acc')\n",
    "plt.show()"
   ]
  },
  {
   "cell_type": "code",
   "execution_count": 55,
   "metadata": {},
   "outputs": [
    {
     "name": "stdout",
     "output_type": "stream",
     "text": [
      "processing fold # 0\n",
      "processing fold # 1\n",
      "processing fold # 2\n",
      "processing fold # 3\n"
     ]
    }
   ],
   "source": [
    "all_histories_acc_emb, all_histories_prec_emb, all_histories_rec_emb = with_cross_val(\n",
    "    k=4,\n",
    "    model=model_emb,\n",
    "    train_data=data_ovs,\n",
    "    train_targets=labels_encoded,\n",
    "    epochs=epochs,\n",
    "    batch_size=batch_size)"
   ]
  },
  {
   "cell_type": "code",
   "execution_count": 56,
   "metadata": {},
   "outputs": [
    {
     "data": {
      "text/plain": [
       "0.9130810052156448"
      ]
     },
     "execution_count": 56,
     "metadata": {},
     "output_type": "execute_result"
    }
   ],
   "source": [
    "average_acc_history_emb = [\n",
    "    np.mean([x[i] for x in all_histories_acc_emb]) for i in range(epochs)]\n",
    "average_acc_history_emb[-1]"
   ]
  },
  {
   "cell_type": "code",
   "execution_count": 57,
   "metadata": {},
   "outputs": [
    {
     "data": {
      "image/png": "[encoded data removed]",
      "text/plain": [
       "<Figure size 432x288 with 1 Axes>"
      ]
     },
     "metadata": {
      "needs_background": "light"
     },
     "output_type": "display_data"
    }
   ],
   "source": [
    "plt.plot(range(1, len(average_acc_history_emb) + 1), average_acc_history_emb)\n",
    "plt.xlabel('Epochs')\n",
    "plt.ylabel('Validation Acc')\n",
    "plt.show()"
   ]
  },
  {
   "cell_type": "code",
   "execution_count": 58,
   "metadata": {},
   "outputs": [
    {
     "name": "stdout",
     "output_type": "stream",
     "text": [
      "processing fold # 0\n",
      "processing fold # 1\n",
      "processing fold # 2\n",
      "processing fold # 3\n"
     ]
    }
   ],
   "source": [
    "all_histories_acc_transf, all_histories_prec_transf, all_histories_rec_transf = with_cross_val(\n",
    "    k=4,\n",
    "    model=model_transf,\n",
    "    train_data=data_ovs,\n",
    "    train_targets=labels_encoded,\n",
    "    epochs=epochs,\n",
    "    batch_size=batch_size)"
   ]
  },
  {
   "cell_type": "code",
   "execution_count": 59,
   "metadata": {},
   "outputs": [
    {
     "data": {
      "text/plain": [
       "0.7801460772752762"
      ]
     },
     "execution_count": 59,
     "metadata": {},
     "output_type": "execute_result"
    }
   ],
   "source": [
    "average_acc_history_transf = [\n",
    "    np.mean([x[i] for x in all_histories_acc_transf]) for i in range(epochs)]\n",
    "average_acc_history_transf[-1]"
   ]
  },
  {
   "cell_type": "code",
   "execution_count": 60,
   "metadata": {},
   "outputs": [
    {
     "data": {
      "image/png": "[encoded data removed]",
      "text/plain": [
       "<Figure size 432x288 with 1 Axes>"
      ]
     },
     "metadata": {
      "needs_background": "light"
     },
     "output_type": "display_data"
    }
   ],
   "source": [
    "plt.plot(range(1, len(average_acc_history_transf) + 1),\n",
    "         average_acc_history_transf)\n",
    "plt.xlabel('Epochs')\n",
    "plt.ylabel('Validation Acc')\n",
    "plt.show()"
   ]
  },
  {
   "cell_type": "code",
   "execution_count": 61,
   "metadata": {},
   "outputs": [
    {
     "name": "stdout",
     "output_type": "stream",
     "text": [
      "processing fold # 0\n",
      "processing fold # 1\n",
      "processing fold # 2\n",
      "processing fold # 3\n"
     ]
    }
   ],
   "source": [
    "all_histories_acc_lstm, all_histories_prec_lstm, all_histories_rec_lstm = with_cross_val(\n",
    "    k=4,\n",
    "    model=model_lstm,\n",
    "    train_data=data_ovs,\n",
    "    train_targets=labels_encoded,\n",
    "    epochs=epochs,\n",
    "    batch_size=batch_size)"
   ]
  },
  {
   "cell_type": "code",
   "execution_count": 62,
   "metadata": {},
   "outputs": [
    {
     "data": {
      "text/plain": [
       "0.674236387014389"
      ]
     },
     "execution_count": 62,
     "metadata": {},
     "output_type": "execute_result"
    }
   ],
   "source": [
    "average_acc_history_lstm = [\n",
    "    np.mean([x[i] for x in all_histories_acc_lstm]) for i in range(epochs)]\n",
    "average_acc_history_lstm[-1]"
   ]
  },
  {
   "cell_type": "code",
   "execution_count": 63,
   "metadata": {},
   "outputs": [
    {
     "data": {
      "image/png": "[encoded data removed]",
      "text/plain": [
       "<Figure size 432x288 with 1 Axes>"
      ]
     },
     "metadata": {
      "needs_background": "light"
     },
     "output_type": "display_data"
    }
   ],
   "source": [
    "plt.plot(range(1, len(average_acc_history_lstm) + 1), average_acc_history_lstm)\n",
    "plt.xlabel('Epochs')\n",
    "plt.ylabel('Validation Acc')\n",
    "plt.show()"
   ]
  },
  {
   "cell_type": "code",
   "execution_count": 64,
   "metadata": {},
   "outputs": [
    {
     "name": "stdout",
     "output_type": "stream",
     "text": [
      "processing fold # 0\n",
      "processing fold # 1\n",
      "processing fold # 2\n",
      "processing fold # 3\n"
     ]
    }
   ],
   "source": [
    "all_histories_acc_conv1d, all_histories_prec_conv1d, all_histories_rec_conv1d = with_cross_val(\n",
    "    k=4,\n",
    "    model=model_conv1d,\n",
    "    train_data=data_ovs,\n",
    "    train_targets=labels_encoded,\n",
    "    epochs=epochs,\n",
    "    batch_size=batch_size)"
   ]
  },
  {
   "cell_type": "code",
   "execution_count": 65,
   "metadata": {},
   "outputs": [
    {
     "data": {
      "text/plain": [
       "0.7667330652475357"
      ]
     },
     "execution_count": 65,
     "metadata": {},
     "output_type": "execute_result"
    }
   ],
   "source": [
    "average_acc_history_conv1d = [\n",
    "    np.mean([x[i] for x in all_histories_acc_conv1d]) for i in range(epochs)]\n",
    "average_acc_history_conv1d[-1]"
   ]
  },
  {
   "cell_type": "code",
   "execution_count": 66,
   "metadata": {},
   "outputs": [
    {
     "data": {
      "image/png": "[encoded data removed]",
      "text/plain": [
       "<Figure size 432x288 with 1 Axes>"
      ]
     },
     "metadata": {
      "needs_background": "light"
     },
     "output_type": "display_data"
    }
   ],
   "source": [
    "plt.plot(range(1, len(average_acc_history_conv1d) + 1),\n",
    "         average_acc_history_conv1d)\n",
    "plt.xlabel('Epochs')\n",
    "plt.ylabel('Validation Acc')\n",
    "plt.show()"
   ]
  },
  {
   "cell_type": "code",
   "execution_count": null,
   "metadata": {},
   "outputs": [],
   "source": []
  },
  {
   "cell_type": "code",
   "execution_count": null,
   "metadata": {},
   "outputs": [],
   "source": []
  }
 ],
 "metadata": {
  "kernelspec": {
   "display_name": "nlp-sent",
   "language": "python",
   "name": "nlp-sent"
  },
  "language_info": {
   "codemirror_mode": {
    "name": "ipython",
    "version": 3
   },
   "file_extension": ".py",
   "mimetype": "text/x-python",
   "name": "python",
   "nbconvert_exporter": "python",
   "pygments_lexer": "ipython3",
   "version": "3.6.12"
  }
 },
 "nbformat": 4,
 "nbformat_minor": 4
}
