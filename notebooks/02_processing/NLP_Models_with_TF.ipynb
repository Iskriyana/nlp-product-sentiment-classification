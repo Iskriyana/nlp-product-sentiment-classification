{
 "cells": [
  {
   "cell_type": "markdown",
   "metadata": {},
   "source": [
    "The goal of this notebooks is to test the performance of several models. \n",
    "I will use bag-of-words as a baseline. \n",
    "Then I will use Keras' Embedding Layer, GloVe as a pre-trained model, an LSTM and a 1D ConvNet.\n",
    "\n",
    "Performance metrics are accuracy, precision and recall."
   ]
  },
  {
   "cell_type": "code",
   "execution_count": 1,
   "metadata": {},
   "outputs": [],
   "source": [
    "import keras\n",
    "import matplotlib.pyplot as plt\n",
    "import numpy as np\n",
    "import os\n",
    "import pandas as pd\n",
    "import pickle\n",
    "import sys\n",
    "import tensorflow as tf\n",
    "\n",
    "from keras import layers\n",
    "from keras import models\n",
    "from keras import utils\n",
    "from keras.utils import to_categorical\n",
    "from tensorflow import keras\n",
    "\n",
    "%matplotlib inline"
   ]
  },
  {
   "cell_type": "markdown",
   "metadata": {},
   "source": [
    "# Preparation Steps"
   ]
  },
  {
   "cell_type": "code",
   "execution_count": 2,
   "metadata": {},
   "outputs": [],
   "source": [
    "# folders\n",
    "home = os.getenv(\"HOME\")\n",
    "nlp_repo = os.path.join(home, 'git/nlp-product-sentiment-classification')\n",
    "\n",
    "# data\n",
    "train_csv_path = os.path.join(nlp_repo, 'data/03_processed/Train.csv')\n",
    "train_descr = pd.read_csv(train_csv_path)\n",
    "\n",
    "test_csv_path = os.path.join(nlp_repo, 'data/03_processed/Test.csv')\n",
    "test_descr = pd.read_csv(test_csv_path)\n",
    "\n",
    "# encoded tokens\n",
    "preprocessed_corpus_path_TF = os.path.join(\n",
    "    nlp_repo, 'data/03_processed/product_descr_preprocessed_TF.p')\n",
    "\n",
    "preprocessed_corpus_path_TF_oh = os.path.join(\n",
    "    nlp_repo, 'data/03_processed/product_descr_preprocessed_TF_oh.p')"
   ]
  },
  {
   "cell_type": "code",
   "execution_count": 3,
   "metadata": {},
   "outputs": [],
   "source": [
    "# read-in the list of tokens and the vocabulary\n",
    "sequences, word_index = pd.read_pickle(preprocessed_corpus_path_TF)"
   ]
  },
  {
   "cell_type": "markdown",
   "metadata": {},
   "source": [
    "# Parameters"
   ]
  },
  {
   "cell_type": "code",
   "execution_count": 4,
   "metadata": {},
   "outputs": [],
   "source": [
    "# Embedding Tokens\n",
    "\n",
    "# max_words = vocabulary size = our samples - number of most frequent words.\n",
    "# I set it to 10.000, although in this case there are less.\n",
    "# I do this to parametise the code.\n",
    "# Aleternatively, I can set it to the length of our vocabulary = word_index\n",
    "max_words = 10000\n",
    "\n",
    "# embedding_size = embedding dimensionality\n",
    "embedding_size = 10\n",
    "\n",
    "# max_len = sequence length - the text is cut off after this number of words\n",
    "# in this case I define it as the maximum sequence length in our list of tokenised sequences\n",
    "max_len = np.max([len(x) for x in sequences])\n",
    "\n",
    "\n",
    "# Training parameters\n",
    "training_samples = int(0.8 * len(train_descr['Product_Description']))\n",
    "model_path = \"product_descr_TF.h5\"\n",
    "epochs = 10\n",
    "batch_size = 32\n",
    "\n",
    "# For GloVe word-embeddings matrix (pre-trained model)\n",
    "embedding_dim = 100"
   ]
  },
  {
   "cell_type": "code",
   "execution_count": 5,
   "metadata": {},
   "outputs": [],
   "source": [
    "data = tf.keras.preprocessing.sequence.pad_sequences(\n",
    "    sequences, maxlen=max_len)"
   ]
  },
  {
   "cell_type": "code",
   "execution_count": 6,
   "metadata": {},
   "outputs": [],
   "source": [
    "labels = train_descr.loc[:, 'Sentiment'].to_list()"
   ]
  },
  {
   "cell_type": "code",
   "execution_count": 7,
   "metadata": {},
   "outputs": [],
   "source": [
    "dimensions_labels = len(np.unique(labels))"
   ]
  },
  {
   "cell_type": "code",
   "execution_count": 8,
   "metadata": {},
   "outputs": [],
   "source": [
    "labels_encoded = tf.one_hot(indices=labels, depth=dimensions_labels)"
   ]
  },
  {
   "cell_type": "code",
   "execution_count": 9,
   "metadata": {},
   "outputs": [],
   "source": [
    "labels_encoded = np.asarray(labels_encoded)"
   ]
  },
  {
   "cell_type": "code",
   "execution_count": 10,
   "metadata": {},
   "outputs": [
    {
     "name": "stdout",
     "output_type": "stream",
     "text": [
      "Shape of data tensor: (6364, 33)\n",
      "Shape of label tensor (6364, 4)\n"
     ]
    }
   ],
   "source": [
    "print('Shape of data tensor:', data.shape)\n",
    "print('Shape of label tensor', labels_encoded.shape)"
   ]
  },
  {
   "cell_type": "code",
   "execution_count": 11,
   "metadata": {},
   "outputs": [],
   "source": [
    "indices = np.arange(data.shape[0])\n",
    "np.random.shuffle(indices)"
   ]
  },
  {
   "cell_type": "code",
   "execution_count": 12,
   "metadata": {},
   "outputs": [],
   "source": [
    "data = data[indices]\n",
    "labels_encoded = labels_encoded[indices]"
   ]
  },
  {
   "cell_type": "code",
   "execution_count": 13,
   "metadata": {},
   "outputs": [],
   "source": [
    "x_train = data[:training_samples]\n",
    "y_train = labels_encoded[:training_samples]\n",
    "\n",
    "x_val = data[training_samples:]\n",
    "y_val = labels_encoded[training_samples:]"
   ]
  },
  {
   "cell_type": "code",
   "execution_count": 14,
   "metadata": {},
   "outputs": [],
   "source": [
    "def get_key(my_dict, val):\n",
    "    for key, value in my_dict.items():\n",
    "        if val == value:\n",
    "            return key\n",
    "\n",
    "    return \"key doesn't exist\""
   ]
  },
  {
   "cell_type": "code",
   "execution_count": 15,
   "metadata": {},
   "outputs": [
    {
     "data": {
      "text/plain": [
       "'sxsw'"
      ]
     },
     "execution_count": 15,
     "metadata": {},
     "output_type": "execute_result"
    }
   ],
   "source": [
    "get_key(word_index, 2)"
   ]
  },
  {
   "cell_type": "markdown",
   "metadata": {},
   "source": [
    "# Bag-of-Words"
   ]
  },
  {
   "cell_type": "markdown",
   "metadata": {},
   "source": [
    "* Bag-of-words will be used as a baseline model. \n",
    "* Its advantages are that it is fairly easy and quick to build. \n",
    "* The downside is that bag-of-words does not perserve the order of the sentence. As a result the structure of a sentence is lost. \n",
    "* RNNs & 1D ConvNets will be tried later in order to remedy this."
   ]
  },
  {
   "cell_type": "code",
   "execution_count": 16,
   "metadata": {},
   "outputs": [],
   "source": [
    "sequences_oh, word_index_oh = pd.read_pickle(preprocessed_corpus_path_TF_oh)"
   ]
  },
  {
   "cell_type": "code",
   "execution_count": 17,
   "metadata": {},
   "outputs": [
    {
     "data": {
      "text/plain": [
       "(6364, 10000)"
      ]
     },
     "execution_count": 17,
     "metadata": {},
     "output_type": "execute_result"
    }
   ],
   "source": [
    "sequences_oh.shape"
   ]
  },
  {
   "cell_type": "code",
   "execution_count": 18,
   "metadata": {},
   "outputs": [],
   "source": [
    "data_oh = sequences_oh[indices]"
   ]
  },
  {
   "cell_type": "code",
   "execution_count": 19,
   "metadata": {},
   "outputs": [],
   "source": [
    "x_train_oh = data_oh[:training_samples]\n",
    "y_train_oh = y_train\n",
    "\n",
    "x_val_oh = data_oh[training_samples:]\n",
    "y_val_oh = y_val"
   ]
  },
  {
   "cell_type": "markdown",
   "metadata": {},
   "source": [
    "# Fully Connected NN & Bag of Words"
   ]
  },
  {
   "cell_type": "code",
   "execution_count": 20,
   "metadata": {},
   "outputs": [
    {
     "name": "stdout",
     "output_type": "stream",
     "text": [
      "Model: \"sequential\"\n",
      "_________________________________________________________________\n",
      "Layer (type)                 Output Shape              Param #   \n",
      "=================================================================\n",
      "dense (Dense)                (None, 16)                160016    \n",
      "_________________________________________________________________\n",
      "dropout (Dropout)            (None, 16)                0         \n",
      "_________________________________________________________________\n",
      "dense_1 (Dense)              (None, 16)                272       \n",
      "_________________________________________________________________\n",
      "dropout_1 (Dropout)          (None, 16)                0         \n",
      "_________________________________________________________________\n",
      "dense_2 (Dense)              (None, 4)                 68        \n",
      "=================================================================\n",
      "Total params: 160,356\n",
      "Trainable params: 160,356\n",
      "Non-trainable params: 0\n",
      "_________________________________________________________________\n"
     ]
    }
   ],
   "source": [
    "model_bow = models.Sequential()\n",
    "\n",
    "model_bow.add(layers.Dense(16, activation='relu',\n",
    "                       input_shape=(max_words, )))\n",
    "model_bow.add(layers.Dropout(0.75))\n",
    "model_bow.add(layers.Dense(16, activation='relu'))\n",
    "model_bow.add(layers.Dropout(0.75))\n",
    "model_bow.add(layers.Dense(4, activation='softmax'))\n",
    "\n",
    "model_bow.summary()\n",
    "\n",
    "model_bow.compile(\n",
    "    optimizer='adam',\n",
    "    loss='categorical_crossentropy',\n",
    "    metrics=['accuracy']\n",
    ")"
   ]
  },
  {
   "cell_type": "code",
   "execution_count": 21,
   "metadata": {},
   "outputs": [
    {
     "name": "stdout",
     "output_type": "stream",
     "text": [
      "Epoch 1/10\n",
      "160/160 [==============================] - 0s 3ms/step - loss: 1.2472 - accuracy: 0.4879 - val_loss: 1.0327 - val_accuracy: 0.5962\n",
      "Epoch 2/10\n",
      "160/160 [==============================] - 0s 2ms/step - loss: 1.0797 - accuracy: 0.5645 - val_loss: 0.9335 - val_accuracy: 0.5962\n",
      "Epoch 3/10\n",
      "160/160 [==============================] - 0s 2ms/step - loss: 1.0149 - accuracy: 0.5718 - val_loss: 0.8888 - val_accuracy: 0.5962\n",
      "Epoch 4/10\n",
      "160/160 [==============================] - 0s 2ms/step - loss: 0.9670 - accuracy: 0.5873 - val_loss: 0.8695 - val_accuracy: 0.5962\n",
      "Epoch 5/10\n",
      "160/160 [==============================] - 0s 2ms/step - loss: 0.9486 - accuracy: 0.5873 - val_loss: 0.8761 - val_accuracy: 0.5962\n",
      "Epoch 6/10\n",
      "160/160 [==============================] - 0s 2ms/step - loss: 0.9328 - accuracy: 0.5905 - val_loss: 0.8614 - val_accuracy: 0.5962\n",
      "Epoch 7/10\n",
      "160/160 [==============================] - 0s 2ms/step - loss: 0.9186 - accuracy: 0.5895 - val_loss: 0.8468 - val_accuracy: 0.5962\n",
      "Epoch 8/10\n",
      "160/160 [==============================] - 0s 2ms/step - loss: 0.8984 - accuracy: 0.5908 - val_loss: 0.8481 - val_accuracy: 0.5962\n",
      "Epoch 9/10\n",
      "160/160 [==============================] - 0s 2ms/step - loss: 0.8847 - accuracy: 0.5885 - val_loss: 0.8395 - val_accuracy: 0.5962\n",
      "Epoch 10/10\n",
      "160/160 [==============================] - 0s 2ms/step - loss: 0.8788 - accuracy: 0.5908 - val_loss: 0.8334 - val_accuracy: 0.5962\n"
     ]
    }
   ],
   "source": [
    "history_bow = model_bow.fit(\n",
    "    x_train_oh, y_train_oh,\n",
    "    epochs=epochs,\n",
    "    batch_size=batch_size,\n",
    "    validation_data=(x_val_oh, y_val_oh)\n",
    ")"
   ]
  },
  {
   "cell_type": "code",
   "execution_count": 22,
   "metadata": {},
   "outputs": [
    {
     "data": {
      "image/png": "[encoded data removed]",
      "text/plain": [
       "<Figure size 432x288 with 1 Axes>"
      ]
     },
     "metadata": {
      "needs_background": "light"
     },
     "output_type": "display_data"
    },
    {
     "data": {
      "image/png": "[encoded data removed]",
      "text/plain": [
       "<Figure size 432x288 with 1 Axes>"
      ]
     },
     "metadata": {
      "needs_background": "light"
     },
     "output_type": "display_data"
    }
   ],
   "source": [
    "loss_bow = history_bow.history['loss']\n",
    "val_loss_bow = history_bow.history['val_loss']\n",
    "acc_bow = history_bow.history['accuracy']\n",
    "val_acc_bow = history_bow.history['val_accuracy']\n",
    "\n",
    "\n",
    "epochs_graph = range(1, len(acc_bow) + 1)\n",
    "\n",
    "plt.plot(epochs_graph, loss_bow, 'bo', label='Training loss')\n",
    "plt.plot(epochs_graph, val_loss_bow, 'b', label='Validation loss')\n",
    "plt.title('Training and validation loss')\n",
    "plt.legend()\n",
    "\n",
    "plt.figure()\n",
    "\n",
    "plt.plot(epochs_graph, acc_bow, 'bo', label='Training acc')\n",
    "plt.plot(epochs_graph, val_acc_bow, 'b', label='Validation acc')\n",
    "plt.title('Training and validation accuracy')\n",
    "plt.legend()\n",
    "\n",
    "plt.show()"
   ]
  },
  {
   "cell_type": "markdown",
   "metadata": {},
   "source": [
    "# Fully Conneceted NN & Embeddings Layer"
   ]
  },
  {
   "cell_type": "code",
   "execution_count": 23,
   "metadata": {},
   "outputs": [],
   "source": [
    "metrics = [\n",
    "    keras.metrics.CategoricalAccuracy(name='accuracy'),\n",
    "    keras.metrics.Precision(name='precision'),\n",
    "    keras.metrics.Recall(name='recall')]"
   ]
  },
  {
   "cell_type": "code",
   "execution_count": 24,
   "metadata": {},
   "outputs": [
    {
     "name": "stdout",
     "output_type": "stream",
     "text": [
      "Model: \"sequential_1\"\n",
      "_________________________________________________________________\n",
      "Layer (type)                 Output Shape              Param #   \n",
      "=================================================================\n",
      "embedding (Embedding)        (None, 33, 10)            100010    \n",
      "_________________________________________________________________\n",
      "flatten (Flatten)            (None, 330)               0         \n",
      "_________________________________________________________________\n",
      "dense_3 (Dense)              (None, 32)                10592     \n",
      "_________________________________________________________________\n",
      "dropout_2 (Dropout)          (None, 32)                0         \n",
      "_________________________________________________________________\n",
      "dense_4 (Dense)              (None, 32)                1056      \n",
      "_________________________________________________________________\n",
      "dropout_3 (Dropout)          (None, 32)                0         \n",
      "_________________________________________________________________\n",
      "dense_5 (Dense)              (None, 4)                 132       \n",
      "=================================================================\n",
      "Total params: 111,790\n",
      "Trainable params: 111,790\n",
      "Non-trainable params: 0\n",
      "_________________________________________________________________\n"
     ]
    }
   ],
   "source": [
    "model_emb = models.Sequential()\n",
    "\n",
    "model_emb.add(layers.Embedding(max_words+1,\n",
    "                               embedding_size, input_length=max_len))\n",
    "model_emb.add(layers.Flatten())\n",
    "model_emb.add(layers.Dense(32, activation='relu'))\n",
    "model_emb.add(layers.Dropout(0.75))\n",
    "model_emb.add(layers.Dense(32, activation='relu'))\n",
    "model_emb.add(layers.Dropout(0.75))\n",
    "model_emb.add(layers.Dense(4, activation='softmax'))\n",
    "\n",
    "model_emb.summary()\n",
    "\n",
    "model_emb.compile(\n",
    "    optimizer='adam',\n",
    "    loss='categorical_crossentropy',\n",
    "    metrics=metrics\n",
    ")"
   ]
  },
  {
   "cell_type": "code",
   "execution_count": 25,
   "metadata": {},
   "outputs": [
    {
     "name": "stdout",
     "output_type": "stream",
     "text": [
      "Epoch 1/10\n",
      "160/160 [==============================] - 1s 3ms/step - loss: 1.1940 - accuracy: 0.4867 - precision: 0.5571 - recall: 0.1322 - val_loss: 0.9856 - val_accuracy: 0.5962 - val_precision: 0.6287 - val_recall: 0.2859\n",
      "Epoch 2/10\n",
      "160/160 [==============================] - 0s 2ms/step - loss: 1.0349 - accuracy: 0.5372 - precision: 0.5729 - recall: 0.2717 - val_loss: 0.9162 - val_accuracy: 0.5962 - val_precision: 0.6035 - val_recall: 0.5907\n",
      "Epoch 3/10\n",
      "160/160 [==============================] - 0s 2ms/step - loss: 0.9755 - accuracy: 0.5683 - precision: 0.6054 - recall: 0.3640 - val_loss: 0.8913 - val_accuracy: 0.5962 - val_precision: 0.5987 - val_recall: 0.5931\n",
      "Epoch 4/10\n",
      "160/160 [==============================] - 0s 2ms/step - loss: 0.9331 - accuracy: 0.5824 - precision: 0.6270 - recall: 0.4319 - val_loss: 0.8692 - val_accuracy: 0.5962 - val_precision: 0.6075 - val_recall: 0.5860\n",
      "Epoch 5/10\n",
      "160/160 [==============================] - 0s 2ms/step - loss: 0.8862 - accuracy: 0.5877 - precision: 0.6537 - recall: 0.4628 - val_loss: 0.8494 - val_accuracy: 0.5962 - val_precision: 0.6245 - val_recall: 0.5695\n",
      "Epoch 6/10\n",
      "160/160 [==============================] - 0s 2ms/step - loss: 0.8215 - accuracy: 0.6048 - precision: 0.7224 - recall: 0.4917 - val_loss: 0.8513 - val_accuracy: 0.6064 - val_precision: 0.6488 - val_recall: 0.5240\n",
      "Epoch 7/10\n",
      "160/160 [==============================] - 0s 2ms/step - loss: 0.7324 - accuracy: 0.6775 - precision: 0.8018 - recall: 0.5372 - val_loss: 0.8907 - val_accuracy: 0.6167 - val_precision: 0.6670 - val_recall: 0.4705\n",
      "Epoch 8/10\n",
      "160/160 [==============================] - 0s 2ms/step - loss: 0.6425 - accuracy: 0.7631 - precision: 0.8336 - recall: 0.6119 - val_loss: 0.9480 - val_accuracy: 0.6104 - val_precision: 0.6430 - val_recall: 0.5334\n",
      "Epoch 9/10\n",
      "160/160 [==============================] - 0s 2ms/step - loss: 0.5626 - accuracy: 0.8081 - precision: 0.8560 - recall: 0.6959 - val_loss: 1.0874 - val_accuracy: 0.6135 - val_precision: 0.6224 - val_recall: 0.5892\n",
      "Epoch 10/10\n",
      "160/160 [==============================] - 0s 2ms/step - loss: 0.5357 - accuracy: 0.8287 - precision: 0.8600 - recall: 0.7384 - val_loss: 1.1241 - val_accuracy: 0.6025 - val_precision: 0.6090 - val_recall: 0.5837\n"
     ]
    }
   ],
   "source": [
    "history_emb = model_emb.fit(\n",
    "    x_train, y_train,\n",
    "    epochs=epochs,\n",
    "    batch_size=batch_size,\n",
    "    validation_data=(x_val, y_val)\n",
    ")"
   ]
  },
  {
   "cell_type": "code",
   "execution_count": 26,
   "metadata": {},
   "outputs": [
    {
     "data": {
      "image/png": "[encoded data removed]",
      "text/plain": [
       "<Figure size 432x288 with 1 Axes>"
      ]
     },
     "metadata": {
      "needs_background": "light"
     },
     "output_type": "display_data"
    },
    {
     "data": {
      "image/png": "[encoded data removed]",
      "text/plain": [
       "<Figure size 432x288 with 1 Axes>"
      ]
     },
     "metadata": {
      "needs_background": "light"
     },
     "output_type": "display_data"
    }
   ],
   "source": [
    "loss_emb = history_emb.history['loss']\n",
    "val_loss_emb = history_emb.history['val_loss']\n",
    "acc_emb = history_emb.history['accuracy']\n",
    "val_acc_emb = history_emb.history['val_accuracy']\n",
    "\n",
    "\n",
    "epochs_graph = range(1, len(acc_emb) + 1)\n",
    "\n",
    "plt.plot(epochs_graph, loss_emb, 'bo', label='Training loss')\n",
    "plt.plot(epochs_graph, val_loss_emb, 'b', label='Validation loss')\n",
    "plt.title('Training and validation loss')\n",
    "plt.legend()\n",
    "\n",
    "plt.figure()\n",
    "\n",
    "plt.plot(epochs_graph, acc_emb, 'bo', label='Training acc')\n",
    "plt.plot(epochs_graph, val_acc_emb, 'b', label='Validation acc')\n",
    "plt.title('Training and validation accuracy')\n",
    "plt.legend()\n",
    "\n",
    "plt.show()"
   ]
  },
  {
   "cell_type": "markdown",
   "metadata": {},
   "source": [
    "# Fully Conneceted NN & Pre-Trained Embeddings Layer"
   ]
  },
  {
   "cell_type": "code",
   "execution_count": 27,
   "metadata": {},
   "outputs": [],
   "source": [
    "glove_dir = './glove.6B'"
   ]
  },
  {
   "cell_type": "code",
   "execution_count": 28,
   "metadata": {},
   "outputs": [
    {
     "name": "stdout",
     "output_type": "stream",
     "text": [
      "Found 400000 word vectors.\n"
     ]
    }
   ],
   "source": [
    "embeddings_index = {}\n",
    "\n",
    "f = open(os.path.join(glove_dir, 'glove.6B.100d.txt'))\n",
    "for line in f:\n",
    "    values = line.split()\n",
    "    word = values[0]\n",
    "    coefs = np.asarray(values[1:], dtype='float32')\n",
    "    embeddings_index[word] = coefs\n",
    "f.close()\n",
    "\n",
    "print('Found %s word vectors.' % len(embeddings_index))"
   ]
  },
  {
   "cell_type": "code",
   "execution_count": 29,
   "metadata": {},
   "outputs": [
    {
     "name": "stdout",
     "output_type": "stream",
     "text": [
      "(10001, 100)\n"
     ]
    }
   ],
   "source": [
    "embedding_matrix = np.zeros((max_words+1, embedding_dim))\n",
    "\n",
    "for word, i in word_index.items():\n",
    "    if i < max_words:\n",
    "        embedding_vector = embeddings_index.get(word)\n",
    "        if embedding_vector is not None:\n",
    "            embedding_matrix[i] = embedding_vector\n",
    "print(embedding_matrix.shape)"
   ]
  },
  {
   "cell_type": "code",
   "execution_count": 30,
   "metadata": {},
   "outputs": [
    {
     "name": "stdout",
     "output_type": "stream",
     "text": [
      "Model: \"sequential_2\"\n",
      "_________________________________________________________________\n",
      "Layer (type)                 Output Shape              Param #   \n",
      "=================================================================\n",
      "embedding_1 (Embedding)      (None, 33, 100)           1000100   \n",
      "_________________________________________________________________\n",
      "flatten_1 (Flatten)          (None, 3300)              0         \n",
      "_________________________________________________________________\n",
      "dense_6 (Dense)              (None, 16)                52816     \n",
      "_________________________________________________________________\n",
      "dropout_4 (Dropout)          (None, 16)                0         \n",
      "_________________________________________________________________\n",
      "dense_7 (Dense)              (None, 16)                272       \n",
      "_________________________________________________________________\n",
      "dropout_5 (Dropout)          (None, 16)                0         \n",
      "_________________________________________________________________\n",
      "dense_8 (Dense)              (None, 4)                 68        \n",
      "=================================================================\n",
      "Total params: 1,053,256\n",
      "Trainable params: 53,156\n",
      "Non-trainable params: 1,000,100\n",
      "_________________________________________________________________\n"
     ]
    }
   ],
   "source": [
    "model_transf = models.Sequential()\n",
    "\n",
    "model_transf.add(layers.Embedding(max_words+1,\n",
    "                                  embedding_dim, input_length=max_len))\n",
    "\n",
    "model_transf.add(layers.Flatten())\n",
    "model_transf.add(layers.Dense(16, activation='relu'))\n",
    "model_transf.add(layers.Dropout(0.75))\n",
    "model_transf.add(layers.Dense(16, activation='relu'))\n",
    "model_transf.add(layers.Dropout(0.75))\n",
    "model_transf.add(layers.Dense(4, activation='softmax'))\n",
    "\n",
    "model_transf.layers[0].set_weights([embedding_matrix])  # !!!! important !!!!\n",
    "model_transf.layers[0].trainable = False\n",
    "\n",
    "\n",
    "# needed in order to save the weights: https://stackoverflow.com/questions/55908188/this-model-has-not-yet-been-built-error-on-model-summary\n",
    "model_transf.build((max_len,))\n",
    "\n",
    "model_transf.summary()\n",
    "\n",
    "\n",
    "model_transf.compile(\n",
    "    optimizer='adam',\n",
    "    loss='categorical_crossentropy',\n",
    "    metrics=metrics\n",
    ")"
   ]
  },
  {
   "cell_type": "code",
   "execution_count": 31,
   "metadata": {},
   "outputs": [
    {
     "name": "stdout",
     "output_type": "stream",
     "text": [
      "Epoch 1/10\n",
      "160/160 [==============================] - 1s 4ms/step - loss: 1.2979 - accuracy: 0.5536 - precision: 0.5881 - recall: 0.1196 - val_loss: 1.1643 - val_accuracy: 0.5962 - val_precision: 0.0000e+00 - val_recall: 0.0000e+00\n",
      "Epoch 2/10\n",
      "160/160 [==============================] - 0s 2ms/step - loss: 1.1127 - accuracy: 0.5791 - precision: 0.5892 - recall: 0.0947 - val_loss: 1.0051 - val_accuracy: 0.5962 - val_precision: 1.0000 - val_recall: 7.8555e-04\n",
      "Epoch 3/10\n",
      "160/160 [==============================] - 0s 2ms/step - loss: 1.0386 - accuracy: 0.5899 - precision: 0.5834 - recall: 0.2123 - val_loss: 0.9439 - val_accuracy: 0.5962 - val_precision: 0.5959 - val_recall: 0.5954\n",
      "Epoch 4/10\n",
      "160/160 [==============================] - 0s 2ms/step - loss: 1.0122 - accuracy: 0.5903 - precision: 0.5959 - recall: 0.3062 - val_loss: 0.9235 - val_accuracy: 0.5962 - val_precision: 0.5962 - val_recall: 0.5962\n",
      "Epoch 5/10\n",
      "160/160 [==============================] - 0s 2ms/step - loss: 0.9951 - accuracy: 0.5907 - precision: 0.5865 - recall: 0.3595 - val_loss: 0.9133 - val_accuracy: 0.5962 - val_precision: 0.5962 - val_recall: 0.5962\n",
      "Epoch 6/10\n",
      "160/160 [==============================] - 0s 2ms/step - loss: 0.9849 - accuracy: 0.5897 - precision: 0.5937 - recall: 0.4231 - val_loss: 0.9060 - val_accuracy: 0.5962 - val_precision: 0.5962 - val_recall: 0.5962\n",
      "Epoch 7/10\n",
      "160/160 [==============================] - 0s 2ms/step - loss: 0.9796 - accuracy: 0.5899 - precision: 0.5909 - recall: 0.4516 - val_loss: 0.9045 - val_accuracy: 0.5962 - val_precision: 0.5962 - val_recall: 0.5962\n",
      "Epoch 8/10\n",
      "160/160 [==============================] - 0s 2ms/step - loss: 0.9681 - accuracy: 0.5905 - precision: 0.5875 - recall: 0.4502 - val_loss: 0.9015 - val_accuracy: 0.5962 - val_precision: 0.5962 - val_recall: 0.5962\n",
      "Epoch 9/10\n",
      "160/160 [==============================] - 0s 2ms/step - loss: 0.9607 - accuracy: 0.5903 - precision: 0.5929 - recall: 0.4732 - val_loss: 0.8994 - val_accuracy: 0.5962 - val_precision: 0.5962 - val_recall: 0.5962\n",
      "Epoch 10/10\n",
      "160/160 [==============================] - 0s 2ms/step - loss: 0.9565 - accuracy: 0.5903 - precision: 0.5925 - recall: 0.4858 - val_loss: 0.8984 - val_accuracy: 0.5962 - val_precision: 0.5962 - val_recall: 0.5962\n"
     ]
    }
   ],
   "source": [
    "history_transf = model_transf.fit(\n",
    "    x_train, y_train,\n",
    "    epochs=epochs,\n",
    "    batch_size=batch_size,\n",
    "    validation_data=(x_val, y_val)\n",
    ")\n",
    "\n",
    "model_transf.save_weights(f'{model_path}_transf')"
   ]
  },
  {
   "cell_type": "code",
   "execution_count": 32,
   "metadata": {},
   "outputs": [
    {
     "data": {
      "image/png": "[encoded data removed]",
      "text/plain": [
       "<Figure size 432x288 with 1 Axes>"
      ]
     },
     "metadata": {
      "needs_background": "light"
     },
     "output_type": "display_data"
    },
    {
     "data": {
      "image/png": "[encoded data removed]",
      "text/plain": [
       "<Figure size 432x288 with 1 Axes>"
      ]
     },
     "metadata": {
      "needs_background": "light"
     },
     "output_type": "display_data"
    }
   ],
   "source": [
    "loss_transf = history_transf.history['loss']\n",
    "val_loss_transf = history_transf.history['val_loss']\n",
    "acc_transf = history_transf.history['accuracy']\n",
    "val_acc_transf = history_transf.history['val_accuracy']\n",
    "\n",
    "\n",
    "epochs_graph = range(1, len(acc_transf) + 1)\n",
    "\n",
    "plt.plot(epochs_graph, loss_transf, 'bo', label='Training loss')\n",
    "plt.plot(epochs_graph, val_loss_transf, 'b', label='Validation loss')\n",
    "plt.title('Training and validation loss')\n",
    "plt.legend()\n",
    "\n",
    "plt.figure()\n",
    "\n",
    "plt.plot(epochs_graph, acc_transf, 'bo', label='Training acc')\n",
    "plt.plot(epochs_graph, val_acc_transf, 'b', label='Validation acc')\n",
    "plt.title('Training and validation accuracy')\n",
    "plt.legend()\n",
    "\n",
    "plt.show()"
   ]
  },
  {
   "cell_type": "markdown",
   "metadata": {},
   "source": [
    "# LSTM"
   ]
  },
  {
   "cell_type": "code",
   "execution_count": 33,
   "metadata": {},
   "outputs": [
    {
     "name": "stdout",
     "output_type": "stream",
     "text": [
      "Model: \"sequential_3\"\n",
      "_________________________________________________________________\n",
      "Layer (type)                 Output Shape              Param #   \n",
      "=================================================================\n",
      "embedding_2 (Embedding)      (None, 33, 100)           1000100   \n",
      "_________________________________________________________________\n",
      "lstm (LSTM)                  (None, 32)                17024     \n",
      "_________________________________________________________________\n",
      "dense_9 (Dense)              (None, 16)                528       \n",
      "_________________________________________________________________\n",
      "dropout_6 (Dropout)          (None, 16)                0         \n",
      "_________________________________________________________________\n",
      "dense_10 (Dense)             (None, 16)                272       \n",
      "_________________________________________________________________\n",
      "dropout_7 (Dropout)          (None, 16)                0         \n",
      "_________________________________________________________________\n",
      "dense_11 (Dense)             (None, 4)                 68        \n",
      "=================================================================\n",
      "Total params: 1,017,992\n",
      "Trainable params: 17,892\n",
      "Non-trainable params: 1,000,100\n",
      "_________________________________________________________________\n"
     ]
    }
   ],
   "source": [
    "model_lstm = models.Sequential()\n",
    "\n",
    "model_lstm.add(layers.Embedding(max_words+1,\n",
    "                                embedding_dim, input_length=max_len))\n",
    "\n",
    "# model_lstm.add(layers.Flatten())\n",
    "# Option 1\n",
    "model_lstm.add(layers.LSTM(32))\n",
    "\n",
    "# Option 2\n",
    "# model.add(layers.LSTM(32, return_sequences=True)) # stacking of LSTMs\n",
    "# model.add(layers.LSTM(32)) # the size of the hidden state, randomly defined\n",
    "model_lstm.add(layers.Dense(16, activation='relu'))\n",
    "model_lstm.add(layers.Dropout(0.5))\n",
    "model_lstm.add(layers.Dense(16, activation='relu'))\n",
    "model_lstm.add(layers.Dropout(0.5))\n",
    "model_lstm.add(layers.Dense(4, activation='softmax'))\n",
    "\n",
    "model_lstm.layers[0].set_weights([embedding_matrix])  # !!!! important !!!!\n",
    "model_lstm.layers[0].trainable = False\n",
    "\n",
    "model_lstm.summary()\n",
    "\n",
    "model_lstm.compile(\n",
    "    optimizer='adam',\n",
    "    loss='categorical_crossentropy',\n",
    "    metrics=metrics\n",
    ")"
   ]
  },
  {
   "cell_type": "code",
   "execution_count": 34,
   "metadata": {},
   "outputs": [
    {
     "name": "stdout",
     "output_type": "stream",
     "text": [
      "Epoch 1/10\n",
      "160/160 [==============================] - 2s 14ms/step - loss: 1.1783 - accuracy: 0.4873 - precision: 0.5888 - recall: 0.2277 - val_loss: 0.9582 - val_accuracy: 0.5962 - val_precision: 0.6722 - val_recall: 0.2852\n",
      "Epoch 2/10\n",
      "160/160 [==============================] - 2s 12ms/step - loss: 1.0259 - accuracy: 0.5620 - precision: 0.6118 - recall: 0.2736 - val_loss: 0.8958 - val_accuracy: 0.5962 - val_precision: 0.6519 - val_recall: 0.4501\n",
      "Epoch 3/10\n",
      "160/160 [==============================] - 2s 11ms/step - loss: 0.9760 - accuracy: 0.5814 - precision: 0.6340 - recall: 0.3416 - val_loss: 0.8782 - val_accuracy: 0.5962 - val_precision: 0.6640 - val_recall: 0.4595\n",
      "Epoch 4/10\n",
      "160/160 [==============================] - 2s 10ms/step - loss: 0.9530 - accuracy: 0.5914 - precision: 0.6550 - recall: 0.3789 - val_loss: 0.8567 - val_accuracy: 0.5962 - val_precision: 0.6438 - val_recall: 0.5169\n",
      "Epoch 5/10\n",
      "160/160 [==============================] - 2s 10ms/step - loss: 0.9175 - accuracy: 0.5883 - precision: 0.6441 - recall: 0.4188 - val_loss: 0.8453 - val_accuracy: 0.5962 - val_precision: 0.6373 - val_recall: 0.5122\n",
      "Epoch 6/10\n",
      "160/160 [==============================] - 2s 10ms/step - loss: 0.9303 - accuracy: 0.5908 - precision: 0.6400 - recall: 0.3830 - val_loss: 0.8899 - val_accuracy: 0.5962 - val_precision: 0.6582 - val_recall: 0.4297\n",
      "Epoch 7/10\n",
      "160/160 [==============================] - 2s 10ms/step - loss: 0.9049 - accuracy: 0.5926 - precision: 0.6383 - recall: 0.4492 - val_loss: 0.8360 - val_accuracy: 0.5962 - val_precision: 0.6236 - val_recall: 0.5389\n",
      "Epoch 8/10\n",
      "160/160 [==============================] - 2s 10ms/step - loss: 0.9043 - accuracy: 0.5948 - precision: 0.6354 - recall: 0.4461 - val_loss: 0.8374 - val_accuracy: 0.5962 - val_precision: 0.6510 - val_recall: 0.5216\n",
      "Epoch 9/10\n",
      "160/160 [==============================] - 2s 10ms/step - loss: 0.8952 - accuracy: 0.5916 - precision: 0.6413 - recall: 0.4312 - val_loss: 0.8371 - val_accuracy: 0.5962 - val_precision: 0.6798 - val_recall: 0.4753\n",
      "Epoch 10/10\n",
      "160/160 [==============================] - 2s 10ms/step - loss: 0.8807 - accuracy: 0.5977 - precision: 0.6701 - recall: 0.4596 - val_loss: 0.8526 - val_accuracy: 0.5970 - val_precision: 0.7457 - val_recall: 0.3778\n"
     ]
    }
   ],
   "source": [
    "history_lstm = model_lstm.fit(\n",
    "    x_train, y_train,\n",
    "    epochs=epochs,\n",
    "    batch_size=batch_size,\n",
    "    validation_data=(x_val, y_val)\n",
    ")"
   ]
  },
  {
   "cell_type": "code",
   "execution_count": 35,
   "metadata": {},
   "outputs": [
    {
     "data": {
      "image/png": "[encoded data removed]",
      "text/plain": [
       "<Figure size 432x288 with 1 Axes>"
      ]
     },
     "metadata": {
      "needs_background": "light"
     },
     "output_type": "display_data"
    },
    {
     "data": {
      "image/png": "[encoded data removed]",
      "text/plain": [
       "<Figure size 432x288 with 1 Axes>"
      ]
     },
     "metadata": {
      "needs_background": "light"
     },
     "output_type": "display_data"
    }
   ],
   "source": [
    "loss_lstm = history_lstm.history['loss']\n",
    "val_loss_lstm = history_lstm.history['val_loss']\n",
    "acc_lstm = history_lstm.history['accuracy']\n",
    "val_acc_lstm = history_lstm.history['val_accuracy']\n",
    "\n",
    "\n",
    "epochs_graph = range(1, len(acc_lstm) + 1)\n",
    "\n",
    "plt.plot(epochs_graph, loss_lstm, 'bo', label='Training loss')\n",
    "plt.plot(epochs_graph, val_loss_lstm, 'b', label='Validation loss')\n",
    "plt.title('Training and validation loss')\n",
    "plt.legend()\n",
    "\n",
    "plt.figure()\n",
    "\n",
    "plt.plot(epochs_graph, acc_lstm, 'bo', label='Training acc')\n",
    "plt.plot(epochs_graph, val_acc_lstm, 'b', label='Validation acc')\n",
    "plt.title('Training and validation accuracy')\n",
    "plt.legend()\n",
    "\n",
    "plt.show()"
   ]
  },
  {
   "cell_type": "markdown",
   "metadata": {},
   "source": [
    "# 1D Convolutional NN"
   ]
  },
  {
   "cell_type": "code",
   "execution_count": 36,
   "metadata": {},
   "outputs": [
    {
     "name": "stdout",
     "output_type": "stream",
     "text": [
      "Model: \"sequential_4\"\n",
      "_________________________________________________________________\n",
      "Layer (type)                 Output Shape              Param #   \n",
      "=================================================================\n",
      "embedding_3 (Embedding)      (None, 33, 100)           1000100   \n",
      "_________________________________________________________________\n",
      "conv1d (Conv1D)              (None, 29, 32)            16032     \n",
      "_________________________________________________________________\n",
      "max_pooling1d (MaxPooling1D) (None, 9, 32)             0         \n",
      "_________________________________________________________________\n",
      "conv1d_1 (Conv1D)            (None, 5, 32)             5152      \n",
      "_________________________________________________________________\n",
      "global_max_pooling1d (Global (None, 32)                0         \n",
      "_________________________________________________________________\n",
      "dense_12 (Dense)             (None, 4)                 132       \n",
      "=================================================================\n",
      "Total params: 1,021,416\n",
      "Trainable params: 21,316\n",
      "Non-trainable params: 1,000,100\n",
      "_________________________________________________________________\n"
     ]
    }
   ],
   "source": [
    "model_conv1d = models.Sequential()\n",
    "\n",
    "model_conv1d.add(layers.Embedding(max_words+1,\n",
    "                                  embedding_dim, input_length=max_len))\n",
    "\n",
    "model_conv1d.add(layers.Conv1D(\n",
    "    32,  # features to be extracted\n",
    "    5,  # convolutional window size\n",
    "    activation='relu',\n",
    "))\n",
    "model_conv1d.add(layers.MaxPooling1D(3))\n",
    "model_conv1d.add(layers.Conv1D(32, 5, activation='relu'))\n",
    "model_conv1d.add(layers.GlobalMaxPooling1D())\n",
    "model_conv1d.add(layers.Dense(4, activation='softmax'))\n",
    "\n",
    "model_conv1d.layers[0].set_weights([embedding_matrix])  # !!!! important !!!!\n",
    "model_conv1d.layers[0].trainable = False\n",
    "\n",
    "model_conv1d.summary()\n",
    "\n",
    "model_conv1d.compile(\n",
    "    optimizer='adam',\n",
    "    loss='categorical_crossentropy',\n",
    "    metrics=metrics\n",
    ")"
   ]
  },
  {
   "cell_type": "code",
   "execution_count": 37,
   "metadata": {},
   "outputs": [
    {
     "name": "stdout",
     "output_type": "stream",
     "text": [
      "Epoch 1/10\n",
      "160/160 [==============================] - 1s 5ms/step - loss: 0.9549 - accuracy: 0.5809 - precision: 0.6204 - recall: 0.4596 - val_loss: 0.8644 - val_accuracy: 0.6033 - val_precision: 0.6187 - val_recall: 0.5342\n",
      "Epoch 2/10\n",
      "160/160 [==============================] - 1s 3ms/step - loss: 0.8518 - accuracy: 0.6335 - precision: 0.6703 - recall: 0.5435 - val_loss: 0.8384 - val_accuracy: 0.6143 - val_precision: 0.6377 - val_recall: 0.5585\n",
      "Epoch 3/10\n",
      "160/160 [==============================] - 1s 3ms/step - loss: 0.7893 - accuracy: 0.6753 - precision: 0.7094 - recall: 0.5962 - val_loss: 0.8290 - val_accuracy: 0.6002 - val_precision: 0.6359 - val_recall: 0.5310\n",
      "Epoch 4/10\n",
      "160/160 [==============================] - 1s 4ms/step - loss: 0.7212 - accuracy: 0.7046 - precision: 0.7510 - recall: 0.6421 - val_loss: 0.8317 - val_accuracy: 0.6143 - val_precision: 0.6609 - val_recall: 0.5130\n",
      "Epoch 5/10\n",
      "160/160 [==============================] - 1s 3ms/step - loss: 0.6490 - accuracy: 0.7462 - precision: 0.7884 - recall: 0.6918 - val_loss: 0.8328 - val_accuracy: 0.6489 - val_precision: 0.6646 - val_recall: 0.5962\n",
      "Epoch 6/10\n",
      "160/160 [==============================] - 1s 3ms/step - loss: 0.5751 - accuracy: 0.7839 - precision: 0.8148 - recall: 0.7327 - val_loss: 0.8555 - val_accuracy: 0.6379 - val_precision: 0.6664 - val_recall: 0.5679\n",
      "Epoch 7/10\n",
      "160/160 [==============================] - 0s 3ms/step - loss: 0.5073 - accuracy: 0.8173 - precision: 0.8453 - recall: 0.7747 - val_loss: 0.8949 - val_accuracy: 0.6174 - val_precision: 0.6303 - val_recall: 0.5892\n",
      "Epoch 8/10\n",
      "160/160 [==============================] - 0s 3ms/step - loss: 0.4486 - accuracy: 0.8419 - precision: 0.8684 - recall: 0.8049 - val_loss: 0.9287 - val_accuracy: 0.6379 - val_precision: 0.6452 - val_recall: 0.6127\n",
      "Epoch 9/10\n",
      "160/160 [==============================] - 1s 4ms/step - loss: 0.3975 - accuracy: 0.8627 - precision: 0.8910 - recall: 0.8330 - val_loss: 1.0707 - val_accuracy: 0.6371 - val_precision: 0.6455 - val_recall: 0.6080\n",
      "Epoch 10/10\n",
      "160/160 [==============================] - 1s 4ms/step - loss: 0.3487 - accuracy: 0.8804 - precision: 0.9037 - recall: 0.8588 - val_loss: 1.0077 - val_accuracy: 0.6167 - val_precision: 0.6304 - val_recall: 0.5923\n"
     ]
    }
   ],
   "source": [
    "history_conv1d = model_conv1d.fit(\n",
    "    x_train, y_train,\n",
    "    epochs=epochs,\n",
    "    batch_size=batch_size,\n",
    "    validation_data=(x_val, y_val)\n",
    ")"
   ]
  },
  {
   "cell_type": "code",
   "execution_count": 38,
   "metadata": {},
   "outputs": [
    {
     "data": {
      "image/png": "[encoded data removed]",
      "text/plain": [
       "<Figure size 432x288 with 1 Axes>"
      ]
     },
     "metadata": {
      "needs_background": "light"
     },
     "output_type": "display_data"
    },
    {
     "data": {
      "image/png": "[encoded data removed]",
      "text/plain": [
       "<Figure size 432x288 with 1 Axes>"
      ]
     },
     "metadata": {
      "needs_background": "light"
     },
     "output_type": "display_data"
    }
   ],
   "source": [
    "loss_conv1d = history_conv1d.history['loss']\n",
    "val_loss_conv1d = history_conv1d.history['val_loss']\n",
    "acc_conv1d = history_conv1d.history['accuracy']\n",
    "val_acc_conv1d = history_conv1d.history['val_accuracy']\n",
    "\n",
    "\n",
    "epochs_graph = range(1, len(acc_conv1d) + 1)\n",
    "\n",
    "plt.plot(epochs_graph, loss_conv1d, 'bo', label='Training loss')\n",
    "plt.plot(epochs_graph, val_loss_conv1d, 'b', label='Validation loss')\n",
    "plt.title('Training and validation loss')\n",
    "plt.legend()\n",
    "\n",
    "plt.figure()\n",
    "\n",
    "plt.plot(epochs_graph, acc_conv1d, 'bo', label='Training acc')\n",
    "plt.plot(epochs_graph, val_acc_conv1d, 'b', label='Validation acc')\n",
    "plt.title('Training and validation accuracy')\n",
    "plt.legend()\n",
    "\n",
    "plt.show()"
   ]
  },
  {
   "cell_type": "code",
   "execution_count": null,
   "metadata": {},
   "outputs": [],
   "source": []
  },
  {
   "cell_type": "code",
   "execution_count": null,
   "metadata": {},
   "outputs": [],
   "source": []
  }
 ],
 "metadata": {
  "kernelspec": {
   "display_name": "nlp-sent",
   "language": "python",
   "name": "nlp-sent"
  },
  "language_info": {
   "codemirror_mode": {
    "name": "ipython",
    "version": 3
   },
   "file_extension": ".py",
   "mimetype": "text/x-python",
   "name": "python",
   "nbconvert_exporter": "python",
   "pygments_lexer": "ipython3",
   "version": "3.6.12"
  }
 },
 "nbformat": 4,
 "nbformat_minor": 4
}
