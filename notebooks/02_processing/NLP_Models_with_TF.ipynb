{
 "cells": [
  {
   "cell_type": "markdown",
   "metadata": {},
   "source": [
    "The goal of this notebooks is to test the performance of several models. \n",
    "I will use bag-of-words as a baseline. \n",
    "Then I will use Keras' Embedding Layer, GloVe as a pre-trained model, an LSTM and a 1D ConvNet.\n",
    "\n",
    "Performance metrics are accuracy, precision and recall."
   ]
  },
  {
   "cell_type": "code",
   "execution_count": 67,
   "metadata": {},
   "outputs": [],
   "source": [
    "import keras\n",
    "import matplotlib.pyplot as plt\n",
    "import numpy as np\n",
    "import os\n",
    "import pandas as pd\n",
    "import pickle\n",
    "import sys\n",
    "import tensorflow as tf\n",
    "\n",
    "from collections import Counter\n",
    "from imblearn.over_sampling import SMOTE\n",
    "from keras import layers\n",
    "from keras import models\n",
    "from keras import regularizers\n",
    "from keras import utils\n",
    "from keras.utils import to_categorical\n",
    "from tensorflow import keras\n",
    "\n",
    "%matplotlib inline"
   ]
  },
  {
   "cell_type": "markdown",
   "metadata": {},
   "source": [
    "# Preparation Steps"
   ]
  },
  {
   "cell_type": "code",
   "execution_count": 2,
   "metadata": {},
   "outputs": [],
   "source": [
    "# folders\n",
    "home = os.getenv(\"HOME\")\n",
    "nlp_repo = os.path.join(home, 'git/nlp-product-sentiment-classification')\n",
    "\n",
    "# data\n",
    "train_csv_path = os.path.join(nlp_repo, 'data/03_processed/Train.csv')\n",
    "train_descr = pd.read_csv(train_csv_path)\n",
    "\n",
    "test_csv_path = os.path.join(nlp_repo, 'data/03_processed/Test.csv')\n",
    "test_descr = pd.read_csv(test_csv_path)\n",
    "\n",
    "# encoded tokens\n",
    "preprocessed_corpus_path_TF = os.path.join(\n",
    "    nlp_repo, 'data/03_processed/product_descr_preprocessed_TF.p')\n",
    "\n",
    "preprocessed_corpus_path_TF_oh = os.path.join(\n",
    "    nlp_repo, 'data/03_processed/product_descr_preprocessed_TF_oh.p')"
   ]
  },
  {
   "cell_type": "code",
   "execution_count": 3,
   "metadata": {},
   "outputs": [],
   "source": [
    "# read-in the list of tokens and the vocabulary\n",
    "sequences, word_index = pd.read_pickle(preprocessed_corpus_path_TF)"
   ]
  },
  {
   "cell_type": "markdown",
   "metadata": {},
   "source": [
    "# Parameters"
   ]
  },
  {
   "cell_type": "code",
   "execution_count": 4,
   "metadata": {},
   "outputs": [],
   "source": [
    "# Embedding Tokens\n",
    "\n",
    "# max_words = vocabulary size = our samples - number of most frequent words.\n",
    "# I set it to 10.000, although in this case there are less.\n",
    "# I do this to parametise the code.\n",
    "# Aleternatively, I can set it to the length of our vocabulary = word_index\n",
    "max_words = 10000\n",
    "\n",
    "# embedding_size = embedding dimensionality\n",
    "embedding_size = 10\n",
    "\n",
    "# max_len = sequence length - the text is cut off after this number of words\n",
    "# in this case I define it as the maximum sequence length in our list of tokenised sequences\n",
    "max_len = np.max([len(x) for x in sequences])\n",
    "\n",
    "\n",
    "# Training parameters\n",
    "model_path = \"product_descr_TF.h5\"\n",
    "epochs = 15\n",
    "batch_size = 28\n",
    "\n",
    "# For GloVe word-embeddings matrix (pre-trained model)\n",
    "embedding_dim = 100"
   ]
  },
  {
   "cell_type": "code",
   "execution_count": 5,
   "metadata": {},
   "outputs": [],
   "source": [
    "data = tf.keras.preprocessing.sequence.pad_sequences(\n",
    "    sequences, maxlen=max_len)"
   ]
  },
  {
   "cell_type": "code",
   "execution_count": 6,
   "metadata": {},
   "outputs": [],
   "source": [
    "labels = train_descr.loc[:, 'Sentiment'].to_list()"
   ]
  },
  {
   "cell_type": "code",
   "execution_count": 7,
   "metadata": {},
   "outputs": [
    {
     "data": {
      "text/plain": [
       "(6364, 27)"
      ]
     },
     "execution_count": 7,
     "metadata": {},
     "output_type": "execute_result"
    }
   ],
   "source": [
    "data.shape"
   ]
  },
  {
   "cell_type": "markdown",
   "metadata": {},
   "source": [
    "### Oversampling the Minortiy Classes"
   ]
  },
  {
   "cell_type": "code",
   "execution_count": 8,
   "metadata": {},
   "outputs": [],
   "source": [
    "def oversample_smote(data, labels):\n",
    "    oversample = SMOTE()\n",
    "    data, labels =  oversample.fit_resample(data, labels)\n",
    "    \n",
    "    counter = Counter(labels)\n",
    "    for k,v in counter.items():\n",
    "        per = v / len(labels) * 100\n",
    "        print('Class=%d, n=%d (%.3f%%)' % (k, v, per))\n",
    "    # plot the distribution\n",
    "    plt.bar(counter.keys(), counter.values())\n",
    "    plt.show()\n",
    "    \n",
    "    return data, labels"
   ]
  },
  {
   "cell_type": "code",
   "execution_count": 9,
   "metadata": {},
   "outputs": [
    {
     "name": "stdout",
     "output_type": "stream",
     "text": [
      "Class=2, n=3765 (25.000%)\n",
      "Class=1, n=3765 (25.000%)\n",
      "Class=3, n=3765 (25.000%)\n",
      "Class=0, n=3765 (25.000%)\n"
     ]
    },
    {
     "data": {
      "image/png": "[encoded data removed]",
      "text/plain": [
       "<Figure size 432x288 with 1 Axes>"
      ]
     },
     "metadata": {
      "needs_background": "light"
     },
     "output_type": "display_data"
    }
   ],
   "source": [
    "data_ovs, labels_ovs = oversample_smote(data, labels)"
   ]
  },
  {
   "cell_type": "code",
   "execution_count": 10,
   "metadata": {},
   "outputs": [],
   "source": [
    "dimensions_labels = len(np.unique(labels_ovs))"
   ]
  },
  {
   "cell_type": "code",
   "execution_count": 11,
   "metadata": {},
   "outputs": [],
   "source": [
    "labels_encoded = tf.one_hot(indices=labels_ovs, depth=dimensions_labels)"
   ]
  },
  {
   "cell_type": "code",
   "execution_count": 12,
   "metadata": {},
   "outputs": [],
   "source": [
    "labels_encoded = np.asarray(labels_encoded)"
   ]
  },
  {
   "cell_type": "code",
   "execution_count": 13,
   "metadata": {},
   "outputs": [
    {
     "name": "stdout",
     "output_type": "stream",
     "text": [
      "Shape of data_ovs tensor: (15060, 27)\n",
      "Shape of label_ovs tensor (15060, 4)\n"
     ]
    }
   ],
   "source": [
    "print('Shape of data_ovs tensor:', data_ovs.shape)\n",
    "print('Shape of label_ovs tensor', labels_encoded.shape)"
   ]
  },
  {
   "cell_type": "code",
   "execution_count": 14,
   "metadata": {},
   "outputs": [],
   "source": [
    "indices = np.arange(data_ovs.shape[0])\n",
    "np.random.shuffle(indices)"
   ]
  },
  {
   "cell_type": "code",
   "execution_count": 15,
   "metadata": {},
   "outputs": [],
   "source": [
    "data_ovs = data_ovs[indices]\n",
    "labels_encoded = labels_encoded[indices]"
   ]
  },
  {
   "cell_type": "code",
   "execution_count": 16,
   "metadata": {},
   "outputs": [],
   "source": [
    "training_samples = int(0.8 * len(data_ovs))"
   ]
  },
  {
   "cell_type": "code",
   "execution_count": 17,
   "metadata": {},
   "outputs": [],
   "source": [
    "x_train = data_ovs[:training_samples]\n",
    "y_train = labels_encoded[:training_samples]\n",
    "\n",
    "x_val = data_ovs[training_samples:]\n",
    "y_val = labels_encoded[training_samples:]"
   ]
  },
  {
   "cell_type": "code",
   "execution_count": 18,
   "metadata": {},
   "outputs": [],
   "source": [
    "def get_key(my_dict, val):\n",
    "    for key, value in my_dict.items():\n",
    "        if val == value:\n",
    "            return key\n",
    "\n",
    "    return \"key doesn't exist\""
   ]
  },
  {
   "cell_type": "code",
   "execution_count": 19,
   "metadata": {},
   "outputs": [
    {
     "data": {
      "text/plain": [
       "'sxsw'"
      ]
     },
     "execution_count": 19,
     "metadata": {},
     "output_type": "execute_result"
    }
   ],
   "source": [
    "get_key(word_index, 2)"
   ]
  },
  {
   "cell_type": "markdown",
   "metadata": {},
   "source": [
    "# Bag-of-Words"
   ]
  },
  {
   "cell_type": "markdown",
   "metadata": {},
   "source": [
    "* Bag-of-words will be used as a baseline model. \n",
    "* Its advantages are that it is fairly easy and quick to build. \n",
    "* The downside is that bag-of-words does not perserve the order of the sentence. As a result the structure of a sentence is lost. \n",
    "* RNNs & 1D ConvNets will be tried later in order to remedy this."
   ]
  },
  {
   "cell_type": "code",
   "execution_count": 20,
   "metadata": {},
   "outputs": [],
   "source": [
    "sequences_oh, word_index_oh = pd.read_pickle(preprocessed_corpus_path_TF_oh)"
   ]
  },
  {
   "cell_type": "code",
   "execution_count": 21,
   "metadata": {},
   "outputs": [
    {
     "data": {
      "text/plain": [
       "(6364, 10000)"
      ]
     },
     "execution_count": 21,
     "metadata": {},
     "output_type": "execute_result"
    }
   ],
   "source": [
    "sequences_oh.shape"
   ]
  },
  {
   "cell_type": "code",
   "execution_count": 22,
   "metadata": {},
   "outputs": [
    {
     "name": "stdout",
     "output_type": "stream",
     "text": [
      "Class=2, n=3765 (25.000%)\n",
      "Class=1, n=3765 (25.000%)\n",
      "Class=3, n=3765 (25.000%)\n",
      "Class=0, n=3765 (25.000%)\n"
     ]
    },
    {
     "data": {
      "image/png": "[encoded data removed]",
      "text/plain": [
       "<Figure size 432x288 with 1 Axes>"
      ]
     },
     "metadata": {
      "needs_background": "light"
     },
     "output_type": "display_data"
    }
   ],
   "source": [
    "sequences_oh, labels_oh = oversample_smote(sequences_oh, labels)"
   ]
  },
  {
   "cell_type": "code",
   "execution_count": 23,
   "metadata": {},
   "outputs": [
    {
     "data": {
      "text/plain": [
       "(15060, 10000)"
      ]
     },
     "execution_count": 23,
     "metadata": {},
     "output_type": "execute_result"
    }
   ],
   "source": [
    "sequences_oh.shape"
   ]
  },
  {
   "cell_type": "code",
   "execution_count": 24,
   "metadata": {},
   "outputs": [],
   "source": [
    "labels_encoded_oh = tf.one_hot(indices=labels_oh, depth=dimensions_labels)"
   ]
  },
  {
   "cell_type": "code",
   "execution_count": 25,
   "metadata": {},
   "outputs": [],
   "source": [
    "data_oh = sequences_oh[indices]"
   ]
  },
  {
   "cell_type": "code",
   "execution_count": 26,
   "metadata": {},
   "outputs": [],
   "source": [
    "training_samples_oh = int(0.8 * len(data_oh))"
   ]
  },
  {
   "cell_type": "code",
   "execution_count": 27,
   "metadata": {},
   "outputs": [],
   "source": [
    "x_train_oh = data_oh[:training_samples_oh]\n",
    "y_train_oh = labels_encoded_oh[:training_samples_oh]\n",
    "\n",
    "x_val_oh = data_oh[training_samples_oh:]\n",
    "y_val_oh = labels_encoded_oh[training_samples_oh:]"
   ]
  },
  {
   "cell_type": "code",
   "execution_count": 28,
   "metadata": {},
   "outputs": [],
   "source": [
    "metrics = [\n",
    "    keras.metrics.CategoricalAccuracy(name='accuracy'),\n",
    "    keras.metrics.Precision(name='precision'),\n",
    "    keras.metrics.Recall(name='recall')]"
   ]
  },
  {
   "cell_type": "markdown",
   "metadata": {},
   "source": [
    "# Fully Connected NN & Bag-of-Words"
   ]
  },
  {
   "cell_type": "code",
   "execution_count": 72,
   "metadata": {},
   "outputs": [
    {
     "name": "stdout",
     "output_type": "stream",
     "text": [
      "Model: \"sequential_9\"\n",
      "_________________________________________________________________\n",
      "Layer (type)                 Output Shape              Param #   \n",
      "=================================================================\n",
      "dense_22 (Dense)             (None, 16)                160016    \n",
      "_________________________________________________________________\n",
      "dense_23 (Dense)             (None, 16)                272       \n",
      "_________________________________________________________________\n",
      "dense_24 (Dense)             (None, 4)                 68        \n",
      "=================================================================\n",
      "Total params: 160,356\n",
      "Trainable params: 160,356\n",
      "Non-trainable params: 0\n",
      "_________________________________________________________________\n"
     ]
    }
   ],
   "source": [
    "model_bow = models.Sequential()\n",
    "\n",
    "model_bow.add(layers.Dense(16, activation='relu',\n",
    "                           input_shape=(max_words, )))\n",
    "#model_bow.add(layers.Dropout(0.5))\n",
    "model_bow.add(layers.Dense(16, activation='relu'))\n",
    "#model_bow.add(layers.Dropout(0.5))\n",
    "model_bow.add(layers.Dense(dimensions_labels, activation='softmax'))\n",
    "\n",
    "model_bow.summary()\n",
    "\n",
    "model_bow.compile(\n",
    "    optimizer='adam',\n",
    "    loss='categorical_crossentropy',\n",
    "    metrics=metrics\n",
    ")"
   ]
  },
  {
   "cell_type": "code",
   "execution_count": 73,
   "metadata": {},
   "outputs": [
    {
     "name": "stdout",
     "output_type": "stream",
     "text": [
      "Epoch 1/15\n",
      "431/431 [==============================] - 1s 3ms/step - loss: 2.2156 - accuracy: 0.2493 - precision: 0.0000e+00 - recall: 0.0000e+00 - val_loss: 1.8629 - val_accuracy: 0.0000e+00 - val_precision: 0.0000e+00 - val_recall: 0.0000e+00\n",
      "Epoch 2/15\n",
      "431/431 [==============================] - 1s 2ms/step - loss: 1.5489 - accuracy: 0.3152 - precision: 0.0000e+00 - recall: 0.0000e+00 - val_loss: 1.8752 - val_accuracy: 0.0000e+00 - val_precision: 0.0000e+00 - val_recall: 0.0000e+00\n",
      "Epoch 3/15\n",
      "431/431 [==============================] - 1s 2ms/step - loss: 1.5486 - accuracy: 0.3143 - precision: 0.0000e+00 - recall: 0.0000e+00 - val_loss: 1.8607 - val_accuracy: 0.0000e+00 - val_precision: 0.0000e+00 - val_recall: 0.0000e+00\n",
      "Epoch 4/15\n",
      "431/431 [==============================] - 1s 2ms/step - loss: 1.5487 - accuracy: 0.3112 - precision: 0.0000e+00 - recall: 0.0000e+00 - val_loss: 1.8906 - val_accuracy: 0.0000e+00 - val_precision: 0.0000e+00 - val_recall: 0.0000e+00\n",
      "Epoch 5/15\n",
      "431/431 [==============================] - 1s 2ms/step - loss: 1.5487 - accuracy: 0.3118 - precision: 0.0000e+00 - recall: 0.0000e+00 - val_loss: 1.8827 - val_accuracy: 0.0000e+00 - val_precision: 0.0000e+00 - val_recall: 0.0000e+00\n",
      "Epoch 6/15\n",
      "431/431 [==============================] - 1s 2ms/step - loss: 1.5487 - accuracy: 0.3069 - precision: 0.0000e+00 - recall: 0.0000e+00 - val_loss: 1.8816 - val_accuracy: 0.0000e+00 - val_precision: 0.0000e+00 - val_recall: 0.0000e+00\n",
      "Epoch 7/15\n",
      "431/431 [==============================] - 1s 2ms/step - loss: 1.5487 - accuracy: 0.3127 - precision: 0.0000e+00 - recall: 0.0000e+00 - val_loss: 1.8835 - val_accuracy: 0.0000e+00 - val_precision: 0.0000e+00 - val_recall: 0.0000e+00\n",
      "Epoch 8/15\n",
      "431/431 [==============================] - 1s 2ms/step - loss: 1.5487 - accuracy: 0.3093 - precision: 0.0000e+00 - recall: 0.0000e+00 - val_loss: 1.8655 - val_accuracy: 0.0000e+00 - val_precision: 0.0000e+00 - val_recall: 0.0000e+00\n",
      "Epoch 9/15\n",
      "431/431 [==============================] - 1s 2ms/step - loss: 1.5487 - accuracy: 0.3088 - precision: 0.0000e+00 - recall: 0.0000e+00 - val_loss: 1.8971 - val_accuracy: 0.0000e+00 - val_precision: 0.0000e+00 - val_recall: 0.0000e+00\n",
      "Epoch 10/15\n",
      "431/431 [==============================] - 1s 2ms/step - loss: 1.5485 - accuracy: 0.3087 - precision: 0.0000e+00 - recall: 0.0000e+00 - val_loss: 1.8728 - val_accuracy: 0.0000e+00 - val_precision: 0.0000e+00 - val_recall: 0.0000e+00\n",
      "Epoch 11/15\n",
      "431/431 [==============================] - 1s 2ms/step - loss: 1.5486 - accuracy: 0.3092 - precision: 0.0000e+00 - recall: 0.0000e+00 - val_loss: 1.8753 - val_accuracy: 0.0000e+00 - val_precision: 0.0000e+00 - val_recall: 0.0000e+00\n",
      "Epoch 12/15\n",
      "431/431 [==============================] - 1s 2ms/step - loss: 1.5485 - accuracy: 0.3125 - precision: 0.0000e+00 - recall: 0.0000e+00 - val_loss: 1.8678 - val_accuracy: 0.0000e+00 - val_precision: 0.0000e+00 - val_recall: 0.0000e+00\n",
      "Epoch 13/15\n",
      "431/431 [==============================] - 1s 2ms/step - loss: 1.5486 - accuracy: 0.3088 - precision: 0.0000e+00 - recall: 0.0000e+00 - val_loss: 1.8990 - val_accuracy: 0.0000e+00 - val_precision: 0.0000e+00 - val_recall: 0.0000e+00\n",
      "Epoch 14/15\n",
      "431/431 [==============================] - 1s 2ms/step - loss: 1.5485 - accuracy: 0.3129 - precision: 0.0000e+00 - recall: 0.0000e+00 - val_loss: 1.8843 - val_accuracy: 0.0000e+00 - val_precision: 0.0000e+00 - val_recall: 0.0000e+00\n",
      "Epoch 15/15\n",
      "431/431 [==============================] - 1s 2ms/step - loss: 1.5485 - accuracy: 0.3112 - precision: 0.0000e+00 - recall: 0.0000e+00 - val_loss: 1.8569 - val_accuracy: 0.0000e+00 - val_precision: 0.0000e+00 - val_recall: 0.0000e+00\n"
     ]
    }
   ],
   "source": [
    "history_bow = model_bow.fit(\n",
    "    x_train_oh, y_train_oh,\n",
    "    epochs=epochs,\n",
    "    batch_size=batch_size,\n",
    "    validation_data=(x_val_oh, y_val_oh)\n",
    ")"
   ]
  },
  {
   "cell_type": "code",
   "execution_count": 31,
   "metadata": {},
   "outputs": [
    {
     "data": {
      "image/png": "[encoded data removed]",
      "text/plain": [
       "<Figure size 432x288 with 1 Axes>"
      ]
     },
     "metadata": {
      "needs_background": "light"
     },
     "output_type": "display_data"
    },
    {
     "data": {
      "image/png": "[encoded data removed]",
      "text/plain": [
       "<Figure size 432x288 with 1 Axes>"
      ]
     },
     "metadata": {
      "needs_background": "light"
     },
     "output_type": "display_data"
    }
   ],
   "source": [
    "loss_bow = history_bow.history['loss']\n",
    "val_loss_bow = history_bow.history['val_loss']\n",
    "acc_bow = history_bow.history['accuracy']\n",
    "val_acc_bow = history_bow.history['val_accuracy']\n",
    "\n",
    "\n",
    "epochs_graph = range(1, len(acc_bow) + 1)\n",
    "\n",
    "plt.plot(epochs_graph, loss_bow, 'bo', label='Training loss')\n",
    "plt.plot(epochs_graph, val_loss_bow, 'b', label='Validation loss')\n",
    "plt.title('Training and validation loss')\n",
    "plt.legend()\n",
    "\n",
    "plt.figure()\n",
    "\n",
    "plt.plot(epochs_graph, acc_bow, 'bo', label='Training acc')\n",
    "plt.plot(epochs_graph, val_acc_bow, 'b', label='Validation acc')\n",
    "plt.title('Training and validation accuracy')\n",
    "plt.legend()\n",
    "\n",
    "plt.show()"
   ]
  },
  {
   "cell_type": "markdown",
   "metadata": {},
   "source": [
    "# Fully Conneceted NN & Embeddings Layer"
   ]
  },
  {
   "cell_type": "code",
   "execution_count": 32,
   "metadata": {},
   "outputs": [
    {
     "name": "stdout",
     "output_type": "stream",
     "text": [
      "Model: \"sequential_1\"\n",
      "_________________________________________________________________\n",
      "Layer (type)                 Output Shape              Param #   \n",
      "=================================================================\n",
      "embedding (Embedding)        (None, 27, 10)            100010    \n",
      "_________________________________________________________________\n",
      "flatten (Flatten)            (None, 270)               0         \n",
      "_________________________________________________________________\n",
      "dense_3 (Dense)              (None, 32)                8672      \n",
      "_________________________________________________________________\n",
      "dropout_2 (Dropout)          (None, 32)                0         \n",
      "_________________________________________________________________\n",
      "dense_4 (Dense)              (None, 32)                1056      \n",
      "_________________________________________________________________\n",
      "dropout_3 (Dropout)          (None, 32)                0         \n",
      "_________________________________________________________________\n",
      "dense_5 (Dense)              (None, 4)                 132       \n",
      "=================================================================\n",
      "Total params: 109,870\n",
      "Trainable params: 109,870\n",
      "Non-trainable params: 0\n",
      "_________________________________________________________________\n"
     ]
    }
   ],
   "source": [
    "model_emb = models.Sequential()\n",
    "\n",
    "model_emb.add(layers.Embedding(max_words+1,\n",
    "                               embedding_size, input_length=max_len))\n",
    "model_emb.add(layers.Flatten())\n",
    "model_emb.add(layers.Dense(32, activation='relu'))\n",
    "model_emb.add(layers.Dropout(0.75))\n",
    "model_emb.add(layers.Dense(32, activation='relu'))\n",
    "model_emb.add(layers.Dropout(0.75))\n",
    "model_emb.add(layers.Dense(dimensions_labels, activation='softmax'))\n",
    "\n",
    "model_emb.summary()\n",
    "\n",
    "model_emb.compile(\n",
    "    optimizer='adam',\n",
    "    loss='categorical_crossentropy',\n",
    "    metrics=metrics\n",
    ")"
   ]
  },
  {
   "cell_type": "code",
   "execution_count": 33,
   "metadata": {},
   "outputs": [
    {
     "name": "stdout",
     "output_type": "stream",
     "text": [
      "Epoch 1/15\n",
      "431/431 [==============================] - 1s 2ms/step - loss: 1.3839 - accuracy: 0.2141 - precision: 0.3333 - recall: 6.6401e-05 - val_loss: 1.3666 - val_accuracy: 0.3413 - val_precision: 0.0000e+00 - val_recall: 0.0000e+00\n",
      "Epoch 2/15\n",
      "431/431 [==============================] - 1s 1ms/step - loss: 1.3405 - accuracy: 0.3396 - precision: 0.4554 - recall: 0.0119 - val_loss: 1.2678 - val_accuracy: 0.3954 - val_precision: 0.7500 - val_recall: 9.9602e-04\n",
      "Epoch 3/15\n",
      "431/431 [==============================] - 1s 1ms/step - loss: 1.2514 - accuracy: 0.4045 - precision: 0.5267 - recall: 0.0557 - val_loss: 1.2035 - val_accuracy: 0.4080 - val_precision: 0.6774 - val_recall: 0.0070\n",
      "Epoch 4/15\n",
      "431/431 [==============================] - 1s 2ms/step - loss: 1.1760 - accuracy: 0.4342 - precision: 0.5575 - recall: 0.0999 - val_loss: 1.1970 - val_accuracy: 0.4094 - val_precision: 0.5769 - val_recall: 0.0896\n",
      "Epoch 5/15\n",
      "431/431 [==============================] - 1s 2ms/step - loss: 1.1178 - accuracy: 0.4622 - precision: 0.5756 - recall: 0.1434 - val_loss: 1.2380 - val_accuracy: 0.4011 - val_precision: 0.5932 - val_recall: 0.1162\n",
      "Epoch 6/15\n",
      "431/431 [==============================] - ETA: 0s - loss: 1.0442 - accuracy: 0.4922 - precision: 0.5977 - recall: 0.195 - 1s 2ms/step - loss: 1.0442 - accuracy: 0.4932 - precision: 0.5962 - recall: 0.1963 - val_loss: 1.2830 - val_accuracy: 0.3941 - val_precision: 0.5443 - val_recall: 0.1487\n",
      "Epoch 7/15\n",
      "431/431 [==============================] - 1s 2ms/step - loss: 0.9884 - accuracy: 0.5202 - precision: 0.6073 - recall: 0.2416 - val_loss: 1.3722 - val_accuracy: 0.4021 - val_precision: 0.5208 - val_recall: 0.1494\n",
      "Epoch 8/15\n",
      "431/431 [==============================] - 1s 2ms/step - loss: 0.9423 - accuracy: 0.5383 - precision: 0.6089 - recall: 0.2848 - val_loss: 1.4942 - val_accuracy: 0.3898 - val_precision: 0.4889 - val_recall: 0.1760\n",
      "Epoch 9/15\n",
      "431/431 [==============================] - 1s 2ms/step - loss: 0.9006 - accuracy: 0.5579 - precision: 0.6108 - recall: 0.3230 - val_loss: 1.6939 - val_accuracy: 0.3875 - val_precision: 0.4595 - val_recall: 0.2410\n",
      "Epoch 10/15\n",
      "431/431 [==============================] - 1s 1ms/step - loss: 0.8632 - accuracy: 0.5708 - precision: 0.6101 - recall: 0.3666 - val_loss: 1.8461 - val_accuracy: 0.3904 - val_precision: 0.4265 - val_recall: 0.1975\n",
      "Epoch 11/15\n",
      "431/431 [==============================] - 1s 2ms/step - loss: 0.8364 - accuracy: 0.5748 - precision: 0.6140 - recall: 0.4000 - val_loss: 2.0174 - val_accuracy: 0.3928 - val_precision: 0.4235 - val_recall: 0.2703\n",
      "Epoch 12/15\n",
      "431/431 [==============================] - 1s 2ms/step - loss: 0.8161 - accuracy: 0.5851 - precision: 0.6261 - recall: 0.4512 - val_loss: 2.2105 - val_accuracy: 0.3934 - val_precision: 0.4505 - val_recall: 0.2570\n",
      "Epoch 13/15\n",
      "431/431 [==============================] - 1s 1ms/step - loss: 0.7901 - accuracy: 0.5950 - precision: 0.6366 - recall: 0.4867 - val_loss: 2.2769 - val_accuracy: 0.3914 - val_precision: 0.4225 - val_recall: 0.2862\n",
      "Epoch 14/15\n",
      "431/431 [==============================] - 1s 2ms/step - loss: 0.7718 - accuracy: 0.5984 - precision: 0.6349 - recall: 0.5049 - val_loss: 2.4129 - val_accuracy: 0.3924 - val_precision: 0.4213 - val_recall: 0.3041\n",
      "Epoch 15/15\n",
      "431/431 [==============================] - 1s 1ms/step - loss: 0.7563 - accuracy: 0.6083 - precision: 0.6422 - recall: 0.5272 - val_loss: 2.5997 - val_accuracy: 0.3928 - val_precision: 0.4183 - val_recall: 0.3237\n"
     ]
    }
   ],
   "source": [
    "history_emb = model_emb.fit(\n",
    "    x_train, y_train,\n",
    "    epochs=epochs,\n",
    "    batch_size=batch_size,\n",
    "    validation_data=(x_val, y_val)\n",
    ")"
   ]
  },
  {
   "cell_type": "code",
   "execution_count": 34,
   "metadata": {},
   "outputs": [
    {
     "data": {
      "image/png": "[encoded data removed]",
      "text/plain": [
       "<Figure size 432x288 with 1 Axes>"
      ]
     },
     "metadata": {
      "needs_background": "light"
     },
     "output_type": "display_data"
    },
    {
     "data": {
      "image/png": "[encoded data removed]",
      "text/plain": [
       "<Figure size 432x288 with 1 Axes>"
      ]
     },
     "metadata": {
      "needs_background": "light"
     },
     "output_type": "display_data"
    }
   ],
   "source": [
    "loss_emb = history_emb.history['loss']\n",
    "val_loss_emb = history_emb.history['val_loss']\n",
    "acc_emb = history_emb.history['accuracy']\n",
    "val_acc_emb = history_emb.history['val_accuracy']\n",
    "\n",
    "\n",
    "epochs_graph = range(1, len(acc_emb) + 1)\n",
    "\n",
    "plt.plot(epochs_graph, loss_emb, 'bo', label='Training loss')\n",
    "plt.plot(epochs_graph, val_loss_emb, 'b', label='Validation loss')\n",
    "plt.title('Training and validation loss')\n",
    "plt.legend()\n",
    "\n",
    "plt.figure()\n",
    "\n",
    "plt.plot(epochs_graph, acc_emb, 'bo', label='Training acc')\n",
    "plt.plot(epochs_graph, val_acc_emb, 'b', label='Validation acc')\n",
    "plt.title('Training and validation accuracy')\n",
    "plt.legend()\n",
    "\n",
    "plt.show()"
   ]
  },
  {
   "cell_type": "markdown",
   "metadata": {},
   "source": [
    "# Fully Conneceted NN & Pre-Trained Embeddings Layer"
   ]
  },
  {
   "cell_type": "code",
   "execution_count": 35,
   "metadata": {},
   "outputs": [],
   "source": [
    "glove_dir = './glove.6B'"
   ]
  },
  {
   "cell_type": "code",
   "execution_count": 36,
   "metadata": {},
   "outputs": [
    {
     "name": "stdout",
     "output_type": "stream",
     "text": [
      "Found 400000 word vectors.\n"
     ]
    }
   ],
   "source": [
    "embeddings_index = {}\n",
    "\n",
    "f = open(os.path.join(glove_dir, 'glove.6B.100d.txt'))\n",
    "for line in f:\n",
    "    values = line.split()\n",
    "    word = values[0]\n",
    "    coefs = np.asarray(values[1:], dtype='float32')\n",
    "    embeddings_index[word] = coefs\n",
    "f.close()\n",
    "\n",
    "print('Found %s word vectors.' % len(embeddings_index))"
   ]
  },
  {
   "cell_type": "code",
   "execution_count": 37,
   "metadata": {},
   "outputs": [
    {
     "name": "stdout",
     "output_type": "stream",
     "text": [
      "(10001, 100)\n"
     ]
    }
   ],
   "source": [
    "embedding_matrix = np.zeros((max_words+1, embedding_dim))\n",
    "\n",
    "for word, i in word_index.items():\n",
    "    if i < max_words:\n",
    "        embedding_vector = embeddings_index.get(word)\n",
    "        if embedding_vector is not None:\n",
    "            embedding_matrix[i] = embedding_vector\n",
    "print(embedding_matrix.shape)"
   ]
  },
  {
   "cell_type": "code",
   "execution_count": 38,
   "metadata": {},
   "outputs": [
    {
     "name": "stdout",
     "output_type": "stream",
     "text": [
      "Model: \"sequential_2\"\n",
      "_________________________________________________________________\n",
      "Layer (type)                 Output Shape              Param #   \n",
      "=================================================================\n",
      "embedding_1 (Embedding)      (None, 27, 100)           1000100   \n",
      "_________________________________________________________________\n",
      "flatten_1 (Flatten)          (None, 2700)              0         \n",
      "_________________________________________________________________\n",
      "dense_6 (Dense)              (None, 16)                43216     \n",
      "_________________________________________________________________\n",
      "dropout_4 (Dropout)          (None, 16)                0         \n",
      "_________________________________________________________________\n",
      "dense_7 (Dense)              (None, 16)                272       \n",
      "_________________________________________________________________\n",
      "dropout_5 (Dropout)          (None, 16)                0         \n",
      "_________________________________________________________________\n",
      "dense_8 (Dense)              (None, 4)                 68        \n",
      "=================================================================\n",
      "Total params: 1,043,656\n",
      "Trainable params: 43,556\n",
      "Non-trainable params: 1,000,100\n",
      "_________________________________________________________________\n"
     ]
    }
   ],
   "source": [
    "model_transf = models.Sequential()\n",
    "\n",
    "model_transf.add(layers.Embedding(max_words+1,\n",
    "                                  embedding_dim, input_length=max_len))\n",
    "\n",
    "model_transf.add(layers.Flatten())\n",
    "model_transf.add(layers.Dense(16, activation='relu'))\n",
    "model_transf.add(layers.Dropout(0.75))\n",
    "model_transf.add(layers.Dense(16, activation='relu'))\n",
    "model_transf.add(layers.Dropout(0.75))\n",
    "model_transf.add(layers.Dense(dimensions_labels, activation='softmax'))\n",
    "\n",
    "model_transf.layers[0].set_weights([embedding_matrix])  # !!!! important !!!!\n",
    "model_transf.layers[0].trainable = False\n",
    "\n",
    "\n",
    "# needed in order to save the weights: https://stackoverflow.com/questions/55908188/this-model-has-not-yet-been-built-error-on-model-summary\n",
    "model_transf.build((max_len,))\n",
    "\n",
    "model_transf.summary()\n",
    "\n",
    "\n",
    "model_transf.compile(\n",
    "    optimizer='adam',\n",
    "    loss='categorical_crossentropy',\n",
    "    metrics=metrics\n",
    ")"
   ]
  },
  {
   "cell_type": "code",
   "execution_count": 39,
   "metadata": {},
   "outputs": [
    {
     "name": "stdout",
     "output_type": "stream",
     "text": [
      "Epoch 1/15\n",
      "431/431 [==============================] - 1s 2ms/step - loss: 1.3997 - accuracy: 0.2770 - precision: 0.4085 - recall: 0.0675 - val_loss: 1.3860 - val_accuracy: 0.2377 - val_precision: 0.0000e+00 - val_recall: 0.0000e+00\n",
      "Epoch 2/15\n",
      "431/431 [==============================] - 1s 1ms/step - loss: 1.3885 - accuracy: 0.2514 - precision: 0.2308 - recall: 4.9801e-04 - val_loss: 1.3859 - val_accuracy: 0.2394 - val_precision: 0.0000e+00 - val_recall: 0.0000e+00\n",
      "Epoch 3/15\n",
      "431/431 [==============================] - 1s 1ms/step - loss: 1.3880 - accuracy: 0.2514 - precision: 0.4667 - recall: 0.0012 - val_loss: 1.3859 - val_accuracy: 0.2377 - val_precision: 0.0000e+00 - val_recall: 0.0000e+00\n",
      "Epoch 4/15\n",
      "431/431 [==============================] - 1s 1ms/step - loss: 1.3873 - accuracy: 0.2587 - precision: 0.5000 - recall: 0.0014 - val_loss: 1.3852 - val_accuracy: 0.2380 - val_precision: 0.0000e+00 - val_recall: 0.0000e+00\n",
      "Epoch 5/15\n",
      "431/431 [==============================] - 1s 1ms/step - loss: 1.3867 - accuracy: 0.2532 - precision: 0.4615 - recall: 0.0015 - val_loss: 1.3861 - val_accuracy: 0.2377 - val_precision: 0.0000e+00 - val_recall: 0.0000e+00\n",
      "Epoch 6/15\n",
      "431/431 [==============================] - 1s 1ms/step - loss: 1.3867 - accuracy: 0.2458 - precision: 0.3571 - recall: 4.1501e-04 - val_loss: 1.3864 - val_accuracy: 0.2374 - val_precision: 0.0000e+00 - val_recall: 0.0000e+00\n",
      "Epoch 7/15\n",
      "431/431 [==============================] - 1s 1ms/step - loss: 1.3855 - accuracy: 0.2502 - precision: 0.6538 - recall: 0.0014 - val_loss: 1.3858 - val_accuracy: 0.2374 - val_precision: 0.0000e+00 - val_recall: 0.0000e+00\n",
      "Epoch 8/15\n",
      "431/431 [==============================] - 1s 1ms/step - loss: 1.3864 - accuracy: 0.2499 - precision: 0.6538 - recall: 0.0014 - val_loss: 1.3851 - val_accuracy: 0.2646 - val_precision: 0.0000e+00 - val_recall: 0.0000e+00\n",
      "Epoch 9/15\n",
      "431/431 [==============================] - 1s 1ms/step - loss: 1.3859 - accuracy: 0.2522 - precision: 0.5921 - recall: 0.0037 - val_loss: 1.3816 - val_accuracy: 0.2716 - val_precision: 0.0000e+00 - val_recall: 0.0000e+00\n",
      "Epoch 10/15\n",
      "431/431 [==============================] - 1s 1ms/step - loss: 1.3839 - accuracy: 0.2473 - precision: 0.6885 - recall: 0.0035 - val_loss: 1.3812 - val_accuracy: 0.2782 - val_precision: 0.0000e+00 - val_recall: 0.0000e+00\n",
      "Epoch 11/15\n",
      "431/431 [==============================] - 1s 1ms/step - loss: 1.3841 - accuracy: 0.2518 - precision: 0.6875 - recall: 0.0037 - val_loss: 1.3747 - val_accuracy: 0.2965 - val_precision: 0.5000 - val_recall: 3.3201e-04\n",
      "Epoch 12/15\n",
      "431/431 [==============================] - 1s 1ms/step - loss: 1.3818 - accuracy: 0.2502 - precision: 0.7363 - recall: 0.0056 - val_loss: 1.3783 - val_accuracy: 0.2912 - val_precision: 0.0000e+00 - val_recall: 0.0000e+00\n",
      "Epoch 13/15\n",
      "431/431 [==============================] - 1s 1ms/step - loss: 1.3808 - accuracy: 0.2594 - precision: 0.7245 - recall: 0.0059 - val_loss: 1.3771 - val_accuracy: 0.2918 - val_precision: 0.0000e+00 - val_recall: 0.0000e+00\n",
      "Epoch 14/15\n",
      "431/431 [==============================] - 1s 1ms/step - loss: 1.3804 - accuracy: 0.2608 - precision: 0.6524 - recall: 0.0089 - val_loss: 1.3617 - val_accuracy: 0.3353 - val_precision: 0.7500 - val_recall: 9.9602e-04\n",
      "Epoch 15/15\n",
      "431/431 [==============================] - 1s 1ms/step - loss: 1.3776 - accuracy: 0.2679 - precision: 0.6599 - recall: 0.0108 - val_loss: 1.3633 - val_accuracy: 0.3420 - val_precision: 0.0000e+00 - val_recall: 0.0000e+00\n"
     ]
    }
   ],
   "source": [
    "history_transf = model_transf.fit(\n",
    "    x_train, y_train,\n",
    "    epochs=epochs,\n",
    "    batch_size=batch_size,\n",
    "    validation_data=(x_val, y_val)\n",
    ")\n",
    "\n",
    "model_transf.save_weights(f'{model_path}_transf')"
   ]
  },
  {
   "cell_type": "code",
   "execution_count": 40,
   "metadata": {},
   "outputs": [
    {
     "data": {
      "image/png": "[encoded data removed]",
      "text/plain": [
       "<Figure size 432x288 with 1 Axes>"
      ]
     },
     "metadata": {
      "needs_background": "light"
     },
     "output_type": "display_data"
    },
    {
     "data": {
      "image/png": "[encoded data removed]",
      "text/plain": [
       "<Figure size 432x288 with 1 Axes>"
      ]
     },
     "metadata": {
      "needs_background": "light"
     },
     "output_type": "display_data"
    }
   ],
   "source": [
    "loss_transf = history_transf.history['loss']\n",
    "val_loss_transf = history_transf.history['val_loss']\n",
    "acc_transf = history_transf.history['accuracy']\n",
    "val_acc_transf = history_transf.history['val_accuracy']\n",
    "\n",
    "\n",
    "epochs_graph = range(1, len(acc_transf) + 1)\n",
    "\n",
    "plt.plot(epochs_graph, loss_transf, 'bo', label='Training loss')\n",
    "plt.plot(epochs_graph, val_loss_transf, 'b', label='Validation loss')\n",
    "plt.title('Training and validation loss')\n",
    "plt.legend()\n",
    "\n",
    "plt.figure()\n",
    "\n",
    "plt.plot(epochs_graph, acc_transf, 'bo', label='Training acc')\n",
    "plt.plot(epochs_graph, val_acc_transf, 'b', label='Validation acc')\n",
    "plt.title('Training and validation accuracy')\n",
    "plt.legend()\n",
    "\n",
    "plt.show()"
   ]
  },
  {
   "cell_type": "markdown",
   "metadata": {},
   "source": [
    "# LSTM"
   ]
  },
  {
   "cell_type": "code",
   "execution_count": 41,
   "metadata": {},
   "outputs": [
    {
     "name": "stdout",
     "output_type": "stream",
     "text": [
      "Model: \"sequential_3\"\n",
      "_________________________________________________________________\n",
      "Layer (type)                 Output Shape              Param #   \n",
      "=================================================================\n",
      "embedding_2 (Embedding)      (None, 27, 100)           1000100   \n",
      "_________________________________________________________________\n",
      "lstm (LSTM)                  (None, 32)                17024     \n",
      "_________________________________________________________________\n",
      "dense_9 (Dense)              (None, 16)                528       \n",
      "_________________________________________________________________\n",
      "dropout_6 (Dropout)          (None, 16)                0         \n",
      "_________________________________________________________________\n",
      "dense_10 (Dense)             (None, 16)                272       \n",
      "_________________________________________________________________\n",
      "dropout_7 (Dropout)          (None, 16)                0         \n",
      "_________________________________________________________________\n",
      "dense_11 (Dense)             (None, 4)                 68        \n",
      "=================================================================\n",
      "Total params: 1,017,992\n",
      "Trainable params: 17,892\n",
      "Non-trainable params: 1,000,100\n",
      "_________________________________________________________________\n"
     ]
    }
   ],
   "source": [
    "model_lstm = models.Sequential()\n",
    "\n",
    "model_lstm.add(layers.Embedding(max_words+1,\n",
    "                                embedding_dim, input_length=max_len))\n",
    "\n",
    "# model_lstm.add(layers.Flatten())\n",
    "# Option 1\n",
    "model_lstm.add(layers.LSTM(32))\n",
    "\n",
    "# Option 2\n",
    "# model.add(layers.LSTM(32, return_sequences=True)) # stacking of LSTMs\n",
    "# model.add(layers.LSTM(32)) # the size of the hidden state, randomly defined\n",
    "model_lstm.add(layers.Dense(16, activation='relu'))\n",
    "model_lstm.add(layers.Dropout(0.5))\n",
    "model_lstm.add(layers.Dense(16, activation='relu'))\n",
    "model_lstm.add(layers.Dropout(0.5))\n",
    "model_lstm.add(layers.Dense(dimensions_labels, activation='softmax'))\n",
    "\n",
    "model_lstm.layers[0].set_weights([embedding_matrix])  # !!!! important !!!!\n",
    "model_lstm.layers[0].trainable = False\n",
    "\n",
    "model_lstm.summary()\n",
    "\n",
    "model_lstm.compile(\n",
    "    optimizer='adam',\n",
    "    loss='categorical_crossentropy',\n",
    "    metrics=metrics\n",
    ")"
   ]
  },
  {
   "cell_type": "code",
   "execution_count": 42,
   "metadata": {},
   "outputs": [
    {
     "name": "stdout",
     "output_type": "stream",
     "text": [
      "Epoch 1/15\n",
      "431/431 [==============================] - 4s 10ms/step - loss: 1.3614 - accuracy: 0.2995 - precision: 0.5642 - recall: 0.0111 - val_loss: 1.3051 - val_accuracy: 0.3987 - val_precision: 0.8333 - val_recall: 0.0017\n",
      "Epoch 2/15\n",
      "431/431 [==============================] - 4s 9ms/step - loss: 1.2904 - accuracy: 0.3673 - precision: 0.6036 - recall: 0.0720 - val_loss: 1.2260 - val_accuracy: 0.4207 - val_precision: 0.6437 - val_recall: 0.0744\n",
      "Epoch 3/15\n",
      "431/431 [==============================] - 4s 9ms/step - loss: 1.2385 - accuracy: 0.4041 - precision: 0.6026 - recall: 0.1065 - val_loss: 1.1749 - val_accuracy: 0.4157 - val_precision: 0.6354 - val_recall: 0.1036\n",
      "Epoch 4/15\n",
      "431/431 [==============================] - 4s 9ms/step - loss: 1.1963 - accuracy: 0.4187 - precision: 0.6118 - recall: 0.1312 - val_loss: 1.1652 - val_accuracy: 0.4243 - val_precision: 0.5873 - val_recall: 0.1418\n",
      "Epoch 5/15\n",
      "431/431 [==============================] - 3s 8ms/step - loss: 1.1570 - accuracy: 0.4391 - precision: 0.6229 - recall: 0.1497 - val_loss: 1.1361 - val_accuracy: 0.4303 - val_precision: 0.6524 - val_recall: 0.1059\n",
      "Epoch 6/15\n",
      "431/431 [==============================] - 4s 8ms/step - loss: 1.1315 - accuracy: 0.4387 - precision: 0.6393 - recall: 0.1536 - val_loss: 1.1306 - val_accuracy: 0.4386 - val_precision: 0.6062 - val_recall: 0.1487\n",
      "Epoch 7/15\n",
      "431/431 [==============================] - 3s 8ms/step - loss: 1.1087 - accuracy: 0.4488 - precision: 0.6429 - recall: 0.1710 - val_loss: 1.1199 - val_accuracy: 0.4402 - val_precision: 0.6101 - val_recall: 0.1610\n",
      "Epoch 8/15\n",
      "431/431 [==============================] - 3s 8ms/step - loss: 1.1017 - accuracy: 0.4565 - precision: 0.6296 - recall: 0.1692 - val_loss: 1.1241 - val_accuracy: 0.4489 - val_precision: 0.6219 - val_recall: 0.1491\n",
      "Epoch 9/15\n",
      "431/431 [==============================] - 4s 8ms/step - loss: 1.0831 - accuracy: 0.4621 - precision: 0.6497 - recall: 0.1848 - val_loss: 1.1155 - val_accuracy: 0.4406 - val_precision: 0.6190 - val_recall: 0.1554\n",
      "Epoch 10/15\n",
      "431/431 [==============================] - 3s 8ms/step - loss: 1.0662 - accuracy: 0.4663 - precision: 0.6369 - recall: 0.1892 - val_loss: 1.1666 - val_accuracy: 0.4220 - val_precision: 0.5402 - val_recall: 0.1896\n",
      "Epoch 11/15\n",
      "431/431 [==============================] - 3s 8ms/step - loss: 1.0583 - accuracy: 0.4752 - precision: 0.6372 - recall: 0.1887 - val_loss: 1.1550 - val_accuracy: 0.4336 - val_precision: 0.6192 - val_recall: 0.1458\n",
      "Epoch 12/15\n",
      "431/431 [==============================] - 3s 8ms/step - loss: 1.0431 - accuracy: 0.4752 - precision: 0.6452 - recall: 0.2000 - val_loss: 1.1467 - val_accuracy: 0.4462 - val_precision: 0.5813 - val_recall: 0.1697\n",
      "Epoch 13/15\n",
      "431/431 [==============================] - 3s 8ms/step - loss: 1.0317 - accuracy: 0.4867 - precision: 0.6409 - recall: 0.2048 - val_loss: 1.1487 - val_accuracy: 0.4220 - val_precision: 0.5830 - val_recall: 0.1796\n",
      "Epoch 14/15\n",
      "431/431 [==============================] - 3s 8ms/step - loss: 1.0181 - accuracy: 0.4863 - precision: 0.6442 - recall: 0.2121 - val_loss: 1.1663 - val_accuracy: 0.4366 - val_precision: 0.5586 - val_recall: 0.1899\n",
      "Epoch 15/15\n",
      "431/431 [==============================] - 4s 8ms/step - loss: 1.0084 - accuracy: 0.4851 - precision: 0.6477 - recall: 0.2159 - val_loss: 1.1405 - val_accuracy: 0.4369 - val_precision: 0.6186 - val_recall: 0.1653\n"
     ]
    }
   ],
   "source": [
    "history_lstm = model_lstm.fit(\n",
    "    x_train, y_train,\n",
    "    epochs=epochs,\n",
    "    batch_size=batch_size,\n",
    "    validation_data=(x_val, y_val)\n",
    ")"
   ]
  },
  {
   "cell_type": "code",
   "execution_count": 43,
   "metadata": {},
   "outputs": [
    {
     "data": {
      "image/png": "[encoded data removed]",
      "text/plain": [
       "<Figure size 432x288 with 1 Axes>"
      ]
     },
     "metadata": {
      "needs_background": "light"
     },
     "output_type": "display_data"
    },
    {
     "data": {
      "image/png": "[encoded data removed]",
      "text/plain": [
       "<Figure size 432x288 with 1 Axes>"
      ]
     },
     "metadata": {
      "needs_background": "light"
     },
     "output_type": "display_data"
    }
   ],
   "source": [
    "loss_lstm = history_lstm.history['loss']\n",
    "val_loss_lstm = history_lstm.history['val_loss']\n",
    "acc_lstm = history_lstm.history['accuracy']\n",
    "val_acc_lstm = history_lstm.history['val_accuracy']\n",
    "\n",
    "\n",
    "epochs_graph = range(1, len(acc_lstm) + 1)\n",
    "\n",
    "plt.plot(epochs_graph, loss_lstm, 'bo', label='Training loss')\n",
    "plt.plot(epochs_graph, val_loss_lstm, 'b', label='Validation loss')\n",
    "plt.title('Training and validation loss')\n",
    "plt.legend()\n",
    "\n",
    "plt.figure()\n",
    "\n",
    "plt.plot(epochs_graph, acc_lstm, 'bo', label='Training acc')\n",
    "plt.plot(epochs_graph, val_acc_lstm, 'b', label='Validation acc')\n",
    "plt.title('Training and validation accuracy')\n",
    "plt.legend()\n",
    "\n",
    "plt.show()"
   ]
  },
  {
   "cell_type": "markdown",
   "metadata": {},
   "source": [
    "# 1D Convolutional NN"
   ]
  },
  {
   "cell_type": "code",
   "execution_count": 44,
   "metadata": {},
   "outputs": [
    {
     "name": "stdout",
     "output_type": "stream",
     "text": [
      "Model: \"sequential_4\"\n",
      "_________________________________________________________________\n",
      "Layer (type)                 Output Shape              Param #   \n",
      "=================================================================\n",
      "embedding_3 (Embedding)      (None, 27, 100)           1000100   \n",
      "_________________________________________________________________\n",
      "conv1d (Conv1D)              (None, 23, 32)            16032     \n",
      "_________________________________________________________________\n",
      "max_pooling1d (MaxPooling1D) (None, 7, 32)             0         \n",
      "_________________________________________________________________\n",
      "conv1d_1 (Conv1D)            (None, 3, 32)             5152      \n",
      "_________________________________________________________________\n",
      "global_max_pooling1d (Global (None, 32)                0         \n",
      "_________________________________________________________________\n",
      "dense_12 (Dense)             (None, 4)                 132       \n",
      "=================================================================\n",
      "Total params: 1,021,416\n",
      "Trainable params: 21,316\n",
      "Non-trainable params: 1,000,100\n",
      "_________________________________________________________________\n"
     ]
    }
   ],
   "source": [
    "model_conv1d = models.Sequential()\n",
    "\n",
    "model_conv1d.add(layers.Embedding(max_words+1,\n",
    "                                  embedding_dim, input_length=max_len))\n",
    "\n",
    "model_conv1d.add(layers.Conv1D(\n",
    "    32,  # features to be extracted\n",
    "    5,  # convolutional window size\n",
    "    activation='relu',\n",
    "))\n",
    "model_conv1d.add(layers.MaxPooling1D(3))\n",
    "model_conv1d.add(layers.Conv1D(32, 5, activation='relu'))\n",
    "model_conv1d.add(layers.GlobalMaxPooling1D())\n",
    "model_conv1d.add(layers.Dense(dimensions_labels, activation='softmax'))\n",
    "\n",
    "model_conv1d.layers[0].set_weights([embedding_matrix])  # !!!! important !!!!\n",
    "model_conv1d.layers[0].trainable = False\n",
    "\n",
    "model_conv1d.summary()\n",
    "\n",
    "model_conv1d.compile(\n",
    "    optimizer='adam',\n",
    "    loss='categorical_crossentropy',\n",
    "    metrics=metrics\n",
    ")"
   ]
  },
  {
   "cell_type": "code",
   "execution_count": 45,
   "metadata": {},
   "outputs": [
    {
     "name": "stdout",
     "output_type": "stream",
     "text": [
      "Epoch 1/15\n",
      "431/431 [==============================] - 1s 3ms/step - loss: 1.3025 - accuracy: 0.3804 - precision: 0.6007 - recall: 0.0693 - val_loss: 1.2247 - val_accuracy: 0.4077 - val_precision: 0.5827 - val_recall: 0.1006\n",
      "Epoch 2/15\n",
      "431/431 [==============================] - 1s 3ms/step - loss: 1.1576 - accuracy: 0.4664 - precision: 0.6214 - recall: 0.1802 - val_loss: 1.1801 - val_accuracy: 0.4326 - val_precision: 0.5717 - val_recall: 0.1746\n",
      "Epoch 3/15\n",
      "431/431 [==============================] - 1s 2ms/step - loss: 1.0569 - accuracy: 0.5295 - precision: 0.6627 - recall: 0.2898 - val_loss: 1.1654 - val_accuracy: 0.4602 - val_precision: 0.5286 - val_recall: 0.2424\n",
      "Epoch 4/15\n",
      "431/431 [==============================] - 1s 2ms/step - loss: 0.9716 - accuracy: 0.5787 - precision: 0.6927 - recall: 0.3806 - val_loss: 1.1715 - val_accuracy: 0.4691 - val_precision: 0.5447 - val_recall: 0.2915\n",
      "Epoch 5/15\n",
      "431/431 [==============================] - 1s 2ms/step - loss: 0.8906 - accuracy: 0.6260 - precision: 0.7216 - recall: 0.4599 - val_loss: 1.1843 - val_accuracy: 0.4595 - val_precision: 0.5315 - val_recall: 0.3250\n",
      "Epoch 6/15\n",
      "431/431 [==============================] - 1s 3ms/step - loss: 0.8179 - accuracy: 0.6586 - precision: 0.7489 - recall: 0.5256 - val_loss: 1.2616 - val_accuracy: 0.4555 - val_precision: 0.4927 - val_recall: 0.3373\n",
      "Epoch 7/15\n",
      "431/431 [==============================] - 1s 3ms/step - loss: 0.7518 - accuracy: 0.6945 - precision: 0.7713 - recall: 0.5800 - val_loss: 1.2887 - val_accuracy: 0.4698 - val_precision: 0.5060 - val_recall: 0.3785\n",
      "Epoch 8/15\n",
      "431/431 [==============================] - 1s 2ms/step - loss: 0.6856 - accuracy: 0.7234 - precision: 0.7904 - recall: 0.6357 - val_loss: 1.3296 - val_accuracy: 0.4648 - val_precision: 0.5004 - val_recall: 0.3742\n",
      "Epoch 9/15\n",
      "431/431 [==============================] - 1s 2ms/step - loss: 0.6312 - accuracy: 0.7544 - precision: 0.8071 - recall: 0.6769 - val_loss: 1.3663 - val_accuracy: 0.4578 - val_precision: 0.4930 - val_recall: 0.3878\n",
      "Epoch 10/15\n",
      "431/431 [==============================] - 1s 3ms/step - loss: 0.5831 - accuracy: 0.7756 - precision: 0.8267 - recall: 0.7105 - val_loss: 1.4447 - val_accuracy: 0.4585 - val_precision: 0.4888 - val_recall: 0.4064\n",
      "Epoch 11/15\n",
      "431/431 [==============================] - 1s 3ms/step - loss: 0.5348 - accuracy: 0.7965 - precision: 0.8451 - recall: 0.7461 - val_loss: 1.5360 - val_accuracy: 0.4509 - val_precision: 0.4767 - val_recall: 0.4080\n",
      "Epoch 12/15\n",
      "431/431 [==============================] - 1s 3ms/step - loss: 0.4934 - accuracy: 0.8177 - precision: 0.8550 - recall: 0.7661 - val_loss: 1.6224 - val_accuracy: 0.4602 - val_precision: 0.4843 - val_recall: 0.4193\n",
      "Epoch 13/15\n",
      "431/431 [==============================] - 1s 3ms/step - loss: 0.4573 - accuracy: 0.8306 - precision: 0.8680 - recall: 0.7898 - val_loss: 1.7020 - val_accuracy: 0.4469 - val_precision: 0.4651 - val_recall: 0.4097\n",
      "Epoch 14/15\n",
      "431/431 [==============================] - 1s 3ms/step - loss: 0.4142 - accuracy: 0.8524 - precision: 0.8829 - recall: 0.8178 - val_loss: 1.7589 - val_accuracy: 0.4565 - val_precision: 0.4723 - val_recall: 0.4213\n",
      "Epoch 15/15\n",
      "431/431 [==============================] - 1s 3ms/step - loss: 0.3829 - accuracy: 0.8626 - precision: 0.8910 - recall: 0.8316 - val_loss: 1.8992 - val_accuracy: 0.4442 - val_precision: 0.4562 - val_recall: 0.4183\n"
     ]
    }
   ],
   "source": [
    "history_conv1d = model_conv1d.fit(\n",
    "    x_train, y_train,\n",
    "    epochs=epochs,\n",
    "    batch_size=batch_size,\n",
    "    validation_data=(x_val, y_val)\n",
    ")"
   ]
  },
  {
   "cell_type": "code",
   "execution_count": 46,
   "metadata": {},
   "outputs": [
    {
     "data": {
      "image/png": "[encoded data removed]",
      "text/plain": [
       "<Figure size 432x288 with 1 Axes>"
      ]
     },
     "metadata": {
      "needs_background": "light"
     },
     "output_type": "display_data"
    },
    {
     "data": {
      "image/png": "[encoded data removed]",
      "text/plain": [
       "<Figure size 432x288 with 1 Axes>"
      ]
     },
     "metadata": {
      "needs_background": "light"
     },
     "output_type": "display_data"
    }
   ],
   "source": [
    "loss_conv1d = history_conv1d.history['loss']\n",
    "val_loss_conv1d = history_conv1d.history['val_loss']\n",
    "acc_conv1d = history_conv1d.history['accuracy']\n",
    "val_acc_conv1d = history_conv1d.history['val_accuracy']\n",
    "\n",
    "\n",
    "epochs_graph = range(1, len(acc_conv1d) + 1)\n",
    "\n",
    "plt.plot(epochs_graph, loss_conv1d, 'bo', label='Training loss')\n",
    "plt.plot(epochs_graph, val_loss_conv1d, 'b', label='Validation loss')\n",
    "plt.title('Training and validation loss')\n",
    "plt.legend()\n",
    "\n",
    "plt.figure()\n",
    "\n",
    "plt.plot(epochs_graph, acc_conv1d, 'bo', label='Training acc')\n",
    "plt.plot(epochs_graph, val_acc_conv1d, 'b', label='Validation acc')\n",
    "plt.title('Training and validation accuracy')\n",
    "plt.legend()\n",
    "\n",
    "plt.show()"
   ]
  },
  {
   "cell_type": "markdown",
   "metadata": {},
   "source": [
    "With a regular validation and wihtout any regularisation LSTM seems to have the best performance on the validation set. \n",
    "However, all of them are highly overfitting. \n",
    "\n",
    "As a next step, I am going to evaluate the models with cross-validation due to the low volume of data we have."
   ]
  },
  {
   "cell_type": "code",
   "execution_count": 47,
   "metadata": {},
   "outputs": [],
   "source": [
    "def with_cross_val(k, model, train_data, train_targets, epochs, batch_size):\n",
    "    \"\"\"\n",
    "    This function applies a k-fold cross-validation.\n",
    "    Args: \n",
    "        - k - number of folds\n",
    "        - model - which model is to be used\n",
    "        - train_data - the tokenised, padded and shuffled sequences\n",
    "        - train_targets - labels \n",
    "        - epochs - number of epochs\n",
    "        - batch_size - batch size\n",
    "\n",
    "    Returns:\n",
    "        - all_histories_acc - accuracy for all epochs and folds\n",
    "        - all_histories_prec - precision for all epochs and folds\n",
    "        - all_histories_rec - recall for all epochs and folds\n",
    "\n",
    "    \"\"\"\n",
    "    num_val_samples = len(train_data) // k\n",
    "    all_histories_acc = []\n",
    "    all_histories_prec = []\n",
    "    all_histories_rec = []\n",
    "\n",
    "    for i in range(k):\n",
    "        print('processing fold #', i)\n",
    "        val_data = train_data[i * num_val_samples:(i + 1) * num_val_samples]\n",
    "        val_targets = train_targets[i *\n",
    "                                    num_val_samples:(i + 1) * num_val_samples]\n",
    "\n",
    "        partial_train_data = np.concatenate(\n",
    "            [train_data[:i * num_val_samples],\n",
    "             train_data[(i + 1) * num_val_samples:]],\n",
    "            axis=0)\n",
    "\n",
    "        partial_train_targets = np.concatenate(\n",
    "            [train_targets[:i * num_val_samples],\n",
    "             train_targets[(i + 1) * num_val_samples:]],\n",
    "            axis=0\n",
    "        )\n",
    "\n",
    "        #model = build_model()\n",
    "        history = model.fit(\n",
    "            partial_train_data, partial_train_targets,\n",
    "            epochs=epochs,\n",
    "            batch_size=batch_size,\n",
    "            verbose=0,\n",
    "            validation_data=(val_data, val_targets)\n",
    "        )\n",
    "\n",
    "        metric_history_acc = history.history['val_accuracy']\n",
    "        all_histories_acc.append(metric_history_acc)\n",
    "\n",
    "        metric_history_prec = history.history['val_precision']\n",
    "        all_histories_prec.append(metric_history_prec)\n",
    "\n",
    "        metric_history_rec = history.history['val_recall']\n",
    "        all_histories_rec.append(metric_history_rec)\n",
    "\n",
    "    return all_histories_acc, all_histories_prec, all_histories_rec"
   ]
  },
  {
   "cell_type": "code",
   "execution_count": 48,
   "metadata": {},
   "outputs": [
    {
     "name": "stdout",
     "output_type": "stream",
     "text": [
      "processing fold # 0\n",
      "processing fold # 1\n",
      "processing fold # 2\n",
      "processing fold # 3\n"
     ]
    }
   ],
   "source": [
    "all_histories_acc_bow, all_histories_prec_bow, all_histories_rec_bow = with_cross_val(\n",
    "    k=4,\n",
    "    model=model_bow,\n",
    "    train_data=data_oh,\n",
    "    train_targets=labels_encoded_oh,\n",
    "    epochs=epochs,\n",
    "    batch_size=batch_size)"
   ]
  },
  {
   "cell_type": "code",
   "execution_count": 49,
   "metadata": {},
   "outputs": [
    {
     "data": {
      "text/plain": [
       "0.027689242269843817"
      ]
     },
     "execution_count": 49,
     "metadata": {},
     "output_type": "execute_result"
    }
   ],
   "source": [
    "average_acc_history_bow = [\n",
    "    np.mean([x[i] for x in all_histories_acc_bow]) for i in range(epochs)]\n",
    "average_acc_history_bow[-1]"
   ]
  },
  {
   "cell_type": "code",
   "execution_count": 50,
   "metadata": {},
   "outputs": [
    {
     "data": {
      "image/png": "[encoded data removed]",
      "text/plain": [
       "<Figure size 432x288 with 1 Axes>"
      ]
     },
     "metadata": {
      "needs_background": "light"
     },
     "output_type": "display_data"
    }
   ],
   "source": [
    "plt.plot(range(1, len(average_acc_history_bow) + 1), average_acc_history_bow)\n",
    "plt.xlabel('Epochs')\n",
    "plt.ylabel('Validation Acc')\n",
    "plt.show()"
   ]
  },
  {
   "cell_type": "code",
   "execution_count": 51,
   "metadata": {},
   "outputs": [
    {
     "name": "stdout",
     "output_type": "stream",
     "text": [
      "processing fold # 0\n",
      "processing fold # 1\n",
      "processing fold # 2\n",
      "processing fold # 3\n"
     ]
    }
   ],
   "source": [
    "all_histories_acc_emb, all_histories_prec_emb, all_histories_rec_emb = with_cross_val(\n",
    "    k=4,\n",
    "    model=model_emb,\n",
    "    train_data=data_ovs,\n",
    "    train_targets=labels_encoded,\n",
    "    epochs=epochs,\n",
    "    batch_size=batch_size)"
   ]
  },
  {
   "cell_type": "code",
   "execution_count": 52,
   "metadata": {},
   "outputs": [
    {
     "data": {
      "text/plain": [
       "0.7314741015434265"
      ]
     },
     "execution_count": 52,
     "metadata": {},
     "output_type": "execute_result"
    }
   ],
   "source": [
    "average_acc_history_emb = [\n",
    "    np.mean([x[i] for x in all_histories_acc_emb]) for i in range(epochs)]\n",
    "average_acc_history_emb[-1]"
   ]
  },
  {
   "cell_type": "code",
   "execution_count": 53,
   "metadata": {},
   "outputs": [
    {
     "data": {
      "image/png": "[encoded data removed]",
      "text/plain": [
       "<Figure size 432x288 with 1 Axes>"
      ]
     },
     "metadata": {
      "needs_background": "light"
     },
     "output_type": "display_data"
    }
   ],
   "source": [
    "plt.plot(range(1, len(average_acc_history_emb) + 1), average_acc_history_emb)\n",
    "plt.xlabel('Epochs')\n",
    "plt.ylabel('Validation Acc')\n",
    "plt.show()"
   ]
  },
  {
   "cell_type": "code",
   "execution_count": 54,
   "metadata": {},
   "outputs": [
    {
     "name": "stdout",
     "output_type": "stream",
     "text": [
      "processing fold # 0\n",
      "processing fold # 1\n",
      "processing fold # 2\n",
      "processing fold # 3\n"
     ]
    }
   ],
   "source": [
    "all_histories_acc_transf, all_histories_prec_transf, all_histories_rec_transf = with_cross_val(\n",
    "    k=4,\n",
    "    model=model_transf,\n",
    "    train_data=data_ovs,\n",
    "    train_targets=labels_encoded,\n",
    "    epochs=epochs,\n",
    "    batch_size=batch_size)"
   ]
  },
  {
   "cell_type": "code",
   "execution_count": 55,
   "metadata": {},
   "outputs": [
    {
     "data": {
      "text/plain": [
       "0.3733067736029625"
      ]
     },
     "execution_count": 55,
     "metadata": {},
     "output_type": "execute_result"
    }
   ],
   "source": [
    "average_acc_history_transf = [\n",
    "    np.mean([x[i] for x in all_histories_acc_transf]) for i in range(epochs)]\n",
    "average_acc_history_transf[-1]"
   ]
  },
  {
   "cell_type": "code",
   "execution_count": 56,
   "metadata": {},
   "outputs": [
    {
     "data": {
      "image/png": "[encoded data removed]",
      "text/plain": [
       "<Figure size 432x288 with 1 Axes>"
      ]
     },
     "metadata": {
      "needs_background": "light"
     },
     "output_type": "display_data"
    }
   ],
   "source": [
    "plt.plot(range(1, len(average_acc_history_transf) + 1),\n",
    "         average_acc_history_transf)\n",
    "plt.xlabel('Epochs')\n",
    "plt.ylabel('Validation Acc')\n",
    "plt.show()"
   ]
  },
  {
   "cell_type": "code",
   "execution_count": 57,
   "metadata": {},
   "outputs": [
    {
     "name": "stdout",
     "output_type": "stream",
     "text": [
      "processing fold # 0\n",
      "processing fold # 1\n",
      "processing fold # 2\n",
      "processing fold # 3\n"
     ]
    }
   ],
   "source": [
    "all_histories_acc_lstm, all_histories_prec_lstm, all_histories_rec_lstm = with_cross_val(\n",
    "    k=4,\n",
    "    model=model_lstm,\n",
    "    train_data=data_ovs,\n",
    "    train_targets=labels_encoded,\n",
    "    epochs=epochs,\n",
    "    batch_size=batch_size)"
   ]
  },
  {
   "cell_type": "code",
   "execution_count": 58,
   "metadata": {},
   "outputs": [
    {
     "data": {
      "text/plain": [
       "0.5430278778076172"
      ]
     },
     "execution_count": 58,
     "metadata": {},
     "output_type": "execute_result"
    }
   ],
   "source": [
    "average_acc_history_lstm = [\n",
    "    np.mean([x[i] for x in all_histories_acc_lstm]) for i in range(epochs)]\n",
    "average_acc_history_lstm[-1]"
   ]
  },
  {
   "cell_type": "code",
   "execution_count": 59,
   "metadata": {},
   "outputs": [
    {
     "data": {
      "image/png": "[encoded data removed]",
      "text/plain": [
       "<Figure size 432x288 with 1 Axes>"
      ]
     },
     "metadata": {
      "needs_background": "light"
     },
     "output_type": "display_data"
    }
   ],
   "source": [
    "plt.plot(range(1, len(average_acc_history_lstm) + 1), average_acc_history_lstm)\n",
    "plt.xlabel('Epochs')\n",
    "plt.ylabel('Validation Acc')\n",
    "plt.show()"
   ]
  },
  {
   "cell_type": "code",
   "execution_count": 60,
   "metadata": {},
   "outputs": [
    {
     "name": "stdout",
     "output_type": "stream",
     "text": [
      "processing fold # 0\n",
      "processing fold # 1\n",
      "processing fold # 2\n",
      "processing fold # 3\n"
     ]
    }
   ],
   "source": [
    "all_histories_acc_conv1d, all_histories_prec_conv1d, all_histories_rec_conv1d = with_cross_val(\n",
    "    k=4,\n",
    "    model=model_conv1d,\n",
    "    train_data=data_ovs,\n",
    "    train_targets=labels_encoded,\n",
    "    epochs=epochs,\n",
    "    batch_size=batch_size)"
   ]
  },
  {
   "cell_type": "code",
   "execution_count": 61,
   "metadata": {},
   "outputs": [
    {
     "data": {
      "text/plain": [
       "0.7538512498140335"
      ]
     },
     "execution_count": 61,
     "metadata": {},
     "output_type": "execute_result"
    }
   ],
   "source": [
    "average_acc_history_conv1d = [\n",
    "    np.mean([x[i] for x in all_histories_acc_conv1d]) for i in range(epochs)]\n",
    "average_acc_history_conv1d[-1]"
   ]
  },
  {
   "cell_type": "code",
   "execution_count": 62,
   "metadata": {},
   "outputs": [
    {
     "data": {
      "image/png": "[encoded data removed]",
      "text/plain": [
       "<Figure size 432x288 with 1 Axes>"
      ]
     },
     "metadata": {
      "needs_background": "light"
     },
     "output_type": "display_data"
    }
   ],
   "source": [
    "plt.plot(range(1, len(average_acc_history_conv1d) + 1),\n",
    "         average_acc_history_conv1d)\n",
    "plt.xlabel('Epochs')\n",
    "plt.ylabel('Validation Acc')\n",
    "plt.show()"
   ]
  },
  {
   "cell_type": "code",
   "execution_count": null,
   "metadata": {},
   "outputs": [],
   "source": []
  },
  {
   "cell_type": "code",
   "execution_count": null,
   "metadata": {},
   "outputs": [],
   "source": []
  }
 ],
 "metadata": {
  "kernelspec": {
   "display_name": "nlp-sent",
   "language": "python",
   "name": "nlp-sent"
  },
  "language_info": {
   "codemirror_mode": {
    "name": "ipython",
    "version": 3
   },
   "file_extension": ".py",
   "mimetype": "text/x-python",
   "name": "python",
   "nbconvert_exporter": "python",
   "pygments_lexer": "ipython3",
   "version": "3.6.12"
  }
 },
 "nbformat": 4,
 "nbformat_minor": 4
}
