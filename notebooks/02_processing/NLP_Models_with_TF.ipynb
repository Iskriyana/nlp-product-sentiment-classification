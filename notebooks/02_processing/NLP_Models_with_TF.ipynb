{
 "cells": [
  {
   "cell_type": "markdown",
   "metadata": {},
   "source": [
    "The goal of this notebooks is to test the performance of several models. \n",
    "I will use bag-of-words as a baseline. \n",
    "Then I will use Keras' Embedding Layer, GloVe as a pre-trained model, an LSTM and a 1D ConvNet.\n",
    "\n",
    "Performance metrics are accuracy, precision and recall."
   ]
  },
  {
   "cell_type": "code",
   "execution_count": 1,
   "metadata": {},
   "outputs": [],
   "source": [
    "import keras\n",
    "import matplotlib.pyplot as plt\n",
    "import numpy as np\n",
    "import os\n",
    "import pandas as pd\n",
    "import pickle\n",
    "import sys\n",
    "import tensorflow as tf\n",
    "\n",
    "from keras import layers\n",
    "from keras import models\n",
    "from keras import utils\n",
    "from keras.utils import to_categorical\n",
    "from tensorflow import keras\n",
    "\n",
    "%matplotlib inline"
   ]
  },
  {
   "cell_type": "markdown",
   "metadata": {},
   "source": [
    "# Preparation Steps"
   ]
  },
  {
   "cell_type": "code",
   "execution_count": 2,
   "metadata": {},
   "outputs": [],
   "source": [
    "# folders\n",
    "home = os.getenv(\"HOME\")\n",
    "nlp_repo = os.path.join(home, 'git/nlp-product-sentiment-classification')\n",
    "\n",
    "# data\n",
    "train_csv_path = os.path.join(nlp_repo, 'data/03_processed/Train.csv')\n",
    "train_descr = pd.read_csv(train_csv_path)\n",
    "\n",
    "test_csv_path = os.path.join(nlp_repo, 'data/03_processed/Test.csv')\n",
    "test_descr = pd.read_csv(test_csv_path)\n",
    "\n",
    "# encoded tokens\n",
    "preprocessed_corpus_path_TF = os.path.join(\n",
    "    nlp_repo, 'data/03_processed/product_descr_preprocessed_TF.p')\n",
    "\n",
    "preprocessed_corpus_path_TF_oh = os.path.join(\n",
    "    nlp_repo, 'data/03_processed/product_descr_preprocessed_TF_oh.p')"
   ]
  },
  {
   "cell_type": "code",
   "execution_count": 3,
   "metadata": {},
   "outputs": [],
   "source": [
    "# read-in the list of tokens and the vocabulary\n",
    "sequences, word_index = pd.read_pickle(preprocessed_corpus_path_TF)"
   ]
  },
  {
   "cell_type": "markdown",
   "metadata": {},
   "source": [
    "# Parameters"
   ]
  },
  {
   "cell_type": "code",
   "execution_count": 4,
   "metadata": {},
   "outputs": [],
   "source": [
    "# Embedding Tokens\n",
    "\n",
    "# max_words = vocabulary size = our samples - number of most frequent words.\n",
    "# I set it to 10.000, although in this case there are less.\n",
    "# I do this to parametise the code.\n",
    "# Aleternatively, I can set it to the length of our vocabulary = word_index\n",
    "max_words = 10000\n",
    "\n",
    "# embedding_size = embedding dimensionality\n",
    "embedding_size = 10\n",
    "\n",
    "# max_len = sequence length - the text is cut off after this number of words\n",
    "# in this case I define it as the maximum sequence length in our list of tokenised sequences\n",
    "max_len = np.max([len(x) for x in sequences])\n",
    "\n",
    "\n",
    "# Training parameters\n",
    "training_samples = int(0.8 * len(train_descr['Product_Description']))\n",
    "model_path = \"product_descr_TF.h5\"\n",
    "epochs = 15\n",
    "batch_size = 28\n",
    "\n",
    "# For GloVe word-embeddings matrix (pre-trained model)\n",
    "embedding_dim = 100"
   ]
  },
  {
   "cell_type": "code",
   "execution_count": 5,
   "metadata": {},
   "outputs": [],
   "source": [
    "data = tf.keras.preprocessing.sequence.pad_sequences(\n",
    "    sequences, maxlen=max_len)"
   ]
  },
  {
   "cell_type": "code",
   "execution_count": 6,
   "metadata": {},
   "outputs": [],
   "source": [
    "labels = train_descr.loc[:, 'Sentiment'].to_list()"
   ]
  },
  {
   "cell_type": "code",
   "execution_count": 7,
   "metadata": {},
   "outputs": [],
   "source": [
    "dimensions_labels = len(np.unique(labels))"
   ]
  },
  {
   "cell_type": "code",
   "execution_count": 8,
   "metadata": {},
   "outputs": [],
   "source": [
    "labels_encoded = tf.one_hot(indices=labels, depth=dimensions_labels)"
   ]
  },
  {
   "cell_type": "code",
   "execution_count": 9,
   "metadata": {},
   "outputs": [],
   "source": [
    "labels_encoded = np.asarray(labels_encoded)"
   ]
  },
  {
   "cell_type": "code",
   "execution_count": 10,
   "metadata": {},
   "outputs": [
    {
     "name": "stdout",
     "output_type": "stream",
     "text": [
      "Shape of data tensor: (6364, 33)\n",
      "Shape of label tensor (6364, 4)\n"
     ]
    }
   ],
   "source": [
    "print('Shape of data tensor:', data.shape)\n",
    "print('Shape of label tensor', labels_encoded.shape)"
   ]
  },
  {
   "cell_type": "code",
   "execution_count": 11,
   "metadata": {},
   "outputs": [],
   "source": [
    "indices = np.arange(data.shape[0])\n",
    "np.random.shuffle(indices)"
   ]
  },
  {
   "cell_type": "code",
   "execution_count": 12,
   "metadata": {},
   "outputs": [],
   "source": [
    "data = data[indices]\n",
    "labels_encoded = labels_encoded[indices]"
   ]
  },
  {
   "cell_type": "code",
   "execution_count": 13,
   "metadata": {},
   "outputs": [],
   "source": [
    "x_train = data[:training_samples]\n",
    "y_train = labels_encoded[:training_samples]\n",
    "\n",
    "x_val = data[training_samples:]\n",
    "y_val = labels_encoded[training_samples:]"
   ]
  },
  {
   "cell_type": "code",
   "execution_count": 14,
   "metadata": {},
   "outputs": [],
   "source": [
    "def get_key(my_dict, val):\n",
    "    for key, value in my_dict.items():\n",
    "        if val == value:\n",
    "            return key\n",
    "\n",
    "    return \"key doesn't exist\""
   ]
  },
  {
   "cell_type": "code",
   "execution_count": 15,
   "metadata": {},
   "outputs": [
    {
     "data": {
      "text/plain": [
       "'sxsw'"
      ]
     },
     "execution_count": 15,
     "metadata": {},
     "output_type": "execute_result"
    }
   ],
   "source": [
    "get_key(word_index, 2)"
   ]
  },
  {
   "cell_type": "markdown",
   "metadata": {},
   "source": [
    "# Bag-of-Words"
   ]
  },
  {
   "cell_type": "markdown",
   "metadata": {},
   "source": [
    "* Bag-of-words will be used as a baseline model. \n",
    "* Its advantages are that it is fairly easy and quick to build. \n",
    "* The downside is that bag-of-words does not perserve the order of the sentence. As a result the structure of a sentence is lost. \n",
    "* RNNs & 1D ConvNets will be tried later in order to remedy this."
   ]
  },
  {
   "cell_type": "code",
   "execution_count": 16,
   "metadata": {},
   "outputs": [],
   "source": [
    "sequences_oh, word_index_oh = pd.read_pickle(preprocessed_corpus_path_TF_oh)"
   ]
  },
  {
   "cell_type": "code",
   "execution_count": 17,
   "metadata": {},
   "outputs": [
    {
     "data": {
      "text/plain": [
       "(6364, 10000)"
      ]
     },
     "execution_count": 17,
     "metadata": {},
     "output_type": "execute_result"
    }
   ],
   "source": [
    "sequences_oh.shape"
   ]
  },
  {
   "cell_type": "code",
   "execution_count": 18,
   "metadata": {},
   "outputs": [],
   "source": [
    "data_oh = sequences_oh[indices]"
   ]
  },
  {
   "cell_type": "code",
   "execution_count": 19,
   "metadata": {},
   "outputs": [],
   "source": [
    "x_train_oh = data_oh[:training_samples]\n",
    "y_train_oh = y_train\n",
    "\n",
    "x_val_oh = data_oh[training_samples:]\n",
    "y_val_oh = y_val"
   ]
  },
  {
   "cell_type": "code",
   "execution_count": 20,
   "metadata": {},
   "outputs": [],
   "source": [
    "metrics = [\n",
    "    keras.metrics.CategoricalAccuracy(name='accuracy'),\n",
    "    keras.metrics.Precision(name='precision'),\n",
    "    keras.metrics.Recall(name='recall')]"
   ]
  },
  {
   "cell_type": "markdown",
   "metadata": {},
   "source": [
    "# Fully Connected NN & Bag-of-Words"
   ]
  },
  {
   "cell_type": "code",
   "execution_count": 21,
   "metadata": {},
   "outputs": [
    {
     "name": "stdout",
     "output_type": "stream",
     "text": [
      "Model: \"sequential\"\n",
      "_________________________________________________________________\n",
      "Layer (type)                 Output Shape              Param #   \n",
      "=================================================================\n",
      "dense (Dense)                (None, 16)                160016    \n",
      "_________________________________________________________________\n",
      "dense_1 (Dense)              (None, 16)                272       \n",
      "_________________________________________________________________\n",
      "dense_2 (Dense)              (None, 4)                 68        \n",
      "=================================================================\n",
      "Total params: 160,356\n",
      "Trainable params: 160,356\n",
      "Non-trainable params: 0\n",
      "_________________________________________________________________\n"
     ]
    }
   ],
   "source": [
    "model_bow = models.Sequential()\n",
    "\n",
    "model_bow.add(layers.Dense(16, activation='relu',\n",
    "                           input_shape=(max_words, )))\n",
    "# model_bow.add(layers.Dropout(0.75))\n",
    "model_bow.add(layers.Dense(16, activation='relu'))\n",
    "# model_bow.add(layers.Dropout(0.75))\n",
    "model_bow.add(layers.Dense(dimensions_labels, activation='softmax'))\n",
    "\n",
    "model_bow.summary()\n",
    "\n",
    "model_bow.compile(\n",
    "    optimizer='adam',\n",
    "    loss='categorical_crossentropy',\n",
    "    metrics=metrics\n",
    ")"
   ]
  },
  {
   "cell_type": "code",
   "execution_count": 22,
   "metadata": {},
   "outputs": [
    {
     "name": "stdout",
     "output_type": "stream",
     "text": [
      "Epoch 1/15\n",
      "182/182 [==============================] - 1s 5ms/step - loss: 0.9915 - accuracy: 0.5798 - precision: 0.6398 - recall: 0.3300 - val_loss: 0.8438 - val_accuracy: 0.6418 - val_precision: 0.6676 - val_recall: 0.5601\n",
      "Epoch 2/15\n",
      "182/182 [==============================] - 0s 2ms/step - loss: 0.7384 - accuracy: 0.7109 - precision: 0.7519 - recall: 0.6466 - val_loss: 0.7880 - val_accuracy: 0.6614 - val_precision: 0.6880 - val_recall: 0.6080\n",
      "Epoch 3/15\n",
      "182/182 [==============================] - 0s 2ms/step - loss: 0.5552 - accuracy: 0.7943 - precision: 0.8215 - recall: 0.7586 - val_loss: 0.8150 - val_accuracy: 0.6748 - val_precision: 0.6967 - val_recall: 0.6316\n",
      "Epoch 4/15\n",
      "182/182 [==============================] - 0s 2ms/step - loss: 0.4099 - accuracy: 0.8531 - precision: 0.8717 - recall: 0.8301 - val_loss: 0.8978 - val_accuracy: 0.6756 - val_precision: 0.6878 - val_recall: 0.6473\n",
      "Epoch 5/15\n",
      "182/182 [==============================] - 0s 2ms/step - loss: 0.3179 - accuracy: 0.8853 - precision: 0.9015 - recall: 0.8741 - val_loss: 0.9969 - val_accuracy: 0.6661 - val_precision: 0.6766 - val_recall: 0.6410\n",
      "Epoch 6/15\n",
      "182/182 [==============================] - 0s 2ms/step - loss: 0.2605 - accuracy: 0.9012 - precision: 0.9136 - recall: 0.8931 - val_loss: 1.0459 - val_accuracy: 0.6473 - val_precision: 0.6650 - val_recall: 0.6316\n",
      "Epoch 7/15\n",
      "182/182 [==============================] - 0s 2ms/step - loss: 0.2185 - accuracy: 0.9159 - precision: 0.9255 - recall: 0.9077 - val_loss: 1.1542 - val_accuracy: 0.6489 - val_precision: 0.6637 - val_recall: 0.6339\n",
      "Epoch 8/15\n",
      "182/182 [==============================] - 0s 2ms/step - loss: 0.1903 - accuracy: 0.9267 - precision: 0.9300 - recall: 0.9212 - val_loss: 1.2292 - val_accuracy: 0.6504 - val_precision: 0.6581 - val_recall: 0.6426\n",
      "Epoch 9/15\n",
      "182/182 [==============================] - 0s 2ms/step - loss: 0.1689 - accuracy: 0.9356 - precision: 0.9381 - recall: 0.9313 - val_loss: 1.3035 - val_accuracy: 0.6559 - val_precision: 0.6659 - val_recall: 0.6418\n",
      "Epoch 10/15\n",
      "182/182 [==============================] - 0s 2ms/step - loss: 0.1531 - accuracy: 0.9373 - precision: 0.9388 - recall: 0.9340 - val_loss: 1.3567 - val_accuracy: 0.6481 - val_precision: 0.6546 - val_recall: 0.6386\n",
      "Epoch 11/15\n",
      "182/182 [==============================] - 0s 2ms/step - loss: 0.1465 - accuracy: 0.9362 - precision: 0.9384 - recall: 0.9344 - val_loss: 1.4540 - val_accuracy: 0.6489 - val_precision: 0.6531 - val_recall: 0.6449\n",
      "Epoch 12/15\n",
      "182/182 [==============================] - 0s 2ms/step - loss: 0.1409 - accuracy: 0.9409 - precision: 0.9430 - recall: 0.9387 - val_loss: 1.4274 - val_accuracy: 0.6339 - val_precision: 0.6420 - val_recall: 0.6198\n",
      "Epoch 13/15\n",
      "182/182 [==============================] - 0s 2ms/step - loss: 0.1304 - accuracy: 0.9421 - precision: 0.9438 - recall: 0.9403 - val_loss: 1.4789 - val_accuracy: 0.6512 - val_precision: 0.6552 - val_recall: 0.6418\n",
      "Epoch 14/15\n",
      "182/182 [==============================] - 0s 2ms/step - loss: 0.1241 - accuracy: 0.9436 - precision: 0.9445 - recall: 0.9428 - val_loss: 1.5053 - val_accuracy: 0.6339 - val_precision: 0.6376 - val_recall: 0.6261\n",
      "Epoch 15/15\n",
      "182/182 [==============================] - 0s 2ms/step - loss: 0.1212 - accuracy: 0.9474 - precision: 0.9481 - recall: 0.9464 - val_loss: 1.5510 - val_accuracy: 0.6449 - val_precision: 0.6488 - val_recall: 0.6386\n"
     ]
    }
   ],
   "source": [
    "history_bow = model_bow.fit(\n",
    "    x_train_oh, y_train_oh,\n",
    "    epochs=epochs,\n",
    "    batch_size=batch_size,\n",
    "    validation_data=(x_val_oh, y_val_oh)\n",
    ")"
   ]
  },
  {
   "cell_type": "code",
   "execution_count": 23,
   "metadata": {},
   "outputs": [
    {
     "data": {
      "image/png": "[encoded data removed]",
      "text/plain": [
       "<Figure size 432x288 with 1 Axes>"
      ]
     },
     "metadata": {
      "needs_background": "light"
     },
     "output_type": "display_data"
    },
    {
     "data": {
      "image/png": "[encoded data removed]",
      "text/plain": [
       "<Figure size 432x288 with 1 Axes>"
      ]
     },
     "metadata": {
      "needs_background": "light"
     },
     "output_type": "display_data"
    }
   ],
   "source": [
    "loss_bow = history_bow.history['loss']\n",
    "val_loss_bow = history_bow.history['val_loss']\n",
    "acc_bow = history_bow.history['accuracy']\n",
    "val_acc_bow = history_bow.history['val_accuracy']\n",
    "\n",
    "\n",
    "epochs_graph = range(1, len(acc_bow) + 1)\n",
    "\n",
    "plt.plot(epochs_graph, loss_bow, 'bo', label='Training loss')\n",
    "plt.plot(epochs_graph, val_loss_bow, 'b', label='Validation loss')\n",
    "plt.title('Training and validation loss')\n",
    "plt.legend()\n",
    "\n",
    "plt.figure()\n",
    "\n",
    "plt.plot(epochs_graph, acc_bow, 'bo', label='Training acc')\n",
    "plt.plot(epochs_graph, val_acc_bow, 'b', label='Validation acc')\n",
    "plt.title('Training and validation accuracy')\n",
    "plt.legend()\n",
    "\n",
    "plt.show()"
   ]
  },
  {
   "cell_type": "markdown",
   "metadata": {},
   "source": [
    "# Fully Conneceted NN & Embeddings Layer"
   ]
  },
  {
   "cell_type": "code",
   "execution_count": 24,
   "metadata": {},
   "outputs": [
    {
     "name": "stdout",
     "output_type": "stream",
     "text": [
      "Model: \"sequential_1\"\n",
      "_________________________________________________________________\n",
      "Layer (type)                 Output Shape              Param #   \n",
      "=================================================================\n",
      "embedding (Embedding)        (None, 33, 10)            100010    \n",
      "_________________________________________________________________\n",
      "flatten (Flatten)            (None, 330)               0         \n",
      "_________________________________________________________________\n",
      "dense_3 (Dense)              (None, 32)                10592     \n",
      "_________________________________________________________________\n",
      "dense_4 (Dense)              (None, 32)                1056      \n",
      "_________________________________________________________________\n",
      "dense_5 (Dense)              (None, 4)                 132       \n",
      "=================================================================\n",
      "Total params: 111,790\n",
      "Trainable params: 111,790\n",
      "Non-trainable params: 0\n",
      "_________________________________________________________________\n"
     ]
    }
   ],
   "source": [
    "model_emb = models.Sequential()\n",
    "\n",
    "model_emb.add(layers.Embedding(max_words+1,\n",
    "                               embedding_size, input_length=max_len))\n",
    "model_emb.add(layers.Flatten())\n",
    "model_emb.add(layers.Dense(32, activation='relu'))\n",
    "# model_emb.add(layers.Dropout(0.75))\n",
    "model_emb.add(layers.Dense(32, activation='relu'))\n",
    "# model_emb.add(layers.Dropout(0.75))\n",
    "model_emb.add(layers.Dense(dimensions_labels, activation='softmax'))\n",
    "\n",
    "model_emb.summary()\n",
    "\n",
    "model_emb.compile(\n",
    "    optimizer='adam',\n",
    "    loss='categorical_crossentropy',\n",
    "    metrics=metrics\n",
    ")"
   ]
  },
  {
   "cell_type": "code",
   "execution_count": 25,
   "metadata": {},
   "outputs": [
    {
     "name": "stdout",
     "output_type": "stream",
     "text": [
      "Epoch 1/15\n",
      "182/182 [==============================] - 1s 4ms/step - loss: 0.9827 - accuracy: 0.5987 - precision: 0.6050 - recall: 0.4890 - val_loss: 0.8977 - val_accuracy: 0.5923 - val_precision: 0.5965 - val_recall: 0.5829\n",
      "Epoch 2/15\n",
      "182/182 [==============================] - 0s 2ms/step - loss: 0.8198 - accuracy: 0.6407 - precision: 0.6837 - recall: 0.5779 - val_loss: 0.8521 - val_accuracy: 0.6222 - val_precision: 0.6680 - val_recall: 0.5295\n",
      "Epoch 3/15\n",
      "182/182 [==============================] - 0s 2ms/step - loss: 0.5466 - accuracy: 0.7957 - precision: 0.8291 - recall: 0.7613 - val_loss: 0.9377 - val_accuracy: 0.6198 - val_precision: 0.6352 - val_recall: 0.5813\n",
      "Epoch 4/15\n",
      "182/182 [==============================] - 0s 2ms/step - loss: 0.3326 - accuracy: 0.8810 - precision: 0.8985 - recall: 0.8680 - val_loss: 1.0500 - val_accuracy: 0.6182 - val_precision: 0.6304 - val_recall: 0.5962\n",
      "Epoch 5/15\n",
      "182/182 [==============================] - 0s 2ms/step - loss: 0.2288 - accuracy: 0.9155 - precision: 0.9257 - recall: 0.9108 - val_loss: 1.1558 - val_accuracy: 0.6277 - val_precision: 0.6432 - val_recall: 0.6088\n",
      "Epoch 6/15\n",
      "182/182 [==============================] - 0s 2ms/step - loss: 0.1815 - accuracy: 0.9309 - precision: 0.9373 - recall: 0.9224 - val_loss: 1.2267 - val_accuracy: 0.6190 - val_precision: 0.6331 - val_recall: 0.6127\n",
      "Epoch 7/15\n",
      "182/182 [==============================] - 0s 2ms/step - loss: 0.1574 - accuracy: 0.9393 - precision: 0.9422 - recall: 0.9354 - val_loss: 1.3089 - val_accuracy: 0.6269 - val_precision: 0.6397 - val_recall: 0.6222\n",
      "Epoch 8/15\n",
      "182/182 [==============================] - 0s 2ms/step - loss: 0.1382 - accuracy: 0.9450 - precision: 0.9473 - recall: 0.9430 - val_loss: 1.3687 - val_accuracy: 0.6159 - val_precision: 0.6236 - val_recall: 0.6104\n",
      "Epoch 9/15\n",
      "182/182 [==============================] - 0s 2ms/step - loss: 0.1258 - accuracy: 0.9495 - precision: 0.9509 - recall: 0.9479 - val_loss: 1.3511 - val_accuracy: 0.6159 - val_precision: 0.6210 - val_recall: 0.6049\n",
      "Epoch 10/15\n",
      "182/182 [==============================] - 0s 2ms/step - loss: 0.1186 - accuracy: 0.9505 - precision: 0.9521 - recall: 0.9493 - val_loss: 1.3645 - val_accuracy: 0.6151 - val_precision: 0.6228 - val_recall: 0.6057\n",
      "Epoch 11/15\n",
      "182/182 [==============================] - 0s 2ms/step - loss: 0.1136 - accuracy: 0.9509 - precision: 0.9518 - recall: 0.9501 - val_loss: 1.4163 - val_accuracy: 0.6308 - val_precision: 0.6353 - val_recall: 0.6253\n",
      "Epoch 12/15\n",
      "182/182 [==============================] - 0s 2ms/step - loss: 0.1056 - accuracy: 0.9523 - precision: 0.9524 - recall: 0.9515 - val_loss: 1.4806 - val_accuracy: 0.6379 - val_precision: 0.6433 - val_recall: 0.6332\n",
      "Epoch 13/15\n",
      "182/182 [==============================] - 0s 2ms/step - loss: 0.1033 - accuracy: 0.9548 - precision: 0.9555 - recall: 0.9538 - val_loss: 1.4991 - val_accuracy: 0.6041 - val_precision: 0.6096 - val_recall: 0.6009\n",
      "Epoch 14/15\n",
      "182/182 [==============================] - 0s 2ms/step - loss: 0.0970 - accuracy: 0.9564 - precision: 0.9573 - recall: 0.9560 - val_loss: 1.5112 - val_accuracy: 0.6316 - val_precision: 0.6364 - val_recall: 0.6284\n",
      "Epoch 15/15\n",
      "182/182 [==============================] - 0s 2ms/step - loss: 0.0944 - accuracy: 0.9582 - precision: 0.9585 - recall: 0.9574 - val_loss: 1.5149 - val_accuracy: 0.6269 - val_precision: 0.6315 - val_recall: 0.6245\n"
     ]
    }
   ],
   "source": [
    "history_emb = model_emb.fit(\n",
    "    x_train, y_train,\n",
    "    epochs=epochs,\n",
    "    batch_size=batch_size,\n",
    "    validation_data=(x_val, y_val)\n",
    ")"
   ]
  },
  {
   "cell_type": "code",
   "execution_count": 26,
   "metadata": {},
   "outputs": [
    {
     "data": {
      "image/png": "[encoded data removed]",
      "text/plain": [
       "<Figure size 432x288 with 1 Axes>"
      ]
     },
     "metadata": {
      "needs_background": "light"
     },
     "output_type": "display_data"
    },
    {
     "data": {
      "image/png": "[encoded data removed]",
      "text/plain": [
       "<Figure size 432x288 with 1 Axes>"
      ]
     },
     "metadata": {
      "needs_background": "light"
     },
     "output_type": "display_data"
    }
   ],
   "source": [
    "loss_emb = history_emb.history['loss']\n",
    "val_loss_emb = history_emb.history['val_loss']\n",
    "acc_emb = history_emb.history['accuracy']\n",
    "val_acc_emb = history_emb.history['val_accuracy']\n",
    "\n",
    "\n",
    "epochs_graph = range(1, len(acc_emb) + 1)\n",
    "\n",
    "plt.plot(epochs_graph, loss_emb, 'bo', label='Training loss')\n",
    "plt.plot(epochs_graph, val_loss_emb, 'b', label='Validation loss')\n",
    "plt.title('Training and validation loss')\n",
    "plt.legend()\n",
    "\n",
    "plt.figure()\n",
    "\n",
    "plt.plot(epochs_graph, acc_emb, 'bo', label='Training acc')\n",
    "plt.plot(epochs_graph, val_acc_emb, 'b', label='Validation acc')\n",
    "plt.title('Training and validation accuracy')\n",
    "plt.legend()\n",
    "\n",
    "plt.show()"
   ]
  },
  {
   "cell_type": "markdown",
   "metadata": {},
   "source": [
    "# Fully Conneceted NN & Pre-Trained Embeddings Layer"
   ]
  },
  {
   "cell_type": "code",
   "execution_count": 27,
   "metadata": {},
   "outputs": [],
   "source": [
    "glove_dir = './glove.6B'"
   ]
  },
  {
   "cell_type": "code",
   "execution_count": 28,
   "metadata": {},
   "outputs": [
    {
     "name": "stdout",
     "output_type": "stream",
     "text": [
      "Found 400000 word vectors.\n"
     ]
    }
   ],
   "source": [
    "embeddings_index = {}\n",
    "\n",
    "f = open(os.path.join(glove_dir, 'glove.6B.100d.txt'))\n",
    "for line in f:\n",
    "    values = line.split()\n",
    "    word = values[0]\n",
    "    coefs = np.asarray(values[1:], dtype='float32')\n",
    "    embeddings_index[word] = coefs\n",
    "f.close()\n",
    "\n",
    "print('Found %s word vectors.' % len(embeddings_index))"
   ]
  },
  {
   "cell_type": "code",
   "execution_count": 29,
   "metadata": {},
   "outputs": [
    {
     "name": "stdout",
     "output_type": "stream",
     "text": [
      "(10001, 100)\n"
     ]
    }
   ],
   "source": [
    "embedding_matrix = np.zeros((max_words+1, embedding_dim))\n",
    "\n",
    "for word, i in word_index.items():\n",
    "    if i < max_words:\n",
    "        embedding_vector = embeddings_index.get(word)\n",
    "        if embedding_vector is not None:\n",
    "            embedding_matrix[i] = embedding_vector\n",
    "print(embedding_matrix.shape)"
   ]
  },
  {
   "cell_type": "code",
   "execution_count": 30,
   "metadata": {},
   "outputs": [
    {
     "name": "stdout",
     "output_type": "stream",
     "text": [
      "Model: \"sequential_2\"\n",
      "_________________________________________________________________\n",
      "Layer (type)                 Output Shape              Param #   \n",
      "=================================================================\n",
      "embedding_1 (Embedding)      (None, 33, 100)           1000100   \n",
      "_________________________________________________________________\n",
      "flatten_1 (Flatten)          (None, 3300)              0         \n",
      "_________________________________________________________________\n",
      "dense_6 (Dense)              (None, 16)                52816     \n",
      "_________________________________________________________________\n",
      "dense_7 (Dense)              (None, 16)                272       \n",
      "_________________________________________________________________\n",
      "dense_8 (Dense)              (None, 4)                 68        \n",
      "=================================================================\n",
      "Total params: 1,053,256\n",
      "Trainable params: 53,156\n",
      "Non-trainable params: 1,000,100\n",
      "_________________________________________________________________\n"
     ]
    }
   ],
   "source": [
    "model_transf = models.Sequential()\n",
    "\n",
    "model_transf.add(layers.Embedding(max_words+1,\n",
    "                                  embedding_dim, input_length=max_len))\n",
    "\n",
    "model_transf.add(layers.Flatten())\n",
    "model_transf.add(layers.Dense(16, activation='relu'))\n",
    "# model_transf.add(layers.Dropout(0.75))\n",
    "model_transf.add(layers.Dense(16, activation='relu'))\n",
    "# model_transf.add(layers.Dropout(0.75))\n",
    "model_transf.add(layers.Dense(dimensions_labels, activation='softmax'))\n",
    "\n",
    "model_transf.layers[0].set_weights([embedding_matrix])  # !!!! important !!!!\n",
    "model_transf.layers[0].trainable = False\n",
    "\n",
    "\n",
    "# needed in order to save the weights: https://stackoverflow.com/questions/55908188/this-model-has-not-yet-been-built-error-on-model-summary\n",
    "model_transf.build((max_len,))\n",
    "\n",
    "model_transf.summary()\n",
    "\n",
    "\n",
    "model_transf.compile(\n",
    "    optimizer='adam',\n",
    "    loss='categorical_crossentropy',\n",
    "    metrics=metrics\n",
    ")"
   ]
  },
  {
   "cell_type": "code",
   "execution_count": 31,
   "metadata": {},
   "outputs": [
    {
     "name": "stdout",
     "output_type": "stream",
     "text": [
      "Epoch 1/15\n",
      "182/182 [==============================] - 1s 4ms/step - loss: 0.9260 - accuracy: 0.5973 - precision: 0.6125 - recall: 0.5162 - val_loss: 0.8775 - val_accuracy: 0.5931 - val_precision: 0.6262 - val_recall: 0.5342\n",
      "Epoch 2/15\n",
      "182/182 [==============================] - 0s 2ms/step - loss: 0.8263 - accuracy: 0.6138 - precision: 0.6602 - recall: 0.5091 - val_loss: 0.8679 - val_accuracy: 0.6033 - val_precision: 0.6608 - val_recall: 0.5020\n",
      "Epoch 3/15\n",
      "182/182 [==============================] - 0s 2ms/step - loss: 0.7492 - accuracy: 0.6621 - precision: 0.7043 - recall: 0.5820 - val_loss: 0.8540 - val_accuracy: 0.5947 - val_precision: 0.6337 - val_recall: 0.5192\n",
      "Epoch 4/15\n",
      "182/182 [==============================] - 0s 2ms/step - loss: 0.6726 - accuracy: 0.7111 - precision: 0.7457 - recall: 0.6504 - val_loss: 0.8749 - val_accuracy: 0.6080 - val_precision: 0.6280 - val_recall: 0.5357\n",
      "Epoch 5/15\n",
      "182/182 [==============================] - 0s 2ms/step - loss: 0.5866 - accuracy: 0.7586 - precision: 0.7852 - recall: 0.7103 - val_loss: 0.9197 - val_accuracy: 0.6096 - val_precision: 0.6271 - val_recall: 0.5522\n",
      "Epoch 6/15\n",
      "182/182 [==============================] - 0s 2ms/step - loss: 0.5052 - accuracy: 0.8008 - precision: 0.8220 - recall: 0.7674 - val_loss: 0.9896 - val_accuracy: 0.6041 - val_precision: 0.6260 - val_recall: 0.5758\n",
      "Epoch 7/15\n",
      "182/182 [==============================] - 0s 2ms/step - loss: 0.4352 - accuracy: 0.8295 - precision: 0.8469 - recall: 0.8063 - val_loss: 1.0631 - val_accuracy: 0.5923 - val_precision: 0.6049 - val_recall: 0.5664\n",
      "Epoch 8/15\n",
      "182/182 [==============================] - 0s 2ms/step - loss: 0.3802 - accuracy: 0.8515 - precision: 0.8647 - recall: 0.8321 - val_loss: 1.1468 - val_accuracy: 0.6104 - val_precision: 0.6140 - val_recall: 0.5986\n",
      "Epoch 9/15\n",
      "182/182 [==============================] - 0s 2ms/step - loss: 0.3190 - accuracy: 0.8770 - precision: 0.8887 - recall: 0.8656 - val_loss: 1.2193 - val_accuracy: 0.6088 - val_precision: 0.6159 - val_recall: 0.5970\n",
      "Epoch 10/15\n",
      "182/182 [==============================] - 0s 2ms/step - loss: 0.2743 - accuracy: 0.8977 - precision: 0.9053 - recall: 0.8861 - val_loss: 1.3465 - val_accuracy: 0.6025 - val_precision: 0.6071 - val_recall: 0.5899\n",
      "Epoch 11/15\n",
      "182/182 [==============================] - 0s 2ms/step - loss: 0.2324 - accuracy: 0.9189 - precision: 0.9251 - recall: 0.9102 - val_loss: 1.4802 - val_accuracy: 0.6057 - val_precision: 0.6096 - val_recall: 0.5986\n",
      "Epoch 12/15\n",
      "182/182 [==============================] - 0s 2ms/step - loss: 0.1996 - accuracy: 0.9271 - precision: 0.9310 - recall: 0.9230 - val_loss: 1.5249 - val_accuracy: 0.5994 - val_precision: 0.6051 - val_recall: 0.5923\n",
      "Epoch 13/15\n",
      "182/182 [==============================] - 0s 2ms/step - loss: 0.1705 - accuracy: 0.9450 - precision: 0.9473 - recall: 0.9423 - val_loss: 1.6593 - val_accuracy: 0.5978 - val_precision: 0.6022 - val_recall: 0.5923\n",
      "Epoch 14/15\n",
      "182/182 [==============================] - 0s 2ms/step - loss: 0.1503 - accuracy: 0.9525 - precision: 0.9544 - recall: 0.9487 - val_loss: 1.7455 - val_accuracy: 0.6049 - val_precision: 0.6112 - val_recall: 0.6002\n",
      "Epoch 15/15\n",
      "182/182 [==============================] - 0s 2ms/step - loss: 0.1310 - accuracy: 0.9593 - precision: 0.9606 - recall: 0.9576 - val_loss: 1.9080 - val_accuracy: 0.6002 - val_precision: 0.6027 - val_recall: 0.5947\n"
     ]
    }
   ],
   "source": [
    "history_transf = model_transf.fit(\n",
    "    x_train, y_train,\n",
    "    epochs=epochs,\n",
    "    batch_size=batch_size,\n",
    "    validation_data=(x_val, y_val)\n",
    ")\n",
    "\n",
    "model_transf.save_weights(f'{model_path}_transf')"
   ]
  },
  {
   "cell_type": "code",
   "execution_count": 32,
   "metadata": {},
   "outputs": [
    {
     "data": {
      "image/png": "[encoded data removed]",
      "text/plain": [
       "<Figure size 432x288 with 1 Axes>"
      ]
     },
     "metadata": {
      "needs_background": "light"
     },
     "output_type": "display_data"
    },
    {
     "data": {
      "image/png": "[encoded data removed]",
      "text/plain": [
       "<Figure size 432x288 with 1 Axes>"
      ]
     },
     "metadata": {
      "needs_background": "light"
     },
     "output_type": "display_data"
    }
   ],
   "source": [
    "loss_transf = history_transf.history['loss']\n",
    "val_loss_transf = history_transf.history['val_loss']\n",
    "acc_transf = history_transf.history['accuracy']\n",
    "val_acc_transf = history_transf.history['val_accuracy']\n",
    "\n",
    "\n",
    "epochs_graph = range(1, len(acc_transf) + 1)\n",
    "\n",
    "plt.plot(epochs_graph, loss_transf, 'bo', label='Training loss')\n",
    "plt.plot(epochs_graph, val_loss_transf, 'b', label='Validation loss')\n",
    "plt.title('Training and validation loss')\n",
    "plt.legend()\n",
    "\n",
    "plt.figure()\n",
    "\n",
    "plt.plot(epochs_graph, acc_transf, 'bo', label='Training acc')\n",
    "plt.plot(epochs_graph, val_acc_transf, 'b', label='Validation acc')\n",
    "plt.title('Training and validation accuracy')\n",
    "plt.legend()\n",
    "\n",
    "plt.show()"
   ]
  },
  {
   "cell_type": "markdown",
   "metadata": {},
   "source": [
    "# LSTM"
   ]
  },
  {
   "cell_type": "code",
   "execution_count": 33,
   "metadata": {},
   "outputs": [
    {
     "name": "stdout",
     "output_type": "stream",
     "text": [
      "Model: \"sequential_3\"\n",
      "_________________________________________________________________\n",
      "Layer (type)                 Output Shape              Param #   \n",
      "=================================================================\n",
      "embedding_2 (Embedding)      (None, 33, 100)           1000100   \n",
      "_________________________________________________________________\n",
      "lstm (LSTM)                  (None, 32)                17024     \n",
      "_________________________________________________________________\n",
      "dense_9 (Dense)              (None, 16)                528       \n",
      "_________________________________________________________________\n",
      "dense_10 (Dense)             (None, 16)                272       \n",
      "_________________________________________________________________\n",
      "dense_11 (Dense)             (None, 4)                 68        \n",
      "=================================================================\n",
      "Total params: 1,017,992\n",
      "Trainable params: 17,892\n",
      "Non-trainable params: 1,000,100\n",
      "_________________________________________________________________\n"
     ]
    }
   ],
   "source": [
    "model_lstm = models.Sequential()\n",
    "\n",
    "model_lstm.add(layers.Embedding(max_words+1,\n",
    "                                embedding_dim, input_length=max_len))\n",
    "\n",
    "# model_lstm.add(layers.Flatten())\n",
    "# Option 1\n",
    "model_lstm.add(layers.LSTM(32))\n",
    "\n",
    "# Option 2\n",
    "# model.add(layers.LSTM(32, return_sequences=True)) # stacking of LSTMs\n",
    "# model.add(layers.LSTM(32)) # the size of the hidden state, randomly defined\n",
    "model_lstm.add(layers.Dense(16, activation='relu'))\n",
    "# model_lstm.add(layers.Dropout(0.5))\n",
    "model_lstm.add(layers.Dense(16, activation='relu'))\n",
    "# model_lstm.add(layers.Dropout(0.5))\n",
    "model_lstm.add(layers.Dense(dimensions_labels, activation='softmax'))\n",
    "\n",
    "model_lstm.layers[0].set_weights([embedding_matrix])  # !!!! important !!!!\n",
    "model_lstm.layers[0].trainable = False\n",
    "\n",
    "model_lstm.summary()\n",
    "\n",
    "model_lstm.compile(\n",
    "    optimizer='adam',\n",
    "    loss='categorical_crossentropy',\n",
    "    metrics=metrics\n",
    ")"
   ]
  },
  {
   "cell_type": "code",
   "execution_count": 34,
   "metadata": {},
   "outputs": [
    {
     "name": "stdout",
     "output_type": "stream",
     "text": [
      "Epoch 1/15\n",
      "182/182 [==============================] - 3s 15ms/step - loss: 0.9378 - accuracy: 0.5913 - precision: 0.6090 - recall: 0.4995 - val_loss: 0.8744 - val_accuracy: 0.6017 - val_precision: 0.6437 - val_recall: 0.5279\n",
      "Epoch 2/15\n",
      "182/182 [==============================] - 2s 13ms/step - loss: 0.8692 - accuracy: 0.6093 - precision: 0.6602 - recall: 0.4911 - val_loss: 0.8566 - val_accuracy: 0.6182 - val_precision: 0.6995 - val_recall: 0.4517\n",
      "Epoch 3/15\n",
      "182/182 [==============================] - 2s 11ms/step - loss: 0.8426 - accuracy: 0.6290 - precision: 0.6841 - recall: 0.5050 - val_loss: 0.8279 - val_accuracy: 0.6316 - val_precision: 0.6979 - val_recall: 0.5208\n",
      "Epoch 4/15\n",
      "182/182 [==============================] - 2s 11ms/step - loss: 0.8150 - accuracy: 0.6433 - precision: 0.6966 - recall: 0.5341 - val_loss: 0.8394 - val_accuracy: 0.6104 - val_precision: 0.6381 - val_recall: 0.5789\n",
      "Epoch 5/15\n",
      "182/182 [==============================] - 2s 11ms/step - loss: 0.7987 - accuracy: 0.6519 - precision: 0.7014 - recall: 0.5626 - val_loss: 0.8082 - val_accuracy: 0.6489 - val_precision: 0.7059 - val_recall: 0.5562\n",
      "Epoch 6/15\n",
      "182/182 [==============================] - 2s 11ms/step - loss: 0.7754 - accuracy: 0.6629 - precision: 0.7118 - recall: 0.5918 - val_loss: 0.8218 - val_accuracy: 0.6441 - val_precision: 0.6575 - val_recall: 0.6033\n",
      "Epoch 7/15\n",
      "182/182 [==============================] - 2s 11ms/step - loss: 0.7481 - accuracy: 0.6763 - precision: 0.7266 - recall: 0.6075 - val_loss: 0.8197 - val_accuracy: 0.6206 - val_precision: 0.6554 - val_recall: 0.5648\n",
      "Epoch 8/15\n",
      "182/182 [==============================] - 2s 12ms/step - loss: 0.7219 - accuracy: 0.6979 - precision: 0.7369 - recall: 0.6238 - val_loss: 0.8043 - val_accuracy: 0.6559 - val_precision: 0.6980 - val_recall: 0.6009\n",
      "Epoch 9/15\n",
      "182/182 [==============================] - 2s 11ms/step - loss: 0.6977 - accuracy: 0.7044 - precision: 0.7416 - recall: 0.6466 - val_loss: 0.8024 - val_accuracy: 0.6583 - val_precision: 0.6959 - val_recall: 0.5805\n",
      "Epoch 10/15\n",
      "182/182 [==============================] - 3s 15ms/step - loss: 0.6712 - accuracy: 0.7234 - precision: 0.7580 - recall: 0.6718 - val_loss: 0.8180 - val_accuracy: 0.6292 - val_precision: 0.6769 - val_recall: 0.5727\n",
      "Epoch 11/15\n",
      "182/182 [==============================] - 3s 16ms/step - loss: 0.6472 - accuracy: 0.7331 - precision: 0.7687 - recall: 0.6853 - val_loss: 0.8810 - val_accuracy: 0.6504 - val_precision: 0.6590 - val_recall: 0.6332\n",
      "Epoch 12/15\n",
      "182/182 [==============================] - 3s 14ms/step - loss: 0.6170 - accuracy: 0.7494 - precision: 0.7813 - recall: 0.7081 - val_loss: 0.8550 - val_accuracy: 0.6496 - val_precision: 0.6681 - val_recall: 0.6229\n",
      "Epoch 13/15\n",
      "182/182 [==============================] - 2s 13ms/step - loss: 0.5887 - accuracy: 0.7633 - precision: 0.7943 - recall: 0.7280 - val_loss: 0.8310 - val_accuracy: 0.6661 - val_precision: 0.6786 - val_recall: 0.6418\n",
      "Epoch 14/15\n",
      "182/182 [==============================] - 2s 13ms/step - loss: 0.5580 - accuracy: 0.7757 - precision: 0.8065 - recall: 0.7425 - val_loss: 0.8473 - val_accuracy: 0.6551 - val_precision: 0.6768 - val_recall: 0.6151\n",
      "Epoch 15/15\n",
      "182/182 [==============================] - 2s 13ms/step - loss: 0.5350 - accuracy: 0.7881 - precision: 0.8129 - recall: 0.7570 - val_loss: 0.9036 - val_accuracy: 0.6402 - val_precision: 0.6493 - val_recall: 0.6167\n"
     ]
    }
   ],
   "source": [
    "history_lstm = model_lstm.fit(\n",
    "    x_train, y_train,\n",
    "    epochs=epochs,\n",
    "    batch_size=batch_size,\n",
    "    validation_data=(x_val, y_val)\n",
    ")"
   ]
  },
  {
   "cell_type": "code",
   "execution_count": 35,
   "metadata": {},
   "outputs": [
    {
     "data": {
      "image/png": "[encoded data removed]",
      "text/plain": [
       "<Figure size 432x288 with 1 Axes>"
      ]
     },
     "metadata": {
      "needs_background": "light"
     },
     "output_type": "display_data"
    },
    {
     "data": {
      "image/png": "[encoded data removed]",
      "text/plain": [
       "<Figure size 432x288 with 1 Axes>"
      ]
     },
     "metadata": {
      "needs_background": "light"
     },
     "output_type": "display_data"
    }
   ],
   "source": [
    "loss_lstm = history_lstm.history['loss']\n",
    "val_loss_lstm = history_lstm.history['val_loss']\n",
    "acc_lstm = history_lstm.history['accuracy']\n",
    "val_acc_lstm = history_lstm.history['val_accuracy']\n",
    "\n",
    "\n",
    "epochs_graph = range(1, len(acc_lstm) + 1)\n",
    "\n",
    "plt.plot(epochs_graph, loss_lstm, 'bo', label='Training loss')\n",
    "plt.plot(epochs_graph, val_loss_lstm, 'b', label='Validation loss')\n",
    "plt.title('Training and validation loss')\n",
    "plt.legend()\n",
    "\n",
    "plt.figure()\n",
    "\n",
    "plt.plot(epochs_graph, acc_lstm, 'bo', label='Training acc')\n",
    "plt.plot(epochs_graph, val_acc_lstm, 'b', label='Validation acc')\n",
    "plt.title('Training and validation accuracy')\n",
    "plt.legend()\n",
    "\n",
    "plt.show()"
   ]
  },
  {
   "cell_type": "markdown",
   "metadata": {},
   "source": [
    "# 1D Convolutional NN"
   ]
  },
  {
   "cell_type": "code",
   "execution_count": 36,
   "metadata": {},
   "outputs": [
    {
     "name": "stdout",
     "output_type": "stream",
     "text": [
      "Model: \"sequential_4\"\n",
      "_________________________________________________________________\n",
      "Layer (type)                 Output Shape              Param #   \n",
      "=================================================================\n",
      "embedding_3 (Embedding)      (None, 33, 100)           1000100   \n",
      "_________________________________________________________________\n",
      "conv1d (Conv1D)              (None, 29, 32)            16032     \n",
      "_________________________________________________________________\n",
      "conv1d_1 (Conv1D)            (None, 25, 32)            5152      \n",
      "_________________________________________________________________\n",
      "global_max_pooling1d (Global (None, 32)                0         \n",
      "_________________________________________________________________\n",
      "dense_12 (Dense)             (None, 4)                 132       \n",
      "=================================================================\n",
      "Total params: 1,021,416\n",
      "Trainable params: 21,316\n",
      "Non-trainable params: 1,000,100\n",
      "_________________________________________________________________\n"
     ]
    }
   ],
   "source": [
    "model_conv1d = models.Sequential()\n",
    "\n",
    "model_conv1d.add(layers.Embedding(max_words+1,\n",
    "                                  embedding_dim, input_length=max_len))\n",
    "\n",
    "model_conv1d.add(layers.Conv1D(\n",
    "    32,  # features to be extracted\n",
    "    5,  # convolutional window size\n",
    "    activation='relu',\n",
    "))\n",
    "# model_conv1d.add(layers.MaxPooling1D(3))\n",
    "model_conv1d.add(layers.Conv1D(32, 5, activation='relu'))\n",
    "model_conv1d.add(layers.GlobalMaxPooling1D())\n",
    "model_conv1d.add(layers.Dense(dimensions_labels, activation='softmax'))\n",
    "\n",
    "model_conv1d.layers[0].set_weights([embedding_matrix])  # !!!! important !!!!\n",
    "model_conv1d.layers[0].trainable = False\n",
    "\n",
    "model_conv1d.summary()\n",
    "\n",
    "model_conv1d.compile(\n",
    "    optimizer='adam',\n",
    "    loss='categorical_crossentropy',\n",
    "    metrics=metrics\n",
    ")"
   ]
  },
  {
   "cell_type": "code",
   "execution_count": 37,
   "metadata": {},
   "outputs": [
    {
     "name": "stdout",
     "output_type": "stream",
     "text": [
      "Epoch 1/15\n",
      "182/182 [==============================] - 1s 8ms/step - loss: 0.9176 - accuracy: 0.5996 - precision: 0.6231 - recall: 0.5346 - val_loss: 0.8785 - val_accuracy: 0.6080 - val_precision: 0.6667 - val_recall: 0.4603\n",
      "Epoch 2/15\n",
      "182/182 [==============================] - 1s 5ms/step - loss: 0.8187 - accuracy: 0.6447 - precision: 0.6822 - recall: 0.5647 - val_loss: 0.8584 - val_accuracy: 0.6151 - val_precision: 0.6410 - val_recall: 0.5750\n",
      "Epoch 3/15\n",
      "182/182 [==============================] - 1s 4ms/step - loss: 0.7405 - accuracy: 0.6865 - precision: 0.7299 - recall: 0.6180 - val_loss: 0.8267 - val_accuracy: 0.6324 - val_precision: 0.6567 - val_recall: 0.5695\n",
      "Epoch 4/15\n",
      "182/182 [==============================] - 1s 5ms/step - loss: 0.6702 - accuracy: 0.7303 - precision: 0.7710 - recall: 0.6678 - val_loss: 0.8350 - val_accuracy: 0.6253 - val_precision: 0.6433 - val_recall: 0.5994\n",
      "Epoch 5/15\n",
      "182/182 [==============================] - 1s 5ms/step - loss: 0.5962 - accuracy: 0.7665 - precision: 0.8005 - recall: 0.7179 - val_loss: 0.8464 - val_accuracy: 0.6253 - val_precision: 0.6499 - val_recall: 0.5774\n",
      "Epoch 6/15\n",
      "182/182 [==============================] - 1s 6ms/step - loss: 0.5304 - accuracy: 0.8024 - precision: 0.8347 - recall: 0.7606 - val_loss: 0.8774 - val_accuracy: 0.6332 - val_precision: 0.6634 - val_recall: 0.5852\n",
      "Epoch 7/15\n",
      "182/182 [==============================] - 1s 5ms/step - loss: 0.4709 - accuracy: 0.8269 - precision: 0.8571 - recall: 0.7941 - val_loss: 0.8899 - val_accuracy: 0.6426 - val_precision: 0.6631 - val_recall: 0.6245\n",
      "Epoch 8/15\n",
      "182/182 [==============================] - 1s 5ms/step - loss: 0.4096 - accuracy: 0.8546 - precision: 0.8855 - recall: 0.8277 - val_loss: 0.9062 - val_accuracy: 0.6292 - val_precision: 0.6427 - val_recall: 0.6104\n",
      "Epoch 9/15\n",
      "182/182 [==============================] - 1s 6ms/step - loss: 0.3595 - accuracy: 0.8788 - precision: 0.9024 - recall: 0.8537 - val_loss: 0.9402 - val_accuracy: 0.6496 - val_precision: 0.6581 - val_recall: 0.6214\n",
      "Epoch 10/15\n",
      "182/182 [==============================] - 1s 5ms/step - loss: 0.3161 - accuracy: 0.8880 - precision: 0.9073 - recall: 0.8668 - val_loss: 0.9496 - val_accuracy: 0.6261 - val_precision: 0.6466 - val_recall: 0.5907\n",
      "Epoch 11/15\n",
      "182/182 [==============================] - 1s 5ms/step - loss: 0.2791 - accuracy: 0.9108 - precision: 0.9257 - recall: 0.8914 - val_loss: 1.0464 - val_accuracy: 0.6033 - val_precision: 0.6111 - val_recall: 0.5899\n",
      "Epoch 12/15\n",
      "182/182 [==============================] - 1s 5ms/step - loss: 0.2426 - accuracy: 0.9271 - precision: 0.9387 - recall: 0.9120 - val_loss: 1.0368 - val_accuracy: 0.6465 - val_precision: 0.6547 - val_recall: 0.6182\n",
      "Epoch 13/15\n",
      "182/182 [==============================] - 1s 5ms/step - loss: 0.2080 - accuracy: 0.9393 - precision: 0.9459 - recall: 0.9277 - val_loss: 1.0931 - val_accuracy: 0.6583 - val_precision: 0.6626 - val_recall: 0.6434\n",
      "Epoch 14/15\n",
      "182/182 [==============================] - 1s 5ms/step - loss: 0.1840 - accuracy: 0.9487 - precision: 0.9546 - recall: 0.9383 - val_loss: 1.1067 - val_accuracy: 0.6300 - val_precision: 0.6472 - val_recall: 0.6182\n",
      "Epoch 15/15\n",
      "182/182 [==============================] - 1s 5ms/step - loss: 0.1688 - accuracy: 0.9476 - precision: 0.9520 - recall: 0.9436 - val_loss: 1.2064 - val_accuracy: 0.6222 - val_precision: 0.6268 - val_recall: 0.6135\n"
     ]
    }
   ],
   "source": [
    "history_conv1d = model_conv1d.fit(\n",
    "    x_train, y_train,\n",
    "    epochs=epochs,\n",
    "    batch_size=batch_size,\n",
    "    validation_data=(x_val, y_val)\n",
    ")"
   ]
  },
  {
   "cell_type": "code",
   "execution_count": 38,
   "metadata": {},
   "outputs": [
    {
     "data": {
      "image/png": "[encoded data removed]",
      "text/plain": [
       "<Figure size 432x288 with 1 Axes>"
      ]
     },
     "metadata": {
      "needs_background": "light"
     },
     "output_type": "display_data"
    },
    {
     "data": {
      "image/png": "[encoded data removed]",
      "text/plain": [
       "<Figure size 432x288 with 1 Axes>"
      ]
     },
     "metadata": {
      "needs_background": "light"
     },
     "output_type": "display_data"
    }
   ],
   "source": [
    "loss_conv1d = history_conv1d.history['loss']\n",
    "val_loss_conv1d = history_conv1d.history['val_loss']\n",
    "acc_conv1d = history_conv1d.history['accuracy']\n",
    "val_acc_conv1d = history_conv1d.history['val_accuracy']\n",
    "\n",
    "\n",
    "epochs_graph = range(1, len(acc_conv1d) + 1)\n",
    "\n",
    "plt.plot(epochs_graph, loss_conv1d, 'bo', label='Training loss')\n",
    "plt.plot(epochs_graph, val_loss_conv1d, 'b', label='Validation loss')\n",
    "plt.title('Training and validation loss')\n",
    "plt.legend()\n",
    "\n",
    "plt.figure()\n",
    "\n",
    "plt.plot(epochs_graph, acc_conv1d, 'bo', label='Training acc')\n",
    "plt.plot(epochs_graph, val_acc_conv1d, 'b', label='Validation acc')\n",
    "plt.title('Training and validation accuracy')\n",
    "plt.legend()\n",
    "\n",
    "plt.show()"
   ]
  },
  {
   "cell_type": "markdown",
   "metadata": {},
   "source": [
    "With a regular validation and wihtout any regularisation bag-of-words seems to have the best performance on the validation set. \n",
    "However, all of them are highly overfitting. \n",
    "\n",
    "As a next step, I am going to evaluate the models with cross-validation due to the low volume of data we have."
   ]
  },
  {
   "cell_type": "code",
   "execution_count": 39,
   "metadata": {},
   "outputs": [],
   "source": [
    "def with_cross_val(k, model, train_data, train_targets, epochs, batch_size):\n",
    "    \"\"\"\n",
    "    This function applies a k-fold cross-validation.\n",
    "    Args: \n",
    "        - k - number of folds\n",
    "        - model - which model is to be used\n",
    "        - train_data - the tokenised, padded and shuffled sequences\n",
    "        - train_targets - labels \n",
    "        - epochs - number of epochs\n",
    "        - batch_size - batch size\n",
    "\n",
    "    Returns:\n",
    "        - all_histories_acc - accuracy for all epochs and folds\n",
    "        - all_histories_prec - precision for all epochs and folds\n",
    "        - all_histories_rec - recall for all epochs and folds\n",
    "\n",
    "    \"\"\"\n",
    "    num_val_samples = len(train_data) // k\n",
    "    all_histories_acc = []\n",
    "    all_histories_prec = []\n",
    "    all_histories_rec = []\n",
    "\n",
    "    for i in range(k):\n",
    "        print('processing fold #', i)\n",
    "        val_data = train_data[i * num_val_samples:(i + 1) * num_val_samples]\n",
    "        val_targets = train_targets[i *\n",
    "                                    num_val_samples:(i + 1) * num_val_samples]\n",
    "\n",
    "        partial_train_data = np.concatenate(\n",
    "            [train_data[:i * num_val_samples],\n",
    "             train_data[(i + 1) * num_val_samples:]],\n",
    "            axis=0)\n",
    "\n",
    "        partial_train_targets = np.concatenate(\n",
    "            [train_targets[:i * num_val_samples],\n",
    "             train_targets[(i + 1) * num_val_samples:]],\n",
    "            axis=0\n",
    "        )\n",
    "\n",
    "        #model = build_model()\n",
    "        history = model.fit(\n",
    "            partial_train_data, partial_train_targets,\n",
    "            epochs=epochs,\n",
    "            batch_size=batch_size,\n",
    "            verbose=0,\n",
    "            validation_data=(val_data, val_targets)\n",
    "        )\n",
    "\n",
    "        metric_history_acc = history.history['val_accuracy']\n",
    "        all_histories_acc.append(metric_history_acc)\n",
    "\n",
    "        metric_history_prec = history.history['val_precision']\n",
    "        all_histories_prec.append(metric_history_prec)\n",
    "\n",
    "        metric_history_rec = history.history['val_recall']\n",
    "        all_histories_rec.append(metric_history_rec)\n",
    "\n",
    "    return all_histories_acc, all_histories_prec, all_histories_rec"
   ]
  },
  {
   "cell_type": "code",
   "execution_count": 57,
   "metadata": {},
   "outputs": [
    {
     "name": "stdout",
     "output_type": "stream",
     "text": [
      "processing fold # 0\n",
      "processing fold # 1\n",
      "processing fold # 2\n",
      "processing fold # 3\n"
     ]
    }
   ],
   "source": [
    "all_histories_acc_bow, all_histories_prec_bow, all_histories_rec_bow = with_cross_val(\n",
    "    k=4,\n",
    "    model=model_bow,\n",
    "    train_data=data_oh,\n",
    "    train_targets=labels_encoded,\n",
    "    epochs=epochs,\n",
    "    batch_size=batch_size)"
   ]
  },
  {
   "cell_type": "code",
   "execution_count": 63,
   "metadata": {},
   "outputs": [
    {
     "data": {
      "text/plain": [
       "0.9102765619754791"
      ]
     },
     "execution_count": 63,
     "metadata": {},
     "output_type": "execute_result"
    }
   ],
   "source": [
    "average_acc_history_bow = [\n",
    "    np.mean([x[i] for x in all_histories_acc_bow]) for i in range(epochs)]\n",
    "average_acc_history_bow[-1]"
   ]
  },
  {
   "cell_type": "code",
   "execution_count": 59,
   "metadata": {},
   "outputs": [
    {
     "data": {
      "image/png": "[encoded data removed]",
      "text/plain": [
       "<Figure size 432x288 with 1 Axes>"
      ]
     },
     "metadata": {
      "needs_background": "light"
     },
     "output_type": "display_data"
    }
   ],
   "source": [
    "plt.plot(range(1, len(average_acc_history_bow) + 1), average_acc_history_bow)\n",
    "plt.xlabel('Epochs')\n",
    "plt.ylabel('Validation Acc')\n",
    "plt.show()"
   ]
  },
  {
   "cell_type": "code",
   "execution_count": 43,
   "metadata": {},
   "outputs": [
    {
     "name": "stdout",
     "output_type": "stream",
     "text": [
      "processing fold # 0\n",
      "processing fold # 1\n",
      "processing fold # 2\n",
      "processing fold # 3\n"
     ]
    }
   ],
   "source": [
    "all_histories_acc_emb, all_histories_prec_emb, all_histories_rec_emb = with_cross_val(\n",
    "    k=4,\n",
    "    model=model_emb,\n",
    "    train_data=data,\n",
    "    train_targets=labels_encoded,\n",
    "    epochs=epochs,\n",
    "    batch_size=batch_size)"
   ]
  },
  {
   "cell_type": "code",
   "execution_count": 64,
   "metadata": {},
   "outputs": [
    {
     "data": {
      "text/plain": [
       "0.9428032636642456"
      ]
     },
     "execution_count": 64,
     "metadata": {},
     "output_type": "execute_result"
    }
   ],
   "source": [
    "average_acc_history_emb = [\n",
    "    np.mean([x[i] for x in all_histories_acc_emb]) for i in range(epochs)]\n",
    "average_acc_history_emb[-1]"
   ]
  },
  {
   "cell_type": "code",
   "execution_count": 45,
   "metadata": {},
   "outputs": [
    {
     "data": {
      "image/png": "[encoded data removed]",
      "text/plain": [
       "<Figure size 432x288 with 1 Axes>"
      ]
     },
     "metadata": {
      "needs_background": "light"
     },
     "output_type": "display_data"
    }
   ],
   "source": [
    "plt.plot(range(1, len(average_acc_history_emb) + 1), average_acc_history_emb)\n",
    "plt.xlabel('Epochs')\n",
    "plt.ylabel('Validation Acc')\n",
    "plt.show()"
   ]
  },
  {
   "cell_type": "code",
   "execution_count": 46,
   "metadata": {},
   "outputs": [
    {
     "name": "stdout",
     "output_type": "stream",
     "text": [
      "processing fold # 0\n",
      "processing fold # 1\n",
      "processing fold # 2\n",
      "processing fold # 3\n"
     ]
    }
   ],
   "source": [
    "all_histories_acc_transf, all_histories_prec_transf, all_histories_rec_transf = with_cross_val(\n",
    "    k=4,\n",
    "    model=model_transf,\n",
    "    train_data=data,\n",
    "    train_targets=labels_encoded,\n",
    "    epochs=epochs,\n",
    "    batch_size=batch_size)"
   ]
  },
  {
   "cell_type": "code",
   "execution_count": 65,
   "metadata": {},
   "outputs": [
    {
     "data": {
      "text/plain": [
       "0.8841923326253891"
      ]
     },
     "execution_count": 65,
     "metadata": {},
     "output_type": "execute_result"
    }
   ],
   "source": [
    "average_acc_history_transf = [\n",
    "    np.mean([x[i] for x in all_histories_acc_transf]) for i in range(epochs)]\n",
    "average_acc_history_transf[-1]"
   ]
  },
  {
   "cell_type": "code",
   "execution_count": 48,
   "metadata": {},
   "outputs": [
    {
     "data": {
      "image/png": "[encoded data removed]",
      "text/plain": [
       "<Figure size 432x288 with 1 Axes>"
      ]
     },
     "metadata": {
      "needs_background": "light"
     },
     "output_type": "display_data"
    }
   ],
   "source": [
    "plt.plot(range(1, len(average_acc_history_transf) + 1),\n",
    "         average_acc_history_transf)\n",
    "plt.xlabel('Epochs')\n",
    "plt.ylabel('Validation Acc')\n",
    "plt.show()"
   ]
  },
  {
   "cell_type": "code",
   "execution_count": 49,
   "metadata": {},
   "outputs": [
    {
     "name": "stdout",
     "output_type": "stream",
     "text": [
      "processing fold # 0\n",
      "processing fold # 1\n",
      "processing fold # 2\n",
      "processing fold # 3\n"
     ]
    }
   ],
   "source": [
    "all_histories_acc_lstm, all_histories_prec_lstm, all_histories_rec_lstm = with_cross_val(\n",
    "    k=4,\n",
    "    model=model_lstm,\n",
    "    train_data=data,\n",
    "    train_targets=labels_encoded,\n",
    "    epochs=epochs,\n",
    "    batch_size=batch_size)"
   ]
  },
  {
   "cell_type": "code",
   "execution_count": 67,
   "metadata": {},
   "outputs": [
    {
     "data": {
      "text/plain": [
       "0.9297611564397812"
      ]
     },
     "execution_count": 67,
     "metadata": {},
     "output_type": "execute_result"
    }
   ],
   "source": [
    "average_acc_history_lstm = [\n",
    "    np.mean([x[i] for x in all_histories_acc_lstm]) for i in range(epochs)]\n",
    "average_acc_history_lstm[-1]"
   ]
  },
  {
   "cell_type": "code",
   "execution_count": 51,
   "metadata": {},
   "outputs": [
    {
     "data": {
      "image/png": "[encoded data removed]",
      "text/plain": [
       "<Figure size 432x288 with 1 Axes>"
      ]
     },
     "metadata": {
      "needs_background": "light"
     },
     "output_type": "display_data"
    }
   ],
   "source": [
    "plt.plot(range(1, len(average_acc_history_lstm) + 1), average_acc_history_lstm)\n",
    "plt.xlabel('Epochs')\n",
    "plt.ylabel('Validation Acc')\n",
    "plt.show()"
   ]
  },
  {
   "cell_type": "code",
   "execution_count": 52,
   "metadata": {},
   "outputs": [
    {
     "name": "stdout",
     "output_type": "stream",
     "text": [
      "processing fold # 0\n",
      "processing fold # 1\n",
      "processing fold # 2\n",
      "processing fold # 3\n"
     ]
    }
   ],
   "source": [
    "all_histories_acc_conv1d, all_histories_prec_conv1d, all_histories_rec_conv1d = with_cross_val(\n",
    "    k=4,\n",
    "    model=model_conv1d,\n",
    "    train_data=data,\n",
    "    train_targets=labels_encoded,\n",
    "    epochs=epochs,\n",
    "    batch_size=batch_size)"
   ]
  },
  {
   "cell_type": "code",
   "execution_count": 68,
   "metadata": {},
   "outputs": [
    {
     "data": {
      "text/plain": [
       "0.890949085354805"
      ]
     },
     "execution_count": 68,
     "metadata": {},
     "output_type": "execute_result"
    }
   ],
   "source": [
    "average_acc_history_conv1d = [\n",
    "    np.mean([x[i] for x in all_histories_acc_conv1d]) for i in range(epochs)]\n",
    "average_acc_history_conv1d[-1]"
   ]
  },
  {
   "cell_type": "code",
   "execution_count": 54,
   "metadata": {},
   "outputs": [
    {
     "data": {
      "image/png": "[encoded data removed]",
      "text/plain": [
       "<Figure size 432x288 with 1 Axes>"
      ]
     },
     "metadata": {
      "needs_background": "light"
     },
     "output_type": "display_data"
    }
   ],
   "source": [
    "plt.plot(range(1, len(average_acc_history_conv1d) + 1),\n",
    "         average_acc_history_conv1d)\n",
    "plt.xlabel('Epochs')\n",
    "plt.ylabel('Validation Acc')\n",
    "plt.show()"
   ]
  },
  {
   "cell_type": "code",
   "execution_count": null,
   "metadata": {},
   "outputs": [],
   "source": []
  }
 ],
 "metadata": {
  "kernelspec": {
   "display_name": "nlp-sent",
   "language": "python",
   "name": "nlp-sent"
  },
  "language_info": {
   "codemirror_mode": {
    "name": "ipython",
    "version": 3
   },
   "file_extension": ".py",
   "mimetype": "text/x-python",
   "name": "python",
   "nbconvert_exporter": "python",
   "pygments_lexer": "ipython3",
   "version": "3.6.12"
  }
 },
 "nbformat": 4,
 "nbformat_minor": 4
}
